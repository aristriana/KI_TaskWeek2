{
  "cells": [
    {
      "cell_type": "markdown",
      "metadata": {
        "id": "view-in-github",
        "colab_type": "text"
      },
      "source": [
        "<a href=\"https://colab.research.google.com/github/aristriana/KI_Tasks/blob/main/TaskWeek4.ipynb\" target=\"_parent\"><img src=\"https://colab.research.google.com/assets/colab-badge.svg\" alt=\"Open In Colab\"/></a>"
      ]
    },
    {
      "cell_type": "markdown",
      "metadata": {
        "id": "c522d716"
      },
      "source": [
        "Nama: Aristriana Muhamad<br>\n",
        "NPM: 2106709043"
      ]
    },
    {
      "cell_type": "code",
      "execution_count": null,
      "metadata": {
        "colab": {
          "base_uri": "https://localhost:8080/"
        },
        "id": "270c2008",
        "outputId": "baa63117-257b-4d91-ff96-0854afa3e546"
      },
      "outputs": [
        {
          "output_type": "stream",
          "name": "stdout",
          "text": [
            "Requirement already satisfied: d2l==1.0.3 in /usr/local/lib/python3.10/dist-packages (1.0.3)\n",
            "Requirement already satisfied: jupyter==1.0.0 in /usr/local/lib/python3.10/dist-packages (from d2l==1.0.3) (1.0.0)\n",
            "Requirement already satisfied: numpy==1.23.5 in /usr/local/lib/python3.10/dist-packages (from d2l==1.0.3) (1.23.5)\n",
            "Requirement already satisfied: matplotlib==3.7.2 in /usr/local/lib/python3.10/dist-packages (from d2l==1.0.3) (3.7.2)\n",
            "Requirement already satisfied: matplotlib-inline==0.1.6 in /usr/local/lib/python3.10/dist-packages (from d2l==1.0.3) (0.1.6)\n",
            "Requirement already satisfied: requests==2.31.0 in /usr/local/lib/python3.10/dist-packages (from d2l==1.0.3) (2.31.0)\n",
            "Requirement already satisfied: pandas==2.0.3 in /usr/local/lib/python3.10/dist-packages (from d2l==1.0.3) (2.0.3)\n",
            "Requirement already satisfied: scipy==1.10.1 in /usr/local/lib/python3.10/dist-packages (from d2l==1.0.3) (1.10.1)\n",
            "Requirement already satisfied: notebook in /usr/local/lib/python3.10/dist-packages (from jupyter==1.0.0->d2l==1.0.3) (6.5.5)\n",
            "Requirement already satisfied: qtconsole in /usr/local/lib/python3.10/dist-packages (from jupyter==1.0.0->d2l==1.0.3) (5.6.0)\n",
            "Requirement already satisfied: jupyter-console in /usr/local/lib/python3.10/dist-packages (from jupyter==1.0.0->d2l==1.0.3) (6.1.0)\n",
            "Requirement already satisfied: nbconvert in /usr/local/lib/python3.10/dist-packages (from jupyter==1.0.0->d2l==1.0.3) (6.5.4)\n",
            "Requirement already satisfied: ipykernel in /usr/local/lib/python3.10/dist-packages (from jupyter==1.0.0->d2l==1.0.3) (5.5.6)\n",
            "Requirement already satisfied: ipywidgets in /usr/local/lib/python3.10/dist-packages (from jupyter==1.0.0->d2l==1.0.3) (7.7.1)\n",
            "Requirement already satisfied: contourpy>=1.0.1 in /usr/local/lib/python3.10/dist-packages (from matplotlib==3.7.2->d2l==1.0.3) (1.3.0)\n",
            "Requirement already satisfied: cycler>=0.10 in /usr/local/lib/python3.10/dist-packages (from matplotlib==3.7.2->d2l==1.0.3) (0.12.1)\n",
            "Requirement already satisfied: fonttools>=4.22.0 in /usr/local/lib/python3.10/dist-packages (from matplotlib==3.7.2->d2l==1.0.3) (4.54.1)\n",
            "Requirement already satisfied: kiwisolver>=1.0.1 in /usr/local/lib/python3.10/dist-packages (from matplotlib==3.7.2->d2l==1.0.3) (1.4.7)\n",
            "Requirement already satisfied: packaging>=20.0 in /usr/local/lib/python3.10/dist-packages (from matplotlib==3.7.2->d2l==1.0.3) (24.1)\n",
            "Requirement already satisfied: pillow>=6.2.0 in /usr/local/lib/python3.10/dist-packages (from matplotlib==3.7.2->d2l==1.0.3) (10.4.0)\n",
            "Requirement already satisfied: pyparsing<3.1,>=2.3.1 in /usr/local/lib/python3.10/dist-packages (from matplotlib==3.7.2->d2l==1.0.3) (3.0.9)\n",
            "Requirement already satisfied: python-dateutil>=2.7 in /usr/local/lib/python3.10/dist-packages (from matplotlib==3.7.2->d2l==1.0.3) (2.8.2)\n",
            "Requirement already satisfied: traitlets in /usr/local/lib/python3.10/dist-packages (from matplotlib-inline==0.1.6->d2l==1.0.3) (5.7.1)\n",
            "Requirement already satisfied: pytz>=2020.1 in /usr/local/lib/python3.10/dist-packages (from pandas==2.0.3->d2l==1.0.3) (2024.2)\n",
            "Requirement already satisfied: tzdata>=2022.1 in /usr/local/lib/python3.10/dist-packages (from pandas==2.0.3->d2l==1.0.3) (2024.2)\n",
            "Requirement already satisfied: charset-normalizer<4,>=2 in /usr/local/lib/python3.10/dist-packages (from requests==2.31.0->d2l==1.0.3) (3.3.2)\n",
            "Requirement already satisfied: idna<4,>=2.5 in /usr/local/lib/python3.10/dist-packages (from requests==2.31.0->d2l==1.0.3) (3.10)\n",
            "Requirement already satisfied: urllib3<3,>=1.21.1 in /usr/local/lib/python3.10/dist-packages (from requests==2.31.0->d2l==1.0.3) (2.2.3)\n",
            "Requirement already satisfied: certifi>=2017.4.17 in /usr/local/lib/python3.10/dist-packages (from requests==2.31.0->d2l==1.0.3) (2024.8.30)\n",
            "Requirement already satisfied: six>=1.5 in /usr/local/lib/python3.10/dist-packages (from python-dateutil>=2.7->matplotlib==3.7.2->d2l==1.0.3) (1.16.0)\n",
            "Requirement already satisfied: ipython-genutils in /usr/local/lib/python3.10/dist-packages (from ipykernel->jupyter==1.0.0->d2l==1.0.3) (0.2.0)\n",
            "Requirement already satisfied: ipython>=5.0.0 in /usr/local/lib/python3.10/dist-packages (from ipykernel->jupyter==1.0.0->d2l==1.0.3) (7.34.0)\n",
            "Requirement already satisfied: jupyter-client in /usr/local/lib/python3.10/dist-packages (from ipykernel->jupyter==1.0.0->d2l==1.0.3) (6.1.12)\n",
            "Requirement already satisfied: tornado>=4.2 in /usr/local/lib/python3.10/dist-packages (from ipykernel->jupyter==1.0.0->d2l==1.0.3) (6.3.3)\n",
            "Requirement already satisfied: widgetsnbextension~=3.6.0 in /usr/local/lib/python3.10/dist-packages (from ipywidgets->jupyter==1.0.0->d2l==1.0.3) (3.6.9)\n",
            "Requirement already satisfied: jupyterlab-widgets>=1.0.0 in /usr/local/lib/python3.10/dist-packages (from ipywidgets->jupyter==1.0.0->d2l==1.0.3) (3.0.13)\n",
            "Requirement already satisfied: prompt-toolkit!=3.0.0,!=3.0.1,<3.1.0,>=2.0.0 in /usr/local/lib/python3.10/dist-packages (from jupyter-console->jupyter==1.0.0->d2l==1.0.3) (3.0.48)\n",
            "Requirement already satisfied: pygments in /usr/local/lib/python3.10/dist-packages (from jupyter-console->jupyter==1.0.0->d2l==1.0.3) (2.18.0)\n",
            "Requirement already satisfied: lxml in /usr/local/lib/python3.10/dist-packages (from nbconvert->jupyter==1.0.0->d2l==1.0.3) (4.9.4)\n",
            "Requirement already satisfied: beautifulsoup4 in /usr/local/lib/python3.10/dist-packages (from nbconvert->jupyter==1.0.0->d2l==1.0.3) (4.12.3)\n",
            "Requirement already satisfied: bleach in /usr/local/lib/python3.10/dist-packages (from nbconvert->jupyter==1.0.0->d2l==1.0.3) (6.1.0)\n",
            "Requirement already satisfied: defusedxml in /usr/local/lib/python3.10/dist-packages (from nbconvert->jupyter==1.0.0->d2l==1.0.3) (0.7.1)\n",
            "Requirement already satisfied: entrypoints>=0.2.2 in /usr/local/lib/python3.10/dist-packages (from nbconvert->jupyter==1.0.0->d2l==1.0.3) (0.4)\n",
            "Requirement already satisfied: jinja2>=3.0 in /usr/local/lib/python3.10/dist-packages (from nbconvert->jupyter==1.0.0->d2l==1.0.3) (3.1.4)\n",
            "Requirement already satisfied: jupyter-core>=4.7 in /usr/local/lib/python3.10/dist-packages (from nbconvert->jupyter==1.0.0->d2l==1.0.3) (5.7.2)\n",
            "Requirement already satisfied: jupyterlab-pygments in /usr/local/lib/python3.10/dist-packages (from nbconvert->jupyter==1.0.0->d2l==1.0.3) (0.3.0)\n",
            "Requirement already satisfied: MarkupSafe>=2.0 in /usr/local/lib/python3.10/dist-packages (from nbconvert->jupyter==1.0.0->d2l==1.0.3) (2.1.5)\n",
            "Requirement already satisfied: mistune<2,>=0.8.1 in /usr/local/lib/python3.10/dist-packages (from nbconvert->jupyter==1.0.0->d2l==1.0.3) (0.8.4)\n",
            "Requirement already satisfied: nbclient>=0.5.0 in /usr/local/lib/python3.10/dist-packages (from nbconvert->jupyter==1.0.0->d2l==1.0.3) (0.10.0)\n",
            "Requirement already satisfied: nbformat>=5.1 in /usr/local/lib/python3.10/dist-packages (from nbconvert->jupyter==1.0.0->d2l==1.0.3) (5.10.4)\n",
            "Requirement already satisfied: pandocfilters>=1.4.1 in /usr/local/lib/python3.10/dist-packages (from nbconvert->jupyter==1.0.0->d2l==1.0.3) (1.5.1)\n",
            "Requirement already satisfied: tinycss2 in /usr/local/lib/python3.10/dist-packages (from nbconvert->jupyter==1.0.0->d2l==1.0.3) (1.3.0)\n",
            "Requirement already satisfied: pyzmq<25,>=17 in /usr/local/lib/python3.10/dist-packages (from notebook->jupyter==1.0.0->d2l==1.0.3) (24.0.1)\n",
            "Requirement already satisfied: argon2-cffi in /usr/local/lib/python3.10/dist-packages (from notebook->jupyter==1.0.0->d2l==1.0.3) (23.1.0)\n",
            "Requirement already satisfied: nest-asyncio>=1.5 in /usr/local/lib/python3.10/dist-packages (from notebook->jupyter==1.0.0->d2l==1.0.3) (1.6.0)\n",
            "Requirement already satisfied: Send2Trash>=1.8.0 in /usr/local/lib/python3.10/dist-packages (from notebook->jupyter==1.0.0->d2l==1.0.3) (1.8.3)\n",
            "Requirement already satisfied: terminado>=0.8.3 in /usr/local/lib/python3.10/dist-packages (from notebook->jupyter==1.0.0->d2l==1.0.3) (0.18.1)\n",
            "Requirement already satisfied: prometheus-client in /usr/local/lib/python3.10/dist-packages (from notebook->jupyter==1.0.0->d2l==1.0.3) (0.21.0)\n",
            "Requirement already satisfied: nbclassic>=0.4.7 in /usr/local/lib/python3.10/dist-packages (from notebook->jupyter==1.0.0->d2l==1.0.3) (1.1.0)\n",
            "Requirement already satisfied: qtpy>=2.4.0 in /usr/local/lib/python3.10/dist-packages (from qtconsole->jupyter==1.0.0->d2l==1.0.3) (2.4.1)\n",
            "Requirement already satisfied: setuptools>=18.5 in /usr/local/lib/python3.10/dist-packages (from ipython>=5.0.0->ipykernel->jupyter==1.0.0->d2l==1.0.3) (71.0.4)\n",
            "Requirement already satisfied: jedi>=0.16 in /usr/local/lib/python3.10/dist-packages (from ipython>=5.0.0->ipykernel->jupyter==1.0.0->d2l==1.0.3) (0.19.1)\n",
            "Requirement already satisfied: decorator in /usr/local/lib/python3.10/dist-packages (from ipython>=5.0.0->ipykernel->jupyter==1.0.0->d2l==1.0.3) (4.4.2)\n",
            "Requirement already satisfied: pickleshare in /usr/local/lib/python3.10/dist-packages (from ipython>=5.0.0->ipykernel->jupyter==1.0.0->d2l==1.0.3) (0.7.5)\n",
            "Requirement already satisfied: backcall in /usr/local/lib/python3.10/dist-packages (from ipython>=5.0.0->ipykernel->jupyter==1.0.0->d2l==1.0.3) (0.2.0)\n",
            "Requirement already satisfied: pexpect>4.3 in /usr/local/lib/python3.10/dist-packages (from ipython>=5.0.0->ipykernel->jupyter==1.0.0->d2l==1.0.3) (4.9.0)\n",
            "Requirement already satisfied: platformdirs>=2.5 in /usr/local/lib/python3.10/dist-packages (from jupyter-core>=4.7->nbconvert->jupyter==1.0.0->d2l==1.0.3) (4.3.6)\n",
            "Requirement already satisfied: notebook-shim>=0.2.3 in /usr/local/lib/python3.10/dist-packages (from nbclassic>=0.4.7->notebook->jupyter==1.0.0->d2l==1.0.3) (0.2.4)\n",
            "Requirement already satisfied: fastjsonschema>=2.15 in /usr/local/lib/python3.10/dist-packages (from nbformat>=5.1->nbconvert->jupyter==1.0.0->d2l==1.0.3) (2.20.0)\n",
            "Requirement already satisfied: jsonschema>=2.6 in /usr/local/lib/python3.10/dist-packages (from nbformat>=5.1->nbconvert->jupyter==1.0.0->d2l==1.0.3) (4.23.0)\n",
            "Requirement already satisfied: wcwidth in /usr/local/lib/python3.10/dist-packages (from prompt-toolkit!=3.0.0,!=3.0.1,<3.1.0,>=2.0.0->jupyter-console->jupyter==1.0.0->d2l==1.0.3) (0.2.13)\n",
            "Requirement already satisfied: ptyprocess in /usr/local/lib/python3.10/dist-packages (from terminado>=0.8.3->notebook->jupyter==1.0.0->d2l==1.0.3) (0.7.0)\n",
            "Requirement already satisfied: argon2-cffi-bindings in /usr/local/lib/python3.10/dist-packages (from argon2-cffi->notebook->jupyter==1.0.0->d2l==1.0.3) (21.2.0)\n",
            "Requirement already satisfied: soupsieve>1.2 in /usr/local/lib/python3.10/dist-packages (from beautifulsoup4->nbconvert->jupyter==1.0.0->d2l==1.0.3) (2.6)\n",
            "Requirement already satisfied: webencodings in /usr/local/lib/python3.10/dist-packages (from bleach->nbconvert->jupyter==1.0.0->d2l==1.0.3) (0.5.1)\n",
            "Requirement already satisfied: parso<0.9.0,>=0.8.3 in /usr/local/lib/python3.10/dist-packages (from jedi>=0.16->ipython>=5.0.0->ipykernel->jupyter==1.0.0->d2l==1.0.3) (0.8.4)\n",
            "Requirement already satisfied: attrs>=22.2.0 in /usr/local/lib/python3.10/dist-packages (from jsonschema>=2.6->nbformat>=5.1->nbconvert->jupyter==1.0.0->d2l==1.0.3) (24.2.0)\n",
            "Requirement already satisfied: jsonschema-specifications>=2023.03.6 in /usr/local/lib/python3.10/dist-packages (from jsonschema>=2.6->nbformat>=5.1->nbconvert->jupyter==1.0.0->d2l==1.0.3) (2023.12.1)\n",
            "Requirement already satisfied: referencing>=0.28.4 in /usr/local/lib/python3.10/dist-packages (from jsonschema>=2.6->nbformat>=5.1->nbconvert->jupyter==1.0.0->d2l==1.0.3) (0.35.1)\n",
            "Requirement already satisfied: rpds-py>=0.7.1 in /usr/local/lib/python3.10/dist-packages (from jsonschema>=2.6->nbformat>=5.1->nbconvert->jupyter==1.0.0->d2l==1.0.3) (0.20.0)\n",
            "Requirement already satisfied: jupyter-server<3,>=1.8 in /usr/local/lib/python3.10/dist-packages (from notebook-shim>=0.2.3->nbclassic>=0.4.7->notebook->jupyter==1.0.0->d2l==1.0.3) (1.24.0)\n",
            "Requirement already satisfied: cffi>=1.0.1 in /usr/local/lib/python3.10/dist-packages (from argon2-cffi-bindings->argon2-cffi->notebook->jupyter==1.0.0->d2l==1.0.3) (1.17.1)\n",
            "Requirement already satisfied: pycparser in /usr/local/lib/python3.10/dist-packages (from cffi>=1.0.1->argon2-cffi-bindings->argon2-cffi->notebook->jupyter==1.0.0->d2l==1.0.3) (2.22)\n",
            "Requirement already satisfied: anyio<4,>=3.1.0 in /usr/local/lib/python3.10/dist-packages (from jupyter-server<3,>=1.8->notebook-shim>=0.2.3->nbclassic>=0.4.7->notebook->jupyter==1.0.0->d2l==1.0.3) (3.7.1)\n",
            "Requirement already satisfied: websocket-client in /usr/local/lib/python3.10/dist-packages (from jupyter-server<3,>=1.8->notebook-shim>=0.2.3->nbclassic>=0.4.7->notebook->jupyter==1.0.0->d2l==1.0.3) (1.8.0)\n",
            "Requirement already satisfied: sniffio>=1.1 in /usr/local/lib/python3.10/dist-packages (from anyio<4,>=3.1.0->jupyter-server<3,>=1.8->notebook-shim>=0.2.3->nbclassic>=0.4.7->notebook->jupyter==1.0.0->d2l==1.0.3) (1.3.1)\n",
            "Requirement already satisfied: exceptiongroup in /usr/local/lib/python3.10/dist-packages (from anyio<4,>=3.1.0->jupyter-server<3,>=1.8->notebook-shim>=0.2.3->nbclassic>=0.4.7->notebook->jupyter==1.0.0->d2l==1.0.3) (1.2.2)\n"
          ]
        }
      ],
      "source": [
        "!pip install d2l==1.0.3\n"
      ]
    },
    {
      "cell_type": "markdown",
      "metadata": {
        "id": "c3ed4012"
      },
      "source": [
        "# 8.1. Deep Convolutional Neural Networks (AlexNet)"
      ]
    },
    {
      "cell_type": "code",
      "execution_count": null,
      "metadata": {
        "id": "07938be6"
      },
      "outputs": [],
      "source": [
        "import torch\n",
        "from torch import nn\n",
        "from d2l import torch as d2l"
      ]
    },
    {
      "cell_type": "code",
      "execution_count": null,
      "metadata": {
        "id": "29feac8e"
      },
      "outputs": [],
      "source": [
        "class AlexNet(d2l.Classifier):\n",
        "    def __init__(self, lr=0.1, num_classes=10):\n",
        "        super().__init__()\n",
        "        self.save_hyperparameters()\n",
        "        self.net = nn.Sequential(\n",
        "            nn.LazyConv2d(96, kernel_size=11, stride=4, padding=1),\n",
        "            nn.ReLU(), nn.MaxPool2d(kernel_size=3, stride=2),\n",
        "            nn.LazyConv2d(256, kernel_size=5, padding=2), nn.ReLU(),\n",
        "            nn.MaxPool2d(kernel_size=3, stride=2),\n",
        "            nn.LazyConv2d(384, kernel_size=3, padding=1), nn.ReLU(),\n",
        "            nn.LazyConv2d(384, kernel_size=3, padding=1), nn.ReLU(),\n",
        "            nn.LazyConv2d(256, kernel_size=3, padding=1), nn.ReLU(),\n",
        "            nn.MaxPool2d(kernel_size=3, stride=2), nn.Flatten(),\n",
        "            nn.LazyLinear(4096), nn.ReLU(), nn.Dropout(p=0.5),\n",
        "            nn.LazyLinear(4096), nn.ReLU(),nn.Dropout(p=0.5),\n",
        "            nn.LazyLinear(num_classes))\n",
        "        self.net.apply(d2l.init_cnn)"
      ]
    },
    {
      "cell_type": "code",
      "execution_count": null,
      "metadata": {
        "colab": {
          "base_uri": "https://localhost:8080/"
        },
        "id": "3d5c2c0a",
        "outputId": "55334fa4-fbc4-46f3-edd6-540b9173b0e4"
      },
      "outputs": [
        {
          "output_type": "stream",
          "name": "stdout",
          "text": [
            "Conv2d output shape:\t torch.Size([1, 96, 54, 54])\n",
            "ReLU output shape:\t torch.Size([1, 96, 54, 54])\n",
            "MaxPool2d output shape:\t torch.Size([1, 96, 26, 26])\n",
            "Conv2d output shape:\t torch.Size([1, 256, 26, 26])\n",
            "ReLU output shape:\t torch.Size([1, 256, 26, 26])\n",
            "MaxPool2d output shape:\t torch.Size([1, 256, 12, 12])\n",
            "Conv2d output shape:\t torch.Size([1, 384, 12, 12])\n",
            "ReLU output shape:\t torch.Size([1, 384, 12, 12])\n",
            "Conv2d output shape:\t torch.Size([1, 384, 12, 12])\n",
            "ReLU output shape:\t torch.Size([1, 384, 12, 12])\n",
            "Conv2d output shape:\t torch.Size([1, 256, 12, 12])\n",
            "ReLU output shape:\t torch.Size([1, 256, 12, 12])\n",
            "MaxPool2d output shape:\t torch.Size([1, 256, 5, 5])\n",
            "Flatten output shape:\t torch.Size([1, 6400])\n",
            "Linear output shape:\t torch.Size([1, 4096])\n",
            "ReLU output shape:\t torch.Size([1, 4096])\n",
            "Dropout output shape:\t torch.Size([1, 4096])\n",
            "Linear output shape:\t torch.Size([1, 4096])\n",
            "ReLU output shape:\t torch.Size([1, 4096])\n",
            "Dropout output shape:\t torch.Size([1, 4096])\n",
            "Linear output shape:\t torch.Size([1, 10])\n"
          ]
        }
      ],
      "source": [
        "AlexNet().layer_summary((1, 1, 224, 224))"
      ]
    },
    {
      "cell_type": "code",
      "execution_count": null,
      "metadata": {
        "colab": {
          "base_uri": "https://localhost:8080/",
          "height": 266
        },
        "id": "acd6a3e0",
        "outputId": "db08e2bd-74e3-4d7b-af3c-ce85bbebd96b"
      },
      "outputs": [
        {
          "output_type": "display_data",
          "data": {
            "text/plain": [
              "<Figure size 350x250 with 1 Axes>"
            ],
            "image/svg+xml": "<?xml version=\"1.0\" encoding=\"utf-8\" standalone=\"no\"?>\n<!DOCTYPE svg PUBLIC \"-//W3C//DTD SVG 1.1//EN\"\n  \"http://www.w3.org/Graphics/SVG/1.1/DTD/svg11.dtd\">\n<svg xmlns:xlink=\"http://www.w3.org/1999/xlink\" width=\"238.965625pt\" height=\"183.35625pt\" viewBox=\"0 0 238.965625 183.35625\" xmlns=\"http://www.w3.org/2000/svg\" version=\"1.1\">\n <metadata>\n  <rdf:RDF xmlns:dc=\"http://purl.org/dc/elements/1.1/\" xmlns:cc=\"http://creativecommons.org/ns#\" xmlns:rdf=\"http://www.w3.org/1999/02/22-rdf-syntax-ns#\">\n   <cc:Work>\n    <dc:type rdf:resource=\"http://purl.org/dc/dcmitype/StillImage\"/>\n    <dc:date>2024-10-04T14:07:07.227559</dc:date>\n    <dc:format>image/svg+xml</dc:format>\n    <dc:creator>\n     <cc:Agent>\n      <dc:title>Matplotlib v3.7.2, https://matplotlib.org/</dc:title>\n     </cc:Agent>\n    </dc:creator>\n   </cc:Work>\n  </rdf:RDF>\n </metadata>\n <defs>\n  <style type=\"text/css\">*{stroke-linejoin: round; stroke-linecap: butt}</style>\n </defs>\n <g id=\"figure_1\">\n  <g id=\"patch_1\">\n   <path d=\"M 0 183.35625 \nL 238.965625 183.35625 \nL 238.965625 0 \nL 0 0 \nz\n\" style=\"fill: #ffffff\"/>\n  </g>\n  <g id=\"axes_1\">\n   <g id=\"patch_2\">\n    <path d=\"M 30.103125 145.8 \nL 225.403125 145.8 \nL 225.403125 7.2 \nL 30.103125 7.2 \nz\n\" style=\"fill: #ffffff\"/>\n   </g>\n   <g id=\"matplotlib.axis_1\">\n    <g id=\"xtick_1\">\n     <g id=\"line2d_1\">\n      <defs>\n       <path id=\"m43545b55b4\" d=\"M 0 0 \nL 0 3.5 \n\" style=\"stroke: #000000; stroke-width: 0.8\"/>\n      </defs>\n      <g>\n       <use xlink:href=\"#m43545b55b4\" x=\"30.103125\" y=\"145.8\" style=\"stroke: #000000; stroke-width: 0.8\"/>\n      </g>\n     </g>\n     <g id=\"text_1\">\n      <!-- 0 -->\n      <g transform=\"translate(26.921875 160.398438) scale(0.1 -0.1)\">\n       <defs>\n        <path id=\"DejaVuSans-30\" d=\"M 2034 4250 \nQ 1547 4250 1301 3770 \nQ 1056 3291 1056 2328 \nQ 1056 1369 1301 889 \nQ 1547 409 2034 409 \nQ 2525 409 2770 889 \nQ 3016 1369 3016 2328 \nQ 3016 3291 2770 3770 \nQ 2525 4250 2034 4250 \nz\nM 2034 4750 \nQ 2819 4750 3233 4129 \nQ 3647 3509 3647 2328 \nQ 3647 1150 3233 529 \nQ 2819 -91 2034 -91 \nQ 1250 -91 836 529 \nQ 422 1150 422 2328 \nQ 422 3509 836 4129 \nQ 1250 4750 2034 4750 \nz\n\" transform=\"scale(0.015625)\"/>\n       </defs>\n       <use xlink:href=\"#DejaVuSans-30\"/>\n      </g>\n     </g>\n    </g>\n    <g id=\"xtick_2\">\n     <g id=\"line2d_2\">\n      <g>\n       <use xlink:href=\"#m43545b55b4\" x=\"69.163125\" y=\"145.8\" style=\"stroke: #000000; stroke-width: 0.8\"/>\n      </g>\n     </g>\n     <g id=\"text_2\">\n      <!-- 2 -->\n      <g transform=\"translate(65.981875 160.398438) scale(0.1 -0.1)\">\n       <defs>\n        <path id=\"DejaVuSans-32\" d=\"M 1228 531 \nL 3431 531 \nL 3431 0 \nL 469 0 \nL 469 531 \nQ 828 903 1448 1529 \nQ 2069 2156 2228 2338 \nQ 2531 2678 2651 2914 \nQ 2772 3150 2772 3378 \nQ 2772 3750 2511 3984 \nQ 2250 4219 1831 4219 \nQ 1534 4219 1204 4116 \nQ 875 4013 500 3803 \nL 500 4441 \nQ 881 4594 1212 4672 \nQ 1544 4750 1819 4750 \nQ 2544 4750 2975 4387 \nQ 3406 4025 3406 3419 \nQ 3406 3131 3298 2873 \nQ 3191 2616 2906 2266 \nQ 2828 2175 2409 1742 \nQ 1991 1309 1228 531 \nz\n\" transform=\"scale(0.015625)\"/>\n       </defs>\n       <use xlink:href=\"#DejaVuSans-32\"/>\n      </g>\n     </g>\n    </g>\n    <g id=\"xtick_3\">\n     <g id=\"line2d_3\">\n      <g>\n       <use xlink:href=\"#m43545b55b4\" x=\"108.223125\" y=\"145.8\" style=\"stroke: #000000; stroke-width: 0.8\"/>\n      </g>\n     </g>\n     <g id=\"text_3\">\n      <!-- 4 -->\n      <g transform=\"translate(105.041875 160.398438) scale(0.1 -0.1)\">\n       <defs>\n        <path id=\"DejaVuSans-34\" d=\"M 2419 4116 \nL 825 1625 \nL 2419 1625 \nL 2419 4116 \nz\nM 2253 4666 \nL 3047 4666 \nL 3047 1625 \nL 3713 1625 \nL 3713 1100 \nL 3047 1100 \nL 3047 0 \nL 2419 0 \nL 2419 1100 \nL 313 1100 \nL 313 1709 \nL 2253 4666 \nz\n\" transform=\"scale(0.015625)\"/>\n       </defs>\n       <use xlink:href=\"#DejaVuSans-34\"/>\n      </g>\n     </g>\n    </g>\n    <g id=\"xtick_4\">\n     <g id=\"line2d_4\">\n      <g>\n       <use xlink:href=\"#m43545b55b4\" x=\"147.283125\" y=\"145.8\" style=\"stroke: #000000; stroke-width: 0.8\"/>\n      </g>\n     </g>\n     <g id=\"text_4\">\n      <!-- 6 -->\n      <g transform=\"translate(144.101875 160.398438) scale(0.1 -0.1)\">\n       <defs>\n        <path id=\"DejaVuSans-36\" d=\"M 2113 2584 \nQ 1688 2584 1439 2293 \nQ 1191 2003 1191 1497 \nQ 1191 994 1439 701 \nQ 1688 409 2113 409 \nQ 2538 409 2786 701 \nQ 3034 994 3034 1497 \nQ 3034 2003 2786 2293 \nQ 2538 2584 2113 2584 \nz\nM 3366 4563 \nL 3366 3988 \nQ 3128 4100 2886 4159 \nQ 2644 4219 2406 4219 \nQ 1781 4219 1451 3797 \nQ 1122 3375 1075 2522 \nQ 1259 2794 1537 2939 \nQ 1816 3084 2150 3084 \nQ 2853 3084 3261 2657 \nQ 3669 2231 3669 1497 \nQ 3669 778 3244 343 \nQ 2819 -91 2113 -91 \nQ 1303 -91 875 529 \nQ 447 1150 447 2328 \nQ 447 3434 972 4092 \nQ 1497 4750 2381 4750 \nQ 2619 4750 2861 4703 \nQ 3103 4656 3366 4563 \nz\n\" transform=\"scale(0.015625)\"/>\n       </defs>\n       <use xlink:href=\"#DejaVuSans-36\"/>\n      </g>\n     </g>\n    </g>\n    <g id=\"xtick_5\">\n     <g id=\"line2d_5\">\n      <g>\n       <use xlink:href=\"#m43545b55b4\" x=\"186.343125\" y=\"145.8\" style=\"stroke: #000000; stroke-width: 0.8\"/>\n      </g>\n     </g>\n     <g id=\"text_5\">\n      <!-- 8 -->\n      <g transform=\"translate(183.161875 160.398438) scale(0.1 -0.1)\">\n       <defs>\n        <path id=\"DejaVuSans-38\" d=\"M 2034 2216 \nQ 1584 2216 1326 1975 \nQ 1069 1734 1069 1313 \nQ 1069 891 1326 650 \nQ 1584 409 2034 409 \nQ 2484 409 2743 651 \nQ 3003 894 3003 1313 \nQ 3003 1734 2745 1975 \nQ 2488 2216 2034 2216 \nz\nM 1403 2484 \nQ 997 2584 770 2862 \nQ 544 3141 544 3541 \nQ 544 4100 942 4425 \nQ 1341 4750 2034 4750 \nQ 2731 4750 3128 4425 \nQ 3525 4100 3525 3541 \nQ 3525 3141 3298 2862 \nQ 3072 2584 2669 2484 \nQ 3125 2378 3379 2068 \nQ 3634 1759 3634 1313 \nQ 3634 634 3220 271 \nQ 2806 -91 2034 -91 \nQ 1263 -91 848 271 \nQ 434 634 434 1313 \nQ 434 1759 690 2068 \nQ 947 2378 1403 2484 \nz\nM 1172 3481 \nQ 1172 3119 1398 2916 \nQ 1625 2713 2034 2713 \nQ 2441 2713 2670 2916 \nQ 2900 3119 2900 3481 \nQ 2900 3844 2670 4047 \nQ 2441 4250 2034 4250 \nQ 1625 4250 1398 4047 \nQ 1172 3844 1172 3481 \nz\n\" transform=\"scale(0.015625)\"/>\n       </defs>\n       <use xlink:href=\"#DejaVuSans-38\"/>\n      </g>\n     </g>\n    </g>\n    <g id=\"xtick_6\">\n     <g id=\"line2d_6\">\n      <g>\n       <use xlink:href=\"#m43545b55b4\" x=\"225.403125\" y=\"145.8\" style=\"stroke: #000000; stroke-width: 0.8\"/>\n      </g>\n     </g>\n     <g id=\"text_6\">\n      <!-- 10 -->\n      <g transform=\"translate(219.040625 160.398438) scale(0.1 -0.1)\">\n       <defs>\n        <path id=\"DejaVuSans-31\" d=\"M 794 531 \nL 1825 531 \nL 1825 4091 \nL 703 3866 \nL 703 4441 \nL 1819 4666 \nL 2450 4666 \nL 2450 531 \nL 3481 531 \nL 3481 0 \nL 794 0 \nL 794 531 \nz\n\" transform=\"scale(0.015625)\"/>\n       </defs>\n       <use xlink:href=\"#DejaVuSans-31\"/>\n       <use xlink:href=\"#DejaVuSans-30\" x=\"63.623047\"/>\n      </g>\n     </g>\n    </g>\n    <g id=\"text_7\">\n     <!-- epoch -->\n     <g transform=\"translate(112.525 174.076563) scale(0.1 -0.1)\">\n      <defs>\n       <path id=\"DejaVuSans-65\" d=\"M 3597 1894 \nL 3597 1613 \nL 953 1613 \nQ 991 1019 1311 708 \nQ 1631 397 2203 397 \nQ 2534 397 2845 478 \nQ 3156 559 3463 722 \nL 3463 178 \nQ 3153 47 2828 -22 \nQ 2503 -91 2169 -91 \nQ 1331 -91 842 396 \nQ 353 884 353 1716 \nQ 353 2575 817 3079 \nQ 1281 3584 2069 3584 \nQ 2775 3584 3186 3129 \nQ 3597 2675 3597 1894 \nz\nM 3022 2063 \nQ 3016 2534 2758 2815 \nQ 2500 3097 2075 3097 \nQ 1594 3097 1305 2825 \nQ 1016 2553 972 2059 \nL 3022 2063 \nz\n\" transform=\"scale(0.015625)\"/>\n       <path id=\"DejaVuSans-70\" d=\"M 1159 525 \nL 1159 -1331 \nL 581 -1331 \nL 581 3500 \nL 1159 3500 \nL 1159 2969 \nQ 1341 3281 1617 3432 \nQ 1894 3584 2278 3584 \nQ 2916 3584 3314 3078 \nQ 3713 2572 3713 1747 \nQ 3713 922 3314 415 \nQ 2916 -91 2278 -91 \nQ 1894 -91 1617 61 \nQ 1341 213 1159 525 \nz\nM 3116 1747 \nQ 3116 2381 2855 2742 \nQ 2594 3103 2138 3103 \nQ 1681 3103 1420 2742 \nQ 1159 2381 1159 1747 \nQ 1159 1113 1420 752 \nQ 1681 391 2138 391 \nQ 2594 391 2855 752 \nQ 3116 1113 3116 1747 \nz\n\" transform=\"scale(0.015625)\"/>\n       <path id=\"DejaVuSans-6f\" d=\"M 1959 3097 \nQ 1497 3097 1228 2736 \nQ 959 2375 959 1747 \nQ 959 1119 1226 758 \nQ 1494 397 1959 397 \nQ 2419 397 2687 759 \nQ 2956 1122 2956 1747 \nQ 2956 2369 2687 2733 \nQ 2419 3097 1959 3097 \nz\nM 1959 3584 \nQ 2709 3584 3137 3096 \nQ 3566 2609 3566 1747 \nQ 3566 888 3137 398 \nQ 2709 -91 1959 -91 \nQ 1206 -91 779 398 \nQ 353 888 353 1747 \nQ 353 2609 779 3096 \nQ 1206 3584 1959 3584 \nz\n\" transform=\"scale(0.015625)\"/>\n       <path id=\"DejaVuSans-63\" d=\"M 3122 3366 \nL 3122 2828 \nQ 2878 2963 2633 3030 \nQ 2388 3097 2138 3097 \nQ 1578 3097 1268 2742 \nQ 959 2388 959 1747 \nQ 959 1106 1268 751 \nQ 1578 397 2138 397 \nQ 2388 397 2633 464 \nQ 2878 531 3122 666 \nL 3122 134 \nQ 2881 22 2623 -34 \nQ 2366 -91 2075 -91 \nQ 1284 -91 818 406 \nQ 353 903 353 1747 \nQ 353 2603 823 3093 \nQ 1294 3584 2113 3584 \nQ 2378 3584 2631 3529 \nQ 2884 3475 3122 3366 \nz\n\" transform=\"scale(0.015625)\"/>\n       <path id=\"DejaVuSans-68\" d=\"M 3513 2113 \nL 3513 0 \nL 2938 0 \nL 2938 2094 \nQ 2938 2591 2744 2837 \nQ 2550 3084 2163 3084 \nQ 1697 3084 1428 2787 \nQ 1159 2491 1159 1978 \nL 1159 0 \nL 581 0 \nL 581 4863 \nL 1159 4863 \nL 1159 2956 \nQ 1366 3272 1645 3428 \nQ 1925 3584 2291 3584 \nQ 2894 3584 3203 3211 \nQ 3513 2838 3513 2113 \nz\n\" transform=\"scale(0.015625)\"/>\n      </defs>\n      <use xlink:href=\"#DejaVuSans-65\"/>\n      <use xlink:href=\"#DejaVuSans-70\" x=\"61.523438\"/>\n      <use xlink:href=\"#DejaVuSans-6f\" x=\"125\"/>\n      <use xlink:href=\"#DejaVuSans-63\" x=\"186.181641\"/>\n      <use xlink:href=\"#DejaVuSans-68\" x=\"241.162109\"/>\n     </g>\n    </g>\n   </g>\n   <g id=\"matplotlib.axis_2\">\n    <g id=\"ytick_1\">\n     <g id=\"line2d_7\">\n      <defs>\n       <path id=\"mdfb5b6ea94\" d=\"M 0 0 \nL -3.5 0 \n\" style=\"stroke: #000000; stroke-width: 0.8\"/>\n      </defs>\n      <g>\n       <use xlink:href=\"#mdfb5b6ea94\" x=\"30.103125\" y=\"120.272291\" style=\"stroke: #000000; stroke-width: 0.8\"/>\n      </g>\n     </g>\n     <g id=\"text_8\">\n      <!-- 0.5 -->\n      <g transform=\"translate(7.2 124.07151) scale(0.1 -0.1)\">\n       <defs>\n        <path id=\"DejaVuSans-2e\" d=\"M 684 794 \nL 1344 794 \nL 1344 0 \nL 684 0 \nL 684 794 \nz\n\" transform=\"scale(0.015625)\"/>\n        <path id=\"DejaVuSans-35\" d=\"M 691 4666 \nL 3169 4666 \nL 3169 4134 \nL 1269 4134 \nL 1269 2991 \nQ 1406 3038 1543 3061 \nQ 1681 3084 1819 3084 \nQ 2600 3084 3056 2656 \nQ 3513 2228 3513 1497 \nQ 3513 744 3044 326 \nQ 2575 -91 1722 -91 \nQ 1428 -91 1123 -41 \nQ 819 9 494 109 \nL 494 744 \nQ 775 591 1075 516 \nQ 1375 441 1709 441 \nQ 2250 441 2565 725 \nQ 2881 1009 2881 1497 \nQ 2881 1984 2565 2268 \nQ 2250 2553 1709 2553 \nQ 1456 2553 1204 2497 \nQ 953 2441 691 2322 \nL 691 4666 \nz\n\" transform=\"scale(0.015625)\"/>\n       </defs>\n       <use xlink:href=\"#DejaVuSans-30\"/>\n       <use xlink:href=\"#DejaVuSans-2e\" x=\"63.623047\"/>\n       <use xlink:href=\"#DejaVuSans-35\" x=\"95.410156\"/>\n      </g>\n     </g>\n    </g>\n    <g id=\"ytick_2\">\n     <g id=\"line2d_8\">\n      <g>\n       <use xlink:href=\"#mdfb5b6ea94\" x=\"30.103125\" y=\"90.651544\" style=\"stroke: #000000; stroke-width: 0.8\"/>\n      </g>\n     </g>\n     <g id=\"text_9\">\n      <!-- 1.0 -->\n      <g transform=\"translate(7.2 94.450762) scale(0.1 -0.1)\">\n       <use xlink:href=\"#DejaVuSans-31\"/>\n       <use xlink:href=\"#DejaVuSans-2e\" x=\"63.623047\"/>\n       <use xlink:href=\"#DejaVuSans-30\" x=\"95.410156\"/>\n      </g>\n     </g>\n    </g>\n    <g id=\"ytick_3\">\n     <g id=\"line2d_9\">\n      <g>\n       <use xlink:href=\"#mdfb5b6ea94\" x=\"30.103125\" y=\"61.030796\" style=\"stroke: #000000; stroke-width: 0.8\"/>\n      </g>\n     </g>\n     <g id=\"text_10\">\n      <!-- 1.5 -->\n      <g transform=\"translate(7.2 64.830015) scale(0.1 -0.1)\">\n       <use xlink:href=\"#DejaVuSans-31\"/>\n       <use xlink:href=\"#DejaVuSans-2e\" x=\"63.623047\"/>\n       <use xlink:href=\"#DejaVuSans-35\" x=\"95.410156\"/>\n      </g>\n     </g>\n    </g>\n    <g id=\"ytick_4\">\n     <g id=\"line2d_10\">\n      <g>\n       <use xlink:href=\"#mdfb5b6ea94\" x=\"30.103125\" y=\"31.410048\" style=\"stroke: #000000; stroke-width: 0.8\"/>\n      </g>\n     </g>\n     <g id=\"text_11\">\n      <!-- 2.0 -->\n      <g transform=\"translate(7.2 35.209267) scale(0.1 -0.1)\">\n       <use xlink:href=\"#DejaVuSans-32\"/>\n       <use xlink:href=\"#DejaVuSans-2e\" x=\"63.623047\"/>\n       <use xlink:href=\"#DejaVuSans-30\" x=\"95.410156\"/>\n      </g>\n     </g>\n    </g>\n   </g>\n   <g id=\"line2d_11\">\n    <path d=\"M 34.954394 13.5 \n\" clip-path=\"url(#pd3c3c79c3d)\" style=\"fill: none; stroke: #1f77b4; stroke-width: 1.5; stroke-linecap: square\"/>\n   </g>\n   <g id=\"line2d_12\">\n    <path d=\"M 34.954394 13.5 \nL 44.698573 13.560011 \n\" clip-path=\"url(#pd3c3c79c3d)\" style=\"fill: none; stroke: #1f77b4; stroke-width: 1.5; stroke-linecap: square\"/>\n   </g>\n   <g id=\"line2d_13\">\n    <path d=\"M 34.954394 13.5 \nL 44.698573 13.560011 \n\" clip-path=\"url(#pd3c3c79c3d)\" style=\"fill: none; stroke: #1f77b4; stroke-width: 1.5; stroke-linecap: square\"/>\n   </g>\n   <g id=\"line2d_14\">\n    <path d=\"M 49.633125 13.62193 \n\" clip-path=\"url(#pd3c3c79c3d)\" style=\"fill: none; stroke-dasharray: 5.55,2.4; stroke-dashoffset: 0; stroke: #ff7f0e; stroke-width: 1.5\"/>\n   </g>\n   <g id=\"line2d_15\"/>\n   <g id=\"line2d_16\">\n    <path d=\"M 34.954394 13.5 \nL 44.698573 13.560011 \n\" clip-path=\"url(#pd3c3c79c3d)\" style=\"fill: none; stroke: #1f77b4; stroke-width: 1.5; stroke-linecap: square\"/>\n   </g>\n   <g id=\"line2d_17\">\n    <path d=\"M 49.633125 13.62193 \n\" clip-path=\"url(#pd3c3c79c3d)\" style=\"fill: none; stroke-dasharray: 5.55,2.4; stroke-dashoffset: 0; stroke: #ff7f0e; stroke-width: 1.5\"/>\n   </g>\n   <g id=\"line2d_18\">\n    <path d=\"M 49.633125 136.494572 \n\" clip-path=\"url(#pd3c3c79c3d)\" style=\"fill: none; stroke-dasharray: 9.6,2.4,1.5,2.4; stroke-dashoffset: 0; stroke: #2ca02c; stroke-width: 1.5\"/>\n   </g>\n   <g id=\"line2d_19\">\n    <path d=\"M 34.954394 13.5 \nL 44.698573 13.560011 \nL 54.442752 13.69495 \n\" clip-path=\"url(#pd3c3c79c3d)\" style=\"fill: none; stroke: #1f77b4; stroke-width: 1.5; stroke-linecap: square\"/>\n   </g>\n   <g id=\"line2d_20\">\n    <path d=\"M 49.633125 13.62193 \n\" clip-path=\"url(#pd3c3c79c3d)\" style=\"fill: none; stroke-dasharray: 5.55,2.4; stroke-dashoffset: 0; stroke: #ff7f0e; stroke-width: 1.5\"/>\n   </g>\n   <g id=\"line2d_21\">\n    <path d=\"M 49.633125 136.494572 \n\" clip-path=\"url(#pd3c3c79c3d)\" style=\"fill: none; stroke-dasharray: 9.6,2.4,1.5,2.4; stroke-dashoffset: 0; stroke: #2ca02c; stroke-width: 1.5\"/>\n   </g>\n   <g id=\"line2d_22\">\n    <path d=\"M 34.954394 13.5 \nL 44.698573 13.560011 \nL 54.442752 13.69495 \nL 64.186931 14.43466 \n\" clip-path=\"url(#pd3c3c79c3d)\" style=\"fill: none; stroke: #1f77b4; stroke-width: 1.5; stroke-linecap: square\"/>\n   </g>\n   <g id=\"line2d_23\">\n    <path d=\"M 49.633125 13.62193 \n\" clip-path=\"url(#pd3c3c79c3d)\" style=\"fill: none; stroke-dasharray: 5.55,2.4; stroke-dashoffset: 0; stroke: #ff7f0e; stroke-width: 1.5\"/>\n   </g>\n   <g id=\"line2d_24\">\n    <path d=\"M 49.633125 136.494572 \n\" clip-path=\"url(#pd3c3c79c3d)\" style=\"fill: none; stroke-dasharray: 9.6,2.4,1.5,2.4; stroke-dashoffset: 0; stroke: #2ca02c; stroke-width: 1.5\"/>\n   </g>\n   <g id=\"line2d_25\">\n    <path d=\"M 34.954394 13.5 \nL 44.698573 13.560011 \nL 54.442752 13.69495 \nL 64.186931 14.43466 \n\" clip-path=\"url(#pd3c3c79c3d)\" style=\"fill: none; stroke: #1f77b4; stroke-width: 1.5; stroke-linecap: square\"/>\n   </g>\n   <g id=\"line2d_26\">\n    <path d=\"M 49.633125 13.62193 \nL 69.163125 17.628804 \n\" clip-path=\"url(#pd3c3c79c3d)\" style=\"fill: none; stroke-dasharray: 5.55,2.4; stroke-dashoffset: 0; stroke: #ff7f0e; stroke-width: 1.5\"/>\n   </g>\n   <g id=\"line2d_27\">\n    <path d=\"M 49.633125 136.494572 \n\" clip-path=\"url(#pd3c3c79c3d)\" style=\"fill: none; stroke-dasharray: 9.6,2.4,1.5,2.4; stroke-dashoffset: 0; stroke: #2ca02c; stroke-width: 1.5\"/>\n   </g>\n   <g id=\"line2d_28\">\n    <path d=\"M 34.954394 13.5 \nL 44.698573 13.560011 \nL 54.442752 13.69495 \nL 64.186931 14.43466 \n\" clip-path=\"url(#pd3c3c79c3d)\" style=\"fill: none; stroke: #1f77b4; stroke-width: 1.5; stroke-linecap: square\"/>\n   </g>\n   <g id=\"line2d_29\">\n    <path d=\"M 49.633125 13.62193 \nL 69.163125 17.628804 \n\" clip-path=\"url(#pd3c3c79c3d)\" style=\"fill: none; stroke-dasharray: 5.55,2.4; stroke-dashoffset: 0; stroke: #ff7f0e; stroke-width: 1.5\"/>\n   </g>\n   <g id=\"line2d_30\">\n    <path d=\"M 49.633125 136.494572 \nL 69.163125 139.5 \n\" clip-path=\"url(#pd3c3c79c3d)\" style=\"fill: none; stroke-dasharray: 9.6,2.4,1.5,2.4; stroke-dashoffset: 0; stroke: #2ca02c; stroke-width: 1.5\"/>\n   </g>\n   <g id=\"line2d_31\">\n    <path d=\"M 34.954394 13.5 \nL 44.698573 13.560011 \nL 54.442752 13.69495 \nL 64.186931 14.43466 \nL 73.93111 64.628913 \n\" clip-path=\"url(#pd3c3c79c3d)\" style=\"fill: none; stroke: #1f77b4; stroke-width: 1.5; stroke-linecap: square\"/>\n   </g>\n   <g id=\"line2d_32\">\n    <path d=\"M 49.633125 13.62193 \nL 69.163125 17.628804 \n\" clip-path=\"url(#pd3c3c79c3d)\" style=\"fill: none; stroke-dasharray: 5.55,2.4; stroke-dashoffset: 0; stroke: #ff7f0e; stroke-width: 1.5\"/>\n   </g>\n   <g id=\"line2d_33\">\n    <path d=\"M 49.633125 136.494572 \nL 69.163125 139.5 \n\" clip-path=\"url(#pd3c3c79c3d)\" style=\"fill: none; stroke-dasharray: 9.6,2.4,1.5,2.4; stroke-dashoffset: 0; stroke: #2ca02c; stroke-width: 1.5\"/>\n   </g>\n   <g id=\"line2d_34\">\n    <path d=\"M 34.954394 13.5 \nL 44.698573 13.560011 \nL 54.442752 13.69495 \nL 64.186931 14.43466 \nL 73.93111 64.628913 \nL 83.675289 90.73986 \n\" clip-path=\"url(#pd3c3c79c3d)\" style=\"fill: none; stroke: #1f77b4; stroke-width: 1.5; stroke-linecap: square\"/>\n   </g>\n   <g id=\"line2d_35\">\n    <path d=\"M 49.633125 13.62193 \nL 69.163125 17.628804 \n\" clip-path=\"url(#pd3c3c79c3d)\" style=\"fill: none; stroke-dasharray: 5.55,2.4; stroke-dashoffset: 0; stroke: #ff7f0e; stroke-width: 1.5\"/>\n   </g>\n   <g id=\"line2d_36\">\n    <path d=\"M 49.633125 136.494572 \nL 69.163125 139.5 \n\" clip-path=\"url(#pd3c3c79c3d)\" style=\"fill: none; stroke-dasharray: 9.6,2.4,1.5,2.4; stroke-dashoffset: 0; stroke: #2ca02c; stroke-width: 1.5\"/>\n   </g>\n   <g id=\"line2d_37\">\n    <path d=\"M 34.954394 13.5 \nL 44.698573 13.560011 \nL 54.442752 13.69495 \nL 64.186931 14.43466 \nL 73.93111 64.628913 \nL 83.675289 90.73986 \n\" clip-path=\"url(#pd3c3c79c3d)\" style=\"fill: none; stroke: #1f77b4; stroke-width: 1.5; stroke-linecap: square\"/>\n   </g>\n   <g id=\"line2d_38\">\n    <path d=\"M 49.633125 13.62193 \nL 69.163125 17.628804 \nL 88.693125 94.816901 \n\" clip-path=\"url(#pd3c3c79c3d)\" style=\"fill: none; stroke-dasharray: 5.55,2.4; stroke-dashoffset: 0; stroke: #ff7f0e; stroke-width: 1.5\"/>\n   </g>\n   <g id=\"line2d_39\">\n    <path d=\"M 49.633125 136.494572 \nL 69.163125 139.5 \n\" clip-path=\"url(#pd3c3c79c3d)\" style=\"fill: none; stroke-dasharray: 9.6,2.4,1.5,2.4; stroke-dashoffset: 0; stroke: #2ca02c; stroke-width: 1.5\"/>\n   </g>\n   <g id=\"line2d_40\">\n    <path d=\"M 34.954394 13.5 \nL 44.698573 13.560011 \nL 54.442752 13.69495 \nL 64.186931 14.43466 \nL 73.93111 64.628913 \nL 83.675289 90.73986 \n\" clip-path=\"url(#pd3c3c79c3d)\" style=\"fill: none; stroke: #1f77b4; stroke-width: 1.5; stroke-linecap: square\"/>\n   </g>\n   <g id=\"line2d_41\">\n    <path d=\"M 49.633125 13.62193 \nL 69.163125 17.628804 \nL 88.693125 94.816901 \n\" clip-path=\"url(#pd3c3c79c3d)\" style=\"fill: none; stroke-dasharray: 5.55,2.4; stroke-dashoffset: 0; stroke: #ff7f0e; stroke-width: 1.5\"/>\n   </g>\n   <g id=\"line2d_42\">\n    <path d=\"M 49.633125 136.494572 \nL 69.163125 139.5 \nL 88.693125 111.355603 \n\" clip-path=\"url(#pd3c3c79c3d)\" style=\"fill: none; stroke-dasharray: 9.6,2.4,1.5,2.4; stroke-dashoffset: 0; stroke: #2ca02c; stroke-width: 1.5\"/>\n   </g>\n   <g id=\"line2d_43\">\n    <path d=\"M 34.954394 13.5 \nL 44.698573 13.560011 \nL 54.442752 13.69495 \nL 64.186931 14.43466 \nL 73.93111 64.628913 \nL 83.675289 90.73986 \nL 93.419468 98.441036 \n\" clip-path=\"url(#pd3c3c79c3d)\" style=\"fill: none; stroke: #1f77b4; stroke-width: 1.5; stroke-linecap: square\"/>\n   </g>\n   <g id=\"line2d_44\">\n    <path d=\"M 49.633125 13.62193 \nL 69.163125 17.628804 \nL 88.693125 94.816901 \n\" clip-path=\"url(#pd3c3c79c3d)\" style=\"fill: none; stroke-dasharray: 5.55,2.4; stroke-dashoffset: 0; stroke: #ff7f0e; stroke-width: 1.5\"/>\n   </g>\n   <g id=\"line2d_45\">\n    <path d=\"M 49.633125 136.494572 \nL 69.163125 139.5 \nL 88.693125 111.355603 \n\" clip-path=\"url(#pd3c3c79c3d)\" style=\"fill: none; stroke-dasharray: 9.6,2.4,1.5,2.4; stroke-dashoffset: 0; stroke: #2ca02c; stroke-width: 1.5\"/>\n   </g>\n   <g id=\"line2d_46\">\n    <path d=\"M 34.954394 13.5 \nL 44.698573 13.560011 \nL 54.442752 13.69495 \nL 64.186931 14.43466 \nL 73.93111 64.628913 \nL 83.675289 90.73986 \nL 93.419468 98.441036 \nL 103.163647 101.700761 \n\" clip-path=\"url(#pd3c3c79c3d)\" style=\"fill: none; stroke: #1f77b4; stroke-width: 1.5; stroke-linecap: square\"/>\n   </g>\n   <g id=\"line2d_47\">\n    <path d=\"M 49.633125 13.62193 \nL 69.163125 17.628804 \nL 88.693125 94.816901 \n\" clip-path=\"url(#pd3c3c79c3d)\" style=\"fill: none; stroke-dasharray: 5.55,2.4; stroke-dashoffset: 0; stroke: #ff7f0e; stroke-width: 1.5\"/>\n   </g>\n   <g id=\"line2d_48\">\n    <path d=\"M 49.633125 136.494572 \nL 69.163125 139.5 \nL 88.693125 111.355603 \n\" clip-path=\"url(#pd3c3c79c3d)\" style=\"fill: none; stroke-dasharray: 9.6,2.4,1.5,2.4; stroke-dashoffset: 0; stroke: #2ca02c; stroke-width: 1.5\"/>\n   </g>\n   <g id=\"line2d_49\">\n    <path d=\"M 34.954394 13.5 \nL 44.698573 13.560011 \nL 54.442752 13.69495 \nL 64.186931 14.43466 \nL 73.93111 64.628913 \nL 83.675289 90.73986 \nL 93.419468 98.441036 \nL 103.163647 101.700761 \n\" clip-path=\"url(#pd3c3c79c3d)\" style=\"fill: none; stroke: #1f77b4; stroke-width: 1.5; stroke-linecap: square\"/>\n   </g>\n   <g id=\"line2d_50\">\n    <path d=\"M 49.633125 13.62193 \nL 69.163125 17.628804 \nL 88.693125 94.816901 \nL 108.223125 105.620274 \n\" clip-path=\"url(#pd3c3c79c3d)\" style=\"fill: none; stroke-dasharray: 5.55,2.4; stroke-dashoffset: 0; stroke: #ff7f0e; stroke-width: 1.5\"/>\n   </g>\n   <g id=\"line2d_51\">\n    <path d=\"M 49.633125 136.494572 \nL 69.163125 139.5 \nL 88.693125 111.355603 \n\" clip-path=\"url(#pd3c3c79c3d)\" style=\"fill: none; stroke-dasharray: 9.6,2.4,1.5,2.4; stroke-dashoffset: 0; stroke: #2ca02c; stroke-width: 1.5\"/>\n   </g>\n   <g id=\"line2d_52\">\n    <path d=\"M 34.954394 13.5 \nL 44.698573 13.560011 \nL 54.442752 13.69495 \nL 64.186931 14.43466 \nL 73.93111 64.628913 \nL 83.675289 90.73986 \nL 93.419468 98.441036 \nL 103.163647 101.700761 \n\" clip-path=\"url(#pd3c3c79c3d)\" style=\"fill: none; stroke: #1f77b4; stroke-width: 1.5; stroke-linecap: square\"/>\n   </g>\n   <g id=\"line2d_53\">\n    <path d=\"M 49.633125 13.62193 \nL 69.163125 17.628804 \nL 88.693125 94.816901 \nL 108.223125 105.620274 \n\" clip-path=\"url(#pd3c3c79c3d)\" style=\"fill: none; stroke-dasharray: 5.55,2.4; stroke-dashoffset: 0; stroke: #ff7f0e; stroke-width: 1.5\"/>\n   </g>\n   <g id=\"line2d_54\">\n    <path d=\"M 49.633125 136.494572 \nL 69.163125 139.5 \nL 88.693125 111.355603 \nL 108.223125 107.705736 \n\" clip-path=\"url(#pd3c3c79c3d)\" style=\"fill: none; stroke-dasharray: 9.6,2.4,1.5,2.4; stroke-dashoffset: 0; stroke: #2ca02c; stroke-width: 1.5\"/>\n   </g>\n   <g id=\"line2d_55\">\n    <path d=\"M 34.954394 13.5 \nL 44.698573 13.560011 \nL 54.442752 13.69495 \nL 64.186931 14.43466 \nL 73.93111 64.628913 \nL 83.675289 90.73986 \nL 93.419468 98.441036 \nL 103.163647 101.700761 \nL 112.907826 105.308553 \n\" clip-path=\"url(#pd3c3c79c3d)\" style=\"fill: none; stroke: #1f77b4; stroke-width: 1.5; stroke-linecap: square\"/>\n   </g>\n   <g id=\"line2d_56\">\n    <path d=\"M 49.633125 13.62193 \nL 69.163125 17.628804 \nL 88.693125 94.816901 \nL 108.223125 105.620274 \n\" clip-path=\"url(#pd3c3c79c3d)\" style=\"fill: none; stroke-dasharray: 5.55,2.4; stroke-dashoffset: 0; stroke: #ff7f0e; stroke-width: 1.5\"/>\n   </g>\n   <g id=\"line2d_57\">\n    <path d=\"M 49.633125 136.494572 \nL 69.163125 139.5 \nL 88.693125 111.355603 \nL 108.223125 107.705736 \n\" clip-path=\"url(#pd3c3c79c3d)\" style=\"fill: none; stroke-dasharray: 9.6,2.4,1.5,2.4; stroke-dashoffset: 0; stroke: #2ca02c; stroke-width: 1.5\"/>\n   </g>\n   <g id=\"line2d_58\">\n    <path d=\"M 34.954394 13.5 \nL 44.698573 13.560011 \nL 54.442752 13.69495 \nL 64.186931 14.43466 \nL 73.93111 64.628913 \nL 83.675289 90.73986 \nL 93.419468 98.441036 \nL 103.163647 101.700761 \nL 112.907826 105.308553 \nL 122.652006 109.341427 \n\" clip-path=\"url(#pd3c3c79c3d)\" style=\"fill: none; stroke: #1f77b4; stroke-width: 1.5; stroke-linecap: square\"/>\n   </g>\n   <g id=\"line2d_59\">\n    <path d=\"M 49.633125 13.62193 \nL 69.163125 17.628804 \nL 88.693125 94.816901 \nL 108.223125 105.620274 \n\" clip-path=\"url(#pd3c3c79c3d)\" style=\"fill: none; stroke-dasharray: 5.55,2.4; stroke-dashoffset: 0; stroke: #ff7f0e; stroke-width: 1.5\"/>\n   </g>\n   <g id=\"line2d_60\">\n    <path d=\"M 49.633125 136.494572 \nL 69.163125 139.5 \nL 88.693125 111.355603 \nL 108.223125 107.705736 \n\" clip-path=\"url(#pd3c3c79c3d)\" style=\"fill: none; stroke-dasharray: 9.6,2.4,1.5,2.4; stroke-dashoffset: 0; stroke: #2ca02c; stroke-width: 1.5\"/>\n   </g>\n   <g id=\"line2d_61\">\n    <path d=\"M 34.954394 13.5 \nL 44.698573 13.560011 \nL 54.442752 13.69495 \nL 64.186931 14.43466 \nL 73.93111 64.628913 \nL 83.675289 90.73986 \nL 93.419468 98.441036 \nL 103.163647 101.700761 \nL 112.907826 105.308553 \nL 122.652006 109.341427 \n\" clip-path=\"url(#pd3c3c79c3d)\" style=\"fill: none; stroke: #1f77b4; stroke-width: 1.5; stroke-linecap: square\"/>\n   </g>\n   <g id=\"line2d_62\">\n    <path d=\"M 49.633125 13.62193 \nL 69.163125 17.628804 \nL 88.693125 94.816901 \nL 108.223125 105.620274 \nL 127.753125 112.050223 \n\" clip-path=\"url(#pd3c3c79c3d)\" style=\"fill: none; stroke-dasharray: 5.55,2.4; stroke-dashoffset: 0; stroke: #ff7f0e; stroke-width: 1.5\"/>\n   </g>\n   <g id=\"line2d_63\">\n    <path d=\"M 49.633125 136.494572 \nL 69.163125 139.5 \nL 88.693125 111.355603 \nL 108.223125 107.705736 \n\" clip-path=\"url(#pd3c3c79c3d)\" style=\"fill: none; stroke-dasharray: 9.6,2.4,1.5,2.4; stroke-dashoffset: 0; stroke: #2ca02c; stroke-width: 1.5\"/>\n   </g>\n   <g id=\"line2d_64\">\n    <path d=\"M 34.954394 13.5 \nL 44.698573 13.560011 \nL 54.442752 13.69495 \nL 64.186931 14.43466 \nL 73.93111 64.628913 \nL 83.675289 90.73986 \nL 93.419468 98.441036 \nL 103.163647 101.700761 \nL 112.907826 105.308553 \nL 122.652006 109.341427 \n\" clip-path=\"url(#pd3c3c79c3d)\" style=\"fill: none; stroke: #1f77b4; stroke-width: 1.5; stroke-linecap: square\"/>\n   </g>\n   <g id=\"line2d_65\">\n    <path d=\"M 49.633125 13.62193 \nL 69.163125 17.628804 \nL 88.693125 94.816901 \nL 108.223125 105.620274 \nL 127.753125 112.050223 \n\" clip-path=\"url(#pd3c3c79c3d)\" style=\"fill: none; stroke-dasharray: 5.55,2.4; stroke-dashoffset: 0; stroke: #ff7f0e; stroke-width: 1.5\"/>\n   </g>\n   <g id=\"line2d_66\">\n    <path d=\"M 49.633125 136.494572 \nL 69.163125 139.5 \nL 88.693125 111.355603 \nL 108.223125 107.705736 \nL 127.753125 104.565562 \n\" clip-path=\"url(#pd3c3c79c3d)\" style=\"fill: none; stroke-dasharray: 9.6,2.4,1.5,2.4; stroke-dashoffset: 0; stroke: #2ca02c; stroke-width: 1.5\"/>\n   </g>\n   <g id=\"line2d_67\">\n    <path d=\"M 34.954394 13.5 \nL 44.698573 13.560011 \nL 54.442752 13.69495 \nL 64.186931 14.43466 \nL 73.93111 64.628913 \nL 83.675289 90.73986 \nL 93.419468 98.441036 \nL 103.163647 101.700761 \nL 112.907826 105.308553 \nL 122.652006 109.341427 \nL 132.396185 111.840777 \n\" clip-path=\"url(#pd3c3c79c3d)\" style=\"fill: none; stroke: #1f77b4; stroke-width: 1.5; stroke-linecap: square\"/>\n   </g>\n   <g id=\"line2d_68\">\n    <path d=\"M 49.633125 13.62193 \nL 69.163125 17.628804 \nL 88.693125 94.816901 \nL 108.223125 105.620274 \nL 127.753125 112.050223 \n\" clip-path=\"url(#pd3c3c79c3d)\" style=\"fill: none; stroke-dasharray: 5.55,2.4; stroke-dashoffset: 0; stroke: #ff7f0e; stroke-width: 1.5\"/>\n   </g>\n   <g id=\"line2d_69\">\n    <path d=\"M 49.633125 136.494572 \nL 69.163125 139.5 \nL 88.693125 111.355603 \nL 108.223125 107.705736 \nL 127.753125 104.565562 \n\" clip-path=\"url(#pd3c3c79c3d)\" style=\"fill: none; stroke-dasharray: 9.6,2.4,1.5,2.4; stroke-dashoffset: 0; stroke: #2ca02c; stroke-width: 1.5\"/>\n   </g>\n   <g id=\"line2d_70\">\n    <path d=\"M 34.954394 13.5 \nL 44.698573 13.560011 \nL 54.442752 13.69495 \nL 64.186931 14.43466 \nL 73.93111 64.628913 \nL 83.675289 90.73986 \nL 93.419468 98.441036 \nL 103.163647 101.700761 \nL 112.907826 105.308553 \nL 122.652006 109.341427 \nL 132.396185 111.840777 \nL 142.140364 113.744764 \n\" clip-path=\"url(#pd3c3c79c3d)\" style=\"fill: none; stroke: #1f77b4; stroke-width: 1.5; stroke-linecap: square\"/>\n   </g>\n   <g id=\"line2d_71\">\n    <path d=\"M 49.633125 13.62193 \nL 69.163125 17.628804 \nL 88.693125 94.816901 \nL 108.223125 105.620274 \nL 127.753125 112.050223 \n\" clip-path=\"url(#pd3c3c79c3d)\" style=\"fill: none; stroke-dasharray: 5.55,2.4; stroke-dashoffset: 0; stroke: #ff7f0e; stroke-width: 1.5\"/>\n   </g>\n   <g id=\"line2d_72\">\n    <path d=\"M 49.633125 136.494572 \nL 69.163125 139.5 \nL 88.693125 111.355603 \nL 108.223125 107.705736 \nL 127.753125 104.565562 \n\" clip-path=\"url(#pd3c3c79c3d)\" style=\"fill: none; stroke-dasharray: 9.6,2.4,1.5,2.4; stroke-dashoffset: 0; stroke: #2ca02c; stroke-width: 1.5\"/>\n   </g>\n   <g id=\"line2d_73\">\n    <path d=\"M 34.954394 13.5 \nL 44.698573 13.560011 \nL 54.442752 13.69495 \nL 64.186931 14.43466 \nL 73.93111 64.628913 \nL 83.675289 90.73986 \nL 93.419468 98.441036 \nL 103.163647 101.700761 \nL 112.907826 105.308553 \nL 122.652006 109.341427 \nL 132.396185 111.840777 \nL 142.140364 113.744764 \n\" clip-path=\"url(#pd3c3c79c3d)\" style=\"fill: none; stroke: #1f77b4; stroke-width: 1.5; stroke-linecap: square\"/>\n   </g>\n   <g id=\"line2d_74\">\n    <path d=\"M 49.633125 13.62193 \nL 69.163125 17.628804 \nL 88.693125 94.816901 \nL 108.223125 105.620274 \nL 127.753125 112.050223 \nL 147.283125 115.442235 \n\" clip-path=\"url(#pd3c3c79c3d)\" style=\"fill: none; stroke-dasharray: 5.55,2.4; stroke-dashoffset: 0; stroke: #ff7f0e; stroke-width: 1.5\"/>\n   </g>\n   <g id=\"line2d_75\">\n    <path d=\"M 49.633125 136.494572 \nL 69.163125 139.5 \nL 88.693125 111.355603 \nL 108.223125 107.705736 \nL 127.753125 104.565562 \n\" clip-path=\"url(#pd3c3c79c3d)\" style=\"fill: none; stroke-dasharray: 9.6,2.4,1.5,2.4; stroke-dashoffset: 0; stroke: #2ca02c; stroke-width: 1.5\"/>\n   </g>\n   <g id=\"line2d_76\">\n    <path d=\"M 34.954394 13.5 \nL 44.698573 13.560011 \nL 54.442752 13.69495 \nL 64.186931 14.43466 \nL 73.93111 64.628913 \nL 83.675289 90.73986 \nL 93.419468 98.441036 \nL 103.163647 101.700761 \nL 112.907826 105.308553 \nL 122.652006 109.341427 \nL 132.396185 111.840777 \nL 142.140364 113.744764 \n\" clip-path=\"url(#pd3c3c79c3d)\" style=\"fill: none; stroke: #1f77b4; stroke-width: 1.5; stroke-linecap: square\"/>\n   </g>\n   <g id=\"line2d_77\">\n    <path d=\"M 49.633125 13.62193 \nL 69.163125 17.628804 \nL 88.693125 94.816901 \nL 108.223125 105.620274 \nL 127.753125 112.050223 \nL 147.283125 115.442235 \n\" clip-path=\"url(#pd3c3c79c3d)\" style=\"fill: none; stroke-dasharray: 5.55,2.4; stroke-dashoffset: 0; stroke: #ff7f0e; stroke-width: 1.5\"/>\n   </g>\n   <g id=\"line2d_78\">\n    <path d=\"M 49.633125 136.494572 \nL 69.163125 139.5 \nL 88.693125 111.355603 \nL 108.223125 107.705736 \nL 127.753125 104.565562 \nL 147.283125 103.616479 \n\" clip-path=\"url(#pd3c3c79c3d)\" style=\"fill: none; stroke-dasharray: 9.6,2.4,1.5,2.4; stroke-dashoffset: 0; stroke: #2ca02c; stroke-width: 1.5\"/>\n   </g>\n   <g id=\"line2d_79\">\n    <path d=\"M 34.954394 13.5 \nL 44.698573 13.560011 \nL 54.442752 13.69495 \nL 64.186931 14.43466 \nL 73.93111 64.628913 \nL 83.675289 90.73986 \nL 93.419468 98.441036 \nL 103.163647 101.700761 \nL 112.907826 105.308553 \nL 122.652006 109.341427 \nL 132.396185 111.840777 \nL 142.140364 113.744764 \nL 151.884543 115.848027 \n\" clip-path=\"url(#pd3c3c79c3d)\" style=\"fill: none; stroke: #1f77b4; stroke-width: 1.5; stroke-linecap: square\"/>\n   </g>\n   <g id=\"line2d_80\">\n    <path d=\"M 49.633125 13.62193 \nL 69.163125 17.628804 \nL 88.693125 94.816901 \nL 108.223125 105.620274 \nL 127.753125 112.050223 \nL 147.283125 115.442235 \n\" clip-path=\"url(#pd3c3c79c3d)\" style=\"fill: none; stroke-dasharray: 5.55,2.4; stroke-dashoffset: 0; stroke: #ff7f0e; stroke-width: 1.5\"/>\n   </g>\n   <g id=\"line2d_81\">\n    <path d=\"M 49.633125 136.494572 \nL 69.163125 139.5 \nL 88.693125 111.355603 \nL 108.223125 107.705736 \nL 127.753125 104.565562 \nL 147.283125 103.616479 \n\" clip-path=\"url(#pd3c3c79c3d)\" style=\"fill: none; stroke-dasharray: 9.6,2.4,1.5,2.4; stroke-dashoffset: 0; stroke: #2ca02c; stroke-width: 1.5\"/>\n   </g>\n   <g id=\"line2d_82\">\n    <path d=\"M 34.954394 13.5 \nL 44.698573 13.560011 \nL 54.442752 13.69495 \nL 64.186931 14.43466 \nL 73.93111 64.628913 \nL 83.675289 90.73986 \nL 93.419468 98.441036 \nL 103.163647 101.700761 \nL 112.907826 105.308553 \nL 122.652006 109.341427 \nL 132.396185 111.840777 \nL 142.140364 113.744764 \nL 151.884543 115.848027 \nL 161.628722 117.213704 \n\" clip-path=\"url(#pd3c3c79c3d)\" style=\"fill: none; stroke: #1f77b4; stroke-width: 1.5; stroke-linecap: square\"/>\n   </g>\n   <g id=\"line2d_83\">\n    <path d=\"M 49.633125 13.62193 \nL 69.163125 17.628804 \nL 88.693125 94.816901 \nL 108.223125 105.620274 \nL 127.753125 112.050223 \nL 147.283125 115.442235 \n\" clip-path=\"url(#pd3c3c79c3d)\" style=\"fill: none; stroke-dasharray: 5.55,2.4; stroke-dashoffset: 0; stroke: #ff7f0e; stroke-width: 1.5\"/>\n   </g>\n   <g id=\"line2d_84\">\n    <path d=\"M 49.633125 136.494572 \nL 69.163125 139.5 \nL 88.693125 111.355603 \nL 108.223125 107.705736 \nL 127.753125 104.565562 \nL 147.283125 103.616479 \n\" clip-path=\"url(#pd3c3c79c3d)\" style=\"fill: none; stroke-dasharray: 9.6,2.4,1.5,2.4; stroke-dashoffset: 0; stroke: #2ca02c; stroke-width: 1.5\"/>\n   </g>\n   <g id=\"line2d_85\">\n    <path d=\"M 34.954394 13.5 \nL 44.698573 13.560011 \nL 54.442752 13.69495 \nL 64.186931 14.43466 \nL 73.93111 64.628913 \nL 83.675289 90.73986 \nL 93.419468 98.441036 \nL 103.163647 101.700761 \nL 112.907826 105.308553 \nL 122.652006 109.341427 \nL 132.396185 111.840777 \nL 142.140364 113.744764 \nL 151.884543 115.848027 \nL 161.628722 117.213704 \n\" clip-path=\"url(#pd3c3c79c3d)\" style=\"fill: none; stroke: #1f77b4; stroke-width: 1.5; stroke-linecap: square\"/>\n   </g>\n   <g id=\"line2d_86\">\n    <path d=\"M 49.633125 13.62193 \nL 69.163125 17.628804 \nL 88.693125 94.816901 \nL 108.223125 105.620274 \nL 127.753125 112.050223 \nL 147.283125 115.442235 \nL 166.813125 118.866695 \n\" clip-path=\"url(#pd3c3c79c3d)\" style=\"fill: none; stroke-dasharray: 5.55,2.4; stroke-dashoffset: 0; stroke: #ff7f0e; stroke-width: 1.5\"/>\n   </g>\n   <g id=\"line2d_87\">\n    <path d=\"M 49.633125 136.494572 \nL 69.163125 139.5 \nL 88.693125 111.355603 \nL 108.223125 107.705736 \nL 127.753125 104.565562 \nL 147.283125 103.616479 \n\" clip-path=\"url(#pd3c3c79c3d)\" style=\"fill: none; stroke-dasharray: 9.6,2.4,1.5,2.4; stroke-dashoffset: 0; stroke: #2ca02c; stroke-width: 1.5\"/>\n   </g>\n   <g id=\"line2d_88\">\n    <path d=\"M 34.954394 13.5 \nL 44.698573 13.560011 \nL 54.442752 13.69495 \nL 64.186931 14.43466 \nL 73.93111 64.628913 \nL 83.675289 90.73986 \nL 93.419468 98.441036 \nL 103.163647 101.700761 \nL 112.907826 105.308553 \nL 122.652006 109.341427 \nL 132.396185 111.840777 \nL 142.140364 113.744764 \nL 151.884543 115.848027 \nL 161.628722 117.213704 \n\" clip-path=\"url(#pd3c3c79c3d)\" style=\"fill: none; stroke: #1f77b4; stroke-width: 1.5; stroke-linecap: square\"/>\n   </g>\n   <g id=\"line2d_89\">\n    <path d=\"M 49.633125 13.62193 \nL 69.163125 17.628804 \nL 88.693125 94.816901 \nL 108.223125 105.620274 \nL 127.753125 112.050223 \nL 147.283125 115.442235 \nL 166.813125 118.866695 \n\" clip-path=\"url(#pd3c3c79c3d)\" style=\"fill: none; stroke-dasharray: 5.55,2.4; stroke-dashoffset: 0; stroke: #ff7f0e; stroke-width: 1.5\"/>\n   </g>\n   <g id=\"line2d_90\">\n    <path d=\"M 49.633125 136.494572 \nL 69.163125 139.5 \nL 88.693125 111.355603 \nL 108.223125 107.705736 \nL 127.753125 104.565562 \nL 147.283125 103.616479 \nL 166.813125 102.427197 \n\" clip-path=\"url(#pd3c3c79c3d)\" style=\"fill: none; stroke-dasharray: 9.6,2.4,1.5,2.4; stroke-dashoffset: 0; stroke: #2ca02c; stroke-width: 1.5\"/>\n   </g>\n   <g id=\"line2d_91\">\n    <path d=\"M 34.954394 13.5 \nL 44.698573 13.560011 \nL 54.442752 13.69495 \nL 64.186931 14.43466 \nL 73.93111 64.628913 \nL 83.675289 90.73986 \nL 93.419468 98.441036 \nL 103.163647 101.700761 \nL 112.907826 105.308553 \nL 122.652006 109.341427 \nL 132.396185 111.840777 \nL 142.140364 113.744764 \nL 151.884543 115.848027 \nL 161.628722 117.213704 \nL 171.372901 118.353908 \n\" clip-path=\"url(#pd3c3c79c3d)\" style=\"fill: none; stroke: #1f77b4; stroke-width: 1.5; stroke-linecap: square\"/>\n   </g>\n   <g id=\"line2d_92\">\n    <path d=\"M 49.633125 13.62193 \nL 69.163125 17.628804 \nL 88.693125 94.816901 \nL 108.223125 105.620274 \nL 127.753125 112.050223 \nL 147.283125 115.442235 \nL 166.813125 118.866695 \n\" clip-path=\"url(#pd3c3c79c3d)\" style=\"fill: none; stroke-dasharray: 5.55,2.4; stroke-dashoffset: 0; stroke: #ff7f0e; stroke-width: 1.5\"/>\n   </g>\n   <g id=\"line2d_93\">\n    <path d=\"M 49.633125 136.494572 \nL 69.163125 139.5 \nL 88.693125 111.355603 \nL 108.223125 107.705736 \nL 127.753125 104.565562 \nL 147.283125 103.616479 \nL 166.813125 102.427197 \n\" clip-path=\"url(#pd3c3c79c3d)\" style=\"fill: none; stroke-dasharray: 9.6,2.4,1.5,2.4; stroke-dashoffset: 0; stroke: #2ca02c; stroke-width: 1.5\"/>\n   </g>\n   <g id=\"line2d_94\">\n    <path d=\"M 34.954394 13.5 \nL 44.698573 13.560011 \nL 54.442752 13.69495 \nL 64.186931 14.43466 \nL 73.93111 64.628913 \nL 83.675289 90.73986 \nL 93.419468 98.441036 \nL 103.163647 101.700761 \nL 112.907826 105.308553 \nL 122.652006 109.341427 \nL 132.396185 111.840777 \nL 142.140364 113.744764 \nL 151.884543 115.848027 \nL 161.628722 117.213704 \nL 171.372901 118.353908 \nL 181.11708 119.963071 \n\" clip-path=\"url(#pd3c3c79c3d)\" style=\"fill: none; stroke: #1f77b4; stroke-width: 1.5; stroke-linecap: square\"/>\n   </g>\n   <g id=\"line2d_95\">\n    <path d=\"M 49.633125 13.62193 \nL 69.163125 17.628804 \nL 88.693125 94.816901 \nL 108.223125 105.620274 \nL 127.753125 112.050223 \nL 147.283125 115.442235 \nL 166.813125 118.866695 \n\" clip-path=\"url(#pd3c3c79c3d)\" style=\"fill: none; stroke-dasharray: 5.55,2.4; stroke-dashoffset: 0; stroke: #ff7f0e; stroke-width: 1.5\"/>\n   </g>\n   <g id=\"line2d_96\">\n    <path d=\"M 49.633125 136.494572 \nL 69.163125 139.5 \nL 88.693125 111.355603 \nL 108.223125 107.705736 \nL 127.753125 104.565562 \nL 147.283125 103.616479 \nL 166.813125 102.427197 \n\" clip-path=\"url(#pd3c3c79c3d)\" style=\"fill: none; stroke-dasharray: 9.6,2.4,1.5,2.4; stroke-dashoffset: 0; stroke: #2ca02c; stroke-width: 1.5\"/>\n   </g>\n   <g id=\"line2d_97\">\n    <path d=\"M 34.954394 13.5 \nL 44.698573 13.560011 \nL 54.442752 13.69495 \nL 64.186931 14.43466 \nL 73.93111 64.628913 \nL 83.675289 90.73986 \nL 93.419468 98.441036 \nL 103.163647 101.700761 \nL 112.907826 105.308553 \nL 122.652006 109.341427 \nL 132.396185 111.840777 \nL 142.140364 113.744764 \nL 151.884543 115.848027 \nL 161.628722 117.213704 \nL 171.372901 118.353908 \nL 181.11708 119.963071 \n\" clip-path=\"url(#pd3c3c79c3d)\" style=\"fill: none; stroke: #1f77b4; stroke-width: 1.5; stroke-linecap: square\"/>\n   </g>\n   <g id=\"line2d_98\">\n    <path d=\"M 49.633125 13.62193 \nL 69.163125 17.628804 \nL 88.693125 94.816901 \nL 108.223125 105.620274 \nL 127.753125 112.050223 \nL 147.283125 115.442235 \nL 166.813125 118.866695 \nL 186.343125 120.542384 \n\" clip-path=\"url(#pd3c3c79c3d)\" style=\"fill: none; stroke-dasharray: 5.55,2.4; stroke-dashoffset: 0; stroke: #ff7f0e; stroke-width: 1.5\"/>\n   </g>\n   <g id=\"line2d_99\">\n    <path d=\"M 49.633125 136.494572 \nL 69.163125 139.5 \nL 88.693125 111.355603 \nL 108.223125 107.705736 \nL 127.753125 104.565562 \nL 147.283125 103.616479 \nL 166.813125 102.427197 \n\" clip-path=\"url(#pd3c3c79c3d)\" style=\"fill: none; stroke-dasharray: 9.6,2.4,1.5,2.4; stroke-dashoffset: 0; stroke: #2ca02c; stroke-width: 1.5\"/>\n   </g>\n   <g id=\"line2d_100\">\n    <path d=\"M 34.954394 13.5 \nL 44.698573 13.560011 \nL 54.442752 13.69495 \nL 64.186931 14.43466 \nL 73.93111 64.628913 \nL 83.675289 90.73986 \nL 93.419468 98.441036 \nL 103.163647 101.700761 \nL 112.907826 105.308553 \nL 122.652006 109.341427 \nL 132.396185 111.840777 \nL 142.140364 113.744764 \nL 151.884543 115.848027 \nL 161.628722 117.213704 \nL 171.372901 118.353908 \nL 181.11708 119.963071 \n\" clip-path=\"url(#pd3c3c79c3d)\" style=\"fill: none; stroke: #1f77b4; stroke-width: 1.5; stroke-linecap: square\"/>\n   </g>\n   <g id=\"line2d_101\">\n    <path d=\"M 49.633125 13.62193 \nL 69.163125 17.628804 \nL 88.693125 94.816901 \nL 108.223125 105.620274 \nL 127.753125 112.050223 \nL 147.283125 115.442235 \nL 166.813125 118.866695 \nL 186.343125 120.542384 \n\" clip-path=\"url(#pd3c3c79c3d)\" style=\"fill: none; stroke-dasharray: 5.55,2.4; stroke-dashoffset: 0; stroke: #ff7f0e; stroke-width: 1.5\"/>\n   </g>\n   <g id=\"line2d_102\">\n    <path d=\"M 49.633125 136.494572 \nL 69.163125 139.5 \nL 88.693125 111.355603 \nL 108.223125 107.705736 \nL 127.753125 104.565562 \nL 147.283125 103.616479 \nL 166.813125 102.427197 \nL 186.343125 101.624578 \n\" clip-path=\"url(#pd3c3c79c3d)\" style=\"fill: none; stroke-dasharray: 9.6,2.4,1.5,2.4; stroke-dashoffset: 0; stroke: #2ca02c; stroke-width: 1.5\"/>\n   </g>\n   <g id=\"line2d_103\">\n    <path d=\"M 34.954394 13.5 \nL 44.698573 13.560011 \nL 54.442752 13.69495 \nL 64.186931 14.43466 \nL 73.93111 64.628913 \nL 83.675289 90.73986 \nL 93.419468 98.441036 \nL 103.163647 101.700761 \nL 112.907826 105.308553 \nL 122.652006 109.341427 \nL 132.396185 111.840777 \nL 142.140364 113.744764 \nL 151.884543 115.848027 \nL 161.628722 117.213704 \nL 171.372901 118.353908 \nL 181.11708 119.963071 \nL 190.861259 120.673281 \n\" clip-path=\"url(#pd3c3c79c3d)\" style=\"fill: none; stroke: #1f77b4; stroke-width: 1.5; stroke-linecap: square\"/>\n   </g>\n   <g id=\"line2d_104\">\n    <path d=\"M 49.633125 13.62193 \nL 69.163125 17.628804 \nL 88.693125 94.816901 \nL 108.223125 105.620274 \nL 127.753125 112.050223 \nL 147.283125 115.442235 \nL 166.813125 118.866695 \nL 186.343125 120.542384 \n\" clip-path=\"url(#pd3c3c79c3d)\" style=\"fill: none; stroke-dasharray: 5.55,2.4; stroke-dashoffset: 0; stroke: #ff7f0e; stroke-width: 1.5\"/>\n   </g>\n   <g id=\"line2d_105\">\n    <path d=\"M 49.633125 136.494572 \nL 69.163125 139.5 \nL 88.693125 111.355603 \nL 108.223125 107.705736 \nL 127.753125 104.565562 \nL 147.283125 103.616479 \nL 166.813125 102.427197 \nL 186.343125 101.624578 \n\" clip-path=\"url(#pd3c3c79c3d)\" style=\"fill: none; stroke-dasharray: 9.6,2.4,1.5,2.4; stroke-dashoffset: 0; stroke: #2ca02c; stroke-width: 1.5\"/>\n   </g>\n   <g id=\"line2d_106\">\n    <path d=\"M 34.954394 13.5 \nL 44.698573 13.560011 \nL 54.442752 13.69495 \nL 64.186931 14.43466 \nL 73.93111 64.628913 \nL 83.675289 90.73986 \nL 93.419468 98.441036 \nL 103.163647 101.700761 \nL 112.907826 105.308553 \nL 122.652006 109.341427 \nL 132.396185 111.840777 \nL 142.140364 113.744764 \nL 151.884543 115.848027 \nL 161.628722 117.213704 \nL 171.372901 118.353908 \nL 181.11708 119.963071 \nL 190.861259 120.673281 \nL 200.605438 121.543313 \n\" clip-path=\"url(#pd3c3c79c3d)\" style=\"fill: none; stroke: #1f77b4; stroke-width: 1.5; stroke-linecap: square\"/>\n   </g>\n   <g id=\"line2d_107\">\n    <path d=\"M 49.633125 13.62193 \nL 69.163125 17.628804 \nL 88.693125 94.816901 \nL 108.223125 105.620274 \nL 127.753125 112.050223 \nL 147.283125 115.442235 \nL 166.813125 118.866695 \nL 186.343125 120.542384 \n\" clip-path=\"url(#pd3c3c79c3d)\" style=\"fill: none; stroke-dasharray: 5.55,2.4; stroke-dashoffset: 0; stroke: #ff7f0e; stroke-width: 1.5\"/>\n   </g>\n   <g id=\"line2d_108\">\n    <path d=\"M 49.633125 136.494572 \nL 69.163125 139.5 \nL 88.693125 111.355603 \nL 108.223125 107.705736 \nL 127.753125 104.565562 \nL 147.283125 103.616479 \nL 166.813125 102.427197 \nL 186.343125 101.624578 \n\" clip-path=\"url(#pd3c3c79c3d)\" style=\"fill: none; stroke-dasharray: 9.6,2.4,1.5,2.4; stroke-dashoffset: 0; stroke: #2ca02c; stroke-width: 1.5\"/>\n   </g>\n   <g id=\"line2d_109\">\n    <path d=\"M 34.954394 13.5 \nL 44.698573 13.560011 \nL 54.442752 13.69495 \nL 64.186931 14.43466 \nL 73.93111 64.628913 \nL 83.675289 90.73986 \nL 93.419468 98.441036 \nL 103.163647 101.700761 \nL 112.907826 105.308553 \nL 122.652006 109.341427 \nL 132.396185 111.840777 \nL 142.140364 113.744764 \nL 151.884543 115.848027 \nL 161.628722 117.213704 \nL 171.372901 118.353908 \nL 181.11708 119.963071 \nL 190.861259 120.673281 \nL 200.605438 121.543313 \n\" clip-path=\"url(#pd3c3c79c3d)\" style=\"fill: none; stroke: #1f77b4; stroke-width: 1.5; stroke-linecap: square\"/>\n   </g>\n   <g id=\"line2d_110\">\n    <path d=\"M 49.633125 13.62193 \nL 69.163125 17.628804 \nL 88.693125 94.816901 \nL 108.223125 105.620274 \nL 127.753125 112.050223 \nL 147.283125 115.442235 \nL 166.813125 118.866695 \nL 186.343125 120.542384 \nL 205.873125 122.308526 \n\" clip-path=\"url(#pd3c3c79c3d)\" style=\"fill: none; stroke-dasharray: 5.55,2.4; stroke-dashoffset: 0; stroke: #ff7f0e; stroke-width: 1.5\"/>\n   </g>\n   <g id=\"line2d_111\">\n    <path d=\"M 49.633125 136.494572 \nL 69.163125 139.5 \nL 88.693125 111.355603 \nL 108.223125 107.705736 \nL 127.753125 104.565562 \nL 147.283125 103.616479 \nL 166.813125 102.427197 \nL 186.343125 101.624578 \n\" clip-path=\"url(#pd3c3c79c3d)\" style=\"fill: none; stroke-dasharray: 9.6,2.4,1.5,2.4; stroke-dashoffset: 0; stroke: #2ca02c; stroke-width: 1.5\"/>\n   </g>\n   <g id=\"line2d_112\">\n    <path d=\"M 34.954394 13.5 \nL 44.698573 13.560011 \nL 54.442752 13.69495 \nL 64.186931 14.43466 \nL 73.93111 64.628913 \nL 83.675289 90.73986 \nL 93.419468 98.441036 \nL 103.163647 101.700761 \nL 112.907826 105.308553 \nL 122.652006 109.341427 \nL 132.396185 111.840777 \nL 142.140364 113.744764 \nL 151.884543 115.848027 \nL 161.628722 117.213704 \nL 171.372901 118.353908 \nL 181.11708 119.963071 \nL 190.861259 120.673281 \nL 200.605438 121.543313 \n\" clip-path=\"url(#pd3c3c79c3d)\" style=\"fill: none; stroke: #1f77b4; stroke-width: 1.5; stroke-linecap: square\"/>\n   </g>\n   <g id=\"line2d_113\">\n    <path d=\"M 49.633125 13.62193 \nL 69.163125 17.628804 \nL 88.693125 94.816901 \nL 108.223125 105.620274 \nL 127.753125 112.050223 \nL 147.283125 115.442235 \nL 166.813125 118.866695 \nL 186.343125 120.542384 \nL 205.873125 122.308526 \n\" clip-path=\"url(#pd3c3c79c3d)\" style=\"fill: none; stroke-dasharray: 5.55,2.4; stroke-dashoffset: 0; stroke: #ff7f0e; stroke-width: 1.5\"/>\n   </g>\n   <g id=\"line2d_114\">\n    <path d=\"M 49.633125 136.494572 \nL 69.163125 139.5 \nL 88.693125 111.355603 \nL 108.223125 107.705736 \nL 127.753125 104.565562 \nL 147.283125 103.616479 \nL 166.813125 102.427197 \nL 186.343125 101.624578 \nL 205.873125 101.191046 \n\" clip-path=\"url(#pd3c3c79c3d)\" style=\"fill: none; stroke-dasharray: 9.6,2.4,1.5,2.4; stroke-dashoffset: 0; stroke: #2ca02c; stroke-width: 1.5\"/>\n   </g>\n   <g id=\"line2d_115\">\n    <path d=\"M 34.954394 13.5 \nL 44.698573 13.560011 \nL 54.442752 13.69495 \nL 64.186931 14.43466 \nL 73.93111 64.628913 \nL 83.675289 90.73986 \nL 93.419468 98.441036 \nL 103.163647 101.700761 \nL 112.907826 105.308553 \nL 122.652006 109.341427 \nL 132.396185 111.840777 \nL 142.140364 113.744764 \nL 151.884543 115.848027 \nL 161.628722 117.213704 \nL 171.372901 118.353908 \nL 181.11708 119.963071 \nL 190.861259 120.673281 \nL 200.605438 121.543313 \nL 210.349618 122.249603 \n\" clip-path=\"url(#pd3c3c79c3d)\" style=\"fill: none; stroke: #1f77b4; stroke-width: 1.5; stroke-linecap: square\"/>\n   </g>\n   <g id=\"line2d_116\">\n    <path d=\"M 49.633125 13.62193 \nL 69.163125 17.628804 \nL 88.693125 94.816901 \nL 108.223125 105.620274 \nL 127.753125 112.050223 \nL 147.283125 115.442235 \nL 166.813125 118.866695 \nL 186.343125 120.542384 \nL 205.873125 122.308526 \n\" clip-path=\"url(#pd3c3c79c3d)\" style=\"fill: none; stroke-dasharray: 5.55,2.4; stroke-dashoffset: 0; stroke: #ff7f0e; stroke-width: 1.5\"/>\n   </g>\n   <g id=\"line2d_117\">\n    <path d=\"M 49.633125 136.494572 \nL 69.163125 139.5 \nL 88.693125 111.355603 \nL 108.223125 107.705736 \nL 127.753125 104.565562 \nL 147.283125 103.616479 \nL 166.813125 102.427197 \nL 186.343125 101.624578 \nL 205.873125 101.191046 \n\" clip-path=\"url(#pd3c3c79c3d)\" style=\"fill: none; stroke-dasharray: 9.6,2.4,1.5,2.4; stroke-dashoffset: 0; stroke: #2ca02c; stroke-width: 1.5\"/>\n   </g>\n   <g id=\"line2d_118\">\n    <path d=\"M 34.954394 13.5 \nL 44.698573 13.560011 \nL 54.442752 13.69495 \nL 64.186931 14.43466 \nL 73.93111 64.628913 \nL 83.675289 90.73986 \nL 93.419468 98.441036 \nL 103.163647 101.700761 \nL 112.907826 105.308553 \nL 122.652006 109.341427 \nL 132.396185 111.840777 \nL 142.140364 113.744764 \nL 151.884543 115.848027 \nL 161.628722 117.213704 \nL 171.372901 118.353908 \nL 181.11708 119.963071 \nL 190.861259 120.673281 \nL 200.605438 121.543313 \nL 210.349618 122.249603 \nL 220.093797 123.269492 \n\" clip-path=\"url(#pd3c3c79c3d)\" style=\"fill: none; stroke: #1f77b4; stroke-width: 1.5; stroke-linecap: square\"/>\n   </g>\n   <g id=\"line2d_119\">\n    <path d=\"M 49.633125 13.62193 \nL 69.163125 17.628804 \nL 88.693125 94.816901 \nL 108.223125 105.620274 \nL 127.753125 112.050223 \nL 147.283125 115.442235 \nL 166.813125 118.866695 \nL 186.343125 120.542384 \nL 205.873125 122.308526 \n\" clip-path=\"url(#pd3c3c79c3d)\" style=\"fill: none; stroke-dasharray: 5.55,2.4; stroke-dashoffset: 0; stroke: #ff7f0e; stroke-width: 1.5\"/>\n   </g>\n   <g id=\"line2d_120\">\n    <path d=\"M 49.633125 136.494572 \nL 69.163125 139.5 \nL 88.693125 111.355603 \nL 108.223125 107.705736 \nL 127.753125 104.565562 \nL 147.283125 103.616479 \nL 166.813125 102.427197 \nL 186.343125 101.624578 \nL 205.873125 101.191046 \n\" clip-path=\"url(#pd3c3c79c3d)\" style=\"fill: none; stroke-dasharray: 9.6,2.4,1.5,2.4; stroke-dashoffset: 0; stroke: #2ca02c; stroke-width: 1.5\"/>\n   </g>\n   <g id=\"line2d_121\">\n    <path d=\"M 34.954394 13.5 \nL 44.698573 13.560011 \nL 54.442752 13.69495 \nL 64.186931 14.43466 \nL 73.93111 64.628913 \nL 83.675289 90.73986 \nL 93.419468 98.441036 \nL 103.163647 101.700761 \nL 112.907826 105.308553 \nL 122.652006 109.341427 \nL 132.396185 111.840777 \nL 142.140364 113.744764 \nL 151.884543 115.848027 \nL 161.628722 117.213704 \nL 171.372901 118.353908 \nL 181.11708 119.963071 \nL 190.861259 120.673281 \nL 200.605438 121.543313 \nL 210.349618 122.249603 \nL 220.093797 123.269492 \n\" clip-path=\"url(#pd3c3c79c3d)\" style=\"fill: none; stroke: #1f77b4; stroke-width: 1.5; stroke-linecap: square\"/>\n   </g>\n   <g id=\"line2d_122\">\n    <path d=\"M 49.633125 13.62193 \nL 69.163125 17.628804 \nL 88.693125 94.816901 \nL 108.223125 105.620274 \nL 127.753125 112.050223 \nL 147.283125 115.442235 \nL 166.813125 118.866695 \nL 186.343125 120.542384 \nL 205.873125 122.308526 \nL 225.403125 123.205328 \n\" clip-path=\"url(#pd3c3c79c3d)\" style=\"fill: none; stroke-dasharray: 5.55,2.4; stroke-dashoffset: 0; stroke: #ff7f0e; stroke-width: 1.5\"/>\n   </g>\n   <g id=\"line2d_123\">\n    <path d=\"M 49.633125 136.494572 \nL 69.163125 139.5 \nL 88.693125 111.355603 \nL 108.223125 107.705736 \nL 127.753125 104.565562 \nL 147.283125 103.616479 \nL 166.813125 102.427197 \nL 186.343125 101.624578 \nL 205.873125 101.191046 \n\" clip-path=\"url(#pd3c3c79c3d)\" style=\"fill: none; stroke-dasharray: 9.6,2.4,1.5,2.4; stroke-dashoffset: 0; stroke: #2ca02c; stroke-width: 1.5\"/>\n   </g>\n   <g id=\"line2d_124\">\n    <path d=\"M 34.954394 13.5 \nL 44.698573 13.560011 \nL 54.442752 13.69495 \nL 64.186931 14.43466 \nL 73.93111 64.628913 \nL 83.675289 90.73986 \nL 93.419468 98.441036 \nL 103.163647 101.700761 \nL 112.907826 105.308553 \nL 122.652006 109.341427 \nL 132.396185 111.840777 \nL 142.140364 113.744764 \nL 151.884543 115.848027 \nL 161.628722 117.213704 \nL 171.372901 118.353908 \nL 181.11708 119.963071 \nL 190.861259 120.673281 \nL 200.605438 121.543313 \nL 210.349618 122.249603 \nL 220.093797 123.269492 \n\" clip-path=\"url(#pd3c3c79c3d)\" style=\"fill: none; stroke: #1f77b4; stroke-width: 1.5; stroke-linecap: square\"/>\n   </g>\n   <g id=\"line2d_125\">\n    <path d=\"M 49.633125 13.62193 \nL 69.163125 17.628804 \nL 88.693125 94.816901 \nL 108.223125 105.620274 \nL 127.753125 112.050223 \nL 147.283125 115.442235 \nL 166.813125 118.866695 \nL 186.343125 120.542384 \nL 205.873125 122.308526 \nL 225.403125 123.205328 \n\" clip-path=\"url(#pd3c3c79c3d)\" style=\"fill: none; stroke-dasharray: 5.55,2.4; stroke-dashoffset: 0; stroke: #ff7f0e; stroke-width: 1.5\"/>\n   </g>\n   <g id=\"line2d_126\">\n    <path d=\"M 49.633125 136.494572 \nL 69.163125 139.5 \nL 88.693125 111.355603 \nL 108.223125 107.705736 \nL 127.753125 104.565562 \nL 147.283125 103.616479 \nL 166.813125 102.427197 \nL 186.343125 101.624578 \nL 205.873125 101.191046 \nL 225.403125 100.734081 \n\" clip-path=\"url(#pd3c3c79c3d)\" style=\"fill: none; stroke-dasharray: 9.6,2.4,1.5,2.4; stroke-dashoffset: 0; stroke: #2ca02c; stroke-width: 1.5\"/>\n   </g>\n   <g id=\"patch_3\">\n    <path d=\"M 30.103125 145.8 \nL 30.103125 7.2 \n\" style=\"fill: none; stroke: #000000; stroke-width: 0.8; stroke-linejoin: miter; stroke-linecap: square\"/>\n   </g>\n   <g id=\"patch_4\">\n    <path d=\"M 225.403125 145.8 \nL 225.403125 7.2 \n\" style=\"fill: none; stroke: #000000; stroke-width: 0.8; stroke-linejoin: miter; stroke-linecap: square\"/>\n   </g>\n   <g id=\"patch_5\">\n    <path d=\"M 30.103125 145.8 \nL 225.403125 145.8 \n\" style=\"fill: none; stroke: #000000; stroke-width: 0.8; stroke-linejoin: miter; stroke-linecap: square\"/>\n   </g>\n   <g id=\"patch_6\">\n    <path d=\"M 30.103125 7.2 \nL 225.403125 7.2 \n\" style=\"fill: none; stroke: #000000; stroke-width: 0.8; stroke-linejoin: miter; stroke-linecap: square\"/>\n   </g>\n   <g id=\"legend_1\">\n    <g id=\"patch_7\">\n     <path d=\"M 138.8125 60.06875 \nL 218.403125 60.06875 \nQ 220.403125 60.06875 220.403125 58.06875 \nL 220.403125 14.2 \nQ 220.403125 12.2 218.403125 12.2 \nL 138.8125 12.2 \nQ 136.8125 12.2 136.8125 14.2 \nL 136.8125 58.06875 \nQ 136.8125 60.06875 138.8125 60.06875 \nz\n\" style=\"fill: #ffffff; opacity: 0.8; stroke: #cccccc; stroke-linejoin: miter\"/>\n    </g>\n    <g id=\"line2d_127\">\n     <path d=\"M 140.8125 20.298438 \nL 150.8125 20.298438 \nL 160.8125 20.298438 \n\" style=\"fill: none; stroke: #1f77b4; stroke-width: 1.5; stroke-linecap: square\"/>\n    </g>\n    <g id=\"text_12\">\n     <!-- train_loss -->\n     <g transform=\"translate(168.8125 23.798438) scale(0.1 -0.1)\">\n      <defs>\n       <path id=\"DejaVuSans-74\" d=\"M 1172 4494 \nL 1172 3500 \nL 2356 3500 \nL 2356 3053 \nL 1172 3053 \nL 1172 1153 \nQ 1172 725 1289 603 \nQ 1406 481 1766 481 \nL 2356 481 \nL 2356 0 \nL 1766 0 \nQ 1100 0 847 248 \nQ 594 497 594 1153 \nL 594 3053 \nL 172 3053 \nL 172 3500 \nL 594 3500 \nL 594 4494 \nL 1172 4494 \nz\n\" transform=\"scale(0.015625)\"/>\n       <path id=\"DejaVuSans-72\" d=\"M 2631 2963 \nQ 2534 3019 2420 3045 \nQ 2306 3072 2169 3072 \nQ 1681 3072 1420 2755 \nQ 1159 2438 1159 1844 \nL 1159 0 \nL 581 0 \nL 581 3500 \nL 1159 3500 \nL 1159 2956 \nQ 1341 3275 1631 3429 \nQ 1922 3584 2338 3584 \nQ 2397 3584 2469 3576 \nQ 2541 3569 2628 3553 \nL 2631 2963 \nz\n\" transform=\"scale(0.015625)\"/>\n       <path id=\"DejaVuSans-61\" d=\"M 2194 1759 \nQ 1497 1759 1228 1600 \nQ 959 1441 959 1056 \nQ 959 750 1161 570 \nQ 1363 391 1709 391 \nQ 2188 391 2477 730 \nQ 2766 1069 2766 1631 \nL 2766 1759 \nL 2194 1759 \nz\nM 3341 1997 \nL 3341 0 \nL 2766 0 \nL 2766 531 \nQ 2569 213 2275 61 \nQ 1981 -91 1556 -91 \nQ 1019 -91 701 211 \nQ 384 513 384 1019 \nQ 384 1609 779 1909 \nQ 1175 2209 1959 2209 \nL 2766 2209 \nL 2766 2266 \nQ 2766 2663 2505 2880 \nQ 2244 3097 1772 3097 \nQ 1472 3097 1187 3025 \nQ 903 2953 641 2809 \nL 641 3341 \nQ 956 3463 1253 3523 \nQ 1550 3584 1831 3584 \nQ 2591 3584 2966 3190 \nQ 3341 2797 3341 1997 \nz\n\" transform=\"scale(0.015625)\"/>\n       <path id=\"DejaVuSans-69\" d=\"M 603 3500 \nL 1178 3500 \nL 1178 0 \nL 603 0 \nL 603 3500 \nz\nM 603 4863 \nL 1178 4863 \nL 1178 4134 \nL 603 4134 \nL 603 4863 \nz\n\" transform=\"scale(0.015625)\"/>\n       <path id=\"DejaVuSans-6e\" d=\"M 3513 2113 \nL 3513 0 \nL 2938 0 \nL 2938 2094 \nQ 2938 2591 2744 2837 \nQ 2550 3084 2163 3084 \nQ 1697 3084 1428 2787 \nQ 1159 2491 1159 1978 \nL 1159 0 \nL 581 0 \nL 581 3500 \nL 1159 3500 \nL 1159 2956 \nQ 1366 3272 1645 3428 \nQ 1925 3584 2291 3584 \nQ 2894 3584 3203 3211 \nQ 3513 2838 3513 2113 \nz\n\" transform=\"scale(0.015625)\"/>\n       <path id=\"DejaVuSans-5f\" d=\"M 3263 -1063 \nL 3263 -1509 \nL -63 -1509 \nL -63 -1063 \nL 3263 -1063 \nz\n\" transform=\"scale(0.015625)\"/>\n       <path id=\"DejaVuSans-6c\" d=\"M 603 4863 \nL 1178 4863 \nL 1178 0 \nL 603 0 \nL 603 4863 \nz\n\" transform=\"scale(0.015625)\"/>\n       <path id=\"DejaVuSans-73\" d=\"M 2834 3397 \nL 2834 2853 \nQ 2591 2978 2328 3040 \nQ 2066 3103 1784 3103 \nQ 1356 3103 1142 2972 \nQ 928 2841 928 2578 \nQ 928 2378 1081 2264 \nQ 1234 2150 1697 2047 \nL 1894 2003 \nQ 2506 1872 2764 1633 \nQ 3022 1394 3022 966 \nQ 3022 478 2636 193 \nQ 2250 -91 1575 -91 \nQ 1294 -91 989 -36 \nQ 684 19 347 128 \nL 347 722 \nQ 666 556 975 473 \nQ 1284 391 1588 391 \nQ 1994 391 2212 530 \nQ 2431 669 2431 922 \nQ 2431 1156 2273 1281 \nQ 2116 1406 1581 1522 \nL 1381 1569 \nQ 847 1681 609 1914 \nQ 372 2147 372 2553 \nQ 372 3047 722 3315 \nQ 1072 3584 1716 3584 \nQ 2034 3584 2315 3537 \nQ 2597 3491 2834 3397 \nz\n\" transform=\"scale(0.015625)\"/>\n      </defs>\n      <use xlink:href=\"#DejaVuSans-74\"/>\n      <use xlink:href=\"#DejaVuSans-72\" x=\"39.208984\"/>\n      <use xlink:href=\"#DejaVuSans-61\" x=\"80.322266\"/>\n      <use xlink:href=\"#DejaVuSans-69\" x=\"141.601562\"/>\n      <use xlink:href=\"#DejaVuSans-6e\" x=\"169.384766\"/>\n      <use xlink:href=\"#DejaVuSans-5f\" x=\"232.763672\"/>\n      <use xlink:href=\"#DejaVuSans-6c\" x=\"282.763672\"/>\n      <use xlink:href=\"#DejaVuSans-6f\" x=\"310.546875\"/>\n      <use xlink:href=\"#DejaVuSans-73\" x=\"371.728516\"/>\n      <use xlink:href=\"#DejaVuSans-73\" x=\"423.828125\"/>\n     </g>\n    </g>\n    <g id=\"line2d_128\">\n     <path d=\"M 140.8125 35.254688 \nL 150.8125 35.254688 \nL 160.8125 35.254688 \n\" style=\"fill: none; stroke-dasharray: 5.55,2.4; stroke-dashoffset: 0; stroke: #ff7f0e; stroke-width: 1.5\"/>\n    </g>\n    <g id=\"text_13\">\n     <!-- val_loss -->\n     <g transform=\"translate(168.8125 38.754688) scale(0.1 -0.1)\">\n      <defs>\n       <path id=\"DejaVuSans-76\" d=\"M 191 3500 \nL 800 3500 \nL 1894 563 \nL 2988 3500 \nL 3597 3500 \nL 2284 0 \nL 1503 0 \nL 191 3500 \nz\n\" transform=\"scale(0.015625)\"/>\n      </defs>\n      <use xlink:href=\"#DejaVuSans-76\"/>\n      <use xlink:href=\"#DejaVuSans-61\" x=\"59.179688\"/>\n      <use xlink:href=\"#DejaVuSans-6c\" x=\"120.458984\"/>\n      <use xlink:href=\"#DejaVuSans-5f\" x=\"148.242188\"/>\n      <use xlink:href=\"#DejaVuSans-6c\" x=\"198.242188\"/>\n      <use xlink:href=\"#DejaVuSans-6f\" x=\"226.025391\"/>\n      <use xlink:href=\"#DejaVuSans-73\" x=\"287.207031\"/>\n      <use xlink:href=\"#DejaVuSans-73\" x=\"339.306641\"/>\n     </g>\n    </g>\n    <g id=\"line2d_129\">\n     <path d=\"M 140.8125 50.210938 \nL 150.8125 50.210938 \nL 160.8125 50.210938 \n\" style=\"fill: none; stroke-dasharray: 9.6,2.4,1.5,2.4; stroke-dashoffset: 0; stroke: #2ca02c; stroke-width: 1.5\"/>\n    </g>\n    <g id=\"text_14\">\n     <!-- val_acc -->\n     <g transform=\"translate(168.8125 53.710938) scale(0.1 -0.1)\">\n      <use xlink:href=\"#DejaVuSans-76\"/>\n      <use xlink:href=\"#DejaVuSans-61\" x=\"59.179688\"/>\n      <use xlink:href=\"#DejaVuSans-6c\" x=\"120.458984\"/>\n      <use xlink:href=\"#DejaVuSans-5f\" x=\"148.242188\"/>\n      <use xlink:href=\"#DejaVuSans-61\" x=\"198.242188\"/>\n      <use xlink:href=\"#DejaVuSans-63\" x=\"259.521484\"/>\n      <use xlink:href=\"#DejaVuSans-63\" x=\"314.501953\"/>\n     </g>\n    </g>\n   </g>\n  </g>\n </g>\n <defs>\n  <clipPath id=\"pd3c3c79c3d\">\n   <rect x=\"30.103125\" y=\"7.2\" width=\"195.3\" height=\"138.6\"/>\n  </clipPath>\n </defs>\n</svg>\n"
          },
          "metadata": {}
        }
      ],
      "source": [
        "model = AlexNet(lr=0.01)\n",
        "data = d2l.FashionMNIST(batch_size=128, resize=(224, 224))\n",
        "trainer = d2l.Trainer(max_epochs=10, num_gpus=1)\n",
        "trainer.fit(model, data)"
      ]
    },
    {
      "cell_type": "markdown",
      "metadata": {
        "origin_pos": 16,
        "id": "f9c33357"
      },
      "source": [
        "## Discussion\n",
        "\n",
        "AlexNet's structure bears a striking resemblance to LeNet, with a number of critical improvements, both for accuracy (dropout) and for ease of training (ReLU). What is equally striking is the amount of progress that has been made in terms of deep learning tooling. What was several months of work in 2012 can now be accomplished in a dozen lines of code using any modern framework.\n",
        "\n",
        "Reviewing the architecture, we see that AlexNet has an Achilles heel when it comes to efficiency: the last two hidden layers require matrices of size $6400 \\times 4096$ and $4096 \\times 4096$, respectively. This corresponds to 164 MB of memory and 81 MFLOPs of computation, both of which are a nontrivial outlay, especially on smaller devices, such as mobile phones. This is one of the reasons why AlexNet has been surpassed by much more effective architectures that we will cover in the following sections. Nonetheless, it is a key step from shallow to deep networks that are used nowadays. Note that even though the number of parameters exceeds by far the amount of training data in our experiments (the last two layers have more than 40 million parameters, trained on a datasets of 60 thousand images), there is hardly any overfitting: training and validation loss are virtually identical throughout training. This is due to the improved regularization, such as dropout, inherent in modern deep network designs.\n",
        "\n",
        "Although it seems that there are only a few more lines in AlexNet's implementation than in LeNet's, it took the academic community many years to embrace this conceptual change and take advantage of its excellent experimental results. This was also due to the lack of efficient computational tools. At the time neither DistBelief :cite:`Dean.Corrado.Monga.ea.2012` nor Caffe :cite:`Jia.Shelhamer.Donahue.ea.2014` existed, and Theano :cite:`Bergstra.Breuleux.Bastien.ea.2010` still lacked many distinguishing features. It was the availability of TensorFlow :cite:`Abadi.Barham.Chen.ea.2016` that dramatically changed the situation.\n",
        "\n",
        "## Exercises\n",
        "\n",
        "1. Following up on the discussion above, analyze the computational properties of AlexNet.\n",
        "    1. Compute the memory footprint for convolutions and fully connected layers, respectively. Which one dominates?\n",
        "    1. Calculate the computational cost for the convolutions and the fully connected layers.\n",
        "    1. How does the memory (read and write bandwidth, latency, size) affect computation? Is there any difference in its effects for training and inference?\n",
        "1. You are a chip designer and need to trade off computation and memory bandwidth. For example, a faster chip requires more power and possibly a larger chip area. More memory bandwidth requires more pins and control logic, thus also more area. How do you optimize?\n",
        "1. Why do engineers no longer report performance benchmarks on AlexNet?\n",
        "1. Try increasing the number of epochs when training AlexNet. Compared with LeNet, how do the results differ? Why?\n",
        "1. AlexNet may be too complex for the Fashion-MNIST dataset, in particular due to the low resolution of the initial images.\n",
        "    1. Try simplifying the model to make the training faster, while ensuring that the accuracy does not drop significantly.\n",
        "    1. Design a better model that works directly on $28 \\times 28$ images.\n",
        "1. Modify the batch size, and observe the changes in throughput (images/s), accuracy, and GPU memory.\n",
        "1. Apply dropout and ReLU to LeNet-5. Does it improve? Can you improve things further by preprocessing to take advantage of the invariances inherent in the images?\n",
        "1. Can you make AlexNet overfit? Which feature do you need to remove or change to break training?\n"
      ]
    },
    {
      "cell_type": "markdown",
      "source": [
        "## Jawaban"
      ],
      "metadata": {
        "id": "qslioIIoNdFC"
      }
    },
    {
      "cell_type": "markdown",
      "source": [
        "###1.1."
      ],
      "metadata": {
        "id": "teQoHtGoPly5"
      }
    },
    {
      "cell_type": "code",
      "source": [
        "#jumlah parameter konvolusi\n",
        "3*96*11*11+96+96*256*5*5+256+256*384*3*3+384+384*384*3*3+384+384*256*3*3+256"
      ],
      "metadata": {
        "colab": {
          "base_uri": "https://localhost:8080/"
        },
        "id": "bHhujaqSPT-M",
        "outputId": "656a88e7-ea73-405c-a080-1c2ad3101250"
      },
      "execution_count": 2,
      "outputs": [
        {
          "output_type": "execute_result",
          "data": {
            "text/plain": [
              "3747200"
            ]
          },
          "metadata": {},
          "execution_count": 2
        }
      ]
    },
    {
      "cell_type": "code",
      "source": [
        "#jumlah parameter fully connected\n",
        "80*80*4096+4096+4096*4096+4096+4096*10+10 #"
      ],
      "metadata": {
        "colab": {
          "base_uri": "https://localhost:8080/"
        },
        "id": "jbnqTU7cPyjg",
        "outputId": "0be360cc-135a-45ab-c519-aaabf95050a8"
      },
      "execution_count": 3,
      "outputs": [
        {
          "output_type": "execute_result",
          "data": {
            "text/plain": [
              "43040778"
            ]
          },
          "metadata": {},
          "execution_count": 3
        }
      ]
    },
    {
      "cell_type": "markdown",
      "source": [
        "Fully connected layer mendominasi penggunaan memori. Meskipun lapisan konvolusi membutuhkan lebih banyak perhitungan pada lapisan awal, lapisan fully connected tetap mengkonsumsi memori yang jauh lebih besar karena jumlah parameternya yang besar."
      ],
      "metadata": {
        "id": "W_jhJ9xfPikx"
      }
    },
    {
      "cell_type": "markdown",
      "source": [
        "###1.2."
      ],
      "metadata": {
        "id": "0guXRcDMPm9O"
      }
    },
    {
      "cell_type": "code",
      "source": [
        "#jumlah cost komputasi untuk konvolusi\n",
        "3*96*11*11*54*54+96*256*5*5*26*26+256*384*3*3*12*12+384*384*3*3*12*12+384*256*3*3*12*12"
      ],
      "metadata": {
        "colab": {
          "base_uri": "https://localhost:8080/"
        },
        "id": "lasb7DBgQI9P",
        "outputId": "31111de7-1942-4296-89c5-374580a4937d"
      },
      "execution_count": 4,
      "outputs": [
        {
          "output_type": "execute_result",
          "data": {
            "text/plain": [
              "962858112"
            ]
          },
          "metadata": {},
          "execution_count": 4
        }
      ]
    },
    {
      "cell_type": "code",
      "source": [
        "#jumlah cost komputasi untuk fully connected\n",
        "80*80*4096+4096+4096*4096+4096+4096*10+10"
      ],
      "metadata": {
        "colab": {
          "base_uri": "https://localhost:8080/"
        },
        "id": "DL02hEHLQhDi",
        "outputId": "811edb75-fa9b-4c2f-fa65-009aa3dc5d94"
      },
      "execution_count": 5,
      "outputs": [
        {
          "output_type": "execute_result",
          "data": {
            "text/plain": [
              "43040778"
            ]
          },
          "metadata": {},
          "execution_count": 5
        }
      ]
    },
    {
      "cell_type": "markdown",
      "source": [
        "###1.3."
      ],
      "metadata": {
        "id": "V5a11cqxQ7c9"
      }
    },
    {
      "cell_type": "markdown",
      "source": [
        "Memori memengaruhi perhitungan dalam dua cara: latensi (waktu untuk mengakses memori) dan bandwidth (jumlah data yang dapat ditransfer per satuan waktu). Selama pelatihan, baik read bandwidth maupun write bandwidth sangat penting karena perhitungan gradien melibatkan membaca input dan bobot, lalu memperbarui bobot. Pelatihan jauh lebih intensif dalam penggunaan memori dibandingkan inferensi. Selama inferensi, read bandwidth lebih kritis daripada write bandwidth, karena tidak ada gradien yang perlu disimpan. Hal ini mengurangi tekanan memori dibandingkan dengan pelatihan."
      ],
      "metadata": {
        "id": "bw5-YUu1RNWu"
      }
    },
    {
      "cell_type": "markdown",
      "source": [
        "###2."
      ],
      "metadata": {
        "id": "U6n4fVNASBU3"
      }
    },
    {
      "cell_type": "markdown",
      "source": [
        "Sebagai perancang chip, pertimbangan utama adalah menyeimbangkan kecepatan komputasi, konsumsi daya, dan bandwidth memori.\n",
        "\n",
        "Pendekatan optimasi:\n",
        "- Mengurangi jejak memori: Menerapkan kuantisasi parameter (mengurangi lebar bit bobot dan aktivasi), serta menggunakan teknik seperti berbagi bobot atau bobot jarang.\n",
        "- Meningkatkan efisiensi komputasi: Menggunakan perangkat keras khusus (misalnya, GPU atau TPU) untuk mempercepat perkalian matriks dan konvolusi.\n",
        "Pemipilan komputasi: Mendesain hierarki memori (cache) untuk meminimalkan latensi memori dengan menyimpan data yang sering diakses lebih dekat ke unit pemrosesan.\n",
        "- Menyeimbangkan konsumsi daya: Meminimalkan jumlah operasi dengan mengompresi model, menggunakan teknik seperti pemangkasan (pruning), sambil mempertahankan akurasi model."
      ],
      "metadata": {
        "id": "WquGdSGmSJQn"
      }
    },
    {
      "cell_type": "markdown",
      "source": [
        "###3."
      ],
      "metadata": {
        "id": "5s2xgtZ5Sm2F"
      }
    },
    {
      "cell_type": "markdown",
      "source": [
        "AlexNet tidak lagi digunakan sebagai tolak ukur karena arsitektur yang lebih canggih seperti VGG, ResNet, dan EfficientNet telah jauh melampaui kinerjanya dalam hal akurasi, efisiensi, dan biaya komputasi. Arsitektur modern dioptimalkan untuk akurasi dan kecepatan, memungkinkan mereka untuk dilatih lebih cepat dan diimplementasikan pada berbagai perangkat, termasuk platform seluler."
      ],
      "metadata": {
        "id": "HfoK_ub0SqJP"
      }
    },
    {
      "cell_type": "markdown",
      "source": [
        "###4."
      ],
      "metadata": {
        "id": "4O-PcGf7S3Nm"
      }
    },
    {
      "cell_type": "markdown",
      "source": [
        "AlexNet lebih dalam dan lebih kompleks daripada LeNet, sehingga memerlukan lebih banyak epoch untuk mencapai konvergensi. AlexNet juga membutuhkan lebih banyak data untuk pelatihan yang efektif, mengingat jumlah parameternya yang lebih besar. Ketika jumlah epoch ditingkatkan, AlexNet menunjukkan generalisasi yang lebih kuat karena arsitekturnya yang lebih dalam dan penggunaan teknik seperti dropout dan ReLU. LeNet, sebagai jaringan yang lebih dangkal, konvergensi lebih cepat tetapi mungkin tidak mencapai tingkat akurasi yang sama, terutama pada dataset yang lebih kompleks."
      ],
      "metadata": {
        "id": "G-w-F-rtS7UV"
      }
    },
    {
      "cell_type": "markdown",
      "source": [
        "###5.1."
      ],
      "metadata": {
        "id": "XbaqEnvpTUK4"
      }
    },
    {
      "cell_type": "markdown",
      "source": [
        "Mengingat Fashion-MNIST terdiri dari gambar 28x28, arsitektur AlexNet terlalu besar.\n",
        "\n",
        "Beberapa hal yang bisa dilakukan:\n",
        "- Mengurangi jumlah lapisan dan channel pada lapisan konvolusi.\n",
        "- Mengurangi ukuran lapisan fully connected untuk menghindari overfitting pada dataset kecil.\n",
        "- Menggunakan ukuran kernel yang lebih kecil untuk konvolusi dan lebih sedikit feature map."
      ],
      "metadata": {
        "id": "78y3jjcgT-XL"
      }
    },
    {
      "cell_type": "markdown",
      "source": [
        "###5.2."
      ],
      "metadata": {
        "id": "UCaYWPxoTVnc"
      }
    },
    {
      "cell_type": "code",
      "source": [
        "import tensorflow as tf\n",
        "from tensorflow.keras import layers, models\n",
        "\n",
        "# Create a simplified model\n",
        "model = models.Sequential([\n",
        "    layers.Conv2D(32, (3, 3), activation='relu', input_shape=(28, 28, 1)),\n",
        "    layers.BatchNormalization(),\n",
        "    layers.MaxPooling2D((2, 2)),\n",
        "    layers.Dropout(0.25),\n",
        "\n",
        "    layers.Conv2D(64, (3, 3), activation='relu'),\n",
        "    layers.BatchNormalization(),\n",
        "    layers.MaxPooling2D((2, 2)),\n",
        "    layers.Dropout(0.25),\n",
        "\n",
        "    layers.Flatten(),\n",
        "    layers.Dense(128, activation='relu'),\n",
        "    layers.BatchNormalization(),\n",
        "    layers.Dropout(0.5),\n",
        "\n",
        "    layers.Dense(10, activation='softmax')\n",
        "])\n",
        "\n",
        "# Compile and show model summary\n",
        "model.compile(optimizer='adam', loss='sparse_categorical_crossentropy', metrics=['accuracy'])\n",
        "model.summary()\n",
        "\n",
        "# Load and preprocess Fashion-MNIST data\n",
        "(x_train, y_train), (x_test, y_test) = tf.keras.datasets.fashion_mnist.load_data()\n",
        "x_train, x_test = x_train[..., None] / 255.0, x_test[..., None] / 255.0\n",
        "\n",
        "# Train the model\n",
        "model.fit(x_train, y_train, epochs=10, batch_size=64, validation_data=(x_test, y_test))"
      ],
      "metadata": {
        "colab": {
          "base_uri": "https://localhost:8080/",
          "height": 1000
        },
        "id": "gU1OrSmwUvHl",
        "outputId": "ef755677-f933-4733-af32-92dbab85af0e"
      },
      "execution_count": 6,
      "outputs": [
        {
          "output_type": "stream",
          "name": "stderr",
          "text": [
            "/usr/local/lib/python3.10/dist-packages/keras/src/layers/convolutional/base_conv.py:107: UserWarning: Do not pass an `input_shape`/`input_dim` argument to a layer. When using Sequential models, prefer using an `Input(shape)` object as the first layer in the model instead.\n",
            "  super().__init__(activity_regularizer=activity_regularizer, **kwargs)\n"
          ]
        },
        {
          "output_type": "display_data",
          "data": {
            "text/plain": [
              "\u001b[1mModel: \"sequential\"\u001b[0m\n"
            ],
            "text/html": [
              "<pre style=\"white-space:pre;overflow-x:auto;line-height:normal;font-family:Menlo,'DejaVu Sans Mono',consolas,'Courier New',monospace\"><span style=\"font-weight: bold\">Model: \"sequential\"</span>\n",
              "</pre>\n"
            ]
          },
          "metadata": {}
        },
        {
          "output_type": "display_data",
          "data": {
            "text/plain": [
              "┏━━━━━━━━━━━━━━━━━━━━━━━━━━━━━━━━━━━━━━┳━━━━━━━━━━━━━━━━━━━━━━━━━━━━━┳━━━━━━━━━━━━━━━━━┓\n",
              "┃\u001b[1m \u001b[0m\u001b[1mLayer (type)                        \u001b[0m\u001b[1m \u001b[0m┃\u001b[1m \u001b[0m\u001b[1mOutput Shape               \u001b[0m\u001b[1m \u001b[0m┃\u001b[1m \u001b[0m\u001b[1m        Param #\u001b[0m\u001b[1m \u001b[0m┃\n",
              "┡━━━━━━━━━━━━━━━━━━━━━━━━━━━━━━━━━━━━━━╇━━━━━━━━━━━━━━━━━━━━━━━━━━━━━╇━━━━━━━━━━━━━━━━━┩\n",
              "│ conv2d (\u001b[38;5;33mConv2D\u001b[0m)                      │ (\u001b[38;5;45mNone\u001b[0m, \u001b[38;5;34m26\u001b[0m, \u001b[38;5;34m26\u001b[0m, \u001b[38;5;34m32\u001b[0m)          │             \u001b[38;5;34m320\u001b[0m │\n",
              "├──────────────────────────────────────┼─────────────────────────────┼─────────────────┤\n",
              "│ batch_normalization                  │ (\u001b[38;5;45mNone\u001b[0m, \u001b[38;5;34m26\u001b[0m, \u001b[38;5;34m26\u001b[0m, \u001b[38;5;34m32\u001b[0m)          │             \u001b[38;5;34m128\u001b[0m │\n",
              "│ (\u001b[38;5;33mBatchNormalization\u001b[0m)                 │                             │                 │\n",
              "├──────────────────────────────────────┼─────────────────────────────┼─────────────────┤\n",
              "│ max_pooling2d (\u001b[38;5;33mMaxPooling2D\u001b[0m)         │ (\u001b[38;5;45mNone\u001b[0m, \u001b[38;5;34m13\u001b[0m, \u001b[38;5;34m13\u001b[0m, \u001b[38;5;34m32\u001b[0m)          │               \u001b[38;5;34m0\u001b[0m │\n",
              "├──────────────────────────────────────┼─────────────────────────────┼─────────────────┤\n",
              "│ dropout (\u001b[38;5;33mDropout\u001b[0m)                    │ (\u001b[38;5;45mNone\u001b[0m, \u001b[38;5;34m13\u001b[0m, \u001b[38;5;34m13\u001b[0m, \u001b[38;5;34m32\u001b[0m)          │               \u001b[38;5;34m0\u001b[0m │\n",
              "├──────────────────────────────────────┼─────────────────────────────┼─────────────────┤\n",
              "│ conv2d_1 (\u001b[38;5;33mConv2D\u001b[0m)                    │ (\u001b[38;5;45mNone\u001b[0m, \u001b[38;5;34m11\u001b[0m, \u001b[38;5;34m11\u001b[0m, \u001b[38;5;34m64\u001b[0m)          │          \u001b[38;5;34m18,496\u001b[0m │\n",
              "├──────────────────────────────────────┼─────────────────────────────┼─────────────────┤\n",
              "│ batch_normalization_1                │ (\u001b[38;5;45mNone\u001b[0m, \u001b[38;5;34m11\u001b[0m, \u001b[38;5;34m11\u001b[0m, \u001b[38;5;34m64\u001b[0m)          │             \u001b[38;5;34m256\u001b[0m │\n",
              "│ (\u001b[38;5;33mBatchNormalization\u001b[0m)                 │                             │                 │\n",
              "├──────────────────────────────────────┼─────────────────────────────┼─────────────────┤\n",
              "│ max_pooling2d_1 (\u001b[38;5;33mMaxPooling2D\u001b[0m)       │ (\u001b[38;5;45mNone\u001b[0m, \u001b[38;5;34m5\u001b[0m, \u001b[38;5;34m5\u001b[0m, \u001b[38;5;34m64\u001b[0m)            │               \u001b[38;5;34m0\u001b[0m │\n",
              "├──────────────────────────────────────┼─────────────────────────────┼─────────────────┤\n",
              "│ dropout_1 (\u001b[38;5;33mDropout\u001b[0m)                  │ (\u001b[38;5;45mNone\u001b[0m, \u001b[38;5;34m5\u001b[0m, \u001b[38;5;34m5\u001b[0m, \u001b[38;5;34m64\u001b[0m)            │               \u001b[38;5;34m0\u001b[0m │\n",
              "├──────────────────────────────────────┼─────────────────────────────┼─────────────────┤\n",
              "│ flatten (\u001b[38;5;33mFlatten\u001b[0m)                    │ (\u001b[38;5;45mNone\u001b[0m, \u001b[38;5;34m1600\u001b[0m)                │               \u001b[38;5;34m0\u001b[0m │\n",
              "├──────────────────────────────────────┼─────────────────────────────┼─────────────────┤\n",
              "│ dense (\u001b[38;5;33mDense\u001b[0m)                        │ (\u001b[38;5;45mNone\u001b[0m, \u001b[38;5;34m128\u001b[0m)                 │         \u001b[38;5;34m204,928\u001b[0m │\n",
              "├──────────────────────────────────────┼─────────────────────────────┼─────────────────┤\n",
              "│ batch_normalization_2                │ (\u001b[38;5;45mNone\u001b[0m, \u001b[38;5;34m128\u001b[0m)                 │             \u001b[38;5;34m512\u001b[0m │\n",
              "│ (\u001b[38;5;33mBatchNormalization\u001b[0m)                 │                             │                 │\n",
              "├──────────────────────────────────────┼─────────────────────────────┼─────────────────┤\n",
              "│ dropout_2 (\u001b[38;5;33mDropout\u001b[0m)                  │ (\u001b[38;5;45mNone\u001b[0m, \u001b[38;5;34m128\u001b[0m)                 │               \u001b[38;5;34m0\u001b[0m │\n",
              "├──────────────────────────────────────┼─────────────────────────────┼─────────────────┤\n",
              "│ dense_1 (\u001b[38;5;33mDense\u001b[0m)                      │ (\u001b[38;5;45mNone\u001b[0m, \u001b[38;5;34m10\u001b[0m)                  │           \u001b[38;5;34m1,290\u001b[0m │\n",
              "└──────────────────────────────────────┴─────────────────────────────┴─────────────────┘\n"
            ],
            "text/html": [
              "<pre style=\"white-space:pre;overflow-x:auto;line-height:normal;font-family:Menlo,'DejaVu Sans Mono',consolas,'Courier New',monospace\">┏━━━━━━━━━━━━━━━━━━━━━━━━━━━━━━━━━━━━━━┳━━━━━━━━━━━━━━━━━━━━━━━━━━━━━┳━━━━━━━━━━━━━━━━━┓\n",
              "┃<span style=\"font-weight: bold\"> Layer (type)                         </span>┃<span style=\"font-weight: bold\"> Output Shape                </span>┃<span style=\"font-weight: bold\">         Param # </span>┃\n",
              "┡━━━━━━━━━━━━━━━━━━━━━━━━━━━━━━━━━━━━━━╇━━━━━━━━━━━━━━━━━━━━━━━━━━━━━╇━━━━━━━━━━━━━━━━━┩\n",
              "│ conv2d (<span style=\"color: #0087ff; text-decoration-color: #0087ff\">Conv2D</span>)                      │ (<span style=\"color: #00d7ff; text-decoration-color: #00d7ff\">None</span>, <span style=\"color: #00af00; text-decoration-color: #00af00\">26</span>, <span style=\"color: #00af00; text-decoration-color: #00af00\">26</span>, <span style=\"color: #00af00; text-decoration-color: #00af00\">32</span>)          │             <span style=\"color: #00af00; text-decoration-color: #00af00\">320</span> │\n",
              "├──────────────────────────────────────┼─────────────────────────────┼─────────────────┤\n",
              "│ batch_normalization                  │ (<span style=\"color: #00d7ff; text-decoration-color: #00d7ff\">None</span>, <span style=\"color: #00af00; text-decoration-color: #00af00\">26</span>, <span style=\"color: #00af00; text-decoration-color: #00af00\">26</span>, <span style=\"color: #00af00; text-decoration-color: #00af00\">32</span>)          │             <span style=\"color: #00af00; text-decoration-color: #00af00\">128</span> │\n",
              "│ (<span style=\"color: #0087ff; text-decoration-color: #0087ff\">BatchNormalization</span>)                 │                             │                 │\n",
              "├──────────────────────────────────────┼─────────────────────────────┼─────────────────┤\n",
              "│ max_pooling2d (<span style=\"color: #0087ff; text-decoration-color: #0087ff\">MaxPooling2D</span>)         │ (<span style=\"color: #00d7ff; text-decoration-color: #00d7ff\">None</span>, <span style=\"color: #00af00; text-decoration-color: #00af00\">13</span>, <span style=\"color: #00af00; text-decoration-color: #00af00\">13</span>, <span style=\"color: #00af00; text-decoration-color: #00af00\">32</span>)          │               <span style=\"color: #00af00; text-decoration-color: #00af00\">0</span> │\n",
              "├──────────────────────────────────────┼─────────────────────────────┼─────────────────┤\n",
              "│ dropout (<span style=\"color: #0087ff; text-decoration-color: #0087ff\">Dropout</span>)                    │ (<span style=\"color: #00d7ff; text-decoration-color: #00d7ff\">None</span>, <span style=\"color: #00af00; text-decoration-color: #00af00\">13</span>, <span style=\"color: #00af00; text-decoration-color: #00af00\">13</span>, <span style=\"color: #00af00; text-decoration-color: #00af00\">32</span>)          │               <span style=\"color: #00af00; text-decoration-color: #00af00\">0</span> │\n",
              "├──────────────────────────────────────┼─────────────────────────────┼─────────────────┤\n",
              "│ conv2d_1 (<span style=\"color: #0087ff; text-decoration-color: #0087ff\">Conv2D</span>)                    │ (<span style=\"color: #00d7ff; text-decoration-color: #00d7ff\">None</span>, <span style=\"color: #00af00; text-decoration-color: #00af00\">11</span>, <span style=\"color: #00af00; text-decoration-color: #00af00\">11</span>, <span style=\"color: #00af00; text-decoration-color: #00af00\">64</span>)          │          <span style=\"color: #00af00; text-decoration-color: #00af00\">18,496</span> │\n",
              "├──────────────────────────────────────┼─────────────────────────────┼─────────────────┤\n",
              "│ batch_normalization_1                │ (<span style=\"color: #00d7ff; text-decoration-color: #00d7ff\">None</span>, <span style=\"color: #00af00; text-decoration-color: #00af00\">11</span>, <span style=\"color: #00af00; text-decoration-color: #00af00\">11</span>, <span style=\"color: #00af00; text-decoration-color: #00af00\">64</span>)          │             <span style=\"color: #00af00; text-decoration-color: #00af00\">256</span> │\n",
              "│ (<span style=\"color: #0087ff; text-decoration-color: #0087ff\">BatchNormalization</span>)                 │                             │                 │\n",
              "├──────────────────────────────────────┼─────────────────────────────┼─────────────────┤\n",
              "│ max_pooling2d_1 (<span style=\"color: #0087ff; text-decoration-color: #0087ff\">MaxPooling2D</span>)       │ (<span style=\"color: #00d7ff; text-decoration-color: #00d7ff\">None</span>, <span style=\"color: #00af00; text-decoration-color: #00af00\">5</span>, <span style=\"color: #00af00; text-decoration-color: #00af00\">5</span>, <span style=\"color: #00af00; text-decoration-color: #00af00\">64</span>)            │               <span style=\"color: #00af00; text-decoration-color: #00af00\">0</span> │\n",
              "├──────────────────────────────────────┼─────────────────────────────┼─────────────────┤\n",
              "│ dropout_1 (<span style=\"color: #0087ff; text-decoration-color: #0087ff\">Dropout</span>)                  │ (<span style=\"color: #00d7ff; text-decoration-color: #00d7ff\">None</span>, <span style=\"color: #00af00; text-decoration-color: #00af00\">5</span>, <span style=\"color: #00af00; text-decoration-color: #00af00\">5</span>, <span style=\"color: #00af00; text-decoration-color: #00af00\">64</span>)            │               <span style=\"color: #00af00; text-decoration-color: #00af00\">0</span> │\n",
              "├──────────────────────────────────────┼─────────────────────────────┼─────────────────┤\n",
              "│ flatten (<span style=\"color: #0087ff; text-decoration-color: #0087ff\">Flatten</span>)                    │ (<span style=\"color: #00d7ff; text-decoration-color: #00d7ff\">None</span>, <span style=\"color: #00af00; text-decoration-color: #00af00\">1600</span>)                │               <span style=\"color: #00af00; text-decoration-color: #00af00\">0</span> │\n",
              "├──────────────────────────────────────┼─────────────────────────────┼─────────────────┤\n",
              "│ dense (<span style=\"color: #0087ff; text-decoration-color: #0087ff\">Dense</span>)                        │ (<span style=\"color: #00d7ff; text-decoration-color: #00d7ff\">None</span>, <span style=\"color: #00af00; text-decoration-color: #00af00\">128</span>)                 │         <span style=\"color: #00af00; text-decoration-color: #00af00\">204,928</span> │\n",
              "├──────────────────────────────────────┼─────────────────────────────┼─────────────────┤\n",
              "│ batch_normalization_2                │ (<span style=\"color: #00d7ff; text-decoration-color: #00d7ff\">None</span>, <span style=\"color: #00af00; text-decoration-color: #00af00\">128</span>)                 │             <span style=\"color: #00af00; text-decoration-color: #00af00\">512</span> │\n",
              "│ (<span style=\"color: #0087ff; text-decoration-color: #0087ff\">BatchNormalization</span>)                 │                             │                 │\n",
              "├──────────────────────────────────────┼─────────────────────────────┼─────────────────┤\n",
              "│ dropout_2 (<span style=\"color: #0087ff; text-decoration-color: #0087ff\">Dropout</span>)                  │ (<span style=\"color: #00d7ff; text-decoration-color: #00d7ff\">None</span>, <span style=\"color: #00af00; text-decoration-color: #00af00\">128</span>)                 │               <span style=\"color: #00af00; text-decoration-color: #00af00\">0</span> │\n",
              "├──────────────────────────────────────┼─────────────────────────────┼─────────────────┤\n",
              "│ dense_1 (<span style=\"color: #0087ff; text-decoration-color: #0087ff\">Dense</span>)                      │ (<span style=\"color: #00d7ff; text-decoration-color: #00d7ff\">None</span>, <span style=\"color: #00af00; text-decoration-color: #00af00\">10</span>)                  │           <span style=\"color: #00af00; text-decoration-color: #00af00\">1,290</span> │\n",
              "└──────────────────────────────────────┴─────────────────────────────┴─────────────────┘\n",
              "</pre>\n"
            ]
          },
          "metadata": {}
        },
        {
          "output_type": "display_data",
          "data": {
            "text/plain": [
              "\u001b[1m Total params: \u001b[0m\u001b[38;5;34m225,930\u001b[0m (882.54 KB)\n"
            ],
            "text/html": [
              "<pre style=\"white-space:pre;overflow-x:auto;line-height:normal;font-family:Menlo,'DejaVu Sans Mono',consolas,'Courier New',monospace\"><span style=\"font-weight: bold\"> Total params: </span><span style=\"color: #00af00; text-decoration-color: #00af00\">225,930</span> (882.54 KB)\n",
              "</pre>\n"
            ]
          },
          "metadata": {}
        },
        {
          "output_type": "display_data",
          "data": {
            "text/plain": [
              "\u001b[1m Trainable params: \u001b[0m\u001b[38;5;34m225,482\u001b[0m (880.79 KB)\n"
            ],
            "text/html": [
              "<pre style=\"white-space:pre;overflow-x:auto;line-height:normal;font-family:Menlo,'DejaVu Sans Mono',consolas,'Courier New',monospace\"><span style=\"font-weight: bold\"> Trainable params: </span><span style=\"color: #00af00; text-decoration-color: #00af00\">225,482</span> (880.79 KB)\n",
              "</pre>\n"
            ]
          },
          "metadata": {}
        },
        {
          "output_type": "display_data",
          "data": {
            "text/plain": [
              "\u001b[1m Non-trainable params: \u001b[0m\u001b[38;5;34m448\u001b[0m (1.75 KB)\n"
            ],
            "text/html": [
              "<pre style=\"white-space:pre;overflow-x:auto;line-height:normal;font-family:Menlo,'DejaVu Sans Mono',consolas,'Courier New',monospace\"><span style=\"font-weight: bold\"> Non-trainable params: </span><span style=\"color: #00af00; text-decoration-color: #00af00\">448</span> (1.75 KB)\n",
              "</pre>\n"
            ]
          },
          "metadata": {}
        },
        {
          "output_type": "stream",
          "name": "stdout",
          "text": [
            "Downloading data from https://storage.googleapis.com/tensorflow/tf-keras-datasets/train-labels-idx1-ubyte.gz\n",
            "\u001b[1m29515/29515\u001b[0m \u001b[32m━━━━━━━━━━━━━━━━━━━━\u001b[0m\u001b[37m\u001b[0m \u001b[1m0s\u001b[0m 0us/step\n",
            "Downloading data from https://storage.googleapis.com/tensorflow/tf-keras-datasets/train-images-idx3-ubyte.gz\n",
            "\u001b[1m26421880/26421880\u001b[0m \u001b[32m━━━━━━━━━━━━━━━━━━━━\u001b[0m\u001b[37m\u001b[0m \u001b[1m0s\u001b[0m 0us/step\n",
            "Downloading data from https://storage.googleapis.com/tensorflow/tf-keras-datasets/t10k-labels-idx1-ubyte.gz\n",
            "\u001b[1m5148/5148\u001b[0m \u001b[32m━━━━━━━━━━━━━━━━━━━━\u001b[0m\u001b[37m\u001b[0m \u001b[1m0s\u001b[0m 0us/step\n",
            "Downloading data from https://storage.googleapis.com/tensorflow/tf-keras-datasets/t10k-images-idx3-ubyte.gz\n",
            "\u001b[1m4422102/4422102\u001b[0m \u001b[32m━━━━━━━━━━━━━━━━━━━━\u001b[0m\u001b[37m\u001b[0m \u001b[1m0s\u001b[0m 0us/step\n",
            "Epoch 1/10\n",
            "\u001b[1m938/938\u001b[0m \u001b[32m━━━━━━━━━━━━━━━━━━━━\u001b[0m\u001b[37m\u001b[0m \u001b[1m15s\u001b[0m 8ms/step - accuracy: 0.7477 - loss: 0.7507 - val_accuracy: 0.8722 - val_loss: 0.3596\n",
            "Epoch 2/10\n",
            "\u001b[1m938/938\u001b[0m \u001b[32m━━━━━━━━━━━━━━━━━━━━\u001b[0m\u001b[37m\u001b[0m \u001b[1m10s\u001b[0m 3ms/step - accuracy: 0.8622 - loss: 0.3883 - val_accuracy: 0.8863 - val_loss: 0.3172\n",
            "Epoch 3/10\n",
            "\u001b[1m938/938\u001b[0m \u001b[32m━━━━━━━━━━━━━━━━━━━━\u001b[0m\u001b[37m\u001b[0m \u001b[1m4s\u001b[0m 4ms/step - accuracy: 0.8765 - loss: 0.3413 - val_accuracy: 0.8913 - val_loss: 0.3016\n",
            "Epoch 4/10\n",
            "\u001b[1m938/938\u001b[0m \u001b[32m━━━━━━━━━━━━━━━━━━━━\u001b[0m\u001b[37m\u001b[0m \u001b[1m4s\u001b[0m 3ms/step - accuracy: 0.8841 - loss: 0.3195 - val_accuracy: 0.8890 - val_loss: 0.2903\n",
            "Epoch 5/10\n",
            "\u001b[1m938/938\u001b[0m \u001b[32m━━━━━━━━━━━━━━━━━━━━\u001b[0m\u001b[37m\u001b[0m \u001b[1m5s\u001b[0m 3ms/step - accuracy: 0.8938 - loss: 0.2938 - val_accuracy: 0.8878 - val_loss: 0.2907\n",
            "Epoch 6/10\n",
            "\u001b[1m938/938\u001b[0m \u001b[32m━━━━━━━━━━━━━━━━━━━━\u001b[0m\u001b[37m\u001b[0m \u001b[1m3s\u001b[0m 4ms/step - accuracy: 0.8958 - loss: 0.2858 - val_accuracy: 0.9024 - val_loss: 0.2618\n",
            "Epoch 7/10\n",
            "\u001b[1m938/938\u001b[0m \u001b[32m━━━━━━━━━━━━━━━━━━━━\u001b[0m\u001b[37m\u001b[0m \u001b[1m3s\u001b[0m 3ms/step - accuracy: 0.8984 - loss: 0.2761 - val_accuracy: 0.8967 - val_loss: 0.2849\n",
            "Epoch 8/10\n",
            "\u001b[1m938/938\u001b[0m \u001b[32m━━━━━━━━━━━━━━━━━━━━\u001b[0m\u001b[37m\u001b[0m \u001b[1m5s\u001b[0m 3ms/step - accuracy: 0.9021 - loss: 0.2663 - val_accuracy: 0.9033 - val_loss: 0.2579\n",
            "Epoch 9/10\n",
            "\u001b[1m938/938\u001b[0m \u001b[32m━━━━━━━━━━━━━━━━━━━━\u001b[0m\u001b[37m\u001b[0m \u001b[1m3s\u001b[0m 4ms/step - accuracy: 0.9075 - loss: 0.2573 - val_accuracy: 0.8932 - val_loss: 0.2793\n",
            "Epoch 10/10\n",
            "\u001b[1m938/938\u001b[0m \u001b[32m━━━━━━━━━━━━━━━━━━━━\u001b[0m\u001b[37m\u001b[0m \u001b[1m3s\u001b[0m 3ms/step - accuracy: 0.9085 - loss: 0.2498 - val_accuracy: 0.9087 - val_loss: 0.2492\n"
          ]
        },
        {
          "output_type": "execute_result",
          "data": {
            "text/plain": [
              "<keras.src.callbacks.history.History at 0x7ad0e5ad6d40>"
            ]
          },
          "metadata": {},
          "execution_count": 6
        }
      ]
    },
    {
      "cell_type": "markdown",
      "source": [
        "###6."
      ],
      "metadata": {
        "id": "Og52zIg-TYin"
      }
    },
    {
      "cell_type": "markdown",
      "source": [
        "Meningkatkan ukuran batch meningkatkan throughput (gambar per detik) tetapi meningkatkan konsumsi memori pada GPU."
      ],
      "metadata": {
        "id": "hyHn5BN-VYGP"
      }
    },
    {
      "cell_type": "markdown",
      "source": [
        "###7."
      ],
      "metadata": {
        "id": "GxDatMwQTdZP"
      }
    },
    {
      "cell_type": "code",
      "source": [
        "import tensorflow as tf\n",
        "from tensorflow.keras import layers, models\n",
        "\n",
        "# Create a simple LeNet-5 model with Dropout and ReLU\n",
        "model = models.Sequential([\n",
        "    layers.Conv2D(6, (5, 5), activation='relu', input_shape=(28, 28, 1)),\n",
        "    layers.AveragePooling2D(pool_size=(2, 2)),  # Specify pool_size here\n",
        "    layers.Conv2D(16, (5, 5), activation='relu'),\n",
        "    layers.AveragePooling2D(pool_size=(2, 2)),  # Specify pool_size here\n",
        "    layers.Flatten(),\n",
        "    layers.Dense(120, activation='relu'),\n",
        "    layers.Dropout(0.5),  # Dropout added\n",
        "    layers.Dense(84, activation='relu'),\n",
        "    layers.Dropout(0.5),  # Dropout added\n",
        "    layers.Dense(10, activation='softmax')\n",
        "])\n",
        "\n",
        "# Compile the model\n",
        "model.compile(optimizer='adam', loss='sparse_categorical_crossentropy', metrics=['accuracy'])\n",
        "\n",
        "# Load and preprocess Fashion-MNIST data\n",
        "(x_train, y_train), (x_test, y_test) = tf.keras.datasets.fashion_mnist.load_data()\n",
        "x_train, x_test = x_train[..., None] / 255.0, x_test[..., None] / 255.0\n",
        "\n",
        "# Train the model\n",
        "model.fit(x_train, y_train, epochs=10, batch_size=64, validation_data=(x_test, y_test))"
      ],
      "metadata": {
        "colab": {
          "base_uri": "https://localhost:8080/"
        },
        "id": "1klo3nhgVvTY",
        "outputId": "25ff33d1-6c20-4c9c-9d69-b3c5d865471b"
      },
      "execution_count": 8,
      "outputs": [
        {
          "output_type": "stream",
          "name": "stderr",
          "text": [
            "/usr/local/lib/python3.10/dist-packages/keras/src/layers/convolutional/base_conv.py:107: UserWarning: Do not pass an `input_shape`/`input_dim` argument to a layer. When using Sequential models, prefer using an `Input(shape)` object as the first layer in the model instead.\n",
            "  super().__init__(activity_regularizer=activity_regularizer, **kwargs)\n"
          ]
        },
        {
          "output_type": "stream",
          "name": "stdout",
          "text": [
            "Epoch 1/10\n",
            "\u001b[1m938/938\u001b[0m \u001b[32m━━━━━━━━━━━━━━━━━━━━\u001b[0m\u001b[37m\u001b[0m \u001b[1m11s\u001b[0m 7ms/step - accuracy: 0.5596 - loss: 1.1961 - val_accuracy: 0.7758 - val_loss: 0.5617\n",
            "Epoch 2/10\n",
            "\u001b[1m938/938\u001b[0m \u001b[32m━━━━━━━━━━━━━━━━━━━━\u001b[0m\u001b[37m\u001b[0m \u001b[1m3s\u001b[0m 2ms/step - accuracy: 0.7656 - loss: 0.6229 - val_accuracy: 0.8056 - val_loss: 0.4985\n",
            "Epoch 3/10\n",
            "\u001b[1m938/938\u001b[0m \u001b[32m━━━━━━━━━━━━━━━━━━━━\u001b[0m\u001b[37m\u001b[0m \u001b[1m4s\u001b[0m 4ms/step - accuracy: 0.7935 - loss: 0.5525 - val_accuracy: 0.8271 - val_loss: 0.4571\n",
            "Epoch 4/10\n",
            "\u001b[1m938/938\u001b[0m \u001b[32m━━━━━━━━━━━━━━━━━━━━\u001b[0m\u001b[37m\u001b[0m \u001b[1m4s\u001b[0m 2ms/step - accuracy: 0.8185 - loss: 0.5021 - val_accuracy: 0.8392 - val_loss: 0.4291\n",
            "Epoch 5/10\n",
            "\u001b[1m938/938\u001b[0m \u001b[32m━━━━━━━━━━━━━━━━━━━━\u001b[0m\u001b[37m\u001b[0m \u001b[1m2s\u001b[0m 2ms/step - accuracy: 0.8331 - loss: 0.4684 - val_accuracy: 0.8530 - val_loss: 0.4111\n",
            "Epoch 6/10\n",
            "\u001b[1m938/938\u001b[0m \u001b[32m━━━━━━━━━━━━━━━━━━━━\u001b[0m\u001b[37m\u001b[0m \u001b[1m3s\u001b[0m 2ms/step - accuracy: 0.8421 - loss: 0.4429 - val_accuracy: 0.8567 - val_loss: 0.3854\n",
            "Epoch 7/10\n",
            "\u001b[1m938/938\u001b[0m \u001b[32m━━━━━━━━━━━━━━━━━━━━\u001b[0m\u001b[37m\u001b[0m \u001b[1m3s\u001b[0m 3ms/step - accuracy: 0.8490 - loss: 0.4225 - val_accuracy: 0.8640 - val_loss: 0.3758\n",
            "Epoch 8/10\n",
            "\u001b[1m938/938\u001b[0m \u001b[32m━━━━━━━━━━━━━━━━━━━━\u001b[0m\u001b[37m\u001b[0m \u001b[1m3s\u001b[0m 3ms/step - accuracy: 0.8512 - loss: 0.4125 - val_accuracy: 0.8704 - val_loss: 0.3540\n",
            "Epoch 9/10\n",
            "\u001b[1m938/938\u001b[0m \u001b[32m━━━━━━━━━━━━━━━━━━━━\u001b[0m\u001b[37m\u001b[0m \u001b[1m2s\u001b[0m 2ms/step - accuracy: 0.8621 - loss: 0.3915 - val_accuracy: 0.8715 - val_loss: 0.3519\n",
            "Epoch 10/10\n",
            "\u001b[1m938/938\u001b[0m \u001b[32m━━━━━━━━━━━━━━━━━━━━\u001b[0m\u001b[37m\u001b[0m \u001b[1m2s\u001b[0m 2ms/step - accuracy: 0.8657 - loss: 0.3800 - val_accuracy: 0.8770 - val_loss: 0.3406\n"
          ]
        },
        {
          "output_type": "execute_result",
          "data": {
            "text/plain": [
              "<keras.src.callbacks.history.History at 0x7ad07445bee0>"
            ]
          },
          "metadata": {},
          "execution_count": 8
        }
      ]
    },
    {
      "cell_type": "markdown",
      "source": [
        "###8."
      ],
      "metadata": {
        "id": "tJTDWQ5hTeXc"
      }
    },
    {
      "cell_type": "markdown",
      "source": [
        "AlexNet dapat dibuat overfit dengan:\n",
        "- Menghapus dropout: Ini mengurangi regularisasi dan memungkinkan model untuk mengingat kumpulan pelatihan.\n",
        "- Menggunakan dataset pelatihan yang kecil: Ketika model memiliki lebih banyak parameter daripada jumlah data pelatihan, model akan mudah overfit.\n",
        "- Mengurangi augmentasi data: Augmentasi data meningkatkan ukuran efektif dataset dan mencegah overfitting. Menghapusnya akan membuat AlexNet lebih rentan terhadap overfitting."
      ],
      "metadata": {
        "id": "Yf_u4H4EWDV3"
      }
    },
    {
      "cell_type": "markdown",
      "metadata": {
        "origin_pos": 1,
        "id": "36b56088"
      },
      "source": [
        "# 8.2. Networks Using Blocks (VGG)"
      ]
    },
    {
      "cell_type": "code",
      "execution_count": null,
      "metadata": {
        "attributes": {
          "classes": [],
          "id": "",
          "n": "3"
        },
        "execution": {
          "iopub.execute_input": "2023-08-18T19:56:49.762934Z",
          "iopub.status.busy": "2023-08-18T19:56:49.761989Z",
          "iopub.status.idle": "2023-08-18T19:56:49.770418Z",
          "shell.execute_reply": "2023-08-18T19:56:49.769006Z"
        },
        "origin_pos": 8,
        "tab": [
          "pytorch"
        ],
        "id": "7a35971a"
      },
      "outputs": [],
      "source": [
        "def vgg_block(num_convs, out_channels):\n",
        "    layers = []\n",
        "    for _ in range(num_convs):\n",
        "        layers.append(nn.LazyConv2d(out_channels, kernel_size=3, padding=1))\n",
        "        layers.append(nn.ReLU())\n",
        "    layers.append(nn.MaxPool2d(kernel_size=2,stride=2))\n",
        "    return nn.Sequential(*layers)"
      ]
    },
    {
      "cell_type": "code",
      "execution_count": null,
      "metadata": {
        "attributes": {
          "classes": [],
          "id": "",
          "n": "5"
        },
        "execution": {
          "iopub.execute_input": "2023-08-18T19:56:49.775273Z",
          "iopub.status.busy": "2023-08-18T19:56:49.774832Z",
          "iopub.status.idle": "2023-08-18T19:56:49.783845Z",
          "shell.execute_reply": "2023-08-18T19:56:49.782642Z"
        },
        "origin_pos": 12,
        "tab": [
          "pytorch"
        ],
        "id": "35ed8ba4"
      },
      "outputs": [],
      "source": [
        "class VGG(d2l.Classifier):\n",
        "    def __init__(self, arch, lr=0.1, num_classes=10):\n",
        "        super().__init__()\n",
        "        self.save_hyperparameters()\n",
        "        conv_blks = []\n",
        "        for (num_convs, out_channels) in arch:\n",
        "            conv_blks.append(vgg_block(num_convs, out_channels))\n",
        "        self.net = nn.Sequential(\n",
        "            *conv_blks, nn.Flatten(),\n",
        "            nn.LazyLinear(4096), nn.ReLU(), nn.Dropout(0.5),\n",
        "            nn.LazyLinear(4096), nn.ReLU(), nn.Dropout(0.5),\n",
        "            nn.LazyLinear(num_classes))\n",
        "        self.net.apply(d2l.init_cnn)"
      ]
    },
    {
      "cell_type": "code",
      "execution_count": null,
      "metadata": {
        "attributes": {
          "classes": [],
          "id": "",
          "n": "6"
        },
        "execution": {
          "iopub.execute_input": "2023-08-18T19:56:49.789248Z",
          "iopub.status.busy": "2023-08-18T19:56:49.788373Z",
          "iopub.status.idle": "2023-08-18T19:56:51.334656Z",
          "shell.execute_reply": "2023-08-18T19:56:51.333439Z"
        },
        "origin_pos": 15,
        "tab": [
          "pytorch"
        ],
        "id": "fc110465",
        "outputId": "660ae443-2e19-4040-eec8-ffc6e212bf33",
        "colab": {
          "base_uri": "https://localhost:8080/"
        }
      },
      "outputs": [
        {
          "output_type": "stream",
          "name": "stdout",
          "text": [
            "Sequential output shape:\t torch.Size([1, 64, 112, 112])\n",
            "Sequential output shape:\t torch.Size([1, 128, 56, 56])\n",
            "Sequential output shape:\t torch.Size([1, 256, 28, 28])\n",
            "Sequential output shape:\t torch.Size([1, 512, 14, 14])\n",
            "Sequential output shape:\t torch.Size([1, 512, 7, 7])\n",
            "Flatten output shape:\t torch.Size([1, 25088])\n",
            "Linear output shape:\t torch.Size([1, 4096])\n",
            "ReLU output shape:\t torch.Size([1, 4096])\n",
            "Dropout output shape:\t torch.Size([1, 4096])\n",
            "Linear output shape:\t torch.Size([1, 4096])\n",
            "ReLU output shape:\t torch.Size([1, 4096])\n",
            "Dropout output shape:\t torch.Size([1, 4096])\n",
            "Linear output shape:\t torch.Size([1, 10])\n"
          ]
        }
      ],
      "source": [
        "VGG(arch=((1, 64), (1, 128), (2, 256), (2, 512), (2, 512))).layer_summary(\n",
        "    (1, 1, 224, 224))"
      ]
    },
    {
      "cell_type": "code",
      "execution_count": null,
      "metadata": {
        "attributes": {
          "classes": [],
          "id": "",
          "n": "8"
        },
        "execution": {
          "iopub.execute_input": "2023-08-18T19:56:51.339409Z",
          "iopub.status.busy": "2023-08-18T19:56:51.338575Z",
          "iopub.status.idle": "2023-08-18T20:01:43.617050Z",
          "shell.execute_reply": "2023-08-18T20:01:43.615832Z"
        },
        "origin_pos": 19,
        "tab": [
          "pytorch"
        ],
        "id": "ed532028",
        "outputId": "43ad542b-429b-4d2f-d548-4a55baf4bddf",
        "colab": {
          "base_uri": "https://localhost:8080/",
          "height": 266
        }
      },
      "outputs": [
        {
          "output_type": "display_data",
          "data": {
            "text/plain": [
              "<Figure size 350x250 with 1 Axes>"
            ],
            "image/svg+xml": "<?xml version=\"1.0\" encoding=\"utf-8\" standalone=\"no\"?>\n<!DOCTYPE svg PUBLIC \"-//W3C//DTD SVG 1.1//EN\"\n  \"http://www.w3.org/Graphics/SVG/1.1/DTD/svg11.dtd\">\n<svg xmlns:xlink=\"http://www.w3.org/1999/xlink\" width=\"238.965625pt\" height=\"183.35625pt\" viewBox=\"0 0 238.965625 183.35625\" xmlns=\"http://www.w3.org/2000/svg\" version=\"1.1\">\n <metadata>\n  <rdf:RDF xmlns:dc=\"http://purl.org/dc/elements/1.1/\" xmlns:cc=\"http://creativecommons.org/ns#\" xmlns:rdf=\"http://www.w3.org/1999/02/22-rdf-syntax-ns#\">\n   <cc:Work>\n    <dc:type rdf:resource=\"http://purl.org/dc/dcmitype/StillImage\"/>\n    <dc:date>2024-10-04T14:21:46.865566</dc:date>\n    <dc:format>image/svg+xml</dc:format>\n    <dc:creator>\n     <cc:Agent>\n      <dc:title>Matplotlib v3.7.2, https://matplotlib.org/</dc:title>\n     </cc:Agent>\n    </dc:creator>\n   </cc:Work>\n  </rdf:RDF>\n </metadata>\n <defs>\n  <style type=\"text/css\">*{stroke-linejoin: round; stroke-linecap: butt}</style>\n </defs>\n <g id=\"figure_1\">\n  <g id=\"patch_1\">\n   <path d=\"M 0 183.35625 \nL 238.965625 183.35625 \nL 238.965625 0 \nL 0 0 \nz\n\" style=\"fill: #ffffff\"/>\n  </g>\n  <g id=\"axes_1\">\n   <g id=\"patch_2\">\n    <path d=\"M 30.103125 145.8 \nL 225.403125 145.8 \nL 225.403125 7.2 \nL 30.103125 7.2 \nz\n\" style=\"fill: #ffffff\"/>\n   </g>\n   <g id=\"matplotlib.axis_1\">\n    <g id=\"xtick_1\">\n     <g id=\"line2d_1\">\n      <defs>\n       <path id=\"m657bb5c517\" d=\"M 0 0 \nL 0 3.5 \n\" style=\"stroke: #000000; stroke-width: 0.8\"/>\n      </defs>\n      <g>\n       <use xlink:href=\"#m657bb5c517\" x=\"30.103125\" y=\"145.8\" style=\"stroke: #000000; stroke-width: 0.8\"/>\n      </g>\n     </g>\n     <g id=\"text_1\">\n      <!-- 0 -->\n      <g transform=\"translate(26.921875 160.398438) scale(0.1 -0.1)\">\n       <defs>\n        <path id=\"DejaVuSans-30\" d=\"M 2034 4250 \nQ 1547 4250 1301 3770 \nQ 1056 3291 1056 2328 \nQ 1056 1369 1301 889 \nQ 1547 409 2034 409 \nQ 2525 409 2770 889 \nQ 3016 1369 3016 2328 \nQ 3016 3291 2770 3770 \nQ 2525 4250 2034 4250 \nz\nM 2034 4750 \nQ 2819 4750 3233 4129 \nQ 3647 3509 3647 2328 \nQ 3647 1150 3233 529 \nQ 2819 -91 2034 -91 \nQ 1250 -91 836 529 \nQ 422 1150 422 2328 \nQ 422 3509 836 4129 \nQ 1250 4750 2034 4750 \nz\n\" transform=\"scale(0.015625)\"/>\n       </defs>\n       <use xlink:href=\"#DejaVuSans-30\"/>\n      </g>\n     </g>\n    </g>\n    <g id=\"xtick_2\">\n     <g id=\"line2d_2\">\n      <g>\n       <use xlink:href=\"#m657bb5c517\" x=\"69.163125\" y=\"145.8\" style=\"stroke: #000000; stroke-width: 0.8\"/>\n      </g>\n     </g>\n     <g id=\"text_2\">\n      <!-- 2 -->\n      <g transform=\"translate(65.981875 160.398438) scale(0.1 -0.1)\">\n       <defs>\n        <path id=\"DejaVuSans-32\" d=\"M 1228 531 \nL 3431 531 \nL 3431 0 \nL 469 0 \nL 469 531 \nQ 828 903 1448 1529 \nQ 2069 2156 2228 2338 \nQ 2531 2678 2651 2914 \nQ 2772 3150 2772 3378 \nQ 2772 3750 2511 3984 \nQ 2250 4219 1831 4219 \nQ 1534 4219 1204 4116 \nQ 875 4013 500 3803 \nL 500 4441 \nQ 881 4594 1212 4672 \nQ 1544 4750 1819 4750 \nQ 2544 4750 2975 4387 \nQ 3406 4025 3406 3419 \nQ 3406 3131 3298 2873 \nQ 3191 2616 2906 2266 \nQ 2828 2175 2409 1742 \nQ 1991 1309 1228 531 \nz\n\" transform=\"scale(0.015625)\"/>\n       </defs>\n       <use xlink:href=\"#DejaVuSans-32\"/>\n      </g>\n     </g>\n    </g>\n    <g id=\"xtick_3\">\n     <g id=\"line2d_3\">\n      <g>\n       <use xlink:href=\"#m657bb5c517\" x=\"108.223125\" y=\"145.8\" style=\"stroke: #000000; stroke-width: 0.8\"/>\n      </g>\n     </g>\n     <g id=\"text_3\">\n      <!-- 4 -->\n      <g transform=\"translate(105.041875 160.398438) scale(0.1 -0.1)\">\n       <defs>\n        <path id=\"DejaVuSans-34\" d=\"M 2419 4116 \nL 825 1625 \nL 2419 1625 \nL 2419 4116 \nz\nM 2253 4666 \nL 3047 4666 \nL 3047 1625 \nL 3713 1625 \nL 3713 1100 \nL 3047 1100 \nL 3047 0 \nL 2419 0 \nL 2419 1100 \nL 313 1100 \nL 313 1709 \nL 2253 4666 \nz\n\" transform=\"scale(0.015625)\"/>\n       </defs>\n       <use xlink:href=\"#DejaVuSans-34\"/>\n      </g>\n     </g>\n    </g>\n    <g id=\"xtick_4\">\n     <g id=\"line2d_4\">\n      <g>\n       <use xlink:href=\"#m657bb5c517\" x=\"147.283125\" y=\"145.8\" style=\"stroke: #000000; stroke-width: 0.8\"/>\n      </g>\n     </g>\n     <g id=\"text_4\">\n      <!-- 6 -->\n      <g transform=\"translate(144.101875 160.398438) scale(0.1 -0.1)\">\n       <defs>\n        <path id=\"DejaVuSans-36\" d=\"M 2113 2584 \nQ 1688 2584 1439 2293 \nQ 1191 2003 1191 1497 \nQ 1191 994 1439 701 \nQ 1688 409 2113 409 \nQ 2538 409 2786 701 \nQ 3034 994 3034 1497 \nQ 3034 2003 2786 2293 \nQ 2538 2584 2113 2584 \nz\nM 3366 4563 \nL 3366 3988 \nQ 3128 4100 2886 4159 \nQ 2644 4219 2406 4219 \nQ 1781 4219 1451 3797 \nQ 1122 3375 1075 2522 \nQ 1259 2794 1537 2939 \nQ 1816 3084 2150 3084 \nQ 2853 3084 3261 2657 \nQ 3669 2231 3669 1497 \nQ 3669 778 3244 343 \nQ 2819 -91 2113 -91 \nQ 1303 -91 875 529 \nQ 447 1150 447 2328 \nQ 447 3434 972 4092 \nQ 1497 4750 2381 4750 \nQ 2619 4750 2861 4703 \nQ 3103 4656 3366 4563 \nz\n\" transform=\"scale(0.015625)\"/>\n       </defs>\n       <use xlink:href=\"#DejaVuSans-36\"/>\n      </g>\n     </g>\n    </g>\n    <g id=\"xtick_5\">\n     <g id=\"line2d_5\">\n      <g>\n       <use xlink:href=\"#m657bb5c517\" x=\"186.343125\" y=\"145.8\" style=\"stroke: #000000; stroke-width: 0.8\"/>\n      </g>\n     </g>\n     <g id=\"text_5\">\n      <!-- 8 -->\n      <g transform=\"translate(183.161875 160.398438) scale(0.1 -0.1)\">\n       <defs>\n        <path id=\"DejaVuSans-38\" d=\"M 2034 2216 \nQ 1584 2216 1326 1975 \nQ 1069 1734 1069 1313 \nQ 1069 891 1326 650 \nQ 1584 409 2034 409 \nQ 2484 409 2743 651 \nQ 3003 894 3003 1313 \nQ 3003 1734 2745 1975 \nQ 2488 2216 2034 2216 \nz\nM 1403 2484 \nQ 997 2584 770 2862 \nQ 544 3141 544 3541 \nQ 544 4100 942 4425 \nQ 1341 4750 2034 4750 \nQ 2731 4750 3128 4425 \nQ 3525 4100 3525 3541 \nQ 3525 3141 3298 2862 \nQ 3072 2584 2669 2484 \nQ 3125 2378 3379 2068 \nQ 3634 1759 3634 1313 \nQ 3634 634 3220 271 \nQ 2806 -91 2034 -91 \nQ 1263 -91 848 271 \nQ 434 634 434 1313 \nQ 434 1759 690 2068 \nQ 947 2378 1403 2484 \nz\nM 1172 3481 \nQ 1172 3119 1398 2916 \nQ 1625 2713 2034 2713 \nQ 2441 2713 2670 2916 \nQ 2900 3119 2900 3481 \nQ 2900 3844 2670 4047 \nQ 2441 4250 2034 4250 \nQ 1625 4250 1398 4047 \nQ 1172 3844 1172 3481 \nz\n\" transform=\"scale(0.015625)\"/>\n       </defs>\n       <use xlink:href=\"#DejaVuSans-38\"/>\n      </g>\n     </g>\n    </g>\n    <g id=\"xtick_6\">\n     <g id=\"line2d_6\">\n      <g>\n       <use xlink:href=\"#m657bb5c517\" x=\"225.403125\" y=\"145.8\" style=\"stroke: #000000; stroke-width: 0.8\"/>\n      </g>\n     </g>\n     <g id=\"text_6\">\n      <!-- 10 -->\n      <g transform=\"translate(219.040625 160.398438) scale(0.1 -0.1)\">\n       <defs>\n        <path id=\"DejaVuSans-31\" d=\"M 794 531 \nL 1825 531 \nL 1825 4091 \nL 703 3866 \nL 703 4441 \nL 1819 4666 \nL 2450 4666 \nL 2450 531 \nL 3481 531 \nL 3481 0 \nL 794 0 \nL 794 531 \nz\n\" transform=\"scale(0.015625)\"/>\n       </defs>\n       <use xlink:href=\"#DejaVuSans-31\"/>\n       <use xlink:href=\"#DejaVuSans-30\" x=\"63.623047\"/>\n      </g>\n     </g>\n    </g>\n    <g id=\"text_7\">\n     <!-- epoch -->\n     <g transform=\"translate(112.525 174.076563) scale(0.1 -0.1)\">\n      <defs>\n       <path id=\"DejaVuSans-65\" d=\"M 3597 1894 \nL 3597 1613 \nL 953 1613 \nQ 991 1019 1311 708 \nQ 1631 397 2203 397 \nQ 2534 397 2845 478 \nQ 3156 559 3463 722 \nL 3463 178 \nQ 3153 47 2828 -22 \nQ 2503 -91 2169 -91 \nQ 1331 -91 842 396 \nQ 353 884 353 1716 \nQ 353 2575 817 3079 \nQ 1281 3584 2069 3584 \nQ 2775 3584 3186 3129 \nQ 3597 2675 3597 1894 \nz\nM 3022 2063 \nQ 3016 2534 2758 2815 \nQ 2500 3097 2075 3097 \nQ 1594 3097 1305 2825 \nQ 1016 2553 972 2059 \nL 3022 2063 \nz\n\" transform=\"scale(0.015625)\"/>\n       <path id=\"DejaVuSans-70\" d=\"M 1159 525 \nL 1159 -1331 \nL 581 -1331 \nL 581 3500 \nL 1159 3500 \nL 1159 2969 \nQ 1341 3281 1617 3432 \nQ 1894 3584 2278 3584 \nQ 2916 3584 3314 3078 \nQ 3713 2572 3713 1747 \nQ 3713 922 3314 415 \nQ 2916 -91 2278 -91 \nQ 1894 -91 1617 61 \nQ 1341 213 1159 525 \nz\nM 3116 1747 \nQ 3116 2381 2855 2742 \nQ 2594 3103 2138 3103 \nQ 1681 3103 1420 2742 \nQ 1159 2381 1159 1747 \nQ 1159 1113 1420 752 \nQ 1681 391 2138 391 \nQ 2594 391 2855 752 \nQ 3116 1113 3116 1747 \nz\n\" transform=\"scale(0.015625)\"/>\n       <path id=\"DejaVuSans-6f\" d=\"M 1959 3097 \nQ 1497 3097 1228 2736 \nQ 959 2375 959 1747 \nQ 959 1119 1226 758 \nQ 1494 397 1959 397 \nQ 2419 397 2687 759 \nQ 2956 1122 2956 1747 \nQ 2956 2369 2687 2733 \nQ 2419 3097 1959 3097 \nz\nM 1959 3584 \nQ 2709 3584 3137 3096 \nQ 3566 2609 3566 1747 \nQ 3566 888 3137 398 \nQ 2709 -91 1959 -91 \nQ 1206 -91 779 398 \nQ 353 888 353 1747 \nQ 353 2609 779 3096 \nQ 1206 3584 1959 3584 \nz\n\" transform=\"scale(0.015625)\"/>\n       <path id=\"DejaVuSans-63\" d=\"M 3122 3366 \nL 3122 2828 \nQ 2878 2963 2633 3030 \nQ 2388 3097 2138 3097 \nQ 1578 3097 1268 2742 \nQ 959 2388 959 1747 \nQ 959 1106 1268 751 \nQ 1578 397 2138 397 \nQ 2388 397 2633 464 \nQ 2878 531 3122 666 \nL 3122 134 \nQ 2881 22 2623 -34 \nQ 2366 -91 2075 -91 \nQ 1284 -91 818 406 \nQ 353 903 353 1747 \nQ 353 2603 823 3093 \nQ 1294 3584 2113 3584 \nQ 2378 3584 2631 3529 \nQ 2884 3475 3122 3366 \nz\n\" transform=\"scale(0.015625)\"/>\n       <path id=\"DejaVuSans-68\" d=\"M 3513 2113 \nL 3513 0 \nL 2938 0 \nL 2938 2094 \nQ 2938 2591 2744 2837 \nQ 2550 3084 2163 3084 \nQ 1697 3084 1428 2787 \nQ 1159 2491 1159 1978 \nL 1159 0 \nL 581 0 \nL 581 4863 \nL 1159 4863 \nL 1159 2956 \nQ 1366 3272 1645 3428 \nQ 1925 3584 2291 3584 \nQ 2894 3584 3203 3211 \nQ 3513 2838 3513 2113 \nz\n\" transform=\"scale(0.015625)\"/>\n      </defs>\n      <use xlink:href=\"#DejaVuSans-65\"/>\n      <use xlink:href=\"#DejaVuSans-70\" x=\"61.523438\"/>\n      <use xlink:href=\"#DejaVuSans-6f\" x=\"125\"/>\n      <use xlink:href=\"#DejaVuSans-63\" x=\"186.181641\"/>\n      <use xlink:href=\"#DejaVuSans-68\" x=\"241.162109\"/>\n     </g>\n    </g>\n   </g>\n   <g id=\"matplotlib.axis_2\">\n    <g id=\"ytick_1\">\n     <g id=\"line2d_7\">\n      <defs>\n       <path id=\"m57732917df\" d=\"M 0 0 \nL -3.5 0 \n\" style=\"stroke: #000000; stroke-width: 0.8\"/>\n      </defs>\n      <g>\n       <use xlink:href=\"#m57732917df\" x=\"30.103125\" y=\"126.638319\" style=\"stroke: #000000; stroke-width: 0.8\"/>\n      </g>\n     </g>\n     <g id=\"text_8\">\n      <!-- 0.5 -->\n      <g transform=\"translate(7.2 130.437538) scale(0.1 -0.1)\">\n       <defs>\n        <path id=\"DejaVuSans-2e\" d=\"M 684 794 \nL 1344 794 \nL 1344 0 \nL 684 0 \nL 684 794 \nz\n\" transform=\"scale(0.015625)\"/>\n        <path id=\"DejaVuSans-35\" d=\"M 691 4666 \nL 3169 4666 \nL 3169 4134 \nL 1269 4134 \nL 1269 2991 \nQ 1406 3038 1543 3061 \nQ 1681 3084 1819 3084 \nQ 2600 3084 3056 2656 \nQ 3513 2228 3513 1497 \nQ 3513 744 3044 326 \nQ 2575 -91 1722 -91 \nQ 1428 -91 1123 -41 \nQ 819 9 494 109 \nL 494 744 \nQ 775 591 1075 516 \nQ 1375 441 1709 441 \nQ 2250 441 2565 725 \nQ 2881 1009 2881 1497 \nQ 2881 1984 2565 2268 \nQ 2250 2553 1709 2553 \nQ 1456 2553 1204 2497 \nQ 953 2441 691 2322 \nL 691 4666 \nz\n\" transform=\"scale(0.015625)\"/>\n       </defs>\n       <use xlink:href=\"#DejaVuSans-30\"/>\n       <use xlink:href=\"#DejaVuSans-2e\" x=\"63.623047\"/>\n       <use xlink:href=\"#DejaVuSans-35\" x=\"95.410156\"/>\n      </g>\n     </g>\n    </g>\n    <g id=\"ytick_2\">\n     <g id=\"line2d_8\">\n      <g>\n       <use xlink:href=\"#m57732917df\" x=\"30.103125\" y=\"95.200875\" style=\"stroke: #000000; stroke-width: 0.8\"/>\n      </g>\n     </g>\n     <g id=\"text_9\">\n      <!-- 1.0 -->\n      <g transform=\"translate(7.2 99.000093) scale(0.1 -0.1)\">\n       <use xlink:href=\"#DejaVuSans-31\"/>\n       <use xlink:href=\"#DejaVuSans-2e\" x=\"63.623047\"/>\n       <use xlink:href=\"#DejaVuSans-30\" x=\"95.410156\"/>\n      </g>\n     </g>\n    </g>\n    <g id=\"ytick_3\">\n     <g id=\"line2d_9\">\n      <g>\n       <use xlink:href=\"#m57732917df\" x=\"30.103125\" y=\"63.76343\" style=\"stroke: #000000; stroke-width: 0.8\"/>\n      </g>\n     </g>\n     <g id=\"text_10\">\n      <!-- 1.5 -->\n      <g transform=\"translate(7.2 67.562649) scale(0.1 -0.1)\">\n       <use xlink:href=\"#DejaVuSans-31\"/>\n       <use xlink:href=\"#DejaVuSans-2e\" x=\"63.623047\"/>\n       <use xlink:href=\"#DejaVuSans-35\" x=\"95.410156\"/>\n      </g>\n     </g>\n    </g>\n    <g id=\"ytick_4\">\n     <g id=\"line2d_10\">\n      <g>\n       <use xlink:href=\"#m57732917df\" x=\"30.103125\" y=\"32.325986\" style=\"stroke: #000000; stroke-width: 0.8\"/>\n      </g>\n     </g>\n     <g id=\"text_11\">\n      <!-- 2.0 -->\n      <g transform=\"translate(7.2 36.125204) scale(0.1 -0.1)\">\n       <use xlink:href=\"#DejaVuSans-32\"/>\n       <use xlink:href=\"#DejaVuSans-2e\" x=\"63.623047\"/>\n       <use xlink:href=\"#DejaVuSans-30\" x=\"95.410156\"/>\n      </g>\n     </g>\n    </g>\n   </g>\n   <g id=\"line2d_11\">\n    <path d=\"M 34.954394 13.5 \n\" clip-path=\"url(#p87bc34ebf7)\" style=\"fill: none; stroke: #1f77b4; stroke-width: 1.5; stroke-linecap: square\"/>\n   </g>\n   <g id=\"line2d_12\">\n    <path d=\"M 34.954394 13.5 \nL 44.698573 50.870457 \n\" clip-path=\"url(#p87bc34ebf7)\" style=\"fill: none; stroke: #1f77b4; stroke-width: 1.5; stroke-linecap: square\"/>\n   </g>\n   <g id=\"line2d_13\">\n    <path d=\"M 34.954394 13.5 \nL 44.698573 50.870457 \n\" clip-path=\"url(#p87bc34ebf7)\" style=\"fill: none; stroke: #1f77b4; stroke-width: 1.5; stroke-linecap: square\"/>\n   </g>\n   <g id=\"line2d_14\">\n    <path d=\"M 49.633125 105.573898 \n\" clip-path=\"url(#p87bc34ebf7)\" style=\"fill: none; stroke-dasharray: 5.55,2.4; stroke-dashoffset: 0; stroke: #ff7f0e; stroke-width: 1.5\"/>\n   </g>\n   <g id=\"line2d_15\"/>\n   <g id=\"line2d_16\">\n    <path d=\"M 34.954394 13.5 \nL 44.698573 50.870457 \n\" clip-path=\"url(#p87bc34ebf7)\" style=\"fill: none; stroke: #1f77b4; stroke-width: 1.5; stroke-linecap: square\"/>\n   </g>\n   <g id=\"line2d_17\">\n    <path d=\"M 49.633125 105.573898 \n\" clip-path=\"url(#p87bc34ebf7)\" style=\"fill: none; stroke-dasharray: 5.55,2.4; stroke-dashoffset: 0; stroke: #ff7f0e; stroke-width: 1.5\"/>\n   </g>\n   <g id=\"line2d_18\">\n    <path d=\"M 49.633125 116.080411 \n\" clip-path=\"url(#p87bc34ebf7)\" style=\"fill: none; stroke-dasharray: 9.6,2.4,1.5,2.4; stroke-dashoffset: 0; stroke: #2ca02c; stroke-width: 1.5\"/>\n   </g>\n   <g id=\"line2d_19\">\n    <path d=\"M 34.954394 13.5 \nL 44.698573 50.870457 \nL 54.442752 108.030485 \n\" clip-path=\"url(#p87bc34ebf7)\" style=\"fill: none; stroke: #1f77b4; stroke-width: 1.5; stroke-linecap: square\"/>\n   </g>\n   <g id=\"line2d_20\">\n    <path d=\"M 49.633125 105.573898 \n\" clip-path=\"url(#p87bc34ebf7)\" style=\"fill: none; stroke-dasharray: 5.55,2.4; stroke-dashoffset: 0; stroke: #ff7f0e; stroke-width: 1.5\"/>\n   </g>\n   <g id=\"line2d_21\">\n    <path d=\"M 49.633125 116.080411 \n\" clip-path=\"url(#p87bc34ebf7)\" style=\"fill: none; stroke-dasharray: 9.6,2.4,1.5,2.4; stroke-dashoffset: 0; stroke: #2ca02c; stroke-width: 1.5\"/>\n   </g>\n   <g id=\"line2d_22\">\n    <path d=\"M 34.954394 13.5 \nL 44.698573 50.870457 \nL 54.442752 108.030485 \nL 64.186931 118.041355 \n\" clip-path=\"url(#p87bc34ebf7)\" style=\"fill: none; stroke: #1f77b4; stroke-width: 1.5; stroke-linecap: square\"/>\n   </g>\n   <g id=\"line2d_23\">\n    <path d=\"M 49.633125 105.573898 \n\" clip-path=\"url(#p87bc34ebf7)\" style=\"fill: none; stroke-dasharray: 5.55,2.4; stroke-dashoffset: 0; stroke: #ff7f0e; stroke-width: 1.5\"/>\n   </g>\n   <g id=\"line2d_24\">\n    <path d=\"M 49.633125 116.080411 \n\" clip-path=\"url(#p87bc34ebf7)\" style=\"fill: none; stroke-dasharray: 9.6,2.4,1.5,2.4; stroke-dashoffset: 0; stroke: #2ca02c; stroke-width: 1.5\"/>\n   </g>\n   <g id=\"line2d_25\">\n    <path d=\"M 34.954394 13.5 \nL 44.698573 50.870457 \nL 54.442752 108.030485 \nL 64.186931 118.041355 \n\" clip-path=\"url(#p87bc34ebf7)\" style=\"fill: none; stroke: #1f77b4; stroke-width: 1.5; stroke-linecap: square\"/>\n   </g>\n   <g id=\"line2d_26\">\n    <path d=\"M 49.633125 105.573898 \nL 69.163125 124.26733 \n\" clip-path=\"url(#p87bc34ebf7)\" style=\"fill: none; stroke-dasharray: 5.55,2.4; stroke-dashoffset: 0; stroke: #ff7f0e; stroke-width: 1.5\"/>\n   </g>\n   <g id=\"line2d_27\">\n    <path d=\"M 49.633125 116.080411 \n\" clip-path=\"url(#p87bc34ebf7)\" style=\"fill: none; stroke-dasharray: 9.6,2.4,1.5,2.4; stroke-dashoffset: 0; stroke: #2ca02c; stroke-width: 1.5\"/>\n   </g>\n   <g id=\"line2d_28\">\n    <path d=\"M 34.954394 13.5 \nL 44.698573 50.870457 \nL 54.442752 108.030485 \nL 64.186931 118.041355 \n\" clip-path=\"url(#p87bc34ebf7)\" style=\"fill: none; stroke: #1f77b4; stroke-width: 1.5; stroke-linecap: square\"/>\n   </g>\n   <g id=\"line2d_29\">\n    <path d=\"M 49.633125 105.573898 \nL 69.163125 124.26733 \n\" clip-path=\"url(#p87bc34ebf7)\" style=\"fill: none; stroke-dasharray: 5.55,2.4; stroke-dashoffset: 0; stroke: #ff7f0e; stroke-width: 1.5\"/>\n   </g>\n   <g id=\"line2d_30\">\n    <path d=\"M 49.633125 116.080411 \nL 69.163125 107.742276 \n\" clip-path=\"url(#p87bc34ebf7)\" style=\"fill: none; stroke-dasharray: 9.6,2.4,1.5,2.4; stroke-dashoffset: 0; stroke: #2ca02c; stroke-width: 1.5\"/>\n   </g>\n   <g id=\"line2d_31\">\n    <path d=\"M 34.954394 13.5 \nL 44.698573 50.870457 \nL 54.442752 108.030485 \nL 64.186931 118.041355 \nL 73.93111 123.381037 \n\" clip-path=\"url(#p87bc34ebf7)\" style=\"fill: none; stroke: #1f77b4; stroke-width: 1.5; stroke-linecap: square\"/>\n   </g>\n   <g id=\"line2d_32\">\n    <path d=\"M 49.633125 105.573898 \nL 69.163125 124.26733 \n\" clip-path=\"url(#p87bc34ebf7)\" style=\"fill: none; stroke-dasharray: 5.55,2.4; stroke-dashoffset: 0; stroke: #ff7f0e; stroke-width: 1.5\"/>\n   </g>\n   <g id=\"line2d_33\">\n    <path d=\"M 49.633125 116.080411 \nL 69.163125 107.742276 \n\" clip-path=\"url(#p87bc34ebf7)\" style=\"fill: none; stroke-dasharray: 9.6,2.4,1.5,2.4; stroke-dashoffset: 0; stroke: #2ca02c; stroke-width: 1.5\"/>\n   </g>\n   <g id=\"line2d_34\">\n    <path d=\"M 34.954394 13.5 \nL 44.698573 50.870457 \nL 54.442752 108.030485 \nL 64.186931 118.041355 \nL 73.93111 123.381037 \nL 83.675289 126.616554 \n\" clip-path=\"url(#p87bc34ebf7)\" style=\"fill: none; stroke: #1f77b4; stroke-width: 1.5; stroke-linecap: square\"/>\n   </g>\n   <g id=\"line2d_35\">\n    <path d=\"M 49.633125 105.573898 \nL 69.163125 124.26733 \n\" clip-path=\"url(#p87bc34ebf7)\" style=\"fill: none; stroke-dasharray: 5.55,2.4; stroke-dashoffset: 0; stroke: #ff7f0e; stroke-width: 1.5\"/>\n   </g>\n   <g id=\"line2d_36\">\n    <path d=\"M 49.633125 116.080411 \nL 69.163125 107.742276 \n\" clip-path=\"url(#p87bc34ebf7)\" style=\"fill: none; stroke-dasharray: 9.6,2.4,1.5,2.4; stroke-dashoffset: 0; stroke: #2ca02c; stroke-width: 1.5\"/>\n   </g>\n   <g id=\"line2d_37\">\n    <path d=\"M 34.954394 13.5 \nL 44.698573 50.870457 \nL 54.442752 108.030485 \nL 64.186931 118.041355 \nL 73.93111 123.381037 \nL 83.675289 126.616554 \n\" clip-path=\"url(#p87bc34ebf7)\" style=\"fill: none; stroke: #1f77b4; stroke-width: 1.5; stroke-linecap: square\"/>\n   </g>\n   <g id=\"line2d_38\">\n    <path d=\"M 49.633125 105.573898 \nL 69.163125 124.26733 \nL 88.693125 129.764932 \n\" clip-path=\"url(#p87bc34ebf7)\" style=\"fill: none; stroke-dasharray: 5.55,2.4; stroke-dashoffset: 0; stroke: #ff7f0e; stroke-width: 1.5\"/>\n   </g>\n   <g id=\"line2d_39\">\n    <path d=\"M 49.633125 116.080411 \nL 69.163125 107.742276 \n\" clip-path=\"url(#p87bc34ebf7)\" style=\"fill: none; stroke-dasharray: 9.6,2.4,1.5,2.4; stroke-dashoffset: 0; stroke: #2ca02c; stroke-width: 1.5\"/>\n   </g>\n   <g id=\"line2d_40\">\n    <path d=\"M 34.954394 13.5 \nL 44.698573 50.870457 \nL 54.442752 108.030485 \nL 64.186931 118.041355 \nL 73.93111 123.381037 \nL 83.675289 126.616554 \n\" clip-path=\"url(#p87bc34ebf7)\" style=\"fill: none; stroke: #1f77b4; stroke-width: 1.5; stroke-linecap: square\"/>\n   </g>\n   <g id=\"line2d_41\">\n    <path d=\"M 49.633125 105.573898 \nL 69.163125 124.26733 \nL 88.693125 129.764932 \n\" clip-path=\"url(#p87bc34ebf7)\" style=\"fill: none; stroke-dasharray: 5.55,2.4; stroke-dashoffset: 0; stroke: #ff7f0e; stroke-width: 1.5\"/>\n   </g>\n   <g id=\"line2d_42\">\n    <path d=\"M 49.633125 116.080411 \nL 69.163125 107.742276 \nL 88.693125 105.441672 \n\" clip-path=\"url(#p87bc34ebf7)\" style=\"fill: none; stroke-dasharray: 9.6,2.4,1.5,2.4; stroke-dashoffset: 0; stroke: #2ca02c; stroke-width: 1.5\"/>\n   </g>\n   <g id=\"line2d_43\">\n    <path d=\"M 34.954394 13.5 \nL 44.698573 50.870457 \nL 54.442752 108.030485 \nL 64.186931 118.041355 \nL 73.93111 123.381037 \nL 83.675289 126.616554 \nL 93.419468 128.924958 \n\" clip-path=\"url(#p87bc34ebf7)\" style=\"fill: none; stroke: #1f77b4; stroke-width: 1.5; stroke-linecap: square\"/>\n   </g>\n   <g id=\"line2d_44\">\n    <path d=\"M 49.633125 105.573898 \nL 69.163125 124.26733 \nL 88.693125 129.764932 \n\" clip-path=\"url(#p87bc34ebf7)\" style=\"fill: none; stroke-dasharray: 5.55,2.4; stroke-dashoffset: 0; stroke: #ff7f0e; stroke-width: 1.5\"/>\n   </g>\n   <g id=\"line2d_45\">\n    <path d=\"M 49.633125 116.080411 \nL 69.163125 107.742276 \nL 88.693125 105.441672 \n\" clip-path=\"url(#p87bc34ebf7)\" style=\"fill: none; stroke-dasharray: 9.6,2.4,1.5,2.4; stroke-dashoffset: 0; stroke: #2ca02c; stroke-width: 1.5\"/>\n   </g>\n   <g id=\"line2d_46\">\n    <path d=\"M 34.954394 13.5 \nL 44.698573 50.870457 \nL 54.442752 108.030485 \nL 64.186931 118.041355 \nL 73.93111 123.381037 \nL 83.675289 126.616554 \nL 93.419468 128.924958 \nL 103.163647 130.479426 \n\" clip-path=\"url(#p87bc34ebf7)\" style=\"fill: none; stroke: #1f77b4; stroke-width: 1.5; stroke-linecap: square\"/>\n   </g>\n   <g id=\"line2d_47\">\n    <path d=\"M 49.633125 105.573898 \nL 69.163125 124.26733 \nL 88.693125 129.764932 \n\" clip-path=\"url(#p87bc34ebf7)\" style=\"fill: none; stroke-dasharray: 5.55,2.4; stroke-dashoffset: 0; stroke: #ff7f0e; stroke-width: 1.5\"/>\n   </g>\n   <g id=\"line2d_48\">\n    <path d=\"M 49.633125 116.080411 \nL 69.163125 107.742276 \nL 88.693125 105.441672 \n\" clip-path=\"url(#p87bc34ebf7)\" style=\"fill: none; stroke-dasharray: 9.6,2.4,1.5,2.4; stroke-dashoffset: 0; stroke: #2ca02c; stroke-width: 1.5\"/>\n   </g>\n   <g id=\"line2d_49\">\n    <path d=\"M 34.954394 13.5 \nL 44.698573 50.870457 \nL 54.442752 108.030485 \nL 64.186931 118.041355 \nL 73.93111 123.381037 \nL 83.675289 126.616554 \nL 93.419468 128.924958 \nL 103.163647 130.479426 \n\" clip-path=\"url(#p87bc34ebf7)\" style=\"fill: none; stroke: #1f77b4; stroke-width: 1.5; stroke-linecap: square\"/>\n   </g>\n   <g id=\"line2d_50\">\n    <path d=\"M 49.633125 105.573898 \nL 69.163125 124.26733 \nL 88.693125 129.764932 \nL 108.223125 133.004637 \n\" clip-path=\"url(#p87bc34ebf7)\" style=\"fill: none; stroke-dasharray: 5.55,2.4; stroke-dashoffset: 0; stroke: #ff7f0e; stroke-width: 1.5\"/>\n   </g>\n   <g id=\"line2d_51\">\n    <path d=\"M 49.633125 116.080411 \nL 69.163125 107.742276 \nL 88.693125 105.441672 \n\" clip-path=\"url(#p87bc34ebf7)\" style=\"fill: none; stroke-dasharray: 9.6,2.4,1.5,2.4; stroke-dashoffset: 0; stroke: #2ca02c; stroke-width: 1.5\"/>\n   </g>\n   <g id=\"line2d_52\">\n    <path d=\"M 34.954394 13.5 \nL 44.698573 50.870457 \nL 54.442752 108.030485 \nL 64.186931 118.041355 \nL 73.93111 123.381037 \nL 83.675289 126.616554 \nL 93.419468 128.924958 \nL 103.163647 130.479426 \n\" clip-path=\"url(#p87bc34ebf7)\" style=\"fill: none; stroke: #1f77b4; stroke-width: 1.5; stroke-linecap: square\"/>\n   </g>\n   <g id=\"line2d_53\">\n    <path d=\"M 49.633125 105.573898 \nL 69.163125 124.26733 \nL 88.693125 129.764932 \nL 108.223125 133.004637 \n\" clip-path=\"url(#p87bc34ebf7)\" style=\"fill: none; stroke-dasharray: 5.55,2.4; stroke-dashoffset: 0; stroke: #ff7f0e; stroke-width: 1.5\"/>\n   </g>\n   <g id=\"line2d_54\">\n    <path d=\"M 49.633125 116.080411 \nL 69.163125 107.742276 \nL 88.693125 105.441672 \nL 108.223125 104.241627 \n\" clip-path=\"url(#p87bc34ebf7)\" style=\"fill: none; stroke-dasharray: 9.6,2.4,1.5,2.4; stroke-dashoffset: 0; stroke: #2ca02c; stroke-width: 1.5\"/>\n   </g>\n   <g id=\"line2d_55\">\n    <path d=\"M 34.954394 13.5 \nL 44.698573 50.870457 \nL 54.442752 108.030485 \nL 64.186931 118.041355 \nL 73.93111 123.381037 \nL 83.675289 126.616554 \nL 93.419468 128.924958 \nL 103.163647 130.479426 \nL 112.907826 132.148676 \n\" clip-path=\"url(#p87bc34ebf7)\" style=\"fill: none; stroke: #1f77b4; stroke-width: 1.5; stroke-linecap: square\"/>\n   </g>\n   <g id=\"line2d_56\">\n    <path d=\"M 49.633125 105.573898 \nL 69.163125 124.26733 \nL 88.693125 129.764932 \nL 108.223125 133.004637 \n\" clip-path=\"url(#p87bc34ebf7)\" style=\"fill: none; stroke-dasharray: 5.55,2.4; stroke-dashoffset: 0; stroke: #ff7f0e; stroke-width: 1.5\"/>\n   </g>\n   <g id=\"line2d_57\">\n    <path d=\"M 49.633125 116.080411 \nL 69.163125 107.742276 \nL 88.693125 105.441672 \nL 108.223125 104.241627 \n\" clip-path=\"url(#p87bc34ebf7)\" style=\"fill: none; stroke-dasharray: 9.6,2.4,1.5,2.4; stroke-dashoffset: 0; stroke: #2ca02c; stroke-width: 1.5\"/>\n   </g>\n   <g id=\"line2d_58\">\n    <path d=\"M 34.954394 13.5 \nL 44.698573 50.870457 \nL 54.442752 108.030485 \nL 64.186931 118.041355 \nL 73.93111 123.381037 \nL 83.675289 126.616554 \nL 93.419468 128.924958 \nL 103.163647 130.479426 \nL 112.907826 132.148676 \nL 122.652006 132.998639 \n\" clip-path=\"url(#p87bc34ebf7)\" style=\"fill: none; stroke: #1f77b4; stroke-width: 1.5; stroke-linecap: square\"/>\n   </g>\n   <g id=\"line2d_59\">\n    <path d=\"M 49.633125 105.573898 \nL 69.163125 124.26733 \nL 88.693125 129.764932 \nL 108.223125 133.004637 \n\" clip-path=\"url(#p87bc34ebf7)\" style=\"fill: none; stroke-dasharray: 5.55,2.4; stroke-dashoffset: 0; stroke: #ff7f0e; stroke-width: 1.5\"/>\n   </g>\n   <g id=\"line2d_60\">\n    <path d=\"M 49.633125 116.080411 \nL 69.163125 107.742276 \nL 88.693125 105.441672 \nL 108.223125 104.241627 \n\" clip-path=\"url(#p87bc34ebf7)\" style=\"fill: none; stroke-dasharray: 9.6,2.4,1.5,2.4; stroke-dashoffset: 0; stroke: #2ca02c; stroke-width: 1.5\"/>\n   </g>\n   <g id=\"line2d_61\">\n    <path d=\"M 34.954394 13.5 \nL 44.698573 50.870457 \nL 54.442752 108.030485 \nL 64.186931 118.041355 \nL 73.93111 123.381037 \nL 83.675289 126.616554 \nL 93.419468 128.924958 \nL 103.163647 130.479426 \nL 112.907826 132.148676 \nL 122.652006 132.998639 \n\" clip-path=\"url(#p87bc34ebf7)\" style=\"fill: none; stroke: #1f77b4; stroke-width: 1.5; stroke-linecap: square\"/>\n   </g>\n   <g id=\"line2d_62\">\n    <path d=\"M 49.633125 105.573898 \nL 69.163125 124.26733 \nL 88.693125 129.764932 \nL 108.223125 133.004637 \nL 127.753125 134.775826 \n\" clip-path=\"url(#p87bc34ebf7)\" style=\"fill: none; stroke-dasharray: 5.55,2.4; stroke-dashoffset: 0; stroke: #ff7f0e; stroke-width: 1.5\"/>\n   </g>\n   <g id=\"line2d_63\">\n    <path d=\"M 49.633125 116.080411 \nL 69.163125 107.742276 \nL 88.693125 105.441672 \nL 108.223125 104.241627 \n\" clip-path=\"url(#p87bc34ebf7)\" style=\"fill: none; stroke-dasharray: 9.6,2.4,1.5,2.4; stroke-dashoffset: 0; stroke: #2ca02c; stroke-width: 1.5\"/>\n   </g>\n   <g id=\"line2d_64\">\n    <path d=\"M 34.954394 13.5 \nL 44.698573 50.870457 \nL 54.442752 108.030485 \nL 64.186931 118.041355 \nL 73.93111 123.381037 \nL 83.675289 126.616554 \nL 93.419468 128.924958 \nL 103.163647 130.479426 \nL 112.907826 132.148676 \nL 122.652006 132.998639 \n\" clip-path=\"url(#p87bc34ebf7)\" style=\"fill: none; stroke: #1f77b4; stroke-width: 1.5; stroke-linecap: square\"/>\n   </g>\n   <g id=\"line2d_65\">\n    <path d=\"M 49.633125 105.573898 \nL 69.163125 124.26733 \nL 88.693125 129.764932 \nL 108.223125 133.004637 \nL 127.753125 134.775826 \n\" clip-path=\"url(#p87bc34ebf7)\" style=\"fill: none; stroke-dasharray: 5.55,2.4; stroke-dashoffset: 0; stroke: #ff7f0e; stroke-width: 1.5\"/>\n   </g>\n   <g id=\"line2d_66\">\n    <path d=\"M 49.633125 116.080411 \nL 69.163125 107.742276 \nL 88.693125 105.441672 \nL 108.223125 104.241627 \nL 127.753125 103.663367 \n\" clip-path=\"url(#p87bc34ebf7)\" style=\"fill: none; stroke-dasharray: 9.6,2.4,1.5,2.4; stroke-dashoffset: 0; stroke: #2ca02c; stroke-width: 1.5\"/>\n   </g>\n   <g id=\"line2d_67\">\n    <path d=\"M 34.954394 13.5 \nL 44.698573 50.870457 \nL 54.442752 108.030485 \nL 64.186931 118.041355 \nL 73.93111 123.381037 \nL 83.675289 126.616554 \nL 93.419468 128.924958 \nL 103.163647 130.479426 \nL 112.907826 132.148676 \nL 122.652006 132.998639 \nL 132.396185 133.978864 \n\" clip-path=\"url(#p87bc34ebf7)\" style=\"fill: none; stroke: #1f77b4; stroke-width: 1.5; stroke-linecap: square\"/>\n   </g>\n   <g id=\"line2d_68\">\n    <path d=\"M 49.633125 105.573898 \nL 69.163125 124.26733 \nL 88.693125 129.764932 \nL 108.223125 133.004637 \nL 127.753125 134.775826 \n\" clip-path=\"url(#p87bc34ebf7)\" style=\"fill: none; stroke-dasharray: 5.55,2.4; stroke-dashoffset: 0; stroke: #ff7f0e; stroke-width: 1.5\"/>\n   </g>\n   <g id=\"line2d_69\">\n    <path d=\"M 49.633125 116.080411 \nL 69.163125 107.742276 \nL 88.693125 105.441672 \nL 108.223125 104.241627 \nL 127.753125 103.663367 \n\" clip-path=\"url(#p87bc34ebf7)\" style=\"fill: none; stroke-dasharray: 9.6,2.4,1.5,2.4; stroke-dashoffset: 0; stroke: #2ca02c; stroke-width: 1.5\"/>\n   </g>\n   <g id=\"line2d_70\">\n    <path d=\"M 34.954394 13.5 \nL 44.698573 50.870457 \nL 54.442752 108.030485 \nL 64.186931 118.041355 \nL 73.93111 123.381037 \nL 83.675289 126.616554 \nL 93.419468 128.924958 \nL 103.163647 130.479426 \nL 112.907826 132.148676 \nL 122.652006 132.998639 \nL 132.396185 133.978864 \nL 142.140364 135.184503 \n\" clip-path=\"url(#p87bc34ebf7)\" style=\"fill: none; stroke: #1f77b4; stroke-width: 1.5; stroke-linecap: square\"/>\n   </g>\n   <g id=\"line2d_71\">\n    <path d=\"M 49.633125 105.573898 \nL 69.163125 124.26733 \nL 88.693125 129.764932 \nL 108.223125 133.004637 \nL 127.753125 134.775826 \n\" clip-path=\"url(#p87bc34ebf7)\" style=\"fill: none; stroke-dasharray: 5.55,2.4; stroke-dashoffset: 0; stroke: #ff7f0e; stroke-width: 1.5\"/>\n   </g>\n   <g id=\"line2d_72\">\n    <path d=\"M 49.633125 116.080411 \nL 69.163125 107.742276 \nL 88.693125 105.441672 \nL 108.223125 104.241627 \nL 127.753125 103.663367 \n\" clip-path=\"url(#p87bc34ebf7)\" style=\"fill: none; stroke-dasharray: 9.6,2.4,1.5,2.4; stroke-dashoffset: 0; stroke: #2ca02c; stroke-width: 1.5\"/>\n   </g>\n   <g id=\"line2d_73\">\n    <path d=\"M 34.954394 13.5 \nL 44.698573 50.870457 \nL 54.442752 108.030485 \nL 64.186931 118.041355 \nL 73.93111 123.381037 \nL 83.675289 126.616554 \nL 93.419468 128.924958 \nL 103.163647 130.479426 \nL 112.907826 132.148676 \nL 122.652006 132.998639 \nL 132.396185 133.978864 \nL 142.140364 135.184503 \n\" clip-path=\"url(#p87bc34ebf7)\" style=\"fill: none; stroke: #1f77b4; stroke-width: 1.5; stroke-linecap: square\"/>\n   </g>\n   <g id=\"line2d_74\">\n    <path d=\"M 49.633125 105.573898 \nL 69.163125 124.26733 \nL 88.693125 129.764932 \nL 108.223125 133.004637 \nL 127.753125 134.775826 \nL 147.283125 134.834242 \n\" clip-path=\"url(#p87bc34ebf7)\" style=\"fill: none; stroke-dasharray: 5.55,2.4; stroke-dashoffset: 0; stroke: #ff7f0e; stroke-width: 1.5\"/>\n   </g>\n   <g id=\"line2d_75\">\n    <path d=\"M 49.633125 116.080411 \nL 69.163125 107.742276 \nL 88.693125 105.441672 \nL 108.223125 104.241627 \nL 127.753125 103.663367 \n\" clip-path=\"url(#p87bc34ebf7)\" style=\"fill: none; stroke-dasharray: 9.6,2.4,1.5,2.4; stroke-dashoffset: 0; stroke: #2ca02c; stroke-width: 1.5\"/>\n   </g>\n   <g id=\"line2d_76\">\n    <path d=\"M 34.954394 13.5 \nL 44.698573 50.870457 \nL 54.442752 108.030485 \nL 64.186931 118.041355 \nL 73.93111 123.381037 \nL 83.675289 126.616554 \nL 93.419468 128.924958 \nL 103.163647 130.479426 \nL 112.907826 132.148676 \nL 122.652006 132.998639 \nL 132.396185 133.978864 \nL 142.140364 135.184503 \n\" clip-path=\"url(#p87bc34ebf7)\" style=\"fill: none; stroke: #1f77b4; stroke-width: 1.5; stroke-linecap: square\"/>\n   </g>\n   <g id=\"line2d_77\">\n    <path d=\"M 49.633125 105.573898 \nL 69.163125 124.26733 \nL 88.693125 129.764932 \nL 108.223125 133.004637 \nL 127.753125 134.775826 \nL 147.283125 134.834242 \n\" clip-path=\"url(#p87bc34ebf7)\" style=\"fill: none; stroke-dasharray: 5.55,2.4; stroke-dashoffset: 0; stroke: #ff7f0e; stroke-width: 1.5\"/>\n   </g>\n   <g id=\"line2d_78\">\n    <path d=\"M 49.633125 116.080411 \nL 69.163125 107.742276 \nL 88.693125 105.441672 \nL 108.223125 104.241627 \nL 127.753125 103.663367 \nL 147.283125 103.862338 \n\" clip-path=\"url(#p87bc34ebf7)\" style=\"fill: none; stroke-dasharray: 9.6,2.4,1.5,2.4; stroke-dashoffset: 0; stroke: #2ca02c; stroke-width: 1.5\"/>\n   </g>\n   <g id=\"line2d_79\">\n    <path d=\"M 34.954394 13.5 \nL 44.698573 50.870457 \nL 54.442752 108.030485 \nL 64.186931 118.041355 \nL 73.93111 123.381037 \nL 83.675289 126.616554 \nL 93.419468 128.924958 \nL 103.163647 130.479426 \nL 112.907826 132.148676 \nL 122.652006 132.998639 \nL 132.396185 133.978864 \nL 142.140364 135.184503 \nL 151.884543 135.823683 \n\" clip-path=\"url(#p87bc34ebf7)\" style=\"fill: none; stroke: #1f77b4; stroke-width: 1.5; stroke-linecap: square\"/>\n   </g>\n   <g id=\"line2d_80\">\n    <path d=\"M 49.633125 105.573898 \nL 69.163125 124.26733 \nL 88.693125 129.764932 \nL 108.223125 133.004637 \nL 127.753125 134.775826 \nL 147.283125 134.834242 \n\" clip-path=\"url(#p87bc34ebf7)\" style=\"fill: none; stroke-dasharray: 5.55,2.4; stroke-dashoffset: 0; stroke: #ff7f0e; stroke-width: 1.5\"/>\n   </g>\n   <g id=\"line2d_81\">\n    <path d=\"M 49.633125 116.080411 \nL 69.163125 107.742276 \nL 88.693125 105.441672 \nL 108.223125 104.241627 \nL 127.753125 103.663367 \nL 147.283125 103.862338 \n\" clip-path=\"url(#p87bc34ebf7)\" style=\"fill: none; stroke-dasharray: 9.6,2.4,1.5,2.4; stroke-dashoffset: 0; stroke: #2ca02c; stroke-width: 1.5\"/>\n   </g>\n   <g id=\"line2d_82\">\n    <path d=\"M 34.954394 13.5 \nL 44.698573 50.870457 \nL 54.442752 108.030485 \nL 64.186931 118.041355 \nL 73.93111 123.381037 \nL 83.675289 126.616554 \nL 93.419468 128.924958 \nL 103.163647 130.479426 \nL 112.907826 132.148676 \nL 122.652006 132.998639 \nL 132.396185 133.978864 \nL 142.140364 135.184503 \nL 151.884543 135.823683 \nL 161.628722 136.278274 \n\" clip-path=\"url(#p87bc34ebf7)\" style=\"fill: none; stroke: #1f77b4; stroke-width: 1.5; stroke-linecap: square\"/>\n   </g>\n   <g id=\"line2d_83\">\n    <path d=\"M 49.633125 105.573898 \nL 69.163125 124.26733 \nL 88.693125 129.764932 \nL 108.223125 133.004637 \nL 127.753125 134.775826 \nL 147.283125 134.834242 \n\" clip-path=\"url(#p87bc34ebf7)\" style=\"fill: none; stroke-dasharray: 5.55,2.4; stroke-dashoffset: 0; stroke: #ff7f0e; stroke-width: 1.5\"/>\n   </g>\n   <g id=\"line2d_84\">\n    <path d=\"M 49.633125 116.080411 \nL 69.163125 107.742276 \nL 88.693125 105.441672 \nL 108.223125 104.241627 \nL 127.753125 103.663367 \nL 147.283125 103.862338 \n\" clip-path=\"url(#p87bc34ebf7)\" style=\"fill: none; stroke-dasharray: 9.6,2.4,1.5,2.4; stroke-dashoffset: 0; stroke: #2ca02c; stroke-width: 1.5\"/>\n   </g>\n   <g id=\"line2d_85\">\n    <path d=\"M 34.954394 13.5 \nL 44.698573 50.870457 \nL 54.442752 108.030485 \nL 64.186931 118.041355 \nL 73.93111 123.381037 \nL 83.675289 126.616554 \nL 93.419468 128.924958 \nL 103.163647 130.479426 \nL 112.907826 132.148676 \nL 122.652006 132.998639 \nL 132.396185 133.978864 \nL 142.140364 135.184503 \nL 151.884543 135.823683 \nL 161.628722 136.278274 \n\" clip-path=\"url(#p87bc34ebf7)\" style=\"fill: none; stroke: #1f77b4; stroke-width: 1.5; stroke-linecap: square\"/>\n   </g>\n   <g id=\"line2d_86\">\n    <path d=\"M 49.633125 105.573898 \nL 69.163125 124.26733 \nL 88.693125 129.764932 \nL 108.223125 133.004637 \nL 127.753125 134.775826 \nL 147.283125 134.834242 \nL 166.813125 137.127929 \n\" clip-path=\"url(#p87bc34ebf7)\" style=\"fill: none; stroke-dasharray: 5.55,2.4; stroke-dashoffset: 0; stroke: #ff7f0e; stroke-width: 1.5\"/>\n   </g>\n   <g id=\"line2d_87\">\n    <path d=\"M 49.633125 116.080411 \nL 69.163125 107.742276 \nL 88.693125 105.441672 \nL 108.223125 104.241627 \nL 127.753125 103.663367 \nL 147.283125 103.862338 \n\" clip-path=\"url(#p87bc34ebf7)\" style=\"fill: none; stroke-dasharray: 9.6,2.4,1.5,2.4; stroke-dashoffset: 0; stroke: #2ca02c; stroke-width: 1.5\"/>\n   </g>\n   <g id=\"line2d_88\">\n    <path d=\"M 34.954394 13.5 \nL 44.698573 50.870457 \nL 54.442752 108.030485 \nL 64.186931 118.041355 \nL 73.93111 123.381037 \nL 83.675289 126.616554 \nL 93.419468 128.924958 \nL 103.163647 130.479426 \nL 112.907826 132.148676 \nL 122.652006 132.998639 \nL 132.396185 133.978864 \nL 142.140364 135.184503 \nL 151.884543 135.823683 \nL 161.628722 136.278274 \n\" clip-path=\"url(#p87bc34ebf7)\" style=\"fill: none; stroke: #1f77b4; stroke-width: 1.5; stroke-linecap: square\"/>\n   </g>\n   <g id=\"line2d_89\">\n    <path d=\"M 49.633125 105.573898 \nL 69.163125 124.26733 \nL 88.693125 129.764932 \nL 108.223125 133.004637 \nL 127.753125 134.775826 \nL 147.283125 134.834242 \nL 166.813125 137.127929 \n\" clip-path=\"url(#p87bc34ebf7)\" style=\"fill: none; stroke-dasharray: 5.55,2.4; stroke-dashoffset: 0; stroke: #ff7f0e; stroke-width: 1.5\"/>\n   </g>\n   <g id=\"line2d_90\">\n    <path d=\"M 49.633125 116.080411 \nL 69.163125 107.742276 \nL 88.693125 105.441672 \nL 108.223125 104.241627 \nL 127.753125 103.663367 \nL 147.283125 103.862338 \nL 166.813125 102.81774 \n\" clip-path=\"url(#p87bc34ebf7)\" style=\"fill: none; stroke-dasharray: 9.6,2.4,1.5,2.4; stroke-dashoffset: 0; stroke: #2ca02c; stroke-width: 1.5\"/>\n   </g>\n   <g id=\"line2d_91\">\n    <path d=\"M 34.954394 13.5 \nL 44.698573 50.870457 \nL 54.442752 108.030485 \nL 64.186931 118.041355 \nL 73.93111 123.381037 \nL 83.675289 126.616554 \nL 93.419468 128.924958 \nL 103.163647 130.479426 \nL 112.907826 132.148676 \nL 122.652006 132.998639 \nL 132.396185 133.978864 \nL 142.140364 135.184503 \nL 151.884543 135.823683 \nL 161.628722 136.278274 \nL 171.372901 137.265141 \n\" clip-path=\"url(#p87bc34ebf7)\" style=\"fill: none; stroke: #1f77b4; stroke-width: 1.5; stroke-linecap: square\"/>\n   </g>\n   <g id=\"line2d_92\">\n    <path d=\"M 49.633125 105.573898 \nL 69.163125 124.26733 \nL 88.693125 129.764932 \nL 108.223125 133.004637 \nL 127.753125 134.775826 \nL 147.283125 134.834242 \nL 166.813125 137.127929 \n\" clip-path=\"url(#p87bc34ebf7)\" style=\"fill: none; stroke-dasharray: 5.55,2.4; stroke-dashoffset: 0; stroke: #ff7f0e; stroke-width: 1.5\"/>\n   </g>\n   <g id=\"line2d_93\">\n    <path d=\"M 49.633125 116.080411 \nL 69.163125 107.742276 \nL 88.693125 105.441672 \nL 108.223125 104.241627 \nL 127.753125 103.663367 \nL 147.283125 103.862338 \nL 166.813125 102.81774 \n\" clip-path=\"url(#p87bc34ebf7)\" style=\"fill: none; stroke-dasharray: 9.6,2.4,1.5,2.4; stroke-dashoffset: 0; stroke: #2ca02c; stroke-width: 1.5\"/>\n   </g>\n   <g id=\"line2d_94\">\n    <path d=\"M 34.954394 13.5 \nL 44.698573 50.870457 \nL 54.442752 108.030485 \nL 64.186931 118.041355 \nL 73.93111 123.381037 \nL 83.675289 126.616554 \nL 93.419468 128.924958 \nL 103.163647 130.479426 \nL 112.907826 132.148676 \nL 122.652006 132.998639 \nL 132.396185 133.978864 \nL 142.140364 135.184503 \nL 151.884543 135.823683 \nL 161.628722 136.278274 \nL 171.372901 137.265141 \nL 181.11708 137.351821 \n\" clip-path=\"url(#p87bc34ebf7)\" style=\"fill: none; stroke: #1f77b4; stroke-width: 1.5; stroke-linecap: square\"/>\n   </g>\n   <g id=\"line2d_95\">\n    <path d=\"M 49.633125 105.573898 \nL 69.163125 124.26733 \nL 88.693125 129.764932 \nL 108.223125 133.004637 \nL 127.753125 134.775826 \nL 147.283125 134.834242 \nL 166.813125 137.127929 \n\" clip-path=\"url(#p87bc34ebf7)\" style=\"fill: none; stroke-dasharray: 5.55,2.4; stroke-dashoffset: 0; stroke: #ff7f0e; stroke-width: 1.5\"/>\n   </g>\n   <g id=\"line2d_96\">\n    <path d=\"M 49.633125 116.080411 \nL 69.163125 107.742276 \nL 88.693125 105.441672 \nL 108.223125 104.241627 \nL 127.753125 103.663367 \nL 147.283125 103.862338 \nL 166.813125 102.81774 \n\" clip-path=\"url(#p87bc34ebf7)\" style=\"fill: none; stroke-dasharray: 9.6,2.4,1.5,2.4; stroke-dashoffset: 0; stroke: #2ca02c; stroke-width: 1.5\"/>\n   </g>\n   <g id=\"line2d_97\">\n    <path d=\"M 34.954394 13.5 \nL 44.698573 50.870457 \nL 54.442752 108.030485 \nL 64.186931 118.041355 \nL 73.93111 123.381037 \nL 83.675289 126.616554 \nL 93.419468 128.924958 \nL 103.163647 130.479426 \nL 112.907826 132.148676 \nL 122.652006 132.998639 \nL 132.396185 133.978864 \nL 142.140364 135.184503 \nL 151.884543 135.823683 \nL 161.628722 136.278274 \nL 171.372901 137.265141 \nL 181.11708 137.351821 \n\" clip-path=\"url(#p87bc34ebf7)\" style=\"fill: none; stroke: #1f77b4; stroke-width: 1.5; stroke-linecap: square\"/>\n   </g>\n   <g id=\"line2d_98\">\n    <path d=\"M 49.633125 105.573898 \nL 69.163125 124.26733 \nL 88.693125 129.764932 \nL 108.223125 133.004637 \nL 127.753125 134.775826 \nL 147.283125 134.834242 \nL 166.813125 137.127929 \nL 186.343125 137.953664 \n\" clip-path=\"url(#p87bc34ebf7)\" style=\"fill: none; stroke-dasharray: 5.55,2.4; stroke-dashoffset: 0; stroke: #ff7f0e; stroke-width: 1.5\"/>\n   </g>\n   <g id=\"line2d_99\">\n    <path d=\"M 49.633125 116.080411 \nL 69.163125 107.742276 \nL 88.693125 105.441672 \nL 108.223125 104.241627 \nL 127.753125 103.663367 \nL 147.283125 103.862338 \nL 166.813125 102.81774 \n\" clip-path=\"url(#p87bc34ebf7)\" style=\"fill: none; stroke-dasharray: 9.6,2.4,1.5,2.4; stroke-dashoffset: 0; stroke: #2ca02c; stroke-width: 1.5\"/>\n   </g>\n   <g id=\"line2d_100\">\n    <path d=\"M 34.954394 13.5 \nL 44.698573 50.870457 \nL 54.442752 108.030485 \nL 64.186931 118.041355 \nL 73.93111 123.381037 \nL 83.675289 126.616554 \nL 93.419468 128.924958 \nL 103.163647 130.479426 \nL 112.907826 132.148676 \nL 122.652006 132.998639 \nL 132.396185 133.978864 \nL 142.140364 135.184503 \nL 151.884543 135.823683 \nL 161.628722 136.278274 \nL 171.372901 137.265141 \nL 181.11708 137.351821 \n\" clip-path=\"url(#p87bc34ebf7)\" style=\"fill: none; stroke: #1f77b4; stroke-width: 1.5; stroke-linecap: square\"/>\n   </g>\n   <g id=\"line2d_101\">\n    <path d=\"M 49.633125 105.573898 \nL 69.163125 124.26733 \nL 88.693125 129.764932 \nL 108.223125 133.004637 \nL 127.753125 134.775826 \nL 147.283125 134.834242 \nL 166.813125 137.127929 \nL 186.343125 137.953664 \n\" clip-path=\"url(#p87bc34ebf7)\" style=\"fill: none; stroke-dasharray: 5.55,2.4; stroke-dashoffset: 0; stroke: #ff7f0e; stroke-width: 1.5\"/>\n   </g>\n   <g id=\"line2d_102\">\n    <path d=\"M 49.633125 116.080411 \nL 69.163125 107.742276 \nL 88.693125 105.441672 \nL 108.223125 104.241627 \nL 127.753125 103.663367 \nL 147.283125 103.862338 \nL 166.813125 102.81774 \nL 186.343125 102.550372 \n\" clip-path=\"url(#p87bc34ebf7)\" style=\"fill: none; stroke-dasharray: 9.6,2.4,1.5,2.4; stroke-dashoffset: 0; stroke: #2ca02c; stroke-width: 1.5\"/>\n   </g>\n   <g id=\"line2d_103\">\n    <path d=\"M 34.954394 13.5 \nL 44.698573 50.870457 \nL 54.442752 108.030485 \nL 64.186931 118.041355 \nL 73.93111 123.381037 \nL 83.675289 126.616554 \nL 93.419468 128.924958 \nL 103.163647 130.479426 \nL 112.907826 132.148676 \nL 122.652006 132.998639 \nL 132.396185 133.978864 \nL 142.140364 135.184503 \nL 151.884543 135.823683 \nL 161.628722 136.278274 \nL 171.372901 137.265141 \nL 181.11708 137.351821 \nL 190.861259 138.074007 \n\" clip-path=\"url(#p87bc34ebf7)\" style=\"fill: none; stroke: #1f77b4; stroke-width: 1.5; stroke-linecap: square\"/>\n   </g>\n   <g id=\"line2d_104\">\n    <path d=\"M 49.633125 105.573898 \nL 69.163125 124.26733 \nL 88.693125 129.764932 \nL 108.223125 133.004637 \nL 127.753125 134.775826 \nL 147.283125 134.834242 \nL 166.813125 137.127929 \nL 186.343125 137.953664 \n\" clip-path=\"url(#p87bc34ebf7)\" style=\"fill: none; stroke-dasharray: 5.55,2.4; stroke-dashoffset: 0; stroke: #ff7f0e; stroke-width: 1.5\"/>\n   </g>\n   <g id=\"line2d_105\">\n    <path d=\"M 49.633125 116.080411 \nL 69.163125 107.742276 \nL 88.693125 105.441672 \nL 108.223125 104.241627 \nL 127.753125 103.663367 \nL 147.283125 103.862338 \nL 166.813125 102.81774 \nL 186.343125 102.550372 \n\" clip-path=\"url(#p87bc34ebf7)\" style=\"fill: none; stroke-dasharray: 9.6,2.4,1.5,2.4; stroke-dashoffset: 0; stroke: #2ca02c; stroke-width: 1.5\"/>\n   </g>\n   <g id=\"line2d_106\">\n    <path d=\"M 34.954394 13.5 \nL 44.698573 50.870457 \nL 54.442752 108.030485 \nL 64.186931 118.041355 \nL 73.93111 123.381037 \nL 83.675289 126.616554 \nL 93.419468 128.924958 \nL 103.163647 130.479426 \nL 112.907826 132.148676 \nL 122.652006 132.998639 \nL 132.396185 133.978864 \nL 142.140364 135.184503 \nL 151.884543 135.823683 \nL 161.628722 136.278274 \nL 171.372901 137.265141 \nL 181.11708 137.351821 \nL 190.861259 138.074007 \nL 200.605438 138.585046 \n\" clip-path=\"url(#p87bc34ebf7)\" style=\"fill: none; stroke: #1f77b4; stroke-width: 1.5; stroke-linecap: square\"/>\n   </g>\n   <g id=\"line2d_107\">\n    <path d=\"M 49.633125 105.573898 \nL 69.163125 124.26733 \nL 88.693125 129.764932 \nL 108.223125 133.004637 \nL 127.753125 134.775826 \nL 147.283125 134.834242 \nL 166.813125 137.127929 \nL 186.343125 137.953664 \n\" clip-path=\"url(#p87bc34ebf7)\" style=\"fill: none; stroke-dasharray: 5.55,2.4; stroke-dashoffset: 0; stroke: #ff7f0e; stroke-width: 1.5\"/>\n   </g>\n   <g id=\"line2d_108\">\n    <path d=\"M 49.633125 116.080411 \nL 69.163125 107.742276 \nL 88.693125 105.441672 \nL 108.223125 104.241627 \nL 127.753125 103.663367 \nL 147.283125 103.862338 \nL 166.813125 102.81774 \nL 186.343125 102.550372 \n\" clip-path=\"url(#p87bc34ebf7)\" style=\"fill: none; stroke-dasharray: 9.6,2.4,1.5,2.4; stroke-dashoffset: 0; stroke: #2ca02c; stroke-width: 1.5\"/>\n   </g>\n   <g id=\"line2d_109\">\n    <path d=\"M 34.954394 13.5 \nL 44.698573 50.870457 \nL 54.442752 108.030485 \nL 64.186931 118.041355 \nL 73.93111 123.381037 \nL 83.675289 126.616554 \nL 93.419468 128.924958 \nL 103.163647 130.479426 \nL 112.907826 132.148676 \nL 122.652006 132.998639 \nL 132.396185 133.978864 \nL 142.140364 135.184503 \nL 151.884543 135.823683 \nL 161.628722 136.278274 \nL 171.372901 137.265141 \nL 181.11708 137.351821 \nL 190.861259 138.074007 \nL 200.605438 138.585046 \n\" clip-path=\"url(#p87bc34ebf7)\" style=\"fill: none; stroke: #1f77b4; stroke-width: 1.5; stroke-linecap: square\"/>\n   </g>\n   <g id=\"line2d_110\">\n    <path d=\"M 49.633125 105.573898 \nL 69.163125 124.26733 \nL 88.693125 129.764932 \nL 108.223125 133.004637 \nL 127.753125 134.775826 \nL 147.283125 134.834242 \nL 166.813125 137.127929 \nL 186.343125 137.953664 \nL 205.873125 138.312112 \n\" clip-path=\"url(#p87bc34ebf7)\" style=\"fill: none; stroke-dasharray: 5.55,2.4; stroke-dashoffset: 0; stroke: #ff7f0e; stroke-width: 1.5\"/>\n   </g>\n   <g id=\"line2d_111\">\n    <path d=\"M 49.633125 116.080411 \nL 69.163125 107.742276 \nL 88.693125 105.441672 \nL 108.223125 104.241627 \nL 127.753125 103.663367 \nL 147.283125 103.862338 \nL 166.813125 102.81774 \nL 186.343125 102.550372 \n\" clip-path=\"url(#p87bc34ebf7)\" style=\"fill: none; stroke-dasharray: 9.6,2.4,1.5,2.4; stroke-dashoffset: 0; stroke: #2ca02c; stroke-width: 1.5\"/>\n   </g>\n   <g id=\"line2d_112\">\n    <path d=\"M 34.954394 13.5 \nL 44.698573 50.870457 \nL 54.442752 108.030485 \nL 64.186931 118.041355 \nL 73.93111 123.381037 \nL 83.675289 126.616554 \nL 93.419468 128.924958 \nL 103.163647 130.479426 \nL 112.907826 132.148676 \nL 122.652006 132.998639 \nL 132.396185 133.978864 \nL 142.140364 135.184503 \nL 151.884543 135.823683 \nL 161.628722 136.278274 \nL 171.372901 137.265141 \nL 181.11708 137.351821 \nL 190.861259 138.074007 \nL 200.605438 138.585046 \n\" clip-path=\"url(#p87bc34ebf7)\" style=\"fill: none; stroke: #1f77b4; stroke-width: 1.5; stroke-linecap: square\"/>\n   </g>\n   <g id=\"line2d_113\">\n    <path d=\"M 49.633125 105.573898 \nL 69.163125 124.26733 \nL 88.693125 129.764932 \nL 108.223125 133.004637 \nL 127.753125 134.775826 \nL 147.283125 134.834242 \nL 166.813125 137.127929 \nL 186.343125 137.953664 \nL 205.873125 138.312112 \n\" clip-path=\"url(#p87bc34ebf7)\" style=\"fill: none; stroke-dasharray: 5.55,2.4; stroke-dashoffset: 0; stroke: #ff7f0e; stroke-width: 1.5\"/>\n   </g>\n   <g id=\"line2d_114\">\n    <path d=\"M 49.633125 116.080411 \nL 69.163125 107.742276 \nL 88.693125 105.441672 \nL 108.223125 104.241627 \nL 127.753125 103.663367 \nL 147.283125 103.862338 \nL 166.813125 102.81774 \nL 186.343125 102.550372 \nL 205.873125 102.370054 \n\" clip-path=\"url(#p87bc34ebf7)\" style=\"fill: none; stroke-dasharray: 9.6,2.4,1.5,2.4; stroke-dashoffset: 0; stroke: #2ca02c; stroke-width: 1.5\"/>\n   </g>\n   <g id=\"line2d_115\">\n    <path d=\"M 34.954394 13.5 \nL 44.698573 50.870457 \nL 54.442752 108.030485 \nL 64.186931 118.041355 \nL 73.93111 123.381037 \nL 83.675289 126.616554 \nL 93.419468 128.924958 \nL 103.163647 130.479426 \nL 112.907826 132.148676 \nL 122.652006 132.998639 \nL 132.396185 133.978864 \nL 142.140364 135.184503 \nL 151.884543 135.823683 \nL 161.628722 136.278274 \nL 171.372901 137.265141 \nL 181.11708 137.351821 \nL 190.861259 138.074007 \nL 200.605438 138.585046 \nL 210.349618 139.5 \n\" clip-path=\"url(#p87bc34ebf7)\" style=\"fill: none; stroke: #1f77b4; stroke-width: 1.5; stroke-linecap: square\"/>\n   </g>\n   <g id=\"line2d_116\">\n    <path d=\"M 49.633125 105.573898 \nL 69.163125 124.26733 \nL 88.693125 129.764932 \nL 108.223125 133.004637 \nL 127.753125 134.775826 \nL 147.283125 134.834242 \nL 166.813125 137.127929 \nL 186.343125 137.953664 \nL 205.873125 138.312112 \n\" clip-path=\"url(#p87bc34ebf7)\" style=\"fill: none; stroke-dasharray: 5.55,2.4; stroke-dashoffset: 0; stroke: #ff7f0e; stroke-width: 1.5\"/>\n   </g>\n   <g id=\"line2d_117\">\n    <path d=\"M 49.633125 116.080411 \nL 69.163125 107.742276 \nL 88.693125 105.441672 \nL 108.223125 104.241627 \nL 127.753125 103.663367 \nL 147.283125 103.862338 \nL 166.813125 102.81774 \nL 186.343125 102.550372 \nL 205.873125 102.370054 \n\" clip-path=\"url(#p87bc34ebf7)\" style=\"fill: none; stroke-dasharray: 9.6,2.4,1.5,2.4; stroke-dashoffset: 0; stroke: #2ca02c; stroke-width: 1.5\"/>\n   </g>\n   <g id=\"line2d_118\">\n    <path d=\"M 34.954394 13.5 \nL 44.698573 50.870457 \nL 54.442752 108.030485 \nL 64.186931 118.041355 \nL 73.93111 123.381037 \nL 83.675289 126.616554 \nL 93.419468 128.924958 \nL 103.163647 130.479426 \nL 112.907826 132.148676 \nL 122.652006 132.998639 \nL 132.396185 133.978864 \nL 142.140364 135.184503 \nL 151.884543 135.823683 \nL 161.628722 136.278274 \nL 171.372901 137.265141 \nL 181.11708 137.351821 \nL 190.861259 138.074007 \nL 200.605438 138.585046 \nL 210.349618 139.5 \nL 220.093797 138.973294 \n\" clip-path=\"url(#p87bc34ebf7)\" style=\"fill: none; stroke: #1f77b4; stroke-width: 1.5; stroke-linecap: square\"/>\n   </g>\n   <g id=\"line2d_119\">\n    <path d=\"M 49.633125 105.573898 \nL 69.163125 124.26733 \nL 88.693125 129.764932 \nL 108.223125 133.004637 \nL 127.753125 134.775826 \nL 147.283125 134.834242 \nL 166.813125 137.127929 \nL 186.343125 137.953664 \nL 205.873125 138.312112 \n\" clip-path=\"url(#p87bc34ebf7)\" style=\"fill: none; stroke-dasharray: 5.55,2.4; stroke-dashoffset: 0; stroke: #ff7f0e; stroke-width: 1.5\"/>\n   </g>\n   <g id=\"line2d_120\">\n    <path d=\"M 49.633125 116.080411 \nL 69.163125 107.742276 \nL 88.693125 105.441672 \nL 108.223125 104.241627 \nL 127.753125 103.663367 \nL 147.283125 103.862338 \nL 166.813125 102.81774 \nL 186.343125 102.550372 \nL 205.873125 102.370054 \n\" clip-path=\"url(#p87bc34ebf7)\" style=\"fill: none; stroke-dasharray: 9.6,2.4,1.5,2.4; stroke-dashoffset: 0; stroke: #2ca02c; stroke-width: 1.5\"/>\n   </g>\n   <g id=\"line2d_121\">\n    <path d=\"M 34.954394 13.5 \nL 44.698573 50.870457 \nL 54.442752 108.030485 \nL 64.186931 118.041355 \nL 73.93111 123.381037 \nL 83.675289 126.616554 \nL 93.419468 128.924958 \nL 103.163647 130.479426 \nL 112.907826 132.148676 \nL 122.652006 132.998639 \nL 132.396185 133.978864 \nL 142.140364 135.184503 \nL 151.884543 135.823683 \nL 161.628722 136.278274 \nL 171.372901 137.265141 \nL 181.11708 137.351821 \nL 190.861259 138.074007 \nL 200.605438 138.585046 \nL 210.349618 139.5 \nL 220.093797 138.973294 \n\" clip-path=\"url(#p87bc34ebf7)\" style=\"fill: none; stroke: #1f77b4; stroke-width: 1.5; stroke-linecap: square\"/>\n   </g>\n   <g id=\"line2d_122\">\n    <path d=\"M 49.633125 105.573898 \nL 69.163125 124.26733 \nL 88.693125 129.764932 \nL 108.223125 133.004637 \nL 127.753125 134.775826 \nL 147.283125 134.834242 \nL 166.813125 137.127929 \nL 186.343125 137.953664 \nL 205.873125 138.312112 \nL 225.403125 139.358349 \n\" clip-path=\"url(#p87bc34ebf7)\" style=\"fill: none; stroke-dasharray: 5.55,2.4; stroke-dashoffset: 0; stroke: #ff7f0e; stroke-width: 1.5\"/>\n   </g>\n   <g id=\"line2d_123\">\n    <path d=\"M 49.633125 116.080411 \nL 69.163125 107.742276 \nL 88.693125 105.441672 \nL 108.223125 104.241627 \nL 127.753125 103.663367 \nL 147.283125 103.862338 \nL 166.813125 102.81774 \nL 186.343125 102.550372 \nL 205.873125 102.370054 \n\" clip-path=\"url(#p87bc34ebf7)\" style=\"fill: none; stroke-dasharray: 9.6,2.4,1.5,2.4; stroke-dashoffset: 0; stroke: #2ca02c; stroke-width: 1.5\"/>\n   </g>\n   <g id=\"line2d_124\">\n    <path d=\"M 34.954394 13.5 \nL 44.698573 50.870457 \nL 54.442752 108.030485 \nL 64.186931 118.041355 \nL 73.93111 123.381037 \nL 83.675289 126.616554 \nL 93.419468 128.924958 \nL 103.163647 130.479426 \nL 112.907826 132.148676 \nL 122.652006 132.998639 \nL 132.396185 133.978864 \nL 142.140364 135.184503 \nL 151.884543 135.823683 \nL 161.628722 136.278274 \nL 171.372901 137.265141 \nL 181.11708 137.351821 \nL 190.861259 138.074007 \nL 200.605438 138.585046 \nL 210.349618 139.5 \nL 220.093797 138.973294 \n\" clip-path=\"url(#p87bc34ebf7)\" style=\"fill: none; stroke: #1f77b4; stroke-width: 1.5; stroke-linecap: square\"/>\n   </g>\n   <g id=\"line2d_125\">\n    <path d=\"M 49.633125 105.573898 \nL 69.163125 124.26733 \nL 88.693125 129.764932 \nL 108.223125 133.004637 \nL 127.753125 134.775826 \nL 147.283125 134.834242 \nL 166.813125 137.127929 \nL 186.343125 137.953664 \nL 205.873125 138.312112 \nL 225.403125 139.358349 \n\" clip-path=\"url(#p87bc34ebf7)\" style=\"fill: none; stroke-dasharray: 5.55,2.4; stroke-dashoffset: 0; stroke: #ff7f0e; stroke-width: 1.5\"/>\n   </g>\n   <g id=\"line2d_126\">\n    <path d=\"M 49.633125 116.080411 \nL 69.163125 107.742276 \nL 88.693125 105.441672 \nL 108.223125 104.241627 \nL 127.753125 103.663367 \nL 147.283125 103.862338 \nL 166.813125 102.81774 \nL 186.343125 102.550372 \nL 205.873125 102.370054 \nL 225.403125 101.866409 \n\" clip-path=\"url(#p87bc34ebf7)\" style=\"fill: none; stroke-dasharray: 9.6,2.4,1.5,2.4; stroke-dashoffset: 0; stroke: #2ca02c; stroke-width: 1.5\"/>\n   </g>\n   <g id=\"patch_3\">\n    <path d=\"M 30.103125 145.8 \nL 30.103125 7.2 \n\" style=\"fill: none; stroke: #000000; stroke-width: 0.8; stroke-linejoin: miter; stroke-linecap: square\"/>\n   </g>\n   <g id=\"patch_4\">\n    <path d=\"M 225.403125 145.8 \nL 225.403125 7.2 \n\" style=\"fill: none; stroke: #000000; stroke-width: 0.8; stroke-linejoin: miter; stroke-linecap: square\"/>\n   </g>\n   <g id=\"patch_5\">\n    <path d=\"M 30.103125 145.8 \nL 225.403125 145.8 \n\" style=\"fill: none; stroke: #000000; stroke-width: 0.8; stroke-linejoin: miter; stroke-linecap: square\"/>\n   </g>\n   <g id=\"patch_6\">\n    <path d=\"M 30.103125 7.2 \nL 225.403125 7.2 \n\" style=\"fill: none; stroke: #000000; stroke-width: 0.8; stroke-linejoin: miter; stroke-linecap: square\"/>\n   </g>\n   <g id=\"legend_1\">\n    <g id=\"patch_7\">\n     <path d=\"M 138.8125 60.06875 \nL 218.403125 60.06875 \nQ 220.403125 60.06875 220.403125 58.06875 \nL 220.403125 14.2 \nQ 220.403125 12.2 218.403125 12.2 \nL 138.8125 12.2 \nQ 136.8125 12.2 136.8125 14.2 \nL 136.8125 58.06875 \nQ 136.8125 60.06875 138.8125 60.06875 \nz\n\" style=\"fill: #ffffff; opacity: 0.8; stroke: #cccccc; stroke-linejoin: miter\"/>\n    </g>\n    <g id=\"line2d_127\">\n     <path d=\"M 140.8125 20.298438 \nL 150.8125 20.298438 \nL 160.8125 20.298438 \n\" style=\"fill: none; stroke: #1f77b4; stroke-width: 1.5; stroke-linecap: square\"/>\n    </g>\n    <g id=\"text_12\">\n     <!-- train_loss -->\n     <g transform=\"translate(168.8125 23.798438) scale(0.1 -0.1)\">\n      <defs>\n       <path id=\"DejaVuSans-74\" d=\"M 1172 4494 \nL 1172 3500 \nL 2356 3500 \nL 2356 3053 \nL 1172 3053 \nL 1172 1153 \nQ 1172 725 1289 603 \nQ 1406 481 1766 481 \nL 2356 481 \nL 2356 0 \nL 1766 0 \nQ 1100 0 847 248 \nQ 594 497 594 1153 \nL 594 3053 \nL 172 3053 \nL 172 3500 \nL 594 3500 \nL 594 4494 \nL 1172 4494 \nz\n\" transform=\"scale(0.015625)\"/>\n       <path id=\"DejaVuSans-72\" d=\"M 2631 2963 \nQ 2534 3019 2420 3045 \nQ 2306 3072 2169 3072 \nQ 1681 3072 1420 2755 \nQ 1159 2438 1159 1844 \nL 1159 0 \nL 581 0 \nL 581 3500 \nL 1159 3500 \nL 1159 2956 \nQ 1341 3275 1631 3429 \nQ 1922 3584 2338 3584 \nQ 2397 3584 2469 3576 \nQ 2541 3569 2628 3553 \nL 2631 2963 \nz\n\" transform=\"scale(0.015625)\"/>\n       <path id=\"DejaVuSans-61\" d=\"M 2194 1759 \nQ 1497 1759 1228 1600 \nQ 959 1441 959 1056 \nQ 959 750 1161 570 \nQ 1363 391 1709 391 \nQ 2188 391 2477 730 \nQ 2766 1069 2766 1631 \nL 2766 1759 \nL 2194 1759 \nz\nM 3341 1997 \nL 3341 0 \nL 2766 0 \nL 2766 531 \nQ 2569 213 2275 61 \nQ 1981 -91 1556 -91 \nQ 1019 -91 701 211 \nQ 384 513 384 1019 \nQ 384 1609 779 1909 \nQ 1175 2209 1959 2209 \nL 2766 2209 \nL 2766 2266 \nQ 2766 2663 2505 2880 \nQ 2244 3097 1772 3097 \nQ 1472 3097 1187 3025 \nQ 903 2953 641 2809 \nL 641 3341 \nQ 956 3463 1253 3523 \nQ 1550 3584 1831 3584 \nQ 2591 3584 2966 3190 \nQ 3341 2797 3341 1997 \nz\n\" transform=\"scale(0.015625)\"/>\n       <path id=\"DejaVuSans-69\" d=\"M 603 3500 \nL 1178 3500 \nL 1178 0 \nL 603 0 \nL 603 3500 \nz\nM 603 4863 \nL 1178 4863 \nL 1178 4134 \nL 603 4134 \nL 603 4863 \nz\n\" transform=\"scale(0.015625)\"/>\n       <path id=\"DejaVuSans-6e\" d=\"M 3513 2113 \nL 3513 0 \nL 2938 0 \nL 2938 2094 \nQ 2938 2591 2744 2837 \nQ 2550 3084 2163 3084 \nQ 1697 3084 1428 2787 \nQ 1159 2491 1159 1978 \nL 1159 0 \nL 581 0 \nL 581 3500 \nL 1159 3500 \nL 1159 2956 \nQ 1366 3272 1645 3428 \nQ 1925 3584 2291 3584 \nQ 2894 3584 3203 3211 \nQ 3513 2838 3513 2113 \nz\n\" transform=\"scale(0.015625)\"/>\n       <path id=\"DejaVuSans-5f\" d=\"M 3263 -1063 \nL 3263 -1509 \nL -63 -1509 \nL -63 -1063 \nL 3263 -1063 \nz\n\" transform=\"scale(0.015625)\"/>\n       <path id=\"DejaVuSans-6c\" d=\"M 603 4863 \nL 1178 4863 \nL 1178 0 \nL 603 0 \nL 603 4863 \nz\n\" transform=\"scale(0.015625)\"/>\n       <path id=\"DejaVuSans-73\" d=\"M 2834 3397 \nL 2834 2853 \nQ 2591 2978 2328 3040 \nQ 2066 3103 1784 3103 \nQ 1356 3103 1142 2972 \nQ 928 2841 928 2578 \nQ 928 2378 1081 2264 \nQ 1234 2150 1697 2047 \nL 1894 2003 \nQ 2506 1872 2764 1633 \nQ 3022 1394 3022 966 \nQ 3022 478 2636 193 \nQ 2250 -91 1575 -91 \nQ 1294 -91 989 -36 \nQ 684 19 347 128 \nL 347 722 \nQ 666 556 975 473 \nQ 1284 391 1588 391 \nQ 1994 391 2212 530 \nQ 2431 669 2431 922 \nQ 2431 1156 2273 1281 \nQ 2116 1406 1581 1522 \nL 1381 1569 \nQ 847 1681 609 1914 \nQ 372 2147 372 2553 \nQ 372 3047 722 3315 \nQ 1072 3584 1716 3584 \nQ 2034 3584 2315 3537 \nQ 2597 3491 2834 3397 \nz\n\" transform=\"scale(0.015625)\"/>\n      </defs>\n      <use xlink:href=\"#DejaVuSans-74\"/>\n      <use xlink:href=\"#DejaVuSans-72\" x=\"39.208984\"/>\n      <use xlink:href=\"#DejaVuSans-61\" x=\"80.322266\"/>\n      <use xlink:href=\"#DejaVuSans-69\" x=\"141.601562\"/>\n      <use xlink:href=\"#DejaVuSans-6e\" x=\"169.384766\"/>\n      <use xlink:href=\"#DejaVuSans-5f\" x=\"232.763672\"/>\n      <use xlink:href=\"#DejaVuSans-6c\" x=\"282.763672\"/>\n      <use xlink:href=\"#DejaVuSans-6f\" x=\"310.546875\"/>\n      <use xlink:href=\"#DejaVuSans-73\" x=\"371.728516\"/>\n      <use xlink:href=\"#DejaVuSans-73\" x=\"423.828125\"/>\n     </g>\n    </g>\n    <g id=\"line2d_128\">\n     <path d=\"M 140.8125 35.254688 \nL 150.8125 35.254688 \nL 160.8125 35.254688 \n\" style=\"fill: none; stroke-dasharray: 5.55,2.4; stroke-dashoffset: 0; stroke: #ff7f0e; stroke-width: 1.5\"/>\n    </g>\n    <g id=\"text_13\">\n     <!-- val_loss -->\n     <g transform=\"translate(168.8125 38.754688) scale(0.1 -0.1)\">\n      <defs>\n       <path id=\"DejaVuSans-76\" d=\"M 191 3500 \nL 800 3500 \nL 1894 563 \nL 2988 3500 \nL 3597 3500 \nL 2284 0 \nL 1503 0 \nL 191 3500 \nz\n\" transform=\"scale(0.015625)\"/>\n      </defs>\n      <use xlink:href=\"#DejaVuSans-76\"/>\n      <use xlink:href=\"#DejaVuSans-61\" x=\"59.179688\"/>\n      <use xlink:href=\"#DejaVuSans-6c\" x=\"120.458984\"/>\n      <use xlink:href=\"#DejaVuSans-5f\" x=\"148.242188\"/>\n      <use xlink:href=\"#DejaVuSans-6c\" x=\"198.242188\"/>\n      <use xlink:href=\"#DejaVuSans-6f\" x=\"226.025391\"/>\n      <use xlink:href=\"#DejaVuSans-73\" x=\"287.207031\"/>\n      <use xlink:href=\"#DejaVuSans-73\" x=\"339.306641\"/>\n     </g>\n    </g>\n    <g id=\"line2d_129\">\n     <path d=\"M 140.8125 50.210938 \nL 150.8125 50.210938 \nL 160.8125 50.210938 \n\" style=\"fill: none; stroke-dasharray: 9.6,2.4,1.5,2.4; stroke-dashoffset: 0; stroke: #2ca02c; stroke-width: 1.5\"/>\n    </g>\n    <g id=\"text_14\">\n     <!-- val_acc -->\n     <g transform=\"translate(168.8125 53.710938) scale(0.1 -0.1)\">\n      <use xlink:href=\"#DejaVuSans-76\"/>\n      <use xlink:href=\"#DejaVuSans-61\" x=\"59.179688\"/>\n      <use xlink:href=\"#DejaVuSans-6c\" x=\"120.458984\"/>\n      <use xlink:href=\"#DejaVuSans-5f\" x=\"148.242188\"/>\n      <use xlink:href=\"#DejaVuSans-61\" x=\"198.242188\"/>\n      <use xlink:href=\"#DejaVuSans-63\" x=\"259.521484\"/>\n      <use xlink:href=\"#DejaVuSans-63\" x=\"314.501953\"/>\n     </g>\n    </g>\n   </g>\n  </g>\n </g>\n <defs>\n  <clipPath id=\"p87bc34ebf7\">\n   <rect x=\"30.103125\" y=\"7.2\" width=\"195.3\" height=\"138.6\"/>\n  </clipPath>\n </defs>\n</svg>\n"
          },
          "metadata": {}
        }
      ],
      "source": [
        "model = VGG(arch=((1, 16), (1, 32), (2, 64), (2, 128), (2, 128)), lr=0.01)\n",
        "trainer = d2l.Trainer(max_epochs=10, num_gpus=1)\n",
        "data = d2l.FashionMNIST(batch_size=128, resize=(224, 224))\n",
        "model.apply_init([next(iter(data.get_dataloader(True)))[0]], d2l.init_cnn)\n",
        "trainer.fit(model, data)"
      ]
    },
    {
      "cell_type": "markdown",
      "metadata": {
        "origin_pos": 21,
        "id": "157480ef"
      },
      "source": [
        "## Summary\n",
        "\n",
        "One might argue that VGG is the first truly modern convolutional neural network. While AlexNet introduced many of the components of what make deep learning effective at scale, it is VGG that arguably introduced key properties such as blocks of multiple convolutions and a preference for deep and narrow networks. It is also the first network that is actually an entire family of similarly parametrized models, giving the practitioner ample trade-off between complexity and speed. This is also the place where modern deep learning frameworks shine. It is no longer necessary to generate XML configuration files to specify a network but rather, to assemble said networks through simple Python code.\n",
        "\n",
        "More recently ParNet :cite:`Goyal.Bochkovskiy.Deng.ea.2021` demonstrated that it is possible to achieve competitive performance using a much more shallow architecture through a large number of parallel computations. This is an exciting development and there is hope that it will influence architecture designs in the future. For the remainder of the chapter, though, we will follow the path of scientific progress over the past decade.\n",
        "\n",
        "## Exercises\n",
        "\n",
        "\n",
        "1. Compared with AlexNet, VGG is much slower in terms of computation, and it also needs more GPU memory.\n",
        "    1. Compare the number of parameters needed for AlexNet and VGG.\n",
        "    1. Compare the number of floating point operations used in the convolutional layers and in the fully connected layers.\n",
        "    1. How could you reduce the computational cost created by the fully connected layers?\n",
        "1. When displaying the dimensions associated with the various layers of the network, we only see the information associated with eight blocks (plus some auxiliary transforms), even though the network has 11 layers. Where did the remaining three layers go?\n",
        "1. Use Table 1 in the VGG paper :cite:`Simonyan.Zisserman.2014` to construct other common models, such as VGG-16 or VGG-19.\n",
        "1. Upsampling the resolution in Fashion-MNIST eight-fold from $28 \\times 28$ to $224 \\times 224$ dimensions is very wasteful. Try modifying the network architecture and resolution conversion, e.g., to 56 or to 84 dimensions for its input instead. Can you do so without reducing the accuracy of the network? Consult the VGG paper :cite:`Simonyan.Zisserman.2014` for ideas on adding more nonlinearities prior to downsampling.\n"
      ]
    },
    {
      "cell_type": "markdown",
      "source": [
        "## Jawaban"
      ],
      "metadata": {
        "id": "LxfV0KpCWtuk"
      }
    },
    {
      "cell_type": "markdown",
      "source": [
        "###1.1."
      ],
      "metadata": {
        "id": "PzV5ku--WuxC"
      }
    },
    {
      "cell_type": "markdown",
      "source": [
        "AlexNet memiliki sekitar 60 juta parameter. Sebagian besar parameter ini berasal dari lapisan fully connected, khususnya lapisan terakhir dengan matriks berukuran 4096×4096 dan 4096×1000 untuk klasifikasi. VGG-16 memiliki sekitar 138 juta parameter. Peningkatan signifikan dalam jumlah parameter ini disebabkan oleh strukturnya yang lebih dalam, yang memiliki lebih banyak lapisan konvolusi (13 total) dan juga lapisan fully connected yang besar. Kedalaman jaringan, bersama dengan ukuran kernel kecil (3x3), meningkatkan jumlah parameter secara substansial dibandingkan dengan AlexNet."
      ],
      "metadata": {
        "id": "UDNtut-zYh-D"
      }
    },
    {
      "cell_type": "markdown",
      "source": [
        "###1.2."
      ],
      "metadata": {
        "id": "oAk679yIWxKM"
      }
    },
    {
      "cell_type": "markdown",
      "source": [
        "Sebagian besar biaya komputasi AlexNet berasal dari lapisan fully connected, meskipun lapisan konvolusi juga cukup besar. Sedangkan VGG memindahkan sebagian besar biaya komputasi ke lapisan konvolusi. VGG menggunakan lebih banyak lapisan konvolusi (13 dalam VGG-16) tetapi dengan kernel yang lebih kecil (3x3).\n",
        "\n",
        "Lapisan fully connected masih berkontribusi pada FLOPs secara keseluruhan tetapi kurang dominan dibandingkan dengan AlexNet. Karena kedalaman dan jumlah filternya, VGG-16/19 memiliki tuntutan komputasi yang jauh lebih tinggi pada lapisan konvolusi."
      ],
      "metadata": {
        "id": "hMhT37zqY6vc"
      }
    },
    {
      "cell_type": "markdown",
      "source": [
        "###1.3."
      ],
      "metadata": {
        "id": "-FHiI7GlWyQv"
      }
    },
    {
      "cell_type": "markdown",
      "source": [
        "Berikut adalah beberapa teknik umum untuk mengurangi biaya lapisan fully connected:\n",
        "\n",
        "- Global Average Pooling: Alih-alih menggunakan lapisan fully connected, ganti dengan global average pooling untuk mengurangi jumlah parameter sambil tetap mempertahankan kinerja. Teknik ini mengurangi kebutuhan lapisan fully connected yang besar dengan merata-ratakan dimensi spasial.\n",
        "- Kuantisasi Parameter: Mengurangi presisi bobot (misalnya, menggunakan presisi 8-bit alih-alih 32-bit) dapat secara dramatis mengurangi bandwidth memori dan overhead komputasi tanpa secara signifikan memengaruhi akurasi.\n",
        "- Teknik Faktorisasi: Memecah matriks bobot besar dalam lapisan fully connected menggunakan metode seperti faktorisasi matriks peringkat rendah untuk mengurangi jumlah parameter.\n",
        "- Mengurangi jumlah neuron: Alih-alih menggunakan lapisan fully connected dengan 4096 neuron, lapisan yang lebih kecil dapat digunakan tanpa kehilangan kinerja yang signifikan, terutama untuk tugas-tugas di mana jumlah neuron yang besar tidak diperlukan."
      ],
      "metadata": {
        "id": "26WqufimZGu5"
      }
    },
    {
      "cell_type": "markdown",
      "source": [
        "###2."
      ],
      "metadata": {
        "id": "L_PCd4wkWz2i"
      }
    },
    {
      "cell_type": "markdown",
      "source": [
        "Ketika menggambarkan jaringan VGG sebagai memiliki 16 lapisan (misalnya, VGG-16), hitungan tersebut hanya mencakup lapisan dengan parameter yang dapat dipelajari, yaitu, lapisan konvolusi dan fully connected. Tiga lapisan yang hilang biasanya adalah lapisan pooling (max-pooling) atau lapisan non-learnable seperti aktivasi ReLU atau softmax. Lapisan-lapisan ini penting untuk downsampling dan memperkenalkan non-linearitas, tetapi tidak mengandung parameter, sehingga tidak dihitung ketika lapisan VGG dibahas dalam hal kedalaman."
      ],
      "metadata": {
        "id": "NEAnCgUyZjld"
      }
    },
    {
      "cell_type": "markdown",
      "source": [
        "###3."
      ],
      "metadata": {
        "id": "G1b1-YycW2A0"
      }
    },
    {
      "cell_type": "markdown",
      "source": [
        "###4."
      ],
      "metadata": {
        "id": "EKgRTTcRW3o1"
      }
    },
    {
      "cell_type": "markdown",
      "source": [
        "Alih-alih melakukan upsampling hingga 224x224, gunakan resolusi yang lebih kecil seperti 56x56 atau 84x84. Hal ini masih memungkinkan untuk menggunakan jaringan yang lebih kompleks seperti VGG tanpa pemborosan komputasi dalam menangani gambar besar yang di-upsampling.\n",
        "\n",
        "Sesuaikan resolusi input dan arsitektur jaringan secara sesuai. Untuk input yang lebih kecil, kurangi jumlah filter atau lapisan. Misalnya, ketika mengubah ukuran menjadi 56x56 atau 84x84, kurangi jumlah lapisan pooling atau lapisan konvolusi sesuai untuk menyesuaikan ukuran yang lebih kecil."
      ],
      "metadata": {
        "id": "o6N3O-_Sagjy"
      }
    },
    {
      "cell_type": "markdown",
      "metadata": {
        "origin_pos": 1,
        "id": "4098e4aa"
      },
      "source": [
        "# 8.3. Network in Network (NiN)"
      ]
    },
    {
      "cell_type": "code",
      "execution_count": null,
      "metadata": {
        "execution": {
          "iopub.execute_input": "2023-08-18T20:01:39.901279Z",
          "iopub.status.busy": "2023-08-18T20:01:39.900852Z",
          "iopub.status.idle": "2023-08-18T20:01:39.905954Z",
          "shell.execute_reply": "2023-08-18T20:01:39.905166Z"
        },
        "origin_pos": 8,
        "tab": [
          "pytorch"
        ],
        "id": "538cefc3"
      },
      "outputs": [],
      "source": [
        "def nin_block(out_channels, kernel_size, strides, padding):\n",
        "    return nn.Sequential(\n",
        "        nn.LazyConv2d(out_channels, kernel_size, strides, padding), nn.ReLU(),\n",
        "        nn.LazyConv2d(out_channels, kernel_size=1), nn.ReLU(),\n",
        "        nn.LazyConv2d(out_channels, kernel_size=1), nn.ReLU())"
      ]
    },
    {
      "cell_type": "code",
      "execution_count": null,
      "metadata": {
        "execution": {
          "iopub.execute_input": "2023-08-18T20:01:39.910042Z",
          "iopub.status.busy": "2023-08-18T20:01:39.909747Z",
          "iopub.status.idle": "2023-08-18T20:01:39.916497Z",
          "shell.execute_reply": "2023-08-18T20:01:39.915589Z"
        },
        "origin_pos": 12,
        "tab": [
          "pytorch"
        ],
        "id": "200542dc"
      },
      "outputs": [],
      "source": [
        "class NiN(d2l.Classifier):\n",
        "    def __init__(self, lr=0.1, num_classes=10):\n",
        "        super().__init__()\n",
        "        self.save_hyperparameters()\n",
        "        self.net = nn.Sequential(\n",
        "            nin_block(96, kernel_size=11, strides=4, padding=0),\n",
        "            nn.MaxPool2d(3, stride=2),\n",
        "            nin_block(256, kernel_size=5, strides=1, padding=2),\n",
        "            nn.MaxPool2d(3, stride=2),\n",
        "            nin_block(384, kernel_size=3, strides=1, padding=1),\n",
        "            nn.MaxPool2d(3, stride=2),\n",
        "            nn.Dropout(0.5),\n",
        "            nin_block(num_classes, kernel_size=3, strides=1, padding=1),\n",
        "            nn.AdaptiveAvgPool2d((1, 1)),\n",
        "            nn.Flatten())\n",
        "        self.net.apply(d2l.init_cnn)"
      ]
    },
    {
      "cell_type": "code",
      "execution_count": null,
      "metadata": {
        "execution": {
          "iopub.execute_input": "2023-08-18T20:01:39.919706Z",
          "iopub.status.busy": "2023-08-18T20:01:39.919415Z",
          "iopub.status.idle": "2023-08-18T20:01:40.016875Z",
          "shell.execute_reply": "2023-08-18T20:01:40.015009Z"
        },
        "origin_pos": 15,
        "tab": [
          "pytorch"
        ],
        "id": "c0a1fe2c",
        "outputId": "a86d121c-ee63-4d31-9acc-de2cfb95954f",
        "colab": {
          "base_uri": "https://localhost:8080/"
        }
      },
      "outputs": [
        {
          "output_type": "stream",
          "name": "stdout",
          "text": [
            "Sequential output shape:\t torch.Size([1, 96, 54, 54])\n",
            "MaxPool2d output shape:\t torch.Size([1, 96, 26, 26])\n",
            "Sequential output shape:\t torch.Size([1, 256, 26, 26])\n",
            "MaxPool2d output shape:\t torch.Size([1, 256, 12, 12])\n",
            "Sequential output shape:\t torch.Size([1, 384, 12, 12])\n",
            "MaxPool2d output shape:\t torch.Size([1, 384, 5, 5])\n",
            "Dropout output shape:\t torch.Size([1, 384, 5, 5])\n",
            "Sequential output shape:\t torch.Size([1, 10, 5, 5])\n",
            "AdaptiveAvgPool2d output shape:\t torch.Size([1, 10, 1, 1])\n",
            "Flatten output shape:\t torch.Size([1, 10])\n"
          ]
        }
      ],
      "source": [
        "NiN().layer_summary((1, 1, 224, 224))"
      ]
    },
    {
      "cell_type": "code",
      "execution_count": null,
      "metadata": {
        "execution": {
          "iopub.execute_input": "2023-08-18T20:01:40.021257Z",
          "iopub.status.busy": "2023-08-18T20:01:40.020900Z",
          "iopub.status.idle": "2023-08-18T20:05:45.250434Z",
          "shell.execute_reply": "2023-08-18T20:05:45.248575Z"
        },
        "origin_pos": 19,
        "tab": [
          "pytorch"
        ],
        "id": "111948ca",
        "outputId": "a9906a80-fee6-46bd-9fbd-155976371a67",
        "colab": {
          "base_uri": "https://localhost:8080/",
          "height": 266
        }
      },
      "outputs": [
        {
          "output_type": "display_data",
          "data": {
            "text/plain": [
              "<Figure size 350x250 with 1 Axes>"
            ],
            "image/svg+xml": "<?xml version=\"1.0\" encoding=\"utf-8\" standalone=\"no\"?>\n<!DOCTYPE svg PUBLIC \"-//W3C//DTD SVG 1.1//EN\"\n  \"http://www.w3.org/Graphics/SVG/1.1/DTD/svg11.dtd\">\n<svg xmlns:xlink=\"http://www.w3.org/1999/xlink\" width=\"238.965625pt\" height=\"183.35625pt\" viewBox=\"0 0 238.965625 183.35625\" xmlns=\"http://www.w3.org/2000/svg\" version=\"1.1\">\n <metadata>\n  <rdf:RDF xmlns:dc=\"http://purl.org/dc/elements/1.1/\" xmlns:cc=\"http://creativecommons.org/ns#\" xmlns:rdf=\"http://www.w3.org/1999/02/22-rdf-syntax-ns#\">\n   <cc:Work>\n    <dc:type rdf:resource=\"http://purl.org/dc/dcmitype/StillImage\"/>\n    <dc:date>2024-10-04T14:33:15.158792</dc:date>\n    <dc:format>image/svg+xml</dc:format>\n    <dc:creator>\n     <cc:Agent>\n      <dc:title>Matplotlib v3.7.2, https://matplotlib.org/</dc:title>\n     </cc:Agent>\n    </dc:creator>\n   </cc:Work>\n  </rdf:RDF>\n </metadata>\n <defs>\n  <style type=\"text/css\">*{stroke-linejoin: round; stroke-linecap: butt}</style>\n </defs>\n <g id=\"figure_1\">\n  <g id=\"patch_1\">\n   <path d=\"M 0 183.35625 \nL 238.965625 183.35625 \nL 238.965625 0 \nL 0 0 \nz\n\" style=\"fill: #ffffff\"/>\n  </g>\n  <g id=\"axes_1\">\n   <g id=\"patch_2\">\n    <path d=\"M 30.103125 145.8 \nL 225.403125 145.8 \nL 225.403125 7.2 \nL 30.103125 7.2 \nz\n\" style=\"fill: #ffffff\"/>\n   </g>\n   <g id=\"matplotlib.axis_1\">\n    <g id=\"xtick_1\">\n     <g id=\"line2d_1\">\n      <defs>\n       <path id=\"m93f690cf70\" d=\"M 0 0 \nL 0 3.5 \n\" style=\"stroke: #000000; stroke-width: 0.8\"/>\n      </defs>\n      <g>\n       <use xlink:href=\"#m93f690cf70\" x=\"30.103125\" y=\"145.8\" style=\"stroke: #000000; stroke-width: 0.8\"/>\n      </g>\n     </g>\n     <g id=\"text_1\">\n      <!-- 0 -->\n      <g transform=\"translate(26.921875 160.398438) scale(0.1 -0.1)\">\n       <defs>\n        <path id=\"DejaVuSans-30\" d=\"M 2034 4250 \nQ 1547 4250 1301 3770 \nQ 1056 3291 1056 2328 \nQ 1056 1369 1301 889 \nQ 1547 409 2034 409 \nQ 2525 409 2770 889 \nQ 3016 1369 3016 2328 \nQ 3016 3291 2770 3770 \nQ 2525 4250 2034 4250 \nz\nM 2034 4750 \nQ 2819 4750 3233 4129 \nQ 3647 3509 3647 2328 \nQ 3647 1150 3233 529 \nQ 2819 -91 2034 -91 \nQ 1250 -91 836 529 \nQ 422 1150 422 2328 \nQ 422 3509 836 4129 \nQ 1250 4750 2034 4750 \nz\n\" transform=\"scale(0.015625)\"/>\n       </defs>\n       <use xlink:href=\"#DejaVuSans-30\"/>\n      </g>\n     </g>\n    </g>\n    <g id=\"xtick_2\">\n     <g id=\"line2d_2\">\n      <g>\n       <use xlink:href=\"#m93f690cf70\" x=\"69.163125\" y=\"145.8\" style=\"stroke: #000000; stroke-width: 0.8\"/>\n      </g>\n     </g>\n     <g id=\"text_2\">\n      <!-- 2 -->\n      <g transform=\"translate(65.981875 160.398438) scale(0.1 -0.1)\">\n       <defs>\n        <path id=\"DejaVuSans-32\" d=\"M 1228 531 \nL 3431 531 \nL 3431 0 \nL 469 0 \nL 469 531 \nQ 828 903 1448 1529 \nQ 2069 2156 2228 2338 \nQ 2531 2678 2651 2914 \nQ 2772 3150 2772 3378 \nQ 2772 3750 2511 3984 \nQ 2250 4219 1831 4219 \nQ 1534 4219 1204 4116 \nQ 875 4013 500 3803 \nL 500 4441 \nQ 881 4594 1212 4672 \nQ 1544 4750 1819 4750 \nQ 2544 4750 2975 4387 \nQ 3406 4025 3406 3419 \nQ 3406 3131 3298 2873 \nQ 3191 2616 2906 2266 \nQ 2828 2175 2409 1742 \nQ 1991 1309 1228 531 \nz\n\" transform=\"scale(0.015625)\"/>\n       </defs>\n       <use xlink:href=\"#DejaVuSans-32\"/>\n      </g>\n     </g>\n    </g>\n    <g id=\"xtick_3\">\n     <g id=\"line2d_3\">\n      <g>\n       <use xlink:href=\"#m93f690cf70\" x=\"108.223125\" y=\"145.8\" style=\"stroke: #000000; stroke-width: 0.8\"/>\n      </g>\n     </g>\n     <g id=\"text_3\">\n      <!-- 4 -->\n      <g transform=\"translate(105.041875 160.398438) scale(0.1 -0.1)\">\n       <defs>\n        <path id=\"DejaVuSans-34\" d=\"M 2419 4116 \nL 825 1625 \nL 2419 1625 \nL 2419 4116 \nz\nM 2253 4666 \nL 3047 4666 \nL 3047 1625 \nL 3713 1625 \nL 3713 1100 \nL 3047 1100 \nL 3047 0 \nL 2419 0 \nL 2419 1100 \nL 313 1100 \nL 313 1709 \nL 2253 4666 \nz\n\" transform=\"scale(0.015625)\"/>\n       </defs>\n       <use xlink:href=\"#DejaVuSans-34\"/>\n      </g>\n     </g>\n    </g>\n    <g id=\"xtick_4\">\n     <g id=\"line2d_4\">\n      <g>\n       <use xlink:href=\"#m93f690cf70\" x=\"147.283125\" y=\"145.8\" style=\"stroke: #000000; stroke-width: 0.8\"/>\n      </g>\n     </g>\n     <g id=\"text_4\">\n      <!-- 6 -->\n      <g transform=\"translate(144.101875 160.398438) scale(0.1 -0.1)\">\n       <defs>\n        <path id=\"DejaVuSans-36\" d=\"M 2113 2584 \nQ 1688 2584 1439 2293 \nQ 1191 2003 1191 1497 \nQ 1191 994 1439 701 \nQ 1688 409 2113 409 \nQ 2538 409 2786 701 \nQ 3034 994 3034 1497 \nQ 3034 2003 2786 2293 \nQ 2538 2584 2113 2584 \nz\nM 3366 4563 \nL 3366 3988 \nQ 3128 4100 2886 4159 \nQ 2644 4219 2406 4219 \nQ 1781 4219 1451 3797 \nQ 1122 3375 1075 2522 \nQ 1259 2794 1537 2939 \nQ 1816 3084 2150 3084 \nQ 2853 3084 3261 2657 \nQ 3669 2231 3669 1497 \nQ 3669 778 3244 343 \nQ 2819 -91 2113 -91 \nQ 1303 -91 875 529 \nQ 447 1150 447 2328 \nQ 447 3434 972 4092 \nQ 1497 4750 2381 4750 \nQ 2619 4750 2861 4703 \nQ 3103 4656 3366 4563 \nz\n\" transform=\"scale(0.015625)\"/>\n       </defs>\n       <use xlink:href=\"#DejaVuSans-36\"/>\n      </g>\n     </g>\n    </g>\n    <g id=\"xtick_5\">\n     <g id=\"line2d_5\">\n      <g>\n       <use xlink:href=\"#m93f690cf70\" x=\"186.343125\" y=\"145.8\" style=\"stroke: #000000; stroke-width: 0.8\"/>\n      </g>\n     </g>\n     <g id=\"text_5\">\n      <!-- 8 -->\n      <g transform=\"translate(183.161875 160.398438) scale(0.1 -0.1)\">\n       <defs>\n        <path id=\"DejaVuSans-38\" d=\"M 2034 2216 \nQ 1584 2216 1326 1975 \nQ 1069 1734 1069 1313 \nQ 1069 891 1326 650 \nQ 1584 409 2034 409 \nQ 2484 409 2743 651 \nQ 3003 894 3003 1313 \nQ 3003 1734 2745 1975 \nQ 2488 2216 2034 2216 \nz\nM 1403 2484 \nQ 997 2584 770 2862 \nQ 544 3141 544 3541 \nQ 544 4100 942 4425 \nQ 1341 4750 2034 4750 \nQ 2731 4750 3128 4425 \nQ 3525 4100 3525 3541 \nQ 3525 3141 3298 2862 \nQ 3072 2584 2669 2484 \nQ 3125 2378 3379 2068 \nQ 3634 1759 3634 1313 \nQ 3634 634 3220 271 \nQ 2806 -91 2034 -91 \nQ 1263 -91 848 271 \nQ 434 634 434 1313 \nQ 434 1759 690 2068 \nQ 947 2378 1403 2484 \nz\nM 1172 3481 \nQ 1172 3119 1398 2916 \nQ 1625 2713 2034 2713 \nQ 2441 2713 2670 2916 \nQ 2900 3119 2900 3481 \nQ 2900 3844 2670 4047 \nQ 2441 4250 2034 4250 \nQ 1625 4250 1398 4047 \nQ 1172 3844 1172 3481 \nz\n\" transform=\"scale(0.015625)\"/>\n       </defs>\n       <use xlink:href=\"#DejaVuSans-38\"/>\n      </g>\n     </g>\n    </g>\n    <g id=\"xtick_6\">\n     <g id=\"line2d_6\">\n      <g>\n       <use xlink:href=\"#m93f690cf70\" x=\"225.403125\" y=\"145.8\" style=\"stroke: #000000; stroke-width: 0.8\"/>\n      </g>\n     </g>\n     <g id=\"text_6\">\n      <!-- 10 -->\n      <g transform=\"translate(219.040625 160.398438) scale(0.1 -0.1)\">\n       <defs>\n        <path id=\"DejaVuSans-31\" d=\"M 794 531 \nL 1825 531 \nL 1825 4091 \nL 703 3866 \nL 703 4441 \nL 1819 4666 \nL 2450 4666 \nL 2450 531 \nL 3481 531 \nL 3481 0 \nL 794 0 \nL 794 531 \nz\n\" transform=\"scale(0.015625)\"/>\n       </defs>\n       <use xlink:href=\"#DejaVuSans-31\"/>\n       <use xlink:href=\"#DejaVuSans-30\" x=\"63.623047\"/>\n      </g>\n     </g>\n    </g>\n    <g id=\"text_7\">\n     <!-- epoch -->\n     <g transform=\"translate(112.525 174.076563) scale(0.1 -0.1)\">\n      <defs>\n       <path id=\"DejaVuSans-65\" d=\"M 3597 1894 \nL 3597 1613 \nL 953 1613 \nQ 991 1019 1311 708 \nQ 1631 397 2203 397 \nQ 2534 397 2845 478 \nQ 3156 559 3463 722 \nL 3463 178 \nQ 3153 47 2828 -22 \nQ 2503 -91 2169 -91 \nQ 1331 -91 842 396 \nQ 353 884 353 1716 \nQ 353 2575 817 3079 \nQ 1281 3584 2069 3584 \nQ 2775 3584 3186 3129 \nQ 3597 2675 3597 1894 \nz\nM 3022 2063 \nQ 3016 2534 2758 2815 \nQ 2500 3097 2075 3097 \nQ 1594 3097 1305 2825 \nQ 1016 2553 972 2059 \nL 3022 2063 \nz\n\" transform=\"scale(0.015625)\"/>\n       <path id=\"DejaVuSans-70\" d=\"M 1159 525 \nL 1159 -1331 \nL 581 -1331 \nL 581 3500 \nL 1159 3500 \nL 1159 2969 \nQ 1341 3281 1617 3432 \nQ 1894 3584 2278 3584 \nQ 2916 3584 3314 3078 \nQ 3713 2572 3713 1747 \nQ 3713 922 3314 415 \nQ 2916 -91 2278 -91 \nQ 1894 -91 1617 61 \nQ 1341 213 1159 525 \nz\nM 3116 1747 \nQ 3116 2381 2855 2742 \nQ 2594 3103 2138 3103 \nQ 1681 3103 1420 2742 \nQ 1159 2381 1159 1747 \nQ 1159 1113 1420 752 \nQ 1681 391 2138 391 \nQ 2594 391 2855 752 \nQ 3116 1113 3116 1747 \nz\n\" transform=\"scale(0.015625)\"/>\n       <path id=\"DejaVuSans-6f\" d=\"M 1959 3097 \nQ 1497 3097 1228 2736 \nQ 959 2375 959 1747 \nQ 959 1119 1226 758 \nQ 1494 397 1959 397 \nQ 2419 397 2687 759 \nQ 2956 1122 2956 1747 \nQ 2956 2369 2687 2733 \nQ 2419 3097 1959 3097 \nz\nM 1959 3584 \nQ 2709 3584 3137 3096 \nQ 3566 2609 3566 1747 \nQ 3566 888 3137 398 \nQ 2709 -91 1959 -91 \nQ 1206 -91 779 398 \nQ 353 888 353 1747 \nQ 353 2609 779 3096 \nQ 1206 3584 1959 3584 \nz\n\" transform=\"scale(0.015625)\"/>\n       <path id=\"DejaVuSans-63\" d=\"M 3122 3366 \nL 3122 2828 \nQ 2878 2963 2633 3030 \nQ 2388 3097 2138 3097 \nQ 1578 3097 1268 2742 \nQ 959 2388 959 1747 \nQ 959 1106 1268 751 \nQ 1578 397 2138 397 \nQ 2388 397 2633 464 \nQ 2878 531 3122 666 \nL 3122 134 \nQ 2881 22 2623 -34 \nQ 2366 -91 2075 -91 \nQ 1284 -91 818 406 \nQ 353 903 353 1747 \nQ 353 2603 823 3093 \nQ 1294 3584 2113 3584 \nQ 2378 3584 2631 3529 \nQ 2884 3475 3122 3366 \nz\n\" transform=\"scale(0.015625)\"/>\n       <path id=\"DejaVuSans-68\" d=\"M 3513 2113 \nL 3513 0 \nL 2938 0 \nL 2938 2094 \nQ 2938 2591 2744 2837 \nQ 2550 3084 2163 3084 \nQ 1697 3084 1428 2787 \nQ 1159 2491 1159 1978 \nL 1159 0 \nL 581 0 \nL 581 4863 \nL 1159 4863 \nL 1159 2956 \nQ 1366 3272 1645 3428 \nQ 1925 3584 2291 3584 \nQ 2894 3584 3203 3211 \nQ 3513 2838 3513 2113 \nz\n\" transform=\"scale(0.015625)\"/>\n      </defs>\n      <use xlink:href=\"#DejaVuSans-65\"/>\n      <use xlink:href=\"#DejaVuSans-70\" x=\"61.523438\"/>\n      <use xlink:href=\"#DejaVuSans-6f\" x=\"125\"/>\n      <use xlink:href=\"#DejaVuSans-63\" x=\"186.181641\"/>\n      <use xlink:href=\"#DejaVuSans-68\" x=\"241.162109\"/>\n     </g>\n    </g>\n   </g>\n   <g id=\"matplotlib.axis_2\">\n    <g id=\"ytick_1\">\n     <g id=\"line2d_7\">\n      <defs>\n       <path id=\"me0aba07fac\" d=\"M 0 0 \nL -3.5 0 \n\" style=\"stroke: #000000; stroke-width: 0.8\"/>\n      </defs>\n      <g>\n       <use xlink:href=\"#me0aba07fac\" x=\"30.103125\" y=\"120.545199\" style=\"stroke: #000000; stroke-width: 0.8\"/>\n      </g>\n     </g>\n     <g id=\"text_8\">\n      <!-- 0.5 -->\n      <g transform=\"translate(7.2 124.344418) scale(0.1 -0.1)\">\n       <defs>\n        <path id=\"DejaVuSans-2e\" d=\"M 684 794 \nL 1344 794 \nL 1344 0 \nL 684 0 \nL 684 794 \nz\n\" transform=\"scale(0.015625)\"/>\n        <path id=\"DejaVuSans-35\" d=\"M 691 4666 \nL 3169 4666 \nL 3169 4134 \nL 1269 4134 \nL 1269 2991 \nQ 1406 3038 1543 3061 \nQ 1681 3084 1819 3084 \nQ 2600 3084 3056 2656 \nQ 3513 2228 3513 1497 \nQ 3513 744 3044 326 \nQ 2575 -91 1722 -91 \nQ 1428 -91 1123 -41 \nQ 819 9 494 109 \nL 494 744 \nQ 775 591 1075 516 \nQ 1375 441 1709 441 \nQ 2250 441 2565 725 \nQ 2881 1009 2881 1497 \nQ 2881 1984 2565 2268 \nQ 2250 2553 1709 2553 \nQ 1456 2553 1204 2497 \nQ 953 2441 691 2322 \nL 691 4666 \nz\n\" transform=\"scale(0.015625)\"/>\n       </defs>\n       <use xlink:href=\"#DejaVuSans-30\"/>\n       <use xlink:href=\"#DejaVuSans-2e\" x=\"63.623047\"/>\n       <use xlink:href=\"#DejaVuSans-35\" x=\"95.410156\"/>\n      </g>\n     </g>\n    </g>\n    <g id=\"ytick_2\">\n     <g id=\"line2d_8\">\n      <g>\n       <use xlink:href=\"#me0aba07fac\" x=\"30.103125\" y=\"90.893134\" style=\"stroke: #000000; stroke-width: 0.8\"/>\n      </g>\n     </g>\n     <g id=\"text_9\">\n      <!-- 1.0 -->\n      <g transform=\"translate(7.2 94.692353) scale(0.1 -0.1)\">\n       <use xlink:href=\"#DejaVuSans-31\"/>\n       <use xlink:href=\"#DejaVuSans-2e\" x=\"63.623047\"/>\n       <use xlink:href=\"#DejaVuSans-30\" x=\"95.410156\"/>\n      </g>\n     </g>\n    </g>\n    <g id=\"ytick_3\">\n     <g id=\"line2d_9\">\n      <g>\n       <use xlink:href=\"#me0aba07fac\" x=\"30.103125\" y=\"61.24107\" style=\"stroke: #000000; stroke-width: 0.8\"/>\n      </g>\n     </g>\n     <g id=\"text_10\">\n      <!-- 1.5 -->\n      <g transform=\"translate(7.2 65.040288) scale(0.1 -0.1)\">\n       <use xlink:href=\"#DejaVuSans-31\"/>\n       <use xlink:href=\"#DejaVuSans-2e\" x=\"63.623047\"/>\n       <use xlink:href=\"#DejaVuSans-35\" x=\"95.410156\"/>\n      </g>\n     </g>\n    </g>\n    <g id=\"ytick_4\">\n     <g id=\"line2d_10\">\n      <g>\n       <use xlink:href=\"#me0aba07fac\" x=\"30.103125\" y=\"31.589005\" style=\"stroke: #000000; stroke-width: 0.8\"/>\n      </g>\n     </g>\n     <g id=\"text_11\">\n      <!-- 2.0 -->\n      <g transform=\"translate(7.2 35.388224) scale(0.1 -0.1)\">\n       <use xlink:href=\"#DejaVuSans-32\"/>\n       <use xlink:href=\"#DejaVuSans-2e\" x=\"63.623047\"/>\n       <use xlink:href=\"#DejaVuSans-30\" x=\"95.410156\"/>\n      </g>\n     </g>\n    </g>\n   </g>\n   <g id=\"line2d_11\">\n    <path d=\"M 34.954394 13.5 \n\" clip-path=\"url(#pc0d9cdc1d7)\" style=\"fill: none; stroke: #1f77b4; stroke-width: 1.5; stroke-linecap: square\"/>\n   </g>\n   <g id=\"line2d_12\">\n    <path d=\"M 34.954394 13.5 \nL 44.698573 14.45119 \n\" clip-path=\"url(#pc0d9cdc1d7)\" style=\"fill: none; stroke: #1f77b4; stroke-width: 1.5; stroke-linecap: square\"/>\n   </g>\n   <g id=\"line2d_13\">\n    <path d=\"M 34.954394 13.5 \nL 44.698573 14.45119 \n\" clip-path=\"url(#pc0d9cdc1d7)\" style=\"fill: none; stroke: #1f77b4; stroke-width: 1.5; stroke-linecap: square\"/>\n   </g>\n   <g id=\"line2d_14\">\n    <path d=\"M 49.633125 16.353303 \n\" clip-path=\"url(#pc0d9cdc1d7)\" style=\"fill: none; stroke-dasharray: 5.55,2.4; stroke-dashoffset: 0; stroke: #ff7f0e; stroke-width: 1.5\"/>\n   </g>\n   <g id=\"line2d_15\"/>\n   <g id=\"line2d_16\">\n    <path d=\"M 34.954394 13.5 \nL 44.698573 14.45119 \n\" clip-path=\"url(#pc0d9cdc1d7)\" style=\"fill: none; stroke: #1f77b4; stroke-width: 1.5; stroke-linecap: square\"/>\n   </g>\n   <g id=\"line2d_17\">\n    <path d=\"M 49.633125 16.353303 \n\" clip-path=\"url(#pc0d9cdc1d7)\" style=\"fill: none; stroke-dasharray: 5.55,2.4; stroke-dashoffset: 0; stroke: #ff7f0e; stroke-width: 1.5\"/>\n   </g>\n   <g id=\"line2d_18\">\n    <path d=\"M 49.633125 139.5 \n\" clip-path=\"url(#pc0d9cdc1d7)\" style=\"fill: none; stroke-dasharray: 9.6,2.4,1.5,2.4; stroke-dashoffset: 0; stroke: #2ca02c; stroke-width: 1.5\"/>\n   </g>\n   <g id=\"line2d_19\">\n    <path d=\"M 34.954394 13.5 \nL 44.698573 14.45119 \nL 54.442752 25.548201 \n\" clip-path=\"url(#pc0d9cdc1d7)\" style=\"fill: none; stroke: #1f77b4; stroke-width: 1.5; stroke-linecap: square\"/>\n   </g>\n   <g id=\"line2d_20\">\n    <path d=\"M 49.633125 16.353303 \n\" clip-path=\"url(#pc0d9cdc1d7)\" style=\"fill: none; stroke-dasharray: 5.55,2.4; stroke-dashoffset: 0; stroke: #ff7f0e; stroke-width: 1.5\"/>\n   </g>\n   <g id=\"line2d_21\">\n    <path d=\"M 49.633125 139.5 \n\" clip-path=\"url(#pc0d9cdc1d7)\" style=\"fill: none; stroke-dasharray: 9.6,2.4,1.5,2.4; stroke-dashoffset: 0; stroke: #2ca02c; stroke-width: 1.5\"/>\n   </g>\n   <g id=\"line2d_22\">\n    <path d=\"M 34.954394 13.5 \nL 44.698573 14.45119 \nL 54.442752 25.548201 \nL 64.186931 52.810159 \n\" clip-path=\"url(#pc0d9cdc1d7)\" style=\"fill: none; stroke: #1f77b4; stroke-width: 1.5; stroke-linecap: square\"/>\n   </g>\n   <g id=\"line2d_23\">\n    <path d=\"M 49.633125 16.353303 \n\" clip-path=\"url(#pc0d9cdc1d7)\" style=\"fill: none; stroke-dasharray: 5.55,2.4; stroke-dashoffset: 0; stroke: #ff7f0e; stroke-width: 1.5\"/>\n   </g>\n   <g id=\"line2d_24\">\n    <path d=\"M 49.633125 139.5 \n\" clip-path=\"url(#pc0d9cdc1d7)\" style=\"fill: none; stroke-dasharray: 9.6,2.4,1.5,2.4; stroke-dashoffset: 0; stroke: #2ca02c; stroke-width: 1.5\"/>\n   </g>\n   <g id=\"line2d_25\">\n    <path d=\"M 34.954394 13.5 \nL 44.698573 14.45119 \nL 54.442752 25.548201 \nL 64.186931 52.810159 \n\" clip-path=\"url(#pc0d9cdc1d7)\" style=\"fill: none; stroke: #1f77b4; stroke-width: 1.5; stroke-linecap: square\"/>\n   </g>\n   <g id=\"line2d_26\">\n    <path d=\"M 49.633125 16.353303 \nL 69.163125 75.580956 \n\" clip-path=\"url(#pc0d9cdc1d7)\" style=\"fill: none; stroke-dasharray: 5.55,2.4; stroke-dashoffset: 0; stroke: #ff7f0e; stroke-width: 1.5\"/>\n   </g>\n   <g id=\"line2d_27\">\n    <path d=\"M 49.633125 139.5 \n\" clip-path=\"url(#pc0d9cdc1d7)\" style=\"fill: none; stroke-dasharray: 9.6,2.4,1.5,2.4; stroke-dashoffset: 0; stroke: #2ca02c; stroke-width: 1.5\"/>\n   </g>\n   <g id=\"line2d_28\">\n    <path d=\"M 34.954394 13.5 \nL 44.698573 14.45119 \nL 54.442752 25.548201 \nL 64.186931 52.810159 \n\" clip-path=\"url(#pc0d9cdc1d7)\" style=\"fill: none; stroke: #1f77b4; stroke-width: 1.5; stroke-linecap: square\"/>\n   </g>\n   <g id=\"line2d_29\">\n    <path d=\"M 49.633125 16.353303 \nL 69.163125 75.580956 \n\" clip-path=\"url(#pc0d9cdc1d7)\" style=\"fill: none; stroke-dasharray: 5.55,2.4; stroke-dashoffset: 0; stroke: #ff7f0e; stroke-width: 1.5\"/>\n   </g>\n   <g id=\"line2d_30\">\n    <path d=\"M 49.633125 139.5 \nL 69.163125 119.841432 \n\" clip-path=\"url(#pc0d9cdc1d7)\" style=\"fill: none; stroke-dasharray: 9.6,2.4,1.5,2.4; stroke-dashoffset: 0; stroke: #2ca02c; stroke-width: 1.5\"/>\n   </g>\n   <g id=\"line2d_31\">\n    <path d=\"M 34.954394 13.5 \nL 44.698573 14.45119 \nL 54.442752 25.548201 \nL 64.186931 52.810159 \nL 73.93111 80.487802 \n\" clip-path=\"url(#pc0d9cdc1d7)\" style=\"fill: none; stroke: #1f77b4; stroke-width: 1.5; stroke-linecap: square\"/>\n   </g>\n   <g id=\"line2d_32\">\n    <path d=\"M 49.633125 16.353303 \nL 69.163125 75.580956 \n\" clip-path=\"url(#pc0d9cdc1d7)\" style=\"fill: none; stroke-dasharray: 5.55,2.4; stroke-dashoffset: 0; stroke: #ff7f0e; stroke-width: 1.5\"/>\n   </g>\n   <g id=\"line2d_33\">\n    <path d=\"M 49.633125 139.5 \nL 69.163125 119.841432 \n\" clip-path=\"url(#pc0d9cdc1d7)\" style=\"fill: none; stroke-dasharray: 9.6,2.4,1.5,2.4; stroke-dashoffset: 0; stroke: #2ca02c; stroke-width: 1.5\"/>\n   </g>\n   <g id=\"line2d_34\">\n    <path d=\"M 34.954394 13.5 \nL 44.698573 14.45119 \nL 54.442752 25.548201 \nL 64.186931 52.810159 \nL 73.93111 80.487802 \nL 83.675289 91.744031 \n\" clip-path=\"url(#pc0d9cdc1d7)\" style=\"fill: none; stroke: #1f77b4; stroke-width: 1.5; stroke-linecap: square\"/>\n   </g>\n   <g id=\"line2d_35\">\n    <path d=\"M 49.633125 16.353303 \nL 69.163125 75.580956 \n\" clip-path=\"url(#pc0d9cdc1d7)\" style=\"fill: none; stroke-dasharray: 5.55,2.4; stroke-dashoffset: 0; stroke: #ff7f0e; stroke-width: 1.5\"/>\n   </g>\n   <g id=\"line2d_36\">\n    <path d=\"M 49.633125 139.5 \nL 69.163125 119.841432 \n\" clip-path=\"url(#pc0d9cdc1d7)\" style=\"fill: none; stroke-dasharray: 9.6,2.4,1.5,2.4; stroke-dashoffset: 0; stroke: #2ca02c; stroke-width: 1.5\"/>\n   </g>\n   <g id=\"line2d_37\">\n    <path d=\"M 34.954394 13.5 \nL 44.698573 14.45119 \nL 54.442752 25.548201 \nL 64.186931 52.810159 \nL 73.93111 80.487802 \nL 83.675289 91.744031 \n\" clip-path=\"url(#pc0d9cdc1d7)\" style=\"fill: none; stroke: #1f77b4; stroke-width: 1.5; stroke-linecap: square\"/>\n   </g>\n   <g id=\"line2d_38\">\n    <path d=\"M 49.633125 16.353303 \nL 69.163125 75.580956 \nL 88.693125 96.043269 \n\" clip-path=\"url(#pc0d9cdc1d7)\" style=\"fill: none; stroke-dasharray: 5.55,2.4; stroke-dashoffset: 0; stroke: #ff7f0e; stroke-width: 1.5\"/>\n   </g>\n   <g id=\"line2d_39\">\n    <path d=\"M 49.633125 139.5 \nL 69.163125 119.841432 \n\" clip-path=\"url(#pc0d9cdc1d7)\" style=\"fill: none; stroke-dasharray: 9.6,2.4,1.5,2.4; stroke-dashoffset: 0; stroke: #2ca02c; stroke-width: 1.5\"/>\n   </g>\n   <g id=\"line2d_40\">\n    <path d=\"M 34.954394 13.5 \nL 44.698573 14.45119 \nL 54.442752 25.548201 \nL 64.186931 52.810159 \nL 73.93111 80.487802 \nL 83.675289 91.744031 \n\" clip-path=\"url(#pc0d9cdc1d7)\" style=\"fill: none; stroke: #1f77b4; stroke-width: 1.5; stroke-linecap: square\"/>\n   </g>\n   <g id=\"line2d_41\">\n    <path d=\"M 49.633125 16.353303 \nL 69.163125 75.580956 \nL 88.693125 96.043269 \n\" clip-path=\"url(#pc0d9cdc1d7)\" style=\"fill: none; stroke-dasharray: 5.55,2.4; stroke-dashoffset: 0; stroke: #ff7f0e; stroke-width: 1.5\"/>\n   </g>\n   <g id=\"line2d_42\">\n    <path d=\"M 49.633125 139.5 \nL 69.163125 119.841432 \nL 88.693125 109.214545 \n\" clip-path=\"url(#pc0d9cdc1d7)\" style=\"fill: none; stroke-dasharray: 9.6,2.4,1.5,2.4; stroke-dashoffset: 0; stroke: #2ca02c; stroke-width: 1.5\"/>\n   </g>\n   <g id=\"line2d_43\">\n    <path d=\"M 34.954394 13.5 \nL 44.698573 14.45119 \nL 54.442752 25.548201 \nL 64.186931 52.810159 \nL 73.93111 80.487802 \nL 83.675289 91.744031 \nL 93.419468 97.026969 \n\" clip-path=\"url(#pc0d9cdc1d7)\" style=\"fill: none; stroke: #1f77b4; stroke-width: 1.5; stroke-linecap: square\"/>\n   </g>\n   <g id=\"line2d_44\">\n    <path d=\"M 49.633125 16.353303 \nL 69.163125 75.580956 \nL 88.693125 96.043269 \n\" clip-path=\"url(#pc0d9cdc1d7)\" style=\"fill: none; stroke-dasharray: 5.55,2.4; stroke-dashoffset: 0; stroke: #ff7f0e; stroke-width: 1.5\"/>\n   </g>\n   <g id=\"line2d_45\">\n    <path d=\"M 49.633125 139.5 \nL 69.163125 119.841432 \nL 88.693125 109.214545 \n\" clip-path=\"url(#pc0d9cdc1d7)\" style=\"fill: none; stroke-dasharray: 9.6,2.4,1.5,2.4; stroke-dashoffset: 0; stroke: #2ca02c; stroke-width: 1.5\"/>\n   </g>\n   <g id=\"line2d_46\">\n    <path d=\"M 34.954394 13.5 \nL 44.698573 14.45119 \nL 54.442752 25.548201 \nL 64.186931 52.810159 \nL 73.93111 80.487802 \nL 83.675289 91.744031 \nL 93.419468 97.026969 \nL 103.163647 101.37111 \n\" clip-path=\"url(#pc0d9cdc1d7)\" style=\"fill: none; stroke: #1f77b4; stroke-width: 1.5; stroke-linecap: square\"/>\n   </g>\n   <g id=\"line2d_47\">\n    <path d=\"M 49.633125 16.353303 \nL 69.163125 75.580956 \nL 88.693125 96.043269 \n\" clip-path=\"url(#pc0d9cdc1d7)\" style=\"fill: none; stroke-dasharray: 5.55,2.4; stroke-dashoffset: 0; stroke: #ff7f0e; stroke-width: 1.5\"/>\n   </g>\n   <g id=\"line2d_48\">\n    <path d=\"M 49.633125 139.5 \nL 69.163125 119.841432 \nL 88.693125 109.214545 \n\" clip-path=\"url(#pc0d9cdc1d7)\" style=\"fill: none; stroke-dasharray: 9.6,2.4,1.5,2.4; stroke-dashoffset: 0; stroke: #2ca02c; stroke-width: 1.5\"/>\n   </g>\n   <g id=\"line2d_49\">\n    <path d=\"M 34.954394 13.5 \nL 44.698573 14.45119 \nL 54.442752 25.548201 \nL 64.186931 52.810159 \nL 73.93111 80.487802 \nL 83.675289 91.744031 \nL 93.419468 97.026969 \nL 103.163647 101.37111 \n\" clip-path=\"url(#pc0d9cdc1d7)\" style=\"fill: none; stroke: #1f77b4; stroke-width: 1.5; stroke-linecap: square\"/>\n   </g>\n   <g id=\"line2d_50\">\n    <path d=\"M 49.633125 16.353303 \nL 69.163125 75.580956 \nL 88.693125 96.043269 \nL 108.223125 102.516414 \n\" clip-path=\"url(#pc0d9cdc1d7)\" style=\"fill: none; stroke-dasharray: 5.55,2.4; stroke-dashoffset: 0; stroke: #ff7f0e; stroke-width: 1.5\"/>\n   </g>\n   <g id=\"line2d_51\">\n    <path d=\"M 49.633125 139.5 \nL 69.163125 119.841432 \nL 88.693125 109.214545 \n\" clip-path=\"url(#pc0d9cdc1d7)\" style=\"fill: none; stroke-dasharray: 9.6,2.4,1.5,2.4; stroke-dashoffset: 0; stroke: #2ca02c; stroke-width: 1.5\"/>\n   </g>\n   <g id=\"line2d_52\">\n    <path d=\"M 34.954394 13.5 \nL 44.698573 14.45119 \nL 54.442752 25.548201 \nL 64.186931 52.810159 \nL 73.93111 80.487802 \nL 83.675289 91.744031 \nL 93.419468 97.026969 \nL 103.163647 101.37111 \n\" clip-path=\"url(#pc0d9cdc1d7)\" style=\"fill: none; stroke: #1f77b4; stroke-width: 1.5; stroke-linecap: square\"/>\n   </g>\n   <g id=\"line2d_53\">\n    <path d=\"M 49.633125 16.353303 \nL 69.163125 75.580956 \nL 88.693125 96.043269 \nL 108.223125 102.516414 \n\" clip-path=\"url(#pc0d9cdc1d7)\" style=\"fill: none; stroke-dasharray: 5.55,2.4; stroke-dashoffset: 0; stroke: #ff7f0e; stroke-width: 1.5\"/>\n   </g>\n   <g id=\"line2d_54\">\n    <path d=\"M 49.633125 139.5 \nL 69.163125 119.841432 \nL 88.693125 109.214545 \nL 108.223125 107.771822 \n\" clip-path=\"url(#pc0d9cdc1d7)\" style=\"fill: none; stroke-dasharray: 9.6,2.4,1.5,2.4; stroke-dashoffset: 0; stroke: #2ca02c; stroke-width: 1.5\"/>\n   </g>\n   <g id=\"line2d_55\">\n    <path d=\"M 34.954394 13.5 \nL 44.698573 14.45119 \nL 54.442752 25.548201 \nL 64.186931 52.810159 \nL 73.93111 80.487802 \nL 83.675289 91.744031 \nL 93.419468 97.026969 \nL 103.163647 101.37111 \nL 112.907826 104.220166 \n\" clip-path=\"url(#pc0d9cdc1d7)\" style=\"fill: none; stroke: #1f77b4; stroke-width: 1.5; stroke-linecap: square\"/>\n   </g>\n   <g id=\"line2d_56\">\n    <path d=\"M 49.633125 16.353303 \nL 69.163125 75.580956 \nL 88.693125 96.043269 \nL 108.223125 102.516414 \n\" clip-path=\"url(#pc0d9cdc1d7)\" style=\"fill: none; stroke-dasharray: 5.55,2.4; stroke-dashoffset: 0; stroke: #ff7f0e; stroke-width: 1.5\"/>\n   </g>\n   <g id=\"line2d_57\">\n    <path d=\"M 49.633125 139.5 \nL 69.163125 119.841432 \nL 88.693125 109.214545 \nL 108.223125 107.771822 \n\" clip-path=\"url(#pc0d9cdc1d7)\" style=\"fill: none; stroke-dasharray: 9.6,2.4,1.5,2.4; stroke-dashoffset: 0; stroke: #2ca02c; stroke-width: 1.5\"/>\n   </g>\n   <g id=\"line2d_58\">\n    <path d=\"M 34.954394 13.5 \nL 44.698573 14.45119 \nL 54.442752 25.548201 \nL 64.186931 52.810159 \nL 73.93111 80.487802 \nL 83.675289 91.744031 \nL 93.419468 97.026969 \nL 103.163647 101.37111 \nL 112.907826 104.220166 \nL 122.652006 106.420318 \n\" clip-path=\"url(#pc0d9cdc1d7)\" style=\"fill: none; stroke: #1f77b4; stroke-width: 1.5; stroke-linecap: square\"/>\n   </g>\n   <g id=\"line2d_59\">\n    <path d=\"M 49.633125 16.353303 \nL 69.163125 75.580956 \nL 88.693125 96.043269 \nL 108.223125 102.516414 \n\" clip-path=\"url(#pc0d9cdc1d7)\" style=\"fill: none; stroke-dasharray: 5.55,2.4; stroke-dashoffset: 0; stroke: #ff7f0e; stroke-width: 1.5\"/>\n   </g>\n   <g id=\"line2d_60\">\n    <path d=\"M 49.633125 139.5 \nL 69.163125 119.841432 \nL 88.693125 109.214545 \nL 108.223125 107.771822 \n\" clip-path=\"url(#pc0d9cdc1d7)\" style=\"fill: none; stroke-dasharray: 9.6,2.4,1.5,2.4; stroke-dashoffset: 0; stroke: #2ca02c; stroke-width: 1.5\"/>\n   </g>\n   <g id=\"line2d_61\">\n    <path d=\"M 34.954394 13.5 \nL 44.698573 14.45119 \nL 54.442752 25.548201 \nL 64.186931 52.810159 \nL 73.93111 80.487802 \nL 83.675289 91.744031 \nL 93.419468 97.026969 \nL 103.163647 101.37111 \nL 112.907826 104.220166 \nL 122.652006 106.420318 \n\" clip-path=\"url(#pc0d9cdc1d7)\" style=\"fill: none; stroke: #1f77b4; stroke-width: 1.5; stroke-linecap: square\"/>\n   </g>\n   <g id=\"line2d_62\">\n    <path d=\"M 49.633125 16.353303 \nL 69.163125 75.580956 \nL 88.693125 96.043269 \nL 108.223125 102.516414 \nL 127.753125 105.568264 \n\" clip-path=\"url(#pc0d9cdc1d7)\" style=\"fill: none; stroke-dasharray: 5.55,2.4; stroke-dashoffset: 0; stroke: #ff7f0e; stroke-width: 1.5\"/>\n   </g>\n   <g id=\"line2d_63\">\n    <path d=\"M 49.633125 139.5 \nL 69.163125 119.841432 \nL 88.693125 109.214545 \nL 108.223125 107.771822 \n\" clip-path=\"url(#pc0d9cdc1d7)\" style=\"fill: none; stroke-dasharray: 9.6,2.4,1.5,2.4; stroke-dashoffset: 0; stroke: #2ca02c; stroke-width: 1.5\"/>\n   </g>\n   <g id=\"line2d_64\">\n    <path d=\"M 34.954394 13.5 \nL 44.698573 14.45119 \nL 54.442752 25.548201 \nL 64.186931 52.810159 \nL 73.93111 80.487802 \nL 83.675289 91.744031 \nL 93.419468 97.026969 \nL 103.163647 101.37111 \nL 112.907826 104.220166 \nL 122.652006 106.420318 \n\" clip-path=\"url(#pc0d9cdc1d7)\" style=\"fill: none; stroke: #1f77b4; stroke-width: 1.5; stroke-linecap: square\"/>\n   </g>\n   <g id=\"line2d_65\">\n    <path d=\"M 49.633125 16.353303 \nL 69.163125 75.580956 \nL 88.693125 96.043269 \nL 108.223125 102.516414 \nL 127.753125 105.568264 \n\" clip-path=\"url(#pc0d9cdc1d7)\" style=\"fill: none; stroke-dasharray: 5.55,2.4; stroke-dashoffset: 0; stroke: #ff7f0e; stroke-width: 1.5\"/>\n   </g>\n   <g id=\"line2d_66\">\n    <path d=\"M 49.633125 139.5 \nL 69.163125 119.841432 \nL 88.693125 109.214545 \nL 108.223125 107.771822 \nL 127.753125 105.291042 \n\" clip-path=\"url(#pc0d9cdc1d7)\" style=\"fill: none; stroke-dasharray: 9.6,2.4,1.5,2.4; stroke-dashoffset: 0; stroke: #2ca02c; stroke-width: 1.5\"/>\n   </g>\n   <g id=\"line2d_67\">\n    <path d=\"M 34.954394 13.5 \nL 44.698573 14.45119 \nL 54.442752 25.548201 \nL 64.186931 52.810159 \nL 73.93111 80.487802 \nL 83.675289 91.744031 \nL 93.419468 97.026969 \nL 103.163647 101.37111 \nL 112.907826 104.220166 \nL 122.652006 106.420318 \nL 132.396185 109.255193 \n\" clip-path=\"url(#pc0d9cdc1d7)\" style=\"fill: none; stroke: #1f77b4; stroke-width: 1.5; stroke-linecap: square\"/>\n   </g>\n   <g id=\"line2d_68\">\n    <path d=\"M 49.633125 16.353303 \nL 69.163125 75.580956 \nL 88.693125 96.043269 \nL 108.223125 102.516414 \nL 127.753125 105.568264 \n\" clip-path=\"url(#pc0d9cdc1d7)\" style=\"fill: none; stroke-dasharray: 5.55,2.4; stroke-dashoffset: 0; stroke: #ff7f0e; stroke-width: 1.5\"/>\n   </g>\n   <g id=\"line2d_69\">\n    <path d=\"M 49.633125 139.5 \nL 69.163125 119.841432 \nL 88.693125 109.214545 \nL 108.223125 107.771822 \nL 127.753125 105.291042 \n\" clip-path=\"url(#pc0d9cdc1d7)\" style=\"fill: none; stroke-dasharray: 9.6,2.4,1.5,2.4; stroke-dashoffset: 0; stroke: #2ca02c; stroke-width: 1.5\"/>\n   </g>\n   <g id=\"line2d_70\">\n    <path d=\"M 34.954394 13.5 \nL 44.698573 14.45119 \nL 54.442752 25.548201 \nL 64.186931 52.810159 \nL 73.93111 80.487802 \nL 83.675289 91.744031 \nL 93.419468 97.026969 \nL 103.163647 101.37111 \nL 112.907826 104.220166 \nL 122.652006 106.420318 \nL 132.396185 109.255193 \nL 142.140364 110.087208 \n\" clip-path=\"url(#pc0d9cdc1d7)\" style=\"fill: none; stroke: #1f77b4; stroke-width: 1.5; stroke-linecap: square\"/>\n   </g>\n   <g id=\"line2d_71\">\n    <path d=\"M 49.633125 16.353303 \nL 69.163125 75.580956 \nL 88.693125 96.043269 \nL 108.223125 102.516414 \nL 127.753125 105.568264 \n\" clip-path=\"url(#pc0d9cdc1d7)\" style=\"fill: none; stroke-dasharray: 5.55,2.4; stroke-dashoffset: 0; stroke: #ff7f0e; stroke-width: 1.5\"/>\n   </g>\n   <g id=\"line2d_72\">\n    <path d=\"M 49.633125 139.5 \nL 69.163125 119.841432 \nL 88.693125 109.214545 \nL 108.223125 107.771822 \nL 127.753125 105.291042 \n\" clip-path=\"url(#pc0d9cdc1d7)\" style=\"fill: none; stroke-dasharray: 9.6,2.4,1.5,2.4; stroke-dashoffset: 0; stroke: #2ca02c; stroke-width: 1.5\"/>\n   </g>\n   <g id=\"line2d_73\">\n    <path d=\"M 34.954394 13.5 \nL 44.698573 14.45119 \nL 54.442752 25.548201 \nL 64.186931 52.810159 \nL 73.93111 80.487802 \nL 83.675289 91.744031 \nL 93.419468 97.026969 \nL 103.163647 101.37111 \nL 112.907826 104.220166 \nL 122.652006 106.420318 \nL 132.396185 109.255193 \nL 142.140364 110.087208 \n\" clip-path=\"url(#pc0d9cdc1d7)\" style=\"fill: none; stroke: #1f77b4; stroke-width: 1.5; stroke-linecap: square\"/>\n   </g>\n   <g id=\"line2d_74\">\n    <path d=\"M 49.633125 16.353303 \nL 69.163125 75.580956 \nL 88.693125 96.043269 \nL 108.223125 102.516414 \nL 127.753125 105.568264 \nL 147.283125 99.31998 \n\" clip-path=\"url(#pc0d9cdc1d7)\" style=\"fill: none; stroke-dasharray: 5.55,2.4; stroke-dashoffset: 0; stroke: #ff7f0e; stroke-width: 1.5\"/>\n   </g>\n   <g id=\"line2d_75\">\n    <path d=\"M 49.633125 139.5 \nL 69.163125 119.841432 \nL 88.693125 109.214545 \nL 108.223125 107.771822 \nL 127.753125 105.291042 \n\" clip-path=\"url(#pc0d9cdc1d7)\" style=\"fill: none; stroke-dasharray: 9.6,2.4,1.5,2.4; stroke-dashoffset: 0; stroke: #2ca02c; stroke-width: 1.5\"/>\n   </g>\n   <g id=\"line2d_76\">\n    <path d=\"M 34.954394 13.5 \nL 44.698573 14.45119 \nL 54.442752 25.548201 \nL 64.186931 52.810159 \nL 73.93111 80.487802 \nL 83.675289 91.744031 \nL 93.419468 97.026969 \nL 103.163647 101.37111 \nL 112.907826 104.220166 \nL 122.652006 106.420318 \nL 132.396185 109.255193 \nL 142.140364 110.087208 \n\" clip-path=\"url(#pc0d9cdc1d7)\" style=\"fill: none; stroke: #1f77b4; stroke-width: 1.5; stroke-linecap: square\"/>\n   </g>\n   <g id=\"line2d_77\">\n    <path d=\"M 49.633125 16.353303 \nL 69.163125 75.580956 \nL 88.693125 96.043269 \nL 108.223125 102.516414 \nL 127.753125 105.568264 \nL 147.283125 99.31998 \n\" clip-path=\"url(#pc0d9cdc1d7)\" style=\"fill: none; stroke-dasharray: 5.55,2.4; stroke-dashoffset: 0; stroke: #ff7f0e; stroke-width: 1.5\"/>\n   </g>\n   <g id=\"line2d_78\">\n    <path d=\"M 49.633125 139.5 \nL 69.163125 119.841432 \nL 88.693125 109.214545 \nL 108.223125 107.771822 \nL 127.753125 105.291042 \nL 147.283125 109.155897 \n\" clip-path=\"url(#pc0d9cdc1d7)\" style=\"fill: none; stroke-dasharray: 9.6,2.4,1.5,2.4; stroke-dashoffset: 0; stroke: #2ca02c; stroke-width: 1.5\"/>\n   </g>\n   <g id=\"line2d_79\">\n    <path d=\"M 34.954394 13.5 \nL 44.698573 14.45119 \nL 54.442752 25.548201 \nL 64.186931 52.810159 \nL 73.93111 80.487802 \nL 83.675289 91.744031 \nL 93.419468 97.026969 \nL 103.163647 101.37111 \nL 112.907826 104.220166 \nL 122.652006 106.420318 \nL 132.396185 109.255193 \nL 142.140364 110.087208 \nL 151.884543 111.585647 \n\" clip-path=\"url(#pc0d9cdc1d7)\" style=\"fill: none; stroke: #1f77b4; stroke-width: 1.5; stroke-linecap: square\"/>\n   </g>\n   <g id=\"line2d_80\">\n    <path d=\"M 49.633125 16.353303 \nL 69.163125 75.580956 \nL 88.693125 96.043269 \nL 108.223125 102.516414 \nL 127.753125 105.568264 \nL 147.283125 99.31998 \n\" clip-path=\"url(#pc0d9cdc1d7)\" style=\"fill: none; stroke-dasharray: 5.55,2.4; stroke-dashoffset: 0; stroke: #ff7f0e; stroke-width: 1.5\"/>\n   </g>\n   <g id=\"line2d_81\">\n    <path d=\"M 49.633125 139.5 \nL 69.163125 119.841432 \nL 88.693125 109.214545 \nL 108.223125 107.771822 \nL 127.753125 105.291042 \nL 147.283125 109.155897 \n\" clip-path=\"url(#pc0d9cdc1d7)\" style=\"fill: none; stroke-dasharray: 9.6,2.4,1.5,2.4; stroke-dashoffset: 0; stroke: #2ca02c; stroke-width: 1.5\"/>\n   </g>\n   <g id=\"line2d_82\">\n    <path d=\"M 34.954394 13.5 \nL 44.698573 14.45119 \nL 54.442752 25.548201 \nL 64.186931 52.810159 \nL 73.93111 80.487802 \nL 83.675289 91.744031 \nL 93.419468 97.026969 \nL 103.163647 101.37111 \nL 112.907826 104.220166 \nL 122.652006 106.420318 \nL 132.396185 109.255193 \nL 142.140364 110.087208 \nL 151.884543 111.585647 \nL 161.628722 121.781612 \n\" clip-path=\"url(#pc0d9cdc1d7)\" style=\"fill: none; stroke: #1f77b4; stroke-width: 1.5; stroke-linecap: square\"/>\n   </g>\n   <g id=\"line2d_83\">\n    <path d=\"M 49.633125 16.353303 \nL 69.163125 75.580956 \nL 88.693125 96.043269 \nL 108.223125 102.516414 \nL 127.753125 105.568264 \nL 147.283125 99.31998 \n\" clip-path=\"url(#pc0d9cdc1d7)\" style=\"fill: none; stroke-dasharray: 5.55,2.4; stroke-dashoffset: 0; stroke: #ff7f0e; stroke-width: 1.5\"/>\n   </g>\n   <g id=\"line2d_84\">\n    <path d=\"M 49.633125 139.5 \nL 69.163125 119.841432 \nL 88.693125 109.214545 \nL 108.223125 107.771822 \nL 127.753125 105.291042 \nL 147.283125 109.155897 \n\" clip-path=\"url(#pc0d9cdc1d7)\" style=\"fill: none; stroke-dasharray: 9.6,2.4,1.5,2.4; stroke-dashoffset: 0; stroke: #2ca02c; stroke-width: 1.5\"/>\n   </g>\n   <g id=\"line2d_85\">\n    <path d=\"M 34.954394 13.5 \nL 44.698573 14.45119 \nL 54.442752 25.548201 \nL 64.186931 52.810159 \nL 73.93111 80.487802 \nL 83.675289 91.744031 \nL 93.419468 97.026969 \nL 103.163647 101.37111 \nL 112.907826 104.220166 \nL 122.652006 106.420318 \nL 132.396185 109.255193 \nL 142.140364 110.087208 \nL 151.884543 111.585647 \nL 161.628722 121.781612 \n\" clip-path=\"url(#pc0d9cdc1d7)\" style=\"fill: none; stroke: #1f77b4; stroke-width: 1.5; stroke-linecap: square\"/>\n   </g>\n   <g id=\"line2d_86\">\n    <path d=\"M 49.633125 16.353303 \nL 69.163125 75.580956 \nL 88.693125 96.043269 \nL 108.223125 102.516414 \nL 127.753125 105.568264 \nL 147.283125 99.31998 \nL 166.813125 122.83022 \n\" clip-path=\"url(#pc0d9cdc1d7)\" style=\"fill: none; stroke-dasharray: 5.55,2.4; stroke-dashoffset: 0; stroke: #ff7f0e; stroke-width: 1.5\"/>\n   </g>\n   <g id=\"line2d_87\">\n    <path d=\"M 49.633125 139.5 \nL 69.163125 119.841432 \nL 88.693125 109.214545 \nL 108.223125 107.771822 \nL 127.753125 105.291042 \nL 147.283125 109.155897 \n\" clip-path=\"url(#pc0d9cdc1d7)\" style=\"fill: none; stroke-dasharray: 9.6,2.4,1.5,2.4; stroke-dashoffset: 0; stroke: #2ca02c; stroke-width: 1.5\"/>\n   </g>\n   <g id=\"line2d_88\">\n    <path d=\"M 34.954394 13.5 \nL 44.698573 14.45119 \nL 54.442752 25.548201 \nL 64.186931 52.810159 \nL 73.93111 80.487802 \nL 83.675289 91.744031 \nL 93.419468 97.026969 \nL 103.163647 101.37111 \nL 112.907826 104.220166 \nL 122.652006 106.420318 \nL 132.396185 109.255193 \nL 142.140364 110.087208 \nL 151.884543 111.585647 \nL 161.628722 121.781612 \n\" clip-path=\"url(#pc0d9cdc1d7)\" style=\"fill: none; stroke: #1f77b4; stroke-width: 1.5; stroke-linecap: square\"/>\n   </g>\n   <g id=\"line2d_89\">\n    <path d=\"M 49.633125 16.353303 \nL 69.163125 75.580956 \nL 88.693125 96.043269 \nL 108.223125 102.516414 \nL 127.753125 105.568264 \nL 147.283125 99.31998 \nL 166.813125 122.83022 \n\" clip-path=\"url(#pc0d9cdc1d7)\" style=\"fill: none; stroke-dasharray: 5.55,2.4; stroke-dashoffset: 0; stroke: #ff7f0e; stroke-width: 1.5\"/>\n   </g>\n   <g id=\"line2d_90\">\n    <path d=\"M 49.633125 139.5 \nL 69.163125 119.841432 \nL 88.693125 109.214545 \nL 108.223125 107.771822 \nL 127.753125 105.291042 \nL 147.283125 109.155897 \nL 166.813125 100.118352 \n\" clip-path=\"url(#pc0d9cdc1d7)\" style=\"fill: none; stroke-dasharray: 9.6,2.4,1.5,2.4; stroke-dashoffset: 0; stroke: #2ca02c; stroke-width: 1.5\"/>\n   </g>\n   <g id=\"line2d_91\">\n    <path d=\"M 34.954394 13.5 \nL 44.698573 14.45119 \nL 54.442752 25.548201 \nL 64.186931 52.810159 \nL 73.93111 80.487802 \nL 83.675289 91.744031 \nL 93.419468 97.026969 \nL 103.163647 101.37111 \nL 112.907826 104.220166 \nL 122.652006 106.420318 \nL 132.396185 109.255193 \nL 142.140364 110.087208 \nL 151.884543 111.585647 \nL 161.628722 121.781612 \nL 171.372901 124.588935 \n\" clip-path=\"url(#pc0d9cdc1d7)\" style=\"fill: none; stroke: #1f77b4; stroke-width: 1.5; stroke-linecap: square\"/>\n   </g>\n   <g id=\"line2d_92\">\n    <path d=\"M 49.633125 16.353303 \nL 69.163125 75.580956 \nL 88.693125 96.043269 \nL 108.223125 102.516414 \nL 127.753125 105.568264 \nL 147.283125 99.31998 \nL 166.813125 122.83022 \n\" clip-path=\"url(#pc0d9cdc1d7)\" style=\"fill: none; stroke-dasharray: 5.55,2.4; stroke-dashoffset: 0; stroke: #ff7f0e; stroke-width: 1.5\"/>\n   </g>\n   <g id=\"line2d_93\">\n    <path d=\"M 49.633125 139.5 \nL 69.163125 119.841432 \nL 88.693125 109.214545 \nL 108.223125 107.771822 \nL 127.753125 105.291042 \nL 147.283125 109.155897 \nL 166.813125 100.118352 \n\" clip-path=\"url(#pc0d9cdc1d7)\" style=\"fill: none; stroke-dasharray: 9.6,2.4,1.5,2.4; stroke-dashoffset: 0; stroke: #2ca02c; stroke-width: 1.5\"/>\n   </g>\n   <g id=\"line2d_94\">\n    <path d=\"M 34.954394 13.5 \nL 44.698573 14.45119 \nL 54.442752 25.548201 \nL 64.186931 52.810159 \nL 73.93111 80.487802 \nL 83.675289 91.744031 \nL 93.419468 97.026969 \nL 103.163647 101.37111 \nL 112.907826 104.220166 \nL 122.652006 106.420318 \nL 132.396185 109.255193 \nL 142.140364 110.087208 \nL 151.884543 111.585647 \nL 161.628722 121.781612 \nL 171.372901 124.588935 \nL 181.11708 124.963033 \n\" clip-path=\"url(#pc0d9cdc1d7)\" style=\"fill: none; stroke: #1f77b4; stroke-width: 1.5; stroke-linecap: square\"/>\n   </g>\n   <g id=\"line2d_95\">\n    <path d=\"M 49.633125 16.353303 \nL 69.163125 75.580956 \nL 88.693125 96.043269 \nL 108.223125 102.516414 \nL 127.753125 105.568264 \nL 147.283125 99.31998 \nL 166.813125 122.83022 \n\" clip-path=\"url(#pc0d9cdc1d7)\" style=\"fill: none; stroke-dasharray: 5.55,2.4; stroke-dashoffset: 0; stroke: #ff7f0e; stroke-width: 1.5\"/>\n   </g>\n   <g id=\"line2d_96\">\n    <path d=\"M 49.633125 139.5 \nL 69.163125 119.841432 \nL 88.693125 109.214545 \nL 108.223125 107.771822 \nL 127.753125 105.291042 \nL 147.283125 109.155897 \nL 166.813125 100.118352 \n\" clip-path=\"url(#pc0d9cdc1d7)\" style=\"fill: none; stroke-dasharray: 9.6,2.4,1.5,2.4; stroke-dashoffset: 0; stroke: #2ca02c; stroke-width: 1.5\"/>\n   </g>\n   <g id=\"line2d_97\">\n    <path d=\"M 34.954394 13.5 \nL 44.698573 14.45119 \nL 54.442752 25.548201 \nL 64.186931 52.810159 \nL 73.93111 80.487802 \nL 83.675289 91.744031 \nL 93.419468 97.026969 \nL 103.163647 101.37111 \nL 112.907826 104.220166 \nL 122.652006 106.420318 \nL 132.396185 109.255193 \nL 142.140364 110.087208 \nL 151.884543 111.585647 \nL 161.628722 121.781612 \nL 171.372901 124.588935 \nL 181.11708 124.963033 \n\" clip-path=\"url(#pc0d9cdc1d7)\" style=\"fill: none; stroke: #1f77b4; stroke-width: 1.5; stroke-linecap: square\"/>\n   </g>\n   <g id=\"line2d_98\">\n    <path d=\"M 49.633125 16.353303 \nL 69.163125 75.580956 \nL 88.693125 96.043269 \nL 108.223125 102.516414 \nL 127.753125 105.568264 \nL 147.283125 99.31998 \nL 166.813125 122.83022 \nL 186.343125 126.300134 \n\" clip-path=\"url(#pc0d9cdc1d7)\" style=\"fill: none; stroke-dasharray: 5.55,2.4; stroke-dashoffset: 0; stroke: #ff7f0e; stroke-width: 1.5\"/>\n   </g>\n   <g id=\"line2d_99\">\n    <path d=\"M 49.633125 139.5 \nL 69.163125 119.841432 \nL 88.693125 109.214545 \nL 108.223125 107.771822 \nL 127.753125 105.291042 \nL 147.283125 109.155897 \nL 166.813125 100.118352 \n\" clip-path=\"url(#pc0d9cdc1d7)\" style=\"fill: none; stroke-dasharray: 9.6,2.4,1.5,2.4; stroke-dashoffset: 0; stroke: #2ca02c; stroke-width: 1.5\"/>\n   </g>\n   <g id=\"line2d_100\">\n    <path d=\"M 34.954394 13.5 \nL 44.698573 14.45119 \nL 54.442752 25.548201 \nL 64.186931 52.810159 \nL 73.93111 80.487802 \nL 83.675289 91.744031 \nL 93.419468 97.026969 \nL 103.163647 101.37111 \nL 112.907826 104.220166 \nL 122.652006 106.420318 \nL 132.396185 109.255193 \nL 142.140364 110.087208 \nL 151.884543 111.585647 \nL 161.628722 121.781612 \nL 171.372901 124.588935 \nL 181.11708 124.963033 \n\" clip-path=\"url(#pc0d9cdc1d7)\" style=\"fill: none; stroke: #1f77b4; stroke-width: 1.5; stroke-linecap: square\"/>\n   </g>\n   <g id=\"line2d_101\">\n    <path d=\"M 49.633125 16.353303 \nL 69.163125 75.580956 \nL 88.693125 96.043269 \nL 108.223125 102.516414 \nL 127.753125 105.568264 \nL 147.283125 99.31998 \nL 166.813125 122.83022 \nL 186.343125 126.300134 \n\" clip-path=\"url(#pc0d9cdc1d7)\" style=\"fill: none; stroke-dasharray: 5.55,2.4; stroke-dashoffset: 0; stroke: #ff7f0e; stroke-width: 1.5\"/>\n   </g>\n   <g id=\"line2d_102\">\n    <path d=\"M 49.633125 139.5 \nL 69.163125 119.841432 \nL 88.693125 109.214545 \nL 108.223125 107.771822 \nL 127.753125 105.291042 \nL 147.283125 109.155897 \nL 166.813125 100.118352 \nL 186.343125 99.567067 \n\" clip-path=\"url(#pc0d9cdc1d7)\" style=\"fill: none; stroke-dasharray: 9.6,2.4,1.5,2.4; stroke-dashoffset: 0; stroke: #2ca02c; stroke-width: 1.5\"/>\n   </g>\n   <g id=\"line2d_103\">\n    <path d=\"M 34.954394 13.5 \nL 44.698573 14.45119 \nL 54.442752 25.548201 \nL 64.186931 52.810159 \nL 73.93111 80.487802 \nL 83.675289 91.744031 \nL 93.419468 97.026969 \nL 103.163647 101.37111 \nL 112.907826 104.220166 \nL 122.652006 106.420318 \nL 132.396185 109.255193 \nL 142.140364 110.087208 \nL 151.884543 111.585647 \nL 161.628722 121.781612 \nL 171.372901 124.588935 \nL 181.11708 124.963033 \nL 190.861259 126.755198 \n\" clip-path=\"url(#pc0d9cdc1d7)\" style=\"fill: none; stroke: #1f77b4; stroke-width: 1.5; stroke-linecap: square\"/>\n   </g>\n   <g id=\"line2d_104\">\n    <path d=\"M 49.633125 16.353303 \nL 69.163125 75.580956 \nL 88.693125 96.043269 \nL 108.223125 102.516414 \nL 127.753125 105.568264 \nL 147.283125 99.31998 \nL 166.813125 122.83022 \nL 186.343125 126.300134 \n\" clip-path=\"url(#pc0d9cdc1d7)\" style=\"fill: none; stroke-dasharray: 5.55,2.4; stroke-dashoffset: 0; stroke: #ff7f0e; stroke-width: 1.5\"/>\n   </g>\n   <g id=\"line2d_105\">\n    <path d=\"M 49.633125 139.5 \nL 69.163125 119.841432 \nL 88.693125 109.214545 \nL 108.223125 107.771822 \nL 127.753125 105.291042 \nL 147.283125 109.155897 \nL 166.813125 100.118352 \nL 186.343125 99.567067 \n\" clip-path=\"url(#pc0d9cdc1d7)\" style=\"fill: none; stroke-dasharray: 9.6,2.4,1.5,2.4; stroke-dashoffset: 0; stroke: #2ca02c; stroke-width: 1.5\"/>\n   </g>\n   <g id=\"line2d_106\">\n    <path d=\"M 34.954394 13.5 \nL 44.698573 14.45119 \nL 54.442752 25.548201 \nL 64.186931 52.810159 \nL 73.93111 80.487802 \nL 83.675289 91.744031 \nL 93.419468 97.026969 \nL 103.163647 101.37111 \nL 112.907826 104.220166 \nL 122.652006 106.420318 \nL 132.396185 109.255193 \nL 142.140364 110.087208 \nL 151.884543 111.585647 \nL 161.628722 121.781612 \nL 171.372901 124.588935 \nL 181.11708 124.963033 \nL 190.861259 126.755198 \nL 200.605438 126.88247 \n\" clip-path=\"url(#pc0d9cdc1d7)\" style=\"fill: none; stroke: #1f77b4; stroke-width: 1.5; stroke-linecap: square\"/>\n   </g>\n   <g id=\"line2d_107\">\n    <path d=\"M 49.633125 16.353303 \nL 69.163125 75.580956 \nL 88.693125 96.043269 \nL 108.223125 102.516414 \nL 127.753125 105.568264 \nL 147.283125 99.31998 \nL 166.813125 122.83022 \nL 186.343125 126.300134 \n\" clip-path=\"url(#pc0d9cdc1d7)\" style=\"fill: none; stroke-dasharray: 5.55,2.4; stroke-dashoffset: 0; stroke: #ff7f0e; stroke-width: 1.5\"/>\n   </g>\n   <g id=\"line2d_108\">\n    <path d=\"M 49.633125 139.5 \nL 69.163125 119.841432 \nL 88.693125 109.214545 \nL 108.223125 107.771822 \nL 127.753125 105.291042 \nL 147.283125 109.155897 \nL 166.813125 100.118352 \nL 186.343125 99.567067 \n\" clip-path=\"url(#pc0d9cdc1d7)\" style=\"fill: none; stroke-dasharray: 9.6,2.4,1.5,2.4; stroke-dashoffset: 0; stroke: #2ca02c; stroke-width: 1.5\"/>\n   </g>\n   <g id=\"line2d_109\">\n    <path d=\"M 34.954394 13.5 \nL 44.698573 14.45119 \nL 54.442752 25.548201 \nL 64.186931 52.810159 \nL 73.93111 80.487802 \nL 83.675289 91.744031 \nL 93.419468 97.026969 \nL 103.163647 101.37111 \nL 112.907826 104.220166 \nL 122.652006 106.420318 \nL 132.396185 109.255193 \nL 142.140364 110.087208 \nL 151.884543 111.585647 \nL 161.628722 121.781612 \nL 171.372901 124.588935 \nL 181.11708 124.963033 \nL 190.861259 126.755198 \nL 200.605438 126.88247 \n\" clip-path=\"url(#pc0d9cdc1d7)\" style=\"fill: none; stroke: #1f77b4; stroke-width: 1.5; stroke-linecap: square\"/>\n   </g>\n   <g id=\"line2d_110\">\n    <path d=\"M 49.633125 16.353303 \nL 69.163125 75.580956 \nL 88.693125 96.043269 \nL 108.223125 102.516414 \nL 127.753125 105.568264 \nL 147.283125 99.31998 \nL 166.813125 122.83022 \nL 186.343125 126.300134 \nL 205.873125 128.447859 \n\" clip-path=\"url(#pc0d9cdc1d7)\" style=\"fill: none; stroke-dasharray: 5.55,2.4; stroke-dashoffset: 0; stroke: #ff7f0e; stroke-width: 1.5\"/>\n   </g>\n   <g id=\"line2d_111\">\n    <path d=\"M 49.633125 139.5 \nL 69.163125 119.841432 \nL 88.693125 109.214545 \nL 108.223125 107.771822 \nL 127.753125 105.291042 \nL 147.283125 109.155897 \nL 166.813125 100.118352 \nL 186.343125 99.567067 \n\" clip-path=\"url(#pc0d9cdc1d7)\" style=\"fill: none; stroke-dasharray: 9.6,2.4,1.5,2.4; stroke-dashoffset: 0; stroke: #2ca02c; stroke-width: 1.5\"/>\n   </g>\n   <g id=\"line2d_112\">\n    <path d=\"M 34.954394 13.5 \nL 44.698573 14.45119 \nL 54.442752 25.548201 \nL 64.186931 52.810159 \nL 73.93111 80.487802 \nL 83.675289 91.744031 \nL 93.419468 97.026969 \nL 103.163647 101.37111 \nL 112.907826 104.220166 \nL 122.652006 106.420318 \nL 132.396185 109.255193 \nL 142.140364 110.087208 \nL 151.884543 111.585647 \nL 161.628722 121.781612 \nL 171.372901 124.588935 \nL 181.11708 124.963033 \nL 190.861259 126.755198 \nL 200.605438 126.88247 \n\" clip-path=\"url(#pc0d9cdc1d7)\" style=\"fill: none; stroke: #1f77b4; stroke-width: 1.5; stroke-linecap: square\"/>\n   </g>\n   <g id=\"line2d_113\">\n    <path d=\"M 49.633125 16.353303 \nL 69.163125 75.580956 \nL 88.693125 96.043269 \nL 108.223125 102.516414 \nL 127.753125 105.568264 \nL 147.283125 99.31998 \nL 166.813125 122.83022 \nL 186.343125 126.300134 \nL 205.873125 128.447859 \n\" clip-path=\"url(#pc0d9cdc1d7)\" style=\"fill: none; stroke-dasharray: 5.55,2.4; stroke-dashoffset: 0; stroke: #ff7f0e; stroke-width: 1.5\"/>\n   </g>\n   <g id=\"line2d_114\">\n    <path d=\"M 49.633125 139.5 \nL 69.163125 119.841432 \nL 88.693125 109.214545 \nL 108.223125 107.771822 \nL 127.753125 105.291042 \nL 147.283125 109.155897 \nL 166.813125 100.118352 \nL 186.343125 99.567067 \nL 205.873125 98.663899 \n\" clip-path=\"url(#pc0d9cdc1d7)\" style=\"fill: none; stroke-dasharray: 9.6,2.4,1.5,2.4; stroke-dashoffset: 0; stroke: #2ca02c; stroke-width: 1.5\"/>\n   </g>\n   <g id=\"line2d_115\">\n    <path d=\"M 34.954394 13.5 \nL 44.698573 14.45119 \nL 54.442752 25.548201 \nL 64.186931 52.810159 \nL 73.93111 80.487802 \nL 83.675289 91.744031 \nL 93.419468 97.026969 \nL 103.163647 101.37111 \nL 112.907826 104.220166 \nL 122.652006 106.420318 \nL 132.396185 109.255193 \nL 142.140364 110.087208 \nL 151.884543 111.585647 \nL 161.628722 121.781612 \nL 171.372901 124.588935 \nL 181.11708 124.963033 \nL 190.861259 126.755198 \nL 200.605438 126.88247 \nL 210.349618 128.227959 \n\" clip-path=\"url(#pc0d9cdc1d7)\" style=\"fill: none; stroke: #1f77b4; stroke-width: 1.5; stroke-linecap: square\"/>\n   </g>\n   <g id=\"line2d_116\">\n    <path d=\"M 49.633125 16.353303 \nL 69.163125 75.580956 \nL 88.693125 96.043269 \nL 108.223125 102.516414 \nL 127.753125 105.568264 \nL 147.283125 99.31998 \nL 166.813125 122.83022 \nL 186.343125 126.300134 \nL 205.873125 128.447859 \n\" clip-path=\"url(#pc0d9cdc1d7)\" style=\"fill: none; stroke-dasharray: 5.55,2.4; stroke-dashoffset: 0; stroke: #ff7f0e; stroke-width: 1.5\"/>\n   </g>\n   <g id=\"line2d_117\">\n    <path d=\"M 49.633125 139.5 \nL 69.163125 119.841432 \nL 88.693125 109.214545 \nL 108.223125 107.771822 \nL 127.753125 105.291042 \nL 147.283125 109.155897 \nL 166.813125 100.118352 \nL 186.343125 99.567067 \nL 205.873125 98.663899 \n\" clip-path=\"url(#pc0d9cdc1d7)\" style=\"fill: none; stroke-dasharray: 9.6,2.4,1.5,2.4; stroke-dashoffset: 0; stroke: #2ca02c; stroke-width: 1.5\"/>\n   </g>\n   <g id=\"line2d_118\">\n    <path d=\"M 34.954394 13.5 \nL 44.698573 14.45119 \nL 54.442752 25.548201 \nL 64.186931 52.810159 \nL 73.93111 80.487802 \nL 83.675289 91.744031 \nL 93.419468 97.026969 \nL 103.163647 101.37111 \nL 112.907826 104.220166 \nL 122.652006 106.420318 \nL 132.396185 109.255193 \nL 142.140364 110.087208 \nL 151.884543 111.585647 \nL 161.628722 121.781612 \nL 171.372901 124.588935 \nL 181.11708 124.963033 \nL 190.861259 126.755198 \nL 200.605438 126.88247 \nL 210.349618 128.227959 \nL 220.093797 128.697603 \n\" clip-path=\"url(#pc0d9cdc1d7)\" style=\"fill: none; stroke: #1f77b4; stroke-width: 1.5; stroke-linecap: square\"/>\n   </g>\n   <g id=\"line2d_119\">\n    <path d=\"M 49.633125 16.353303 \nL 69.163125 75.580956 \nL 88.693125 96.043269 \nL 108.223125 102.516414 \nL 127.753125 105.568264 \nL 147.283125 99.31998 \nL 166.813125 122.83022 \nL 186.343125 126.300134 \nL 205.873125 128.447859 \n\" clip-path=\"url(#pc0d9cdc1d7)\" style=\"fill: none; stroke-dasharray: 5.55,2.4; stroke-dashoffset: 0; stroke: #ff7f0e; stroke-width: 1.5\"/>\n   </g>\n   <g id=\"line2d_120\">\n    <path d=\"M 49.633125 139.5 \nL 69.163125 119.841432 \nL 88.693125 109.214545 \nL 108.223125 107.771822 \nL 127.753125 105.291042 \nL 147.283125 109.155897 \nL 166.813125 100.118352 \nL 186.343125 99.567067 \nL 205.873125 98.663899 \n\" clip-path=\"url(#pc0d9cdc1d7)\" style=\"fill: none; stroke-dasharray: 9.6,2.4,1.5,2.4; stroke-dashoffset: 0; stroke: #2ca02c; stroke-width: 1.5\"/>\n   </g>\n   <g id=\"line2d_121\">\n    <path d=\"M 34.954394 13.5 \nL 44.698573 14.45119 \nL 54.442752 25.548201 \nL 64.186931 52.810159 \nL 73.93111 80.487802 \nL 83.675289 91.744031 \nL 93.419468 97.026969 \nL 103.163647 101.37111 \nL 112.907826 104.220166 \nL 122.652006 106.420318 \nL 132.396185 109.255193 \nL 142.140364 110.087208 \nL 151.884543 111.585647 \nL 161.628722 121.781612 \nL 171.372901 124.588935 \nL 181.11708 124.963033 \nL 190.861259 126.755198 \nL 200.605438 126.88247 \nL 210.349618 128.227959 \nL 220.093797 128.697603 \n\" clip-path=\"url(#pc0d9cdc1d7)\" style=\"fill: none; stroke: #1f77b4; stroke-width: 1.5; stroke-linecap: square\"/>\n   </g>\n   <g id=\"line2d_122\">\n    <path d=\"M 49.633125 16.353303 \nL 69.163125 75.580956 \nL 88.693125 96.043269 \nL 108.223125 102.516414 \nL 127.753125 105.568264 \nL 147.283125 99.31998 \nL 166.813125 122.83022 \nL 186.343125 126.300134 \nL 205.873125 128.447859 \nL 225.403125 125.063064 \n\" clip-path=\"url(#pc0d9cdc1d7)\" style=\"fill: none; stroke-dasharray: 5.55,2.4; stroke-dashoffset: 0; stroke: #ff7f0e; stroke-width: 1.5\"/>\n   </g>\n   <g id=\"line2d_123\">\n    <path d=\"M 49.633125 139.5 \nL 69.163125 119.841432 \nL 88.693125 109.214545 \nL 108.223125 107.771822 \nL 127.753125 105.291042 \nL 147.283125 109.155897 \nL 166.813125 100.118352 \nL 186.343125 99.567067 \nL 205.873125 98.663899 \n\" clip-path=\"url(#pc0d9cdc1d7)\" style=\"fill: none; stroke-dasharray: 9.6,2.4,1.5,2.4; stroke-dashoffset: 0; stroke: #2ca02c; stroke-width: 1.5\"/>\n   </g>\n   <g id=\"line2d_124\">\n    <path d=\"M 34.954394 13.5 \nL 44.698573 14.45119 \nL 54.442752 25.548201 \nL 64.186931 52.810159 \nL 73.93111 80.487802 \nL 83.675289 91.744031 \nL 93.419468 97.026969 \nL 103.163647 101.37111 \nL 112.907826 104.220166 \nL 122.652006 106.420318 \nL 132.396185 109.255193 \nL 142.140364 110.087208 \nL 151.884543 111.585647 \nL 161.628722 121.781612 \nL 171.372901 124.588935 \nL 181.11708 124.963033 \nL 190.861259 126.755198 \nL 200.605438 126.88247 \nL 210.349618 128.227959 \nL 220.093797 128.697603 \n\" clip-path=\"url(#pc0d9cdc1d7)\" style=\"fill: none; stroke: #1f77b4; stroke-width: 1.5; stroke-linecap: square\"/>\n   </g>\n   <g id=\"line2d_125\">\n    <path d=\"M 49.633125 16.353303 \nL 69.163125 75.580956 \nL 88.693125 96.043269 \nL 108.223125 102.516414 \nL 127.753125 105.568264 \nL 147.283125 99.31998 \nL 166.813125 122.83022 \nL 186.343125 126.300134 \nL 205.873125 128.447859 \nL 225.403125 125.063064 \n\" clip-path=\"url(#pc0d9cdc1d7)\" style=\"fill: none; stroke-dasharray: 5.55,2.4; stroke-dashoffset: 0; stroke: #ff7f0e; stroke-width: 1.5\"/>\n   </g>\n   <g id=\"line2d_126\">\n    <path d=\"M 49.633125 139.5 \nL 69.163125 119.841432 \nL 88.693125 109.214545 \nL 108.223125 107.771822 \nL 127.753125 105.291042 \nL 147.283125 109.155897 \nL 166.813125 100.118352 \nL 186.343125 99.567067 \nL 205.873125 98.663899 \nL 225.403125 99.889627 \n\" clip-path=\"url(#pc0d9cdc1d7)\" style=\"fill: none; stroke-dasharray: 9.6,2.4,1.5,2.4; stroke-dashoffset: 0; stroke: #2ca02c; stroke-width: 1.5\"/>\n   </g>\n   <g id=\"patch_3\">\n    <path d=\"M 30.103125 145.8 \nL 30.103125 7.2 \n\" style=\"fill: none; stroke: #000000; stroke-width: 0.8; stroke-linejoin: miter; stroke-linecap: square\"/>\n   </g>\n   <g id=\"patch_4\">\n    <path d=\"M 225.403125 145.8 \nL 225.403125 7.2 \n\" style=\"fill: none; stroke: #000000; stroke-width: 0.8; stroke-linejoin: miter; stroke-linecap: square\"/>\n   </g>\n   <g id=\"patch_5\">\n    <path d=\"M 30.103125 145.8 \nL 225.403125 145.8 \n\" style=\"fill: none; stroke: #000000; stroke-width: 0.8; stroke-linejoin: miter; stroke-linecap: square\"/>\n   </g>\n   <g id=\"patch_6\">\n    <path d=\"M 30.103125 7.2 \nL 225.403125 7.2 \n\" style=\"fill: none; stroke: #000000; stroke-width: 0.8; stroke-linejoin: miter; stroke-linecap: square\"/>\n   </g>\n   <g id=\"legend_1\">\n    <g id=\"patch_7\">\n     <path d=\"M 138.8125 60.06875 \nL 218.403125 60.06875 \nQ 220.403125 60.06875 220.403125 58.06875 \nL 220.403125 14.2 \nQ 220.403125 12.2 218.403125 12.2 \nL 138.8125 12.2 \nQ 136.8125 12.2 136.8125 14.2 \nL 136.8125 58.06875 \nQ 136.8125 60.06875 138.8125 60.06875 \nz\n\" style=\"fill: #ffffff; opacity: 0.8; stroke: #cccccc; stroke-linejoin: miter\"/>\n    </g>\n    <g id=\"line2d_127\">\n     <path d=\"M 140.8125 20.298438 \nL 150.8125 20.298438 \nL 160.8125 20.298438 \n\" style=\"fill: none; stroke: #1f77b4; stroke-width: 1.5; stroke-linecap: square\"/>\n    </g>\n    <g id=\"text_12\">\n     <!-- train_loss -->\n     <g transform=\"translate(168.8125 23.798438) scale(0.1 -0.1)\">\n      <defs>\n       <path id=\"DejaVuSans-74\" d=\"M 1172 4494 \nL 1172 3500 \nL 2356 3500 \nL 2356 3053 \nL 1172 3053 \nL 1172 1153 \nQ 1172 725 1289 603 \nQ 1406 481 1766 481 \nL 2356 481 \nL 2356 0 \nL 1766 0 \nQ 1100 0 847 248 \nQ 594 497 594 1153 \nL 594 3053 \nL 172 3053 \nL 172 3500 \nL 594 3500 \nL 594 4494 \nL 1172 4494 \nz\n\" transform=\"scale(0.015625)\"/>\n       <path id=\"DejaVuSans-72\" d=\"M 2631 2963 \nQ 2534 3019 2420 3045 \nQ 2306 3072 2169 3072 \nQ 1681 3072 1420 2755 \nQ 1159 2438 1159 1844 \nL 1159 0 \nL 581 0 \nL 581 3500 \nL 1159 3500 \nL 1159 2956 \nQ 1341 3275 1631 3429 \nQ 1922 3584 2338 3584 \nQ 2397 3584 2469 3576 \nQ 2541 3569 2628 3553 \nL 2631 2963 \nz\n\" transform=\"scale(0.015625)\"/>\n       <path id=\"DejaVuSans-61\" d=\"M 2194 1759 \nQ 1497 1759 1228 1600 \nQ 959 1441 959 1056 \nQ 959 750 1161 570 \nQ 1363 391 1709 391 \nQ 2188 391 2477 730 \nQ 2766 1069 2766 1631 \nL 2766 1759 \nL 2194 1759 \nz\nM 3341 1997 \nL 3341 0 \nL 2766 0 \nL 2766 531 \nQ 2569 213 2275 61 \nQ 1981 -91 1556 -91 \nQ 1019 -91 701 211 \nQ 384 513 384 1019 \nQ 384 1609 779 1909 \nQ 1175 2209 1959 2209 \nL 2766 2209 \nL 2766 2266 \nQ 2766 2663 2505 2880 \nQ 2244 3097 1772 3097 \nQ 1472 3097 1187 3025 \nQ 903 2953 641 2809 \nL 641 3341 \nQ 956 3463 1253 3523 \nQ 1550 3584 1831 3584 \nQ 2591 3584 2966 3190 \nQ 3341 2797 3341 1997 \nz\n\" transform=\"scale(0.015625)\"/>\n       <path id=\"DejaVuSans-69\" d=\"M 603 3500 \nL 1178 3500 \nL 1178 0 \nL 603 0 \nL 603 3500 \nz\nM 603 4863 \nL 1178 4863 \nL 1178 4134 \nL 603 4134 \nL 603 4863 \nz\n\" transform=\"scale(0.015625)\"/>\n       <path id=\"DejaVuSans-6e\" d=\"M 3513 2113 \nL 3513 0 \nL 2938 0 \nL 2938 2094 \nQ 2938 2591 2744 2837 \nQ 2550 3084 2163 3084 \nQ 1697 3084 1428 2787 \nQ 1159 2491 1159 1978 \nL 1159 0 \nL 581 0 \nL 581 3500 \nL 1159 3500 \nL 1159 2956 \nQ 1366 3272 1645 3428 \nQ 1925 3584 2291 3584 \nQ 2894 3584 3203 3211 \nQ 3513 2838 3513 2113 \nz\n\" transform=\"scale(0.015625)\"/>\n       <path id=\"DejaVuSans-5f\" d=\"M 3263 -1063 \nL 3263 -1509 \nL -63 -1509 \nL -63 -1063 \nL 3263 -1063 \nz\n\" transform=\"scale(0.015625)\"/>\n       <path id=\"DejaVuSans-6c\" d=\"M 603 4863 \nL 1178 4863 \nL 1178 0 \nL 603 0 \nL 603 4863 \nz\n\" transform=\"scale(0.015625)\"/>\n       <path id=\"DejaVuSans-73\" d=\"M 2834 3397 \nL 2834 2853 \nQ 2591 2978 2328 3040 \nQ 2066 3103 1784 3103 \nQ 1356 3103 1142 2972 \nQ 928 2841 928 2578 \nQ 928 2378 1081 2264 \nQ 1234 2150 1697 2047 \nL 1894 2003 \nQ 2506 1872 2764 1633 \nQ 3022 1394 3022 966 \nQ 3022 478 2636 193 \nQ 2250 -91 1575 -91 \nQ 1294 -91 989 -36 \nQ 684 19 347 128 \nL 347 722 \nQ 666 556 975 473 \nQ 1284 391 1588 391 \nQ 1994 391 2212 530 \nQ 2431 669 2431 922 \nQ 2431 1156 2273 1281 \nQ 2116 1406 1581 1522 \nL 1381 1569 \nQ 847 1681 609 1914 \nQ 372 2147 372 2553 \nQ 372 3047 722 3315 \nQ 1072 3584 1716 3584 \nQ 2034 3584 2315 3537 \nQ 2597 3491 2834 3397 \nz\n\" transform=\"scale(0.015625)\"/>\n      </defs>\n      <use xlink:href=\"#DejaVuSans-74\"/>\n      <use xlink:href=\"#DejaVuSans-72\" x=\"39.208984\"/>\n      <use xlink:href=\"#DejaVuSans-61\" x=\"80.322266\"/>\n      <use xlink:href=\"#DejaVuSans-69\" x=\"141.601562\"/>\n      <use xlink:href=\"#DejaVuSans-6e\" x=\"169.384766\"/>\n      <use xlink:href=\"#DejaVuSans-5f\" x=\"232.763672\"/>\n      <use xlink:href=\"#DejaVuSans-6c\" x=\"282.763672\"/>\n      <use xlink:href=\"#DejaVuSans-6f\" x=\"310.546875\"/>\n      <use xlink:href=\"#DejaVuSans-73\" x=\"371.728516\"/>\n      <use xlink:href=\"#DejaVuSans-73\" x=\"423.828125\"/>\n     </g>\n    </g>\n    <g id=\"line2d_128\">\n     <path d=\"M 140.8125 35.254688 \nL 150.8125 35.254688 \nL 160.8125 35.254688 \n\" style=\"fill: none; stroke-dasharray: 5.55,2.4; stroke-dashoffset: 0; stroke: #ff7f0e; stroke-width: 1.5\"/>\n    </g>\n    <g id=\"text_13\">\n     <!-- val_loss -->\n     <g transform=\"translate(168.8125 38.754688) scale(0.1 -0.1)\">\n      <defs>\n       <path id=\"DejaVuSans-76\" d=\"M 191 3500 \nL 800 3500 \nL 1894 563 \nL 2988 3500 \nL 3597 3500 \nL 2284 0 \nL 1503 0 \nL 191 3500 \nz\n\" transform=\"scale(0.015625)\"/>\n      </defs>\n      <use xlink:href=\"#DejaVuSans-76\"/>\n      <use xlink:href=\"#DejaVuSans-61\" x=\"59.179688\"/>\n      <use xlink:href=\"#DejaVuSans-6c\" x=\"120.458984\"/>\n      <use xlink:href=\"#DejaVuSans-5f\" x=\"148.242188\"/>\n      <use xlink:href=\"#DejaVuSans-6c\" x=\"198.242188\"/>\n      <use xlink:href=\"#DejaVuSans-6f\" x=\"226.025391\"/>\n      <use xlink:href=\"#DejaVuSans-73\" x=\"287.207031\"/>\n      <use xlink:href=\"#DejaVuSans-73\" x=\"339.306641\"/>\n     </g>\n    </g>\n    <g id=\"line2d_129\">\n     <path d=\"M 140.8125 50.210938 \nL 150.8125 50.210938 \nL 160.8125 50.210938 \n\" style=\"fill: none; stroke-dasharray: 9.6,2.4,1.5,2.4; stroke-dashoffset: 0; stroke: #2ca02c; stroke-width: 1.5\"/>\n    </g>\n    <g id=\"text_14\">\n     <!-- val_acc -->\n     <g transform=\"translate(168.8125 53.710938) scale(0.1 -0.1)\">\n      <use xlink:href=\"#DejaVuSans-76\"/>\n      <use xlink:href=\"#DejaVuSans-61\" x=\"59.179688\"/>\n      <use xlink:href=\"#DejaVuSans-6c\" x=\"120.458984\"/>\n      <use xlink:href=\"#DejaVuSans-5f\" x=\"148.242188\"/>\n      <use xlink:href=\"#DejaVuSans-61\" x=\"198.242188\"/>\n      <use xlink:href=\"#DejaVuSans-63\" x=\"259.521484\"/>\n      <use xlink:href=\"#DejaVuSans-63\" x=\"314.501953\"/>\n     </g>\n    </g>\n   </g>\n  </g>\n </g>\n <defs>\n  <clipPath id=\"pc0d9cdc1d7\">\n   <rect x=\"30.103125\" y=\"7.2\" width=\"195.3\" height=\"138.6\"/>\n  </clipPath>\n </defs>\n</svg>\n"
          },
          "metadata": {}
        }
      ],
      "source": [
        "model = NiN(lr=0.05)\n",
        "trainer = d2l.Trainer(max_epochs=10, num_gpus=1)\n",
        "data = d2l.FashionMNIST(batch_size=128, resize=(224, 224))\n",
        "model.apply_init([next(iter(data.get_dataloader(True)))[0]], d2l.init_cnn)\n",
        "trainer.fit(model, data)"
      ]
    },
    {
      "cell_type": "markdown",
      "metadata": {
        "origin_pos": 21,
        "id": "182ce04f"
      },
      "source": [
        "## Summary\n",
        "\n",
        "NiN has dramatically fewer parameters than AlexNet and VGG. This stems primarily from the fact that it needs no giant fully connected layers. Instead, it uses global average pooling to aggregate across all image locations after the last stage of the network body. This obviates the need for expensive (learned) reduction operations and replaces them by a simple average. What surprised researchers at the time was the fact that this averaging operation did not harm accuracy. Note that averaging across a low-resolution representation (with many channels) also adds to the amount of translation invariance that the network can handle.\n",
        "\n",
        "Choosing fewer convolutions with wide kernels and replacing them by $1 \\times 1$ convolutions aids the quest for fewer parameters further. It can cater for a significant amount of nonlinearity across channels within any given location. Both $1 \\times 1$ convolutions and global average pooling significantly influenced subsequent CNN designs.\n",
        "\n",
        "## Exercises\n",
        "\n",
        "1. Why are there two $1\\times 1$ convolutional layers per NiN block? Increase their number to three. Reduce their number to one. What changes?\n",
        "1. What changes if you replace the $1 \\times 1$ convolutions by $3 \\times 3$ convolutions?\n",
        "1. What happens if you replace the global average pooling by a fully connected layer (speed, accuracy, number of parameters)?\n",
        "1. Calculate the resource usage for NiN.\n",
        "    1. What is the number of parameters?\n",
        "    1. What is the amount of computation?\n",
        "    1. What is the amount of memory needed during training?\n",
        "    1. What is the amount of memory needed during prediction?\n",
        "1. What are possible problems with reducing the $384 \\times 5 \\times 5$ representation to a $10 \\times 5 \\times 5$ representation in one step?\n",
        "1. Use the structural design decisions in VGG that led to VGG-11, VGG-16, and VGG-19 to design a family of NiN-like networks.\n"
      ]
    },
    {
      "cell_type": "markdown",
      "source": [
        "##Jawaban"
      ],
      "metadata": {
        "id": "n8XpAtHFbaqP"
      }
    },
    {
      "cell_type": "markdown",
      "source": [
        "###1."
      ],
      "metadata": {
        "id": "G9PoOuW-bcOo"
      }
    },
    {
      "cell_type": "markdown",
      "source": [
        "Penggunaan dua konvolusi 1x1 dalam setiap blok NiN memiliki beberapa tujuan:\n",
        "- Non-linearitas antar channel: Konvolusi 1×1 memungkinkan jaringan untuk memperkenalkan non-linearitas di antara channel fitur yang berbeda dalam lokasi spasial yang sama, meningkatkan kekuatan representasi.\n",
        "- Pengurangan dimensi: Konvolusi 1x1 juga dapat bertindak sebagai lapisan bottleneck, mengurangi jumlah channel dan karenanya menurunkan jumlah parameter dan biaya komputasi.\n",
        "- Fleksibelitas yang meningkat: Menggunakan dua konvolusi 1x1 meningkatkan kapasitas jaringan untuk mempelajari fitur kompleks pada setiap tahap dengan menumpuk beberapa lapisan."
      ],
      "metadata": {
        "id": "-F_lXCvdbeTU"
      }
    },
    {
      "cell_type": "markdown",
      "source": [
        "###2."
      ],
      "metadata": {
        "id": "8RZL2D1FbxyZ"
      }
    },
    {
      "cell_type": "markdown",
      "source": [
        "Mengganti konvolusi 1×1 dengan konvolusi 3×3 memiliki efek berikut:\n",
        "- Peningkatan parameter: Konvolusi 3×3 menggunakan 9 bobot per filter, bukan 1, sehingga secara signifikan meningkatkan jumlah parameter.\n",
        "- Peningkatan biaya komputasi: Ukuran kernel yang lebih besar meningkatkan jumlah operasi titik-apung (FLOPs) per lapisan, menghasilkan biaya komputasi yang lebih tinggi dan waktu pelatihan/inferensi yang lebih lama.\n",
        "- Ekstraksi fitur spasial yang lebih baik: Meskipun konvolusi 1×1 berfokus pada interaksi antar channel, konvolusi 3×3 juga mengekstrak fitur spasial, yang dapat meningkatkan kemampuan jaringan untuk menangkap hierarki spasial."
      ],
      "metadata": {
        "id": "nUz_ffCFcy17"
      }
    },
    {
      "cell_type": "markdown",
      "source": [
        "###3."
      ],
      "metadata": {
        "id": "gnfme8I8b0oW"
      }
    },
    {
      "cell_type": "markdown",
      "source": [
        "Mengganti global average pooling dengan lapisan fully connected akan:\n",
        "- Meningkatkan jumlah parameter: Lapisan fully connected mengandung sejumlah besar parameter dibandingkan dengan global average pooling. Misalnya, berpindah dari output 256-channel ke lapisan fully connected 1000-kelas akan menghasilkan ribuan bobot.\n",
        "- Meningkatkan biaya komputasi: Lapisan fully connected memiliki tuntutan komputasi yang lebih tinggi, yang akan memperlambat baik pelatihan maupun inferensi.\n",
        "- Mengurangi invariansi translasi: Global average pooling menambahkan invariansi translasi karena merata-ratakan seluruh dimensi spasial, yang hilang ketika beralih ke lapisan fully connected."
      ],
      "metadata": {
        "id": "0IPadaOxc5bv"
      }
    },
    {
      "cell_type": "markdown",
      "source": [
        "###4.1."
      ],
      "metadata": {
        "id": "8A9C0XMFb1wN"
      }
    },
    {
      "cell_type": "markdown",
      "source": [
        "- Lapisan konvolusi: Sumber utama parameter adalah lapisan konvolusi, terutama konvolusi 1×1.\n",
        "- Global Average Pooling: Lapisan ini tidak memiliki parameter, karena melakukan operasi rata-rata sederhana.\n",
        "- Jumlah total parameter untuk NiN jauh lebih kecil daripada model seperti AlexNet dan VGG karena menghindari lapisan fully connected yang besar."
      ],
      "metadata": {
        "id": "6Gx7yvOtdOPm"
      }
    },
    {
      "cell_type": "markdown",
      "source": [
        "###4.2."
      ],
      "metadata": {
        "id": "jlk_fl1zcgzi"
      }
    },
    {
      "cell_type": "markdown",
      "source": [
        "- Lapisan konvolusi: Setiap konvolusi 1x1 melibatkan mengalikan fitur input dengan bobot, menghasilkan operasi titik-apung (FLOPs) yang relatif sedikit.\n",
        "- Global Average Pooling: Operasi ini murah secara komputasi, karena hanya merata-ratakan seluruh dimensi spasial.\n",
        "- Dibandingkan dengan AlexNet atau VGG, NiN memiliki lebih sedikit FLOPs karena tidak adanya lapisan fully connected dan konvolusi 1x1 yang efisien."
      ],
      "metadata": {
        "id": "YHrX6hODdbTY"
      }
    },
    {
      "cell_type": "markdown",
      "source": [
        "###4.3."
      ],
      "metadata": {
        "id": "3Z1u94jecjME"
      }
    },
    {
      "cell_type": "markdown",
      "source": [
        "- Parameter model: Menyimpan bobot konvolusi 1x1 dan lapisan lainnya.\n",
        "- Aktivasi dan gradien: Memori juga diperlukan untuk menyimpan aktivasi intermediet dan gradien selama backpropagation.\n",
        "- Penggunaan memori NiN jauh lebih rendah daripada AlexNet dan VGG, karena memiliki lebih sedikit parameter dan tidak ada lapisan fully connected yang besar."
      ],
      "metadata": {
        "id": "dHbaYtVvdjri"
      }
    },
    {
      "cell_type": "markdown",
      "source": [
        "###4.4."
      ],
      "metadata": {
        "id": "dllgv4L5ckpJ"
      }
    },
    {
      "cell_type": "markdown",
      "source": [
        "Selama inferensi, hanya bobot dan aktivasi model yang disimpan. Karena NiN memiliki lebih sedikit parameter daripada model yang lebih besar (seperti AlexNet dan VGG), NiN membutuhkan memori yang lebih sedikit selama prediksi."
      ],
      "metadata": {
        "id": "wFzk99GFdtT4"
      }
    },
    {
      "cell_type": "markdown",
      "source": [
        "###5."
      ],
      "metadata": {
        "id": "A6pX-6Vab3oN"
      }
    },
    {
      "cell_type": "markdown",
      "source": [
        "- Pengurangan yang begitu agresif dalam jumlah channel dapat menyebabkan jaringan kehilangan informasi penting yang dipelajari dalam lapisan sebelumnya, karena akan membuang sejumlah besar representasi fitur.\n",
        "- Jika pengurangan terlalu tiba-tiba, dapat menyebabkan masalah dengan gradien selama backpropagation, terutama jika fungsi aktivasi jenuh setelah pengurangan yang drastis.\n",
        "-  Mengurangi dimensi terlalu cepat dapat mencegah jaringan mengekstrak fitur hierarkis secara efektif, yang akan berdampak negatif pada kinerja."
      ],
      "metadata": {
        "id": "yZRWl_cadyam"
      }
    },
    {
      "cell_type": "markdown",
      "source": [
        "###6."
      ],
      "metadata": {
        "id": "Ikb1pMnFb507"
      }
    },
    {
      "cell_type": "markdown",
      "metadata": {
        "origin_pos": 1,
        "id": "8979a666"
      },
      "source": [
        "# 8.4. Multi-Branch Networks  (GoogLeNet)"
      ]
    },
    {
      "cell_type": "code",
      "source": [
        "import torch\n",
        "from torch import nn\n",
        "from torch.nn import functional as F\n",
        "from d2l import torch as d2l"
      ],
      "metadata": {
        "id": "BndlzLtO87AA"
      },
      "execution_count": null,
      "outputs": []
    },
    {
      "cell_type": "code",
      "execution_count": null,
      "metadata": {
        "execution": {
          "iopub.execute_input": "2023-08-18T20:12:46.235999Z",
          "iopub.status.busy": "2023-08-18T20:12:46.235477Z",
          "iopub.status.idle": "2023-08-18T20:12:46.245899Z",
          "shell.execute_reply": "2023-08-18T20:12:46.244271Z"
        },
        "origin_pos": 8,
        "tab": [
          "pytorch"
        ],
        "id": "7deda9e0"
      },
      "outputs": [],
      "source": [
        "class Inception(nn.Module):\n",
        "    # c1--c4 are the number of output channels for each branch\n",
        "    def __init__(self, c1, c2, c3, c4, **kwargs):\n",
        "        super(Inception, self).__init__(**kwargs)\n",
        "        # Branch 1\n",
        "        self.b1_1 = nn.LazyConv2d(c1, kernel_size=1)\n",
        "        # Branch 2\n",
        "        self.b2_1 = nn.LazyConv2d(c2[0], kernel_size=1)\n",
        "        self.b2_2 = nn.LazyConv2d(c2[1], kernel_size=3, padding=1)\n",
        "        # Branch 3\n",
        "        self.b3_1 = nn.LazyConv2d(c3[0], kernel_size=1)\n",
        "        self.b3_2 = nn.LazyConv2d(c3[1], kernel_size=5, padding=2)\n",
        "        # Branch 4\n",
        "        self.b4_1 = nn.MaxPool2d(kernel_size=3, stride=1, padding=1)\n",
        "        self.b4_2 = nn.LazyConv2d(c4, kernel_size=1)\n",
        "\n",
        "    def forward(self, x):\n",
        "        b1 = F.relu(self.b1_1(x))\n",
        "        b2 = F.relu(self.b2_2(F.relu(self.b2_1(x))))\n",
        "        b3 = F.relu(self.b3_2(F.relu(self.b3_1(x))))\n",
        "        b4 = F.relu(self.b4_2(self.b4_1(x)))\n",
        "        return torch.cat((b1, b2, b3, b4), dim=1)"
      ]
    },
    {
      "cell_type": "code",
      "execution_count": null,
      "metadata": {
        "execution": {
          "iopub.execute_input": "2023-08-18T20:12:46.250221Z",
          "iopub.status.busy": "2023-08-18T20:12:46.249461Z",
          "iopub.status.idle": "2023-08-18T20:12:46.255915Z",
          "shell.execute_reply": "2023-08-18T20:12:46.254721Z"
        },
        "origin_pos": 12,
        "tab": [
          "pytorch"
        ],
        "id": "95b8f516"
      },
      "outputs": [],
      "source": [
        "class GoogleNet(d2l.Classifier):\n",
        "    def b1(self):\n",
        "        return nn.Sequential(\n",
        "            nn.LazyConv2d(64, kernel_size=7, stride=2, padding=3),\n",
        "            nn.ReLU(), nn.MaxPool2d(kernel_size=3, stride=2, padding=1))"
      ]
    },
    {
      "cell_type": "code",
      "execution_count": null,
      "metadata": {
        "execution": {
          "iopub.execute_input": "2023-08-18T20:12:46.260637Z",
          "iopub.status.busy": "2023-08-18T20:12:46.259867Z",
          "iopub.status.idle": "2023-08-18T20:12:46.265450Z",
          "shell.execute_reply": "2023-08-18T20:12:46.264324Z"
        },
        "origin_pos": 15,
        "tab": [
          "pytorch"
        ],
        "id": "f2f1ae36"
      },
      "outputs": [],
      "source": [
        "@d2l.add_to_class(GoogleNet)\n",
        "def b2(self):\n",
        "    return nn.Sequential(\n",
        "        nn.LazyConv2d(64, kernel_size=1), nn.ReLU(),\n",
        "        nn.LazyConv2d(192, kernel_size=3, padding=1), nn.ReLU(),\n",
        "        nn.MaxPool2d(kernel_size=3, stride=2, padding=1))"
      ]
    },
    {
      "cell_type": "code",
      "execution_count": null,
      "metadata": {
        "execution": {
          "iopub.execute_input": "2023-08-18T20:12:46.269744Z",
          "iopub.status.busy": "2023-08-18T20:12:46.269267Z",
          "iopub.status.idle": "2023-08-18T20:12:46.276795Z",
          "shell.execute_reply": "2023-08-18T20:12:46.275528Z"
        },
        "origin_pos": 17,
        "tab": [
          "pytorch"
        ],
        "id": "33a37805"
      },
      "outputs": [],
      "source": [
        "@d2l.add_to_class(GoogleNet)\n",
        "def b3(self):\n",
        "    return nn.Sequential(Inception(64, (96, 128), (16, 32), 32),\n",
        "                         Inception(128, (128, 192), (32, 96), 64),\n",
        "                         nn.MaxPool2d(kernel_size=3, stride=2, padding=1))"
      ]
    },
    {
      "cell_type": "code",
      "execution_count": null,
      "metadata": {
        "execution": {
          "iopub.execute_input": "2023-08-18T20:12:46.280409Z",
          "iopub.status.busy": "2023-08-18T20:12:46.280085Z",
          "iopub.status.idle": "2023-08-18T20:12:46.288926Z",
          "shell.execute_reply": "2023-08-18T20:12:46.287339Z"
        },
        "origin_pos": 19,
        "tab": [
          "pytorch"
        ],
        "id": "2beb4b7a"
      },
      "outputs": [],
      "source": [
        "@d2l.add_to_class(GoogleNet)\n",
        "def b4(self):\n",
        "    return nn.Sequential(Inception(192, (96, 208), (16, 48), 64),\n",
        "                         Inception(160, (112, 224), (24, 64), 64),\n",
        "                         Inception(128, (128, 256), (24, 64), 64),\n",
        "                         Inception(112, (144, 288), (32, 64), 64),\n",
        "                         Inception(256, (160, 320), (32, 128), 128),\n",
        "                         nn.MaxPool2d(kernel_size=3, stride=2, padding=1))"
      ]
    },
    {
      "cell_type": "code",
      "execution_count": null,
      "metadata": {
        "execution": {
          "iopub.execute_input": "2023-08-18T20:12:46.294877Z",
          "iopub.status.busy": "2023-08-18T20:12:46.293900Z",
          "iopub.status.idle": "2023-08-18T20:12:46.301477Z",
          "shell.execute_reply": "2023-08-18T20:12:46.300150Z"
        },
        "origin_pos": 21,
        "tab": [
          "pytorch"
        ],
        "id": "8b836927"
      },
      "outputs": [],
      "source": [
        "@d2l.add_to_class(GoogleNet)\n",
        "def b5(self):\n",
        "    return nn.Sequential(Inception(256, (160, 320), (32, 128), 128),\n",
        "                         Inception(384, (192, 384), (48, 128), 128),\n",
        "                         nn.AdaptiveAvgPool2d((1,1)), nn.Flatten())"
      ]
    },
    {
      "cell_type": "code",
      "execution_count": null,
      "metadata": {
        "execution": {
          "iopub.execute_input": "2023-08-18T20:12:46.306521Z",
          "iopub.status.busy": "2023-08-18T20:12:46.305540Z",
          "iopub.status.idle": "2023-08-18T20:12:46.313597Z",
          "shell.execute_reply": "2023-08-18T20:12:46.312191Z"
        },
        "origin_pos": 23,
        "tab": [
          "pytorch"
        ],
        "id": "fe47c47d"
      },
      "outputs": [],
      "source": [
        "@d2l.add_to_class(GoogleNet)\n",
        "def __init__(self, lr=0.1, num_classes=10):\n",
        "    super(GoogleNet, self).__init__()\n",
        "    self.save_hyperparameters()\n",
        "    self.net = nn.Sequential(self.b1(), self.b2(), self.b3(), self.b4(),\n",
        "                             self.b5(), nn.LazyLinear(num_classes))\n",
        "    self.net.apply(d2l.init_cnn)"
      ]
    },
    {
      "cell_type": "code",
      "execution_count": null,
      "metadata": {
        "execution": {
          "iopub.execute_input": "2023-08-18T20:12:46.317969Z",
          "iopub.status.busy": "2023-08-18T20:12:46.316995Z",
          "iopub.status.idle": "2023-08-18T20:12:46.501717Z",
          "shell.execute_reply": "2023-08-18T20:12:46.500827Z"
        },
        "origin_pos": 25,
        "tab": [
          "pytorch"
        ],
        "id": "83b695b7",
        "outputId": "63c5d9e2-7b2c-4962-f527-87c0eb7aeb95",
        "colab": {
          "base_uri": "https://localhost:8080/"
        }
      },
      "outputs": [
        {
          "output_type": "stream",
          "name": "stdout",
          "text": [
            "Sequential output shape:\t torch.Size([1, 64, 24, 24])\n",
            "Sequential output shape:\t torch.Size([1, 192, 12, 12])\n",
            "Sequential output shape:\t torch.Size([1, 480, 6, 6])\n",
            "Sequential output shape:\t torch.Size([1, 832, 3, 3])\n",
            "Sequential output shape:\t torch.Size([1, 1024])\n",
            "Linear output shape:\t torch.Size([1, 10])\n"
          ]
        }
      ],
      "source": [
        "model = GoogleNet().layer_summary((1, 1, 96, 96))"
      ]
    },
    {
      "cell_type": "code",
      "execution_count": null,
      "metadata": {
        "execution": {
          "iopub.execute_input": "2023-08-18T20:12:46.505565Z",
          "iopub.status.busy": "2023-08-18T20:12:46.504978Z",
          "iopub.status.idle": "2023-08-18T20:16:06.908422Z",
          "shell.execute_reply": "2023-08-18T20:16:06.907202Z"
        },
        "origin_pos": 28,
        "tab": [
          "pytorch"
        ],
        "id": "d52cffee",
        "outputId": "9f3d3335-20cc-43a7-bf97-13eb1893f51a",
        "colab": {
          "base_uri": "https://localhost:8080/",
          "height": 266
        }
      },
      "outputs": [
        {
          "output_type": "display_data",
          "data": {
            "text/plain": [
              "<Figure size 350x250 with 1 Axes>"
            ],
            "image/svg+xml": "<?xml version=\"1.0\" encoding=\"utf-8\" standalone=\"no\"?>\n<!DOCTYPE svg PUBLIC \"-//W3C//DTD SVG 1.1//EN\"\n  \"http://www.w3.org/Graphics/SVG/1.1/DTD/svg11.dtd\">\n<svg xmlns:xlink=\"http://www.w3.org/1999/xlink\" width=\"238.965625pt\" height=\"183.35625pt\" viewBox=\"0 0 238.965625 183.35625\" xmlns=\"http://www.w3.org/2000/svg\" version=\"1.1\">\n <metadata>\n  <rdf:RDF xmlns:dc=\"http://purl.org/dc/elements/1.1/\" xmlns:cc=\"http://creativecommons.org/ns#\" xmlns:rdf=\"http://www.w3.org/1999/02/22-rdf-syntax-ns#\">\n   <cc:Work>\n    <dc:type rdf:resource=\"http://purl.org/dc/dcmitype/StillImage\"/>\n    <dc:date>2024-10-04T14:42:39.097712</dc:date>\n    <dc:format>image/svg+xml</dc:format>\n    <dc:creator>\n     <cc:Agent>\n      <dc:title>Matplotlib v3.7.2, https://matplotlib.org/</dc:title>\n     </cc:Agent>\n    </dc:creator>\n   </cc:Work>\n  </rdf:RDF>\n </metadata>\n <defs>\n  <style type=\"text/css\">*{stroke-linejoin: round; stroke-linecap: butt}</style>\n </defs>\n <g id=\"figure_1\">\n  <g id=\"patch_1\">\n   <path d=\"M 0 183.35625 \nL 238.965625 183.35625 \nL 238.965625 0 \nL 0 0 \nz\n\" style=\"fill: #ffffff\"/>\n  </g>\n  <g id=\"axes_1\">\n   <g id=\"patch_2\">\n    <path d=\"M 30.103125 145.8 \nL 225.403125 145.8 \nL 225.403125 7.2 \nL 30.103125 7.2 \nz\n\" style=\"fill: #ffffff\"/>\n   </g>\n   <g id=\"matplotlib.axis_1\">\n    <g id=\"xtick_1\">\n     <g id=\"line2d_1\">\n      <defs>\n       <path id=\"me8126bbc36\" d=\"M 0 0 \nL 0 3.5 \n\" style=\"stroke: #000000; stroke-width: 0.8\"/>\n      </defs>\n      <g>\n       <use xlink:href=\"#me8126bbc36\" x=\"30.103125\" y=\"145.8\" style=\"stroke: #000000; stroke-width: 0.8\"/>\n      </g>\n     </g>\n     <g id=\"text_1\">\n      <!-- 0 -->\n      <g transform=\"translate(26.921875 160.398438) scale(0.1 -0.1)\">\n       <defs>\n        <path id=\"DejaVuSans-30\" d=\"M 2034 4250 \nQ 1547 4250 1301 3770 \nQ 1056 3291 1056 2328 \nQ 1056 1369 1301 889 \nQ 1547 409 2034 409 \nQ 2525 409 2770 889 \nQ 3016 1369 3016 2328 \nQ 3016 3291 2770 3770 \nQ 2525 4250 2034 4250 \nz\nM 2034 4750 \nQ 2819 4750 3233 4129 \nQ 3647 3509 3647 2328 \nQ 3647 1150 3233 529 \nQ 2819 -91 2034 -91 \nQ 1250 -91 836 529 \nQ 422 1150 422 2328 \nQ 422 3509 836 4129 \nQ 1250 4750 2034 4750 \nz\n\" transform=\"scale(0.015625)\"/>\n       </defs>\n       <use xlink:href=\"#DejaVuSans-30\"/>\n      </g>\n     </g>\n    </g>\n    <g id=\"xtick_2\">\n     <g id=\"line2d_2\">\n      <g>\n       <use xlink:href=\"#me8126bbc36\" x=\"69.163125\" y=\"145.8\" style=\"stroke: #000000; stroke-width: 0.8\"/>\n      </g>\n     </g>\n     <g id=\"text_2\">\n      <!-- 2 -->\n      <g transform=\"translate(65.981875 160.398438) scale(0.1 -0.1)\">\n       <defs>\n        <path id=\"DejaVuSans-32\" d=\"M 1228 531 \nL 3431 531 \nL 3431 0 \nL 469 0 \nL 469 531 \nQ 828 903 1448 1529 \nQ 2069 2156 2228 2338 \nQ 2531 2678 2651 2914 \nQ 2772 3150 2772 3378 \nQ 2772 3750 2511 3984 \nQ 2250 4219 1831 4219 \nQ 1534 4219 1204 4116 \nQ 875 4013 500 3803 \nL 500 4441 \nQ 881 4594 1212 4672 \nQ 1544 4750 1819 4750 \nQ 2544 4750 2975 4387 \nQ 3406 4025 3406 3419 \nQ 3406 3131 3298 2873 \nQ 3191 2616 2906 2266 \nQ 2828 2175 2409 1742 \nQ 1991 1309 1228 531 \nz\n\" transform=\"scale(0.015625)\"/>\n       </defs>\n       <use xlink:href=\"#DejaVuSans-32\"/>\n      </g>\n     </g>\n    </g>\n    <g id=\"xtick_3\">\n     <g id=\"line2d_3\">\n      <g>\n       <use xlink:href=\"#me8126bbc36\" x=\"108.223125\" y=\"145.8\" style=\"stroke: #000000; stroke-width: 0.8\"/>\n      </g>\n     </g>\n     <g id=\"text_3\">\n      <!-- 4 -->\n      <g transform=\"translate(105.041875 160.398438) scale(0.1 -0.1)\">\n       <defs>\n        <path id=\"DejaVuSans-34\" d=\"M 2419 4116 \nL 825 1625 \nL 2419 1625 \nL 2419 4116 \nz\nM 2253 4666 \nL 3047 4666 \nL 3047 1625 \nL 3713 1625 \nL 3713 1100 \nL 3047 1100 \nL 3047 0 \nL 2419 0 \nL 2419 1100 \nL 313 1100 \nL 313 1709 \nL 2253 4666 \nz\n\" transform=\"scale(0.015625)\"/>\n       </defs>\n       <use xlink:href=\"#DejaVuSans-34\"/>\n      </g>\n     </g>\n    </g>\n    <g id=\"xtick_4\">\n     <g id=\"line2d_4\">\n      <g>\n       <use xlink:href=\"#me8126bbc36\" x=\"147.283125\" y=\"145.8\" style=\"stroke: #000000; stroke-width: 0.8\"/>\n      </g>\n     </g>\n     <g id=\"text_4\">\n      <!-- 6 -->\n      <g transform=\"translate(144.101875 160.398438) scale(0.1 -0.1)\">\n       <defs>\n        <path id=\"DejaVuSans-36\" d=\"M 2113 2584 \nQ 1688 2584 1439 2293 \nQ 1191 2003 1191 1497 \nQ 1191 994 1439 701 \nQ 1688 409 2113 409 \nQ 2538 409 2786 701 \nQ 3034 994 3034 1497 \nQ 3034 2003 2786 2293 \nQ 2538 2584 2113 2584 \nz\nM 3366 4563 \nL 3366 3988 \nQ 3128 4100 2886 4159 \nQ 2644 4219 2406 4219 \nQ 1781 4219 1451 3797 \nQ 1122 3375 1075 2522 \nQ 1259 2794 1537 2939 \nQ 1816 3084 2150 3084 \nQ 2853 3084 3261 2657 \nQ 3669 2231 3669 1497 \nQ 3669 778 3244 343 \nQ 2819 -91 2113 -91 \nQ 1303 -91 875 529 \nQ 447 1150 447 2328 \nQ 447 3434 972 4092 \nQ 1497 4750 2381 4750 \nQ 2619 4750 2861 4703 \nQ 3103 4656 3366 4563 \nz\n\" transform=\"scale(0.015625)\"/>\n       </defs>\n       <use xlink:href=\"#DejaVuSans-36\"/>\n      </g>\n     </g>\n    </g>\n    <g id=\"xtick_5\">\n     <g id=\"line2d_5\">\n      <g>\n       <use xlink:href=\"#me8126bbc36\" x=\"186.343125\" y=\"145.8\" style=\"stroke: #000000; stroke-width: 0.8\"/>\n      </g>\n     </g>\n     <g id=\"text_5\">\n      <!-- 8 -->\n      <g transform=\"translate(183.161875 160.398438) scale(0.1 -0.1)\">\n       <defs>\n        <path id=\"DejaVuSans-38\" d=\"M 2034 2216 \nQ 1584 2216 1326 1975 \nQ 1069 1734 1069 1313 \nQ 1069 891 1326 650 \nQ 1584 409 2034 409 \nQ 2484 409 2743 651 \nQ 3003 894 3003 1313 \nQ 3003 1734 2745 1975 \nQ 2488 2216 2034 2216 \nz\nM 1403 2484 \nQ 997 2584 770 2862 \nQ 544 3141 544 3541 \nQ 544 4100 942 4425 \nQ 1341 4750 2034 4750 \nQ 2731 4750 3128 4425 \nQ 3525 4100 3525 3541 \nQ 3525 3141 3298 2862 \nQ 3072 2584 2669 2484 \nQ 3125 2378 3379 2068 \nQ 3634 1759 3634 1313 \nQ 3634 634 3220 271 \nQ 2806 -91 2034 -91 \nQ 1263 -91 848 271 \nQ 434 634 434 1313 \nQ 434 1759 690 2068 \nQ 947 2378 1403 2484 \nz\nM 1172 3481 \nQ 1172 3119 1398 2916 \nQ 1625 2713 2034 2713 \nQ 2441 2713 2670 2916 \nQ 2900 3119 2900 3481 \nQ 2900 3844 2670 4047 \nQ 2441 4250 2034 4250 \nQ 1625 4250 1398 4047 \nQ 1172 3844 1172 3481 \nz\n\" transform=\"scale(0.015625)\"/>\n       </defs>\n       <use xlink:href=\"#DejaVuSans-38\"/>\n      </g>\n     </g>\n    </g>\n    <g id=\"xtick_6\">\n     <g id=\"line2d_6\">\n      <g>\n       <use xlink:href=\"#me8126bbc36\" x=\"225.403125\" y=\"145.8\" style=\"stroke: #000000; stroke-width: 0.8\"/>\n      </g>\n     </g>\n     <g id=\"text_6\">\n      <!-- 10 -->\n      <g transform=\"translate(219.040625 160.398438) scale(0.1 -0.1)\">\n       <defs>\n        <path id=\"DejaVuSans-31\" d=\"M 794 531 \nL 1825 531 \nL 1825 4091 \nL 703 3866 \nL 703 4441 \nL 1819 4666 \nL 2450 4666 \nL 2450 531 \nL 3481 531 \nL 3481 0 \nL 794 0 \nL 794 531 \nz\n\" transform=\"scale(0.015625)\"/>\n       </defs>\n       <use xlink:href=\"#DejaVuSans-31\"/>\n       <use xlink:href=\"#DejaVuSans-30\" x=\"63.623047\"/>\n      </g>\n     </g>\n    </g>\n    <g id=\"text_7\">\n     <!-- epoch -->\n     <g transform=\"translate(112.525 174.076563) scale(0.1 -0.1)\">\n      <defs>\n       <path id=\"DejaVuSans-65\" d=\"M 3597 1894 \nL 3597 1613 \nL 953 1613 \nQ 991 1019 1311 708 \nQ 1631 397 2203 397 \nQ 2534 397 2845 478 \nQ 3156 559 3463 722 \nL 3463 178 \nQ 3153 47 2828 -22 \nQ 2503 -91 2169 -91 \nQ 1331 -91 842 396 \nQ 353 884 353 1716 \nQ 353 2575 817 3079 \nQ 1281 3584 2069 3584 \nQ 2775 3584 3186 3129 \nQ 3597 2675 3597 1894 \nz\nM 3022 2063 \nQ 3016 2534 2758 2815 \nQ 2500 3097 2075 3097 \nQ 1594 3097 1305 2825 \nQ 1016 2553 972 2059 \nL 3022 2063 \nz\n\" transform=\"scale(0.015625)\"/>\n       <path id=\"DejaVuSans-70\" d=\"M 1159 525 \nL 1159 -1331 \nL 581 -1331 \nL 581 3500 \nL 1159 3500 \nL 1159 2969 \nQ 1341 3281 1617 3432 \nQ 1894 3584 2278 3584 \nQ 2916 3584 3314 3078 \nQ 3713 2572 3713 1747 \nQ 3713 922 3314 415 \nQ 2916 -91 2278 -91 \nQ 1894 -91 1617 61 \nQ 1341 213 1159 525 \nz\nM 3116 1747 \nQ 3116 2381 2855 2742 \nQ 2594 3103 2138 3103 \nQ 1681 3103 1420 2742 \nQ 1159 2381 1159 1747 \nQ 1159 1113 1420 752 \nQ 1681 391 2138 391 \nQ 2594 391 2855 752 \nQ 3116 1113 3116 1747 \nz\n\" transform=\"scale(0.015625)\"/>\n       <path id=\"DejaVuSans-6f\" d=\"M 1959 3097 \nQ 1497 3097 1228 2736 \nQ 959 2375 959 1747 \nQ 959 1119 1226 758 \nQ 1494 397 1959 397 \nQ 2419 397 2687 759 \nQ 2956 1122 2956 1747 \nQ 2956 2369 2687 2733 \nQ 2419 3097 1959 3097 \nz\nM 1959 3584 \nQ 2709 3584 3137 3096 \nQ 3566 2609 3566 1747 \nQ 3566 888 3137 398 \nQ 2709 -91 1959 -91 \nQ 1206 -91 779 398 \nQ 353 888 353 1747 \nQ 353 2609 779 3096 \nQ 1206 3584 1959 3584 \nz\n\" transform=\"scale(0.015625)\"/>\n       <path id=\"DejaVuSans-63\" d=\"M 3122 3366 \nL 3122 2828 \nQ 2878 2963 2633 3030 \nQ 2388 3097 2138 3097 \nQ 1578 3097 1268 2742 \nQ 959 2388 959 1747 \nQ 959 1106 1268 751 \nQ 1578 397 2138 397 \nQ 2388 397 2633 464 \nQ 2878 531 3122 666 \nL 3122 134 \nQ 2881 22 2623 -34 \nQ 2366 -91 2075 -91 \nQ 1284 -91 818 406 \nQ 353 903 353 1747 \nQ 353 2603 823 3093 \nQ 1294 3584 2113 3584 \nQ 2378 3584 2631 3529 \nQ 2884 3475 3122 3366 \nz\n\" transform=\"scale(0.015625)\"/>\n       <path id=\"DejaVuSans-68\" d=\"M 3513 2113 \nL 3513 0 \nL 2938 0 \nL 2938 2094 \nQ 2938 2591 2744 2837 \nQ 2550 3084 2163 3084 \nQ 1697 3084 1428 2787 \nQ 1159 2491 1159 1978 \nL 1159 0 \nL 581 0 \nL 581 4863 \nL 1159 4863 \nL 1159 2956 \nQ 1366 3272 1645 3428 \nQ 1925 3584 2291 3584 \nQ 2894 3584 3203 3211 \nQ 3513 2838 3513 2113 \nz\n\" transform=\"scale(0.015625)\"/>\n      </defs>\n      <use xlink:href=\"#DejaVuSans-65\"/>\n      <use xlink:href=\"#DejaVuSans-70\" x=\"61.523438\"/>\n      <use xlink:href=\"#DejaVuSans-6f\" x=\"125\"/>\n      <use xlink:href=\"#DejaVuSans-63\" x=\"186.181641\"/>\n      <use xlink:href=\"#DejaVuSans-68\" x=\"241.162109\"/>\n     </g>\n    </g>\n   </g>\n   <g id=\"matplotlib.axis_2\">\n    <g id=\"ytick_1\">\n     <g id=\"line2d_7\">\n      <defs>\n       <path id=\"m78fa56a226\" d=\"M 0 0 \nL -3.5 0 \n\" style=\"stroke: #000000; stroke-width: 0.8\"/>\n      </defs>\n      <g>\n       <use xlink:href=\"#m78fa56a226\" x=\"30.103125\" y=\"119.76532\" style=\"stroke: #000000; stroke-width: 0.8\"/>\n      </g>\n     </g>\n     <g id=\"text_8\">\n      <!-- 0.5 -->\n      <g transform=\"translate(7.2 123.564538) scale(0.1 -0.1)\">\n       <defs>\n        <path id=\"DejaVuSans-2e\" d=\"M 684 794 \nL 1344 794 \nL 1344 0 \nL 684 0 \nL 684 794 \nz\n\" transform=\"scale(0.015625)\"/>\n        <path id=\"DejaVuSans-35\" d=\"M 691 4666 \nL 3169 4666 \nL 3169 4134 \nL 1269 4134 \nL 1269 2991 \nQ 1406 3038 1543 3061 \nQ 1681 3084 1819 3084 \nQ 2600 3084 3056 2656 \nQ 3513 2228 3513 1497 \nQ 3513 744 3044 326 \nQ 2575 -91 1722 -91 \nQ 1428 -91 1123 -41 \nQ 819 9 494 109 \nL 494 744 \nQ 775 591 1075 516 \nQ 1375 441 1709 441 \nQ 2250 441 2565 725 \nQ 2881 1009 2881 1497 \nQ 2881 1984 2565 2268 \nQ 2250 2553 1709 2553 \nQ 1456 2553 1204 2497 \nQ 953 2441 691 2322 \nL 691 4666 \nz\n\" transform=\"scale(0.015625)\"/>\n       </defs>\n       <use xlink:href=\"#DejaVuSans-30\"/>\n       <use xlink:href=\"#DejaVuSans-2e\" x=\"63.623047\"/>\n       <use xlink:href=\"#DejaVuSans-35\" x=\"95.410156\"/>\n      </g>\n     </g>\n    </g>\n    <g id=\"ytick_2\">\n     <g id=\"line2d_8\">\n      <g>\n       <use xlink:href=\"#m78fa56a226\" x=\"30.103125\" y=\"90.969203\" style=\"stroke: #000000; stroke-width: 0.8\"/>\n      </g>\n     </g>\n     <g id=\"text_9\">\n      <!-- 1.0 -->\n      <g transform=\"translate(7.2 94.768422) scale(0.1 -0.1)\">\n       <use xlink:href=\"#DejaVuSans-31\"/>\n       <use xlink:href=\"#DejaVuSans-2e\" x=\"63.623047\"/>\n       <use xlink:href=\"#DejaVuSans-30\" x=\"95.410156\"/>\n      </g>\n     </g>\n    </g>\n    <g id=\"ytick_3\">\n     <g id=\"line2d_9\">\n      <g>\n       <use xlink:href=\"#m78fa56a226\" x=\"30.103125\" y=\"62.173086\" style=\"stroke: #000000; stroke-width: 0.8\"/>\n      </g>\n     </g>\n     <g id=\"text_10\">\n      <!-- 1.5 -->\n      <g transform=\"translate(7.2 65.972305) scale(0.1 -0.1)\">\n       <use xlink:href=\"#DejaVuSans-31\"/>\n       <use xlink:href=\"#DejaVuSans-2e\" x=\"63.623047\"/>\n       <use xlink:href=\"#DejaVuSans-35\" x=\"95.410156\"/>\n      </g>\n     </g>\n    </g>\n    <g id=\"ytick_4\">\n     <g id=\"line2d_10\">\n      <g>\n       <use xlink:href=\"#m78fa56a226\" x=\"30.103125\" y=\"33.376969\" style=\"stroke: #000000; stroke-width: 0.8\"/>\n      </g>\n     </g>\n     <g id=\"text_11\">\n      <!-- 2.0 -->\n      <g transform=\"translate(7.2 37.176188) scale(0.1 -0.1)\">\n       <use xlink:href=\"#DejaVuSans-32\"/>\n       <use xlink:href=\"#DejaVuSans-2e\" x=\"63.623047\"/>\n       <use xlink:href=\"#DejaVuSans-30\" x=\"95.410156\"/>\n      </g>\n     </g>\n    </g>\n   </g>\n   <g id=\"line2d_11\">\n    <path d=\"M 34.954394 15.946562 \n\" clip-path=\"url(#pb1cff124f2)\" style=\"fill: none; stroke: #1f77b4; stroke-width: 1.5; stroke-linecap: square\"/>\n   </g>\n   <g id=\"line2d_12\">\n    <path d=\"M 34.954394 15.946562 \nL 44.698573 15.985717 \n\" clip-path=\"url(#pb1cff124f2)\" style=\"fill: none; stroke: #1f77b4; stroke-width: 1.5; stroke-linecap: square\"/>\n   </g>\n   <g id=\"line2d_13\">\n    <path d=\"M 34.954394 15.946562 \nL 44.698573 15.985717 \n\" clip-path=\"url(#pb1cff124f2)\" style=\"fill: none; stroke: #1f77b4; stroke-width: 1.5; stroke-linecap: square\"/>\n   </g>\n   <g id=\"line2d_14\">\n    <path d=\"M 49.633125 16.004576 \n\" clip-path=\"url(#pb1cff124f2)\" style=\"fill: none; stroke-dasharray: 5.55,2.4; stroke-dashoffset: 0; stroke: #ff7f0e; stroke-width: 1.5\"/>\n   </g>\n   <g id=\"line2d_15\"/>\n   <g id=\"line2d_16\">\n    <path d=\"M 34.954394 15.946562 \nL 44.698573 15.985717 \n\" clip-path=\"url(#pb1cff124f2)\" style=\"fill: none; stroke: #1f77b4; stroke-width: 1.5; stroke-linecap: square\"/>\n   </g>\n   <g id=\"line2d_17\">\n    <path d=\"M 49.633125 16.004576 \n\" clip-path=\"url(#pb1cff124f2)\" style=\"fill: none; stroke-dasharray: 5.55,2.4; stroke-dashoffset: 0; stroke: #ff7f0e; stroke-width: 1.5\"/>\n   </g>\n   <g id=\"line2d_18\">\n    <path d=\"M 49.633125 139.5 \n\" clip-path=\"url(#pb1cff124f2)\" style=\"fill: none; stroke-dasharray: 9.6,2.4,1.5,2.4; stroke-dashoffset: 0; stroke: #2ca02c; stroke-width: 1.5\"/>\n   </g>\n   <g id=\"line2d_19\">\n    <path d=\"M 34.954394 15.946562 \nL 44.698573 15.985717 \nL 54.442752 16.016275 \n\" clip-path=\"url(#pb1cff124f2)\" style=\"fill: none; stroke: #1f77b4; stroke-width: 1.5; stroke-linecap: square\"/>\n   </g>\n   <g id=\"line2d_20\">\n    <path d=\"M 49.633125 16.004576 \n\" clip-path=\"url(#pb1cff124f2)\" style=\"fill: none; stroke-dasharray: 5.55,2.4; stroke-dashoffset: 0; stroke: #ff7f0e; stroke-width: 1.5\"/>\n   </g>\n   <g id=\"line2d_21\">\n    <path d=\"M 49.633125 139.5 \n\" clip-path=\"url(#pb1cff124f2)\" style=\"fill: none; stroke-dasharray: 9.6,2.4,1.5,2.4; stroke-dashoffset: 0; stroke: #2ca02c; stroke-width: 1.5\"/>\n   </g>\n   <g id=\"line2d_22\">\n    <path d=\"M 34.954394 15.946562 \nL 44.698573 15.985717 \nL 54.442752 16.016275 \nL 64.186931 16.052529 \n\" clip-path=\"url(#pb1cff124f2)\" style=\"fill: none; stroke: #1f77b4; stroke-width: 1.5; stroke-linecap: square\"/>\n   </g>\n   <g id=\"line2d_23\">\n    <path d=\"M 49.633125 16.004576 \n\" clip-path=\"url(#pb1cff124f2)\" style=\"fill: none; stroke-dasharray: 5.55,2.4; stroke-dashoffset: 0; stroke: #ff7f0e; stroke-width: 1.5\"/>\n   </g>\n   <g id=\"line2d_24\">\n    <path d=\"M 49.633125 139.5 \n\" clip-path=\"url(#pb1cff124f2)\" style=\"fill: none; stroke-dasharray: 9.6,2.4,1.5,2.4; stroke-dashoffset: 0; stroke: #2ca02c; stroke-width: 1.5\"/>\n   </g>\n   <g id=\"line2d_25\">\n    <path d=\"M 34.954394 15.946562 \nL 44.698573 15.985717 \nL 54.442752 16.016275 \nL 64.186931 16.052529 \n\" clip-path=\"url(#pb1cff124f2)\" style=\"fill: none; stroke: #1f77b4; stroke-width: 1.5; stroke-linecap: square\"/>\n   </g>\n   <g id=\"line2d_26\">\n    <path d=\"M 49.633125 16.004576 \nL 69.163125 16.083919 \n\" clip-path=\"url(#pb1cff124f2)\" style=\"fill: none; stroke-dasharray: 5.55,2.4; stroke-dashoffset: 0; stroke: #ff7f0e; stroke-width: 1.5\"/>\n   </g>\n   <g id=\"line2d_27\">\n    <path d=\"M 49.633125 139.5 \n\" clip-path=\"url(#pb1cff124f2)\" style=\"fill: none; stroke-dasharray: 9.6,2.4,1.5,2.4; stroke-dashoffset: 0; stroke: #2ca02c; stroke-width: 1.5\"/>\n   </g>\n   <g id=\"line2d_28\">\n    <path d=\"M 34.954394 15.946562 \nL 44.698573 15.985717 \nL 54.442752 16.016275 \nL 64.186931 16.052529 \n\" clip-path=\"url(#pb1cff124f2)\" style=\"fill: none; stroke: #1f77b4; stroke-width: 1.5; stroke-linecap: square\"/>\n   </g>\n   <g id=\"line2d_29\">\n    <path d=\"M 49.633125 16.004576 \nL 69.163125 16.083919 \n\" clip-path=\"url(#pb1cff124f2)\" style=\"fill: none; stroke-dasharray: 5.55,2.4; stroke-dashoffset: 0; stroke: #ff7f0e; stroke-width: 1.5\"/>\n   </g>\n   <g id=\"line2d_30\">\n    <path d=\"M 49.633125 139.5 \nL 69.163125 137.483816 \n\" clip-path=\"url(#pb1cff124f2)\" style=\"fill: none; stroke-dasharray: 9.6,2.4,1.5,2.4; stroke-dashoffset: 0; stroke: #2ca02c; stroke-width: 1.5\"/>\n   </g>\n   <g id=\"line2d_31\">\n    <path d=\"M 34.954394 15.946562 \nL 44.698573 15.985717 \nL 54.442752 16.016275 \nL 64.186931 16.052529 \nL 73.93111 16.112996 \n\" clip-path=\"url(#pb1cff124f2)\" style=\"fill: none; stroke: #1f77b4; stroke-width: 1.5; stroke-linecap: square\"/>\n   </g>\n   <g id=\"line2d_32\">\n    <path d=\"M 49.633125 16.004576 \nL 69.163125 16.083919 \n\" clip-path=\"url(#pb1cff124f2)\" style=\"fill: none; stroke-dasharray: 5.55,2.4; stroke-dashoffset: 0; stroke: #ff7f0e; stroke-width: 1.5\"/>\n   </g>\n   <g id=\"line2d_33\">\n    <path d=\"M 49.633125 139.5 \nL 69.163125 137.483816 \n\" clip-path=\"url(#pb1cff124f2)\" style=\"fill: none; stroke-dasharray: 9.6,2.4,1.5,2.4; stroke-dashoffset: 0; stroke: #2ca02c; stroke-width: 1.5\"/>\n   </g>\n   <g id=\"line2d_34\">\n    <path d=\"M 34.954394 15.946562 \nL 44.698573 15.985717 \nL 54.442752 16.016275 \nL 64.186931 16.052529 \nL 73.93111 16.112996 \nL 83.675289 16.192714 \n\" clip-path=\"url(#pb1cff124f2)\" style=\"fill: none; stroke: #1f77b4; stroke-width: 1.5; stroke-linecap: square\"/>\n   </g>\n   <g id=\"line2d_35\">\n    <path d=\"M 49.633125 16.004576 \nL 69.163125 16.083919 \n\" clip-path=\"url(#pb1cff124f2)\" style=\"fill: none; stroke-dasharray: 5.55,2.4; stroke-dashoffset: 0; stroke: #ff7f0e; stroke-width: 1.5\"/>\n   </g>\n   <g id=\"line2d_36\">\n    <path d=\"M 49.633125 139.5 \nL 69.163125 137.483816 \n\" clip-path=\"url(#pb1cff124f2)\" style=\"fill: none; stroke-dasharray: 9.6,2.4,1.5,2.4; stroke-dashoffset: 0; stroke: #2ca02c; stroke-width: 1.5\"/>\n   </g>\n   <g id=\"line2d_37\">\n    <path d=\"M 34.954394 15.946562 \nL 44.698573 15.985717 \nL 54.442752 16.016275 \nL 64.186931 16.052529 \nL 73.93111 16.112996 \nL 83.675289 16.192714 \n\" clip-path=\"url(#pb1cff124f2)\" style=\"fill: none; stroke: #1f77b4; stroke-width: 1.5; stroke-linecap: square\"/>\n   </g>\n   <g id=\"line2d_38\">\n    <path d=\"M 49.633125 16.004576 \nL 69.163125 16.083919 \nL 88.693125 16.25488 \n\" clip-path=\"url(#pb1cff124f2)\" style=\"fill: none; stroke-dasharray: 5.55,2.4; stroke-dashoffset: 0; stroke: #ff7f0e; stroke-width: 1.5\"/>\n   </g>\n   <g id=\"line2d_39\">\n    <path d=\"M 49.633125 139.5 \nL 69.163125 137.483816 \n\" clip-path=\"url(#pb1cff124f2)\" style=\"fill: none; stroke-dasharray: 9.6,2.4,1.5,2.4; stroke-dashoffset: 0; stroke: #2ca02c; stroke-width: 1.5\"/>\n   </g>\n   <g id=\"line2d_40\">\n    <path d=\"M 34.954394 15.946562 \nL 44.698573 15.985717 \nL 54.442752 16.016275 \nL 64.186931 16.052529 \nL 73.93111 16.112996 \nL 83.675289 16.192714 \n\" clip-path=\"url(#pb1cff124f2)\" style=\"fill: none; stroke: #1f77b4; stroke-width: 1.5; stroke-linecap: square\"/>\n   </g>\n   <g id=\"line2d_41\">\n    <path d=\"M 49.633125 16.004576 \nL 69.163125 16.083919 \nL 88.693125 16.25488 \n\" clip-path=\"url(#pb1cff124f2)\" style=\"fill: none; stroke-dasharray: 5.55,2.4; stroke-dashoffset: 0; stroke: #ff7f0e; stroke-width: 1.5\"/>\n   </g>\n   <g id=\"line2d_42\">\n    <path d=\"M 49.633125 139.5 \nL 69.163125 137.483816 \nL 88.693125 133.029986 \n\" clip-path=\"url(#pb1cff124f2)\" style=\"fill: none; stroke-dasharray: 9.6,2.4,1.5,2.4; stroke-dashoffset: 0; stroke: #2ca02c; stroke-width: 1.5\"/>\n   </g>\n   <g id=\"line2d_43\">\n    <path d=\"M 34.954394 15.946562 \nL 44.698573 15.985717 \nL 54.442752 16.016275 \nL 64.186931 16.052529 \nL 73.93111 16.112996 \nL 83.675289 16.192714 \nL 93.419468 16.331132 \n\" clip-path=\"url(#pb1cff124f2)\" style=\"fill: none; stroke: #1f77b4; stroke-width: 1.5; stroke-linecap: square\"/>\n   </g>\n   <g id=\"line2d_44\">\n    <path d=\"M 49.633125 16.004576 \nL 69.163125 16.083919 \nL 88.693125 16.25488 \n\" clip-path=\"url(#pb1cff124f2)\" style=\"fill: none; stroke-dasharray: 5.55,2.4; stroke-dashoffset: 0; stroke: #ff7f0e; stroke-width: 1.5\"/>\n   </g>\n   <g id=\"line2d_45\">\n    <path d=\"M 49.633125 139.5 \nL 69.163125 137.483816 \nL 88.693125 133.029986 \n\" clip-path=\"url(#pb1cff124f2)\" style=\"fill: none; stroke-dasharray: 9.6,2.4,1.5,2.4; stroke-dashoffset: 0; stroke: #2ca02c; stroke-width: 1.5\"/>\n   </g>\n   <g id=\"line2d_46\">\n    <path d=\"M 34.954394 15.946562 \nL 44.698573 15.985717 \nL 54.442752 16.016275 \nL 64.186931 16.052529 \nL 73.93111 16.112996 \nL 83.675289 16.192714 \nL 93.419468 16.331132 \nL 103.163647 16.62382 \n\" clip-path=\"url(#pb1cff124f2)\" style=\"fill: none; stroke: #1f77b4; stroke-width: 1.5; stroke-linecap: square\"/>\n   </g>\n   <g id=\"line2d_47\">\n    <path d=\"M 49.633125 16.004576 \nL 69.163125 16.083919 \nL 88.693125 16.25488 \n\" clip-path=\"url(#pb1cff124f2)\" style=\"fill: none; stroke-dasharray: 5.55,2.4; stroke-dashoffset: 0; stroke: #ff7f0e; stroke-width: 1.5\"/>\n   </g>\n   <g id=\"line2d_48\">\n    <path d=\"M 49.633125 139.5 \nL 69.163125 137.483816 \nL 88.693125 133.029986 \n\" clip-path=\"url(#pb1cff124f2)\" style=\"fill: none; stroke-dasharray: 9.6,2.4,1.5,2.4; stroke-dashoffset: 0; stroke: #2ca02c; stroke-width: 1.5\"/>\n   </g>\n   <g id=\"line2d_49\">\n    <path d=\"M 34.954394 15.946562 \nL 44.698573 15.985717 \nL 54.442752 16.016275 \nL 64.186931 16.052529 \nL 73.93111 16.112996 \nL 83.675289 16.192714 \nL 93.419468 16.331132 \nL 103.163647 16.62382 \n\" clip-path=\"url(#pb1cff124f2)\" style=\"fill: none; stroke: #1f77b4; stroke-width: 1.5; stroke-linecap: square\"/>\n   </g>\n   <g id=\"line2d_50\">\n    <path d=\"M 49.633125 16.004576 \nL 69.163125 16.083919 \nL 88.693125 16.25488 \nL 108.223125 16.912676 \n\" clip-path=\"url(#pb1cff124f2)\" style=\"fill: none; stroke-dasharray: 5.55,2.4; stroke-dashoffset: 0; stroke: #ff7f0e; stroke-width: 1.5\"/>\n   </g>\n   <g id=\"line2d_51\">\n    <path d=\"M 49.633125 139.5 \nL 69.163125 137.483816 \nL 88.693125 133.029986 \n\" clip-path=\"url(#pb1cff124f2)\" style=\"fill: none; stroke-dasharray: 9.6,2.4,1.5,2.4; stroke-dashoffset: 0; stroke: #2ca02c; stroke-width: 1.5\"/>\n   </g>\n   <g id=\"line2d_52\">\n    <path d=\"M 34.954394 15.946562 \nL 44.698573 15.985717 \nL 54.442752 16.016275 \nL 64.186931 16.052529 \nL 73.93111 16.112996 \nL 83.675289 16.192714 \nL 93.419468 16.331132 \nL 103.163647 16.62382 \n\" clip-path=\"url(#pb1cff124f2)\" style=\"fill: none; stroke: #1f77b4; stroke-width: 1.5; stroke-linecap: square\"/>\n   </g>\n   <g id=\"line2d_53\">\n    <path d=\"M 49.633125 16.004576 \nL 69.163125 16.083919 \nL 88.693125 16.25488 \nL 108.223125 16.912676 \n\" clip-path=\"url(#pb1cff124f2)\" style=\"fill: none; stroke-dasharray: 5.55,2.4; stroke-dashoffset: 0; stroke: #ff7f0e; stroke-width: 1.5\"/>\n   </g>\n   <g id=\"line2d_54\">\n    <path d=\"M 49.633125 139.5 \nL 69.163125 137.483816 \nL 88.693125 133.029986 \nL 108.223125 134.761399 \n\" clip-path=\"url(#pb1cff124f2)\" style=\"fill: none; stroke-dasharray: 9.6,2.4,1.5,2.4; stroke-dashoffset: 0; stroke: #2ca02c; stroke-width: 1.5\"/>\n   </g>\n   <g id=\"line2d_55\">\n    <path d=\"M 34.954394 15.946562 \nL 44.698573 15.985717 \nL 54.442752 16.016275 \nL 64.186931 16.052529 \nL 73.93111 16.112996 \nL 83.675289 16.192714 \nL 93.419468 16.331132 \nL 103.163647 16.62382 \nL 112.907826 17.511443 \n\" clip-path=\"url(#pb1cff124f2)\" style=\"fill: none; stroke: #1f77b4; stroke-width: 1.5; stroke-linecap: square\"/>\n   </g>\n   <g id=\"line2d_56\">\n    <path d=\"M 49.633125 16.004576 \nL 69.163125 16.083919 \nL 88.693125 16.25488 \nL 108.223125 16.912676 \n\" clip-path=\"url(#pb1cff124f2)\" style=\"fill: none; stroke-dasharray: 5.55,2.4; stroke-dashoffset: 0; stroke: #ff7f0e; stroke-width: 1.5\"/>\n   </g>\n   <g id=\"line2d_57\">\n    <path d=\"M 49.633125 139.5 \nL 69.163125 137.483816 \nL 88.693125 133.029986 \nL 108.223125 134.761399 \n\" clip-path=\"url(#pb1cff124f2)\" style=\"fill: none; stroke-dasharray: 9.6,2.4,1.5,2.4; stroke-dashoffset: 0; stroke: #2ca02c; stroke-width: 1.5\"/>\n   </g>\n   <g id=\"line2d_58\">\n    <path d=\"M 34.954394 15.946562 \nL 44.698573 15.985717 \nL 54.442752 16.016275 \nL 64.186931 16.052529 \nL 73.93111 16.112996 \nL 83.675289 16.192714 \nL 93.419468 16.331132 \nL 103.163647 16.62382 \nL 112.907826 17.511443 \nL 122.652006 23.214841 \n\" clip-path=\"url(#pb1cff124f2)\" style=\"fill: none; stroke: #1f77b4; stroke-width: 1.5; stroke-linecap: square\"/>\n   </g>\n   <g id=\"line2d_59\">\n    <path d=\"M 49.633125 16.004576 \nL 69.163125 16.083919 \nL 88.693125 16.25488 \nL 108.223125 16.912676 \n\" clip-path=\"url(#pb1cff124f2)\" style=\"fill: none; stroke-dasharray: 5.55,2.4; stroke-dashoffset: 0; stroke: #ff7f0e; stroke-width: 1.5\"/>\n   </g>\n   <g id=\"line2d_60\">\n    <path d=\"M 49.633125 139.5 \nL 69.163125 137.483816 \nL 88.693125 133.029986 \nL 108.223125 134.761399 \n\" clip-path=\"url(#pb1cff124f2)\" style=\"fill: none; stroke-dasharray: 9.6,2.4,1.5,2.4; stroke-dashoffset: 0; stroke: #2ca02c; stroke-width: 1.5\"/>\n   </g>\n   <g id=\"line2d_61\">\n    <path d=\"M 34.954394 15.946562 \nL 44.698573 15.985717 \nL 54.442752 16.016275 \nL 64.186931 16.052529 \nL 73.93111 16.112996 \nL 83.675289 16.192714 \nL 93.419468 16.331132 \nL 103.163647 16.62382 \nL 112.907826 17.511443 \nL 122.652006 23.214841 \n\" clip-path=\"url(#pb1cff124f2)\" style=\"fill: none; stroke: #1f77b4; stroke-width: 1.5; stroke-linecap: square\"/>\n   </g>\n   <g id=\"line2d_62\">\n    <path d=\"M 49.633125 16.004576 \nL 69.163125 16.083919 \nL 88.693125 16.25488 \nL 108.223125 16.912676 \nL 127.753125 35.445163 \n\" clip-path=\"url(#pb1cff124f2)\" style=\"fill: none; stroke-dasharray: 5.55,2.4; stroke-dashoffset: 0; stroke: #ff7f0e; stroke-width: 1.5\"/>\n   </g>\n   <g id=\"line2d_63\">\n    <path d=\"M 49.633125 139.5 \nL 69.163125 137.483816 \nL 88.693125 133.029986 \nL 108.223125 134.761399 \n\" clip-path=\"url(#pb1cff124f2)\" style=\"fill: none; stroke-dasharray: 9.6,2.4,1.5,2.4; stroke-dashoffset: 0; stroke: #2ca02c; stroke-width: 1.5\"/>\n   </g>\n   <g id=\"line2d_64\">\n    <path d=\"M 34.954394 15.946562 \nL 44.698573 15.985717 \nL 54.442752 16.016275 \nL 64.186931 16.052529 \nL 73.93111 16.112996 \nL 83.675289 16.192714 \nL 93.419468 16.331132 \nL 103.163647 16.62382 \nL 112.907826 17.511443 \nL 122.652006 23.214841 \n\" clip-path=\"url(#pb1cff124f2)\" style=\"fill: none; stroke: #1f77b4; stroke-width: 1.5; stroke-linecap: square\"/>\n   </g>\n   <g id=\"line2d_65\">\n    <path d=\"M 49.633125 16.004576 \nL 69.163125 16.083919 \nL 88.693125 16.25488 \nL 108.223125 16.912676 \nL 127.753125 35.445163 \n\" clip-path=\"url(#pb1cff124f2)\" style=\"fill: none; stroke-dasharray: 5.55,2.4; stroke-dashoffset: 0; stroke: #ff7f0e; stroke-width: 1.5\"/>\n   </g>\n   <g id=\"line2d_66\">\n    <path d=\"M 49.633125 139.5 \nL 69.163125 137.483816 \nL 88.693125 133.029986 \nL 108.223125 134.761399 \nL 127.753125 135.285378 \n\" clip-path=\"url(#pb1cff124f2)\" style=\"fill: none; stroke-dasharray: 9.6,2.4,1.5,2.4; stroke-dashoffset: 0; stroke: #2ca02c; stroke-width: 1.5\"/>\n   </g>\n   <g id=\"line2d_67\">\n    <path d=\"M 34.954394 15.946562 \nL 44.698573 15.985717 \nL 54.442752 16.016275 \nL 64.186931 16.052529 \nL 73.93111 16.112996 \nL 83.675289 16.192714 \nL 93.419468 16.331132 \nL 103.163647 16.62382 \nL 112.907826 17.511443 \nL 122.652006 23.214841 \nL 132.396185 52.819159 \n\" clip-path=\"url(#pb1cff124f2)\" style=\"fill: none; stroke: #1f77b4; stroke-width: 1.5; stroke-linecap: square\"/>\n   </g>\n   <g id=\"line2d_68\">\n    <path d=\"M 49.633125 16.004576 \nL 69.163125 16.083919 \nL 88.693125 16.25488 \nL 108.223125 16.912676 \nL 127.753125 35.445163 \n\" clip-path=\"url(#pb1cff124f2)\" style=\"fill: none; stroke-dasharray: 5.55,2.4; stroke-dashoffset: 0; stroke: #ff7f0e; stroke-width: 1.5\"/>\n   </g>\n   <g id=\"line2d_69\">\n    <path d=\"M 49.633125 139.5 \nL 69.163125 137.483816 \nL 88.693125 133.029986 \nL 108.223125 134.761399 \nL 127.753125 135.285378 \n\" clip-path=\"url(#pb1cff124f2)\" style=\"fill: none; stroke-dasharray: 9.6,2.4,1.5,2.4; stroke-dashoffset: 0; stroke: #2ca02c; stroke-width: 1.5\"/>\n   </g>\n   <g id=\"line2d_70\">\n    <path d=\"M 34.954394 15.946562 \nL 44.698573 15.985717 \nL 54.442752 16.016275 \nL 64.186931 16.052529 \nL 73.93111 16.112996 \nL 83.675289 16.192714 \nL 93.419468 16.331132 \nL 103.163647 16.62382 \nL 112.907826 17.511443 \nL 122.652006 23.214841 \nL 132.396185 52.819159 \nL 142.140364 82.179672 \n\" clip-path=\"url(#pb1cff124f2)\" style=\"fill: none; stroke: #1f77b4; stroke-width: 1.5; stroke-linecap: square\"/>\n   </g>\n   <g id=\"line2d_71\">\n    <path d=\"M 49.633125 16.004576 \nL 69.163125 16.083919 \nL 88.693125 16.25488 \nL 108.223125 16.912676 \nL 127.753125 35.445163 \n\" clip-path=\"url(#pb1cff124f2)\" style=\"fill: none; stroke-dasharray: 5.55,2.4; stroke-dashoffset: 0; stroke: #ff7f0e; stroke-width: 1.5\"/>\n   </g>\n   <g id=\"line2d_72\">\n    <path d=\"M 49.633125 139.5 \nL 69.163125 137.483816 \nL 88.693125 133.029986 \nL 108.223125 134.761399 \nL 127.753125 135.285378 \n\" clip-path=\"url(#pb1cff124f2)\" style=\"fill: none; stroke-dasharray: 9.6,2.4,1.5,2.4; stroke-dashoffset: 0; stroke: #2ca02c; stroke-width: 1.5\"/>\n   </g>\n   <g id=\"line2d_73\">\n    <path d=\"M 34.954394 15.946562 \nL 44.698573 15.985717 \nL 54.442752 16.016275 \nL 64.186931 16.052529 \nL 73.93111 16.112996 \nL 83.675289 16.192714 \nL 93.419468 16.331132 \nL 103.163647 16.62382 \nL 112.907826 17.511443 \nL 122.652006 23.214841 \nL 132.396185 52.819159 \nL 142.140364 82.179672 \n\" clip-path=\"url(#pb1cff124f2)\" style=\"fill: none; stroke: #1f77b4; stroke-width: 1.5; stroke-linecap: square\"/>\n   </g>\n   <g id=\"line2d_74\">\n    <path d=\"M 49.633125 16.004576 \nL 69.163125 16.083919 \nL 88.693125 16.25488 \nL 108.223125 16.912676 \nL 127.753125 35.445163 \nL 147.283125 93.665273 \n\" clip-path=\"url(#pb1cff124f2)\" style=\"fill: none; stroke-dasharray: 5.55,2.4; stroke-dashoffset: 0; stroke: #ff7f0e; stroke-width: 1.5\"/>\n   </g>\n   <g id=\"line2d_75\">\n    <path d=\"M 49.633125 139.5 \nL 69.163125 137.483816 \nL 88.693125 133.029986 \nL 108.223125 134.761399 \nL 127.753125 135.285378 \n\" clip-path=\"url(#pb1cff124f2)\" style=\"fill: none; stroke-dasharray: 9.6,2.4,1.5,2.4; stroke-dashoffset: 0; stroke: #2ca02c; stroke-width: 1.5\"/>\n   </g>\n   <g id=\"line2d_76\">\n    <path d=\"M 34.954394 15.946562 \nL 44.698573 15.985717 \nL 54.442752 16.016275 \nL 64.186931 16.052529 \nL 73.93111 16.112996 \nL 83.675289 16.192714 \nL 93.419468 16.331132 \nL 103.163647 16.62382 \nL 112.907826 17.511443 \nL 122.652006 23.214841 \nL 132.396185 52.819159 \nL 142.140364 82.179672 \n\" clip-path=\"url(#pb1cff124f2)\" style=\"fill: none; stroke: #1f77b4; stroke-width: 1.5; stroke-linecap: square\"/>\n   </g>\n   <g id=\"line2d_77\">\n    <path d=\"M 49.633125 16.004576 \nL 69.163125 16.083919 \nL 88.693125 16.25488 \nL 108.223125 16.912676 \nL 127.753125 35.445163 \nL 147.283125 93.665273 \n\" clip-path=\"url(#pb1cff124f2)\" style=\"fill: none; stroke-dasharray: 5.55,2.4; stroke-dashoffset: 0; stroke: #ff7f0e; stroke-width: 1.5\"/>\n   </g>\n   <g id=\"line2d_78\">\n    <path d=\"M 49.633125 139.5 \nL 69.163125 137.483816 \nL 88.693125 133.029986 \nL 108.223125 134.761399 \nL 127.753125 135.285378 \nL 147.283125 111.336076 \n\" clip-path=\"url(#pb1cff124f2)\" style=\"fill: none; stroke-dasharray: 9.6,2.4,1.5,2.4; stroke-dashoffset: 0; stroke: #2ca02c; stroke-width: 1.5\"/>\n   </g>\n   <g id=\"line2d_79\">\n    <path d=\"M 34.954394 15.946562 \nL 44.698573 15.985717 \nL 54.442752 16.016275 \nL 64.186931 16.052529 \nL 73.93111 16.112996 \nL 83.675289 16.192714 \nL 93.419468 16.331132 \nL 103.163647 16.62382 \nL 112.907826 17.511443 \nL 122.652006 23.214841 \nL 132.396185 52.819159 \nL 142.140364 82.179672 \nL 151.884543 94.722256 \n\" clip-path=\"url(#pb1cff124f2)\" style=\"fill: none; stroke: #1f77b4; stroke-width: 1.5; stroke-linecap: square\"/>\n   </g>\n   <g id=\"line2d_80\">\n    <path d=\"M 49.633125 16.004576 \nL 69.163125 16.083919 \nL 88.693125 16.25488 \nL 108.223125 16.912676 \nL 127.753125 35.445163 \nL 147.283125 93.665273 \n\" clip-path=\"url(#pb1cff124f2)\" style=\"fill: none; stroke-dasharray: 5.55,2.4; stroke-dashoffset: 0; stroke: #ff7f0e; stroke-width: 1.5\"/>\n   </g>\n   <g id=\"line2d_81\">\n    <path d=\"M 49.633125 139.5 \nL 69.163125 137.483816 \nL 88.693125 133.029986 \nL 108.223125 134.761399 \nL 127.753125 135.285378 \nL 147.283125 111.336076 \n\" clip-path=\"url(#pb1cff124f2)\" style=\"fill: none; stroke-dasharray: 9.6,2.4,1.5,2.4; stroke-dashoffset: 0; stroke: #2ca02c; stroke-width: 1.5\"/>\n   </g>\n   <g id=\"line2d_82\">\n    <path d=\"M 34.954394 15.946562 \nL 44.698573 15.985717 \nL 54.442752 16.016275 \nL 64.186931 16.052529 \nL 73.93111 16.112996 \nL 83.675289 16.192714 \nL 93.419468 16.331132 \nL 103.163647 16.62382 \nL 112.907826 17.511443 \nL 122.652006 23.214841 \nL 132.396185 52.819159 \nL 142.140364 82.179672 \nL 151.884543 94.722256 \nL 161.628722 100.816429 \n\" clip-path=\"url(#pb1cff124f2)\" style=\"fill: none; stroke: #1f77b4; stroke-width: 1.5; stroke-linecap: square\"/>\n   </g>\n   <g id=\"line2d_83\">\n    <path d=\"M 49.633125 16.004576 \nL 69.163125 16.083919 \nL 88.693125 16.25488 \nL 108.223125 16.912676 \nL 127.753125 35.445163 \nL 147.283125 93.665273 \n\" clip-path=\"url(#pb1cff124f2)\" style=\"fill: none; stroke-dasharray: 5.55,2.4; stroke-dashoffset: 0; stroke: #ff7f0e; stroke-width: 1.5\"/>\n   </g>\n   <g id=\"line2d_84\">\n    <path d=\"M 49.633125 139.5 \nL 69.163125 137.483816 \nL 88.693125 133.029986 \nL 108.223125 134.761399 \nL 127.753125 135.285378 \nL 147.283125 111.336076 \n\" clip-path=\"url(#pb1cff124f2)\" style=\"fill: none; stroke-dasharray: 9.6,2.4,1.5,2.4; stroke-dashoffset: 0; stroke: #2ca02c; stroke-width: 1.5\"/>\n   </g>\n   <g id=\"line2d_85\">\n    <path d=\"M 34.954394 15.946562 \nL 44.698573 15.985717 \nL 54.442752 16.016275 \nL 64.186931 16.052529 \nL 73.93111 16.112996 \nL 83.675289 16.192714 \nL 93.419468 16.331132 \nL 103.163647 16.62382 \nL 112.907826 17.511443 \nL 122.652006 23.214841 \nL 132.396185 52.819159 \nL 142.140364 82.179672 \nL 151.884543 94.722256 \nL 161.628722 100.816429 \n\" clip-path=\"url(#pb1cff124f2)\" style=\"fill: none; stroke: #1f77b4; stroke-width: 1.5; stroke-linecap: square\"/>\n   </g>\n   <g id=\"line2d_86\">\n    <path d=\"M 49.633125 16.004576 \nL 69.163125 16.083919 \nL 88.693125 16.25488 \nL 108.223125 16.912676 \nL 127.753125 35.445163 \nL 147.283125 93.665273 \nL 166.813125 13.5 \n\" clip-path=\"url(#pb1cff124f2)\" style=\"fill: none; stroke-dasharray: 5.55,2.4; stroke-dashoffset: 0; stroke: #ff7f0e; stroke-width: 1.5\"/>\n   </g>\n   <g id=\"line2d_87\">\n    <path d=\"M 49.633125 139.5 \nL 69.163125 137.483816 \nL 88.693125 133.029986 \nL 108.223125 134.761399 \nL 127.753125 135.285378 \nL 147.283125 111.336076 \n\" clip-path=\"url(#pb1cff124f2)\" style=\"fill: none; stroke-dasharray: 9.6,2.4,1.5,2.4; stroke-dashoffset: 0; stroke: #2ca02c; stroke-width: 1.5\"/>\n   </g>\n   <g id=\"line2d_88\">\n    <path d=\"M 34.954394 15.946562 \nL 44.698573 15.985717 \nL 54.442752 16.016275 \nL 64.186931 16.052529 \nL 73.93111 16.112996 \nL 83.675289 16.192714 \nL 93.419468 16.331132 \nL 103.163647 16.62382 \nL 112.907826 17.511443 \nL 122.652006 23.214841 \nL 132.396185 52.819159 \nL 142.140364 82.179672 \nL 151.884543 94.722256 \nL 161.628722 100.816429 \n\" clip-path=\"url(#pb1cff124f2)\" style=\"fill: none; stroke: #1f77b4; stroke-width: 1.5; stroke-linecap: square\"/>\n   </g>\n   <g id=\"line2d_89\">\n    <path d=\"M 49.633125 16.004576 \nL 69.163125 16.083919 \nL 88.693125 16.25488 \nL 108.223125 16.912676 \nL 127.753125 35.445163 \nL 147.283125 93.665273 \nL 166.813125 13.5 \n\" clip-path=\"url(#pb1cff124f2)\" style=\"fill: none; stroke-dasharray: 5.55,2.4; stroke-dashoffset: 0; stroke: #ff7f0e; stroke-width: 1.5\"/>\n   </g>\n   <g id=\"line2d_90\">\n    <path d=\"M 49.633125 139.5 \nL 69.163125 137.483816 \nL 88.693125 133.029986 \nL 108.223125 134.761399 \nL 127.753125 135.285378 \nL 147.283125 111.336076 \nL 166.813125 134.339936 \n\" clip-path=\"url(#pb1cff124f2)\" style=\"fill: none; stroke-dasharray: 9.6,2.4,1.5,2.4; stroke-dashoffset: 0; stroke: #2ca02c; stroke-width: 1.5\"/>\n   </g>\n   <g id=\"line2d_91\">\n    <path d=\"M 34.954394 15.946562 \nL 44.698573 15.985717 \nL 54.442752 16.016275 \nL 64.186931 16.052529 \nL 73.93111 16.112996 \nL 83.675289 16.192714 \nL 93.419468 16.331132 \nL 103.163647 16.62382 \nL 112.907826 17.511443 \nL 122.652006 23.214841 \nL 132.396185 52.819159 \nL 142.140364 82.179672 \nL 151.884543 94.722256 \nL 161.628722 100.816429 \nL 171.372901 103.873335 \n\" clip-path=\"url(#pb1cff124f2)\" style=\"fill: none; stroke: #1f77b4; stroke-width: 1.5; stroke-linecap: square\"/>\n   </g>\n   <g id=\"line2d_92\">\n    <path d=\"M 49.633125 16.004576 \nL 69.163125 16.083919 \nL 88.693125 16.25488 \nL 108.223125 16.912676 \nL 127.753125 35.445163 \nL 147.283125 93.665273 \nL 166.813125 13.5 \n\" clip-path=\"url(#pb1cff124f2)\" style=\"fill: none; stroke-dasharray: 5.55,2.4; stroke-dashoffset: 0; stroke: #ff7f0e; stroke-width: 1.5\"/>\n   </g>\n   <g id=\"line2d_93\">\n    <path d=\"M 49.633125 139.5 \nL 69.163125 137.483816 \nL 88.693125 133.029986 \nL 108.223125 134.761399 \nL 127.753125 135.285378 \nL 147.283125 111.336076 \nL 166.813125 134.339936 \n\" clip-path=\"url(#pb1cff124f2)\" style=\"fill: none; stroke-dasharray: 9.6,2.4,1.5,2.4; stroke-dashoffset: 0; stroke: #2ca02c; stroke-width: 1.5\"/>\n   </g>\n   <g id=\"line2d_94\">\n    <path d=\"M 34.954394 15.946562 \nL 44.698573 15.985717 \nL 54.442752 16.016275 \nL 64.186931 16.052529 \nL 73.93111 16.112996 \nL 83.675289 16.192714 \nL 93.419468 16.331132 \nL 103.163647 16.62382 \nL 112.907826 17.511443 \nL 122.652006 23.214841 \nL 132.396185 52.819159 \nL 142.140364 82.179672 \nL 151.884543 94.722256 \nL 161.628722 100.816429 \nL 171.372901 103.873335 \nL 181.11708 108.952308 \n\" clip-path=\"url(#pb1cff124f2)\" style=\"fill: none; stroke: #1f77b4; stroke-width: 1.5; stroke-linecap: square\"/>\n   </g>\n   <g id=\"line2d_95\">\n    <path d=\"M 49.633125 16.004576 \nL 69.163125 16.083919 \nL 88.693125 16.25488 \nL 108.223125 16.912676 \nL 127.753125 35.445163 \nL 147.283125 93.665273 \nL 166.813125 13.5 \n\" clip-path=\"url(#pb1cff124f2)\" style=\"fill: none; stroke-dasharray: 5.55,2.4; stroke-dashoffset: 0; stroke: #ff7f0e; stroke-width: 1.5\"/>\n   </g>\n   <g id=\"line2d_96\">\n    <path d=\"M 49.633125 139.5 \nL 69.163125 137.483816 \nL 88.693125 133.029986 \nL 108.223125 134.761399 \nL 127.753125 135.285378 \nL 147.283125 111.336076 \nL 166.813125 134.339936 \n\" clip-path=\"url(#pb1cff124f2)\" style=\"fill: none; stroke-dasharray: 9.6,2.4,1.5,2.4; stroke-dashoffset: 0; stroke: #2ca02c; stroke-width: 1.5\"/>\n   </g>\n   <g id=\"line2d_97\">\n    <path d=\"M 34.954394 15.946562 \nL 44.698573 15.985717 \nL 54.442752 16.016275 \nL 64.186931 16.052529 \nL 73.93111 16.112996 \nL 83.675289 16.192714 \nL 93.419468 16.331132 \nL 103.163647 16.62382 \nL 112.907826 17.511443 \nL 122.652006 23.214841 \nL 132.396185 52.819159 \nL 142.140364 82.179672 \nL 151.884543 94.722256 \nL 161.628722 100.816429 \nL 171.372901 103.873335 \nL 181.11708 108.952308 \n\" clip-path=\"url(#pb1cff124f2)\" style=\"fill: none; stroke: #1f77b4; stroke-width: 1.5; stroke-linecap: square\"/>\n   </g>\n   <g id=\"line2d_98\">\n    <path d=\"M 49.633125 16.004576 \nL 69.163125 16.083919 \nL 88.693125 16.25488 \nL 108.223125 16.912676 \nL 127.753125 35.445163 \nL 147.283125 93.665273 \nL 166.813125 13.5 \nL 186.343125 112.611248 \n\" clip-path=\"url(#pb1cff124f2)\" style=\"fill: none; stroke-dasharray: 5.55,2.4; stroke-dashoffset: 0; stroke: #ff7f0e; stroke-width: 1.5\"/>\n   </g>\n   <g id=\"line2d_99\">\n    <path d=\"M 49.633125 139.5 \nL 69.163125 137.483816 \nL 88.693125 133.029986 \nL 108.223125 134.761399 \nL 127.753125 135.285378 \nL 147.283125 111.336076 \nL 166.813125 134.339936 \n\" clip-path=\"url(#pb1cff124f2)\" style=\"fill: none; stroke-dasharray: 9.6,2.4,1.5,2.4; stroke-dashoffset: 0; stroke: #2ca02c; stroke-width: 1.5\"/>\n   </g>\n   <g id=\"line2d_100\">\n    <path d=\"M 34.954394 15.946562 \nL 44.698573 15.985717 \nL 54.442752 16.016275 \nL 64.186931 16.052529 \nL 73.93111 16.112996 \nL 83.675289 16.192714 \nL 93.419468 16.331132 \nL 103.163647 16.62382 \nL 112.907826 17.511443 \nL 122.652006 23.214841 \nL 132.396185 52.819159 \nL 142.140364 82.179672 \nL 151.884543 94.722256 \nL 161.628722 100.816429 \nL 171.372901 103.873335 \nL 181.11708 108.952308 \n\" clip-path=\"url(#pb1cff124f2)\" style=\"fill: none; stroke: #1f77b4; stroke-width: 1.5; stroke-linecap: square\"/>\n   </g>\n   <g id=\"line2d_101\">\n    <path d=\"M 49.633125 16.004576 \nL 69.163125 16.083919 \nL 88.693125 16.25488 \nL 108.223125 16.912676 \nL 127.753125 35.445163 \nL 147.283125 93.665273 \nL 166.813125 13.5 \nL 186.343125 112.611248 \n\" clip-path=\"url(#pb1cff124f2)\" style=\"fill: none; stroke-dasharray: 5.55,2.4; stroke-dashoffset: 0; stroke: #ff7f0e; stroke-width: 1.5\"/>\n   </g>\n   <g id=\"line2d_102\">\n    <path d=\"M 49.633125 139.5 \nL 69.163125 137.483816 \nL 88.693125 133.029986 \nL 108.223125 134.761399 \nL 127.753125 135.285378 \nL 147.283125 111.336076 \nL 166.813125 134.339936 \nL 186.343125 104.245261 \n\" clip-path=\"url(#pb1cff124f2)\" style=\"fill: none; stroke-dasharray: 9.6,2.4,1.5,2.4; stroke-dashoffset: 0; stroke: #2ca02c; stroke-width: 1.5\"/>\n   </g>\n   <g id=\"line2d_103\">\n    <path d=\"M 34.954394 15.946562 \nL 44.698573 15.985717 \nL 54.442752 16.016275 \nL 64.186931 16.052529 \nL 73.93111 16.112996 \nL 83.675289 16.192714 \nL 93.419468 16.331132 \nL 103.163647 16.62382 \nL 112.907826 17.511443 \nL 122.652006 23.214841 \nL 132.396185 52.819159 \nL 142.140364 82.179672 \nL 151.884543 94.722256 \nL 161.628722 100.816429 \nL 171.372901 103.873335 \nL 181.11708 108.952308 \nL 190.861259 112.393895 \n\" clip-path=\"url(#pb1cff124f2)\" style=\"fill: none; stroke: #1f77b4; stroke-width: 1.5; stroke-linecap: square\"/>\n   </g>\n   <g id=\"line2d_104\">\n    <path d=\"M 49.633125 16.004576 \nL 69.163125 16.083919 \nL 88.693125 16.25488 \nL 108.223125 16.912676 \nL 127.753125 35.445163 \nL 147.283125 93.665273 \nL 166.813125 13.5 \nL 186.343125 112.611248 \n\" clip-path=\"url(#pb1cff124f2)\" style=\"fill: none; stroke-dasharray: 5.55,2.4; stroke-dashoffset: 0; stroke: #ff7f0e; stroke-width: 1.5\"/>\n   </g>\n   <g id=\"line2d_105\">\n    <path d=\"M 49.633125 139.5 \nL 69.163125 137.483816 \nL 88.693125 133.029986 \nL 108.223125 134.761399 \nL 127.753125 135.285378 \nL 147.283125 111.336076 \nL 166.813125 134.339936 \nL 186.343125 104.245261 \n\" clip-path=\"url(#pb1cff124f2)\" style=\"fill: none; stroke-dasharray: 9.6,2.4,1.5,2.4; stroke-dashoffset: 0; stroke: #2ca02c; stroke-width: 1.5\"/>\n   </g>\n   <g id=\"line2d_106\">\n    <path d=\"M 34.954394 15.946562 \nL 44.698573 15.985717 \nL 54.442752 16.016275 \nL 64.186931 16.052529 \nL 73.93111 16.112996 \nL 83.675289 16.192714 \nL 93.419468 16.331132 \nL 103.163647 16.62382 \nL 112.907826 17.511443 \nL 122.652006 23.214841 \nL 132.396185 52.819159 \nL 142.140364 82.179672 \nL 151.884543 94.722256 \nL 161.628722 100.816429 \nL 171.372901 103.873335 \nL 181.11708 108.952308 \nL 190.861259 112.393895 \nL 200.605438 114.284836 \n\" clip-path=\"url(#pb1cff124f2)\" style=\"fill: none; stroke: #1f77b4; stroke-width: 1.5; stroke-linecap: square\"/>\n   </g>\n   <g id=\"line2d_107\">\n    <path d=\"M 49.633125 16.004576 \nL 69.163125 16.083919 \nL 88.693125 16.25488 \nL 108.223125 16.912676 \nL 127.753125 35.445163 \nL 147.283125 93.665273 \nL 166.813125 13.5 \nL 186.343125 112.611248 \n\" clip-path=\"url(#pb1cff124f2)\" style=\"fill: none; stroke-dasharray: 5.55,2.4; stroke-dashoffset: 0; stroke: #ff7f0e; stroke-width: 1.5\"/>\n   </g>\n   <g id=\"line2d_108\">\n    <path d=\"M 49.633125 139.5 \nL 69.163125 137.483816 \nL 88.693125 133.029986 \nL 108.223125 134.761399 \nL 127.753125 135.285378 \nL 147.283125 111.336076 \nL 166.813125 134.339936 \nL 186.343125 104.245261 \n\" clip-path=\"url(#pb1cff124f2)\" style=\"fill: none; stroke-dasharray: 9.6,2.4,1.5,2.4; stroke-dashoffset: 0; stroke: #2ca02c; stroke-width: 1.5\"/>\n   </g>\n   <g id=\"line2d_109\">\n    <path d=\"M 34.954394 15.946562 \nL 44.698573 15.985717 \nL 54.442752 16.016275 \nL 64.186931 16.052529 \nL 73.93111 16.112996 \nL 83.675289 16.192714 \nL 93.419468 16.331132 \nL 103.163647 16.62382 \nL 112.907826 17.511443 \nL 122.652006 23.214841 \nL 132.396185 52.819159 \nL 142.140364 82.179672 \nL 151.884543 94.722256 \nL 161.628722 100.816429 \nL 171.372901 103.873335 \nL 181.11708 108.952308 \nL 190.861259 112.393895 \nL 200.605438 114.284836 \n\" clip-path=\"url(#pb1cff124f2)\" style=\"fill: none; stroke: #1f77b4; stroke-width: 1.5; stroke-linecap: square\"/>\n   </g>\n   <g id=\"line2d_110\">\n    <path d=\"M 49.633125 16.004576 \nL 69.163125 16.083919 \nL 88.693125 16.25488 \nL 108.223125 16.912676 \nL 127.753125 35.445163 \nL 147.283125 93.665273 \nL 166.813125 13.5 \nL 186.343125 112.611248 \nL 205.873125 116.046261 \n\" clip-path=\"url(#pb1cff124f2)\" style=\"fill: none; stroke-dasharray: 5.55,2.4; stroke-dashoffset: 0; stroke: #ff7f0e; stroke-width: 1.5\"/>\n   </g>\n   <g id=\"line2d_111\">\n    <path d=\"M 49.633125 139.5 \nL 69.163125 137.483816 \nL 88.693125 133.029986 \nL 108.223125 134.761399 \nL 127.753125 135.285378 \nL 147.283125 111.336076 \nL 166.813125 134.339936 \nL 186.343125 104.245261 \n\" clip-path=\"url(#pb1cff124f2)\" style=\"fill: none; stroke-dasharray: 9.6,2.4,1.5,2.4; stroke-dashoffset: 0; stroke: #2ca02c; stroke-width: 1.5\"/>\n   </g>\n   <g id=\"line2d_112\">\n    <path d=\"M 34.954394 15.946562 \nL 44.698573 15.985717 \nL 54.442752 16.016275 \nL 64.186931 16.052529 \nL 73.93111 16.112996 \nL 83.675289 16.192714 \nL 93.419468 16.331132 \nL 103.163647 16.62382 \nL 112.907826 17.511443 \nL 122.652006 23.214841 \nL 132.396185 52.819159 \nL 142.140364 82.179672 \nL 151.884543 94.722256 \nL 161.628722 100.816429 \nL 171.372901 103.873335 \nL 181.11708 108.952308 \nL 190.861259 112.393895 \nL 200.605438 114.284836 \n\" clip-path=\"url(#pb1cff124f2)\" style=\"fill: none; stroke: #1f77b4; stroke-width: 1.5; stroke-linecap: square\"/>\n   </g>\n   <g id=\"line2d_113\">\n    <path d=\"M 49.633125 16.004576 \nL 69.163125 16.083919 \nL 88.693125 16.25488 \nL 108.223125 16.912676 \nL 127.753125 35.445163 \nL 147.283125 93.665273 \nL 166.813125 13.5 \nL 186.343125 112.611248 \nL 205.873125 116.046261 \n\" clip-path=\"url(#pb1cff124f2)\" style=\"fill: none; stroke-dasharray: 5.55,2.4; stroke-dashoffset: 0; stroke: #ff7f0e; stroke-width: 1.5\"/>\n   </g>\n   <g id=\"line2d_114\">\n    <path d=\"M 49.633125 139.5 \nL 69.163125 137.483816 \nL 88.693125 133.029986 \nL 108.223125 134.761399 \nL 127.753125 135.285378 \nL 147.283125 111.336076 \nL 166.813125 134.339936 \nL 186.343125 104.245261 \nL 205.873125 103.100478 \n\" clip-path=\"url(#pb1cff124f2)\" style=\"fill: none; stroke-dasharray: 9.6,2.4,1.5,2.4; stroke-dashoffset: 0; stroke: #2ca02c; stroke-width: 1.5\"/>\n   </g>\n   <g id=\"line2d_115\">\n    <path d=\"M 34.954394 15.946562 \nL 44.698573 15.985717 \nL 54.442752 16.016275 \nL 64.186931 16.052529 \nL 73.93111 16.112996 \nL 83.675289 16.192714 \nL 93.419468 16.331132 \nL 103.163647 16.62382 \nL 112.907826 17.511443 \nL 122.652006 23.214841 \nL 132.396185 52.819159 \nL 142.140364 82.179672 \nL 151.884543 94.722256 \nL 161.628722 100.816429 \nL 171.372901 103.873335 \nL 181.11708 108.952308 \nL 190.861259 112.393895 \nL 200.605438 114.284836 \nL 210.349618 116.355359 \n\" clip-path=\"url(#pb1cff124f2)\" style=\"fill: none; stroke: #1f77b4; stroke-width: 1.5; stroke-linecap: square\"/>\n   </g>\n   <g id=\"line2d_116\">\n    <path d=\"M 49.633125 16.004576 \nL 69.163125 16.083919 \nL 88.693125 16.25488 \nL 108.223125 16.912676 \nL 127.753125 35.445163 \nL 147.283125 93.665273 \nL 166.813125 13.5 \nL 186.343125 112.611248 \nL 205.873125 116.046261 \n\" clip-path=\"url(#pb1cff124f2)\" style=\"fill: none; stroke-dasharray: 5.55,2.4; stroke-dashoffset: 0; stroke: #ff7f0e; stroke-width: 1.5\"/>\n   </g>\n   <g id=\"line2d_117\">\n    <path d=\"M 49.633125 139.5 \nL 69.163125 137.483816 \nL 88.693125 133.029986 \nL 108.223125 134.761399 \nL 127.753125 135.285378 \nL 147.283125 111.336076 \nL 166.813125 134.339936 \nL 186.343125 104.245261 \nL 205.873125 103.100478 \n\" clip-path=\"url(#pb1cff124f2)\" style=\"fill: none; stroke-dasharray: 9.6,2.4,1.5,2.4; stroke-dashoffset: 0; stroke: #2ca02c; stroke-width: 1.5\"/>\n   </g>\n   <g id=\"line2d_118\">\n    <path d=\"M 34.954394 15.946562 \nL 44.698573 15.985717 \nL 54.442752 16.016275 \nL 64.186931 16.052529 \nL 73.93111 16.112996 \nL 83.675289 16.192714 \nL 93.419468 16.331132 \nL 103.163647 16.62382 \nL 112.907826 17.511443 \nL 122.652006 23.214841 \nL 132.396185 52.819159 \nL 142.140364 82.179672 \nL 151.884543 94.722256 \nL 161.628722 100.816429 \nL 171.372901 103.873335 \nL 181.11708 108.952308 \nL 190.861259 112.393895 \nL 200.605438 114.284836 \nL 210.349618 116.355359 \nL 220.093797 117.655595 \n\" clip-path=\"url(#pb1cff124f2)\" style=\"fill: none; stroke: #1f77b4; stroke-width: 1.5; stroke-linecap: square\"/>\n   </g>\n   <g id=\"line2d_119\">\n    <path d=\"M 49.633125 16.004576 \nL 69.163125 16.083919 \nL 88.693125 16.25488 \nL 108.223125 16.912676 \nL 127.753125 35.445163 \nL 147.283125 93.665273 \nL 166.813125 13.5 \nL 186.343125 112.611248 \nL 205.873125 116.046261 \n\" clip-path=\"url(#pb1cff124f2)\" style=\"fill: none; stroke-dasharray: 5.55,2.4; stroke-dashoffset: 0; stroke: #ff7f0e; stroke-width: 1.5\"/>\n   </g>\n   <g id=\"line2d_120\">\n    <path d=\"M 49.633125 139.5 \nL 69.163125 137.483816 \nL 88.693125 133.029986 \nL 108.223125 134.761399 \nL 127.753125 135.285378 \nL 147.283125 111.336076 \nL 166.813125 134.339936 \nL 186.343125 104.245261 \nL 205.873125 103.100478 \n\" clip-path=\"url(#pb1cff124f2)\" style=\"fill: none; stroke-dasharray: 9.6,2.4,1.5,2.4; stroke-dashoffset: 0; stroke: #2ca02c; stroke-width: 1.5\"/>\n   </g>\n   <g id=\"line2d_121\">\n    <path d=\"M 34.954394 15.946562 \nL 44.698573 15.985717 \nL 54.442752 16.016275 \nL 64.186931 16.052529 \nL 73.93111 16.112996 \nL 83.675289 16.192714 \nL 93.419468 16.331132 \nL 103.163647 16.62382 \nL 112.907826 17.511443 \nL 122.652006 23.214841 \nL 132.396185 52.819159 \nL 142.140364 82.179672 \nL 151.884543 94.722256 \nL 161.628722 100.816429 \nL 171.372901 103.873335 \nL 181.11708 108.952308 \nL 190.861259 112.393895 \nL 200.605438 114.284836 \nL 210.349618 116.355359 \nL 220.093797 117.655595 \n\" clip-path=\"url(#pb1cff124f2)\" style=\"fill: none; stroke: #1f77b4; stroke-width: 1.5; stroke-linecap: square\"/>\n   </g>\n   <g id=\"line2d_122\">\n    <path d=\"M 49.633125 16.004576 \nL 69.163125 16.083919 \nL 88.693125 16.25488 \nL 108.223125 16.912676 \nL 127.753125 35.445163 \nL 147.283125 93.665273 \nL 166.813125 13.5 \nL 186.343125 112.611248 \nL 205.873125 116.046261 \nL 225.403125 117.721356 \n\" clip-path=\"url(#pb1cff124f2)\" style=\"fill: none; stroke-dasharray: 5.55,2.4; stroke-dashoffset: 0; stroke: #ff7f0e; stroke-width: 1.5\"/>\n   </g>\n   <g id=\"line2d_123\">\n    <path d=\"M 49.633125 139.5 \nL 69.163125 137.483816 \nL 88.693125 133.029986 \nL 108.223125 134.761399 \nL 127.753125 135.285378 \nL 147.283125 111.336076 \nL 166.813125 134.339936 \nL 186.343125 104.245261 \nL 205.873125 103.100478 \n\" clip-path=\"url(#pb1cff124f2)\" style=\"fill: none; stroke-dasharray: 9.6,2.4,1.5,2.4; stroke-dashoffset: 0; stroke: #2ca02c; stroke-width: 1.5\"/>\n   </g>\n   <g id=\"line2d_124\">\n    <path d=\"M 34.954394 15.946562 \nL 44.698573 15.985717 \nL 54.442752 16.016275 \nL 64.186931 16.052529 \nL 73.93111 16.112996 \nL 83.675289 16.192714 \nL 93.419468 16.331132 \nL 103.163647 16.62382 \nL 112.907826 17.511443 \nL 122.652006 23.214841 \nL 132.396185 52.819159 \nL 142.140364 82.179672 \nL 151.884543 94.722256 \nL 161.628722 100.816429 \nL 171.372901 103.873335 \nL 181.11708 108.952308 \nL 190.861259 112.393895 \nL 200.605438 114.284836 \nL 210.349618 116.355359 \nL 220.093797 117.655595 \n\" clip-path=\"url(#pb1cff124f2)\" style=\"fill: none; stroke: #1f77b4; stroke-width: 1.5; stroke-linecap: square\"/>\n   </g>\n   <g id=\"line2d_125\">\n    <path d=\"M 49.633125 16.004576 \nL 69.163125 16.083919 \nL 88.693125 16.25488 \nL 108.223125 16.912676 \nL 127.753125 35.445163 \nL 147.283125 93.665273 \nL 166.813125 13.5 \nL 186.343125 112.611248 \nL 205.873125 116.046261 \nL 225.403125 117.721356 \n\" clip-path=\"url(#pb1cff124f2)\" style=\"fill: none; stroke-dasharray: 5.55,2.4; stroke-dashoffset: 0; stroke: #ff7f0e; stroke-width: 1.5\"/>\n   </g>\n   <g id=\"line2d_126\">\n    <path d=\"M 49.633125 139.5 \nL 69.163125 137.483816 \nL 88.693125 133.029986 \nL 108.223125 134.761399 \nL 127.753125 135.285378 \nL 147.283125 111.336076 \nL 166.813125 134.339936 \nL 186.343125 104.245261 \nL 205.873125 103.100478 \nL 225.403125 102.707493 \n\" clip-path=\"url(#pb1cff124f2)\" style=\"fill: none; stroke-dasharray: 9.6,2.4,1.5,2.4; stroke-dashoffset: 0; stroke: #2ca02c; stroke-width: 1.5\"/>\n   </g>\n   <g id=\"patch_3\">\n    <path d=\"M 30.103125 145.8 \nL 30.103125 7.2 \n\" style=\"fill: none; stroke: #000000; stroke-width: 0.8; stroke-linejoin: miter; stroke-linecap: square\"/>\n   </g>\n   <g id=\"patch_4\">\n    <path d=\"M 225.403125 145.8 \nL 225.403125 7.2 \n\" style=\"fill: none; stroke: #000000; stroke-width: 0.8; stroke-linejoin: miter; stroke-linecap: square\"/>\n   </g>\n   <g id=\"patch_5\">\n    <path d=\"M 30.103125 145.8 \nL 225.403125 145.8 \n\" style=\"fill: none; stroke: #000000; stroke-width: 0.8; stroke-linejoin: miter; stroke-linecap: square\"/>\n   </g>\n   <g id=\"patch_6\">\n    <path d=\"M 30.103125 7.2 \nL 225.403125 7.2 \n\" style=\"fill: none; stroke: #000000; stroke-width: 0.8; stroke-linejoin: miter; stroke-linecap: square\"/>\n   </g>\n   <g id=\"legend_1\">\n    <g id=\"patch_7\">\n     <path d=\"M 37.103125 100.434375 \nL 116.69375 100.434375 \nQ 118.69375 100.434375 118.69375 98.434375 \nL 118.69375 54.565625 \nQ 118.69375 52.565625 116.69375 52.565625 \nL 37.103125 52.565625 \nQ 35.103125 52.565625 35.103125 54.565625 \nL 35.103125 98.434375 \nQ 35.103125 100.434375 37.103125 100.434375 \nz\n\" style=\"fill: #ffffff; opacity: 0.8; stroke: #cccccc; stroke-linejoin: miter\"/>\n    </g>\n    <g id=\"line2d_127\">\n     <path d=\"M 39.103125 60.664063 \nL 49.103125 60.664063 \nL 59.103125 60.664063 \n\" style=\"fill: none; stroke: #1f77b4; stroke-width: 1.5; stroke-linecap: square\"/>\n    </g>\n    <g id=\"text_12\">\n     <!-- train_loss -->\n     <g transform=\"translate(67.103125 64.164063) scale(0.1 -0.1)\">\n      <defs>\n       <path id=\"DejaVuSans-74\" d=\"M 1172 4494 \nL 1172 3500 \nL 2356 3500 \nL 2356 3053 \nL 1172 3053 \nL 1172 1153 \nQ 1172 725 1289 603 \nQ 1406 481 1766 481 \nL 2356 481 \nL 2356 0 \nL 1766 0 \nQ 1100 0 847 248 \nQ 594 497 594 1153 \nL 594 3053 \nL 172 3053 \nL 172 3500 \nL 594 3500 \nL 594 4494 \nL 1172 4494 \nz\n\" transform=\"scale(0.015625)\"/>\n       <path id=\"DejaVuSans-72\" d=\"M 2631 2963 \nQ 2534 3019 2420 3045 \nQ 2306 3072 2169 3072 \nQ 1681 3072 1420 2755 \nQ 1159 2438 1159 1844 \nL 1159 0 \nL 581 0 \nL 581 3500 \nL 1159 3500 \nL 1159 2956 \nQ 1341 3275 1631 3429 \nQ 1922 3584 2338 3584 \nQ 2397 3584 2469 3576 \nQ 2541 3569 2628 3553 \nL 2631 2963 \nz\n\" transform=\"scale(0.015625)\"/>\n       <path id=\"DejaVuSans-61\" d=\"M 2194 1759 \nQ 1497 1759 1228 1600 \nQ 959 1441 959 1056 \nQ 959 750 1161 570 \nQ 1363 391 1709 391 \nQ 2188 391 2477 730 \nQ 2766 1069 2766 1631 \nL 2766 1759 \nL 2194 1759 \nz\nM 3341 1997 \nL 3341 0 \nL 2766 0 \nL 2766 531 \nQ 2569 213 2275 61 \nQ 1981 -91 1556 -91 \nQ 1019 -91 701 211 \nQ 384 513 384 1019 \nQ 384 1609 779 1909 \nQ 1175 2209 1959 2209 \nL 2766 2209 \nL 2766 2266 \nQ 2766 2663 2505 2880 \nQ 2244 3097 1772 3097 \nQ 1472 3097 1187 3025 \nQ 903 2953 641 2809 \nL 641 3341 \nQ 956 3463 1253 3523 \nQ 1550 3584 1831 3584 \nQ 2591 3584 2966 3190 \nQ 3341 2797 3341 1997 \nz\n\" transform=\"scale(0.015625)\"/>\n       <path id=\"DejaVuSans-69\" d=\"M 603 3500 \nL 1178 3500 \nL 1178 0 \nL 603 0 \nL 603 3500 \nz\nM 603 4863 \nL 1178 4863 \nL 1178 4134 \nL 603 4134 \nL 603 4863 \nz\n\" transform=\"scale(0.015625)\"/>\n       <path id=\"DejaVuSans-6e\" d=\"M 3513 2113 \nL 3513 0 \nL 2938 0 \nL 2938 2094 \nQ 2938 2591 2744 2837 \nQ 2550 3084 2163 3084 \nQ 1697 3084 1428 2787 \nQ 1159 2491 1159 1978 \nL 1159 0 \nL 581 0 \nL 581 3500 \nL 1159 3500 \nL 1159 2956 \nQ 1366 3272 1645 3428 \nQ 1925 3584 2291 3584 \nQ 2894 3584 3203 3211 \nQ 3513 2838 3513 2113 \nz\n\" transform=\"scale(0.015625)\"/>\n       <path id=\"DejaVuSans-5f\" d=\"M 3263 -1063 \nL 3263 -1509 \nL -63 -1509 \nL -63 -1063 \nL 3263 -1063 \nz\n\" transform=\"scale(0.015625)\"/>\n       <path id=\"DejaVuSans-6c\" d=\"M 603 4863 \nL 1178 4863 \nL 1178 0 \nL 603 0 \nL 603 4863 \nz\n\" transform=\"scale(0.015625)\"/>\n       <path id=\"DejaVuSans-73\" d=\"M 2834 3397 \nL 2834 2853 \nQ 2591 2978 2328 3040 \nQ 2066 3103 1784 3103 \nQ 1356 3103 1142 2972 \nQ 928 2841 928 2578 \nQ 928 2378 1081 2264 \nQ 1234 2150 1697 2047 \nL 1894 2003 \nQ 2506 1872 2764 1633 \nQ 3022 1394 3022 966 \nQ 3022 478 2636 193 \nQ 2250 -91 1575 -91 \nQ 1294 -91 989 -36 \nQ 684 19 347 128 \nL 347 722 \nQ 666 556 975 473 \nQ 1284 391 1588 391 \nQ 1994 391 2212 530 \nQ 2431 669 2431 922 \nQ 2431 1156 2273 1281 \nQ 2116 1406 1581 1522 \nL 1381 1569 \nQ 847 1681 609 1914 \nQ 372 2147 372 2553 \nQ 372 3047 722 3315 \nQ 1072 3584 1716 3584 \nQ 2034 3584 2315 3537 \nQ 2597 3491 2834 3397 \nz\n\" transform=\"scale(0.015625)\"/>\n      </defs>\n      <use xlink:href=\"#DejaVuSans-74\"/>\n      <use xlink:href=\"#DejaVuSans-72\" x=\"39.208984\"/>\n      <use xlink:href=\"#DejaVuSans-61\" x=\"80.322266\"/>\n      <use xlink:href=\"#DejaVuSans-69\" x=\"141.601562\"/>\n      <use xlink:href=\"#DejaVuSans-6e\" x=\"169.384766\"/>\n      <use xlink:href=\"#DejaVuSans-5f\" x=\"232.763672\"/>\n      <use xlink:href=\"#DejaVuSans-6c\" x=\"282.763672\"/>\n      <use xlink:href=\"#DejaVuSans-6f\" x=\"310.546875\"/>\n      <use xlink:href=\"#DejaVuSans-73\" x=\"371.728516\"/>\n      <use xlink:href=\"#DejaVuSans-73\" x=\"423.828125\"/>\n     </g>\n    </g>\n    <g id=\"line2d_128\">\n     <path d=\"M 39.103125 75.620313 \nL 49.103125 75.620313 \nL 59.103125 75.620313 \n\" style=\"fill: none; stroke-dasharray: 5.55,2.4; stroke-dashoffset: 0; stroke: #ff7f0e; stroke-width: 1.5\"/>\n    </g>\n    <g id=\"text_13\">\n     <!-- val_loss -->\n     <g transform=\"translate(67.103125 79.120313) scale(0.1 -0.1)\">\n      <defs>\n       <path id=\"DejaVuSans-76\" d=\"M 191 3500 \nL 800 3500 \nL 1894 563 \nL 2988 3500 \nL 3597 3500 \nL 2284 0 \nL 1503 0 \nL 191 3500 \nz\n\" transform=\"scale(0.015625)\"/>\n      </defs>\n      <use xlink:href=\"#DejaVuSans-76\"/>\n      <use xlink:href=\"#DejaVuSans-61\" x=\"59.179688\"/>\n      <use xlink:href=\"#DejaVuSans-6c\" x=\"120.458984\"/>\n      <use xlink:href=\"#DejaVuSans-5f\" x=\"148.242188\"/>\n      <use xlink:href=\"#DejaVuSans-6c\" x=\"198.242188\"/>\n      <use xlink:href=\"#DejaVuSans-6f\" x=\"226.025391\"/>\n      <use xlink:href=\"#DejaVuSans-73\" x=\"287.207031\"/>\n      <use xlink:href=\"#DejaVuSans-73\" x=\"339.306641\"/>\n     </g>\n    </g>\n    <g id=\"line2d_129\">\n     <path d=\"M 39.103125 90.576563 \nL 49.103125 90.576563 \nL 59.103125 90.576563 \n\" style=\"fill: none; stroke-dasharray: 9.6,2.4,1.5,2.4; stroke-dashoffset: 0; stroke: #2ca02c; stroke-width: 1.5\"/>\n    </g>\n    <g id=\"text_14\">\n     <!-- val_acc -->\n     <g transform=\"translate(67.103125 94.076563) scale(0.1 -0.1)\">\n      <use xlink:href=\"#DejaVuSans-76\"/>\n      <use xlink:href=\"#DejaVuSans-61\" x=\"59.179688\"/>\n      <use xlink:href=\"#DejaVuSans-6c\" x=\"120.458984\"/>\n      <use xlink:href=\"#DejaVuSans-5f\" x=\"148.242188\"/>\n      <use xlink:href=\"#DejaVuSans-61\" x=\"198.242188\"/>\n      <use xlink:href=\"#DejaVuSans-63\" x=\"259.521484\"/>\n      <use xlink:href=\"#DejaVuSans-63\" x=\"314.501953\"/>\n     </g>\n    </g>\n   </g>\n  </g>\n </g>\n <defs>\n  <clipPath id=\"pb1cff124f2\">\n   <rect x=\"30.103125\" y=\"7.2\" width=\"195.3\" height=\"138.6\"/>\n  </clipPath>\n </defs>\n</svg>\n"
          },
          "metadata": {}
        }
      ],
      "source": [
        "model = GoogleNet(lr=0.01)\n",
        "trainer = d2l.Trainer(max_epochs=10, num_gpus=1)\n",
        "data = d2l.FashionMNIST(batch_size=128, resize=(96, 96))\n",
        "model.apply_init([next(iter(data.get_dataloader(True)))[0]], d2l.init_cnn)\n",
        "trainer.fit(model, data)"
      ]
    },
    {
      "cell_type": "markdown",
      "metadata": {
        "origin_pos": 30,
        "id": "14eaa685"
      },
      "source": [
        "## Discussion\n",
        "\n",
        "A key feature of GoogLeNet is that it is actually *cheaper* to compute than its predecessors\n",
        "while simultaneously providing improved accuracy. This marks the beginning of a much more deliberate\n",
        "network design that trades off the cost of evaluating a network with a reduction in errors. It also marks the beginning of experimentation at a block level with network design hyperparameters, even though it was entirely manual at the time. We will revisit this topic in :numref:`sec_cnn-design` when discussing strategies for network structure exploration.\n",
        "\n",
        "Over the following sections we will encounter a number of design choices (e.g., batch normalization, residual connections, and channel grouping) that allow us to improve networks significantly. For now, you can be proud to have implemented what is arguably the first truly modern CNN.\n",
        "\n",
        "## Exercises\n",
        "\n",
        "1. GoogLeNet was so successful that it went through a number of iterations, progressively improving speed and accuracy. Try to implement and run some of them. They include the following:\n",
        "    1. Add a batch normalization layer :cite:`Ioffe.Szegedy.2015`, as described later in :numref:`sec_batch_norm`.\n",
        "    1. Make adjustments to the Inception block (width, choice and order of convolutions), as described in :citet:`Szegedy.Vanhoucke.Ioffe.ea.2016`.\n",
        "    1. Use label smoothing for model regularization, as described in :citet:`Szegedy.Vanhoucke.Ioffe.ea.2016`.\n",
        "    1. Make further adjustments to the Inception block by adding residual connection :cite:`Szegedy.Ioffe.Vanhoucke.ea.2017`, as described later in :numref:`sec_resnet`.\n",
        "1. What is the minimum image size needed for GoogLeNet to work?\n",
        "1. Can you design a variant of GoogLeNet that works on Fashion-MNIST's native resolution of $28 \\times 28$ pixels? How would you need to change the stem, the body, and the head of the network, if anything at all?\n",
        "1. Compare the model parameter sizes of AlexNet, VGG, NiN, and GoogLeNet. How do the latter two network\n",
        "   architectures significantly reduce the model parameter size?\n",
        "1. Compare the amount of computation needed in GoogLeNet and AlexNet. How does this affect the design of an accelerator chip, e.g., in terms of memory size, memory bandwidth, cache size, the amount of computation, and the benefit of specialized operations?\n"
      ]
    },
    {
      "cell_type": "markdown",
      "source": [
        "##Jawaban"
      ],
      "metadata": {
        "id": "1WPmk4KwgaCu"
      }
    },
    {
      "cell_type": "markdown",
      "source": [
        "###1.1."
      ],
      "metadata": {
        "id": "V9XrP6YBcCfV"
      }
    },
    {
      "cell_type": "code",
      "source": [
        "# Pseudocode to add batch normalization\n",
        "class InceptionBlock(nn.Module):\n",
        "    def __init__(self):\n",
        "        super(InceptionBlock, self).__init__()\n",
        "        self.conv1 = nn.Conv2d(in_channels, out_channels, kernel_size=1)\n",
        "        self.bn1 = nn.BatchNorm2d(out_channels)  # Batch normalization after convolution\n",
        "        ...\n",
        "    def forward(self, x):\n",
        "        x = self.conv1(x)\n",
        "        x = self.bn1(x)  # Apply batch normalization\n",
        "        ..."
      ],
      "metadata": {
        "id": "tXO-QhDweqc7"
      },
      "execution_count": 6,
      "outputs": []
    },
    {
      "cell_type": "markdown",
      "source": [
        "###1.2."
      ],
      "metadata": {
        "id": "Q3nkWSvQeZQj"
      }
    },
    {
      "cell_type": "markdown",
      "source": [
        "Dalam Szegedy et al. (2016), perubahan pada blok Inception termasuk konvolusi yang difaktorkan seperti mengganti konvolusi 5×5 dengan dua konvolusi 3×3 untuk mengurangi perhitungan. Dapat juga dilakukan perubahan urutan operasi untuk meningkatkan kecepatan."
      ],
      "metadata": {
        "id": "a1d1TRQ6ez86"
      }
    },
    {
      "cell_type": "markdown",
      "source": [
        "###1.3."
      ],
      "metadata": {
        "id": "tugBDJEnec3J"
      }
    },
    {
      "cell_type": "code",
      "source": [
        "# Pseudocode to apply label smoothing\n",
        "class LabelSmoothingLoss(nn.Module):\n",
        "    def __init__(self, smoothing=0.1):\n",
        "        super(LabelSmoothingLoss, self).__init__()\n",
        "        self.smoothing = smoothing\n",
        "    def forward(self, pred, target):\n",
        "        one_hot = torch.zeros_like(pred).scatter(1, target.unsqueeze(1), 1)\n",
        "        one_hot = one_hot * (1 - self.smoothing) + self.smoothing / pred.size(1)\n",
        "        loss = -torch.mean(torch.sum(one_hot * torch.log_softmax(pred, dim=1), dim=1))\n",
        "        return loss"
      ],
      "metadata": {
        "id": "Jj23W2ZPfCru"
      },
      "execution_count": 7,
      "outputs": []
    },
    {
      "cell_type": "markdown",
      "source": [
        "###1.4."
      ],
      "metadata": {
        "id": "PP_oKGR-eehF"
      }
    },
    {
      "cell_type": "code",
      "source": [
        "# Adding residual connections in Inception block\n",
        "class ResidualInceptionBlock(nn.Module):\n",
        "    def forward(self, x):\n",
        "        residual = x  # Store original input\n",
        "        x = self.inception_layers(x)\n",
        "        x += residual  # Add residual connection\n",
        "        return F.relu(x)"
      ],
      "metadata": {
        "id": "AZI9ST_ffEc3"
      },
      "execution_count": 8,
      "outputs": []
    },
    {
      "cell_type": "markdown",
      "source": [
        "###2."
      ],
      "metadata": {
        "id": "fSHkjMNMcCfV"
      }
    },
    {
      "cell_type": "markdown",
      "source": [
        "GoogLeNet biasanya beroperasi pada gambar input berukuran 224×224 piksel. Ukuran minimum yang diperlukan akan bergantung pada ukuran lapisan output akhir setelah modul Inception dan lapisan pooling. Misalnya, setelah melewati beberapa lapisan pooling, dimensi spasial menyusut secara signifikan, sehingga ukuran input harus cukup besar untuk mencegah gambar menyusut menjadi terlalu kecil."
      ],
      "metadata": {
        "id": "gND3aL_3fTm1"
      }
    },
    {
      "cell_type": "markdown",
      "source": [
        "###3."
      ],
      "metadata": {
        "id": "dmDoAsJdcCfV"
      }
    },
    {
      "cell_type": "markdown",
      "source": [
        "Untuk menyesuaikan GoogLeNet agar dapat bekerja dengan dataset Fashion-MNIST 28×28, kita perlu melakukan perubahan berikut:\n",
        "- Stem (Lapisan Konvolusi Awal): Kurangi jumlah filter dan ukuran kernel pada konvolusi awal. Karena resolusi input lebih kecil, kita harus menggunakan konvolusi 3×3 alih-alih yang lebih besar yang digunakan dalam GoogLeNet asli.\n",
        "- Body (Blok Inception): Kurangi kedalaman setiap blok Inception dan gunakan lebih sedikit filter secara keseluruhan.\n",
        "Hapus atau turunkan skala lapisan pooling untuk menghindari penyusutan dimensi spasial terlalu dini.\n",
        "- Head (Lapisan Klasifikasi): Karena Fashion-MNIST adalah masalah 10-kelas, lapisan fully connected terakhir harus mengeluarkan 10 unit alih-alih 1000 yang digunakan dalam GoogLeNet asli untuk ImageNet."
      ],
      "metadata": {
        "id": "EO3iG6M8fUfv"
      }
    },
    {
      "cell_type": "markdown",
      "source": [
        "###4."
      ],
      "metadata": {
        "id": "Vp6apXRccCfV"
      }
    },
    {
      "cell_type": "markdown",
      "source": [
        "- AlexNet: Mengandung sekitar 60 juta parameter, terutama karena lapisan fully connected yang besar.\n",
        "- VGG: VGG-16 memiliki sekitar 138 juta parameter, dengan lapisan dalamnya berkontribusi pada ukuran parameter yang besar.\n",
        "- NiN: Jauh lebih sedikit parameter dibandingkan AlexNet dan VGG, terutama karena penggunaan konvolusi 1x1 dan global average pooling, menghilangkan kebutuhan untuk lapisan fully connected.\n",
        "- GoogLeNet: Sekitar 6,8 juta parameter, yang merupakan pengurangan drastis dibandingkan dengan AlexNet dan VGG. Arsitektur modul Inception memungkinkan model mempelajari fitur kompleks tanpa memerlukan lapisan fully connected yang besar."
      ],
      "metadata": {
        "id": "lkfznkw3fq4A"
      }
    },
    {
      "cell_type": "markdown",
      "source": [
        "###5."
      ],
      "metadata": {
        "id": "nm_qireZcCfV"
      }
    },
    {
      "cell_type": "markdown",
      "source": [
        "AlexNet memerlukan sekitar 1,5 miliar FLOPs untuk satu kali forward pass. Sedangkan GoogLeNet memerlukan jauh lebih sedikit FLOPs (sekitar 1,43 miliar FLOPs), meskipun merupakan jaringan yang lebih dalam, karena desain blok Inception yang efisien."
      ],
      "metadata": {
        "id": "aylMipr8f8HV"
      }
    },
    {
      "cell_type": "markdown",
      "metadata": {
        "origin_pos": 1,
        "id": "c8502f85"
      },
      "source": [
        "# 8.5. Batch Normalization"
      ]
    },
    {
      "cell_type": "code",
      "execution_count": null,
      "metadata": {
        "execution": {
          "iopub.execute_input": "2023-08-18T19:59:03.092523Z",
          "iopub.status.busy": "2023-08-18T19:59:03.092120Z",
          "iopub.status.idle": "2023-08-18T19:59:03.100348Z",
          "shell.execute_reply": "2023-08-18T19:59:03.099493Z"
        },
        "origin_pos": 8,
        "tab": [
          "pytorch"
        ],
        "id": "9a79b8f2"
      },
      "outputs": [],
      "source": [
        "def batch_norm(X, gamma, beta, moving_mean, moving_var, eps, momentum):\n",
        "    # Use is_grad_enabled to determine whether we are in training mode\n",
        "    if not torch.is_grad_enabled():\n",
        "        # In prediction mode, use mean and variance obtained by moving average\n",
        "        X_hat = (X - moving_mean) / torch.sqrt(moving_var + eps)\n",
        "    else:\n",
        "        assert len(X.shape) in (2, 4)\n",
        "        if len(X.shape) == 2:\n",
        "            # When using a fully connected layer, calculate the mean and\n",
        "            # variance on the feature dimension\n",
        "            mean = X.mean(dim=0)\n",
        "            var = ((X - mean) ** 2).mean(dim=0)\n",
        "        else:\n",
        "            # When using a two-dimensional convolutional layer, calculate the\n",
        "            # mean and variance on the channel dimension (axis=1). Here we\n",
        "            # need to maintain the shape of X, so that the broadcasting\n",
        "            # operation can be carried out later\n",
        "            mean = X.mean(dim=(0, 2, 3), keepdim=True)\n",
        "            var = ((X - mean) ** 2).mean(dim=(0, 2, 3), keepdim=True)\n",
        "        # In training mode, the current mean and variance are used\n",
        "        X_hat = (X - mean) / torch.sqrt(var + eps)\n",
        "        # Update the mean and variance using moving average\n",
        "        moving_mean = (1.0 - momentum) * moving_mean + momentum * mean\n",
        "        moving_var = (1.0 - momentum) * moving_var + momentum * var\n",
        "    Y = gamma * X_hat + beta  # Scale and shift\n",
        "    return Y, moving_mean.data, moving_var.data"
      ]
    },
    {
      "cell_type": "code",
      "execution_count": null,
      "metadata": {
        "execution": {
          "iopub.execute_input": "2023-08-18T19:59:03.103959Z",
          "iopub.status.busy": "2023-08-18T19:59:03.103597Z",
          "iopub.status.idle": "2023-08-18T19:59:03.113624Z",
          "shell.execute_reply": "2023-08-18T19:59:03.112645Z"
        },
        "origin_pos": 13,
        "tab": [
          "pytorch"
        ],
        "id": "8a591dd1"
      },
      "outputs": [],
      "source": [
        "class BatchNorm(nn.Module):\n",
        "    # num_features: the number of outputs for a fully connected layer or the\n",
        "    # number of output channels for a convolutional layer. num_dims: 2 for a\n",
        "    # fully connected layer and 4 for a convolutional layer\n",
        "    def __init__(self, num_features, num_dims):\n",
        "        super().__init__()\n",
        "        if num_dims == 2:\n",
        "            shape = (1, num_features)\n",
        "        else:\n",
        "            shape = (1, num_features, 1, 1)\n",
        "        # The scale parameter and the shift parameter (model parameters) are\n",
        "        # initialized to 1 and 0, respectively\n",
        "        self.gamma = nn.Parameter(torch.ones(shape))\n",
        "        self.beta = nn.Parameter(torch.zeros(shape))\n",
        "        # The variables that are not model parameters are initialized to 0 and\n",
        "        # 1\n",
        "        self.moving_mean = torch.zeros(shape)\n",
        "        self.moving_var = torch.ones(shape)\n",
        "\n",
        "    def forward(self, X):\n",
        "        # If X is not on the main memory, copy moving_mean and moving_var to\n",
        "        # the device where X is located\n",
        "        if self.moving_mean.device != X.device:\n",
        "            self.moving_mean = self.moving_mean.to(X.device)\n",
        "            self.moving_var = self.moving_var.to(X.device)\n",
        "        # Save the updated moving_mean and moving_var\n",
        "        Y, self.moving_mean, self.moving_var = batch_norm(\n",
        "            X, self.gamma, self.beta, self.moving_mean,\n",
        "            self.moving_var, eps=1e-5, momentum=0.1)\n",
        "        return Y"
      ]
    },
    {
      "cell_type": "code",
      "execution_count": null,
      "metadata": {
        "execution": {
          "iopub.execute_input": "2023-08-18T19:59:03.118112Z",
          "iopub.status.busy": "2023-08-18T19:59:03.117737Z",
          "iopub.status.idle": "2023-08-18T19:59:03.124711Z",
          "shell.execute_reply": "2023-08-18T19:59:03.123881Z"
        },
        "origin_pos": 17,
        "tab": [
          "pytorch"
        ],
        "id": "21c51c36"
      },
      "outputs": [],
      "source": [
        "class BNLeNetScratch(d2l.Classifier):\n",
        "    def __init__(self, lr=0.1, num_classes=10):\n",
        "        super().__init__()\n",
        "        self.save_hyperparameters()\n",
        "        self.net = nn.Sequential(\n",
        "            nn.LazyConv2d(6, kernel_size=5), BatchNorm(6, num_dims=4),\n",
        "            nn.Sigmoid(), nn.AvgPool2d(kernel_size=2, stride=2),\n",
        "            nn.LazyConv2d(16, kernel_size=5), BatchNorm(16, num_dims=4),\n",
        "            nn.Sigmoid(), nn.AvgPool2d(kernel_size=2, stride=2),\n",
        "            nn.Flatten(), nn.LazyLinear(120),\n",
        "            BatchNorm(120, num_dims=2), nn.Sigmoid(), nn.LazyLinear(84),\n",
        "            BatchNorm(84, num_dims=2), nn.Sigmoid(),\n",
        "            nn.LazyLinear(num_classes))"
      ]
    },
    {
      "cell_type": "code",
      "execution_count": null,
      "metadata": {
        "execution": {
          "iopub.execute_input": "2023-08-18T19:59:03.127886Z",
          "iopub.status.busy": "2023-08-18T19:59:03.127595Z",
          "iopub.status.idle": "2023-08-18T20:00:16.870229Z",
          "shell.execute_reply": "2023-08-18T20:00:16.869283Z"
        },
        "origin_pos": 22,
        "tab": [
          "pytorch"
        ],
        "id": "064cdd64",
        "outputId": "8cc436fd-bbcc-480e-c4e6-02692b7c823f",
        "colab": {
          "base_uri": "https://localhost:8080/",
          "height": 266
        }
      },
      "outputs": [
        {
          "output_type": "display_data",
          "data": {
            "text/plain": [
              "<Figure size 350x250 with 1 Axes>"
            ],
            "image/svg+xml": "<?xml version=\"1.0\" encoding=\"utf-8\" standalone=\"no\"?>\n<!DOCTYPE svg PUBLIC \"-//W3C//DTD SVG 1.1//EN\"\n  \"http://www.w3.org/Graphics/SVG/1.1/DTD/svg11.dtd\">\n<svg xmlns:xlink=\"http://www.w3.org/1999/xlink\" width=\"238.965625pt\" height=\"183.35625pt\" viewBox=\"0 0 238.965625 183.35625\" xmlns=\"http://www.w3.org/2000/svg\" version=\"1.1\">\n <metadata>\n  <rdf:RDF xmlns:dc=\"http://purl.org/dc/elements/1.1/\" xmlns:cc=\"http://creativecommons.org/ns#\" xmlns:rdf=\"http://www.w3.org/1999/02/22-rdf-syntax-ns#\">\n   <cc:Work>\n    <dc:type rdf:resource=\"http://purl.org/dc/dcmitype/StillImage\"/>\n    <dc:date>2024-10-04T14:45:03.999154</dc:date>\n    <dc:format>image/svg+xml</dc:format>\n    <dc:creator>\n     <cc:Agent>\n      <dc:title>Matplotlib v3.7.2, https://matplotlib.org/</dc:title>\n     </cc:Agent>\n    </dc:creator>\n   </cc:Work>\n  </rdf:RDF>\n </metadata>\n <defs>\n  <style type=\"text/css\">*{stroke-linejoin: round; stroke-linecap: butt}</style>\n </defs>\n <g id=\"figure_1\">\n  <g id=\"patch_1\">\n   <path d=\"M 0 183.35625 \nL 238.965625 183.35625 \nL 238.965625 0 \nL 0 0 \nz\n\" style=\"fill: #ffffff\"/>\n  </g>\n  <g id=\"axes_1\">\n   <g id=\"patch_2\">\n    <path d=\"M 30.103125 145.8 \nL 225.403125 145.8 \nL 225.403125 7.2 \nL 30.103125 7.2 \nz\n\" style=\"fill: #ffffff\"/>\n   </g>\n   <g id=\"matplotlib.axis_1\">\n    <g id=\"xtick_1\">\n     <g id=\"line2d_1\">\n      <defs>\n       <path id=\"m1c75811d72\" d=\"M 0 0 \nL 0 3.5 \n\" style=\"stroke: #000000; stroke-width: 0.8\"/>\n      </defs>\n      <g>\n       <use xlink:href=\"#m1c75811d72\" x=\"30.103125\" y=\"145.8\" style=\"stroke: #000000; stroke-width: 0.8\"/>\n      </g>\n     </g>\n     <g id=\"text_1\">\n      <!-- 0 -->\n      <g transform=\"translate(26.921875 160.398438) scale(0.1 -0.1)\">\n       <defs>\n        <path id=\"DejaVuSans-30\" d=\"M 2034 4250 \nQ 1547 4250 1301 3770 \nQ 1056 3291 1056 2328 \nQ 1056 1369 1301 889 \nQ 1547 409 2034 409 \nQ 2525 409 2770 889 \nQ 3016 1369 3016 2328 \nQ 3016 3291 2770 3770 \nQ 2525 4250 2034 4250 \nz\nM 2034 4750 \nQ 2819 4750 3233 4129 \nQ 3647 3509 3647 2328 \nQ 3647 1150 3233 529 \nQ 2819 -91 2034 -91 \nQ 1250 -91 836 529 \nQ 422 1150 422 2328 \nQ 422 3509 836 4129 \nQ 1250 4750 2034 4750 \nz\n\" transform=\"scale(0.015625)\"/>\n       </defs>\n       <use xlink:href=\"#DejaVuSans-30\"/>\n      </g>\n     </g>\n    </g>\n    <g id=\"xtick_2\">\n     <g id=\"line2d_2\">\n      <g>\n       <use xlink:href=\"#m1c75811d72\" x=\"69.163125\" y=\"145.8\" style=\"stroke: #000000; stroke-width: 0.8\"/>\n      </g>\n     </g>\n     <g id=\"text_2\">\n      <!-- 2 -->\n      <g transform=\"translate(65.981875 160.398438) scale(0.1 -0.1)\">\n       <defs>\n        <path id=\"DejaVuSans-32\" d=\"M 1228 531 \nL 3431 531 \nL 3431 0 \nL 469 0 \nL 469 531 \nQ 828 903 1448 1529 \nQ 2069 2156 2228 2338 \nQ 2531 2678 2651 2914 \nQ 2772 3150 2772 3378 \nQ 2772 3750 2511 3984 \nQ 2250 4219 1831 4219 \nQ 1534 4219 1204 4116 \nQ 875 4013 500 3803 \nL 500 4441 \nQ 881 4594 1212 4672 \nQ 1544 4750 1819 4750 \nQ 2544 4750 2975 4387 \nQ 3406 4025 3406 3419 \nQ 3406 3131 3298 2873 \nQ 3191 2616 2906 2266 \nQ 2828 2175 2409 1742 \nQ 1991 1309 1228 531 \nz\n\" transform=\"scale(0.015625)\"/>\n       </defs>\n       <use xlink:href=\"#DejaVuSans-32\"/>\n      </g>\n     </g>\n    </g>\n    <g id=\"xtick_3\">\n     <g id=\"line2d_3\">\n      <g>\n       <use xlink:href=\"#m1c75811d72\" x=\"108.223125\" y=\"145.8\" style=\"stroke: #000000; stroke-width: 0.8\"/>\n      </g>\n     </g>\n     <g id=\"text_3\">\n      <!-- 4 -->\n      <g transform=\"translate(105.041875 160.398438) scale(0.1 -0.1)\">\n       <defs>\n        <path id=\"DejaVuSans-34\" d=\"M 2419 4116 \nL 825 1625 \nL 2419 1625 \nL 2419 4116 \nz\nM 2253 4666 \nL 3047 4666 \nL 3047 1625 \nL 3713 1625 \nL 3713 1100 \nL 3047 1100 \nL 3047 0 \nL 2419 0 \nL 2419 1100 \nL 313 1100 \nL 313 1709 \nL 2253 4666 \nz\n\" transform=\"scale(0.015625)\"/>\n       </defs>\n       <use xlink:href=\"#DejaVuSans-34\"/>\n      </g>\n     </g>\n    </g>\n    <g id=\"xtick_4\">\n     <g id=\"line2d_4\">\n      <g>\n       <use xlink:href=\"#m1c75811d72\" x=\"147.283125\" y=\"145.8\" style=\"stroke: #000000; stroke-width: 0.8\"/>\n      </g>\n     </g>\n     <g id=\"text_4\">\n      <!-- 6 -->\n      <g transform=\"translate(144.101875 160.398438) scale(0.1 -0.1)\">\n       <defs>\n        <path id=\"DejaVuSans-36\" d=\"M 2113 2584 \nQ 1688 2584 1439 2293 \nQ 1191 2003 1191 1497 \nQ 1191 994 1439 701 \nQ 1688 409 2113 409 \nQ 2538 409 2786 701 \nQ 3034 994 3034 1497 \nQ 3034 2003 2786 2293 \nQ 2538 2584 2113 2584 \nz\nM 3366 4563 \nL 3366 3988 \nQ 3128 4100 2886 4159 \nQ 2644 4219 2406 4219 \nQ 1781 4219 1451 3797 \nQ 1122 3375 1075 2522 \nQ 1259 2794 1537 2939 \nQ 1816 3084 2150 3084 \nQ 2853 3084 3261 2657 \nQ 3669 2231 3669 1497 \nQ 3669 778 3244 343 \nQ 2819 -91 2113 -91 \nQ 1303 -91 875 529 \nQ 447 1150 447 2328 \nQ 447 3434 972 4092 \nQ 1497 4750 2381 4750 \nQ 2619 4750 2861 4703 \nQ 3103 4656 3366 4563 \nz\n\" transform=\"scale(0.015625)\"/>\n       </defs>\n       <use xlink:href=\"#DejaVuSans-36\"/>\n      </g>\n     </g>\n    </g>\n    <g id=\"xtick_5\">\n     <g id=\"line2d_5\">\n      <g>\n       <use xlink:href=\"#m1c75811d72\" x=\"186.343125\" y=\"145.8\" style=\"stroke: #000000; stroke-width: 0.8\"/>\n      </g>\n     </g>\n     <g id=\"text_5\">\n      <!-- 8 -->\n      <g transform=\"translate(183.161875 160.398438) scale(0.1 -0.1)\">\n       <defs>\n        <path id=\"DejaVuSans-38\" d=\"M 2034 2216 \nQ 1584 2216 1326 1975 \nQ 1069 1734 1069 1313 \nQ 1069 891 1326 650 \nQ 1584 409 2034 409 \nQ 2484 409 2743 651 \nQ 3003 894 3003 1313 \nQ 3003 1734 2745 1975 \nQ 2488 2216 2034 2216 \nz\nM 1403 2484 \nQ 997 2584 770 2862 \nQ 544 3141 544 3541 \nQ 544 4100 942 4425 \nQ 1341 4750 2034 4750 \nQ 2731 4750 3128 4425 \nQ 3525 4100 3525 3541 \nQ 3525 3141 3298 2862 \nQ 3072 2584 2669 2484 \nQ 3125 2378 3379 2068 \nQ 3634 1759 3634 1313 \nQ 3634 634 3220 271 \nQ 2806 -91 2034 -91 \nQ 1263 -91 848 271 \nQ 434 634 434 1313 \nQ 434 1759 690 2068 \nQ 947 2378 1403 2484 \nz\nM 1172 3481 \nQ 1172 3119 1398 2916 \nQ 1625 2713 2034 2713 \nQ 2441 2713 2670 2916 \nQ 2900 3119 2900 3481 \nQ 2900 3844 2670 4047 \nQ 2441 4250 2034 4250 \nQ 1625 4250 1398 4047 \nQ 1172 3844 1172 3481 \nz\n\" transform=\"scale(0.015625)\"/>\n       </defs>\n       <use xlink:href=\"#DejaVuSans-38\"/>\n      </g>\n     </g>\n    </g>\n    <g id=\"xtick_6\">\n     <g id=\"line2d_6\">\n      <g>\n       <use xlink:href=\"#m1c75811d72\" x=\"225.403125\" y=\"145.8\" style=\"stroke: #000000; stroke-width: 0.8\"/>\n      </g>\n     </g>\n     <g id=\"text_6\">\n      <!-- 10 -->\n      <g transform=\"translate(219.040625 160.398438) scale(0.1 -0.1)\">\n       <defs>\n        <path id=\"DejaVuSans-31\" d=\"M 794 531 \nL 1825 531 \nL 1825 4091 \nL 703 3866 \nL 703 4441 \nL 1819 4666 \nL 2450 4666 \nL 2450 531 \nL 3481 531 \nL 3481 0 \nL 794 0 \nL 794 531 \nz\n\" transform=\"scale(0.015625)\"/>\n       </defs>\n       <use xlink:href=\"#DejaVuSans-31\"/>\n       <use xlink:href=\"#DejaVuSans-30\" x=\"63.623047\"/>\n      </g>\n     </g>\n    </g>\n    <g id=\"text_7\">\n     <!-- epoch -->\n     <g transform=\"translate(112.525 174.076563) scale(0.1 -0.1)\">\n      <defs>\n       <path id=\"DejaVuSans-65\" d=\"M 3597 1894 \nL 3597 1613 \nL 953 1613 \nQ 991 1019 1311 708 \nQ 1631 397 2203 397 \nQ 2534 397 2845 478 \nQ 3156 559 3463 722 \nL 3463 178 \nQ 3153 47 2828 -22 \nQ 2503 -91 2169 -91 \nQ 1331 -91 842 396 \nQ 353 884 353 1716 \nQ 353 2575 817 3079 \nQ 1281 3584 2069 3584 \nQ 2775 3584 3186 3129 \nQ 3597 2675 3597 1894 \nz\nM 3022 2063 \nQ 3016 2534 2758 2815 \nQ 2500 3097 2075 3097 \nQ 1594 3097 1305 2825 \nQ 1016 2553 972 2059 \nL 3022 2063 \nz\n\" transform=\"scale(0.015625)\"/>\n       <path id=\"DejaVuSans-70\" d=\"M 1159 525 \nL 1159 -1331 \nL 581 -1331 \nL 581 3500 \nL 1159 3500 \nL 1159 2969 \nQ 1341 3281 1617 3432 \nQ 1894 3584 2278 3584 \nQ 2916 3584 3314 3078 \nQ 3713 2572 3713 1747 \nQ 3713 922 3314 415 \nQ 2916 -91 2278 -91 \nQ 1894 -91 1617 61 \nQ 1341 213 1159 525 \nz\nM 3116 1747 \nQ 3116 2381 2855 2742 \nQ 2594 3103 2138 3103 \nQ 1681 3103 1420 2742 \nQ 1159 2381 1159 1747 \nQ 1159 1113 1420 752 \nQ 1681 391 2138 391 \nQ 2594 391 2855 752 \nQ 3116 1113 3116 1747 \nz\n\" transform=\"scale(0.015625)\"/>\n       <path id=\"DejaVuSans-6f\" d=\"M 1959 3097 \nQ 1497 3097 1228 2736 \nQ 959 2375 959 1747 \nQ 959 1119 1226 758 \nQ 1494 397 1959 397 \nQ 2419 397 2687 759 \nQ 2956 1122 2956 1747 \nQ 2956 2369 2687 2733 \nQ 2419 3097 1959 3097 \nz\nM 1959 3584 \nQ 2709 3584 3137 3096 \nQ 3566 2609 3566 1747 \nQ 3566 888 3137 398 \nQ 2709 -91 1959 -91 \nQ 1206 -91 779 398 \nQ 353 888 353 1747 \nQ 353 2609 779 3096 \nQ 1206 3584 1959 3584 \nz\n\" transform=\"scale(0.015625)\"/>\n       <path id=\"DejaVuSans-63\" d=\"M 3122 3366 \nL 3122 2828 \nQ 2878 2963 2633 3030 \nQ 2388 3097 2138 3097 \nQ 1578 3097 1268 2742 \nQ 959 2388 959 1747 \nQ 959 1106 1268 751 \nQ 1578 397 2138 397 \nQ 2388 397 2633 464 \nQ 2878 531 3122 666 \nL 3122 134 \nQ 2881 22 2623 -34 \nQ 2366 -91 2075 -91 \nQ 1284 -91 818 406 \nQ 353 903 353 1747 \nQ 353 2603 823 3093 \nQ 1294 3584 2113 3584 \nQ 2378 3584 2631 3529 \nQ 2884 3475 3122 3366 \nz\n\" transform=\"scale(0.015625)\"/>\n       <path id=\"DejaVuSans-68\" d=\"M 3513 2113 \nL 3513 0 \nL 2938 0 \nL 2938 2094 \nQ 2938 2591 2744 2837 \nQ 2550 3084 2163 3084 \nQ 1697 3084 1428 2787 \nQ 1159 2491 1159 1978 \nL 1159 0 \nL 581 0 \nL 581 4863 \nL 1159 4863 \nL 1159 2956 \nQ 1366 3272 1645 3428 \nQ 1925 3584 2291 3584 \nQ 2894 3584 3203 3211 \nQ 3513 2838 3513 2113 \nz\n\" transform=\"scale(0.015625)\"/>\n      </defs>\n      <use xlink:href=\"#DejaVuSans-65\"/>\n      <use xlink:href=\"#DejaVuSans-70\" x=\"61.523438\"/>\n      <use xlink:href=\"#DejaVuSans-6f\" x=\"125\"/>\n      <use xlink:href=\"#DejaVuSans-63\" x=\"186.181641\"/>\n      <use xlink:href=\"#DejaVuSans-68\" x=\"241.162109\"/>\n     </g>\n    </g>\n   </g>\n   <g id=\"matplotlib.axis_2\">\n    <g id=\"ytick_1\">\n     <g id=\"line2d_7\">\n      <defs>\n       <path id=\"ma1c14158f6\" d=\"M 0 0 \nL -3.5 0 \n\" style=\"stroke: #000000; stroke-width: 0.8\"/>\n      </defs>\n      <g>\n       <use xlink:href=\"#ma1c14158f6\" x=\"30.103125\" y=\"120.863113\" style=\"stroke: #000000; stroke-width: 0.8\"/>\n      </g>\n     </g>\n     <g id=\"text_8\">\n      <!-- 0.4 -->\n      <g transform=\"translate(7.2 124.662332) scale(0.1 -0.1)\">\n       <defs>\n        <path id=\"DejaVuSans-2e\" d=\"M 684 794 \nL 1344 794 \nL 1344 0 \nL 684 0 \nL 684 794 \nz\n\" transform=\"scale(0.015625)\"/>\n       </defs>\n       <use xlink:href=\"#DejaVuSans-30\"/>\n       <use xlink:href=\"#DejaVuSans-2e\" x=\"63.623047\"/>\n       <use xlink:href=\"#DejaVuSans-34\" x=\"95.410156\"/>\n      </g>\n     </g>\n    </g>\n    <g id=\"ytick_2\">\n     <g id=\"line2d_8\">\n      <g>\n       <use xlink:href=\"#ma1c14158f6\" x=\"30.103125\" y=\"82.175854\" style=\"stroke: #000000; stroke-width: 0.8\"/>\n      </g>\n     </g>\n     <g id=\"text_9\">\n      <!-- 0.6 -->\n      <g transform=\"translate(7.2 85.975073) scale(0.1 -0.1)\">\n       <use xlink:href=\"#DejaVuSans-30\"/>\n       <use xlink:href=\"#DejaVuSans-2e\" x=\"63.623047\"/>\n       <use xlink:href=\"#DejaVuSans-36\" x=\"95.410156\"/>\n      </g>\n     </g>\n    </g>\n    <g id=\"ytick_3\">\n     <g id=\"line2d_9\">\n      <g>\n       <use xlink:href=\"#ma1c14158f6\" x=\"30.103125\" y=\"43.488595\" style=\"stroke: #000000; stroke-width: 0.8\"/>\n      </g>\n     </g>\n     <g id=\"text_10\">\n      <!-- 0.8 -->\n      <g transform=\"translate(7.2 47.287814) scale(0.1 -0.1)\">\n       <use xlink:href=\"#DejaVuSans-30\"/>\n       <use xlink:href=\"#DejaVuSans-2e\" x=\"63.623047\"/>\n       <use xlink:href=\"#DejaVuSans-38\" x=\"95.410156\"/>\n      </g>\n     </g>\n    </g>\n   </g>\n   <g id=\"line2d_10\">\n    <path d=\"M 34.954394 13.5 \n\" clip-path=\"url(#p8dbd49f338)\" style=\"fill: none; stroke: #1f77b4; stroke-width: 1.5; stroke-linecap: square\"/>\n   </g>\n   <g id=\"line2d_11\">\n    <path d=\"M 34.954394 13.5 \nL 44.698573 79.213567 \n\" clip-path=\"url(#p8dbd49f338)\" style=\"fill: none; stroke: #1f77b4; stroke-width: 1.5; stroke-linecap: square\"/>\n   </g>\n   <g id=\"line2d_12\">\n    <path d=\"M 34.954394 13.5 \nL 44.698573 79.213567 \n\" clip-path=\"url(#p8dbd49f338)\" style=\"fill: none; stroke: #1f77b4; stroke-width: 1.5; stroke-linecap: square\"/>\n   </g>\n   <g id=\"line2d_13\">\n    <path d=\"M 49.633125 77.887283 \n\" clip-path=\"url(#p8dbd49f338)\" style=\"fill: none; stroke-dasharray: 5.55,2.4; stroke-dashoffset: 0; stroke: #ff7f0e; stroke-width: 1.5\"/>\n   </g>\n   <g id=\"line2d_14\"/>\n   <g id=\"line2d_15\">\n    <path d=\"M 34.954394 13.5 \nL 44.698573 79.213567 \n\" clip-path=\"url(#p8dbd49f338)\" style=\"fill: none; stroke: #1f77b4; stroke-width: 1.5; stroke-linecap: square\"/>\n   </g>\n   <g id=\"line2d_16\">\n    <path d=\"M 49.633125 77.887283 \n\" clip-path=\"url(#p8dbd49f338)\" style=\"fill: none; stroke-dasharray: 5.55,2.4; stroke-dashoffset: 0; stroke: #ff7f0e; stroke-width: 1.5\"/>\n   </g>\n   <g id=\"line2d_17\">\n    <path d=\"M 49.633125 47.421596 \n\" clip-path=\"url(#p8dbd49f338)\" style=\"fill: none; stroke-dasharray: 9.6,2.4,1.5,2.4; stroke-dashoffset: 0; stroke: #2ca02c; stroke-width: 1.5\"/>\n   </g>\n   <g id=\"line2d_18\">\n    <path d=\"M 34.954394 13.5 \nL 44.698573 79.213567 \nL 54.442752 94.942299 \n\" clip-path=\"url(#p8dbd49f338)\" style=\"fill: none; stroke: #1f77b4; stroke-width: 1.5; stroke-linecap: square\"/>\n   </g>\n   <g id=\"line2d_19\">\n    <path d=\"M 49.633125 77.887283 \n\" clip-path=\"url(#p8dbd49f338)\" style=\"fill: none; stroke-dasharray: 5.55,2.4; stroke-dashoffset: 0; stroke: #ff7f0e; stroke-width: 1.5\"/>\n   </g>\n   <g id=\"line2d_20\">\n    <path d=\"M 49.633125 47.421596 \n\" clip-path=\"url(#p8dbd49f338)\" style=\"fill: none; stroke-dasharray: 9.6,2.4,1.5,2.4; stroke-dashoffset: 0; stroke: #2ca02c; stroke-width: 1.5\"/>\n   </g>\n   <g id=\"line2d_21\">\n    <path d=\"M 34.954394 13.5 \nL 44.698573 79.213567 \nL 54.442752 94.942299 \nL 64.186931 105.141956 \n\" clip-path=\"url(#p8dbd49f338)\" style=\"fill: none; stroke: #1f77b4; stroke-width: 1.5; stroke-linecap: square\"/>\n   </g>\n   <g id=\"line2d_22\">\n    <path d=\"M 49.633125 77.887283 \n\" clip-path=\"url(#p8dbd49f338)\" style=\"fill: none; stroke-dasharray: 5.55,2.4; stroke-dashoffset: 0; stroke: #ff7f0e; stroke-width: 1.5\"/>\n   </g>\n   <g id=\"line2d_23\">\n    <path d=\"M 49.633125 47.421596 \n\" clip-path=\"url(#p8dbd49f338)\" style=\"fill: none; stroke-dasharray: 9.6,2.4,1.5,2.4; stroke-dashoffset: 0; stroke: #2ca02c; stroke-width: 1.5\"/>\n   </g>\n   <g id=\"line2d_24\">\n    <path d=\"M 34.954394 13.5 \nL 44.698573 79.213567 \nL 54.442752 94.942299 \nL 64.186931 105.141956 \n\" clip-path=\"url(#p8dbd49f338)\" style=\"fill: none; stroke: #1f77b4; stroke-width: 1.5; stroke-linecap: square\"/>\n   </g>\n   <g id=\"line2d_25\">\n    <path d=\"M 49.633125 77.887283 \nL 69.163125 104.388195 \n\" clip-path=\"url(#p8dbd49f338)\" style=\"fill: none; stroke-dasharray: 5.55,2.4; stroke-dashoffset: 0; stroke: #ff7f0e; stroke-width: 1.5\"/>\n   </g>\n   <g id=\"line2d_26\">\n    <path d=\"M 49.633125 47.421596 \n\" clip-path=\"url(#p8dbd49f338)\" style=\"fill: none; stroke-dasharray: 9.6,2.4,1.5,2.4; stroke-dashoffset: 0; stroke: #2ca02c; stroke-width: 1.5\"/>\n   </g>\n   <g id=\"line2d_27\">\n    <path d=\"M 34.954394 13.5 \nL 44.698573 79.213567 \nL 54.442752 94.942299 \nL 64.186931 105.141956 \n\" clip-path=\"url(#p8dbd49f338)\" style=\"fill: none; stroke: #1f77b4; stroke-width: 1.5; stroke-linecap: square\"/>\n   </g>\n   <g id=\"line2d_28\">\n    <path d=\"M 49.633125 77.887283 \nL 69.163125 104.388195 \n\" clip-path=\"url(#p8dbd49f338)\" style=\"fill: none; stroke-dasharray: 5.55,2.4; stroke-dashoffset: 0; stroke: #ff7f0e; stroke-width: 1.5\"/>\n   </g>\n   <g id=\"line2d_29\">\n    <path d=\"M 49.633125 47.421596 \nL 69.163125 37.340413 \n\" clip-path=\"url(#p8dbd49f338)\" style=\"fill: none; stroke-dasharray: 9.6,2.4,1.5,2.4; stroke-dashoffset: 0; stroke: #2ca02c; stroke-width: 1.5\"/>\n   </g>\n   <g id=\"line2d_30\">\n    <path d=\"M 34.954394 13.5 \nL 44.698573 79.213567 \nL 54.442752 94.942299 \nL 64.186931 105.141956 \nL 73.93111 111.701672 \n\" clip-path=\"url(#p8dbd49f338)\" style=\"fill: none; stroke: #1f77b4; stroke-width: 1.5; stroke-linecap: square\"/>\n   </g>\n   <g id=\"line2d_31\">\n    <path d=\"M 49.633125 77.887283 \nL 69.163125 104.388195 \n\" clip-path=\"url(#p8dbd49f338)\" style=\"fill: none; stroke-dasharray: 5.55,2.4; stroke-dashoffset: 0; stroke: #ff7f0e; stroke-width: 1.5\"/>\n   </g>\n   <g id=\"line2d_32\">\n    <path d=\"M 49.633125 47.421596 \nL 69.163125 37.340413 \n\" clip-path=\"url(#p8dbd49f338)\" style=\"fill: none; stroke-dasharray: 9.6,2.4,1.5,2.4; stroke-dashoffset: 0; stroke: #2ca02c; stroke-width: 1.5\"/>\n   </g>\n   <g id=\"line2d_33\">\n    <path d=\"M 34.954394 13.5 \nL 44.698573 79.213567 \nL 54.442752 94.942299 \nL 64.186931 105.141956 \nL 73.93111 111.701672 \nL 83.675289 115.750284 \n\" clip-path=\"url(#p8dbd49f338)\" style=\"fill: none; stroke: #1f77b4; stroke-width: 1.5; stroke-linecap: square\"/>\n   </g>\n   <g id=\"line2d_34\">\n    <path d=\"M 49.633125 77.887283 \nL 69.163125 104.388195 \n\" clip-path=\"url(#p8dbd49f338)\" style=\"fill: none; stroke-dasharray: 5.55,2.4; stroke-dashoffset: 0; stroke: #ff7f0e; stroke-width: 1.5\"/>\n   </g>\n   <g id=\"line2d_35\">\n    <path d=\"M 49.633125 47.421596 \nL 69.163125 37.340413 \n\" clip-path=\"url(#p8dbd49f338)\" style=\"fill: none; stroke-dasharray: 9.6,2.4,1.5,2.4; stroke-dashoffset: 0; stroke: #2ca02c; stroke-width: 1.5\"/>\n   </g>\n   <g id=\"line2d_36\">\n    <path d=\"M 34.954394 13.5 \nL 44.698573 79.213567 \nL 54.442752 94.942299 \nL 64.186931 105.141956 \nL 73.93111 111.701672 \nL 83.675289 115.750284 \n\" clip-path=\"url(#p8dbd49f338)\" style=\"fill: none; stroke: #1f77b4; stroke-width: 1.5; stroke-linecap: square\"/>\n   </g>\n   <g id=\"line2d_37\">\n    <path d=\"M 49.633125 77.887283 \nL 69.163125 104.388195 \nL 88.693125 112.315919 \n\" clip-path=\"url(#p8dbd49f338)\" style=\"fill: none; stroke-dasharray: 5.55,2.4; stroke-dashoffset: 0; stroke: #ff7f0e; stroke-width: 1.5\"/>\n   </g>\n   <g id=\"line2d_38\">\n    <path d=\"M 49.633125 47.421596 \nL 69.163125 37.340413 \n\" clip-path=\"url(#p8dbd49f338)\" style=\"fill: none; stroke-dasharray: 9.6,2.4,1.5,2.4; stroke-dashoffset: 0; stroke: #2ca02c; stroke-width: 1.5\"/>\n   </g>\n   <g id=\"line2d_39\">\n    <path d=\"M 34.954394 13.5 \nL 44.698573 79.213567 \nL 54.442752 94.942299 \nL 64.186931 105.141956 \nL 73.93111 111.701672 \nL 83.675289 115.750284 \n\" clip-path=\"url(#p8dbd49f338)\" style=\"fill: none; stroke: #1f77b4; stroke-width: 1.5; stroke-linecap: square\"/>\n   </g>\n   <g id=\"line2d_40\">\n    <path d=\"M 49.633125 77.887283 \nL 69.163125 104.388195 \nL 88.693125 112.315919 \n\" clip-path=\"url(#p8dbd49f338)\" style=\"fill: none; stroke-dasharray: 5.55,2.4; stroke-dashoffset: 0; stroke: #ff7f0e; stroke-width: 1.5\"/>\n   </g>\n   <g id=\"line2d_41\">\n    <path d=\"M 49.633125 47.421596 \nL 69.163125 37.340413 \nL 88.693125 35.102275 \n\" clip-path=\"url(#p8dbd49f338)\" style=\"fill: none; stroke-dasharray: 9.6,2.4,1.5,2.4; stroke-dashoffset: 0; stroke: #2ca02c; stroke-width: 1.5\"/>\n   </g>\n   <g id=\"line2d_42\">\n    <path d=\"M 34.954394 13.5 \nL 44.698573 79.213567 \nL 54.442752 94.942299 \nL 64.186931 105.141956 \nL 73.93111 111.701672 \nL 83.675289 115.750284 \nL 93.419468 119.587711 \n\" clip-path=\"url(#p8dbd49f338)\" style=\"fill: none; stroke: #1f77b4; stroke-width: 1.5; stroke-linecap: square\"/>\n   </g>\n   <g id=\"line2d_43\">\n    <path d=\"M 49.633125 77.887283 \nL 69.163125 104.388195 \nL 88.693125 112.315919 \n\" clip-path=\"url(#p8dbd49f338)\" style=\"fill: none; stroke-dasharray: 5.55,2.4; stroke-dashoffset: 0; stroke: #ff7f0e; stroke-width: 1.5\"/>\n   </g>\n   <g id=\"line2d_44\">\n    <path d=\"M 49.633125 47.421596 \nL 69.163125 37.340413 \nL 88.693125 35.102275 \n\" clip-path=\"url(#p8dbd49f338)\" style=\"fill: none; stroke-dasharray: 9.6,2.4,1.5,2.4; stroke-dashoffset: 0; stroke: #2ca02c; stroke-width: 1.5\"/>\n   </g>\n   <g id=\"line2d_45\">\n    <path d=\"M 34.954394 13.5 \nL 44.698573 79.213567 \nL 54.442752 94.942299 \nL 64.186931 105.141956 \nL 73.93111 111.701672 \nL 83.675289 115.750284 \nL 93.419468 119.587711 \nL 103.163647 122.242339 \n\" clip-path=\"url(#p8dbd49f338)\" style=\"fill: none; stroke: #1f77b4; stroke-width: 1.5; stroke-linecap: square\"/>\n   </g>\n   <g id=\"line2d_46\">\n    <path d=\"M 49.633125 77.887283 \nL 69.163125 104.388195 \nL 88.693125 112.315919 \n\" clip-path=\"url(#p8dbd49f338)\" style=\"fill: none; stroke-dasharray: 5.55,2.4; stroke-dashoffset: 0; stroke: #ff7f0e; stroke-width: 1.5\"/>\n   </g>\n   <g id=\"line2d_47\">\n    <path d=\"M 49.633125 47.421596 \nL 69.163125 37.340413 \nL 88.693125 35.102275 \n\" clip-path=\"url(#p8dbd49f338)\" style=\"fill: none; stroke-dasharray: 9.6,2.4,1.5,2.4; stroke-dashoffset: 0; stroke: #2ca02c; stroke-width: 1.5\"/>\n   </g>\n   <g id=\"line2d_48\">\n    <path d=\"M 34.954394 13.5 \nL 44.698573 79.213567 \nL 54.442752 94.942299 \nL 64.186931 105.141956 \nL 73.93111 111.701672 \nL 83.675289 115.750284 \nL 93.419468 119.587711 \nL 103.163647 122.242339 \n\" clip-path=\"url(#p8dbd49f338)\" style=\"fill: none; stroke: #1f77b4; stroke-width: 1.5; stroke-linecap: square\"/>\n   </g>\n   <g id=\"line2d_49\">\n    <path d=\"M 49.633125 77.887283 \nL 69.163125 104.388195 \nL 88.693125 112.315919 \nL 108.223125 115.977003 \n\" clip-path=\"url(#p8dbd49f338)\" style=\"fill: none; stroke-dasharray: 5.55,2.4; stroke-dashoffset: 0; stroke: #ff7f0e; stroke-width: 1.5\"/>\n   </g>\n   <g id=\"line2d_50\">\n    <path d=\"M 49.633125 47.421596 \nL 69.163125 37.340413 \nL 88.693125 35.102275 \n\" clip-path=\"url(#p8dbd49f338)\" style=\"fill: none; stroke-dasharray: 9.6,2.4,1.5,2.4; stroke-dashoffset: 0; stroke: #2ca02c; stroke-width: 1.5\"/>\n   </g>\n   <g id=\"line2d_51\">\n    <path d=\"M 34.954394 13.5 \nL 44.698573 79.213567 \nL 54.442752 94.942299 \nL 64.186931 105.141956 \nL 73.93111 111.701672 \nL 83.675289 115.750284 \nL 93.419468 119.587711 \nL 103.163647 122.242339 \n\" clip-path=\"url(#p8dbd49f338)\" style=\"fill: none; stroke: #1f77b4; stroke-width: 1.5; stroke-linecap: square\"/>\n   </g>\n   <g id=\"line2d_52\">\n    <path d=\"M 49.633125 77.887283 \nL 69.163125 104.388195 \nL 88.693125 112.315919 \nL 108.223125 115.977003 \n\" clip-path=\"url(#p8dbd49f338)\" style=\"fill: none; stroke-dasharray: 5.55,2.4; stroke-dashoffset: 0; stroke: #ff7f0e; stroke-width: 1.5\"/>\n   </g>\n   <g id=\"line2d_53\">\n    <path d=\"M 49.633125 47.421596 \nL 69.163125 37.340413 \nL 88.693125 35.102275 \nL 108.223125 33.495407 \n\" clip-path=\"url(#p8dbd49f338)\" style=\"fill: none; stroke-dasharray: 9.6,2.4,1.5,2.4; stroke-dashoffset: 0; stroke: #2ca02c; stroke-width: 1.5\"/>\n   </g>\n   <g id=\"line2d_54\">\n    <path d=\"M 34.954394 13.5 \nL 44.698573 79.213567 \nL 54.442752 94.942299 \nL 64.186931 105.141956 \nL 73.93111 111.701672 \nL 83.675289 115.750284 \nL 93.419468 119.587711 \nL 103.163647 122.242339 \nL 112.907826 125.484013 \n\" clip-path=\"url(#p8dbd49f338)\" style=\"fill: none; stroke: #1f77b4; stroke-width: 1.5; stroke-linecap: square\"/>\n   </g>\n   <g id=\"line2d_55\">\n    <path d=\"M 49.633125 77.887283 \nL 69.163125 104.388195 \nL 88.693125 112.315919 \nL 108.223125 115.977003 \n\" clip-path=\"url(#p8dbd49f338)\" style=\"fill: none; stroke-dasharray: 5.55,2.4; stroke-dashoffset: 0; stroke: #ff7f0e; stroke-width: 1.5\"/>\n   </g>\n   <g id=\"line2d_56\">\n    <path d=\"M 49.633125 47.421596 \nL 69.163125 37.340413 \nL 88.693125 35.102275 \nL 108.223125 33.495407 \n\" clip-path=\"url(#p8dbd49f338)\" style=\"fill: none; stroke-dasharray: 9.6,2.4,1.5,2.4; stroke-dashoffset: 0; stroke: #2ca02c; stroke-width: 1.5\"/>\n   </g>\n   <g id=\"line2d_57\">\n    <path d=\"M 34.954394 13.5 \nL 44.698573 79.213567 \nL 54.442752 94.942299 \nL 64.186931 105.141956 \nL 73.93111 111.701672 \nL 83.675289 115.750284 \nL 93.419468 119.587711 \nL 103.163647 122.242339 \nL 112.907826 125.484013 \nL 122.652006 126.923856 \n\" clip-path=\"url(#p8dbd49f338)\" style=\"fill: none; stroke: #1f77b4; stroke-width: 1.5; stroke-linecap: square\"/>\n   </g>\n   <g id=\"line2d_58\">\n    <path d=\"M 49.633125 77.887283 \nL 69.163125 104.388195 \nL 88.693125 112.315919 \nL 108.223125 115.977003 \n\" clip-path=\"url(#p8dbd49f338)\" style=\"fill: none; stroke-dasharray: 5.55,2.4; stroke-dashoffset: 0; stroke: #ff7f0e; stroke-width: 1.5\"/>\n   </g>\n   <g id=\"line2d_59\">\n    <path d=\"M 49.633125 47.421596 \nL 69.163125 37.340413 \nL 88.693125 35.102275 \nL 108.223125 33.495407 \n\" clip-path=\"url(#p8dbd49f338)\" style=\"fill: none; stroke-dasharray: 9.6,2.4,1.5,2.4; stroke-dashoffset: 0; stroke: #2ca02c; stroke-width: 1.5\"/>\n   </g>\n   <g id=\"line2d_60\">\n    <path d=\"M 34.954394 13.5 \nL 44.698573 79.213567 \nL 54.442752 94.942299 \nL 64.186931 105.141956 \nL 73.93111 111.701672 \nL 83.675289 115.750284 \nL 93.419468 119.587711 \nL 103.163647 122.242339 \nL 112.907826 125.484013 \nL 122.652006 126.923856 \n\" clip-path=\"url(#p8dbd49f338)\" style=\"fill: none; stroke: #1f77b4; stroke-width: 1.5; stroke-linecap: square\"/>\n   </g>\n   <g id=\"line2d_61\">\n    <path d=\"M 49.633125 77.887283 \nL 69.163125 104.388195 \nL 88.693125 112.315919 \nL 108.223125 115.977003 \nL 127.753125 120.819086 \n\" clip-path=\"url(#p8dbd49f338)\" style=\"fill: none; stroke-dasharray: 5.55,2.4; stroke-dashoffset: 0; stroke: #ff7f0e; stroke-width: 1.5\"/>\n   </g>\n   <g id=\"line2d_62\">\n    <path d=\"M 49.633125 47.421596 \nL 69.163125 37.340413 \nL 88.693125 35.102275 \nL 108.223125 33.495407 \n\" clip-path=\"url(#p8dbd49f338)\" style=\"fill: none; stroke-dasharray: 9.6,2.4,1.5,2.4; stroke-dashoffset: 0; stroke: #2ca02c; stroke-width: 1.5\"/>\n   </g>\n   <g id=\"line2d_63\">\n    <path d=\"M 34.954394 13.5 \nL 44.698573 79.213567 \nL 54.442752 94.942299 \nL 64.186931 105.141956 \nL 73.93111 111.701672 \nL 83.675289 115.750284 \nL 93.419468 119.587711 \nL 103.163647 122.242339 \nL 112.907826 125.484013 \nL 122.652006 126.923856 \n\" clip-path=\"url(#p8dbd49f338)\" style=\"fill: none; stroke: #1f77b4; stroke-width: 1.5; stroke-linecap: square\"/>\n   </g>\n   <g id=\"line2d_64\">\n    <path d=\"M 49.633125 77.887283 \nL 69.163125 104.388195 \nL 88.693125 112.315919 \nL 108.223125 115.977003 \nL 127.753125 120.819086 \n\" clip-path=\"url(#p8dbd49f338)\" style=\"fill: none; stroke-dasharray: 5.55,2.4; stroke-dashoffset: 0; stroke: #ff7f0e; stroke-width: 1.5\"/>\n   </g>\n   <g id=\"line2d_65\">\n    <path d=\"M 49.633125 47.421596 \nL 69.163125 37.340413 \nL 88.693125 35.102275 \nL 108.223125 33.495407 \nL 127.753125 32.998043 \n\" clip-path=\"url(#p8dbd49f338)\" style=\"fill: none; stroke-dasharray: 9.6,2.4,1.5,2.4; stroke-dashoffset: 0; stroke: #2ca02c; stroke-width: 1.5\"/>\n   </g>\n   <g id=\"line2d_66\">\n    <path d=\"M 34.954394 13.5 \nL 44.698573 79.213567 \nL 54.442752 94.942299 \nL 64.186931 105.141956 \nL 73.93111 111.701672 \nL 83.675289 115.750284 \nL 93.419468 119.587711 \nL 103.163647 122.242339 \nL 112.907826 125.484013 \nL 122.652006 126.923856 \nL 132.396185 129.55148 \n\" clip-path=\"url(#p8dbd49f338)\" style=\"fill: none; stroke: #1f77b4; stroke-width: 1.5; stroke-linecap: square\"/>\n   </g>\n   <g id=\"line2d_67\">\n    <path d=\"M 49.633125 77.887283 \nL 69.163125 104.388195 \nL 88.693125 112.315919 \nL 108.223125 115.977003 \nL 127.753125 120.819086 \n\" clip-path=\"url(#p8dbd49f338)\" style=\"fill: none; stroke-dasharray: 5.55,2.4; stroke-dashoffset: 0; stroke: #ff7f0e; stroke-width: 1.5\"/>\n   </g>\n   <g id=\"line2d_68\">\n    <path d=\"M 49.633125 47.421596 \nL 69.163125 37.340413 \nL 88.693125 35.102275 \nL 108.223125 33.495407 \nL 127.753125 32.998043 \n\" clip-path=\"url(#p8dbd49f338)\" style=\"fill: none; stroke-dasharray: 9.6,2.4,1.5,2.4; stroke-dashoffset: 0; stroke: #2ca02c; stroke-width: 1.5\"/>\n   </g>\n   <g id=\"line2d_69\">\n    <path d=\"M 34.954394 13.5 \nL 44.698573 79.213567 \nL 54.442752 94.942299 \nL 64.186931 105.141956 \nL 73.93111 111.701672 \nL 83.675289 115.750284 \nL 93.419468 119.587711 \nL 103.163647 122.242339 \nL 112.907826 125.484013 \nL 122.652006 126.923856 \nL 132.396185 129.55148 \nL 142.140364 129.187743 \n\" clip-path=\"url(#p8dbd49f338)\" style=\"fill: none; stroke: #1f77b4; stroke-width: 1.5; stroke-linecap: square\"/>\n   </g>\n   <g id=\"line2d_70\">\n    <path d=\"M 49.633125 77.887283 \nL 69.163125 104.388195 \nL 88.693125 112.315919 \nL 108.223125 115.977003 \nL 127.753125 120.819086 \n\" clip-path=\"url(#p8dbd49f338)\" style=\"fill: none; stroke-dasharray: 5.55,2.4; stroke-dashoffset: 0; stroke: #ff7f0e; stroke-width: 1.5\"/>\n   </g>\n   <g id=\"line2d_71\">\n    <path d=\"M 49.633125 47.421596 \nL 69.163125 37.340413 \nL 88.693125 35.102275 \nL 108.223125 33.495407 \nL 127.753125 32.998043 \n\" clip-path=\"url(#p8dbd49f338)\" style=\"fill: none; stroke-dasharray: 9.6,2.4,1.5,2.4; stroke-dashoffset: 0; stroke: #2ca02c; stroke-width: 1.5\"/>\n   </g>\n   <g id=\"line2d_72\">\n    <path d=\"M 34.954394 13.5 \nL 44.698573 79.213567 \nL 54.442752 94.942299 \nL 64.186931 105.141956 \nL 73.93111 111.701672 \nL 83.675289 115.750284 \nL 93.419468 119.587711 \nL 103.163647 122.242339 \nL 112.907826 125.484013 \nL 122.652006 126.923856 \nL 132.396185 129.55148 \nL 142.140364 129.187743 \n\" clip-path=\"url(#p8dbd49f338)\" style=\"fill: none; stroke: #1f77b4; stroke-width: 1.5; stroke-linecap: square\"/>\n   </g>\n   <g id=\"line2d_73\">\n    <path d=\"M 49.633125 77.887283 \nL 69.163125 104.388195 \nL 88.693125 112.315919 \nL 108.223125 115.977003 \nL 127.753125 120.819086 \nL 147.283125 119.302565 \n\" clip-path=\"url(#p8dbd49f338)\" style=\"fill: none; stroke-dasharray: 5.55,2.4; stroke-dashoffset: 0; stroke: #ff7f0e; stroke-width: 1.5\"/>\n   </g>\n   <g id=\"line2d_74\">\n    <path d=\"M 49.633125 47.421596 \nL 69.163125 37.340413 \nL 88.693125 35.102275 \nL 108.223125 33.495407 \nL 127.753125 32.998043 \n\" clip-path=\"url(#p8dbd49f338)\" style=\"fill: none; stroke-dasharray: 9.6,2.4,1.5,2.4; stroke-dashoffset: 0; stroke: #2ca02c; stroke-width: 1.5\"/>\n   </g>\n   <g id=\"line2d_75\">\n    <path d=\"M 34.954394 13.5 \nL 44.698573 79.213567 \nL 54.442752 94.942299 \nL 64.186931 105.141956 \nL 73.93111 111.701672 \nL 83.675289 115.750284 \nL 93.419468 119.587711 \nL 103.163647 122.242339 \nL 112.907826 125.484013 \nL 122.652006 126.923856 \nL 132.396185 129.55148 \nL 142.140364 129.187743 \n\" clip-path=\"url(#p8dbd49f338)\" style=\"fill: none; stroke: #1f77b4; stroke-width: 1.5; stroke-linecap: square\"/>\n   </g>\n   <g id=\"line2d_76\">\n    <path d=\"M 49.633125 77.887283 \nL 69.163125 104.388195 \nL 88.693125 112.315919 \nL 108.223125 115.977003 \nL 127.753125 120.819086 \nL 147.283125 119.302565 \n\" clip-path=\"url(#p8dbd49f338)\" style=\"fill: none; stroke-dasharray: 5.55,2.4; stroke-dashoffset: 0; stroke: #ff7f0e; stroke-width: 1.5\"/>\n   </g>\n   <g id=\"line2d_77\">\n    <path d=\"M 49.633125 47.421596 \nL 69.163125 37.340413 \nL 88.693125 35.102275 \nL 108.223125 33.495407 \nL 127.753125 32.998043 \nL 147.283125 32.290256 \n\" clip-path=\"url(#p8dbd49f338)\" style=\"fill: none; stroke-dasharray: 9.6,2.4,1.5,2.4; stroke-dashoffset: 0; stroke: #2ca02c; stroke-width: 1.5\"/>\n   </g>\n   <g id=\"line2d_78\">\n    <path d=\"M 34.954394 13.5 \nL 44.698573 79.213567 \nL 54.442752 94.942299 \nL 64.186931 105.141956 \nL 73.93111 111.701672 \nL 83.675289 115.750284 \nL 93.419468 119.587711 \nL 103.163647 122.242339 \nL 112.907826 125.484013 \nL 122.652006 126.923856 \nL 132.396185 129.55148 \nL 142.140364 129.187743 \nL 151.884543 130.157848 \n\" clip-path=\"url(#p8dbd49f338)\" style=\"fill: none; stroke: #1f77b4; stroke-width: 1.5; stroke-linecap: square\"/>\n   </g>\n   <g id=\"line2d_79\">\n    <path d=\"M 49.633125 77.887283 \nL 69.163125 104.388195 \nL 88.693125 112.315919 \nL 108.223125 115.977003 \nL 127.753125 120.819086 \nL 147.283125 119.302565 \n\" clip-path=\"url(#p8dbd49f338)\" style=\"fill: none; stroke-dasharray: 5.55,2.4; stroke-dashoffset: 0; stroke: #ff7f0e; stroke-width: 1.5\"/>\n   </g>\n   <g id=\"line2d_80\">\n    <path d=\"M 49.633125 47.421596 \nL 69.163125 37.340413 \nL 88.693125 35.102275 \nL 108.223125 33.495407 \nL 127.753125 32.998043 \nL 147.283125 32.290256 \n\" clip-path=\"url(#p8dbd49f338)\" style=\"fill: none; stroke-dasharray: 9.6,2.4,1.5,2.4; stroke-dashoffset: 0; stroke: #2ca02c; stroke-width: 1.5\"/>\n   </g>\n   <g id=\"line2d_81\">\n    <path d=\"M 34.954394 13.5 \nL 44.698573 79.213567 \nL 54.442752 94.942299 \nL 64.186931 105.141956 \nL 73.93111 111.701672 \nL 83.675289 115.750284 \nL 93.419468 119.587711 \nL 103.163647 122.242339 \nL 112.907826 125.484013 \nL 122.652006 126.923856 \nL 132.396185 129.55148 \nL 142.140364 129.187743 \nL 151.884543 130.157848 \nL 161.628722 134.520148 \n\" clip-path=\"url(#p8dbd49f338)\" style=\"fill: none; stroke: #1f77b4; stroke-width: 1.5; stroke-linecap: square\"/>\n   </g>\n   <g id=\"line2d_82\">\n    <path d=\"M 49.633125 77.887283 \nL 69.163125 104.388195 \nL 88.693125 112.315919 \nL 108.223125 115.977003 \nL 127.753125 120.819086 \nL 147.283125 119.302565 \n\" clip-path=\"url(#p8dbd49f338)\" style=\"fill: none; stroke-dasharray: 5.55,2.4; stroke-dashoffset: 0; stroke: #ff7f0e; stroke-width: 1.5\"/>\n   </g>\n   <g id=\"line2d_83\">\n    <path d=\"M 49.633125 47.421596 \nL 69.163125 37.340413 \nL 88.693125 35.102275 \nL 108.223125 33.495407 \nL 127.753125 32.998043 \nL 147.283125 32.290256 \n\" clip-path=\"url(#p8dbd49f338)\" style=\"fill: none; stroke-dasharray: 9.6,2.4,1.5,2.4; stroke-dashoffset: 0; stroke: #2ca02c; stroke-width: 1.5\"/>\n   </g>\n   <g id=\"line2d_84\">\n    <path d=\"M 34.954394 13.5 \nL 44.698573 79.213567 \nL 54.442752 94.942299 \nL 64.186931 105.141956 \nL 73.93111 111.701672 \nL 83.675289 115.750284 \nL 93.419468 119.587711 \nL 103.163647 122.242339 \nL 112.907826 125.484013 \nL 122.652006 126.923856 \nL 132.396185 129.55148 \nL 142.140364 129.187743 \nL 151.884543 130.157848 \nL 161.628722 134.520148 \n\" clip-path=\"url(#p8dbd49f338)\" style=\"fill: none; stroke: #1f77b4; stroke-width: 1.5; stroke-linecap: square\"/>\n   </g>\n   <g id=\"line2d_85\">\n    <path d=\"M 49.633125 77.887283 \nL 69.163125 104.388195 \nL 88.693125 112.315919 \nL 108.223125 115.977003 \nL 127.753125 120.819086 \nL 147.283125 119.302565 \nL 166.813125 110.545461 \n\" clip-path=\"url(#p8dbd49f338)\" style=\"fill: none; stroke-dasharray: 5.55,2.4; stroke-dashoffset: 0; stroke: #ff7f0e; stroke-width: 1.5\"/>\n   </g>\n   <g id=\"line2d_86\">\n    <path d=\"M 49.633125 47.421596 \nL 69.163125 37.340413 \nL 88.693125 35.102275 \nL 108.223125 33.495407 \nL 127.753125 32.998043 \nL 147.283125 32.290256 \n\" clip-path=\"url(#p8dbd49f338)\" style=\"fill: none; stroke-dasharray: 9.6,2.4,1.5,2.4; stroke-dashoffset: 0; stroke: #2ca02c; stroke-width: 1.5\"/>\n   </g>\n   <g id=\"line2d_87\">\n    <path d=\"M 34.954394 13.5 \nL 44.698573 79.213567 \nL 54.442752 94.942299 \nL 64.186931 105.141956 \nL 73.93111 111.701672 \nL 83.675289 115.750284 \nL 93.419468 119.587711 \nL 103.163647 122.242339 \nL 112.907826 125.484013 \nL 122.652006 126.923856 \nL 132.396185 129.55148 \nL 142.140364 129.187743 \nL 151.884543 130.157848 \nL 161.628722 134.520148 \n\" clip-path=\"url(#p8dbd49f338)\" style=\"fill: none; stroke: #1f77b4; stroke-width: 1.5; stroke-linecap: square\"/>\n   </g>\n   <g id=\"line2d_88\">\n    <path d=\"M 49.633125 77.887283 \nL 69.163125 104.388195 \nL 88.693125 112.315919 \nL 108.223125 115.977003 \nL 127.753125 120.819086 \nL 147.283125 119.302565 \nL 166.813125 110.545461 \n\" clip-path=\"url(#p8dbd49f338)\" style=\"fill: none; stroke-dasharray: 5.55,2.4; stroke-dashoffset: 0; stroke: #ff7f0e; stroke-width: 1.5\"/>\n   </g>\n   <g id=\"line2d_89\">\n    <path d=\"M 49.633125 47.421596 \nL 69.163125 37.340413 \nL 88.693125 35.102275 \nL 108.223125 33.495407 \nL 127.753125 32.998043 \nL 147.283125 32.290256 \nL 166.813125 37.723 \n\" clip-path=\"url(#p8dbd49f338)\" style=\"fill: none; stroke-dasharray: 9.6,2.4,1.5,2.4; stroke-dashoffset: 0; stroke: #2ca02c; stroke-width: 1.5\"/>\n   </g>\n   <g id=\"line2d_90\">\n    <path d=\"M 34.954394 13.5 \nL 44.698573 79.213567 \nL 54.442752 94.942299 \nL 64.186931 105.141956 \nL 73.93111 111.701672 \nL 83.675289 115.750284 \nL 93.419468 119.587711 \nL 103.163647 122.242339 \nL 112.907826 125.484013 \nL 122.652006 126.923856 \nL 132.396185 129.55148 \nL 142.140364 129.187743 \nL 151.884543 130.157848 \nL 161.628722 134.520148 \nL 171.372901 134.037747 \n\" clip-path=\"url(#p8dbd49f338)\" style=\"fill: none; stroke: #1f77b4; stroke-width: 1.5; stroke-linecap: square\"/>\n   </g>\n   <g id=\"line2d_91\">\n    <path d=\"M 49.633125 77.887283 \nL 69.163125 104.388195 \nL 88.693125 112.315919 \nL 108.223125 115.977003 \nL 127.753125 120.819086 \nL 147.283125 119.302565 \nL 166.813125 110.545461 \n\" clip-path=\"url(#p8dbd49f338)\" style=\"fill: none; stroke-dasharray: 5.55,2.4; stroke-dashoffset: 0; stroke: #ff7f0e; stroke-width: 1.5\"/>\n   </g>\n   <g id=\"line2d_92\">\n    <path d=\"M 49.633125 47.421596 \nL 69.163125 37.340413 \nL 88.693125 35.102275 \nL 108.223125 33.495407 \nL 127.753125 32.998043 \nL 147.283125 32.290256 \nL 166.813125 37.723 \n\" clip-path=\"url(#p8dbd49f338)\" style=\"fill: none; stroke-dasharray: 9.6,2.4,1.5,2.4; stroke-dashoffset: 0; stroke: #2ca02c; stroke-width: 1.5\"/>\n   </g>\n   <g id=\"line2d_93\">\n    <path d=\"M 34.954394 13.5 \nL 44.698573 79.213567 \nL 54.442752 94.942299 \nL 64.186931 105.141956 \nL 73.93111 111.701672 \nL 83.675289 115.750284 \nL 93.419468 119.587711 \nL 103.163647 122.242339 \nL 112.907826 125.484013 \nL 122.652006 126.923856 \nL 132.396185 129.55148 \nL 142.140364 129.187743 \nL 151.884543 130.157848 \nL 161.628722 134.520148 \nL 171.372901 134.037747 \nL 181.11708 135.968084 \n\" clip-path=\"url(#p8dbd49f338)\" style=\"fill: none; stroke: #1f77b4; stroke-width: 1.5; stroke-linecap: square\"/>\n   </g>\n   <g id=\"line2d_94\">\n    <path d=\"M 49.633125 77.887283 \nL 69.163125 104.388195 \nL 88.693125 112.315919 \nL 108.223125 115.977003 \nL 127.753125 120.819086 \nL 147.283125 119.302565 \nL 166.813125 110.545461 \n\" clip-path=\"url(#p8dbd49f338)\" style=\"fill: none; stroke-dasharray: 5.55,2.4; stroke-dashoffset: 0; stroke: #ff7f0e; stroke-width: 1.5\"/>\n   </g>\n   <g id=\"line2d_95\">\n    <path d=\"M 49.633125 47.421596 \nL 69.163125 37.340413 \nL 88.693125 35.102275 \nL 108.223125 33.495407 \nL 127.753125 32.998043 \nL 147.283125 32.290256 \nL 166.813125 37.723 \n\" clip-path=\"url(#p8dbd49f338)\" style=\"fill: none; stroke-dasharray: 9.6,2.4,1.5,2.4; stroke-dashoffset: 0; stroke: #2ca02c; stroke-width: 1.5\"/>\n   </g>\n   <g id=\"line2d_96\">\n    <path d=\"M 34.954394 13.5 \nL 44.698573 79.213567 \nL 54.442752 94.942299 \nL 64.186931 105.141956 \nL 73.93111 111.701672 \nL 83.675289 115.750284 \nL 93.419468 119.587711 \nL 103.163647 122.242339 \nL 112.907826 125.484013 \nL 122.652006 126.923856 \nL 132.396185 129.55148 \nL 142.140364 129.187743 \nL 151.884543 130.157848 \nL 161.628722 134.520148 \nL 171.372901 134.037747 \nL 181.11708 135.968084 \n\" clip-path=\"url(#p8dbd49f338)\" style=\"fill: none; stroke: #1f77b4; stroke-width: 1.5; stroke-linecap: square\"/>\n   </g>\n   <g id=\"line2d_97\">\n    <path d=\"M 49.633125 77.887283 \nL 69.163125 104.388195 \nL 88.693125 112.315919 \nL 108.223125 115.977003 \nL 127.753125 120.819086 \nL 147.283125 119.302565 \nL 166.813125 110.545461 \nL 186.343125 125.644029 \n\" clip-path=\"url(#p8dbd49f338)\" style=\"fill: none; stroke-dasharray: 5.55,2.4; stroke-dashoffset: 0; stroke: #ff7f0e; stroke-width: 1.5\"/>\n   </g>\n   <g id=\"line2d_98\">\n    <path d=\"M 49.633125 47.421596 \nL 69.163125 37.340413 \nL 88.693125 35.102275 \nL 108.223125 33.495407 \nL 127.753125 32.998043 \nL 147.283125 32.290256 \nL 166.813125 37.723 \n\" clip-path=\"url(#p8dbd49f338)\" style=\"fill: none; stroke-dasharray: 9.6,2.4,1.5,2.4; stroke-dashoffset: 0; stroke: #2ca02c; stroke-width: 1.5\"/>\n   </g>\n   <g id=\"line2d_99\">\n    <path d=\"M 34.954394 13.5 \nL 44.698573 79.213567 \nL 54.442752 94.942299 \nL 64.186931 105.141956 \nL 73.93111 111.701672 \nL 83.675289 115.750284 \nL 93.419468 119.587711 \nL 103.163647 122.242339 \nL 112.907826 125.484013 \nL 122.652006 126.923856 \nL 132.396185 129.55148 \nL 142.140364 129.187743 \nL 151.884543 130.157848 \nL 161.628722 134.520148 \nL 171.372901 134.037747 \nL 181.11708 135.968084 \n\" clip-path=\"url(#p8dbd49f338)\" style=\"fill: none; stroke: #1f77b4; stroke-width: 1.5; stroke-linecap: square\"/>\n   </g>\n   <g id=\"line2d_100\">\n    <path d=\"M 49.633125 77.887283 \nL 69.163125 104.388195 \nL 88.693125 112.315919 \nL 108.223125 115.977003 \nL 127.753125 120.819086 \nL 147.283125 119.302565 \nL 166.813125 110.545461 \nL 186.343125 125.644029 \n\" clip-path=\"url(#p8dbd49f338)\" style=\"fill: none; stroke-dasharray: 5.55,2.4; stroke-dashoffset: 0; stroke: #ff7f0e; stroke-width: 1.5\"/>\n   </g>\n   <g id=\"line2d_101\">\n    <path d=\"M 49.633125 47.421596 \nL 69.163125 37.340413 \nL 88.693125 35.102275 \nL 108.223125 33.495407 \nL 127.753125 32.998043 \nL 147.283125 32.290256 \nL 166.813125 37.723 \nL 186.343125 30.798165 \n\" clip-path=\"url(#p8dbd49f338)\" style=\"fill: none; stroke-dasharray: 9.6,2.4,1.5,2.4; stroke-dashoffset: 0; stroke: #2ca02c; stroke-width: 1.5\"/>\n   </g>\n   <g id=\"line2d_102\">\n    <path d=\"M 34.954394 13.5 \nL 44.698573 79.213567 \nL 54.442752 94.942299 \nL 64.186931 105.141956 \nL 73.93111 111.701672 \nL 83.675289 115.750284 \nL 93.419468 119.587711 \nL 103.163647 122.242339 \nL 112.907826 125.484013 \nL 122.652006 126.923856 \nL 132.396185 129.55148 \nL 142.140364 129.187743 \nL 151.884543 130.157848 \nL 161.628722 134.520148 \nL 171.372901 134.037747 \nL 181.11708 135.968084 \nL 190.861259 137.27572 \n\" clip-path=\"url(#p8dbd49f338)\" style=\"fill: none; stroke: #1f77b4; stroke-width: 1.5; stroke-linecap: square\"/>\n   </g>\n   <g id=\"line2d_103\">\n    <path d=\"M 49.633125 77.887283 \nL 69.163125 104.388195 \nL 88.693125 112.315919 \nL 108.223125 115.977003 \nL 127.753125 120.819086 \nL 147.283125 119.302565 \nL 166.813125 110.545461 \nL 186.343125 125.644029 \n\" clip-path=\"url(#p8dbd49f338)\" style=\"fill: none; stroke-dasharray: 5.55,2.4; stroke-dashoffset: 0; stroke: #ff7f0e; stroke-width: 1.5\"/>\n   </g>\n   <g id=\"line2d_104\">\n    <path d=\"M 49.633125 47.421596 \nL 69.163125 37.340413 \nL 88.693125 35.102275 \nL 108.223125 33.495407 \nL 127.753125 32.998043 \nL 147.283125 32.290256 \nL 166.813125 37.723 \nL 186.343125 30.798165 \n\" clip-path=\"url(#p8dbd49f338)\" style=\"fill: none; stroke-dasharray: 9.6,2.4,1.5,2.4; stroke-dashoffset: 0; stroke: #2ca02c; stroke-width: 1.5\"/>\n   </g>\n   <g id=\"line2d_105\">\n    <path d=\"M 34.954394 13.5 \nL 44.698573 79.213567 \nL 54.442752 94.942299 \nL 64.186931 105.141956 \nL 73.93111 111.701672 \nL 83.675289 115.750284 \nL 93.419468 119.587711 \nL 103.163647 122.242339 \nL 112.907826 125.484013 \nL 122.652006 126.923856 \nL 132.396185 129.55148 \nL 142.140364 129.187743 \nL 151.884543 130.157848 \nL 161.628722 134.520148 \nL 171.372901 134.037747 \nL 181.11708 135.968084 \nL 190.861259 137.27572 \nL 200.605438 136.863699 \n\" clip-path=\"url(#p8dbd49f338)\" style=\"fill: none; stroke: #1f77b4; stroke-width: 1.5; stroke-linecap: square\"/>\n   </g>\n   <g id=\"line2d_106\">\n    <path d=\"M 49.633125 77.887283 \nL 69.163125 104.388195 \nL 88.693125 112.315919 \nL 108.223125 115.977003 \nL 127.753125 120.819086 \nL 147.283125 119.302565 \nL 166.813125 110.545461 \nL 186.343125 125.644029 \n\" clip-path=\"url(#p8dbd49f338)\" style=\"fill: none; stroke-dasharray: 5.55,2.4; stroke-dashoffset: 0; stroke: #ff7f0e; stroke-width: 1.5\"/>\n   </g>\n   <g id=\"line2d_107\">\n    <path d=\"M 49.633125 47.421596 \nL 69.163125 37.340413 \nL 88.693125 35.102275 \nL 108.223125 33.495407 \nL 127.753125 32.998043 \nL 147.283125 32.290256 \nL 166.813125 37.723 \nL 186.343125 30.798165 \n\" clip-path=\"url(#p8dbd49f338)\" style=\"fill: none; stroke-dasharray: 9.6,2.4,1.5,2.4; stroke-dashoffset: 0; stroke: #2ca02c; stroke-width: 1.5\"/>\n   </g>\n   <g id=\"line2d_108\">\n    <path d=\"M 34.954394 13.5 \nL 44.698573 79.213567 \nL 54.442752 94.942299 \nL 64.186931 105.141956 \nL 73.93111 111.701672 \nL 83.675289 115.750284 \nL 93.419468 119.587711 \nL 103.163647 122.242339 \nL 112.907826 125.484013 \nL 122.652006 126.923856 \nL 132.396185 129.55148 \nL 142.140364 129.187743 \nL 151.884543 130.157848 \nL 161.628722 134.520148 \nL 171.372901 134.037747 \nL 181.11708 135.968084 \nL 190.861259 137.27572 \nL 200.605438 136.863699 \n\" clip-path=\"url(#p8dbd49f338)\" style=\"fill: none; stroke: #1f77b4; stroke-width: 1.5; stroke-linecap: square\"/>\n   </g>\n   <g id=\"line2d_109\">\n    <path d=\"M 49.633125 77.887283 \nL 69.163125 104.388195 \nL 88.693125 112.315919 \nL 108.223125 115.977003 \nL 127.753125 120.819086 \nL 147.283125 119.302565 \nL 166.813125 110.545461 \nL 186.343125 125.644029 \nL 205.873125 129.016823 \n\" clip-path=\"url(#p8dbd49f338)\" style=\"fill: none; stroke-dasharray: 5.55,2.4; stroke-dashoffset: 0; stroke: #ff7f0e; stroke-width: 1.5\"/>\n   </g>\n   <g id=\"line2d_110\">\n    <path d=\"M 49.633125 47.421596 \nL 69.163125 37.340413 \nL 88.693125 35.102275 \nL 108.223125 33.495407 \nL 127.753125 32.998043 \nL 147.283125 32.290256 \nL 166.813125 37.723 \nL 186.343125 30.798165 \n\" clip-path=\"url(#p8dbd49f338)\" style=\"fill: none; stroke-dasharray: 9.6,2.4,1.5,2.4; stroke-dashoffset: 0; stroke: #2ca02c; stroke-width: 1.5\"/>\n   </g>\n   <g id=\"line2d_111\">\n    <path d=\"M 34.954394 13.5 \nL 44.698573 79.213567 \nL 54.442752 94.942299 \nL 64.186931 105.141956 \nL 73.93111 111.701672 \nL 83.675289 115.750284 \nL 93.419468 119.587711 \nL 103.163647 122.242339 \nL 112.907826 125.484013 \nL 122.652006 126.923856 \nL 132.396185 129.55148 \nL 142.140364 129.187743 \nL 151.884543 130.157848 \nL 161.628722 134.520148 \nL 171.372901 134.037747 \nL 181.11708 135.968084 \nL 190.861259 137.27572 \nL 200.605438 136.863699 \n\" clip-path=\"url(#p8dbd49f338)\" style=\"fill: none; stroke: #1f77b4; stroke-width: 1.5; stroke-linecap: square\"/>\n   </g>\n   <g id=\"line2d_112\">\n    <path d=\"M 49.633125 77.887283 \nL 69.163125 104.388195 \nL 88.693125 112.315919 \nL 108.223125 115.977003 \nL 127.753125 120.819086 \nL 147.283125 119.302565 \nL 166.813125 110.545461 \nL 186.343125 125.644029 \nL 205.873125 129.016823 \n\" clip-path=\"url(#p8dbd49f338)\" style=\"fill: none; stroke-dasharray: 5.55,2.4; stroke-dashoffset: 0; stroke: #ff7f0e; stroke-width: 1.5\"/>\n   </g>\n   <g id=\"line2d_113\">\n    <path d=\"M 49.633125 47.421596 \nL 69.163125 37.340413 \nL 88.693125 35.102275 \nL 108.223125 33.495407 \nL 127.753125 32.998043 \nL 147.283125 32.290256 \nL 166.813125 37.723 \nL 186.343125 30.798165 \nL 205.873125 29.726919 \n\" clip-path=\"url(#p8dbd49f338)\" style=\"fill: none; stroke-dasharray: 9.6,2.4,1.5,2.4; stroke-dashoffset: 0; stroke: #2ca02c; stroke-width: 1.5\"/>\n   </g>\n   <g id=\"line2d_114\">\n    <path d=\"M 34.954394 13.5 \nL 44.698573 79.213567 \nL 54.442752 94.942299 \nL 64.186931 105.141956 \nL 73.93111 111.701672 \nL 83.675289 115.750284 \nL 93.419468 119.587711 \nL 103.163647 122.242339 \nL 112.907826 125.484013 \nL 122.652006 126.923856 \nL 132.396185 129.55148 \nL 142.140364 129.187743 \nL 151.884543 130.157848 \nL 161.628722 134.520148 \nL 171.372901 134.037747 \nL 181.11708 135.968084 \nL 190.861259 137.27572 \nL 200.605438 136.863699 \nL 210.349618 139.5 \n\" clip-path=\"url(#p8dbd49f338)\" style=\"fill: none; stroke: #1f77b4; stroke-width: 1.5; stroke-linecap: square\"/>\n   </g>\n   <g id=\"line2d_115\">\n    <path d=\"M 49.633125 77.887283 \nL 69.163125 104.388195 \nL 88.693125 112.315919 \nL 108.223125 115.977003 \nL 127.753125 120.819086 \nL 147.283125 119.302565 \nL 166.813125 110.545461 \nL 186.343125 125.644029 \nL 205.873125 129.016823 \n\" clip-path=\"url(#p8dbd49f338)\" style=\"fill: none; stroke-dasharray: 5.55,2.4; stroke-dashoffset: 0; stroke: #ff7f0e; stroke-width: 1.5\"/>\n   </g>\n   <g id=\"line2d_116\">\n    <path d=\"M 49.633125 47.421596 \nL 69.163125 37.340413 \nL 88.693125 35.102275 \nL 108.223125 33.495407 \nL 127.753125 32.998043 \nL 147.283125 32.290256 \nL 166.813125 37.723 \nL 186.343125 30.798165 \nL 205.873125 29.726919 \n\" clip-path=\"url(#p8dbd49f338)\" style=\"fill: none; stroke-dasharray: 9.6,2.4,1.5,2.4; stroke-dashoffset: 0; stroke: #2ca02c; stroke-width: 1.5\"/>\n   </g>\n   <g id=\"line2d_117\">\n    <path d=\"M 34.954394 13.5 \nL 44.698573 79.213567 \nL 54.442752 94.942299 \nL 64.186931 105.141956 \nL 73.93111 111.701672 \nL 83.675289 115.750284 \nL 93.419468 119.587711 \nL 103.163647 122.242339 \nL 112.907826 125.484013 \nL 122.652006 126.923856 \nL 132.396185 129.55148 \nL 142.140364 129.187743 \nL 151.884543 130.157848 \nL 161.628722 134.520148 \nL 171.372901 134.037747 \nL 181.11708 135.968084 \nL 190.861259 137.27572 \nL 200.605438 136.863699 \nL 210.349618 139.5 \nL 220.093797 138.884702 \n\" clip-path=\"url(#p8dbd49f338)\" style=\"fill: none; stroke: #1f77b4; stroke-width: 1.5; stroke-linecap: square\"/>\n   </g>\n   <g id=\"line2d_118\">\n    <path d=\"M 49.633125 77.887283 \nL 69.163125 104.388195 \nL 88.693125 112.315919 \nL 108.223125 115.977003 \nL 127.753125 120.819086 \nL 147.283125 119.302565 \nL 166.813125 110.545461 \nL 186.343125 125.644029 \nL 205.873125 129.016823 \n\" clip-path=\"url(#p8dbd49f338)\" style=\"fill: none; stroke-dasharray: 5.55,2.4; stroke-dashoffset: 0; stroke: #ff7f0e; stroke-width: 1.5\"/>\n   </g>\n   <g id=\"line2d_119\">\n    <path d=\"M 49.633125 47.421596 \nL 69.163125 37.340413 \nL 88.693125 35.102275 \nL 108.223125 33.495407 \nL 127.753125 32.998043 \nL 147.283125 32.290256 \nL 166.813125 37.723 \nL 186.343125 30.798165 \nL 205.873125 29.726919 \n\" clip-path=\"url(#p8dbd49f338)\" style=\"fill: none; stroke-dasharray: 9.6,2.4,1.5,2.4; stroke-dashoffset: 0; stroke: #2ca02c; stroke-width: 1.5\"/>\n   </g>\n   <g id=\"line2d_120\">\n    <path d=\"M 34.954394 13.5 \nL 44.698573 79.213567 \nL 54.442752 94.942299 \nL 64.186931 105.141956 \nL 73.93111 111.701672 \nL 83.675289 115.750284 \nL 93.419468 119.587711 \nL 103.163647 122.242339 \nL 112.907826 125.484013 \nL 122.652006 126.923856 \nL 132.396185 129.55148 \nL 142.140364 129.187743 \nL 151.884543 130.157848 \nL 161.628722 134.520148 \nL 171.372901 134.037747 \nL 181.11708 135.968084 \nL 190.861259 137.27572 \nL 200.605438 136.863699 \nL 210.349618 139.5 \nL 220.093797 138.884702 \n\" clip-path=\"url(#p8dbd49f338)\" style=\"fill: none; stroke: #1f77b4; stroke-width: 1.5; stroke-linecap: square\"/>\n   </g>\n   <g id=\"line2d_121\">\n    <path d=\"M 49.633125 77.887283 \nL 69.163125 104.388195 \nL 88.693125 112.315919 \nL 108.223125 115.977003 \nL 127.753125 120.819086 \nL 147.283125 119.302565 \nL 166.813125 110.545461 \nL 186.343125 125.644029 \nL 205.873125 129.016823 \nL 225.403125 92.732714 \n\" clip-path=\"url(#p8dbd49f338)\" style=\"fill: none; stroke-dasharray: 5.55,2.4; stroke-dashoffset: 0; stroke: #ff7f0e; stroke-width: 1.5\"/>\n   </g>\n   <g id=\"line2d_122\">\n    <path d=\"M 49.633125 47.421596 \nL 69.163125 37.340413 \nL 88.693125 35.102275 \nL 108.223125 33.495407 \nL 127.753125 32.998043 \nL 147.283125 32.290256 \nL 166.813125 37.723 \nL 186.343125 30.798165 \nL 205.873125 29.726919 \n\" clip-path=\"url(#p8dbd49f338)\" style=\"fill: none; stroke-dasharray: 9.6,2.4,1.5,2.4; stroke-dashoffset: 0; stroke: #2ca02c; stroke-width: 1.5\"/>\n   </g>\n   <g id=\"line2d_123\">\n    <path d=\"M 34.954394 13.5 \nL 44.698573 79.213567 \nL 54.442752 94.942299 \nL 64.186931 105.141956 \nL 73.93111 111.701672 \nL 83.675289 115.750284 \nL 93.419468 119.587711 \nL 103.163647 122.242339 \nL 112.907826 125.484013 \nL 122.652006 126.923856 \nL 132.396185 129.55148 \nL 142.140364 129.187743 \nL 151.884543 130.157848 \nL 161.628722 134.520148 \nL 171.372901 134.037747 \nL 181.11708 135.968084 \nL 190.861259 137.27572 \nL 200.605438 136.863699 \nL 210.349618 139.5 \nL 220.093797 138.884702 \n\" clip-path=\"url(#p8dbd49f338)\" style=\"fill: none; stroke: #1f77b4; stroke-width: 1.5; stroke-linecap: square\"/>\n   </g>\n   <g id=\"line2d_124\">\n    <path d=\"M 49.633125 77.887283 \nL 69.163125 104.388195 \nL 88.693125 112.315919 \nL 108.223125 115.977003 \nL 127.753125 120.819086 \nL 147.283125 119.302565 \nL 166.813125 110.545461 \nL 186.343125 125.644029 \nL 205.873125 129.016823 \nL 225.403125 92.732714 \n\" clip-path=\"url(#p8dbd49f338)\" style=\"fill: none; stroke-dasharray: 5.55,2.4; stroke-dashoffset: 0; stroke: #ff7f0e; stroke-width: 1.5\"/>\n   </g>\n   <g id=\"line2d_125\">\n    <path d=\"M 49.633125 47.421596 \nL 69.163125 37.340413 \nL 88.693125 35.102275 \nL 108.223125 33.495407 \nL 127.753125 32.998043 \nL 147.283125 32.290256 \nL 166.813125 37.723 \nL 186.343125 30.798165 \nL 205.873125 29.726919 \nL 225.403125 43.021839 \n\" clip-path=\"url(#p8dbd49f338)\" style=\"fill: none; stroke-dasharray: 9.6,2.4,1.5,2.4; stroke-dashoffset: 0; stroke: #2ca02c; stroke-width: 1.5\"/>\n   </g>\n   <g id=\"patch_3\">\n    <path d=\"M 30.103125 145.8 \nL 30.103125 7.2 \n\" style=\"fill: none; stroke: #000000; stroke-width: 0.8; stroke-linejoin: miter; stroke-linecap: square\"/>\n   </g>\n   <g id=\"patch_4\">\n    <path d=\"M 225.403125 145.8 \nL 225.403125 7.2 \n\" style=\"fill: none; stroke: #000000; stroke-width: 0.8; stroke-linejoin: miter; stroke-linecap: square\"/>\n   </g>\n   <g id=\"patch_5\">\n    <path d=\"M 30.103125 145.8 \nL 225.403125 145.8 \n\" style=\"fill: none; stroke: #000000; stroke-width: 0.8; stroke-linejoin: miter; stroke-linecap: square\"/>\n   </g>\n   <g id=\"patch_6\">\n    <path d=\"M 30.103125 7.2 \nL 225.403125 7.2 \n\" style=\"fill: none; stroke: #000000; stroke-width: 0.8; stroke-linejoin: miter; stroke-linecap: square\"/>\n   </g>\n   <g id=\"legend_1\">\n    <g id=\"patch_7\">\n     <path d=\"M 138.8125 100.434375 \nL 218.403125 100.434375 \nQ 220.403125 100.434375 220.403125 98.434375 \nL 220.403125 54.565625 \nQ 220.403125 52.565625 218.403125 52.565625 \nL 138.8125 52.565625 \nQ 136.8125 52.565625 136.8125 54.565625 \nL 136.8125 98.434375 \nQ 136.8125 100.434375 138.8125 100.434375 \nz\n\" style=\"fill: #ffffff; opacity: 0.8; stroke: #cccccc; stroke-linejoin: miter\"/>\n    </g>\n    <g id=\"line2d_126\">\n     <path d=\"M 140.8125 60.664063 \nL 150.8125 60.664063 \nL 160.8125 60.664063 \n\" style=\"fill: none; stroke: #1f77b4; stroke-width: 1.5; stroke-linecap: square\"/>\n    </g>\n    <g id=\"text_11\">\n     <!-- train_loss -->\n     <g transform=\"translate(168.8125 64.164063) scale(0.1 -0.1)\">\n      <defs>\n       <path id=\"DejaVuSans-74\" d=\"M 1172 4494 \nL 1172 3500 \nL 2356 3500 \nL 2356 3053 \nL 1172 3053 \nL 1172 1153 \nQ 1172 725 1289 603 \nQ 1406 481 1766 481 \nL 2356 481 \nL 2356 0 \nL 1766 0 \nQ 1100 0 847 248 \nQ 594 497 594 1153 \nL 594 3053 \nL 172 3053 \nL 172 3500 \nL 594 3500 \nL 594 4494 \nL 1172 4494 \nz\n\" transform=\"scale(0.015625)\"/>\n       <path id=\"DejaVuSans-72\" d=\"M 2631 2963 \nQ 2534 3019 2420 3045 \nQ 2306 3072 2169 3072 \nQ 1681 3072 1420 2755 \nQ 1159 2438 1159 1844 \nL 1159 0 \nL 581 0 \nL 581 3500 \nL 1159 3500 \nL 1159 2956 \nQ 1341 3275 1631 3429 \nQ 1922 3584 2338 3584 \nQ 2397 3584 2469 3576 \nQ 2541 3569 2628 3553 \nL 2631 2963 \nz\n\" transform=\"scale(0.015625)\"/>\n       <path id=\"DejaVuSans-61\" d=\"M 2194 1759 \nQ 1497 1759 1228 1600 \nQ 959 1441 959 1056 \nQ 959 750 1161 570 \nQ 1363 391 1709 391 \nQ 2188 391 2477 730 \nQ 2766 1069 2766 1631 \nL 2766 1759 \nL 2194 1759 \nz\nM 3341 1997 \nL 3341 0 \nL 2766 0 \nL 2766 531 \nQ 2569 213 2275 61 \nQ 1981 -91 1556 -91 \nQ 1019 -91 701 211 \nQ 384 513 384 1019 \nQ 384 1609 779 1909 \nQ 1175 2209 1959 2209 \nL 2766 2209 \nL 2766 2266 \nQ 2766 2663 2505 2880 \nQ 2244 3097 1772 3097 \nQ 1472 3097 1187 3025 \nQ 903 2953 641 2809 \nL 641 3341 \nQ 956 3463 1253 3523 \nQ 1550 3584 1831 3584 \nQ 2591 3584 2966 3190 \nQ 3341 2797 3341 1997 \nz\n\" transform=\"scale(0.015625)\"/>\n       <path id=\"DejaVuSans-69\" d=\"M 603 3500 \nL 1178 3500 \nL 1178 0 \nL 603 0 \nL 603 3500 \nz\nM 603 4863 \nL 1178 4863 \nL 1178 4134 \nL 603 4134 \nL 603 4863 \nz\n\" transform=\"scale(0.015625)\"/>\n       <path id=\"DejaVuSans-6e\" d=\"M 3513 2113 \nL 3513 0 \nL 2938 0 \nL 2938 2094 \nQ 2938 2591 2744 2837 \nQ 2550 3084 2163 3084 \nQ 1697 3084 1428 2787 \nQ 1159 2491 1159 1978 \nL 1159 0 \nL 581 0 \nL 581 3500 \nL 1159 3500 \nL 1159 2956 \nQ 1366 3272 1645 3428 \nQ 1925 3584 2291 3584 \nQ 2894 3584 3203 3211 \nQ 3513 2838 3513 2113 \nz\n\" transform=\"scale(0.015625)\"/>\n       <path id=\"DejaVuSans-5f\" d=\"M 3263 -1063 \nL 3263 -1509 \nL -63 -1509 \nL -63 -1063 \nL 3263 -1063 \nz\n\" transform=\"scale(0.015625)\"/>\n       <path id=\"DejaVuSans-6c\" d=\"M 603 4863 \nL 1178 4863 \nL 1178 0 \nL 603 0 \nL 603 4863 \nz\n\" transform=\"scale(0.015625)\"/>\n       <path id=\"DejaVuSans-73\" d=\"M 2834 3397 \nL 2834 2853 \nQ 2591 2978 2328 3040 \nQ 2066 3103 1784 3103 \nQ 1356 3103 1142 2972 \nQ 928 2841 928 2578 \nQ 928 2378 1081 2264 \nQ 1234 2150 1697 2047 \nL 1894 2003 \nQ 2506 1872 2764 1633 \nQ 3022 1394 3022 966 \nQ 3022 478 2636 193 \nQ 2250 -91 1575 -91 \nQ 1294 -91 989 -36 \nQ 684 19 347 128 \nL 347 722 \nQ 666 556 975 473 \nQ 1284 391 1588 391 \nQ 1994 391 2212 530 \nQ 2431 669 2431 922 \nQ 2431 1156 2273 1281 \nQ 2116 1406 1581 1522 \nL 1381 1569 \nQ 847 1681 609 1914 \nQ 372 2147 372 2553 \nQ 372 3047 722 3315 \nQ 1072 3584 1716 3584 \nQ 2034 3584 2315 3537 \nQ 2597 3491 2834 3397 \nz\n\" transform=\"scale(0.015625)\"/>\n      </defs>\n      <use xlink:href=\"#DejaVuSans-74\"/>\n      <use xlink:href=\"#DejaVuSans-72\" x=\"39.208984\"/>\n      <use xlink:href=\"#DejaVuSans-61\" x=\"80.322266\"/>\n      <use xlink:href=\"#DejaVuSans-69\" x=\"141.601562\"/>\n      <use xlink:href=\"#DejaVuSans-6e\" x=\"169.384766\"/>\n      <use xlink:href=\"#DejaVuSans-5f\" x=\"232.763672\"/>\n      <use xlink:href=\"#DejaVuSans-6c\" x=\"282.763672\"/>\n      <use xlink:href=\"#DejaVuSans-6f\" x=\"310.546875\"/>\n      <use xlink:href=\"#DejaVuSans-73\" x=\"371.728516\"/>\n      <use xlink:href=\"#DejaVuSans-73\" x=\"423.828125\"/>\n     </g>\n    </g>\n    <g id=\"line2d_127\">\n     <path d=\"M 140.8125 75.620313 \nL 150.8125 75.620313 \nL 160.8125 75.620313 \n\" style=\"fill: none; stroke-dasharray: 5.55,2.4; stroke-dashoffset: 0; stroke: #ff7f0e; stroke-width: 1.5\"/>\n    </g>\n    <g id=\"text_12\">\n     <!-- val_loss -->\n     <g transform=\"translate(168.8125 79.120313) scale(0.1 -0.1)\">\n      <defs>\n       <path id=\"DejaVuSans-76\" d=\"M 191 3500 \nL 800 3500 \nL 1894 563 \nL 2988 3500 \nL 3597 3500 \nL 2284 0 \nL 1503 0 \nL 191 3500 \nz\n\" transform=\"scale(0.015625)\"/>\n      </defs>\n      <use xlink:href=\"#DejaVuSans-76\"/>\n      <use xlink:href=\"#DejaVuSans-61\" x=\"59.179688\"/>\n      <use xlink:href=\"#DejaVuSans-6c\" x=\"120.458984\"/>\n      <use xlink:href=\"#DejaVuSans-5f\" x=\"148.242188\"/>\n      <use xlink:href=\"#DejaVuSans-6c\" x=\"198.242188\"/>\n      <use xlink:href=\"#DejaVuSans-6f\" x=\"226.025391\"/>\n      <use xlink:href=\"#DejaVuSans-73\" x=\"287.207031\"/>\n      <use xlink:href=\"#DejaVuSans-73\" x=\"339.306641\"/>\n     </g>\n    </g>\n    <g id=\"line2d_128\">\n     <path d=\"M 140.8125 90.576563 \nL 150.8125 90.576563 \nL 160.8125 90.576563 \n\" style=\"fill: none; stroke-dasharray: 9.6,2.4,1.5,2.4; stroke-dashoffset: 0; stroke: #2ca02c; stroke-width: 1.5\"/>\n    </g>\n    <g id=\"text_13\">\n     <!-- val_acc -->\n     <g transform=\"translate(168.8125 94.076563) scale(0.1 -0.1)\">\n      <use xlink:href=\"#DejaVuSans-76\"/>\n      <use xlink:href=\"#DejaVuSans-61\" x=\"59.179688\"/>\n      <use xlink:href=\"#DejaVuSans-6c\" x=\"120.458984\"/>\n      <use xlink:href=\"#DejaVuSans-5f\" x=\"148.242188\"/>\n      <use xlink:href=\"#DejaVuSans-61\" x=\"198.242188\"/>\n      <use xlink:href=\"#DejaVuSans-63\" x=\"259.521484\"/>\n      <use xlink:href=\"#DejaVuSans-63\" x=\"314.501953\"/>\n     </g>\n    </g>\n   </g>\n  </g>\n </g>\n <defs>\n  <clipPath id=\"p8dbd49f338\">\n   <rect x=\"30.103125\" y=\"7.2\" width=\"195.3\" height=\"138.6\"/>\n  </clipPath>\n </defs>\n</svg>\n"
          },
          "metadata": {}
        }
      ],
      "source": [
        "trainer = d2l.Trainer(max_epochs=10, num_gpus=1)\n",
        "data = d2l.FashionMNIST(batch_size=128)\n",
        "model = BNLeNetScratch(lr=0.1)\n",
        "model.apply_init([next(iter(data.get_dataloader(True)))[0]], d2l.init_cnn)\n",
        "trainer.fit(model, data)"
      ]
    },
    {
      "cell_type": "code",
      "execution_count": null,
      "metadata": {
        "execution": {
          "iopub.execute_input": "2023-08-18T20:00:16.875213Z",
          "iopub.status.busy": "2023-08-18T20:00:16.874610Z",
          "iopub.status.idle": "2023-08-18T20:00:16.971921Z",
          "shell.execute_reply": "2023-08-18T20:00:16.970745Z"
        },
        "origin_pos": 26,
        "tab": [
          "pytorch"
        ],
        "id": "4969fdc2",
        "outputId": "9efa6850-d7b4-4bd4-e539-dc832c1b4f8f",
        "colab": {
          "base_uri": "https://localhost:8080/"
        }
      },
      "outputs": [
        {
          "output_type": "execute_result",
          "data": {
            "text/plain": [
              "(tensor([1.3977, 1.6987, 2.3419, 1.9980, 2.0060, 1.7224], device='cuda:0',\n",
              "        grad_fn=<ViewBackward0>),\n",
              " tensor([ 0.5330, -1.3626,  0.8508,  0.9183, -1.0856, -1.2695], device='cuda:0',\n",
              "        grad_fn=<ViewBackward0>))"
            ]
          },
          "metadata": {},
          "execution_count": 38
        }
      ],
      "source": [
        "model.net[1].gamma.reshape((-1,)), model.net[1].beta.reshape((-1,))"
      ]
    },
    {
      "cell_type": "code",
      "execution_count": null,
      "metadata": {
        "execution": {
          "iopub.execute_input": "2023-08-18T20:00:16.975625Z",
          "iopub.status.busy": "2023-08-18T20:00:16.975018Z",
          "iopub.status.idle": "2023-08-18T20:00:16.981373Z",
          "shell.execute_reply": "2023-08-18T20:00:16.980550Z"
        },
        "origin_pos": 30,
        "tab": [
          "pytorch"
        ],
        "id": "ef2ab147"
      },
      "outputs": [],
      "source": [
        "class BNLeNet(d2l.Classifier):\n",
        "    def __init__(self, lr=0.1, num_classes=10):\n",
        "        super().__init__()\n",
        "        self.save_hyperparameters()\n",
        "        self.net = nn.Sequential(\n",
        "            nn.LazyConv2d(6, kernel_size=5), nn.LazyBatchNorm2d(),\n",
        "            nn.Sigmoid(), nn.AvgPool2d(kernel_size=2, stride=2),\n",
        "            nn.LazyConv2d(16, kernel_size=5), nn.LazyBatchNorm2d(),\n",
        "            nn.Sigmoid(), nn.AvgPool2d(kernel_size=2, stride=2),\n",
        "            nn.Flatten(), nn.LazyLinear(120), nn.LazyBatchNorm1d(),\n",
        "            nn.Sigmoid(), nn.LazyLinear(84), nn.LazyBatchNorm1d(),\n",
        "            nn.Sigmoid(), nn.LazyLinear(num_classes))"
      ]
    },
    {
      "cell_type": "code",
      "execution_count": null,
      "metadata": {
        "execution": {
          "iopub.execute_input": "2023-08-18T20:00:16.984898Z",
          "iopub.status.busy": "2023-08-18T20:00:16.984364Z",
          "iopub.status.idle": "2023-08-18T20:01:21.082406Z",
          "shell.execute_reply": "2023-08-18T20:01:21.081474Z"
        },
        "origin_pos": 33,
        "tab": [
          "pytorch"
        ],
        "id": "0d6aaf49",
        "outputId": "be178d4d-cd67-47f3-80b5-678046998848",
        "colab": {
          "base_uri": "https://localhost:8080/",
          "height": 266
        }
      },
      "outputs": [
        {
          "output_type": "display_data",
          "data": {
            "text/plain": [
              "<Figure size 350x250 with 1 Axes>"
            ],
            "image/svg+xml": "<?xml version=\"1.0\" encoding=\"utf-8\" standalone=\"no\"?>\n<!DOCTYPE svg PUBLIC \"-//W3C//DTD SVG 1.1//EN\"\n  \"http://www.w3.org/Graphics/SVG/1.1/DTD/svg11.dtd\">\n<svg xmlns:xlink=\"http://www.w3.org/1999/xlink\" width=\"238.965625pt\" height=\"183.35625pt\" viewBox=\"0 0 238.965625 183.35625\" xmlns=\"http://www.w3.org/2000/svg\" version=\"1.1\">\n <metadata>\n  <rdf:RDF xmlns:dc=\"http://purl.org/dc/elements/1.1/\" xmlns:cc=\"http://creativecommons.org/ns#\" xmlns:rdf=\"http://www.w3.org/1999/02/22-rdf-syntax-ns#\">\n   <cc:Work>\n    <dc:type rdf:resource=\"http://purl.org/dc/dcmitype/StillImage\"/>\n    <dc:date>2024-10-04T14:47:13.829520</dc:date>\n    <dc:format>image/svg+xml</dc:format>\n    <dc:creator>\n     <cc:Agent>\n      <dc:title>Matplotlib v3.7.2, https://matplotlib.org/</dc:title>\n     </cc:Agent>\n    </dc:creator>\n   </cc:Work>\n  </rdf:RDF>\n </metadata>\n <defs>\n  <style type=\"text/css\">*{stroke-linejoin: round; stroke-linecap: butt}</style>\n </defs>\n <g id=\"figure_1\">\n  <g id=\"patch_1\">\n   <path d=\"M 0 183.35625 \nL 238.965625 183.35625 \nL 238.965625 0 \nL 0 0 \nz\n\" style=\"fill: #ffffff\"/>\n  </g>\n  <g id=\"axes_1\">\n   <g id=\"patch_2\">\n    <path d=\"M 30.103125 145.8 \nL 225.403125 145.8 \nL 225.403125 7.2 \nL 30.103125 7.2 \nz\n\" style=\"fill: #ffffff\"/>\n   </g>\n   <g id=\"matplotlib.axis_1\">\n    <g id=\"xtick_1\">\n     <g id=\"line2d_1\">\n      <defs>\n       <path id=\"m62902c1c74\" d=\"M 0 0 \nL 0 3.5 \n\" style=\"stroke: #000000; stroke-width: 0.8\"/>\n      </defs>\n      <g>\n       <use xlink:href=\"#m62902c1c74\" x=\"30.103125\" y=\"145.8\" style=\"stroke: #000000; stroke-width: 0.8\"/>\n      </g>\n     </g>\n     <g id=\"text_1\">\n      <!-- 0 -->\n      <g transform=\"translate(26.921875 160.398438) scale(0.1 -0.1)\">\n       <defs>\n        <path id=\"DejaVuSans-30\" d=\"M 2034 4250 \nQ 1547 4250 1301 3770 \nQ 1056 3291 1056 2328 \nQ 1056 1369 1301 889 \nQ 1547 409 2034 409 \nQ 2525 409 2770 889 \nQ 3016 1369 3016 2328 \nQ 3016 3291 2770 3770 \nQ 2525 4250 2034 4250 \nz\nM 2034 4750 \nQ 2819 4750 3233 4129 \nQ 3647 3509 3647 2328 \nQ 3647 1150 3233 529 \nQ 2819 -91 2034 -91 \nQ 1250 -91 836 529 \nQ 422 1150 422 2328 \nQ 422 3509 836 4129 \nQ 1250 4750 2034 4750 \nz\n\" transform=\"scale(0.015625)\"/>\n       </defs>\n       <use xlink:href=\"#DejaVuSans-30\"/>\n      </g>\n     </g>\n    </g>\n    <g id=\"xtick_2\">\n     <g id=\"line2d_2\">\n      <g>\n       <use xlink:href=\"#m62902c1c74\" x=\"69.163125\" y=\"145.8\" style=\"stroke: #000000; stroke-width: 0.8\"/>\n      </g>\n     </g>\n     <g id=\"text_2\">\n      <!-- 2 -->\n      <g transform=\"translate(65.981875 160.398438) scale(0.1 -0.1)\">\n       <defs>\n        <path id=\"DejaVuSans-32\" d=\"M 1228 531 \nL 3431 531 \nL 3431 0 \nL 469 0 \nL 469 531 \nQ 828 903 1448 1529 \nQ 2069 2156 2228 2338 \nQ 2531 2678 2651 2914 \nQ 2772 3150 2772 3378 \nQ 2772 3750 2511 3984 \nQ 2250 4219 1831 4219 \nQ 1534 4219 1204 4116 \nQ 875 4013 500 3803 \nL 500 4441 \nQ 881 4594 1212 4672 \nQ 1544 4750 1819 4750 \nQ 2544 4750 2975 4387 \nQ 3406 4025 3406 3419 \nQ 3406 3131 3298 2873 \nQ 3191 2616 2906 2266 \nQ 2828 2175 2409 1742 \nQ 1991 1309 1228 531 \nz\n\" transform=\"scale(0.015625)\"/>\n       </defs>\n       <use xlink:href=\"#DejaVuSans-32\"/>\n      </g>\n     </g>\n    </g>\n    <g id=\"xtick_3\">\n     <g id=\"line2d_3\">\n      <g>\n       <use xlink:href=\"#m62902c1c74\" x=\"108.223125\" y=\"145.8\" style=\"stroke: #000000; stroke-width: 0.8\"/>\n      </g>\n     </g>\n     <g id=\"text_3\">\n      <!-- 4 -->\n      <g transform=\"translate(105.041875 160.398438) scale(0.1 -0.1)\">\n       <defs>\n        <path id=\"DejaVuSans-34\" d=\"M 2419 4116 \nL 825 1625 \nL 2419 1625 \nL 2419 4116 \nz\nM 2253 4666 \nL 3047 4666 \nL 3047 1625 \nL 3713 1625 \nL 3713 1100 \nL 3047 1100 \nL 3047 0 \nL 2419 0 \nL 2419 1100 \nL 313 1100 \nL 313 1709 \nL 2253 4666 \nz\n\" transform=\"scale(0.015625)\"/>\n       </defs>\n       <use xlink:href=\"#DejaVuSans-34\"/>\n      </g>\n     </g>\n    </g>\n    <g id=\"xtick_4\">\n     <g id=\"line2d_4\">\n      <g>\n       <use xlink:href=\"#m62902c1c74\" x=\"147.283125\" y=\"145.8\" style=\"stroke: #000000; stroke-width: 0.8\"/>\n      </g>\n     </g>\n     <g id=\"text_4\">\n      <!-- 6 -->\n      <g transform=\"translate(144.101875 160.398438) scale(0.1 -0.1)\">\n       <defs>\n        <path id=\"DejaVuSans-36\" d=\"M 2113 2584 \nQ 1688 2584 1439 2293 \nQ 1191 2003 1191 1497 \nQ 1191 994 1439 701 \nQ 1688 409 2113 409 \nQ 2538 409 2786 701 \nQ 3034 994 3034 1497 \nQ 3034 2003 2786 2293 \nQ 2538 2584 2113 2584 \nz\nM 3366 4563 \nL 3366 3988 \nQ 3128 4100 2886 4159 \nQ 2644 4219 2406 4219 \nQ 1781 4219 1451 3797 \nQ 1122 3375 1075 2522 \nQ 1259 2794 1537 2939 \nQ 1816 3084 2150 3084 \nQ 2853 3084 3261 2657 \nQ 3669 2231 3669 1497 \nQ 3669 778 3244 343 \nQ 2819 -91 2113 -91 \nQ 1303 -91 875 529 \nQ 447 1150 447 2328 \nQ 447 3434 972 4092 \nQ 1497 4750 2381 4750 \nQ 2619 4750 2861 4703 \nQ 3103 4656 3366 4563 \nz\n\" transform=\"scale(0.015625)\"/>\n       </defs>\n       <use xlink:href=\"#DejaVuSans-36\"/>\n      </g>\n     </g>\n    </g>\n    <g id=\"xtick_5\">\n     <g id=\"line2d_5\">\n      <g>\n       <use xlink:href=\"#m62902c1c74\" x=\"186.343125\" y=\"145.8\" style=\"stroke: #000000; stroke-width: 0.8\"/>\n      </g>\n     </g>\n     <g id=\"text_5\">\n      <!-- 8 -->\n      <g transform=\"translate(183.161875 160.398438) scale(0.1 -0.1)\">\n       <defs>\n        <path id=\"DejaVuSans-38\" d=\"M 2034 2216 \nQ 1584 2216 1326 1975 \nQ 1069 1734 1069 1313 \nQ 1069 891 1326 650 \nQ 1584 409 2034 409 \nQ 2484 409 2743 651 \nQ 3003 894 3003 1313 \nQ 3003 1734 2745 1975 \nQ 2488 2216 2034 2216 \nz\nM 1403 2484 \nQ 997 2584 770 2862 \nQ 544 3141 544 3541 \nQ 544 4100 942 4425 \nQ 1341 4750 2034 4750 \nQ 2731 4750 3128 4425 \nQ 3525 4100 3525 3541 \nQ 3525 3141 3298 2862 \nQ 3072 2584 2669 2484 \nQ 3125 2378 3379 2068 \nQ 3634 1759 3634 1313 \nQ 3634 634 3220 271 \nQ 2806 -91 2034 -91 \nQ 1263 -91 848 271 \nQ 434 634 434 1313 \nQ 434 1759 690 2068 \nQ 947 2378 1403 2484 \nz\nM 1172 3481 \nQ 1172 3119 1398 2916 \nQ 1625 2713 2034 2713 \nQ 2441 2713 2670 2916 \nQ 2900 3119 2900 3481 \nQ 2900 3844 2670 4047 \nQ 2441 4250 2034 4250 \nQ 1625 4250 1398 4047 \nQ 1172 3844 1172 3481 \nz\n\" transform=\"scale(0.015625)\"/>\n       </defs>\n       <use xlink:href=\"#DejaVuSans-38\"/>\n      </g>\n     </g>\n    </g>\n    <g id=\"xtick_6\">\n     <g id=\"line2d_6\">\n      <g>\n       <use xlink:href=\"#m62902c1c74\" x=\"225.403125\" y=\"145.8\" style=\"stroke: #000000; stroke-width: 0.8\"/>\n      </g>\n     </g>\n     <g id=\"text_6\">\n      <!-- 10 -->\n      <g transform=\"translate(219.040625 160.398438) scale(0.1 -0.1)\">\n       <defs>\n        <path id=\"DejaVuSans-31\" d=\"M 794 531 \nL 1825 531 \nL 1825 4091 \nL 703 3866 \nL 703 4441 \nL 1819 4666 \nL 2450 4666 \nL 2450 531 \nL 3481 531 \nL 3481 0 \nL 794 0 \nL 794 531 \nz\n\" transform=\"scale(0.015625)\"/>\n       </defs>\n       <use xlink:href=\"#DejaVuSans-31\"/>\n       <use xlink:href=\"#DejaVuSans-30\" x=\"63.623047\"/>\n      </g>\n     </g>\n    </g>\n    <g id=\"text_7\">\n     <!-- epoch -->\n     <g transform=\"translate(112.525 174.076563) scale(0.1 -0.1)\">\n      <defs>\n       <path id=\"DejaVuSans-65\" d=\"M 3597 1894 \nL 3597 1613 \nL 953 1613 \nQ 991 1019 1311 708 \nQ 1631 397 2203 397 \nQ 2534 397 2845 478 \nQ 3156 559 3463 722 \nL 3463 178 \nQ 3153 47 2828 -22 \nQ 2503 -91 2169 -91 \nQ 1331 -91 842 396 \nQ 353 884 353 1716 \nQ 353 2575 817 3079 \nQ 1281 3584 2069 3584 \nQ 2775 3584 3186 3129 \nQ 3597 2675 3597 1894 \nz\nM 3022 2063 \nQ 3016 2534 2758 2815 \nQ 2500 3097 2075 3097 \nQ 1594 3097 1305 2825 \nQ 1016 2553 972 2059 \nL 3022 2063 \nz\n\" transform=\"scale(0.015625)\"/>\n       <path id=\"DejaVuSans-70\" d=\"M 1159 525 \nL 1159 -1331 \nL 581 -1331 \nL 581 3500 \nL 1159 3500 \nL 1159 2969 \nQ 1341 3281 1617 3432 \nQ 1894 3584 2278 3584 \nQ 2916 3584 3314 3078 \nQ 3713 2572 3713 1747 \nQ 3713 922 3314 415 \nQ 2916 -91 2278 -91 \nQ 1894 -91 1617 61 \nQ 1341 213 1159 525 \nz\nM 3116 1747 \nQ 3116 2381 2855 2742 \nQ 2594 3103 2138 3103 \nQ 1681 3103 1420 2742 \nQ 1159 2381 1159 1747 \nQ 1159 1113 1420 752 \nQ 1681 391 2138 391 \nQ 2594 391 2855 752 \nQ 3116 1113 3116 1747 \nz\n\" transform=\"scale(0.015625)\"/>\n       <path id=\"DejaVuSans-6f\" d=\"M 1959 3097 \nQ 1497 3097 1228 2736 \nQ 959 2375 959 1747 \nQ 959 1119 1226 758 \nQ 1494 397 1959 397 \nQ 2419 397 2687 759 \nQ 2956 1122 2956 1747 \nQ 2956 2369 2687 2733 \nQ 2419 3097 1959 3097 \nz\nM 1959 3584 \nQ 2709 3584 3137 3096 \nQ 3566 2609 3566 1747 \nQ 3566 888 3137 398 \nQ 2709 -91 1959 -91 \nQ 1206 -91 779 398 \nQ 353 888 353 1747 \nQ 353 2609 779 3096 \nQ 1206 3584 1959 3584 \nz\n\" transform=\"scale(0.015625)\"/>\n       <path id=\"DejaVuSans-63\" d=\"M 3122 3366 \nL 3122 2828 \nQ 2878 2963 2633 3030 \nQ 2388 3097 2138 3097 \nQ 1578 3097 1268 2742 \nQ 959 2388 959 1747 \nQ 959 1106 1268 751 \nQ 1578 397 2138 397 \nQ 2388 397 2633 464 \nQ 2878 531 3122 666 \nL 3122 134 \nQ 2881 22 2623 -34 \nQ 2366 -91 2075 -91 \nQ 1284 -91 818 406 \nQ 353 903 353 1747 \nQ 353 2603 823 3093 \nQ 1294 3584 2113 3584 \nQ 2378 3584 2631 3529 \nQ 2884 3475 3122 3366 \nz\n\" transform=\"scale(0.015625)\"/>\n       <path id=\"DejaVuSans-68\" d=\"M 3513 2113 \nL 3513 0 \nL 2938 0 \nL 2938 2094 \nQ 2938 2591 2744 2837 \nQ 2550 3084 2163 3084 \nQ 1697 3084 1428 2787 \nQ 1159 2491 1159 1978 \nL 1159 0 \nL 581 0 \nL 581 4863 \nL 1159 4863 \nL 1159 2956 \nQ 1366 3272 1645 3428 \nQ 1925 3584 2291 3584 \nQ 2894 3584 3203 3211 \nQ 3513 2838 3513 2113 \nz\n\" transform=\"scale(0.015625)\"/>\n      </defs>\n      <use xlink:href=\"#DejaVuSans-65\"/>\n      <use xlink:href=\"#DejaVuSans-70\" x=\"61.523438\"/>\n      <use xlink:href=\"#DejaVuSans-6f\" x=\"125\"/>\n      <use xlink:href=\"#DejaVuSans-63\" x=\"186.181641\"/>\n      <use xlink:href=\"#DejaVuSans-68\" x=\"241.162109\"/>\n     </g>\n    </g>\n   </g>\n   <g id=\"matplotlib.axis_2\">\n    <g id=\"ytick_1\">\n     <g id=\"line2d_7\">\n      <defs>\n       <path id=\"m289df58504\" d=\"M 0 0 \nL -3.5 0 \n\" style=\"stroke: #000000; stroke-width: 0.8\"/>\n      </defs>\n      <g>\n       <use xlink:href=\"#m289df58504\" x=\"30.103125\" y=\"121.767411\" style=\"stroke: #000000; stroke-width: 0.8\"/>\n      </g>\n     </g>\n     <g id=\"text_8\">\n      <!-- 0.4 -->\n      <g transform=\"translate(7.2 125.56663) scale(0.1 -0.1)\">\n       <defs>\n        <path id=\"DejaVuSans-2e\" d=\"M 684 794 \nL 1344 794 \nL 1344 0 \nL 684 0 \nL 684 794 \nz\n\" transform=\"scale(0.015625)\"/>\n       </defs>\n       <use xlink:href=\"#DejaVuSans-30\"/>\n       <use xlink:href=\"#DejaVuSans-2e\" x=\"63.623047\"/>\n       <use xlink:href=\"#DejaVuSans-34\" x=\"95.410156\"/>\n      </g>\n     </g>\n    </g>\n    <g id=\"ytick_2\">\n     <g id=\"line2d_8\">\n      <g>\n       <use xlink:href=\"#m289df58504\" x=\"30.103125\" y=\"82.875309\" style=\"stroke: #000000; stroke-width: 0.8\"/>\n      </g>\n     </g>\n     <g id=\"text_9\">\n      <!-- 0.6 -->\n      <g transform=\"translate(7.2 86.674528) scale(0.1 -0.1)\">\n       <use xlink:href=\"#DejaVuSans-30\"/>\n       <use xlink:href=\"#DejaVuSans-2e\" x=\"63.623047\"/>\n       <use xlink:href=\"#DejaVuSans-36\" x=\"95.410156\"/>\n      </g>\n     </g>\n    </g>\n    <g id=\"ytick_3\">\n     <g id=\"line2d_9\">\n      <g>\n       <use xlink:href=\"#m289df58504\" x=\"30.103125\" y=\"43.983207\" style=\"stroke: #000000; stroke-width: 0.8\"/>\n      </g>\n     </g>\n     <g id=\"text_10\">\n      <!-- 0.8 -->\n      <g transform=\"translate(7.2 47.782426) scale(0.1 -0.1)\">\n       <use xlink:href=\"#DejaVuSans-30\"/>\n       <use xlink:href=\"#DejaVuSans-2e\" x=\"63.623047\"/>\n       <use xlink:href=\"#DejaVuSans-38\" x=\"95.410156\"/>\n      </g>\n     </g>\n    </g>\n   </g>\n   <g id=\"line2d_10\">\n    <path d=\"M 34.954394 13.5 \n\" clip-path=\"url(#pe76b5a7292)\" style=\"fill: none; stroke: #1f77b4; stroke-width: 1.5; stroke-linecap: square\"/>\n   </g>\n   <g id=\"line2d_11\">\n    <path d=\"M 34.954394 13.5 \nL 44.698573 80.033438 \n\" clip-path=\"url(#pe76b5a7292)\" style=\"fill: none; stroke: #1f77b4; stroke-width: 1.5; stroke-linecap: square\"/>\n   </g>\n   <g id=\"line2d_12\">\n    <path d=\"M 34.954394 13.5 \nL 44.698573 80.033438 \n\" clip-path=\"url(#pe76b5a7292)\" style=\"fill: none; stroke: #1f77b4; stroke-width: 1.5; stroke-linecap: square\"/>\n   </g>\n   <g id=\"line2d_13\">\n    <path d=\"M 49.633125 85.58499 \n\" clip-path=\"url(#pe76b5a7292)\" style=\"fill: none; stroke-dasharray: 5.55,2.4; stroke-dashoffset: 0; stroke: #ff7f0e; stroke-width: 1.5\"/>\n   </g>\n   <g id=\"line2d_14\"/>\n   <g id=\"line2d_15\">\n    <path d=\"M 34.954394 13.5 \nL 44.698573 80.033438 \n\" clip-path=\"url(#pe76b5a7292)\" style=\"fill: none; stroke: #1f77b4; stroke-width: 1.5; stroke-linecap: square\"/>\n   </g>\n   <g id=\"line2d_16\">\n    <path d=\"M 49.633125 85.58499 \n\" clip-path=\"url(#pe76b5a7292)\" style=\"fill: none; stroke-dasharray: 5.55,2.4; stroke-dashoffset: 0; stroke: #ff7f0e; stroke-width: 1.5\"/>\n   </g>\n   <g id=\"line2d_17\">\n    <path d=\"M 49.633125 42.513984 \n\" clip-path=\"url(#pe76b5a7292)\" style=\"fill: none; stroke-dasharray: 9.6,2.4,1.5,2.4; stroke-dashoffset: 0; stroke: #2ca02c; stroke-width: 1.5\"/>\n   </g>\n   <g id=\"line2d_18\">\n    <path d=\"M 34.954394 13.5 \nL 44.698573 80.033438 \nL 54.442752 96.400318 \n\" clip-path=\"url(#pe76b5a7292)\" style=\"fill: none; stroke: #1f77b4; stroke-width: 1.5; stroke-linecap: square\"/>\n   </g>\n   <g id=\"line2d_19\">\n    <path d=\"M 49.633125 85.58499 \n\" clip-path=\"url(#pe76b5a7292)\" style=\"fill: none; stroke-dasharray: 5.55,2.4; stroke-dashoffset: 0; stroke: #ff7f0e; stroke-width: 1.5\"/>\n   </g>\n   <g id=\"line2d_20\">\n    <path d=\"M 49.633125 42.513984 \n\" clip-path=\"url(#pe76b5a7292)\" style=\"fill: none; stroke-dasharray: 9.6,2.4,1.5,2.4; stroke-dashoffset: 0; stroke: #2ca02c; stroke-width: 1.5\"/>\n   </g>\n   <g id=\"line2d_21\">\n    <path d=\"M 34.954394 13.5 \nL 44.698573 80.033438 \nL 54.442752 96.400318 \nL 64.186931 105.980826 \n\" clip-path=\"url(#pe76b5a7292)\" style=\"fill: none; stroke: #1f77b4; stroke-width: 1.5; stroke-linecap: square\"/>\n   </g>\n   <g id=\"line2d_22\">\n    <path d=\"M 49.633125 85.58499 \n\" clip-path=\"url(#pe76b5a7292)\" style=\"fill: none; stroke-dasharray: 5.55,2.4; stroke-dashoffset: 0; stroke: #ff7f0e; stroke-width: 1.5\"/>\n   </g>\n   <g id=\"line2d_23\">\n    <path d=\"M 49.633125 42.513984 \n\" clip-path=\"url(#pe76b5a7292)\" style=\"fill: none; stroke-dasharray: 9.6,2.4,1.5,2.4; stroke-dashoffset: 0; stroke: #2ca02c; stroke-width: 1.5\"/>\n   </g>\n   <g id=\"line2d_24\">\n    <path d=\"M 34.954394 13.5 \nL 44.698573 80.033438 \nL 54.442752 96.400318 \nL 64.186931 105.980826 \n\" clip-path=\"url(#pe76b5a7292)\" style=\"fill: none; stroke: #1f77b4; stroke-width: 1.5; stroke-linecap: square\"/>\n   </g>\n   <g id=\"line2d_25\">\n    <path d=\"M 49.633125 85.58499 \nL 69.163125 92.333946 \n\" clip-path=\"url(#pe76b5a7292)\" style=\"fill: none; stroke-dasharray: 5.55,2.4; stroke-dashoffset: 0; stroke: #ff7f0e; stroke-width: 1.5\"/>\n   </g>\n   <g id=\"line2d_26\">\n    <path d=\"M 49.633125 42.513984 \n\" clip-path=\"url(#pe76b5a7292)\" style=\"fill: none; stroke-dasharray: 9.6,2.4,1.5,2.4; stroke-dashoffset: 0; stroke: #2ca02c; stroke-width: 1.5\"/>\n   </g>\n   <g id=\"line2d_27\">\n    <path d=\"M 34.954394 13.5 \nL 44.698573 80.033438 \nL 54.442752 96.400318 \nL 64.186931 105.980826 \n\" clip-path=\"url(#pe76b5a7292)\" style=\"fill: none; stroke: #1f77b4; stroke-width: 1.5; stroke-linecap: square\"/>\n   </g>\n   <g id=\"line2d_28\">\n    <path d=\"M 49.633125 85.58499 \nL 69.163125 92.333946 \n\" clip-path=\"url(#pe76b5a7292)\" style=\"fill: none; stroke-dasharray: 5.55,2.4; stroke-dashoffset: 0; stroke: #ff7f0e; stroke-width: 1.5\"/>\n   </g>\n   <g id=\"line2d_29\">\n    <path d=\"M 49.633125 42.513984 \nL 69.163125 41.725527 \n\" clip-path=\"url(#pe76b5a7292)\" style=\"fill: none; stroke-dasharray: 9.6,2.4,1.5,2.4; stroke-dashoffset: 0; stroke: #2ca02c; stroke-width: 1.5\"/>\n   </g>\n   <g id=\"line2d_30\">\n    <path d=\"M 34.954394 13.5 \nL 44.698573 80.033438 \nL 54.442752 96.400318 \nL 64.186931 105.980826 \nL 73.93111 111.725695 \n\" clip-path=\"url(#pe76b5a7292)\" style=\"fill: none; stroke: #1f77b4; stroke-width: 1.5; stroke-linecap: square\"/>\n   </g>\n   <g id=\"line2d_31\">\n    <path d=\"M 49.633125 85.58499 \nL 69.163125 92.333946 \n\" clip-path=\"url(#pe76b5a7292)\" style=\"fill: none; stroke-dasharray: 5.55,2.4; stroke-dashoffset: 0; stroke: #ff7f0e; stroke-width: 1.5\"/>\n   </g>\n   <g id=\"line2d_32\">\n    <path d=\"M 49.633125 42.513984 \nL 69.163125 41.725527 \n\" clip-path=\"url(#pe76b5a7292)\" style=\"fill: none; stroke-dasharray: 9.6,2.4,1.5,2.4; stroke-dashoffset: 0; stroke: #2ca02c; stroke-width: 1.5\"/>\n   </g>\n   <g id=\"line2d_33\">\n    <path d=\"M 34.954394 13.5 \nL 44.698573 80.033438 \nL 54.442752 96.400318 \nL 64.186931 105.980826 \nL 73.93111 111.725695 \nL 83.675289 115.275862 \n\" clip-path=\"url(#pe76b5a7292)\" style=\"fill: none; stroke: #1f77b4; stroke-width: 1.5; stroke-linecap: square\"/>\n   </g>\n   <g id=\"line2d_34\">\n    <path d=\"M 49.633125 85.58499 \nL 69.163125 92.333946 \n\" clip-path=\"url(#pe76b5a7292)\" style=\"fill: none; stroke-dasharray: 5.55,2.4; stroke-dashoffset: 0; stroke: #ff7f0e; stroke-width: 1.5\"/>\n   </g>\n   <g id=\"line2d_35\">\n    <path d=\"M 49.633125 42.513984 \nL 69.163125 41.725527 \n\" clip-path=\"url(#pe76b5a7292)\" style=\"fill: none; stroke-dasharray: 9.6,2.4,1.5,2.4; stroke-dashoffset: 0; stroke: #2ca02c; stroke-width: 1.5\"/>\n   </g>\n   <g id=\"line2d_36\">\n    <path d=\"M 34.954394 13.5 \nL 44.698573 80.033438 \nL 54.442752 96.400318 \nL 64.186931 105.980826 \nL 73.93111 111.725695 \nL 83.675289 115.275862 \n\" clip-path=\"url(#pe76b5a7292)\" style=\"fill: none; stroke: #1f77b4; stroke-width: 1.5; stroke-linecap: square\"/>\n   </g>\n   <g id=\"line2d_37\">\n    <path d=\"M 49.633125 85.58499 \nL 69.163125 92.333946 \nL 88.693125 91.576547 \n\" clip-path=\"url(#pe76b5a7292)\" style=\"fill: none; stroke-dasharray: 5.55,2.4; stroke-dashoffset: 0; stroke: #ff7f0e; stroke-width: 1.5\"/>\n   </g>\n   <g id=\"line2d_38\">\n    <path d=\"M 49.633125 42.513984 \nL 69.163125 41.725527 \n\" clip-path=\"url(#pe76b5a7292)\" style=\"fill: none; stroke-dasharray: 9.6,2.4,1.5,2.4; stroke-dashoffset: 0; stroke: #2ca02c; stroke-width: 1.5\"/>\n   </g>\n   <g id=\"line2d_39\">\n    <path d=\"M 34.954394 13.5 \nL 44.698573 80.033438 \nL 54.442752 96.400318 \nL 64.186931 105.980826 \nL 73.93111 111.725695 \nL 83.675289 115.275862 \n\" clip-path=\"url(#pe76b5a7292)\" style=\"fill: none; stroke: #1f77b4; stroke-width: 1.5; stroke-linecap: square\"/>\n   </g>\n   <g id=\"line2d_40\">\n    <path d=\"M 49.633125 85.58499 \nL 69.163125 92.333946 \nL 88.693125 91.576547 \n\" clip-path=\"url(#pe76b5a7292)\" style=\"fill: none; stroke-dasharray: 5.55,2.4; stroke-dashoffset: 0; stroke: #ff7f0e; stroke-width: 1.5\"/>\n   </g>\n   <g id=\"line2d_41\">\n    <path d=\"M 49.633125 42.513984 \nL 69.163125 41.725527 \nL 88.693125 45.456276 \n\" clip-path=\"url(#pe76b5a7292)\" style=\"fill: none; stroke-dasharray: 9.6,2.4,1.5,2.4; stroke-dashoffset: 0; stroke: #2ca02c; stroke-width: 1.5\"/>\n   </g>\n   <g id=\"line2d_42\">\n    <path d=\"M 34.954394 13.5 \nL 44.698573 80.033438 \nL 54.442752 96.400318 \nL 64.186931 105.980826 \nL 73.93111 111.725695 \nL 83.675289 115.275862 \nL 93.419468 119.4282 \n\" clip-path=\"url(#pe76b5a7292)\" style=\"fill: none; stroke: #1f77b4; stroke-width: 1.5; stroke-linecap: square\"/>\n   </g>\n   <g id=\"line2d_43\">\n    <path d=\"M 49.633125 85.58499 \nL 69.163125 92.333946 \nL 88.693125 91.576547 \n\" clip-path=\"url(#pe76b5a7292)\" style=\"fill: none; stroke-dasharray: 5.55,2.4; stroke-dashoffset: 0; stroke: #ff7f0e; stroke-width: 1.5\"/>\n   </g>\n   <g id=\"line2d_44\">\n    <path d=\"M 49.633125 42.513984 \nL 69.163125 41.725527 \nL 88.693125 45.456276 \n\" clip-path=\"url(#pe76b5a7292)\" style=\"fill: none; stroke-dasharray: 9.6,2.4,1.5,2.4; stroke-dashoffset: 0; stroke: #2ca02c; stroke-width: 1.5\"/>\n   </g>\n   <g id=\"line2d_45\">\n    <path d=\"M 34.954394 13.5 \nL 44.698573 80.033438 \nL 54.442752 96.400318 \nL 64.186931 105.980826 \nL 73.93111 111.725695 \nL 83.675289 115.275862 \nL 93.419468 119.4282 \nL 103.163647 121.292998 \n\" clip-path=\"url(#pe76b5a7292)\" style=\"fill: none; stroke: #1f77b4; stroke-width: 1.5; stroke-linecap: square\"/>\n   </g>\n   <g id=\"line2d_46\">\n    <path d=\"M 49.633125 85.58499 \nL 69.163125 92.333946 \nL 88.693125 91.576547 \n\" clip-path=\"url(#pe76b5a7292)\" style=\"fill: none; stroke-dasharray: 5.55,2.4; stroke-dashoffset: 0; stroke: #ff7f0e; stroke-width: 1.5\"/>\n   </g>\n   <g id=\"line2d_47\">\n    <path d=\"M 49.633125 42.513984 \nL 69.163125 41.725527 \nL 88.693125 45.456276 \n\" clip-path=\"url(#pe76b5a7292)\" style=\"fill: none; stroke-dasharray: 9.6,2.4,1.5,2.4; stroke-dashoffset: 0; stroke: #2ca02c; stroke-width: 1.5\"/>\n   </g>\n   <g id=\"line2d_48\">\n    <path d=\"M 34.954394 13.5 \nL 44.698573 80.033438 \nL 54.442752 96.400318 \nL 64.186931 105.980826 \nL 73.93111 111.725695 \nL 83.675289 115.275862 \nL 93.419468 119.4282 \nL 103.163647 121.292998 \n\" clip-path=\"url(#pe76b5a7292)\" style=\"fill: none; stroke: #1f77b4; stroke-width: 1.5; stroke-linecap: square\"/>\n   </g>\n   <g id=\"line2d_49\">\n    <path d=\"M 49.633125 85.58499 \nL 69.163125 92.333946 \nL 88.693125 91.576547 \nL 108.223125 115.675703 \n\" clip-path=\"url(#pe76b5a7292)\" style=\"fill: none; stroke-dasharray: 5.55,2.4; stroke-dashoffset: 0; stroke: #ff7f0e; stroke-width: 1.5\"/>\n   </g>\n   <g id=\"line2d_50\">\n    <path d=\"M 49.633125 42.513984 \nL 69.163125 41.725527 \nL 88.693125 45.456276 \n\" clip-path=\"url(#pe76b5a7292)\" style=\"fill: none; stroke-dasharray: 9.6,2.4,1.5,2.4; stroke-dashoffset: 0; stroke: #2ca02c; stroke-width: 1.5\"/>\n   </g>\n   <g id=\"line2d_51\">\n    <path d=\"M 34.954394 13.5 \nL 44.698573 80.033438 \nL 54.442752 96.400318 \nL 64.186931 105.980826 \nL 73.93111 111.725695 \nL 83.675289 115.275862 \nL 93.419468 119.4282 \nL 103.163647 121.292998 \n\" clip-path=\"url(#pe76b5a7292)\" style=\"fill: none; stroke: #1f77b4; stroke-width: 1.5; stroke-linecap: square\"/>\n   </g>\n   <g id=\"line2d_52\">\n    <path d=\"M 49.633125 85.58499 \nL 69.163125 92.333946 \nL 88.693125 91.576547 \nL 108.223125 115.675703 \n\" clip-path=\"url(#pe76b5a7292)\" style=\"fill: none; stroke-dasharray: 5.55,2.4; stroke-dashoffset: 0; stroke: #ff7f0e; stroke-width: 1.5\"/>\n   </g>\n   <g id=\"line2d_53\">\n    <path d=\"M 49.633125 42.513984 \nL 69.163125 41.725527 \nL 88.693125 45.456276 \nL 108.223125 35.340945 \n\" clip-path=\"url(#pe76b5a7292)\" style=\"fill: none; stroke-dasharray: 9.6,2.4,1.5,2.4; stroke-dashoffset: 0; stroke: #2ca02c; stroke-width: 1.5\"/>\n   </g>\n   <g id=\"line2d_54\">\n    <path d=\"M 34.954394 13.5 \nL 44.698573 80.033438 \nL 54.442752 96.400318 \nL 64.186931 105.980826 \nL 73.93111 111.725695 \nL 83.675289 115.275862 \nL 93.419468 119.4282 \nL 103.163647 121.292998 \nL 112.907826 122.777112 \n\" clip-path=\"url(#pe76b5a7292)\" style=\"fill: none; stroke: #1f77b4; stroke-width: 1.5; stroke-linecap: square\"/>\n   </g>\n   <g id=\"line2d_55\">\n    <path d=\"M 49.633125 85.58499 \nL 69.163125 92.333946 \nL 88.693125 91.576547 \nL 108.223125 115.675703 \n\" clip-path=\"url(#pe76b5a7292)\" style=\"fill: none; stroke-dasharray: 5.55,2.4; stroke-dashoffset: 0; stroke: #ff7f0e; stroke-width: 1.5\"/>\n   </g>\n   <g id=\"line2d_56\">\n    <path d=\"M 49.633125 42.513984 \nL 69.163125 41.725527 \nL 88.693125 45.456276 \nL 108.223125 35.340945 \n\" clip-path=\"url(#pe76b5a7292)\" style=\"fill: none; stroke-dasharray: 9.6,2.4,1.5,2.4; stroke-dashoffset: 0; stroke: #2ca02c; stroke-width: 1.5\"/>\n   </g>\n   <g id=\"line2d_57\">\n    <path d=\"M 34.954394 13.5 \nL 44.698573 80.033438 \nL 54.442752 96.400318 \nL 64.186931 105.980826 \nL 73.93111 111.725695 \nL 83.675289 115.275862 \nL 93.419468 119.4282 \nL 103.163647 121.292998 \nL 112.907826 122.777112 \nL 122.652006 127.217145 \n\" clip-path=\"url(#pe76b5a7292)\" style=\"fill: none; stroke: #1f77b4; stroke-width: 1.5; stroke-linecap: square\"/>\n   </g>\n   <g id=\"line2d_58\">\n    <path d=\"M 49.633125 85.58499 \nL 69.163125 92.333946 \nL 88.693125 91.576547 \nL 108.223125 115.675703 \n\" clip-path=\"url(#pe76b5a7292)\" style=\"fill: none; stroke-dasharray: 5.55,2.4; stroke-dashoffset: 0; stroke: #ff7f0e; stroke-width: 1.5\"/>\n   </g>\n   <g id=\"line2d_59\">\n    <path d=\"M 49.633125 42.513984 \nL 69.163125 41.725527 \nL 88.693125 45.456276 \nL 108.223125 35.340945 \n\" clip-path=\"url(#pe76b5a7292)\" style=\"fill: none; stroke-dasharray: 9.6,2.4,1.5,2.4; stroke-dashoffset: 0; stroke: #2ca02c; stroke-width: 1.5\"/>\n   </g>\n   <g id=\"line2d_60\">\n    <path d=\"M 34.954394 13.5 \nL 44.698573 80.033438 \nL 54.442752 96.400318 \nL 64.186931 105.980826 \nL 73.93111 111.725695 \nL 83.675289 115.275862 \nL 93.419468 119.4282 \nL 103.163647 121.292998 \nL 112.907826 122.777112 \nL 122.652006 127.217145 \n\" clip-path=\"url(#pe76b5a7292)\" style=\"fill: none; stroke: #1f77b4; stroke-width: 1.5; stroke-linecap: square\"/>\n   </g>\n   <g id=\"line2d_61\">\n    <path d=\"M 49.633125 85.58499 \nL 69.163125 92.333946 \nL 88.693125 91.576547 \nL 108.223125 115.675703 \nL 127.753125 117.504519 \n\" clip-path=\"url(#pe76b5a7292)\" style=\"fill: none; stroke-dasharray: 5.55,2.4; stroke-dashoffset: 0; stroke: #ff7f0e; stroke-width: 1.5\"/>\n   </g>\n   <g id=\"line2d_62\">\n    <path d=\"M 49.633125 42.513984 \nL 69.163125 41.725527 \nL 88.693125 45.456276 \nL 108.223125 35.340945 \n\" clip-path=\"url(#pe76b5a7292)\" style=\"fill: none; stroke-dasharray: 9.6,2.4,1.5,2.4; stroke-dashoffset: 0; stroke: #2ca02c; stroke-width: 1.5\"/>\n   </g>\n   <g id=\"line2d_63\">\n    <path d=\"M 34.954394 13.5 \nL 44.698573 80.033438 \nL 54.442752 96.400318 \nL 64.186931 105.980826 \nL 73.93111 111.725695 \nL 83.675289 115.275862 \nL 93.419468 119.4282 \nL 103.163647 121.292998 \nL 112.907826 122.777112 \nL 122.652006 127.217145 \n\" clip-path=\"url(#pe76b5a7292)\" style=\"fill: none; stroke: #1f77b4; stroke-width: 1.5; stroke-linecap: square\"/>\n   </g>\n   <g id=\"line2d_64\">\n    <path d=\"M 49.633125 85.58499 \nL 69.163125 92.333946 \nL 88.693125 91.576547 \nL 108.223125 115.675703 \nL 127.753125 117.504519 \n\" clip-path=\"url(#pe76b5a7292)\" style=\"fill: none; stroke-dasharray: 5.55,2.4; stroke-dashoffset: 0; stroke: #ff7f0e; stroke-width: 1.5\"/>\n   </g>\n   <g id=\"line2d_65\">\n    <path d=\"M 49.633125 42.513984 \nL 69.163125 41.725527 \nL 88.693125 45.456276 \nL 108.223125 35.340945 \nL 127.753125 34.994793 \n\" clip-path=\"url(#pe76b5a7292)\" style=\"fill: none; stroke-dasharray: 9.6,2.4,1.5,2.4; stroke-dashoffset: 0; stroke: #2ca02c; stroke-width: 1.5\"/>\n   </g>\n   <g id=\"line2d_66\">\n    <path d=\"M 34.954394 13.5 \nL 44.698573 80.033438 \nL 54.442752 96.400318 \nL 64.186931 105.980826 \nL 73.93111 111.725695 \nL 83.675289 115.275862 \nL 93.419468 119.4282 \nL 103.163647 121.292998 \nL 112.907826 122.777112 \nL 122.652006 127.217145 \nL 132.396185 129.464267 \n\" clip-path=\"url(#pe76b5a7292)\" style=\"fill: none; stroke: #1f77b4; stroke-width: 1.5; stroke-linecap: square\"/>\n   </g>\n   <g id=\"line2d_67\">\n    <path d=\"M 49.633125 85.58499 \nL 69.163125 92.333946 \nL 88.693125 91.576547 \nL 108.223125 115.675703 \nL 127.753125 117.504519 \n\" clip-path=\"url(#pe76b5a7292)\" style=\"fill: none; stroke-dasharray: 5.55,2.4; stroke-dashoffset: 0; stroke: #ff7f0e; stroke-width: 1.5\"/>\n   </g>\n   <g id=\"line2d_68\">\n    <path d=\"M 49.633125 42.513984 \nL 69.163125 41.725527 \nL 88.693125 45.456276 \nL 108.223125 35.340945 \nL 127.753125 34.994793 \n\" clip-path=\"url(#pe76b5a7292)\" style=\"fill: none; stroke-dasharray: 9.6,2.4,1.5,2.4; stroke-dashoffset: 0; stroke: #2ca02c; stroke-width: 1.5\"/>\n   </g>\n   <g id=\"line2d_69\">\n    <path d=\"M 34.954394 13.5 \nL 44.698573 80.033438 \nL 54.442752 96.400318 \nL 64.186931 105.980826 \nL 73.93111 111.725695 \nL 83.675289 115.275862 \nL 93.419468 119.4282 \nL 103.163647 121.292998 \nL 112.907826 122.777112 \nL 122.652006 127.217145 \nL 132.396185 129.464267 \nL 142.140364 128.514809 \n\" clip-path=\"url(#pe76b5a7292)\" style=\"fill: none; stroke: #1f77b4; stroke-width: 1.5; stroke-linecap: square\"/>\n   </g>\n   <g id=\"line2d_70\">\n    <path d=\"M 49.633125 85.58499 \nL 69.163125 92.333946 \nL 88.693125 91.576547 \nL 108.223125 115.675703 \nL 127.753125 117.504519 \n\" clip-path=\"url(#pe76b5a7292)\" style=\"fill: none; stroke-dasharray: 5.55,2.4; stroke-dashoffset: 0; stroke: #ff7f0e; stroke-width: 1.5\"/>\n   </g>\n   <g id=\"line2d_71\">\n    <path d=\"M 49.633125 42.513984 \nL 69.163125 41.725527 \nL 88.693125 45.456276 \nL 108.223125 35.340945 \nL 127.753125 34.994793 \n\" clip-path=\"url(#pe76b5a7292)\" style=\"fill: none; stroke-dasharray: 9.6,2.4,1.5,2.4; stroke-dashoffset: 0; stroke: #2ca02c; stroke-width: 1.5\"/>\n   </g>\n   <g id=\"line2d_72\">\n    <path d=\"M 34.954394 13.5 \nL 44.698573 80.033438 \nL 54.442752 96.400318 \nL 64.186931 105.980826 \nL 73.93111 111.725695 \nL 83.675289 115.275862 \nL 93.419468 119.4282 \nL 103.163647 121.292998 \nL 112.907826 122.777112 \nL 122.652006 127.217145 \nL 132.396185 129.464267 \nL 142.140364 128.514809 \n\" clip-path=\"url(#pe76b5a7292)\" style=\"fill: none; stroke: #1f77b4; stroke-width: 1.5; stroke-linecap: square\"/>\n   </g>\n   <g id=\"line2d_73\">\n    <path d=\"M 49.633125 85.58499 \nL 69.163125 92.333946 \nL 88.693125 91.576547 \nL 108.223125 115.675703 \nL 127.753125 117.504519 \nL 147.283125 123.535497 \n\" clip-path=\"url(#pe76b5a7292)\" style=\"fill: none; stroke-dasharray: 5.55,2.4; stroke-dashoffset: 0; stroke: #ff7f0e; stroke-width: 1.5\"/>\n   </g>\n   <g id=\"line2d_74\">\n    <path d=\"M 49.633125 42.513984 \nL 69.163125 41.725527 \nL 88.693125 45.456276 \nL 108.223125 35.340945 \nL 127.753125 34.994793 \n\" clip-path=\"url(#pe76b5a7292)\" style=\"fill: none; stroke-dasharray: 9.6,2.4,1.5,2.4; stroke-dashoffset: 0; stroke: #2ca02c; stroke-width: 1.5\"/>\n   </g>\n   <g id=\"line2d_75\">\n    <path d=\"M 34.954394 13.5 \nL 44.698573 80.033438 \nL 54.442752 96.400318 \nL 64.186931 105.980826 \nL 73.93111 111.725695 \nL 83.675289 115.275862 \nL 93.419468 119.4282 \nL 103.163647 121.292998 \nL 112.907826 122.777112 \nL 122.652006 127.217145 \nL 132.396185 129.464267 \nL 142.140364 128.514809 \n\" clip-path=\"url(#pe76b5a7292)\" style=\"fill: none; stroke: #1f77b4; stroke-width: 1.5; stroke-linecap: square\"/>\n   </g>\n   <g id=\"line2d_76\">\n    <path d=\"M 49.633125 85.58499 \nL 69.163125 92.333946 \nL 88.693125 91.576547 \nL 108.223125 115.675703 \nL 127.753125 117.504519 \nL 147.283125 123.535497 \n\" clip-path=\"url(#pe76b5a7292)\" style=\"fill: none; stroke-dasharray: 5.55,2.4; stroke-dashoffset: 0; stroke: #ff7f0e; stroke-width: 1.5\"/>\n   </g>\n   <g id=\"line2d_77\">\n    <path d=\"M 49.633125 42.513984 \nL 69.163125 41.725527 \nL 88.693125 45.456276 \nL 108.223125 35.340945 \nL 127.753125 34.994793 \nL 147.283125 32.533267 \n\" clip-path=\"url(#pe76b5a7292)\" style=\"fill: none; stroke-dasharray: 9.6,2.4,1.5,2.4; stroke-dashoffset: 0; stroke: #2ca02c; stroke-width: 1.5\"/>\n   </g>\n   <g id=\"line2d_78\">\n    <path d=\"M 34.954394 13.5 \nL 44.698573 80.033438 \nL 54.442752 96.400318 \nL 64.186931 105.980826 \nL 73.93111 111.725695 \nL 83.675289 115.275862 \nL 93.419468 119.4282 \nL 103.163647 121.292998 \nL 112.907826 122.777112 \nL 122.652006 127.217145 \nL 132.396185 129.464267 \nL 142.140364 128.514809 \nL 151.884543 131.229586 \n\" clip-path=\"url(#pe76b5a7292)\" style=\"fill: none; stroke: #1f77b4; stroke-width: 1.5; stroke-linecap: square\"/>\n   </g>\n   <g id=\"line2d_79\">\n    <path d=\"M 49.633125 85.58499 \nL 69.163125 92.333946 \nL 88.693125 91.576547 \nL 108.223125 115.675703 \nL 127.753125 117.504519 \nL 147.283125 123.535497 \n\" clip-path=\"url(#pe76b5a7292)\" style=\"fill: none; stroke-dasharray: 5.55,2.4; stroke-dashoffset: 0; stroke: #ff7f0e; stroke-width: 1.5\"/>\n   </g>\n   <g id=\"line2d_80\">\n    <path d=\"M 49.633125 42.513984 \nL 69.163125 41.725527 \nL 88.693125 45.456276 \nL 108.223125 35.340945 \nL 127.753125 34.994793 \nL 147.283125 32.533267 \n\" clip-path=\"url(#pe76b5a7292)\" style=\"fill: none; stroke-dasharray: 9.6,2.4,1.5,2.4; stroke-dashoffset: 0; stroke: #2ca02c; stroke-width: 1.5\"/>\n   </g>\n   <g id=\"line2d_81\">\n    <path d=\"M 34.954394 13.5 \nL 44.698573 80.033438 \nL 54.442752 96.400318 \nL 64.186931 105.980826 \nL 73.93111 111.725695 \nL 83.675289 115.275862 \nL 93.419468 119.4282 \nL 103.163647 121.292998 \nL 112.907826 122.777112 \nL 122.652006 127.217145 \nL 132.396185 129.464267 \nL 142.140364 128.514809 \nL 151.884543 131.229586 \nL 161.628722 133.316234 \n\" clip-path=\"url(#pe76b5a7292)\" style=\"fill: none; stroke: #1f77b4; stroke-width: 1.5; stroke-linecap: square\"/>\n   </g>\n   <g id=\"line2d_82\">\n    <path d=\"M 49.633125 85.58499 \nL 69.163125 92.333946 \nL 88.693125 91.576547 \nL 108.223125 115.675703 \nL 127.753125 117.504519 \nL 147.283125 123.535497 \n\" clip-path=\"url(#pe76b5a7292)\" style=\"fill: none; stroke-dasharray: 5.55,2.4; stroke-dashoffset: 0; stroke: #ff7f0e; stroke-width: 1.5\"/>\n   </g>\n   <g id=\"line2d_83\">\n    <path d=\"M 49.633125 42.513984 \nL 69.163125 41.725527 \nL 88.693125 45.456276 \nL 108.223125 35.340945 \nL 127.753125 34.994793 \nL 147.283125 32.533267 \n\" clip-path=\"url(#pe76b5a7292)\" style=\"fill: none; stroke-dasharray: 9.6,2.4,1.5,2.4; stroke-dashoffset: 0; stroke: #2ca02c; stroke-width: 1.5\"/>\n   </g>\n   <g id=\"line2d_84\">\n    <path d=\"M 34.954394 13.5 \nL 44.698573 80.033438 \nL 54.442752 96.400318 \nL 64.186931 105.980826 \nL 73.93111 111.725695 \nL 83.675289 115.275862 \nL 93.419468 119.4282 \nL 103.163647 121.292998 \nL 112.907826 122.777112 \nL 122.652006 127.217145 \nL 132.396185 129.464267 \nL 142.140364 128.514809 \nL 151.884543 131.229586 \nL 161.628722 133.316234 \n\" clip-path=\"url(#pe76b5a7292)\" style=\"fill: none; stroke: #1f77b4; stroke-width: 1.5; stroke-linecap: square\"/>\n   </g>\n   <g id=\"line2d_85\">\n    <path d=\"M 49.633125 85.58499 \nL 69.163125 92.333946 \nL 88.693125 91.576547 \nL 108.223125 115.675703 \nL 127.753125 117.504519 \nL 147.283125 123.535497 \nL 166.813125 128.213046 \n\" clip-path=\"url(#pe76b5a7292)\" style=\"fill: none; stroke-dasharray: 5.55,2.4; stroke-dashoffset: 0; stroke: #ff7f0e; stroke-width: 1.5\"/>\n   </g>\n   <g id=\"line2d_86\">\n    <path d=\"M 49.633125 42.513984 \nL 69.163125 41.725527 \nL 88.693125 45.456276 \nL 108.223125 35.340945 \nL 127.753125 34.994793 \nL 147.283125 32.533267 \n\" clip-path=\"url(#pe76b5a7292)\" style=\"fill: none; stroke-dasharray: 9.6,2.4,1.5,2.4; stroke-dashoffset: 0; stroke: #2ca02c; stroke-width: 1.5\"/>\n   </g>\n   <g id=\"line2d_87\">\n    <path d=\"M 34.954394 13.5 \nL 44.698573 80.033438 \nL 54.442752 96.400318 \nL 64.186931 105.980826 \nL 73.93111 111.725695 \nL 83.675289 115.275862 \nL 93.419468 119.4282 \nL 103.163647 121.292998 \nL 112.907826 122.777112 \nL 122.652006 127.217145 \nL 132.396185 129.464267 \nL 142.140364 128.514809 \nL 151.884543 131.229586 \nL 161.628722 133.316234 \n\" clip-path=\"url(#pe76b5a7292)\" style=\"fill: none; stroke: #1f77b4; stroke-width: 1.5; stroke-linecap: square\"/>\n   </g>\n   <g id=\"line2d_88\">\n    <path d=\"M 49.633125 85.58499 \nL 69.163125 92.333946 \nL 88.693125 91.576547 \nL 108.223125 115.675703 \nL 127.753125 117.504519 \nL 147.283125 123.535497 \nL 166.813125 128.213046 \n\" clip-path=\"url(#pe76b5a7292)\" style=\"fill: none; stroke-dasharray: 5.55,2.4; stroke-dashoffset: 0; stroke: #ff7f0e; stroke-width: 1.5\"/>\n   </g>\n   <g id=\"line2d_89\">\n    <path d=\"M 49.633125 42.513984 \nL 69.163125 41.725527 \nL 88.693125 45.456276 \nL 108.223125 35.340945 \nL 127.753125 34.994793 \nL 147.283125 32.533267 \nL 166.813125 30.148665 \n\" clip-path=\"url(#pe76b5a7292)\" style=\"fill: none; stroke-dasharray: 9.6,2.4,1.5,2.4; stroke-dashoffset: 0; stroke: #2ca02c; stroke-width: 1.5\"/>\n   </g>\n   <g id=\"line2d_90\">\n    <path d=\"M 34.954394 13.5 \nL 44.698573 80.033438 \nL 54.442752 96.400318 \nL 64.186931 105.980826 \nL 73.93111 111.725695 \nL 83.675289 115.275862 \nL 93.419468 119.4282 \nL 103.163647 121.292998 \nL 112.907826 122.777112 \nL 122.652006 127.217145 \nL 132.396185 129.464267 \nL 142.140364 128.514809 \nL 151.884543 131.229586 \nL 161.628722 133.316234 \nL 171.372901 134.561923 \n\" clip-path=\"url(#pe76b5a7292)\" style=\"fill: none; stroke: #1f77b4; stroke-width: 1.5; stroke-linecap: square\"/>\n   </g>\n   <g id=\"line2d_91\">\n    <path d=\"M 49.633125 85.58499 \nL 69.163125 92.333946 \nL 88.693125 91.576547 \nL 108.223125 115.675703 \nL 127.753125 117.504519 \nL 147.283125 123.535497 \nL 166.813125 128.213046 \n\" clip-path=\"url(#pe76b5a7292)\" style=\"fill: none; stroke-dasharray: 5.55,2.4; stroke-dashoffset: 0; stroke: #ff7f0e; stroke-width: 1.5\"/>\n   </g>\n   <g id=\"line2d_92\">\n    <path d=\"M 49.633125 42.513984 \nL 69.163125 41.725527 \nL 88.693125 45.456276 \nL 108.223125 35.340945 \nL 127.753125 34.994793 \nL 147.283125 32.533267 \nL 166.813125 30.148665 \n\" clip-path=\"url(#pe76b5a7292)\" style=\"fill: none; stroke-dasharray: 9.6,2.4,1.5,2.4; stroke-dashoffset: 0; stroke: #2ca02c; stroke-width: 1.5\"/>\n   </g>\n   <g id=\"line2d_93\">\n    <path d=\"M 34.954394 13.5 \nL 44.698573 80.033438 \nL 54.442752 96.400318 \nL 64.186931 105.980826 \nL 73.93111 111.725695 \nL 83.675289 115.275862 \nL 93.419468 119.4282 \nL 103.163647 121.292998 \nL 112.907826 122.777112 \nL 122.652006 127.217145 \nL 132.396185 129.464267 \nL 142.140364 128.514809 \nL 151.884543 131.229586 \nL 161.628722 133.316234 \nL 171.372901 134.561923 \nL 181.11708 135.234071 \n\" clip-path=\"url(#pe76b5a7292)\" style=\"fill: none; stroke: #1f77b4; stroke-width: 1.5; stroke-linecap: square\"/>\n   </g>\n   <g id=\"line2d_94\">\n    <path d=\"M 49.633125 85.58499 \nL 69.163125 92.333946 \nL 88.693125 91.576547 \nL 108.223125 115.675703 \nL 127.753125 117.504519 \nL 147.283125 123.535497 \nL 166.813125 128.213046 \n\" clip-path=\"url(#pe76b5a7292)\" style=\"fill: none; stroke-dasharray: 5.55,2.4; stroke-dashoffset: 0; stroke: #ff7f0e; stroke-width: 1.5\"/>\n   </g>\n   <g id=\"line2d_95\">\n    <path d=\"M 49.633125 42.513984 \nL 69.163125 41.725527 \nL 88.693125 45.456276 \nL 108.223125 35.340945 \nL 127.753125 34.994793 \nL 147.283125 32.533267 \nL 166.813125 30.148665 \n\" clip-path=\"url(#pe76b5a7292)\" style=\"fill: none; stroke-dasharray: 9.6,2.4,1.5,2.4; stroke-dashoffset: 0; stroke: #2ca02c; stroke-width: 1.5\"/>\n   </g>\n   <g id=\"line2d_96\">\n    <path d=\"M 34.954394 13.5 \nL 44.698573 80.033438 \nL 54.442752 96.400318 \nL 64.186931 105.980826 \nL 73.93111 111.725695 \nL 83.675289 115.275862 \nL 93.419468 119.4282 \nL 103.163647 121.292998 \nL 112.907826 122.777112 \nL 122.652006 127.217145 \nL 132.396185 129.464267 \nL 142.140364 128.514809 \nL 151.884543 131.229586 \nL 161.628722 133.316234 \nL 171.372901 134.561923 \nL 181.11708 135.234071 \n\" clip-path=\"url(#pe76b5a7292)\" style=\"fill: none; stroke: #1f77b4; stroke-width: 1.5; stroke-linecap: square\"/>\n   </g>\n   <g id=\"line2d_97\">\n    <path d=\"M 49.633125 85.58499 \nL 69.163125 92.333946 \nL 88.693125 91.576547 \nL 108.223125 115.675703 \nL 127.753125 117.504519 \nL 147.283125 123.535497 \nL 166.813125 128.213046 \nL 186.343125 130.618684 \n\" clip-path=\"url(#pe76b5a7292)\" style=\"fill: none; stroke-dasharray: 5.55,2.4; stroke-dashoffset: 0; stroke: #ff7f0e; stroke-width: 1.5\"/>\n   </g>\n   <g id=\"line2d_98\">\n    <path d=\"M 49.633125 42.513984 \nL 69.163125 41.725527 \nL 88.693125 45.456276 \nL 108.223125 35.340945 \nL 127.753125 34.994793 \nL 147.283125 32.533267 \nL 166.813125 30.148665 \n\" clip-path=\"url(#pe76b5a7292)\" style=\"fill: none; stroke-dasharray: 9.6,2.4,1.5,2.4; stroke-dashoffset: 0; stroke: #2ca02c; stroke-width: 1.5\"/>\n   </g>\n   <g id=\"line2d_99\">\n    <path d=\"M 34.954394 13.5 \nL 44.698573 80.033438 \nL 54.442752 96.400318 \nL 64.186931 105.980826 \nL 73.93111 111.725695 \nL 83.675289 115.275862 \nL 93.419468 119.4282 \nL 103.163647 121.292998 \nL 112.907826 122.777112 \nL 122.652006 127.217145 \nL 132.396185 129.464267 \nL 142.140364 128.514809 \nL 151.884543 131.229586 \nL 161.628722 133.316234 \nL 171.372901 134.561923 \nL 181.11708 135.234071 \n\" clip-path=\"url(#pe76b5a7292)\" style=\"fill: none; stroke: #1f77b4; stroke-width: 1.5; stroke-linecap: square\"/>\n   </g>\n   <g id=\"line2d_100\">\n    <path d=\"M 49.633125 85.58499 \nL 69.163125 92.333946 \nL 88.693125 91.576547 \nL 108.223125 115.675703 \nL 127.753125 117.504519 \nL 147.283125 123.535497 \nL 166.813125 128.213046 \nL 186.343125 130.618684 \n\" clip-path=\"url(#pe76b5a7292)\" style=\"fill: none; stroke-dasharray: 5.55,2.4; stroke-dashoffset: 0; stroke: #ff7f0e; stroke-width: 1.5\"/>\n   </g>\n   <g id=\"line2d_101\">\n    <path d=\"M 49.633125 42.513984 \nL 69.163125 41.725527 \nL 88.693125 45.456276 \nL 108.223125 35.340945 \nL 127.753125 34.994793 \nL 147.283125 32.533267 \nL 166.813125 30.148665 \nL 186.343125 29.225593 \n\" clip-path=\"url(#pe76b5a7292)\" style=\"fill: none; stroke-dasharray: 9.6,2.4,1.5,2.4; stroke-dashoffset: 0; stroke: #2ca02c; stroke-width: 1.5\"/>\n   </g>\n   <g id=\"line2d_102\">\n    <path d=\"M 34.954394 13.5 \nL 44.698573 80.033438 \nL 54.442752 96.400318 \nL 64.186931 105.980826 \nL 73.93111 111.725695 \nL 83.675289 115.275862 \nL 93.419468 119.4282 \nL 103.163647 121.292998 \nL 112.907826 122.777112 \nL 122.652006 127.217145 \nL 132.396185 129.464267 \nL 142.140364 128.514809 \nL 151.884543 131.229586 \nL 161.628722 133.316234 \nL 171.372901 134.561923 \nL 181.11708 135.234071 \nL 190.861259 136.555531 \n\" clip-path=\"url(#pe76b5a7292)\" style=\"fill: none; stroke: #1f77b4; stroke-width: 1.5; stroke-linecap: square\"/>\n   </g>\n   <g id=\"line2d_103\">\n    <path d=\"M 49.633125 85.58499 \nL 69.163125 92.333946 \nL 88.693125 91.576547 \nL 108.223125 115.675703 \nL 127.753125 117.504519 \nL 147.283125 123.535497 \nL 166.813125 128.213046 \nL 186.343125 130.618684 \n\" clip-path=\"url(#pe76b5a7292)\" style=\"fill: none; stroke-dasharray: 5.55,2.4; stroke-dashoffset: 0; stroke: #ff7f0e; stroke-width: 1.5\"/>\n   </g>\n   <g id=\"line2d_104\">\n    <path d=\"M 49.633125 42.513984 \nL 69.163125 41.725527 \nL 88.693125 45.456276 \nL 108.223125 35.340945 \nL 127.753125 34.994793 \nL 147.283125 32.533267 \nL 166.813125 30.148665 \nL 186.343125 29.225593 \n\" clip-path=\"url(#pe76b5a7292)\" style=\"fill: none; stroke-dasharray: 9.6,2.4,1.5,2.4; stroke-dashoffset: 0; stroke: #2ca02c; stroke-width: 1.5\"/>\n   </g>\n   <g id=\"line2d_105\">\n    <path d=\"M 34.954394 13.5 \nL 44.698573 80.033438 \nL 54.442752 96.400318 \nL 64.186931 105.980826 \nL 73.93111 111.725695 \nL 83.675289 115.275862 \nL 93.419468 119.4282 \nL 103.163647 121.292998 \nL 112.907826 122.777112 \nL 122.652006 127.217145 \nL 132.396185 129.464267 \nL 142.140364 128.514809 \nL 151.884543 131.229586 \nL 161.628722 133.316234 \nL 171.372901 134.561923 \nL 181.11708 135.234071 \nL 190.861259 136.555531 \nL 200.605438 137.184853 \n\" clip-path=\"url(#pe76b5a7292)\" style=\"fill: none; stroke: #1f77b4; stroke-width: 1.5; stroke-linecap: square\"/>\n   </g>\n   <g id=\"line2d_106\">\n    <path d=\"M 49.633125 85.58499 \nL 69.163125 92.333946 \nL 88.693125 91.576547 \nL 108.223125 115.675703 \nL 127.753125 117.504519 \nL 147.283125 123.535497 \nL 166.813125 128.213046 \nL 186.343125 130.618684 \n\" clip-path=\"url(#pe76b5a7292)\" style=\"fill: none; stroke-dasharray: 5.55,2.4; stroke-dashoffset: 0; stroke: #ff7f0e; stroke-width: 1.5\"/>\n   </g>\n   <g id=\"line2d_107\">\n    <path d=\"M 49.633125 42.513984 \nL 69.163125 41.725527 \nL 88.693125 45.456276 \nL 108.223125 35.340945 \nL 127.753125 34.994793 \nL 147.283125 32.533267 \nL 166.813125 30.148665 \nL 186.343125 29.225593 \n\" clip-path=\"url(#pe76b5a7292)\" style=\"fill: none; stroke-dasharray: 9.6,2.4,1.5,2.4; stroke-dashoffset: 0; stroke: #2ca02c; stroke-width: 1.5\"/>\n   </g>\n   <g id=\"line2d_108\">\n    <path d=\"M 34.954394 13.5 \nL 44.698573 80.033438 \nL 54.442752 96.400318 \nL 64.186931 105.980826 \nL 73.93111 111.725695 \nL 83.675289 115.275862 \nL 93.419468 119.4282 \nL 103.163647 121.292998 \nL 112.907826 122.777112 \nL 122.652006 127.217145 \nL 132.396185 129.464267 \nL 142.140364 128.514809 \nL 151.884543 131.229586 \nL 161.628722 133.316234 \nL 171.372901 134.561923 \nL 181.11708 135.234071 \nL 190.861259 136.555531 \nL 200.605438 137.184853 \n\" clip-path=\"url(#pe76b5a7292)\" style=\"fill: none; stroke: #1f77b4; stroke-width: 1.5; stroke-linecap: square\"/>\n   </g>\n   <g id=\"line2d_109\">\n    <path d=\"M 49.633125 85.58499 \nL 69.163125 92.333946 \nL 88.693125 91.576547 \nL 108.223125 115.675703 \nL 127.753125 117.504519 \nL 147.283125 123.535497 \nL 166.813125 128.213046 \nL 186.343125 130.618684 \nL 205.873125 121.747352 \n\" clip-path=\"url(#pe76b5a7292)\" style=\"fill: none; stroke-dasharray: 5.55,2.4; stroke-dashoffset: 0; stroke: #ff7f0e; stroke-width: 1.5\"/>\n   </g>\n   <g id=\"line2d_110\">\n    <path d=\"M 49.633125 42.513984 \nL 69.163125 41.725527 \nL 88.693125 45.456276 \nL 108.223125 35.340945 \nL 127.753125 34.994793 \nL 147.283125 32.533267 \nL 166.813125 30.148665 \nL 186.343125 29.225593 \n\" clip-path=\"url(#pe76b5a7292)\" style=\"fill: none; stroke-dasharray: 9.6,2.4,1.5,2.4; stroke-dashoffset: 0; stroke: #2ca02c; stroke-width: 1.5\"/>\n   </g>\n   <g id=\"line2d_111\">\n    <path d=\"M 34.954394 13.5 \nL 44.698573 80.033438 \nL 54.442752 96.400318 \nL 64.186931 105.980826 \nL 73.93111 111.725695 \nL 83.675289 115.275862 \nL 93.419468 119.4282 \nL 103.163647 121.292998 \nL 112.907826 122.777112 \nL 122.652006 127.217145 \nL 132.396185 129.464267 \nL 142.140364 128.514809 \nL 151.884543 131.229586 \nL 161.628722 133.316234 \nL 171.372901 134.561923 \nL 181.11708 135.234071 \nL 190.861259 136.555531 \nL 200.605438 137.184853 \n\" clip-path=\"url(#pe76b5a7292)\" style=\"fill: none; stroke: #1f77b4; stroke-width: 1.5; stroke-linecap: square\"/>\n   </g>\n   <g id=\"line2d_112\">\n    <path d=\"M 49.633125 85.58499 \nL 69.163125 92.333946 \nL 88.693125 91.576547 \nL 108.223125 115.675703 \nL 127.753125 117.504519 \nL 147.283125 123.535497 \nL 166.813125 128.213046 \nL 186.343125 130.618684 \nL 205.873125 121.747352 \n\" clip-path=\"url(#pe76b5a7292)\" style=\"fill: none; stroke-dasharray: 5.55,2.4; stroke-dashoffset: 0; stroke: #ff7f0e; stroke-width: 1.5\"/>\n   </g>\n   <g id=\"line2d_113\">\n    <path d=\"M 49.633125 42.513984 \nL 69.163125 41.725527 \nL 88.693125 45.456276 \nL 108.223125 35.340945 \nL 127.753125 34.994793 \nL 147.283125 32.533267 \nL 166.813125 30.148665 \nL 186.343125 29.225593 \nL 205.873125 34.110182 \n\" clip-path=\"url(#pe76b5a7292)\" style=\"fill: none; stroke-dasharray: 9.6,2.4,1.5,2.4; stroke-dashoffset: 0; stroke: #2ca02c; stroke-width: 1.5\"/>\n   </g>\n   <g id=\"line2d_114\">\n    <path d=\"M 34.954394 13.5 \nL 44.698573 80.033438 \nL 54.442752 96.400318 \nL 64.186931 105.980826 \nL 73.93111 111.725695 \nL 83.675289 115.275862 \nL 93.419468 119.4282 \nL 103.163647 121.292998 \nL 112.907826 122.777112 \nL 122.652006 127.217145 \nL 132.396185 129.464267 \nL 142.140364 128.514809 \nL 151.884543 131.229586 \nL 161.628722 133.316234 \nL 171.372901 134.561923 \nL 181.11708 135.234071 \nL 190.861259 136.555531 \nL 200.605438 137.184853 \nL 210.349618 138.12669 \n\" clip-path=\"url(#pe76b5a7292)\" style=\"fill: none; stroke: #1f77b4; stroke-width: 1.5; stroke-linecap: square\"/>\n   </g>\n   <g id=\"line2d_115\">\n    <path d=\"M 49.633125 85.58499 \nL 69.163125 92.333946 \nL 88.693125 91.576547 \nL 108.223125 115.675703 \nL 127.753125 117.504519 \nL 147.283125 123.535497 \nL 166.813125 128.213046 \nL 186.343125 130.618684 \nL 205.873125 121.747352 \n\" clip-path=\"url(#pe76b5a7292)\" style=\"fill: none; stroke-dasharray: 5.55,2.4; stroke-dashoffset: 0; stroke: #ff7f0e; stroke-width: 1.5\"/>\n   </g>\n   <g id=\"line2d_116\">\n    <path d=\"M 49.633125 42.513984 \nL 69.163125 41.725527 \nL 88.693125 45.456276 \nL 108.223125 35.340945 \nL 127.753125 34.994793 \nL 147.283125 32.533267 \nL 166.813125 30.148665 \nL 186.343125 29.225593 \nL 205.873125 34.110182 \n\" clip-path=\"url(#pe76b5a7292)\" style=\"fill: none; stroke-dasharray: 9.6,2.4,1.5,2.4; stroke-dashoffset: 0; stroke: #2ca02c; stroke-width: 1.5\"/>\n   </g>\n   <g id=\"line2d_117\">\n    <path d=\"M 34.954394 13.5 \nL 44.698573 80.033438 \nL 54.442752 96.400318 \nL 64.186931 105.980826 \nL 73.93111 111.725695 \nL 83.675289 115.275862 \nL 93.419468 119.4282 \nL 103.163647 121.292998 \nL 112.907826 122.777112 \nL 122.652006 127.217145 \nL 132.396185 129.464267 \nL 142.140364 128.514809 \nL 151.884543 131.229586 \nL 161.628722 133.316234 \nL 171.372901 134.561923 \nL 181.11708 135.234071 \nL 190.861259 136.555531 \nL 200.605438 137.184853 \nL 210.349618 138.12669 \nL 220.093797 139.5 \n\" clip-path=\"url(#pe76b5a7292)\" style=\"fill: none; stroke: #1f77b4; stroke-width: 1.5; stroke-linecap: square\"/>\n   </g>\n   <g id=\"line2d_118\">\n    <path d=\"M 49.633125 85.58499 \nL 69.163125 92.333946 \nL 88.693125 91.576547 \nL 108.223125 115.675703 \nL 127.753125 117.504519 \nL 147.283125 123.535497 \nL 166.813125 128.213046 \nL 186.343125 130.618684 \nL 205.873125 121.747352 \n\" clip-path=\"url(#pe76b5a7292)\" style=\"fill: none; stroke-dasharray: 5.55,2.4; stroke-dashoffset: 0; stroke: #ff7f0e; stroke-width: 1.5\"/>\n   </g>\n   <g id=\"line2d_119\">\n    <path d=\"M 49.633125 42.513984 \nL 69.163125 41.725527 \nL 88.693125 45.456276 \nL 108.223125 35.340945 \nL 127.753125 34.994793 \nL 147.283125 32.533267 \nL 166.813125 30.148665 \nL 186.343125 29.225593 \nL 205.873125 34.110182 \n\" clip-path=\"url(#pe76b5a7292)\" style=\"fill: none; stroke-dasharray: 9.6,2.4,1.5,2.4; stroke-dashoffset: 0; stroke: #2ca02c; stroke-width: 1.5\"/>\n   </g>\n   <g id=\"line2d_120\">\n    <path d=\"M 34.954394 13.5 \nL 44.698573 80.033438 \nL 54.442752 96.400318 \nL 64.186931 105.980826 \nL 73.93111 111.725695 \nL 83.675289 115.275862 \nL 93.419468 119.4282 \nL 103.163647 121.292998 \nL 112.907826 122.777112 \nL 122.652006 127.217145 \nL 132.396185 129.464267 \nL 142.140364 128.514809 \nL 151.884543 131.229586 \nL 161.628722 133.316234 \nL 171.372901 134.561923 \nL 181.11708 135.234071 \nL 190.861259 136.555531 \nL 200.605438 137.184853 \nL 210.349618 138.12669 \nL 220.093797 139.5 \n\" clip-path=\"url(#pe76b5a7292)\" style=\"fill: none; stroke: #1f77b4; stroke-width: 1.5; stroke-linecap: square\"/>\n   </g>\n   <g id=\"line2d_121\">\n    <path d=\"M 49.633125 85.58499 \nL 69.163125 92.333946 \nL 88.693125 91.576547 \nL 108.223125 115.675703 \nL 127.753125 117.504519 \nL 147.283125 123.535497 \nL 166.813125 128.213046 \nL 186.343125 130.618684 \nL 205.873125 121.747352 \nL 225.403125 129.139994 \n\" clip-path=\"url(#pe76b5a7292)\" style=\"fill: none; stroke-dasharray: 5.55,2.4; stroke-dashoffset: 0; stroke: #ff7f0e; stroke-width: 1.5\"/>\n   </g>\n   <g id=\"line2d_122\">\n    <path d=\"M 49.633125 42.513984 \nL 69.163125 41.725527 \nL 88.693125 45.456276 \nL 108.223125 35.340945 \nL 127.753125 34.994793 \nL 147.283125 32.533267 \nL 166.813125 30.148665 \nL 186.343125 29.225593 \nL 205.873125 34.110182 \n\" clip-path=\"url(#pe76b5a7292)\" style=\"fill: none; stroke-dasharray: 9.6,2.4,1.5,2.4; stroke-dashoffset: 0; stroke: #2ca02c; stroke-width: 1.5\"/>\n   </g>\n   <g id=\"line2d_123\">\n    <path d=\"M 34.954394 13.5 \nL 44.698573 80.033438 \nL 54.442752 96.400318 \nL 64.186931 105.980826 \nL 73.93111 111.725695 \nL 83.675289 115.275862 \nL 93.419468 119.4282 \nL 103.163647 121.292998 \nL 112.907826 122.777112 \nL 122.652006 127.217145 \nL 132.396185 129.464267 \nL 142.140364 128.514809 \nL 151.884543 131.229586 \nL 161.628722 133.316234 \nL 171.372901 134.561923 \nL 181.11708 135.234071 \nL 190.861259 136.555531 \nL 200.605438 137.184853 \nL 210.349618 138.12669 \nL 220.093797 139.5 \n\" clip-path=\"url(#pe76b5a7292)\" style=\"fill: none; stroke: #1f77b4; stroke-width: 1.5; stroke-linecap: square\"/>\n   </g>\n   <g id=\"line2d_124\">\n    <path d=\"M 49.633125 85.58499 \nL 69.163125 92.333946 \nL 88.693125 91.576547 \nL 108.223125 115.675703 \nL 127.753125 117.504519 \nL 147.283125 123.535497 \nL 166.813125 128.213046 \nL 186.343125 130.618684 \nL 205.873125 121.747352 \nL 225.403125 129.139994 \n\" clip-path=\"url(#pe76b5a7292)\" style=\"fill: none; stroke-dasharray: 5.55,2.4; stroke-dashoffset: 0; stroke: #ff7f0e; stroke-width: 1.5\"/>\n   </g>\n   <g id=\"line2d_125\">\n    <path d=\"M 49.633125 42.513984 \nL 69.163125 41.725527 \nL 88.693125 45.456276 \nL 108.223125 35.340945 \nL 127.753125 34.994793 \nL 147.283125 32.533267 \nL 166.813125 30.148665 \nL 186.343125 29.225593 \nL 205.873125 34.110182 \nL 225.403125 30.898661 \n\" clip-path=\"url(#pe76b5a7292)\" style=\"fill: none; stroke-dasharray: 9.6,2.4,1.5,2.4; stroke-dashoffset: 0; stroke: #2ca02c; stroke-width: 1.5\"/>\n   </g>\n   <g id=\"patch_3\">\n    <path d=\"M 30.103125 145.8 \nL 30.103125 7.2 \n\" style=\"fill: none; stroke: #000000; stroke-width: 0.8; stroke-linejoin: miter; stroke-linecap: square\"/>\n   </g>\n   <g id=\"patch_4\">\n    <path d=\"M 225.403125 145.8 \nL 225.403125 7.2 \n\" style=\"fill: none; stroke: #000000; stroke-width: 0.8; stroke-linejoin: miter; stroke-linecap: square\"/>\n   </g>\n   <g id=\"patch_5\">\n    <path d=\"M 30.103125 145.8 \nL 225.403125 145.8 \n\" style=\"fill: none; stroke: #000000; stroke-width: 0.8; stroke-linejoin: miter; stroke-linecap: square\"/>\n   </g>\n   <g id=\"patch_6\">\n    <path d=\"M 30.103125 7.2 \nL 225.403125 7.2 \n\" style=\"fill: none; stroke: #000000; stroke-width: 0.8; stroke-linejoin: miter; stroke-linecap: square\"/>\n   </g>\n   <g id=\"legend_1\">\n    <g id=\"patch_7\">\n     <path d=\"M 138.8125 100.434375 \nL 218.403125 100.434375 \nQ 220.403125 100.434375 220.403125 98.434375 \nL 220.403125 54.565625 \nQ 220.403125 52.565625 218.403125 52.565625 \nL 138.8125 52.565625 \nQ 136.8125 52.565625 136.8125 54.565625 \nL 136.8125 98.434375 \nQ 136.8125 100.434375 138.8125 100.434375 \nz\n\" style=\"fill: #ffffff; opacity: 0.8; stroke: #cccccc; stroke-linejoin: miter\"/>\n    </g>\n    <g id=\"line2d_126\">\n     <path d=\"M 140.8125 60.664063 \nL 150.8125 60.664063 \nL 160.8125 60.664063 \n\" style=\"fill: none; stroke: #1f77b4; stroke-width: 1.5; stroke-linecap: square\"/>\n    </g>\n    <g id=\"text_11\">\n     <!-- train_loss -->\n     <g transform=\"translate(168.8125 64.164063) scale(0.1 -0.1)\">\n      <defs>\n       <path id=\"DejaVuSans-74\" d=\"M 1172 4494 \nL 1172 3500 \nL 2356 3500 \nL 2356 3053 \nL 1172 3053 \nL 1172 1153 \nQ 1172 725 1289 603 \nQ 1406 481 1766 481 \nL 2356 481 \nL 2356 0 \nL 1766 0 \nQ 1100 0 847 248 \nQ 594 497 594 1153 \nL 594 3053 \nL 172 3053 \nL 172 3500 \nL 594 3500 \nL 594 4494 \nL 1172 4494 \nz\n\" transform=\"scale(0.015625)\"/>\n       <path id=\"DejaVuSans-72\" d=\"M 2631 2963 \nQ 2534 3019 2420 3045 \nQ 2306 3072 2169 3072 \nQ 1681 3072 1420 2755 \nQ 1159 2438 1159 1844 \nL 1159 0 \nL 581 0 \nL 581 3500 \nL 1159 3500 \nL 1159 2956 \nQ 1341 3275 1631 3429 \nQ 1922 3584 2338 3584 \nQ 2397 3584 2469 3576 \nQ 2541 3569 2628 3553 \nL 2631 2963 \nz\n\" transform=\"scale(0.015625)\"/>\n       <path id=\"DejaVuSans-61\" d=\"M 2194 1759 \nQ 1497 1759 1228 1600 \nQ 959 1441 959 1056 \nQ 959 750 1161 570 \nQ 1363 391 1709 391 \nQ 2188 391 2477 730 \nQ 2766 1069 2766 1631 \nL 2766 1759 \nL 2194 1759 \nz\nM 3341 1997 \nL 3341 0 \nL 2766 0 \nL 2766 531 \nQ 2569 213 2275 61 \nQ 1981 -91 1556 -91 \nQ 1019 -91 701 211 \nQ 384 513 384 1019 \nQ 384 1609 779 1909 \nQ 1175 2209 1959 2209 \nL 2766 2209 \nL 2766 2266 \nQ 2766 2663 2505 2880 \nQ 2244 3097 1772 3097 \nQ 1472 3097 1187 3025 \nQ 903 2953 641 2809 \nL 641 3341 \nQ 956 3463 1253 3523 \nQ 1550 3584 1831 3584 \nQ 2591 3584 2966 3190 \nQ 3341 2797 3341 1997 \nz\n\" transform=\"scale(0.015625)\"/>\n       <path id=\"DejaVuSans-69\" d=\"M 603 3500 \nL 1178 3500 \nL 1178 0 \nL 603 0 \nL 603 3500 \nz\nM 603 4863 \nL 1178 4863 \nL 1178 4134 \nL 603 4134 \nL 603 4863 \nz\n\" transform=\"scale(0.015625)\"/>\n       <path id=\"DejaVuSans-6e\" d=\"M 3513 2113 \nL 3513 0 \nL 2938 0 \nL 2938 2094 \nQ 2938 2591 2744 2837 \nQ 2550 3084 2163 3084 \nQ 1697 3084 1428 2787 \nQ 1159 2491 1159 1978 \nL 1159 0 \nL 581 0 \nL 581 3500 \nL 1159 3500 \nL 1159 2956 \nQ 1366 3272 1645 3428 \nQ 1925 3584 2291 3584 \nQ 2894 3584 3203 3211 \nQ 3513 2838 3513 2113 \nz\n\" transform=\"scale(0.015625)\"/>\n       <path id=\"DejaVuSans-5f\" d=\"M 3263 -1063 \nL 3263 -1509 \nL -63 -1509 \nL -63 -1063 \nL 3263 -1063 \nz\n\" transform=\"scale(0.015625)\"/>\n       <path id=\"DejaVuSans-6c\" d=\"M 603 4863 \nL 1178 4863 \nL 1178 0 \nL 603 0 \nL 603 4863 \nz\n\" transform=\"scale(0.015625)\"/>\n       <path id=\"DejaVuSans-73\" d=\"M 2834 3397 \nL 2834 2853 \nQ 2591 2978 2328 3040 \nQ 2066 3103 1784 3103 \nQ 1356 3103 1142 2972 \nQ 928 2841 928 2578 \nQ 928 2378 1081 2264 \nQ 1234 2150 1697 2047 \nL 1894 2003 \nQ 2506 1872 2764 1633 \nQ 3022 1394 3022 966 \nQ 3022 478 2636 193 \nQ 2250 -91 1575 -91 \nQ 1294 -91 989 -36 \nQ 684 19 347 128 \nL 347 722 \nQ 666 556 975 473 \nQ 1284 391 1588 391 \nQ 1994 391 2212 530 \nQ 2431 669 2431 922 \nQ 2431 1156 2273 1281 \nQ 2116 1406 1581 1522 \nL 1381 1569 \nQ 847 1681 609 1914 \nQ 372 2147 372 2553 \nQ 372 3047 722 3315 \nQ 1072 3584 1716 3584 \nQ 2034 3584 2315 3537 \nQ 2597 3491 2834 3397 \nz\n\" transform=\"scale(0.015625)\"/>\n      </defs>\n      <use xlink:href=\"#DejaVuSans-74\"/>\n      <use xlink:href=\"#DejaVuSans-72\" x=\"39.208984\"/>\n      <use xlink:href=\"#DejaVuSans-61\" x=\"80.322266\"/>\n      <use xlink:href=\"#DejaVuSans-69\" x=\"141.601562\"/>\n      <use xlink:href=\"#DejaVuSans-6e\" x=\"169.384766\"/>\n      <use xlink:href=\"#DejaVuSans-5f\" x=\"232.763672\"/>\n      <use xlink:href=\"#DejaVuSans-6c\" x=\"282.763672\"/>\n      <use xlink:href=\"#DejaVuSans-6f\" x=\"310.546875\"/>\n      <use xlink:href=\"#DejaVuSans-73\" x=\"371.728516\"/>\n      <use xlink:href=\"#DejaVuSans-73\" x=\"423.828125\"/>\n     </g>\n    </g>\n    <g id=\"line2d_127\">\n     <path d=\"M 140.8125 75.620313 \nL 150.8125 75.620313 \nL 160.8125 75.620313 \n\" style=\"fill: none; stroke-dasharray: 5.55,2.4; stroke-dashoffset: 0; stroke: #ff7f0e; stroke-width: 1.5\"/>\n    </g>\n    <g id=\"text_12\">\n     <!-- val_loss -->\n     <g transform=\"translate(168.8125 79.120313) scale(0.1 -0.1)\">\n      <defs>\n       <path id=\"DejaVuSans-76\" d=\"M 191 3500 \nL 800 3500 \nL 1894 563 \nL 2988 3500 \nL 3597 3500 \nL 2284 0 \nL 1503 0 \nL 191 3500 \nz\n\" transform=\"scale(0.015625)\"/>\n      </defs>\n      <use xlink:href=\"#DejaVuSans-76\"/>\n      <use xlink:href=\"#DejaVuSans-61\" x=\"59.179688\"/>\n      <use xlink:href=\"#DejaVuSans-6c\" x=\"120.458984\"/>\n      <use xlink:href=\"#DejaVuSans-5f\" x=\"148.242188\"/>\n      <use xlink:href=\"#DejaVuSans-6c\" x=\"198.242188\"/>\n      <use xlink:href=\"#DejaVuSans-6f\" x=\"226.025391\"/>\n      <use xlink:href=\"#DejaVuSans-73\" x=\"287.207031\"/>\n      <use xlink:href=\"#DejaVuSans-73\" x=\"339.306641\"/>\n     </g>\n    </g>\n    <g id=\"line2d_128\">\n     <path d=\"M 140.8125 90.576563 \nL 150.8125 90.576563 \nL 160.8125 90.576563 \n\" style=\"fill: none; stroke-dasharray: 9.6,2.4,1.5,2.4; stroke-dashoffset: 0; stroke: #2ca02c; stroke-width: 1.5\"/>\n    </g>\n    <g id=\"text_13\">\n     <!-- val_acc -->\n     <g transform=\"translate(168.8125 94.076563) scale(0.1 -0.1)\">\n      <use xlink:href=\"#DejaVuSans-76\"/>\n      <use xlink:href=\"#DejaVuSans-61\" x=\"59.179688\"/>\n      <use xlink:href=\"#DejaVuSans-6c\" x=\"120.458984\"/>\n      <use xlink:href=\"#DejaVuSans-5f\" x=\"148.242188\"/>\n      <use xlink:href=\"#DejaVuSans-61\" x=\"198.242188\"/>\n      <use xlink:href=\"#DejaVuSans-63\" x=\"259.521484\"/>\n      <use xlink:href=\"#DejaVuSans-63\" x=\"314.501953\"/>\n     </g>\n    </g>\n   </g>\n  </g>\n </g>\n <defs>\n  <clipPath id=\"pe76b5a7292\">\n   <rect x=\"30.103125\" y=\"7.2\" width=\"195.3\" height=\"138.6\"/>\n  </clipPath>\n </defs>\n</svg>\n"
          },
          "metadata": {}
        }
      ],
      "source": [
        "trainer = d2l.Trainer(max_epochs=10, num_gpus=1)\n",
        "data = d2l.FashionMNIST(batch_size=128)\n",
        "model = BNLeNet(lr=0.1)\n",
        "model.apply_init([next(iter(data.get_dataloader(True)))[0]], d2l.init_cnn)\n",
        "trainer.fit(model, data)"
      ]
    },
    {
      "cell_type": "markdown",
      "metadata": {
        "origin_pos": 35,
        "id": "353f1805"
      },
      "source": [
        "## Discussion\n",
        "\n",
        "Intuitively, batch normalization is thought\n",
        "to make the optimization landscape smoother.\n",
        "However, we must be careful to distinguish between\n",
        "speculative intuitions and true explanations\n",
        "for the phenomena that we observe when training deep models.\n",
        "Recall that we do not even know why simpler\n",
        "deep neural networks (MLPs and conventional CNNs)\n",
        "generalize well in the first place.\n",
        "Even with dropout and weight decay,\n",
        "they remain so flexible that their ability to generalize to unseen data\n",
        "likely needs significantly more refined learning-theoretic generalization guarantees.\n",
        "\n",
        "The original paper proposing batch normalization :cite:`Ioffe.Szegedy.2015`, in addition to introducing a powerful and useful tool,\n",
        "offered an explanation for why it works:\n",
        "by reducing *internal covariate shift*.\n",
        "Presumably by *internal covariate shift* they\n",
        "meant something like the intuition expressed above---the\n",
        "notion that the distribution of variable values changes\n",
        "over the course of training.\n",
        "However, there were two problems with this explanation:\n",
        "i) This drift is very different from *covariate shift*,\n",
        "rendering the name a misnomer. If anything, it is closer to concept drift.\n",
        "ii) The explanation offers an under-specified intuition\n",
        "but leaves the question of *why precisely this technique works*\n",
        "an open question wanting for a rigorous explanation.\n",
        "Throughout this book, we aim to convey the intuitions that practitioners\n",
        "use to guide their development of deep neural networks.\n",
        "However, we believe that it is important\n",
        "to separate these guiding intuitions\n",
        "from established scientific fact.\n",
        "Eventually, when you master this material\n",
        "and start writing your own research papers\n",
        "you will want to be clear to delineate\n",
        "between technical claims and hunches.\n",
        "\n",
        "Following the success of batch normalization,\n",
        "its explanation in terms of *internal covariate shift*\n",
        "has repeatedly surfaced in debates in the technical literature\n",
        "and broader discourse about how to present machine learning research.\n",
        "In a memorable speech given while accepting a Test of Time Award\n",
        "at the 2017 NeurIPS conference,\n",
        "Ali Rahimi used *internal covariate shift*\n",
        "as a focal point in an argument likening\n",
        "the modern practice of deep learning to alchemy.\n",
        "Subsequently, the example was revisited in detail\n",
        "in a position paper outlining\n",
        "troubling trends in machine learning :cite:`Lipton.Steinhardt.2018`.\n",
        "Other authors\n",
        "have proposed alternative explanations for the success of batch normalization,\n",
        "some :cite:`Santurkar.Tsipras.Ilyas.ea.2018`\n",
        "claiming that batch normalization's success comes despite exhibiting behavior\n",
        "that is in some ways opposite to those claimed in the original paper.\n",
        "\n",
        "\n",
        "We note that the *internal covariate shift*\n",
        "is no more worthy of criticism than any of\n",
        "thousands of similarly vague claims\n",
        "made every year in the technical machine learning literature.\n",
        "Likely, its resonance as a focal point of these debates\n",
        "owes to its broad recognizability for the target audience.\n",
        "Batch normalization has proven an indispensable method,\n",
        "applied in nearly all deployed image classifiers,\n",
        "earning the paper that introduced the technique\n",
        "tens of thousands of citations. We conjecture, though, that the guiding principles\n",
        "of regularization through noise injection, acceleration through rescaling and lastly preprocessing\n",
        "may well lead to further inventions of layers and techniques in the future.\n",
        "\n",
        "On a more practical note, there are a number of aspects worth remembering about batch normalization:\n",
        "\n",
        "* During model training, batch normalization continuously adjusts the intermediate output of\n",
        "  the network by utilizing the mean and standard deviation of the minibatch, so that the\n",
        "  values of the intermediate output in each layer throughout the neural network are more stable.\n",
        "* Batch normalization is slightly different for fully connected layers than for convolutional layers. In fact,\n",
        "  for convolutional layers, layer normalization can sometimes be used as an alternative.\n",
        "* Like a dropout layer, batch normalization layers have different behaviors\n",
        "  in training mode than in prediction mode.\n",
        "* Batch normalization is useful for regularization and improving convergence in optimization. By contrast,\n",
        "  the original motivation of reducing internal covariate shift seems not to be a valid explanation.\n",
        "* For more robust models that are less sensitive to input perturbations, consider removing batch normalization :cite:`wang2022removing`.\n",
        "\n",
        "## Exercises\n",
        "\n",
        "1. Should we remove the bias parameter from the fully connected layer or the convolutional layer before the batch normalization? Why?\n",
        "1. Compare the learning rates for LeNet with and without batch normalization.\n",
        "    1. Plot the increase in validation accuracy.\n",
        "    1. How large can you make the learning rate before the optimization fails in both cases?\n",
        "1. Do we need batch normalization in every layer? Experiment with it.\n",
        "1. Implement a \"lite\" version of batch normalization that only removes the mean, or alternatively one that\n",
        "   only removes the variance. How does it behave?\n",
        "1. Fix the parameters `beta` and `gamma`. Observe and analyze the results.\n",
        "1. Can you replace dropout by batch normalization? How does the behavior change?\n",
        "1. Research ideas: think of other normalization transforms that you can apply:\n",
        "    1. Can you apply the probability integral transform?\n",
        "    1. Can you use a full-rank covariance estimate? Why should you probably not do that?\n",
        "    1. Can you use other compact matrix variants (block-diagonal, low-displacement rank, Monarch, etc.)?\n",
        "    1. Does a sparsification compression act as a regularizer?\n",
        "    1. Are there other projections (e.g., convex cone, symmetry group-specific transforms) that you can use?\n"
      ]
    },
    {
      "cell_type": "markdown",
      "source": [
        "##Jawaban"
      ],
      "metadata": {
        "id": "srnQ5uuRgbpD"
      }
    },
    {
      "cell_type": "markdown",
      "source": [
        "###1."
      ],
      "metadata": {
        "id": "bEyg6RXdcG7i"
      }
    },
    {
      "cell_type": "markdown",
      "source": [
        "Ya, kita harus menghapus parameter bias dari lapisan sebelum batch normalization. Hal ini karena batch normalization sudah memusatkan aktivasi dengan mengurangi rata-rata. Bias akan menjadi redundant, karena rata-rata output secara eksplisit dinormalisasi menjadi nol."
      ],
      "metadata": {
        "id": "PWRvxxrSgvTx"
      }
    },
    {
      "cell_type": "markdown",
      "source": [
        "###2.1."
      ],
      "metadata": {
        "id": "a0MZTeK9cG7j"
      }
    },
    {
      "cell_type": "code",
      "source": [
        "# Pseudocode for plotting validation accuracy\n",
        "import matplotlib.pyplot as plt\n",
        "\n",
        "val_acc_no_bn = [0.6, 0.65, 0.7, 0.72, 0.73]\n",
        "val_acc_bn = [0.7, 0.75, 0.8, 0.82, 0.83]\n",
        "\n",
        "# Creating a list of epochs assuming the length of validation accuracy lists\n",
        "# represents the total number of epochs\n",
        "epochs = range(1, len(val_acc_no_bn) + 1)\n",
        "\n",
        "# Assume val_acc_no_bn and val_acc_bn are lists of validation accuracies with/without batch normalization\n",
        "plt.plot(epochs, val_acc_no_bn, label='Without BatchNorm')\n",
        "plt.plot(epochs, val_acc_bn, label='With BatchNorm')\n",
        "plt.xlabel('Epochs')\n",
        "plt.ylabel('Validation Accuracy')\n",
        "plt.legend()\n",
        "plt.show()"
      ],
      "metadata": {
        "colab": {
          "base_uri": "https://localhost:8080/",
          "height": 449
        },
        "id": "wGyhf6XMhNW0",
        "outputId": "1622ed1d-08ef-4776-f55d-2dacc3b5c0ca"
      },
      "execution_count": 11,
      "outputs": [
        {
          "output_type": "display_data",
          "data": {
            "text/plain": [
              "<Figure size 640x480 with 1 Axes>"
            ],
            "image/png": "[encoded data removed]"
          },
          "metadata": {}
        }
      ]
    },
    {
      "cell_type": "markdown",
      "source": [
        "###2.2."
      ],
      "metadata": {
        "id": "FPd76NhXgOf4"
      }
    },
    {
      "cell_type": "markdown",
      "source": [
        "- Tanpa Batch Normalization: Optimasi dapat gagal (divergen) ketika learning rate melebihi sekitar 0.01 hingga 0.05.\n",
        "- Dengan Batch Normalization: Learning rate dapat sering didorong setinggi 0.1 hingga 1.0 sebelum optimasi menjadi tidak stabil."
      ],
      "metadata": {
        "id": "zmZ7pn33hzR4"
      }
    },
    {
      "cell_type": "markdown",
      "source": [
        "###3."
      ],
      "metadata": {
        "id": "gQSoVaMwcG7j"
      }
    },
    {
      "cell_type": "markdown",
      "source": [
        "Tidak, batch normalization tidak diperlukan di setiap lapisan. Batch normalization paling efektif pada lapisan awal di mana data input lebih bervariasi. Dalam beberapa kasus, menambahkan batch normalization ke setiap lapisan dapat menambah perhitungan yang tidak perlu dan mungkin tidak meningkatkan kinerja. Mengeksperimen dengan lapisan selektif, terutama sebelum non-linearitas utama, dapat menghasilkan hasil yang baik."
      ],
      "metadata": {
        "id": "6Nom2F2uiAvL"
      }
    },
    {
      "cell_type": "markdown",
      "source": [
        "###4."
      ],
      "metadata": {
        "id": "Dpxhp80OcG7j"
      }
    },
    {
      "cell_type": "code",
      "source": [
        "# Lite Batch Normalization - Only Mean\n",
        "class LiteBatchNormMean(nn.Module):\n",
        "    def forward(self, x):\n",
        "        mean = x.mean(dim=0, keepdim=True)\n",
        "        return x - mean\n",
        "\n",
        "# Lite Batch Normalization - Only Variance\n",
        "class LiteBatchNormVariance(nn.Module):\n",
        "    def forward(self, x):\n",
        "        std = x.std(dim=0, keepdim=True)\n",
        "        return x / (std + 1e-5)"
      ],
      "metadata": {
        "id": "ZkMuz2T4iINx"
      },
      "execution_count": 12,
      "outputs": []
    },
    {
      "cell_type": "markdown",
      "source": [
        "###5."
      ],
      "metadata": {
        "id": "HTK7pCCLcG7j"
      }
    },
    {
      "cell_type": "markdown",
      "source": [
        "Jika parameter beta (shift) dan gamma (scale) diperbaiki menjadi 1 dan 0, masing-masing, batch normalization hanya akan berfungsi sebagai lapisan normalisasi tanpa kemampuan untuk menyesuaikan distribusi output. Hal ini dapat membatasi fleksibilitas model dalam mempelajari transformasi yang sesuai, mungkin mengurangi akurasi."
      ],
      "metadata": {
        "id": "WGx58wg0iWg6"
      }
    },
    {
      "cell_type": "markdown",
      "source": [
        "###6."
      ],
      "metadata": {
        "id": "XCJD6ThAcG7j"
      }
    },
    {
      "cell_type": "markdown",
      "source": [
        "Batch normalization dapat membantu dengan regularisasi, tetapi bukan pengganti langsung untuk dropout. Batch normalization menstabilkan pelatihan dan memungkinkan learning rate yang lebih tinggi, sementara dropout mencegah ko-adaptasi neuron dan mengurangi overfitting dengan secara acak \"menjatuhkan\" neuron selama pelatihan. Mengganti Dropout dengan Batch Normalization dapat meningkatkan kecepatan konvergensi, tetapi model mungkin masih overfit tanpa beberapa bentuk regularisasi eksplisit."
      ],
      "metadata": {
        "id": "TPiGpeO9ifzS"
      }
    },
    {
      "cell_type": "markdown",
      "source": [
        "###7.1."
      ],
      "metadata": {
        "id": "ACXeOHJrcIPW"
      }
    },
    {
      "cell_type": "markdown",
      "source": [
        "Probability Integral Transform dapat diterapkan untuk memetakan output ke distribusi seragam, tetapi mungkin mahal secara komputasi dan sulit untuk digeneralisasi."
      ],
      "metadata": {
        "id": "J6a5rMQUipBQ"
      }
    },
    {
      "cell_type": "markdown",
      "source": [
        "###7.2."
      ],
      "metadata": {
        "id": "soSSnlFQgTOd"
      }
    },
    {
      "cell_type": "markdown",
      "source": [
        "Estimasi Full-Rank Covariance menggunakan full covariance untuk normalisasi dapat lebih kuat tetapi mahal secara komputasi dan rentan terhadap overfitting, terutama dalam pengaturan dimensi tinggi."
      ],
      "metadata": {
        "id": "SxIzwKp0isrE"
      }
    },
    {
      "cell_type": "markdown",
      "source": [
        "###7.3."
      ],
      "metadata": {
        "id": "ecx36R_4gTol"
      }
    },
    {
      "cell_type": "markdown",
      "source": [
        "Varian Matriks Kompak (Block-Diagonal, Monarch, dll.): Varian ini dapat dieksplorasi untuk mengurangi biaya komputasi sambil mempertahankan struktur, tetapi menemukan trade-off pendekatan yang tepat mungkin menantang."
      ],
      "metadata": {
        "id": "xcoE9rERiy_r"
      }
    },
    {
      "cell_type": "markdown",
      "source": [
        "###7.4."
      ],
      "metadata": {
        "id": "NZ3aBGu1gUHU"
      }
    },
    {
      "cell_type": "markdown",
      "source": [
        "Sparsification Compression sebagai Regularizer: Menerapkan teknik sparsifikasi dapat bertindak sebagai bentuk regularisasi dengan membatasi model, membantu mencegah overfitting."
      ],
      "metadata": {
        "id": "xBmtIVsdi2oe"
      }
    },
    {
      "cell_type": "markdown",
      "source": [
        "###7.5."
      ],
      "metadata": {
        "id": "aVHsNMzPgUx4"
      }
    },
    {
      "cell_type": "markdown",
      "source": [
        "Proyeksi Lainnya (Convex Cone, Symmetry-Specific Transforms): Menerapkan transformasi spesifik grup atau proyeksi yang mempertahankan simetri dapat membantu dalam konteks khusus seperti jaringan yang diinformasikan oleh fisika atau tugas geometri tertentu."
      ],
      "metadata": {
        "id": "_qoDHS4ii95g"
      }
    },
    {
      "cell_type": "markdown",
      "metadata": {
        "origin_pos": 1,
        "id": "e11b4915"
      },
      "source": [
        "# 8.6. Residual Networks (ResNet) and ResNeXt"
      ]
    },
    {
      "cell_type": "code",
      "execution_count": null,
      "metadata": {
        "execution": {
          "iopub.execute_input": "2023-08-18T19:50:50.915858Z",
          "iopub.status.busy": "2023-08-18T19:50:50.915085Z",
          "iopub.status.idle": "2023-08-18T19:50:53.897064Z",
          "shell.execute_reply": "2023-08-18T19:50:53.895755Z"
        },
        "origin_pos": 3,
        "tab": [
          "pytorch"
        ],
        "id": "d6e5d075"
      },
      "outputs": [],
      "source": [
        "import torch\n",
        "from torch import nn\n",
        "from torch.nn import functional as F\n",
        "from d2l import torch as d2l"
      ]
    },
    {
      "cell_type": "code",
      "execution_count": null,
      "metadata": {
        "execution": {
          "iopub.execute_input": "2023-08-18T19:50:53.901535Z",
          "iopub.status.busy": "2023-08-18T19:50:53.900638Z",
          "iopub.status.idle": "2023-08-18T19:50:53.909065Z",
          "shell.execute_reply": "2023-08-18T19:50:53.907927Z"
        },
        "origin_pos": 8,
        "tab": [
          "pytorch"
        ],
        "id": "35fa7497"
      },
      "outputs": [],
      "source": [
        "class Residual(nn.Module):  #@save\n",
        "    \"\"\"The Residual block of ResNet models.\"\"\"\n",
        "    def __init__(self, num_channels, use_1x1conv=False, strides=1):\n",
        "        super().__init__()\n",
        "        self.conv1 = nn.LazyConv2d(num_channels, kernel_size=3, padding=1,\n",
        "                                   stride=strides)\n",
        "        self.conv2 = nn.LazyConv2d(num_channels, kernel_size=3, padding=1)\n",
        "        if use_1x1conv:\n",
        "            self.conv3 = nn.LazyConv2d(num_channels, kernel_size=1,\n",
        "                                       stride=strides)\n",
        "        else:\n",
        "            self.conv3 = None\n",
        "        self.bn1 = nn.LazyBatchNorm2d()\n",
        "        self.bn2 = nn.LazyBatchNorm2d()\n",
        "\n",
        "    def forward(self, X):\n",
        "        Y = F.relu(self.bn1(self.conv1(X)))\n",
        "        Y = self.bn2(self.conv2(Y))\n",
        "        if self.conv3:\n",
        "            X = self.conv3(X)\n",
        "        Y += X\n",
        "        return F.relu(Y)"
      ]
    },
    {
      "cell_type": "code",
      "execution_count": null,
      "metadata": {
        "execution": {
          "iopub.execute_input": "2023-08-18T19:50:53.913050Z",
          "iopub.status.busy": "2023-08-18T19:50:53.912286Z",
          "iopub.status.idle": "2023-08-18T19:50:53.955152Z",
          "shell.execute_reply": "2023-08-18T19:50:53.953792Z"
        },
        "origin_pos": 12,
        "tab": [
          "pytorch"
        ],
        "id": "2057b8bc",
        "outputId": "698de012-9e9c-42d3-e9a3-c9af930f83df",
        "colab": {
          "base_uri": "https://localhost:8080/"
        }
      },
      "outputs": [
        {
          "output_type": "execute_result",
          "data": {
            "text/plain": [
              "torch.Size([4, 3, 6, 6])"
            ]
          },
          "metadata": {},
          "execution_count": 43
        }
      ],
      "source": [
        "blk = Residual(3)\n",
        "X = torch.randn(4, 3, 6, 6)\n",
        "blk(X).shape"
      ]
    },
    {
      "cell_type": "code",
      "execution_count": null,
      "metadata": {
        "execution": {
          "iopub.execute_input": "2023-08-18T19:50:53.958860Z",
          "iopub.status.busy": "2023-08-18T19:50:53.958579Z",
          "iopub.status.idle": "2023-08-18T19:50:53.983195Z",
          "shell.execute_reply": "2023-08-18T19:50:53.981643Z"
        },
        "origin_pos": 16,
        "tab": [
          "pytorch"
        ],
        "id": "341c1c55",
        "outputId": "481ff015-9852-45f6-a2ee-25b0e0fe7b59",
        "colab": {
          "base_uri": "https://localhost:8080/"
        }
      },
      "outputs": [
        {
          "output_type": "execute_result",
          "data": {
            "text/plain": [
              "torch.Size([4, 6, 3, 3])"
            ]
          },
          "metadata": {},
          "execution_count": 44
        }
      ],
      "source": [
        "blk = Residual(6, use_1x1conv=True, strides=2)\n",
        "blk(X).shape"
      ]
    },
    {
      "cell_type": "code",
      "execution_count": null,
      "metadata": {
        "execution": {
          "iopub.execute_input": "2023-08-18T19:50:53.987745Z",
          "iopub.status.busy": "2023-08-18T19:50:53.986818Z",
          "iopub.status.idle": "2023-08-18T19:50:53.994446Z",
          "shell.execute_reply": "2023-08-18T19:50:53.993110Z"
        },
        "origin_pos": 19,
        "tab": [
          "pytorch"
        ],
        "id": "393dd8de"
      },
      "outputs": [],
      "source": [
        "class ResNet(d2l.Classifier):\n",
        "    def b1(self):\n",
        "        return nn.Sequential(\n",
        "            nn.LazyConv2d(64, kernel_size=7, stride=2, padding=3),\n",
        "            nn.LazyBatchNorm2d(), nn.ReLU(),\n",
        "            nn.MaxPool2d(kernel_size=3, stride=2, padding=1))"
      ]
    },
    {
      "cell_type": "code",
      "execution_count": null,
      "metadata": {
        "execution": {
          "iopub.execute_input": "2023-08-18T19:50:53.998963Z",
          "iopub.status.busy": "2023-08-18T19:50:53.997879Z",
          "iopub.status.idle": "2023-08-18T19:50:54.005699Z",
          "shell.execute_reply": "2023-08-18T19:50:54.004419Z"
        },
        "origin_pos": 23,
        "tab": [
          "pytorch"
        ],
        "id": "4d92b69c"
      },
      "outputs": [],
      "source": [
        "@d2l.add_to_class(ResNet)\n",
        "def block(self, num_residuals, num_channels, first_block=False):\n",
        "    blk = []\n",
        "    for i in range(num_residuals):\n",
        "        if i == 0 and not first_block:\n",
        "            blk.append(Residual(num_channels, use_1x1conv=True, strides=2))\n",
        "        else:\n",
        "            blk.append(Residual(num_channels))\n",
        "    return nn.Sequential(*blk)"
      ]
    },
    {
      "cell_type": "code",
      "execution_count": null,
      "metadata": {
        "execution": {
          "iopub.execute_input": "2023-08-18T19:50:54.010309Z",
          "iopub.status.busy": "2023-08-18T19:50:54.009135Z",
          "iopub.status.idle": "2023-08-18T19:50:54.017906Z",
          "shell.execute_reply": "2023-08-18T19:50:54.016848Z"
        },
        "origin_pos": 27,
        "tab": [
          "pytorch"
        ],
        "id": "0019ee3f"
      },
      "outputs": [],
      "source": [
        "@d2l.add_to_class(ResNet)\n",
        "def __init__(self, arch, lr=0.1, num_classes=10):\n",
        "    super(ResNet, self).__init__()\n",
        "    self.save_hyperparameters()\n",
        "    self.net = nn.Sequential(self.b1())\n",
        "    for i, b in enumerate(arch):\n",
        "        self.net.add_module(f'b{i+2}', self.block(*b, first_block=(i==0)))\n",
        "    self.net.add_module('last', nn.Sequential(\n",
        "        nn.AdaptiveAvgPool2d((1, 1)), nn.Flatten(),\n",
        "        nn.LazyLinear(num_classes)))\n",
        "    self.net.apply(d2l.init_cnn)"
      ]
    },
    {
      "cell_type": "code",
      "execution_count": null,
      "metadata": {
        "execution": {
          "iopub.execute_input": "2023-08-18T19:50:54.021691Z",
          "iopub.status.busy": "2023-08-18T19:50:54.021249Z",
          "iopub.status.idle": "2023-08-18T19:50:54.027632Z",
          "shell.execute_reply": "2023-08-18T19:50:54.026516Z"
        },
        "origin_pos": 30,
        "tab": [
          "pytorch"
        ],
        "id": "61e60e34"
      },
      "outputs": [],
      "source": [
        "class ResNet18(ResNet):\n",
        "    def __init__(self, lr=0.1, num_classes=10):\n",
        "        super().__init__(((2, 64), (2, 128), (2, 256), (2, 512)),\n",
        "                       lr, num_classes)"
      ]
    },
    {
      "cell_type": "code",
      "execution_count": null,
      "metadata": {
        "execution": {
          "iopub.execute_input": "2023-08-18T19:50:54.031902Z",
          "iopub.status.busy": "2023-08-18T19:50:54.030981Z",
          "iopub.status.idle": "2023-08-18T19:50:54.188619Z",
          "shell.execute_reply": "2023-08-18T19:50:54.187488Z"
        },
        "origin_pos": 32,
        "tab": [
          "pytorch"
        ],
        "id": "f153f6ed",
        "outputId": "e2d8bbb3-988b-437d-de7f-856edee2ead7",
        "colab": {
          "base_uri": "https://localhost:8080/"
        }
      },
      "outputs": [
        {
          "output_type": "stream",
          "name": "stdout",
          "text": [
            "Sequential output shape:\t torch.Size([1, 64, 24, 24])\n",
            "Sequential output shape:\t torch.Size([1, 64, 24, 24])\n",
            "Sequential output shape:\t torch.Size([1, 128, 12, 12])\n",
            "Sequential output shape:\t torch.Size([1, 256, 6, 6])\n",
            "Sequential output shape:\t torch.Size([1, 512, 3, 3])\n",
            "Sequential output shape:\t torch.Size([1, 10])\n"
          ]
        }
      ],
      "source": [
        "ResNet18().layer_summary((1, 1, 96, 96))"
      ]
    },
    {
      "cell_type": "code",
      "execution_count": null,
      "metadata": {
        "execution": {
          "iopub.execute_input": "2023-08-18T19:50:54.192632Z",
          "iopub.status.busy": "2023-08-18T19:50:54.191821Z",
          "iopub.status.idle": "2023-08-18T19:53:34.753784Z",
          "shell.execute_reply": "2023-08-18T19:53:34.752565Z"
        },
        "origin_pos": 36,
        "tab": [
          "pytorch"
        ],
        "id": "61b87bb9",
        "outputId": "bf4bf757-c6f5-45c1-f44f-da9b7204e438",
        "colab": {
          "base_uri": "https://localhost:8080/",
          "height": 266
        }
      },
      "outputs": [
        {
          "output_type": "display_data",
          "data": {
            "text/plain": [
              "<Figure size 350x250 with 1 Axes>"
            ],
            "image/svg+xml": "<?xml version=\"1.0\" encoding=\"utf-8\" standalone=\"no\"?>\n<!DOCTYPE svg PUBLIC \"-//W3C//DTD SVG 1.1//EN\"\n  \"http://www.w3.org/Graphics/SVG/1.1/DTD/svg11.dtd\">\n<svg xmlns:xlink=\"http://www.w3.org/1999/xlink\" width=\"238.965625pt\" height=\"183.35625pt\" viewBox=\"0 0 238.965625 183.35625\" xmlns=\"http://www.w3.org/2000/svg\" version=\"1.1\">\n <metadata>\n  <rdf:RDF xmlns:dc=\"http://purl.org/dc/elements/1.1/\" xmlns:cc=\"http://creativecommons.org/ns#\" xmlns:rdf=\"http://www.w3.org/1999/02/22-rdf-syntax-ns#\">\n   <cc:Work>\n    <dc:type rdf:resource=\"http://purl.org/dc/dcmitype/StillImage\"/>\n    <dc:date>2024-10-04T14:54:52.271421</dc:date>\n    <dc:format>image/svg+xml</dc:format>\n    <dc:creator>\n     <cc:Agent>\n      <dc:title>Matplotlib v3.7.2, https://matplotlib.org/</dc:title>\n     </cc:Agent>\n    </dc:creator>\n   </cc:Work>\n  </rdf:RDF>\n </metadata>\n <defs>\n  <style type=\"text/css\">*{stroke-linejoin: round; stroke-linecap: butt}</style>\n </defs>\n <g id=\"figure_1\">\n  <g id=\"patch_1\">\n   <path d=\"M 0 183.35625 \nL 238.965625 183.35625 \nL 238.965625 0 \nL 0 0 \nz\n\" style=\"fill: #ffffff\"/>\n  </g>\n  <g id=\"axes_1\">\n   <g id=\"patch_2\">\n    <path d=\"M 30.103125 145.8 \nL 225.403125 145.8 \nL 225.403125 7.2 \nL 30.103125 7.2 \nz\n\" style=\"fill: #ffffff\"/>\n   </g>\n   <g id=\"matplotlib.axis_1\">\n    <g id=\"xtick_1\">\n     <g id=\"line2d_1\">\n      <defs>\n       <path id=\"mb6763d1dac\" d=\"M 0 0 \nL 0 3.5 \n\" style=\"stroke: #000000; stroke-width: 0.8\"/>\n      </defs>\n      <g>\n       <use xlink:href=\"#mb6763d1dac\" x=\"30.103125\" y=\"145.8\" style=\"stroke: #000000; stroke-width: 0.8\"/>\n      </g>\n     </g>\n     <g id=\"text_1\">\n      <!-- 0 -->\n      <g transform=\"translate(26.921875 160.398438) scale(0.1 -0.1)\">\n       <defs>\n        <path id=\"DejaVuSans-30\" d=\"M 2034 4250 \nQ 1547 4250 1301 3770 \nQ 1056 3291 1056 2328 \nQ 1056 1369 1301 889 \nQ 1547 409 2034 409 \nQ 2525 409 2770 889 \nQ 3016 1369 3016 2328 \nQ 3016 3291 2770 3770 \nQ 2525 4250 2034 4250 \nz\nM 2034 4750 \nQ 2819 4750 3233 4129 \nQ 3647 3509 3647 2328 \nQ 3647 1150 3233 529 \nQ 2819 -91 2034 -91 \nQ 1250 -91 836 529 \nQ 422 1150 422 2328 \nQ 422 3509 836 4129 \nQ 1250 4750 2034 4750 \nz\n\" transform=\"scale(0.015625)\"/>\n       </defs>\n       <use xlink:href=\"#DejaVuSans-30\"/>\n      </g>\n     </g>\n    </g>\n    <g id=\"xtick_2\">\n     <g id=\"line2d_2\">\n      <g>\n       <use xlink:href=\"#mb6763d1dac\" x=\"69.163125\" y=\"145.8\" style=\"stroke: #000000; stroke-width: 0.8\"/>\n      </g>\n     </g>\n     <g id=\"text_2\">\n      <!-- 2 -->\n      <g transform=\"translate(65.981875 160.398438) scale(0.1 -0.1)\">\n       <defs>\n        <path id=\"DejaVuSans-32\" d=\"M 1228 531 \nL 3431 531 \nL 3431 0 \nL 469 0 \nL 469 531 \nQ 828 903 1448 1529 \nQ 2069 2156 2228 2338 \nQ 2531 2678 2651 2914 \nQ 2772 3150 2772 3378 \nQ 2772 3750 2511 3984 \nQ 2250 4219 1831 4219 \nQ 1534 4219 1204 4116 \nQ 875 4013 500 3803 \nL 500 4441 \nQ 881 4594 1212 4672 \nQ 1544 4750 1819 4750 \nQ 2544 4750 2975 4387 \nQ 3406 4025 3406 3419 \nQ 3406 3131 3298 2873 \nQ 3191 2616 2906 2266 \nQ 2828 2175 2409 1742 \nQ 1991 1309 1228 531 \nz\n\" transform=\"scale(0.015625)\"/>\n       </defs>\n       <use xlink:href=\"#DejaVuSans-32\"/>\n      </g>\n     </g>\n    </g>\n    <g id=\"xtick_3\">\n     <g id=\"line2d_3\">\n      <g>\n       <use xlink:href=\"#mb6763d1dac\" x=\"108.223125\" y=\"145.8\" style=\"stroke: #000000; stroke-width: 0.8\"/>\n      </g>\n     </g>\n     <g id=\"text_3\">\n      <!-- 4 -->\n      <g transform=\"translate(105.041875 160.398438) scale(0.1 -0.1)\">\n       <defs>\n        <path id=\"DejaVuSans-34\" d=\"M 2419 4116 \nL 825 1625 \nL 2419 1625 \nL 2419 4116 \nz\nM 2253 4666 \nL 3047 4666 \nL 3047 1625 \nL 3713 1625 \nL 3713 1100 \nL 3047 1100 \nL 3047 0 \nL 2419 0 \nL 2419 1100 \nL 313 1100 \nL 313 1709 \nL 2253 4666 \nz\n\" transform=\"scale(0.015625)\"/>\n       </defs>\n       <use xlink:href=\"#DejaVuSans-34\"/>\n      </g>\n     </g>\n    </g>\n    <g id=\"xtick_4\">\n     <g id=\"line2d_4\">\n      <g>\n       <use xlink:href=\"#mb6763d1dac\" x=\"147.283125\" y=\"145.8\" style=\"stroke: #000000; stroke-width: 0.8\"/>\n      </g>\n     </g>\n     <g id=\"text_4\">\n      <!-- 6 -->\n      <g transform=\"translate(144.101875 160.398438) scale(0.1 -0.1)\">\n       <defs>\n        <path id=\"DejaVuSans-36\" d=\"M 2113 2584 \nQ 1688 2584 1439 2293 \nQ 1191 2003 1191 1497 \nQ 1191 994 1439 701 \nQ 1688 409 2113 409 \nQ 2538 409 2786 701 \nQ 3034 994 3034 1497 \nQ 3034 2003 2786 2293 \nQ 2538 2584 2113 2584 \nz\nM 3366 4563 \nL 3366 3988 \nQ 3128 4100 2886 4159 \nQ 2644 4219 2406 4219 \nQ 1781 4219 1451 3797 \nQ 1122 3375 1075 2522 \nQ 1259 2794 1537 2939 \nQ 1816 3084 2150 3084 \nQ 2853 3084 3261 2657 \nQ 3669 2231 3669 1497 \nQ 3669 778 3244 343 \nQ 2819 -91 2113 -91 \nQ 1303 -91 875 529 \nQ 447 1150 447 2328 \nQ 447 3434 972 4092 \nQ 1497 4750 2381 4750 \nQ 2619 4750 2861 4703 \nQ 3103 4656 3366 4563 \nz\n\" transform=\"scale(0.015625)\"/>\n       </defs>\n       <use xlink:href=\"#DejaVuSans-36\"/>\n      </g>\n     </g>\n    </g>\n    <g id=\"xtick_5\">\n     <g id=\"line2d_5\">\n      <g>\n       <use xlink:href=\"#mb6763d1dac\" x=\"186.343125\" y=\"145.8\" style=\"stroke: #000000; stroke-width: 0.8\"/>\n      </g>\n     </g>\n     <g id=\"text_5\">\n      <!-- 8 -->\n      <g transform=\"translate(183.161875 160.398438) scale(0.1 -0.1)\">\n       <defs>\n        <path id=\"DejaVuSans-38\" d=\"M 2034 2216 \nQ 1584 2216 1326 1975 \nQ 1069 1734 1069 1313 \nQ 1069 891 1326 650 \nQ 1584 409 2034 409 \nQ 2484 409 2743 651 \nQ 3003 894 3003 1313 \nQ 3003 1734 2745 1975 \nQ 2488 2216 2034 2216 \nz\nM 1403 2484 \nQ 997 2584 770 2862 \nQ 544 3141 544 3541 \nQ 544 4100 942 4425 \nQ 1341 4750 2034 4750 \nQ 2731 4750 3128 4425 \nQ 3525 4100 3525 3541 \nQ 3525 3141 3298 2862 \nQ 3072 2584 2669 2484 \nQ 3125 2378 3379 2068 \nQ 3634 1759 3634 1313 \nQ 3634 634 3220 271 \nQ 2806 -91 2034 -91 \nQ 1263 -91 848 271 \nQ 434 634 434 1313 \nQ 434 1759 690 2068 \nQ 947 2378 1403 2484 \nz\nM 1172 3481 \nQ 1172 3119 1398 2916 \nQ 1625 2713 2034 2713 \nQ 2441 2713 2670 2916 \nQ 2900 3119 2900 3481 \nQ 2900 3844 2670 4047 \nQ 2441 4250 2034 4250 \nQ 1625 4250 1398 4047 \nQ 1172 3844 1172 3481 \nz\n\" transform=\"scale(0.015625)\"/>\n       </defs>\n       <use xlink:href=\"#DejaVuSans-38\"/>\n      </g>\n     </g>\n    </g>\n    <g id=\"xtick_6\">\n     <g id=\"line2d_6\">\n      <g>\n       <use xlink:href=\"#mb6763d1dac\" x=\"225.403125\" y=\"145.8\" style=\"stroke: #000000; stroke-width: 0.8\"/>\n      </g>\n     </g>\n     <g id=\"text_6\">\n      <!-- 10 -->\n      <g transform=\"translate(219.040625 160.398438) scale(0.1 -0.1)\">\n       <defs>\n        <path id=\"DejaVuSans-31\" d=\"M 794 531 \nL 1825 531 \nL 1825 4091 \nL 703 3866 \nL 703 4441 \nL 1819 4666 \nL 2450 4666 \nL 2450 531 \nL 3481 531 \nL 3481 0 \nL 794 0 \nL 794 531 \nz\n\" transform=\"scale(0.015625)\"/>\n       </defs>\n       <use xlink:href=\"#DejaVuSans-31\"/>\n       <use xlink:href=\"#DejaVuSans-30\" x=\"63.623047\"/>\n      </g>\n     </g>\n    </g>\n    <g id=\"text_7\">\n     <!-- epoch -->\n     <g transform=\"translate(112.525 174.076563) scale(0.1 -0.1)\">\n      <defs>\n       <path id=\"DejaVuSans-65\" d=\"M 3597 1894 \nL 3597 1613 \nL 953 1613 \nQ 991 1019 1311 708 \nQ 1631 397 2203 397 \nQ 2534 397 2845 478 \nQ 3156 559 3463 722 \nL 3463 178 \nQ 3153 47 2828 -22 \nQ 2503 -91 2169 -91 \nQ 1331 -91 842 396 \nQ 353 884 353 1716 \nQ 353 2575 817 3079 \nQ 1281 3584 2069 3584 \nQ 2775 3584 3186 3129 \nQ 3597 2675 3597 1894 \nz\nM 3022 2063 \nQ 3016 2534 2758 2815 \nQ 2500 3097 2075 3097 \nQ 1594 3097 1305 2825 \nQ 1016 2553 972 2059 \nL 3022 2063 \nz\n\" transform=\"scale(0.015625)\"/>\n       <path id=\"DejaVuSans-70\" d=\"M 1159 525 \nL 1159 -1331 \nL 581 -1331 \nL 581 3500 \nL 1159 3500 \nL 1159 2969 \nQ 1341 3281 1617 3432 \nQ 1894 3584 2278 3584 \nQ 2916 3584 3314 3078 \nQ 3713 2572 3713 1747 \nQ 3713 922 3314 415 \nQ 2916 -91 2278 -91 \nQ 1894 -91 1617 61 \nQ 1341 213 1159 525 \nz\nM 3116 1747 \nQ 3116 2381 2855 2742 \nQ 2594 3103 2138 3103 \nQ 1681 3103 1420 2742 \nQ 1159 2381 1159 1747 \nQ 1159 1113 1420 752 \nQ 1681 391 2138 391 \nQ 2594 391 2855 752 \nQ 3116 1113 3116 1747 \nz\n\" transform=\"scale(0.015625)\"/>\n       <path id=\"DejaVuSans-6f\" d=\"M 1959 3097 \nQ 1497 3097 1228 2736 \nQ 959 2375 959 1747 \nQ 959 1119 1226 758 \nQ 1494 397 1959 397 \nQ 2419 397 2687 759 \nQ 2956 1122 2956 1747 \nQ 2956 2369 2687 2733 \nQ 2419 3097 1959 3097 \nz\nM 1959 3584 \nQ 2709 3584 3137 3096 \nQ 3566 2609 3566 1747 \nQ 3566 888 3137 398 \nQ 2709 -91 1959 -91 \nQ 1206 -91 779 398 \nQ 353 888 353 1747 \nQ 353 2609 779 3096 \nQ 1206 3584 1959 3584 \nz\n\" transform=\"scale(0.015625)\"/>\n       <path id=\"DejaVuSans-63\" d=\"M 3122 3366 \nL 3122 2828 \nQ 2878 2963 2633 3030 \nQ 2388 3097 2138 3097 \nQ 1578 3097 1268 2742 \nQ 959 2388 959 1747 \nQ 959 1106 1268 751 \nQ 1578 397 2138 397 \nQ 2388 397 2633 464 \nQ 2878 531 3122 666 \nL 3122 134 \nQ 2881 22 2623 -34 \nQ 2366 -91 2075 -91 \nQ 1284 -91 818 406 \nQ 353 903 353 1747 \nQ 353 2603 823 3093 \nQ 1294 3584 2113 3584 \nQ 2378 3584 2631 3529 \nQ 2884 3475 3122 3366 \nz\n\" transform=\"scale(0.015625)\"/>\n       <path id=\"DejaVuSans-68\" d=\"M 3513 2113 \nL 3513 0 \nL 2938 0 \nL 2938 2094 \nQ 2938 2591 2744 2837 \nQ 2550 3084 2163 3084 \nQ 1697 3084 1428 2787 \nQ 1159 2491 1159 1978 \nL 1159 0 \nL 581 0 \nL 581 4863 \nL 1159 4863 \nL 1159 2956 \nQ 1366 3272 1645 3428 \nQ 1925 3584 2291 3584 \nQ 2894 3584 3203 3211 \nQ 3513 2838 3513 2113 \nz\n\" transform=\"scale(0.015625)\"/>\n      </defs>\n      <use xlink:href=\"#DejaVuSans-65\"/>\n      <use xlink:href=\"#DejaVuSans-70\" x=\"61.523438\"/>\n      <use xlink:href=\"#DejaVuSans-6f\" x=\"125\"/>\n      <use xlink:href=\"#DejaVuSans-63\" x=\"186.181641\"/>\n      <use xlink:href=\"#DejaVuSans-68\" x=\"241.162109\"/>\n     </g>\n    </g>\n   </g>\n   <g id=\"matplotlib.axis_2\">\n    <g id=\"ytick_1\">\n     <g id=\"line2d_7\">\n      <defs>\n       <path id=\"mb3fa7fbf49\" d=\"M 0 0 \nL -3.5 0 \n\" style=\"stroke: #000000; stroke-width: 0.8\"/>\n      </defs>\n      <g>\n       <use xlink:href=\"#mb3fa7fbf49\" x=\"30.103125\" y=\"142.675931\" style=\"stroke: #000000; stroke-width: 0.8\"/>\n      </g>\n     </g>\n     <g id=\"text_8\">\n      <!-- 0.0 -->\n      <g transform=\"translate(7.2 146.47515) scale(0.1 -0.1)\">\n       <defs>\n        <path id=\"DejaVuSans-2e\" d=\"M 684 794 \nL 1344 794 \nL 1344 0 \nL 684 0 \nL 684 794 \nz\n\" transform=\"scale(0.015625)\"/>\n       </defs>\n       <use xlink:href=\"#DejaVuSans-30\"/>\n       <use xlink:href=\"#DejaVuSans-2e\" x=\"63.623047\"/>\n       <use xlink:href=\"#DejaVuSans-30\" x=\"95.410156\"/>\n      </g>\n     </g>\n    </g>\n    <g id=\"ytick_2\">\n     <g id=\"line2d_8\">\n      <g>\n       <use xlink:href=\"#mb3fa7fbf49\" x=\"30.103125\" y=\"114.378119\" style=\"stroke: #000000; stroke-width: 0.8\"/>\n      </g>\n     </g>\n     <g id=\"text_9\">\n      <!-- 0.2 -->\n      <g transform=\"translate(7.2 118.177337) scale(0.1 -0.1)\">\n       <use xlink:href=\"#DejaVuSans-30\"/>\n       <use xlink:href=\"#DejaVuSans-2e\" x=\"63.623047\"/>\n       <use xlink:href=\"#DejaVuSans-32\" x=\"95.410156\"/>\n      </g>\n     </g>\n    </g>\n    <g id=\"ytick_3\">\n     <g id=\"line2d_9\">\n      <g>\n       <use xlink:href=\"#mb3fa7fbf49\" x=\"30.103125\" y=\"86.080306\" style=\"stroke: #000000; stroke-width: 0.8\"/>\n      </g>\n     </g>\n     <g id=\"text_10\">\n      <!-- 0.4 -->\n      <g transform=\"translate(7.2 89.879525) scale(0.1 -0.1)\">\n       <use xlink:href=\"#DejaVuSans-30\"/>\n       <use xlink:href=\"#DejaVuSans-2e\" x=\"63.623047\"/>\n       <use xlink:href=\"#DejaVuSans-34\" x=\"95.410156\"/>\n      </g>\n     </g>\n    </g>\n    <g id=\"ytick_4\">\n     <g id=\"line2d_10\">\n      <g>\n       <use xlink:href=\"#mb3fa7fbf49\" x=\"30.103125\" y=\"57.782494\" style=\"stroke: #000000; stroke-width: 0.8\"/>\n      </g>\n     </g>\n     <g id=\"text_11\">\n      <!-- 0.6 -->\n      <g transform=\"translate(7.2 61.581713) scale(0.1 -0.1)\">\n       <use xlink:href=\"#DejaVuSans-30\"/>\n       <use xlink:href=\"#DejaVuSans-2e\" x=\"63.623047\"/>\n       <use xlink:href=\"#DejaVuSans-36\" x=\"95.410156\"/>\n      </g>\n     </g>\n    </g>\n    <g id=\"ytick_5\">\n     <g id=\"line2d_11\">\n      <g>\n       <use xlink:href=\"#mb3fa7fbf49\" x=\"30.103125\" y=\"29.484682\" style=\"stroke: #000000; stroke-width: 0.8\"/>\n      </g>\n     </g>\n     <g id=\"text_12\">\n      <!-- 0.8 -->\n      <g transform=\"translate(7.2 33.283901) scale(0.1 -0.1)\">\n       <use xlink:href=\"#DejaVuSans-30\"/>\n       <use xlink:href=\"#DejaVuSans-2e\" x=\"63.623047\"/>\n       <use xlink:href=\"#DejaVuSans-38\" x=\"95.410156\"/>\n      </g>\n     </g>\n    </g>\n   </g>\n   <g id=\"line2d_12\">\n    <path d=\"M 34.954394 63.676591 \n\" clip-path=\"url(#p40292eb00a)\" style=\"fill: none; stroke: #1f77b4; stroke-width: 1.5; stroke-linecap: square\"/>\n   </g>\n   <g id=\"line2d_13\">\n    <path d=\"M 34.954394 63.676591 \nL 44.698573 93.973277 \n\" clip-path=\"url(#p40292eb00a)\" style=\"fill: none; stroke: #1f77b4; stroke-width: 1.5; stroke-linecap: square\"/>\n   </g>\n   <g id=\"line2d_14\">\n    <path d=\"M 34.954394 63.676591 \nL 44.698573 93.973277 \n\" clip-path=\"url(#p40292eb00a)\" style=\"fill: none; stroke: #1f77b4; stroke-width: 1.5; stroke-linecap: square\"/>\n   </g>\n   <g id=\"line2d_15\">\n    <path d=\"M 49.633125 90.089304 \n\" clip-path=\"url(#p40292eb00a)\" style=\"fill: none; stroke-dasharray: 5.55,2.4; stroke-dashoffset: 0; stroke: #ff7f0e; stroke-width: 1.5\"/>\n   </g>\n   <g id=\"line2d_16\"/>\n   <g id=\"line2d_17\">\n    <path d=\"M 34.954394 63.676591 \nL 44.698573 93.973277 \n\" clip-path=\"url(#p40292eb00a)\" style=\"fill: none; stroke: #1f77b4; stroke-width: 1.5; stroke-linecap: square\"/>\n   </g>\n   <g id=\"line2d_18\">\n    <path d=\"M 49.633125 90.089304 \n\" clip-path=\"url(#p40292eb00a)\" style=\"fill: none; stroke-dasharray: 5.55,2.4; stroke-dashoffset: 0; stroke: #ff7f0e; stroke-width: 1.5\"/>\n   </g>\n   <g id=\"line2d_19\">\n    <path d=\"M 49.633125 20.524081 \n\" clip-path=\"url(#p40292eb00a)\" style=\"fill: none; stroke-dasharray: 9.6,2.4,1.5,2.4; stroke-dashoffset: 0; stroke: #2ca02c; stroke-width: 1.5\"/>\n   </g>\n   <g id=\"line2d_20\">\n    <path d=\"M 34.954394 63.676591 \nL 44.698573 93.973277 \nL 54.442752 103.725406 \n\" clip-path=\"url(#p40292eb00a)\" style=\"fill: none; stroke: #1f77b4; stroke-width: 1.5; stroke-linecap: square\"/>\n   </g>\n   <g id=\"line2d_21\">\n    <path d=\"M 49.633125 90.089304 \n\" clip-path=\"url(#p40292eb00a)\" style=\"fill: none; stroke-dasharray: 5.55,2.4; stroke-dashoffset: 0; stroke: #ff7f0e; stroke-width: 1.5\"/>\n   </g>\n   <g id=\"line2d_22\">\n    <path d=\"M 49.633125 20.524081 \n\" clip-path=\"url(#p40292eb00a)\" style=\"fill: none; stroke-dasharray: 9.6,2.4,1.5,2.4; stroke-dashoffset: 0; stroke: #2ca02c; stroke-width: 1.5\"/>\n   </g>\n   <g id=\"line2d_23\">\n    <path d=\"M 34.954394 63.676591 \nL 44.698573 93.973277 \nL 54.442752 103.725406 \nL 64.186931 105.763609 \n\" clip-path=\"url(#p40292eb00a)\" style=\"fill: none; stroke: #1f77b4; stroke-width: 1.5; stroke-linecap: square\"/>\n   </g>\n   <g id=\"line2d_24\">\n    <path d=\"M 49.633125 90.089304 \n\" clip-path=\"url(#p40292eb00a)\" style=\"fill: none; stroke-dasharray: 5.55,2.4; stroke-dashoffset: 0; stroke: #ff7f0e; stroke-width: 1.5\"/>\n   </g>\n   <g id=\"line2d_25\">\n    <path d=\"M 49.633125 20.524081 \n\" clip-path=\"url(#p40292eb00a)\" style=\"fill: none; stroke-dasharray: 9.6,2.4,1.5,2.4; stroke-dashoffset: 0; stroke: #2ca02c; stroke-width: 1.5\"/>\n   </g>\n   <g id=\"line2d_26\">\n    <path d=\"M 34.954394 63.676591 \nL 44.698573 93.973277 \nL 54.442752 103.725406 \nL 64.186931 105.763609 \n\" clip-path=\"url(#p40292eb00a)\" style=\"fill: none; stroke: #1f77b4; stroke-width: 1.5; stroke-linecap: square\"/>\n   </g>\n   <g id=\"line2d_27\">\n    <path d=\"M 49.633125 90.089304 \nL 69.163125 99.977235 \n\" clip-path=\"url(#p40292eb00a)\" style=\"fill: none; stroke-dasharray: 5.55,2.4; stroke-dashoffset: 0; stroke: #ff7f0e; stroke-width: 1.5\"/>\n   </g>\n   <g id=\"line2d_28\">\n    <path d=\"M 49.633125 20.524081 \n\" clip-path=\"url(#p40292eb00a)\" style=\"fill: none; stroke-dasharray: 9.6,2.4,1.5,2.4; stroke-dashoffset: 0; stroke: #2ca02c; stroke-width: 1.5\"/>\n   </g>\n   <g id=\"line2d_29\">\n    <path d=\"M 34.954394 63.676591 \nL 44.698573 93.973277 \nL 54.442752 103.725406 \nL 64.186931 105.763609 \n\" clip-path=\"url(#p40292eb00a)\" style=\"fill: none; stroke: #1f77b4; stroke-width: 1.5; stroke-linecap: square\"/>\n   </g>\n   <g id=\"line2d_30\">\n    <path d=\"M 49.633125 90.089304 \nL 69.163125 99.977235 \n\" clip-path=\"url(#p40292eb00a)\" style=\"fill: none; stroke-dasharray: 5.55,2.4; stroke-dashoffset: 0; stroke: #ff7f0e; stroke-width: 1.5\"/>\n   </g>\n   <g id=\"line2d_31\">\n    <path d=\"M 49.633125 20.524081 \nL 69.163125 16.606267 \n\" clip-path=\"url(#p40292eb00a)\" style=\"fill: none; stroke-dasharray: 9.6,2.4,1.5,2.4; stroke-dashoffset: 0; stroke: #2ca02c; stroke-width: 1.5\"/>\n   </g>\n   <g id=\"line2d_32\">\n    <path d=\"M 34.954394 63.676591 \nL 44.698573 93.973277 \nL 54.442752 103.725406 \nL 64.186931 105.763609 \nL 73.93111 113.926084 \n\" clip-path=\"url(#p40292eb00a)\" style=\"fill: none; stroke: #1f77b4; stroke-width: 1.5; stroke-linecap: square\"/>\n   </g>\n   <g id=\"line2d_33\">\n    <path d=\"M 49.633125 90.089304 \nL 69.163125 99.977235 \n\" clip-path=\"url(#p40292eb00a)\" style=\"fill: none; stroke-dasharray: 5.55,2.4; stroke-dashoffset: 0; stroke: #ff7f0e; stroke-width: 1.5\"/>\n   </g>\n   <g id=\"line2d_34\">\n    <path d=\"M 49.633125 20.524081 \nL 69.163125 16.606267 \n\" clip-path=\"url(#p40292eb00a)\" style=\"fill: none; stroke-dasharray: 9.6,2.4,1.5,2.4; stroke-dashoffset: 0; stroke: #2ca02c; stroke-width: 1.5\"/>\n   </g>\n   <g id=\"line2d_35\">\n    <path d=\"M 34.954394 63.676591 \nL 44.698573 93.973277 \nL 54.442752 103.725406 \nL 64.186931 105.763609 \nL 73.93111 113.926084 \nL 83.675289 112.214975 \n\" clip-path=\"url(#p40292eb00a)\" style=\"fill: none; stroke: #1f77b4; stroke-width: 1.5; stroke-linecap: square\"/>\n   </g>\n   <g id=\"line2d_36\">\n    <path d=\"M 49.633125 90.089304 \nL 69.163125 99.977235 \n\" clip-path=\"url(#p40292eb00a)\" style=\"fill: none; stroke-dasharray: 5.55,2.4; stroke-dashoffset: 0; stroke: #ff7f0e; stroke-width: 1.5\"/>\n   </g>\n   <g id=\"line2d_37\">\n    <path d=\"M 49.633125 20.524081 \nL 69.163125 16.606267 \n\" clip-path=\"url(#p40292eb00a)\" style=\"fill: none; stroke-dasharray: 9.6,2.4,1.5,2.4; stroke-dashoffset: 0; stroke: #2ca02c; stroke-width: 1.5\"/>\n   </g>\n   <g id=\"line2d_38\">\n    <path d=\"M 34.954394 63.676591 \nL 44.698573 93.973277 \nL 54.442752 103.725406 \nL 64.186931 105.763609 \nL 73.93111 113.926084 \nL 83.675289 112.214975 \n\" clip-path=\"url(#p40292eb00a)\" style=\"fill: none; stroke: #1f77b4; stroke-width: 1.5; stroke-linecap: square\"/>\n   </g>\n   <g id=\"line2d_39\">\n    <path d=\"M 49.633125 90.089304 \nL 69.163125 99.977235 \nL 88.693125 96.840773 \n\" clip-path=\"url(#p40292eb00a)\" style=\"fill: none; stroke-dasharray: 5.55,2.4; stroke-dashoffset: 0; stroke: #ff7f0e; stroke-width: 1.5\"/>\n   </g>\n   <g id=\"line2d_40\">\n    <path d=\"M 49.633125 20.524081 \nL 69.163125 16.606267 \n\" clip-path=\"url(#p40292eb00a)\" style=\"fill: none; stroke-dasharray: 9.6,2.4,1.5,2.4; stroke-dashoffset: 0; stroke: #2ca02c; stroke-width: 1.5\"/>\n   </g>\n   <g id=\"line2d_41\">\n    <path d=\"M 34.954394 63.676591 \nL 44.698573 93.973277 \nL 54.442752 103.725406 \nL 64.186931 105.763609 \nL 73.93111 113.926084 \nL 83.675289 112.214975 \n\" clip-path=\"url(#p40292eb00a)\" style=\"fill: none; stroke: #1f77b4; stroke-width: 1.5; stroke-linecap: square\"/>\n   </g>\n   <g id=\"line2d_42\">\n    <path d=\"M 49.633125 90.089304 \nL 69.163125 99.977235 \nL 88.693125 96.840773 \n\" clip-path=\"url(#p40292eb00a)\" style=\"fill: none; stroke-dasharray: 5.55,2.4; stroke-dashoffset: 0; stroke: #ff7f0e; stroke-width: 1.5\"/>\n   </g>\n   <g id=\"line2d_43\">\n    <path d=\"M 49.633125 20.524081 \nL 69.163125 16.606267 \nL 88.693125 18.103432 \n\" clip-path=\"url(#p40292eb00a)\" style=\"fill: none; stroke-dasharray: 9.6,2.4,1.5,2.4; stroke-dashoffset: 0; stroke: #2ca02c; stroke-width: 1.5\"/>\n   </g>\n   <g id=\"line2d_44\">\n    <path d=\"M 34.954394 63.676591 \nL 44.698573 93.973277 \nL 54.442752 103.725406 \nL 64.186931 105.763609 \nL 73.93111 113.926084 \nL 83.675289 112.214975 \nL 93.419468 119.158232 \n\" clip-path=\"url(#p40292eb00a)\" style=\"fill: none; stroke: #1f77b4; stroke-width: 1.5; stroke-linecap: square\"/>\n   </g>\n   <g id=\"line2d_45\">\n    <path d=\"M 49.633125 90.089304 \nL 69.163125 99.977235 \nL 88.693125 96.840773 \n\" clip-path=\"url(#p40292eb00a)\" style=\"fill: none; stroke-dasharray: 5.55,2.4; stroke-dashoffset: 0; stroke: #ff7f0e; stroke-width: 1.5\"/>\n   </g>\n   <g id=\"line2d_46\">\n    <path d=\"M 49.633125 20.524081 \nL 69.163125 16.606267 \nL 88.693125 18.103432 \n\" clip-path=\"url(#p40292eb00a)\" style=\"fill: none; stroke-dasharray: 9.6,2.4,1.5,2.4; stroke-dashoffset: 0; stroke: #2ca02c; stroke-width: 1.5\"/>\n   </g>\n   <g id=\"line2d_47\">\n    <path d=\"M 34.954394 63.676591 \nL 44.698573 93.973277 \nL 54.442752 103.725406 \nL 64.186931 105.763609 \nL 73.93111 113.926084 \nL 83.675289 112.214975 \nL 93.419468 119.158232 \nL 103.163647 118.891556 \n\" clip-path=\"url(#p40292eb00a)\" style=\"fill: none; stroke: #1f77b4; stroke-width: 1.5; stroke-linecap: square\"/>\n   </g>\n   <g id=\"line2d_48\">\n    <path d=\"M 49.633125 90.089304 \nL 69.163125 99.977235 \nL 88.693125 96.840773 \n\" clip-path=\"url(#p40292eb00a)\" style=\"fill: none; stroke-dasharray: 5.55,2.4; stroke-dashoffset: 0; stroke: #ff7f0e; stroke-width: 1.5\"/>\n   </g>\n   <g id=\"line2d_49\">\n    <path d=\"M 49.633125 20.524081 \nL 69.163125 16.606267 \nL 88.693125 18.103432 \n\" clip-path=\"url(#p40292eb00a)\" style=\"fill: none; stroke-dasharray: 9.6,2.4,1.5,2.4; stroke-dashoffset: 0; stroke: #2ca02c; stroke-width: 1.5\"/>\n   </g>\n   <g id=\"line2d_50\">\n    <path d=\"M 34.954394 63.676591 \nL 44.698573 93.973277 \nL 54.442752 103.725406 \nL 64.186931 105.763609 \nL 73.93111 113.926084 \nL 83.675289 112.214975 \nL 93.419468 119.158232 \nL 103.163647 118.891556 \n\" clip-path=\"url(#p40292eb00a)\" style=\"fill: none; stroke: #1f77b4; stroke-width: 1.5; stroke-linecap: square\"/>\n   </g>\n   <g id=\"line2d_51\">\n    <path d=\"M 49.633125 90.089304 \nL 69.163125 99.977235 \nL 88.693125 96.840773 \nL 108.223125 96.95719 \n\" clip-path=\"url(#p40292eb00a)\" style=\"fill: none; stroke-dasharray: 5.55,2.4; stroke-dashoffset: 0; stroke: #ff7f0e; stroke-width: 1.5\"/>\n   </g>\n   <g id=\"line2d_52\">\n    <path d=\"M 49.633125 20.524081 \nL 69.163125 16.606267 \nL 88.693125 18.103432 \n\" clip-path=\"url(#p40292eb00a)\" style=\"fill: none; stroke-dasharray: 9.6,2.4,1.5,2.4; stroke-dashoffset: 0; stroke: #2ca02c; stroke-width: 1.5\"/>\n   </g>\n   <g id=\"line2d_53\">\n    <path d=\"M 34.954394 63.676591 \nL 44.698573 93.973277 \nL 54.442752 103.725406 \nL 64.186931 105.763609 \nL 73.93111 113.926084 \nL 83.675289 112.214975 \nL 93.419468 119.158232 \nL 103.163647 118.891556 \n\" clip-path=\"url(#p40292eb00a)\" style=\"fill: none; stroke: #1f77b4; stroke-width: 1.5; stroke-linecap: square\"/>\n   </g>\n   <g id=\"line2d_54\">\n    <path d=\"M 49.633125 90.089304 \nL 69.163125 99.977235 \nL 88.693125 96.840773 \nL 108.223125 96.95719 \n\" clip-path=\"url(#p40292eb00a)\" style=\"fill: none; stroke-dasharray: 5.55,2.4; stroke-dashoffset: 0; stroke: #ff7f0e; stroke-width: 1.5\"/>\n   </g>\n   <g id=\"line2d_55\">\n    <path d=\"M 49.633125 20.524081 \nL 69.163125 16.606267 \nL 88.693125 18.103432 \nL 108.223125 17.445799 \n\" clip-path=\"url(#p40292eb00a)\" style=\"fill: none; stroke-dasharray: 9.6,2.4,1.5,2.4; stroke-dashoffset: 0; stroke: #2ca02c; stroke-width: 1.5\"/>\n   </g>\n   <g id=\"line2d_56\">\n    <path d=\"M 34.954394 63.676591 \nL 44.698573 93.973277 \nL 54.442752 103.725406 \nL 64.186931 105.763609 \nL 73.93111 113.926084 \nL 83.675289 112.214975 \nL 93.419468 119.158232 \nL 103.163647 118.891556 \nL 112.907826 125.015802 \n\" clip-path=\"url(#p40292eb00a)\" style=\"fill: none; stroke: #1f77b4; stroke-width: 1.5; stroke-linecap: square\"/>\n   </g>\n   <g id=\"line2d_57\">\n    <path d=\"M 49.633125 90.089304 \nL 69.163125 99.977235 \nL 88.693125 96.840773 \nL 108.223125 96.95719 \n\" clip-path=\"url(#p40292eb00a)\" style=\"fill: none; stroke-dasharray: 5.55,2.4; stroke-dashoffset: 0; stroke: #ff7f0e; stroke-width: 1.5\"/>\n   </g>\n   <g id=\"line2d_58\">\n    <path d=\"M 49.633125 20.524081 \nL 69.163125 16.606267 \nL 88.693125 18.103432 \nL 108.223125 17.445799 \n\" clip-path=\"url(#p40292eb00a)\" style=\"fill: none; stroke-dasharray: 9.6,2.4,1.5,2.4; stroke-dashoffset: 0; stroke: #2ca02c; stroke-width: 1.5\"/>\n   </g>\n   <g id=\"line2d_59\">\n    <path d=\"M 34.954394 63.676591 \nL 44.698573 93.973277 \nL 54.442752 103.725406 \nL 64.186931 105.763609 \nL 73.93111 113.926084 \nL 83.675289 112.214975 \nL 93.419468 119.158232 \nL 103.163647 118.891556 \nL 112.907826 125.015802 \nL 122.652006 123.972912 \n\" clip-path=\"url(#p40292eb00a)\" style=\"fill: none; stroke: #1f77b4; stroke-width: 1.5; stroke-linecap: square\"/>\n   </g>\n   <g id=\"line2d_60\">\n    <path d=\"M 49.633125 90.089304 \nL 69.163125 99.977235 \nL 88.693125 96.840773 \nL 108.223125 96.95719 \n\" clip-path=\"url(#p40292eb00a)\" style=\"fill: none; stroke-dasharray: 5.55,2.4; stroke-dashoffset: 0; stroke: #ff7f0e; stroke-width: 1.5\"/>\n   </g>\n   <g id=\"line2d_61\">\n    <path d=\"M 49.633125 20.524081 \nL 69.163125 16.606267 \nL 88.693125 18.103432 \nL 108.223125 17.445799 \n\" clip-path=\"url(#p40292eb00a)\" style=\"fill: none; stroke-dasharray: 9.6,2.4,1.5,2.4; stroke-dashoffset: 0; stroke: #2ca02c; stroke-width: 1.5\"/>\n   </g>\n   <g id=\"line2d_62\">\n    <path d=\"M 34.954394 63.676591 \nL 44.698573 93.973277 \nL 54.442752 103.725406 \nL 64.186931 105.763609 \nL 73.93111 113.926084 \nL 83.675289 112.214975 \nL 93.419468 119.158232 \nL 103.163647 118.891556 \nL 112.907826 125.015802 \nL 122.652006 123.972912 \n\" clip-path=\"url(#p40292eb00a)\" style=\"fill: none; stroke: #1f77b4; stroke-width: 1.5; stroke-linecap: square\"/>\n   </g>\n   <g id=\"line2d_63\">\n    <path d=\"M 49.633125 90.089304 \nL 69.163125 99.977235 \nL 88.693125 96.840773 \nL 108.223125 96.95719 \nL 127.753125 104.553517 \n\" clip-path=\"url(#p40292eb00a)\" style=\"fill: none; stroke-dasharray: 5.55,2.4; stroke-dashoffset: 0; stroke: #ff7f0e; stroke-width: 1.5\"/>\n   </g>\n   <g id=\"line2d_64\">\n    <path d=\"M 49.633125 20.524081 \nL 69.163125 16.606267 \nL 88.693125 18.103432 \nL 108.223125 17.445799 \n\" clip-path=\"url(#p40292eb00a)\" style=\"fill: none; stroke-dasharray: 9.6,2.4,1.5,2.4; stroke-dashoffset: 0; stroke: #2ca02c; stroke-width: 1.5\"/>\n   </g>\n   <g id=\"line2d_65\">\n    <path d=\"M 34.954394 63.676591 \nL 44.698573 93.973277 \nL 54.442752 103.725406 \nL 64.186931 105.763609 \nL 73.93111 113.926084 \nL 83.675289 112.214975 \nL 93.419468 119.158232 \nL 103.163647 118.891556 \nL 112.907826 125.015802 \nL 122.652006 123.972912 \n\" clip-path=\"url(#p40292eb00a)\" style=\"fill: none; stroke: #1f77b4; stroke-width: 1.5; stroke-linecap: square\"/>\n   </g>\n   <g id=\"line2d_66\">\n    <path d=\"M 49.633125 90.089304 \nL 69.163125 99.977235 \nL 88.693125 96.840773 \nL 108.223125 96.95719 \nL 127.753125 104.553517 \n\" clip-path=\"url(#p40292eb00a)\" style=\"fill: none; stroke-dasharray: 5.55,2.4; stroke-dashoffset: 0; stroke: #ff7f0e; stroke-width: 1.5\"/>\n   </g>\n   <g id=\"line2d_67\">\n    <path d=\"M 49.633125 20.524081 \nL 69.163125 16.606267 \nL 88.693125 18.103432 \nL 108.223125 17.445799 \nL 127.753125 14.493446 \n\" clip-path=\"url(#p40292eb00a)\" style=\"fill: none; stroke-dasharray: 9.6,2.4,1.5,2.4; stroke-dashoffset: 0; stroke: #2ca02c; stroke-width: 1.5\"/>\n   </g>\n   <g id=\"line2d_68\">\n    <path d=\"M 34.954394 63.676591 \nL 44.698573 93.973277 \nL 54.442752 103.725406 \nL 64.186931 105.763609 \nL 73.93111 113.926084 \nL 83.675289 112.214975 \nL 93.419468 119.158232 \nL 103.163647 118.891556 \nL 112.907826 125.015802 \nL 122.652006 123.972912 \nL 132.396185 129.417403 \n\" clip-path=\"url(#p40292eb00a)\" style=\"fill: none; stroke: #1f77b4; stroke-width: 1.5; stroke-linecap: square\"/>\n   </g>\n   <g id=\"line2d_69\">\n    <path d=\"M 49.633125 90.089304 \nL 69.163125 99.977235 \nL 88.693125 96.840773 \nL 108.223125 96.95719 \nL 127.753125 104.553517 \n\" clip-path=\"url(#p40292eb00a)\" style=\"fill: none; stroke-dasharray: 5.55,2.4; stroke-dashoffset: 0; stroke: #ff7f0e; stroke-width: 1.5\"/>\n   </g>\n   <g id=\"line2d_70\">\n    <path d=\"M 49.633125 20.524081 \nL 69.163125 16.606267 \nL 88.693125 18.103432 \nL 108.223125 17.445799 \nL 127.753125 14.493446 \n\" clip-path=\"url(#p40292eb00a)\" style=\"fill: none; stroke-dasharray: 9.6,2.4,1.5,2.4; stroke-dashoffset: 0; stroke: #2ca02c; stroke-width: 1.5\"/>\n   </g>\n   <g id=\"line2d_71\">\n    <path d=\"M 34.954394 63.676591 \nL 44.698573 93.973277 \nL 54.442752 103.725406 \nL 64.186931 105.763609 \nL 73.93111 113.926084 \nL 83.675289 112.214975 \nL 93.419468 119.158232 \nL 103.163647 118.891556 \nL 112.907826 125.015802 \nL 122.652006 123.972912 \nL 132.396185 129.417403 \nL 142.140364 128.22516 \n\" clip-path=\"url(#p40292eb00a)\" style=\"fill: none; stroke: #1f77b4; stroke-width: 1.5; stroke-linecap: square\"/>\n   </g>\n   <g id=\"line2d_72\">\n    <path d=\"M 49.633125 90.089304 \nL 69.163125 99.977235 \nL 88.693125 96.840773 \nL 108.223125 96.95719 \nL 127.753125 104.553517 \n\" clip-path=\"url(#p40292eb00a)\" style=\"fill: none; stroke-dasharray: 5.55,2.4; stroke-dashoffset: 0; stroke: #ff7f0e; stroke-width: 1.5\"/>\n   </g>\n   <g id=\"line2d_73\">\n    <path d=\"M 49.633125 20.524081 \nL 69.163125 16.606267 \nL 88.693125 18.103432 \nL 108.223125 17.445799 \nL 127.753125 14.493446 \n\" clip-path=\"url(#p40292eb00a)\" style=\"fill: none; stroke-dasharray: 9.6,2.4,1.5,2.4; stroke-dashoffset: 0; stroke: #2ca02c; stroke-width: 1.5\"/>\n   </g>\n   <g id=\"line2d_74\">\n    <path d=\"M 34.954394 63.676591 \nL 44.698573 93.973277 \nL 54.442752 103.725406 \nL 64.186931 105.763609 \nL 73.93111 113.926084 \nL 83.675289 112.214975 \nL 93.419468 119.158232 \nL 103.163647 118.891556 \nL 112.907826 125.015802 \nL 122.652006 123.972912 \nL 132.396185 129.417403 \nL 142.140364 128.22516 \n\" clip-path=\"url(#p40292eb00a)\" style=\"fill: none; stroke: #1f77b4; stroke-width: 1.5; stroke-linecap: square\"/>\n   </g>\n   <g id=\"line2d_75\">\n    <path d=\"M 49.633125 90.089304 \nL 69.163125 99.977235 \nL 88.693125 96.840773 \nL 108.223125 96.95719 \nL 127.753125 104.553517 \nL 147.283125 101.768468 \n\" clip-path=\"url(#p40292eb00a)\" style=\"fill: none; stroke-dasharray: 5.55,2.4; stroke-dashoffset: 0; stroke: #ff7f0e; stroke-width: 1.5\"/>\n   </g>\n   <g id=\"line2d_76\">\n    <path d=\"M 49.633125 20.524081 \nL 69.163125 16.606267 \nL 88.693125 18.103432 \nL 108.223125 17.445799 \nL 127.753125 14.493446 \n\" clip-path=\"url(#p40292eb00a)\" style=\"fill: none; stroke-dasharray: 9.6,2.4,1.5,2.4; stroke-dashoffset: 0; stroke: #2ca02c; stroke-width: 1.5\"/>\n   </g>\n   <g id=\"line2d_77\">\n    <path d=\"M 34.954394 63.676591 \nL 44.698573 93.973277 \nL 54.442752 103.725406 \nL 64.186931 105.763609 \nL 73.93111 113.926084 \nL 83.675289 112.214975 \nL 93.419468 119.158232 \nL 103.163647 118.891556 \nL 112.907826 125.015802 \nL 122.652006 123.972912 \nL 132.396185 129.417403 \nL 142.140364 128.22516 \n\" clip-path=\"url(#p40292eb00a)\" style=\"fill: none; stroke: #1f77b4; stroke-width: 1.5; stroke-linecap: square\"/>\n   </g>\n   <g id=\"line2d_78\">\n    <path d=\"M 49.633125 90.089304 \nL 69.163125 99.977235 \nL 88.693125 96.840773 \nL 108.223125 96.95719 \nL 127.753125 104.553517 \nL 147.283125 101.768468 \n\" clip-path=\"url(#p40292eb00a)\" style=\"fill: none; stroke-dasharray: 5.55,2.4; stroke-dashoffset: 0; stroke: #ff7f0e; stroke-width: 1.5\"/>\n   </g>\n   <g id=\"line2d_79\">\n    <path d=\"M 49.633125 20.524081 \nL 69.163125 16.606267 \nL 88.693125 18.103432 \nL 108.223125 17.445799 \nL 127.753125 14.493446 \nL 147.283125 15.081118 \n\" clip-path=\"url(#p40292eb00a)\" style=\"fill: none; stroke-dasharray: 9.6,2.4,1.5,2.4; stroke-dashoffset: 0; stroke: #2ca02c; stroke-width: 1.5\"/>\n   </g>\n   <g id=\"line2d_80\">\n    <path d=\"M 34.954394 63.676591 \nL 44.698573 93.973277 \nL 54.442752 103.725406 \nL 64.186931 105.763609 \nL 73.93111 113.926084 \nL 83.675289 112.214975 \nL 93.419468 119.158232 \nL 103.163647 118.891556 \nL 112.907826 125.015802 \nL 122.652006 123.972912 \nL 132.396185 129.417403 \nL 142.140364 128.22516 \nL 151.884543 133.015735 \n\" clip-path=\"url(#p40292eb00a)\" style=\"fill: none; stroke: #1f77b4; stroke-width: 1.5; stroke-linecap: square\"/>\n   </g>\n   <g id=\"line2d_81\">\n    <path d=\"M 49.633125 90.089304 \nL 69.163125 99.977235 \nL 88.693125 96.840773 \nL 108.223125 96.95719 \nL 127.753125 104.553517 \nL 147.283125 101.768468 \n\" clip-path=\"url(#p40292eb00a)\" style=\"fill: none; stroke-dasharray: 5.55,2.4; stroke-dashoffset: 0; stroke: #ff7f0e; stroke-width: 1.5\"/>\n   </g>\n   <g id=\"line2d_82\">\n    <path d=\"M 49.633125 20.524081 \nL 69.163125 16.606267 \nL 88.693125 18.103432 \nL 108.223125 17.445799 \nL 127.753125 14.493446 \nL 147.283125 15.081118 \n\" clip-path=\"url(#p40292eb00a)\" style=\"fill: none; stroke-dasharray: 9.6,2.4,1.5,2.4; stroke-dashoffset: 0; stroke: #2ca02c; stroke-width: 1.5\"/>\n   </g>\n   <g id=\"line2d_83\">\n    <path d=\"M 34.954394 63.676591 \nL 44.698573 93.973277 \nL 54.442752 103.725406 \nL 64.186931 105.763609 \nL 73.93111 113.926084 \nL 83.675289 112.214975 \nL 93.419468 119.158232 \nL 103.163647 118.891556 \nL 112.907826 125.015802 \nL 122.652006 123.972912 \nL 132.396185 129.417403 \nL 142.140364 128.22516 \nL 151.884543 133.015735 \nL 161.628722 131.329526 \n\" clip-path=\"url(#p40292eb00a)\" style=\"fill: none; stroke: #1f77b4; stroke-width: 1.5; stroke-linecap: square\"/>\n   </g>\n   <g id=\"line2d_84\">\n    <path d=\"M 49.633125 90.089304 \nL 69.163125 99.977235 \nL 88.693125 96.840773 \nL 108.223125 96.95719 \nL 127.753125 104.553517 \nL 147.283125 101.768468 \n\" clip-path=\"url(#p40292eb00a)\" style=\"fill: none; stroke-dasharray: 5.55,2.4; stroke-dashoffset: 0; stroke: #ff7f0e; stroke-width: 1.5\"/>\n   </g>\n   <g id=\"line2d_85\">\n    <path d=\"M 49.633125 20.524081 \nL 69.163125 16.606267 \nL 88.693125 18.103432 \nL 108.223125 17.445799 \nL 127.753125 14.493446 \nL 147.283125 15.081118 \n\" clip-path=\"url(#p40292eb00a)\" style=\"fill: none; stroke-dasharray: 9.6,2.4,1.5,2.4; stroke-dashoffset: 0; stroke: #2ca02c; stroke-width: 1.5\"/>\n   </g>\n   <g id=\"line2d_86\">\n    <path d=\"M 34.954394 63.676591 \nL 44.698573 93.973277 \nL 54.442752 103.725406 \nL 64.186931 105.763609 \nL 73.93111 113.926084 \nL 83.675289 112.214975 \nL 93.419468 119.158232 \nL 103.163647 118.891556 \nL 112.907826 125.015802 \nL 122.652006 123.972912 \nL 132.396185 129.417403 \nL 142.140364 128.22516 \nL 151.884543 133.015735 \nL 161.628722 131.329526 \n\" clip-path=\"url(#p40292eb00a)\" style=\"fill: none; stroke: #1f77b4; stroke-width: 1.5; stroke-linecap: square\"/>\n   </g>\n   <g id=\"line2d_87\">\n    <path d=\"M 49.633125 90.089304 \nL 69.163125 99.977235 \nL 88.693125 96.840773 \nL 108.223125 96.95719 \nL 127.753125 104.553517 \nL 147.283125 101.768468 \nL 166.813125 104.793418 \n\" clip-path=\"url(#p40292eb00a)\" style=\"fill: none; stroke-dasharray: 5.55,2.4; stroke-dashoffset: 0; stroke: #ff7f0e; stroke-width: 1.5\"/>\n   </g>\n   <g id=\"line2d_88\">\n    <path d=\"M 49.633125 20.524081 \nL 69.163125 16.606267 \nL 88.693125 18.103432 \nL 108.223125 17.445799 \nL 127.753125 14.493446 \nL 147.283125 15.081118 \n\" clip-path=\"url(#p40292eb00a)\" style=\"fill: none; stroke-dasharray: 9.6,2.4,1.5,2.4; stroke-dashoffset: 0; stroke: #2ca02c; stroke-width: 1.5\"/>\n   </g>\n   <g id=\"line2d_89\">\n    <path d=\"M 34.954394 63.676591 \nL 44.698573 93.973277 \nL 54.442752 103.725406 \nL 64.186931 105.763609 \nL 73.93111 113.926084 \nL 83.675289 112.214975 \nL 93.419468 119.158232 \nL 103.163647 118.891556 \nL 112.907826 125.015802 \nL 122.652006 123.972912 \nL 132.396185 129.417403 \nL 142.140364 128.22516 \nL 151.884543 133.015735 \nL 161.628722 131.329526 \n\" clip-path=\"url(#p40292eb00a)\" style=\"fill: none; stroke: #1f77b4; stroke-width: 1.5; stroke-linecap: square\"/>\n   </g>\n   <g id=\"line2d_90\">\n    <path d=\"M 49.633125 90.089304 \nL 69.163125 99.977235 \nL 88.693125 96.840773 \nL 108.223125 96.95719 \nL 127.753125 104.553517 \nL 147.283125 101.768468 \nL 166.813125 104.793418 \n\" clip-path=\"url(#p40292eb00a)\" style=\"fill: none; stroke-dasharray: 5.55,2.4; stroke-dashoffset: 0; stroke: #ff7f0e; stroke-width: 1.5\"/>\n   </g>\n   <g id=\"line2d_91\">\n    <path d=\"M 49.633125 20.524081 \nL 69.163125 16.606267 \nL 88.693125 18.103432 \nL 108.223125 17.445799 \nL 127.753125 14.493446 \nL 147.283125 15.081118 \nL 166.813125 13.513992 \n\" clip-path=\"url(#p40292eb00a)\" style=\"fill: none; stroke-dasharray: 9.6,2.4,1.5,2.4; stroke-dashoffset: 0; stroke: #2ca02c; stroke-width: 1.5\"/>\n   </g>\n   <g id=\"line2d_92\">\n    <path d=\"M 34.954394 63.676591 \nL 44.698573 93.973277 \nL 54.442752 103.725406 \nL 64.186931 105.763609 \nL 73.93111 113.926084 \nL 83.675289 112.214975 \nL 93.419468 119.158232 \nL 103.163647 118.891556 \nL 112.907826 125.015802 \nL 122.652006 123.972912 \nL 132.396185 129.417403 \nL 142.140364 128.22516 \nL 151.884543 133.015735 \nL 161.628722 131.329526 \nL 171.372901 136.081107 \n\" clip-path=\"url(#p40292eb00a)\" style=\"fill: none; stroke: #1f77b4; stroke-width: 1.5; stroke-linecap: square\"/>\n   </g>\n   <g id=\"line2d_93\">\n    <path d=\"M 49.633125 90.089304 \nL 69.163125 99.977235 \nL 88.693125 96.840773 \nL 108.223125 96.95719 \nL 127.753125 104.553517 \nL 147.283125 101.768468 \nL 166.813125 104.793418 \n\" clip-path=\"url(#p40292eb00a)\" style=\"fill: none; stroke-dasharray: 5.55,2.4; stroke-dashoffset: 0; stroke: #ff7f0e; stroke-width: 1.5\"/>\n   </g>\n   <g id=\"line2d_94\">\n    <path d=\"M 49.633125 20.524081 \nL 69.163125 16.606267 \nL 88.693125 18.103432 \nL 108.223125 17.445799 \nL 127.753125 14.493446 \nL 147.283125 15.081118 \nL 166.813125 13.513992 \n\" clip-path=\"url(#p40292eb00a)\" style=\"fill: none; stroke-dasharray: 9.6,2.4,1.5,2.4; stroke-dashoffset: 0; stroke: #2ca02c; stroke-width: 1.5\"/>\n   </g>\n   <g id=\"line2d_95\">\n    <path d=\"M 34.954394 63.676591 \nL 44.698573 93.973277 \nL 54.442752 103.725406 \nL 64.186931 105.763609 \nL 73.93111 113.926084 \nL 83.675289 112.214975 \nL 93.419468 119.158232 \nL 103.163647 118.891556 \nL 112.907826 125.015802 \nL 122.652006 123.972912 \nL 132.396185 129.417403 \nL 142.140364 128.22516 \nL 151.884543 133.015735 \nL 161.628722 131.329526 \nL 171.372901 136.081107 \nL 181.11708 134.662669 \n\" clip-path=\"url(#p40292eb00a)\" style=\"fill: none; stroke: #1f77b4; stroke-width: 1.5; stroke-linecap: square\"/>\n   </g>\n   <g id=\"line2d_96\">\n    <path d=\"M 49.633125 90.089304 \nL 69.163125 99.977235 \nL 88.693125 96.840773 \nL 108.223125 96.95719 \nL 127.753125 104.553517 \nL 147.283125 101.768468 \nL 166.813125 104.793418 \n\" clip-path=\"url(#p40292eb00a)\" style=\"fill: none; stroke-dasharray: 5.55,2.4; stroke-dashoffset: 0; stroke: #ff7f0e; stroke-width: 1.5\"/>\n   </g>\n   <g id=\"line2d_97\">\n    <path d=\"M 49.633125 20.524081 \nL 69.163125 16.606267 \nL 88.693125 18.103432 \nL 108.223125 17.445799 \nL 127.753125 14.493446 \nL 147.283125 15.081118 \nL 166.813125 13.513992 \n\" clip-path=\"url(#p40292eb00a)\" style=\"fill: none; stroke-dasharray: 9.6,2.4,1.5,2.4; stroke-dashoffset: 0; stroke: #2ca02c; stroke-width: 1.5\"/>\n   </g>\n   <g id=\"line2d_98\">\n    <path d=\"M 34.954394 63.676591 \nL 44.698573 93.973277 \nL 54.442752 103.725406 \nL 64.186931 105.763609 \nL 73.93111 113.926084 \nL 83.675289 112.214975 \nL 93.419468 119.158232 \nL 103.163647 118.891556 \nL 112.907826 125.015802 \nL 122.652006 123.972912 \nL 132.396185 129.417403 \nL 142.140364 128.22516 \nL 151.884543 133.015735 \nL 161.628722 131.329526 \nL 171.372901 136.081107 \nL 181.11708 134.662669 \n\" clip-path=\"url(#p40292eb00a)\" style=\"fill: none; stroke: #1f77b4; stroke-width: 1.5; stroke-linecap: square\"/>\n   </g>\n   <g id=\"line2d_99\">\n    <path d=\"M 49.633125 90.089304 \nL 69.163125 99.977235 \nL 88.693125 96.840773 \nL 108.223125 96.95719 \nL 127.753125 104.553517 \nL 147.283125 101.768468 \nL 166.813125 104.793418 \nL 186.343125 103.577163 \n\" clip-path=\"url(#p40292eb00a)\" style=\"fill: none; stroke-dasharray: 5.55,2.4; stroke-dashoffset: 0; stroke: #ff7f0e; stroke-width: 1.5\"/>\n   </g>\n   <g id=\"line2d_100\">\n    <path d=\"M 49.633125 20.524081 \nL 69.163125 16.606267 \nL 88.693125 18.103432 \nL 108.223125 17.445799 \nL 127.753125 14.493446 \nL 147.283125 15.081118 \nL 166.813125 13.513992 \n\" clip-path=\"url(#p40292eb00a)\" style=\"fill: none; stroke-dasharray: 9.6,2.4,1.5,2.4; stroke-dashoffset: 0; stroke: #2ca02c; stroke-width: 1.5\"/>\n   </g>\n   <g id=\"line2d_101\">\n    <path d=\"M 34.954394 63.676591 \nL 44.698573 93.973277 \nL 54.442752 103.725406 \nL 64.186931 105.763609 \nL 73.93111 113.926084 \nL 83.675289 112.214975 \nL 93.419468 119.158232 \nL 103.163647 118.891556 \nL 112.907826 125.015802 \nL 122.652006 123.972912 \nL 132.396185 129.417403 \nL 142.140364 128.22516 \nL 151.884543 133.015735 \nL 161.628722 131.329526 \nL 171.372901 136.081107 \nL 181.11708 134.662669 \n\" clip-path=\"url(#p40292eb00a)\" style=\"fill: none; stroke: #1f77b4; stroke-width: 1.5; stroke-linecap: square\"/>\n   </g>\n   <g id=\"line2d_102\">\n    <path d=\"M 49.633125 90.089304 \nL 69.163125 99.977235 \nL 88.693125 96.840773 \nL 108.223125 96.95719 \nL 127.753125 104.553517 \nL 147.283125 101.768468 \nL 166.813125 104.793418 \nL 186.343125 103.577163 \n\" clip-path=\"url(#p40292eb00a)\" style=\"fill: none; stroke-dasharray: 5.55,2.4; stroke-dashoffset: 0; stroke: #ff7f0e; stroke-width: 1.5\"/>\n   </g>\n   <g id=\"line2d_103\">\n    <path d=\"M 49.633125 20.524081 \nL 69.163125 16.606267 \nL 88.693125 18.103432 \nL 108.223125 17.445799 \nL 127.753125 14.493446 \nL 147.283125 15.081118 \nL 166.813125 13.513992 \nL 186.343125 13.5 \n\" clip-path=\"url(#p40292eb00a)\" style=\"fill: none; stroke-dasharray: 9.6,2.4,1.5,2.4; stroke-dashoffset: 0; stroke: #2ca02c; stroke-width: 1.5\"/>\n   </g>\n   <g id=\"line2d_104\">\n    <path d=\"M 34.954394 63.676591 \nL 44.698573 93.973277 \nL 54.442752 103.725406 \nL 64.186931 105.763609 \nL 73.93111 113.926084 \nL 83.675289 112.214975 \nL 93.419468 119.158232 \nL 103.163647 118.891556 \nL 112.907826 125.015802 \nL 122.652006 123.972912 \nL 132.396185 129.417403 \nL 142.140364 128.22516 \nL 151.884543 133.015735 \nL 161.628722 131.329526 \nL 171.372901 136.081107 \nL 181.11708 134.662669 \nL 190.861259 137.600191 \n\" clip-path=\"url(#p40292eb00a)\" style=\"fill: none; stroke: #1f77b4; stroke-width: 1.5; stroke-linecap: square\"/>\n   </g>\n   <g id=\"line2d_105\">\n    <path d=\"M 49.633125 90.089304 \nL 69.163125 99.977235 \nL 88.693125 96.840773 \nL 108.223125 96.95719 \nL 127.753125 104.553517 \nL 147.283125 101.768468 \nL 166.813125 104.793418 \nL 186.343125 103.577163 \n\" clip-path=\"url(#p40292eb00a)\" style=\"fill: none; stroke-dasharray: 5.55,2.4; stroke-dashoffset: 0; stroke: #ff7f0e; stroke-width: 1.5\"/>\n   </g>\n   <g id=\"line2d_106\">\n    <path d=\"M 49.633125 20.524081 \nL 69.163125 16.606267 \nL 88.693125 18.103432 \nL 108.223125 17.445799 \nL 127.753125 14.493446 \nL 147.283125 15.081118 \nL 166.813125 13.513992 \nL 186.343125 13.5 \n\" clip-path=\"url(#p40292eb00a)\" style=\"fill: none; stroke-dasharray: 9.6,2.4,1.5,2.4; stroke-dashoffset: 0; stroke: #2ca02c; stroke-width: 1.5\"/>\n   </g>\n   <g id=\"line2d_107\">\n    <path d=\"M 34.954394 63.676591 \nL 44.698573 93.973277 \nL 54.442752 103.725406 \nL 64.186931 105.763609 \nL 73.93111 113.926084 \nL 83.675289 112.214975 \nL 93.419468 119.158232 \nL 103.163647 118.891556 \nL 112.907826 125.015802 \nL 122.652006 123.972912 \nL 132.396185 129.417403 \nL 142.140364 128.22516 \nL 151.884543 133.015735 \nL 161.628722 131.329526 \nL 171.372901 136.081107 \nL 181.11708 134.662669 \nL 190.861259 137.600191 \nL 200.605438 136.666898 \n\" clip-path=\"url(#p40292eb00a)\" style=\"fill: none; stroke: #1f77b4; stroke-width: 1.5; stroke-linecap: square\"/>\n   </g>\n   <g id=\"line2d_108\">\n    <path d=\"M 49.633125 90.089304 \nL 69.163125 99.977235 \nL 88.693125 96.840773 \nL 108.223125 96.95719 \nL 127.753125 104.553517 \nL 147.283125 101.768468 \nL 166.813125 104.793418 \nL 186.343125 103.577163 \n\" clip-path=\"url(#p40292eb00a)\" style=\"fill: none; stroke-dasharray: 5.55,2.4; stroke-dashoffset: 0; stroke: #ff7f0e; stroke-width: 1.5\"/>\n   </g>\n   <g id=\"line2d_109\">\n    <path d=\"M 49.633125 20.524081 \nL 69.163125 16.606267 \nL 88.693125 18.103432 \nL 108.223125 17.445799 \nL 127.753125 14.493446 \nL 147.283125 15.081118 \nL 166.813125 13.513992 \nL 186.343125 13.5 \n\" clip-path=\"url(#p40292eb00a)\" style=\"fill: none; stroke-dasharray: 9.6,2.4,1.5,2.4; stroke-dashoffset: 0; stroke: #2ca02c; stroke-width: 1.5\"/>\n   </g>\n   <g id=\"line2d_110\">\n    <path d=\"M 34.954394 63.676591 \nL 44.698573 93.973277 \nL 54.442752 103.725406 \nL 64.186931 105.763609 \nL 73.93111 113.926084 \nL 83.675289 112.214975 \nL 93.419468 119.158232 \nL 103.163647 118.891556 \nL 112.907826 125.015802 \nL 122.652006 123.972912 \nL 132.396185 129.417403 \nL 142.140364 128.22516 \nL 151.884543 133.015735 \nL 161.628722 131.329526 \nL 171.372901 136.081107 \nL 181.11708 134.662669 \nL 190.861259 137.600191 \nL 200.605438 136.666898 \n\" clip-path=\"url(#p40292eb00a)\" style=\"fill: none; stroke: #1f77b4; stroke-width: 1.5; stroke-linecap: square\"/>\n   </g>\n   <g id=\"line2d_111\">\n    <path d=\"M 49.633125 90.089304 \nL 69.163125 99.977235 \nL 88.693125 96.840773 \nL 108.223125 96.95719 \nL 127.753125 104.553517 \nL 147.283125 101.768468 \nL 166.813125 104.793418 \nL 186.343125 103.577163 \nL 205.873125 91.431165 \n\" clip-path=\"url(#p40292eb00a)\" style=\"fill: none; stroke-dasharray: 5.55,2.4; stroke-dashoffset: 0; stroke: #ff7f0e; stroke-width: 1.5\"/>\n   </g>\n   <g id=\"line2d_112\">\n    <path d=\"M 49.633125 20.524081 \nL 69.163125 16.606267 \nL 88.693125 18.103432 \nL 108.223125 17.445799 \nL 127.753125 14.493446 \nL 147.283125 15.081118 \nL 166.813125 13.513992 \nL 186.343125 13.5 \n\" clip-path=\"url(#p40292eb00a)\" style=\"fill: none; stroke-dasharray: 9.6,2.4,1.5,2.4; stroke-dashoffset: 0; stroke: #2ca02c; stroke-width: 1.5\"/>\n   </g>\n   <g id=\"line2d_113\">\n    <path d=\"M 34.954394 63.676591 \nL 44.698573 93.973277 \nL 54.442752 103.725406 \nL 64.186931 105.763609 \nL 73.93111 113.926084 \nL 83.675289 112.214975 \nL 93.419468 119.158232 \nL 103.163647 118.891556 \nL 112.907826 125.015802 \nL 122.652006 123.972912 \nL 132.396185 129.417403 \nL 142.140364 128.22516 \nL 151.884543 133.015735 \nL 161.628722 131.329526 \nL 171.372901 136.081107 \nL 181.11708 134.662669 \nL 190.861259 137.600191 \nL 200.605438 136.666898 \n\" clip-path=\"url(#p40292eb00a)\" style=\"fill: none; stroke: #1f77b4; stroke-width: 1.5; stroke-linecap: square\"/>\n   </g>\n   <g id=\"line2d_114\">\n    <path d=\"M 49.633125 90.089304 \nL 69.163125 99.977235 \nL 88.693125 96.840773 \nL 108.223125 96.95719 \nL 127.753125 104.553517 \nL 147.283125 101.768468 \nL 166.813125 104.793418 \nL 186.343125 103.577163 \nL 205.873125 91.431165 \n\" clip-path=\"url(#p40292eb00a)\" style=\"fill: none; stroke-dasharray: 5.55,2.4; stroke-dashoffset: 0; stroke: #ff7f0e; stroke-width: 1.5\"/>\n   </g>\n   <g id=\"line2d_115\">\n    <path d=\"M 49.633125 20.524081 \nL 69.163125 16.606267 \nL 88.693125 18.103432 \nL 108.223125 17.445799 \nL 127.753125 14.493446 \nL 147.283125 15.081118 \nL 166.813125 13.513992 \nL 186.343125 13.5 \nL 205.873125 15.836696 \n\" clip-path=\"url(#p40292eb00a)\" style=\"fill: none; stroke-dasharray: 9.6,2.4,1.5,2.4; stroke-dashoffset: 0; stroke: #2ca02c; stroke-width: 1.5\"/>\n   </g>\n   <g id=\"line2d_116\">\n    <path d=\"M 34.954394 63.676591 \nL 44.698573 93.973277 \nL 54.442752 103.725406 \nL 64.186931 105.763609 \nL 73.93111 113.926084 \nL 83.675289 112.214975 \nL 93.419468 119.158232 \nL 103.163647 118.891556 \nL 112.907826 125.015802 \nL 122.652006 123.972912 \nL 132.396185 129.417403 \nL 142.140364 128.22516 \nL 151.884543 133.015735 \nL 161.628722 131.329526 \nL 171.372901 136.081107 \nL 181.11708 134.662669 \nL 190.861259 137.600191 \nL 200.605438 136.666898 \nL 210.349618 139.5 \n\" clip-path=\"url(#p40292eb00a)\" style=\"fill: none; stroke: #1f77b4; stroke-width: 1.5; stroke-linecap: square\"/>\n   </g>\n   <g id=\"line2d_117\">\n    <path d=\"M 49.633125 90.089304 \nL 69.163125 99.977235 \nL 88.693125 96.840773 \nL 108.223125 96.95719 \nL 127.753125 104.553517 \nL 147.283125 101.768468 \nL 166.813125 104.793418 \nL 186.343125 103.577163 \nL 205.873125 91.431165 \n\" clip-path=\"url(#p40292eb00a)\" style=\"fill: none; stroke-dasharray: 5.55,2.4; stroke-dashoffset: 0; stroke: #ff7f0e; stroke-width: 1.5\"/>\n   </g>\n   <g id=\"line2d_118\">\n    <path d=\"M 49.633125 20.524081 \nL 69.163125 16.606267 \nL 88.693125 18.103432 \nL 108.223125 17.445799 \nL 127.753125 14.493446 \nL 147.283125 15.081118 \nL 166.813125 13.513992 \nL 186.343125 13.5 \nL 205.873125 15.836696 \n\" clip-path=\"url(#p40292eb00a)\" style=\"fill: none; stroke-dasharray: 9.6,2.4,1.5,2.4; stroke-dashoffset: 0; stroke: #2ca02c; stroke-width: 1.5\"/>\n   </g>\n   <g id=\"line2d_119\">\n    <path d=\"M 34.954394 63.676591 \nL 44.698573 93.973277 \nL 54.442752 103.725406 \nL 64.186931 105.763609 \nL 73.93111 113.926084 \nL 83.675289 112.214975 \nL 93.419468 119.158232 \nL 103.163647 118.891556 \nL 112.907826 125.015802 \nL 122.652006 123.972912 \nL 132.396185 129.417403 \nL 142.140364 128.22516 \nL 151.884543 133.015735 \nL 161.628722 131.329526 \nL 171.372901 136.081107 \nL 181.11708 134.662669 \nL 190.861259 137.600191 \nL 200.605438 136.666898 \nL 210.349618 139.5 \nL 220.093797 138.980251 \n\" clip-path=\"url(#p40292eb00a)\" style=\"fill: none; stroke: #1f77b4; stroke-width: 1.5; stroke-linecap: square\"/>\n   </g>\n   <g id=\"line2d_120\">\n    <path d=\"M 49.633125 90.089304 \nL 69.163125 99.977235 \nL 88.693125 96.840773 \nL 108.223125 96.95719 \nL 127.753125 104.553517 \nL 147.283125 101.768468 \nL 166.813125 104.793418 \nL 186.343125 103.577163 \nL 205.873125 91.431165 \n\" clip-path=\"url(#p40292eb00a)\" style=\"fill: none; stroke-dasharray: 5.55,2.4; stroke-dashoffset: 0; stroke: #ff7f0e; stroke-width: 1.5\"/>\n   </g>\n   <g id=\"line2d_121\">\n    <path d=\"M 49.633125 20.524081 \nL 69.163125 16.606267 \nL 88.693125 18.103432 \nL 108.223125 17.445799 \nL 127.753125 14.493446 \nL 147.283125 15.081118 \nL 166.813125 13.513992 \nL 186.343125 13.5 \nL 205.873125 15.836696 \n\" clip-path=\"url(#p40292eb00a)\" style=\"fill: none; stroke-dasharray: 9.6,2.4,1.5,2.4; stroke-dashoffset: 0; stroke: #2ca02c; stroke-width: 1.5\"/>\n   </g>\n   <g id=\"line2d_122\">\n    <path d=\"M 34.954394 63.676591 \nL 44.698573 93.973277 \nL 54.442752 103.725406 \nL 64.186931 105.763609 \nL 73.93111 113.926084 \nL 83.675289 112.214975 \nL 93.419468 119.158232 \nL 103.163647 118.891556 \nL 112.907826 125.015802 \nL 122.652006 123.972912 \nL 132.396185 129.417403 \nL 142.140364 128.22516 \nL 151.884543 133.015735 \nL 161.628722 131.329526 \nL 171.372901 136.081107 \nL 181.11708 134.662669 \nL 190.861259 137.600191 \nL 200.605438 136.666898 \nL 210.349618 139.5 \nL 220.093797 138.980251 \n\" clip-path=\"url(#p40292eb00a)\" style=\"fill: none; stroke: #1f77b4; stroke-width: 1.5; stroke-linecap: square\"/>\n   </g>\n   <g id=\"line2d_123\">\n    <path d=\"M 49.633125 90.089304 \nL 69.163125 99.977235 \nL 88.693125 96.840773 \nL 108.223125 96.95719 \nL 127.753125 104.553517 \nL 147.283125 101.768468 \nL 166.813125 104.793418 \nL 186.343125 103.577163 \nL 205.873125 91.431165 \nL 225.403125 94.70751 \n\" clip-path=\"url(#p40292eb00a)\" style=\"fill: none; stroke-dasharray: 5.55,2.4; stroke-dashoffset: 0; stroke: #ff7f0e; stroke-width: 1.5\"/>\n   </g>\n   <g id=\"line2d_124\">\n    <path d=\"M 49.633125 20.524081 \nL 69.163125 16.606267 \nL 88.693125 18.103432 \nL 108.223125 17.445799 \nL 127.753125 14.493446 \nL 147.283125 15.081118 \nL 166.813125 13.513992 \nL 186.343125 13.5 \nL 205.873125 15.836696 \n\" clip-path=\"url(#p40292eb00a)\" style=\"fill: none; stroke-dasharray: 9.6,2.4,1.5,2.4; stroke-dashoffset: 0; stroke: #2ca02c; stroke-width: 1.5\"/>\n   </g>\n   <g id=\"line2d_125\">\n    <path d=\"M 34.954394 63.676591 \nL 44.698573 93.973277 \nL 54.442752 103.725406 \nL 64.186931 105.763609 \nL 73.93111 113.926084 \nL 83.675289 112.214975 \nL 93.419468 119.158232 \nL 103.163647 118.891556 \nL 112.907826 125.015802 \nL 122.652006 123.972912 \nL 132.396185 129.417403 \nL 142.140364 128.22516 \nL 151.884543 133.015735 \nL 161.628722 131.329526 \nL 171.372901 136.081107 \nL 181.11708 134.662669 \nL 190.861259 137.600191 \nL 200.605438 136.666898 \nL 210.349618 139.5 \nL 220.093797 138.980251 \n\" clip-path=\"url(#p40292eb00a)\" style=\"fill: none; stroke: #1f77b4; stroke-width: 1.5; stroke-linecap: square\"/>\n   </g>\n   <g id=\"line2d_126\">\n    <path d=\"M 49.633125 90.089304 \nL 69.163125 99.977235 \nL 88.693125 96.840773 \nL 108.223125 96.95719 \nL 127.753125 104.553517 \nL 147.283125 101.768468 \nL 166.813125 104.793418 \nL 186.343125 103.577163 \nL 205.873125 91.431165 \nL 225.403125 94.70751 \n\" clip-path=\"url(#p40292eb00a)\" style=\"fill: none; stroke-dasharray: 5.55,2.4; stroke-dashoffset: 0; stroke: #ff7f0e; stroke-width: 1.5\"/>\n   </g>\n   <g id=\"line2d_127\">\n    <path d=\"M 49.633125 20.524081 \nL 69.163125 16.606267 \nL 88.693125 18.103432 \nL 108.223125 17.445799 \nL 127.753125 14.493446 \nL 147.283125 15.081118 \nL 166.813125 13.513992 \nL 186.343125 13.5 \nL 205.873125 15.836696 \nL 225.403125 14.031703 \n\" clip-path=\"url(#p40292eb00a)\" style=\"fill: none; stroke-dasharray: 9.6,2.4,1.5,2.4; stroke-dashoffset: 0; stroke: #2ca02c; stroke-width: 1.5\"/>\n   </g>\n   <g id=\"patch_3\">\n    <path d=\"M 30.103125 145.8 \nL 30.103125 7.2 \n\" style=\"fill: none; stroke: #000000; stroke-width: 0.8; stroke-linejoin: miter; stroke-linecap: square\"/>\n   </g>\n   <g id=\"patch_4\">\n    <path d=\"M 225.403125 145.8 \nL 225.403125 7.2 \n\" style=\"fill: none; stroke: #000000; stroke-width: 0.8; stroke-linejoin: miter; stroke-linecap: square\"/>\n   </g>\n   <g id=\"patch_5\">\n    <path d=\"M 30.103125 145.8 \nL 225.403125 145.8 \n\" style=\"fill: none; stroke: #000000; stroke-width: 0.8; stroke-linejoin: miter; stroke-linecap: square\"/>\n   </g>\n   <g id=\"patch_6\">\n    <path d=\"M 30.103125 7.2 \nL 225.403125 7.2 \n\" style=\"fill: none; stroke: #000000; stroke-width: 0.8; stroke-linejoin: miter; stroke-linecap: square\"/>\n   </g>\n   <g id=\"legend_1\">\n    <g id=\"patch_7\">\n     <path d=\"M 138.8125 100.434375 \nL 218.403125 100.434375 \nQ 220.403125 100.434375 220.403125 98.434375 \nL 220.403125 54.565625 \nQ 220.403125 52.565625 218.403125 52.565625 \nL 138.8125 52.565625 \nQ 136.8125 52.565625 136.8125 54.565625 \nL 136.8125 98.434375 \nQ 136.8125 100.434375 138.8125 100.434375 \nz\n\" style=\"fill: #ffffff; opacity: 0.8; stroke: #cccccc; stroke-linejoin: miter\"/>\n    </g>\n    <g id=\"line2d_128\">\n     <path d=\"M 140.8125 60.664063 \nL 150.8125 60.664063 \nL 160.8125 60.664063 \n\" style=\"fill: none; stroke: #1f77b4; stroke-width: 1.5; stroke-linecap: square\"/>\n    </g>\n    <g id=\"text_13\">\n     <!-- train_loss -->\n     <g transform=\"translate(168.8125 64.164063) scale(0.1 -0.1)\">\n      <defs>\n       <path id=\"DejaVuSans-74\" d=\"M 1172 4494 \nL 1172 3500 \nL 2356 3500 \nL 2356 3053 \nL 1172 3053 \nL 1172 1153 \nQ 1172 725 1289 603 \nQ 1406 481 1766 481 \nL 2356 481 \nL 2356 0 \nL 1766 0 \nQ 1100 0 847 248 \nQ 594 497 594 1153 \nL 594 3053 \nL 172 3053 \nL 172 3500 \nL 594 3500 \nL 594 4494 \nL 1172 4494 \nz\n\" transform=\"scale(0.015625)\"/>\n       <path id=\"DejaVuSans-72\" d=\"M 2631 2963 \nQ 2534 3019 2420 3045 \nQ 2306 3072 2169 3072 \nQ 1681 3072 1420 2755 \nQ 1159 2438 1159 1844 \nL 1159 0 \nL 581 0 \nL 581 3500 \nL 1159 3500 \nL 1159 2956 \nQ 1341 3275 1631 3429 \nQ 1922 3584 2338 3584 \nQ 2397 3584 2469 3576 \nQ 2541 3569 2628 3553 \nL 2631 2963 \nz\n\" transform=\"scale(0.015625)\"/>\n       <path id=\"DejaVuSans-61\" d=\"M 2194 1759 \nQ 1497 1759 1228 1600 \nQ 959 1441 959 1056 \nQ 959 750 1161 570 \nQ 1363 391 1709 391 \nQ 2188 391 2477 730 \nQ 2766 1069 2766 1631 \nL 2766 1759 \nL 2194 1759 \nz\nM 3341 1997 \nL 3341 0 \nL 2766 0 \nL 2766 531 \nQ 2569 213 2275 61 \nQ 1981 -91 1556 -91 \nQ 1019 -91 701 211 \nQ 384 513 384 1019 \nQ 384 1609 779 1909 \nQ 1175 2209 1959 2209 \nL 2766 2209 \nL 2766 2266 \nQ 2766 2663 2505 2880 \nQ 2244 3097 1772 3097 \nQ 1472 3097 1187 3025 \nQ 903 2953 641 2809 \nL 641 3341 \nQ 956 3463 1253 3523 \nQ 1550 3584 1831 3584 \nQ 2591 3584 2966 3190 \nQ 3341 2797 3341 1997 \nz\n\" transform=\"scale(0.015625)\"/>\n       <path id=\"DejaVuSans-69\" d=\"M 603 3500 \nL 1178 3500 \nL 1178 0 \nL 603 0 \nL 603 3500 \nz\nM 603 4863 \nL 1178 4863 \nL 1178 4134 \nL 603 4134 \nL 603 4863 \nz\n\" transform=\"scale(0.015625)\"/>\n       <path id=\"DejaVuSans-6e\" d=\"M 3513 2113 \nL 3513 0 \nL 2938 0 \nL 2938 2094 \nQ 2938 2591 2744 2837 \nQ 2550 3084 2163 3084 \nQ 1697 3084 1428 2787 \nQ 1159 2491 1159 1978 \nL 1159 0 \nL 581 0 \nL 581 3500 \nL 1159 3500 \nL 1159 2956 \nQ 1366 3272 1645 3428 \nQ 1925 3584 2291 3584 \nQ 2894 3584 3203 3211 \nQ 3513 2838 3513 2113 \nz\n\" transform=\"scale(0.015625)\"/>\n       <path id=\"DejaVuSans-5f\" d=\"M 3263 -1063 \nL 3263 -1509 \nL -63 -1509 \nL -63 -1063 \nL 3263 -1063 \nz\n\" transform=\"scale(0.015625)\"/>\n       <path id=\"DejaVuSans-6c\" d=\"M 603 4863 \nL 1178 4863 \nL 1178 0 \nL 603 0 \nL 603 4863 \nz\n\" transform=\"scale(0.015625)\"/>\n       <path id=\"DejaVuSans-73\" d=\"M 2834 3397 \nL 2834 2853 \nQ 2591 2978 2328 3040 \nQ 2066 3103 1784 3103 \nQ 1356 3103 1142 2972 \nQ 928 2841 928 2578 \nQ 928 2378 1081 2264 \nQ 1234 2150 1697 2047 \nL 1894 2003 \nQ 2506 1872 2764 1633 \nQ 3022 1394 3022 966 \nQ 3022 478 2636 193 \nQ 2250 -91 1575 -91 \nQ 1294 -91 989 -36 \nQ 684 19 347 128 \nL 347 722 \nQ 666 556 975 473 \nQ 1284 391 1588 391 \nQ 1994 391 2212 530 \nQ 2431 669 2431 922 \nQ 2431 1156 2273 1281 \nQ 2116 1406 1581 1522 \nL 1381 1569 \nQ 847 1681 609 1914 \nQ 372 2147 372 2553 \nQ 372 3047 722 3315 \nQ 1072 3584 1716 3584 \nQ 2034 3584 2315 3537 \nQ 2597 3491 2834 3397 \nz\n\" transform=\"scale(0.015625)\"/>\n      </defs>\n      <use xlink:href=\"#DejaVuSans-74\"/>\n      <use xlink:href=\"#DejaVuSans-72\" x=\"39.208984\"/>\n      <use xlink:href=\"#DejaVuSans-61\" x=\"80.322266\"/>\n      <use xlink:href=\"#DejaVuSans-69\" x=\"141.601562\"/>\n      <use xlink:href=\"#DejaVuSans-6e\" x=\"169.384766\"/>\n      <use xlink:href=\"#DejaVuSans-5f\" x=\"232.763672\"/>\n      <use xlink:href=\"#DejaVuSans-6c\" x=\"282.763672\"/>\n      <use xlink:href=\"#DejaVuSans-6f\" x=\"310.546875\"/>\n      <use xlink:href=\"#DejaVuSans-73\" x=\"371.728516\"/>\n      <use xlink:href=\"#DejaVuSans-73\" x=\"423.828125\"/>\n     </g>\n    </g>\n    <g id=\"line2d_129\">\n     <path d=\"M 140.8125 75.620313 \nL 150.8125 75.620313 \nL 160.8125 75.620313 \n\" style=\"fill: none; stroke-dasharray: 5.55,2.4; stroke-dashoffset: 0; stroke: #ff7f0e; stroke-width: 1.5\"/>\n    </g>\n    <g id=\"text_14\">\n     <!-- val_loss -->\n     <g transform=\"translate(168.8125 79.120313) scale(0.1 -0.1)\">\n      <defs>\n       <path id=\"DejaVuSans-76\" d=\"M 191 3500 \nL 800 3500 \nL 1894 563 \nL 2988 3500 \nL 3597 3500 \nL 2284 0 \nL 1503 0 \nL 191 3500 \nz\n\" transform=\"scale(0.015625)\"/>\n      </defs>\n      <use xlink:href=\"#DejaVuSans-76\"/>\n      <use xlink:href=\"#DejaVuSans-61\" x=\"59.179688\"/>\n      <use xlink:href=\"#DejaVuSans-6c\" x=\"120.458984\"/>\n      <use xlink:href=\"#DejaVuSans-5f\" x=\"148.242188\"/>\n      <use xlink:href=\"#DejaVuSans-6c\" x=\"198.242188\"/>\n      <use xlink:href=\"#DejaVuSans-6f\" x=\"226.025391\"/>\n      <use xlink:href=\"#DejaVuSans-73\" x=\"287.207031\"/>\n      <use xlink:href=\"#DejaVuSans-73\" x=\"339.306641\"/>\n     </g>\n    </g>\n    <g id=\"line2d_130\">\n     <path d=\"M 140.8125 90.576563 \nL 150.8125 90.576563 \nL 160.8125 90.576563 \n\" style=\"fill: none; stroke-dasharray: 9.6,2.4,1.5,2.4; stroke-dashoffset: 0; stroke: #2ca02c; stroke-width: 1.5\"/>\n    </g>\n    <g id=\"text_15\">\n     <!-- val_acc -->\n     <g transform=\"translate(168.8125 94.076563) scale(0.1 -0.1)\">\n      <use xlink:href=\"#DejaVuSans-76\"/>\n      <use xlink:href=\"#DejaVuSans-61\" x=\"59.179688\"/>\n      <use xlink:href=\"#DejaVuSans-6c\" x=\"120.458984\"/>\n      <use xlink:href=\"#DejaVuSans-5f\" x=\"148.242188\"/>\n      <use xlink:href=\"#DejaVuSans-61\" x=\"198.242188\"/>\n      <use xlink:href=\"#DejaVuSans-63\" x=\"259.521484\"/>\n      <use xlink:href=\"#DejaVuSans-63\" x=\"314.501953\"/>\n     </g>\n    </g>\n   </g>\n  </g>\n </g>\n <defs>\n  <clipPath id=\"p40292eb00a\">\n   <rect x=\"30.103125\" y=\"7.2\" width=\"195.3\" height=\"138.6\"/>\n  </clipPath>\n </defs>\n</svg>\n"
          },
          "metadata": {}
        }
      ],
      "source": [
        "model = ResNet18(lr=0.01)\n",
        "trainer = d2l.Trainer(max_epochs=10, num_gpus=1)\n",
        "data = d2l.FashionMNIST(batch_size=128, resize=(96, 96))\n",
        "model.apply_init([next(iter(data.get_dataloader(True)))[0]], d2l.init_cnn)\n",
        "trainer.fit(model, data)"
      ]
    },
    {
      "cell_type": "code",
      "execution_count": null,
      "metadata": {
        "execution": {
          "iopub.execute_input": "2023-08-18T19:53:34.757842Z",
          "iopub.status.busy": "2023-08-18T19:53:34.757550Z",
          "iopub.status.idle": "2023-08-18T19:53:34.767922Z",
          "shell.execute_reply": "2023-08-18T19:53:34.766805Z"
        },
        "origin_pos": 40,
        "tab": [
          "pytorch"
        ],
        "id": "aa67ceaf"
      },
      "outputs": [],
      "source": [
        "class ResNeXtBlock(nn.Module):  #@save\n",
        "    \"\"\"The ResNeXt block.\"\"\"\n",
        "    def __init__(self, num_channels, groups, bot_mul, use_1x1conv=False,\n",
        "                 strides=1):\n",
        "        super().__init__()\n",
        "        bot_channels = int(round(num_channels * bot_mul))\n",
        "        self.conv1 = nn.LazyConv2d(bot_channels, kernel_size=1, stride=1)\n",
        "        self.conv2 = nn.LazyConv2d(bot_channels, kernel_size=3,\n",
        "                                   stride=strides, padding=1,\n",
        "                                   groups=bot_channels//groups)\n",
        "        self.conv3 = nn.LazyConv2d(num_channels, kernel_size=1, stride=1)\n",
        "        self.bn1 = nn.LazyBatchNorm2d()\n",
        "        self.bn2 = nn.LazyBatchNorm2d()\n",
        "        self.bn3 = nn.LazyBatchNorm2d()\n",
        "        if use_1x1conv:\n",
        "            self.conv4 = nn.LazyConv2d(num_channels, kernel_size=1,\n",
        "                                       stride=strides)\n",
        "            self.bn4 = nn.LazyBatchNorm2d()\n",
        "        else:\n",
        "            self.conv4 = None\n",
        "\n",
        "    def forward(self, X):\n",
        "        Y = F.relu(self.bn1(self.conv1(X)))\n",
        "        Y = F.relu(self.bn2(self.conv2(Y)))\n",
        "        Y = self.bn3(self.conv3(Y))\n",
        "        if self.conv4:\n",
        "            X = self.bn4(self.conv4(X))\n",
        "        return F.relu(Y + X)"
      ]
    },
    {
      "cell_type": "code",
      "execution_count": null,
      "metadata": {
        "execution": {
          "iopub.execute_input": "2023-08-18T19:53:34.771844Z",
          "iopub.status.busy": "2023-08-18T19:53:34.771565Z",
          "iopub.status.idle": "2023-08-18T19:53:34.803609Z",
          "shell.execute_reply": "2023-08-18T19:53:34.802407Z"
        },
        "origin_pos": 44,
        "tab": [
          "pytorch"
        ],
        "id": "ec6906e4",
        "outputId": "f148227e-4889-4845-87c0-e3286686e75a",
        "colab": {
          "base_uri": "https://localhost:8080/"
        }
      },
      "outputs": [
        {
          "output_type": "execute_result",
          "data": {
            "text/plain": [
              "torch.Size([4, 32, 96, 96])"
            ]
          },
          "metadata": {},
          "execution_count": 52
        }
      ],
      "source": [
        "blk = ResNeXtBlock(32, 16, 1)\n",
        "X = torch.randn(4, 32, 96, 96)\n",
        "blk(X).shape"
      ]
    },
    {
      "cell_type": "markdown",
      "metadata": {
        "origin_pos": 47,
        "id": "94a2283f"
      },
      "source": [
        "## Summary and Discussion\n",
        "\n",
        "Nested function classes are desirable since they allow us to obtain strictly *more powerful* rather than also subtly *different* function classes when adding capacity. One way of accomplishing this is by letting additional layers to simply pass through the input to the output. Residual connections allow for this. As a consequence, this changes the inductive bias from simple functions being of the form $f(\\mathbf{x}) = 0$ to simple functions looking like $f(\\mathbf{x}) = \\mathbf{x}$.\n",
        "\n",
        "\n",
        "The residual mapping can learn the identity function more easily, such as pushing parameters in the weight layer to zero. We can train an effective *deep* neural network by having residual blocks. Inputs can forward propagate faster through the residual connections across layers. As a consequence, we can thus train much deeper networks. For instance, the original ResNet paper :cite:`He.Zhang.Ren.ea.2016` allowed for up to 152 layers. Another benefit of residual networks is that it allows us to add layers, initialized as the identity function, *during* the training process. After all, the default behavior of a layer is to let the data pass through unchanged. This can accelerate the training of very large networks in some cases.\n",
        "\n",
        "Prior to residual connections,\n",
        "bypassing paths with gating units were introduced\n",
        "to effectively train highway networks with over 100 layers\n",
        ":cite:`srivastava2015highway`.\n",
        "Using identity functions as bypassing paths,\n",
        "ResNet performed remarkably well\n",
        "on multiple computer vision tasks.\n",
        "Residual connections had a major influence on the design of subsequent deep neural networks, of either convolutional or sequential nature.\n",
        "As we will introduce later,\n",
        "the Transformer architecture :cite:`Vaswani.Shazeer.Parmar.ea.2017`\n",
        "adopts residual connections (together with other design choices) and is pervasive\n",
        "in areas as diverse as\n",
        "language, vision, speech, and reinforcement learning.\n",
        "\n",
        "ResNeXt is an example for how the design of convolutional neural networks has evolved over time: by being more frugal with computation and trading it off against the size of the activations (number of channels), it allows for faster and more accurate networks at lower cost. An alternative way of viewing grouped convolutions is to think of a block-diagonal matrix for the convolutional weights. Note that there are quite a few such \"tricks\" that lead to more efficient networks. For instance, ShiftNet :cite:`wu2018shift` mimicks the effects of a $3 \\times 3$ convolution, simply by adding shifted activations to the channels, offering increased function complexity, this time without any computational cost.\n",
        "\n",
        "A common feature of the designs we have discussed so far is that the network design is fairly manual, primarily relying on the ingenuity of the designer to find the \"right\" network hyperparameters. While clearly feasible, it is also very costly in terms of human time and there is no guarantee that the outcome is optimal in any sense. In :numref:`sec_cnn-design` we will discuss a number of strategies for obtaining high quality networks in a more automated fashion. In particular, we will review the notion of *network design spaces* that led to the RegNetX/Y models\n",
        ":cite:`Radosavovic.Kosaraju.Girshick.ea.2020`.\n",
        "\n",
        "## Exercises\n",
        "\n",
        "1. What are the major differences between the Inception block in :numref:`fig_inception` and the residual block? How do they compare in terms of computation, accuracy, and the classes of functions they can describe?\n",
        "1. Refer to Table 1 in the ResNet paper :cite:`He.Zhang.Ren.ea.2016` to implement different variants of the network.\n",
        "1. For deeper networks, ResNet introduces a \"bottleneck\" architecture to reduce model complexity. Try to implement it.\n",
        "1. In subsequent versions of ResNet, the authors changed the \"convolution, batch normalization, and activation\" structure to the \"batch normalization, activation, and convolution\" structure. Make this improvement yourself. See Figure 1 in :citet:`He.Zhang.Ren.ea.2016*1` for details.\n",
        "1. Why can't we just increase the complexity of functions without bound, even if the function classes are nested?\n"
      ]
    },
    {
      "cell_type": "markdown",
      "source": [
        "##Jawaban"
      ],
      "metadata": {
        "id": "6WRpTk60gc3K"
      }
    },
    {
      "cell_type": "markdown",
      "source": [
        "###1."
      ],
      "metadata": {
        "id": "OShpiCttcMsT"
      }
    },
    {
      "cell_type": "markdown",
      "source": [
        "Inception Block\n",
        "- Struktur: Menggunakan beberapa lapisan konvolusi dengan ukuran kernel yang berbeda (misalnya, 1×1, 3×3, 5×5) secara paralel. Output dikonsolidasikan, memungkinkan jaringan untuk menangkap fitur multi-skala.\n",
        "- Komputasi: Lebih mahal secara komputasi karena konvolusi paralel dengan ukuran yang berbeda dan kebutuhan untuk menggabungkan hasilnya.\n",
        "- Akurasi: Umumnya akurasi yang lebih tinggi untuk tugas klasifikasi gambar, karena fitur multi-skala memberikan jaringan lebih banyak kapasitas untuk mengekstrak fitur yang beragam.\n",
        "- Kelas Fungsi: Dapat menggambarkan berbagai fungsi karena kemampuannya untuk menangkap fitur pada skala yang berbeda dalam blok yang sama.\n",
        "\n",
        "Residual Block\n",
        "- Struktur: Menambahkan koneksi shortcut (identitas) yang melewati satu atau lebih lapisan, memungkinkan jaringan untuk mempelajari fungsi residual.\n",
        "- Komputasi: Lebih murah secara komputasi dibandingkan dengan blok Inception, karena koneksi shortcut memungkinkan informasi untuk melewati lapisan tertentu, mengurangi beban pada lapisan jaringan yang lebih dalam.\n",
        "- Akurasi: Blok residual berkinerja baik, terutama untuk jaringan yang dalam, karena mengurangi masalah gradien yang menghilang dan memungkinkan pelatihan model yang sangat dalam secara efisien.\n",
        "- Kelas Fungsi: Koneksi identitas memastikan bahwa fungsi yang lebih sederhana (seperti f(x)=x) merupakan bagian dari kelas fungsi, membuat jaringan kuat untuk melatih arsitektur yang lebih dalam."
      ],
      "metadata": {
        "id": "eDGeAEZvjOGo"
      }
    },
    {
      "cell_type": "markdown",
      "source": [
        "###2."
      ],
      "metadata": {
        "id": "ftpniYX2cMsU"
      }
    },
    {
      "cell_type": "code",
      "source": [
        "import torch\n",
        "import torch.nn as nn\n",
        "\n",
        "class BasicBlock(nn.Module):\n",
        "    def __init__(self, in_channels, out_channels, stride=1):\n",
        "        super(BasicBlock, self).__init__()\n",
        "        self.conv1 = nn.Conv2d(in_channels, out_channels, kernel_size=3, stride=stride, padding=1, bias=False)\n",
        "        self.bn1 = nn.BatchNorm2d(out_channels)\n",
        "        self.relu = nn.ReLU(inplace=True)\n",
        "        self.conv2 = nn.Conv2d(out_channels, out_channels, kernel_size=3, stride=1, padding=1, bias=False)\n",
        "        self.bn2 = nn.BatchNorm2d(out_channels)\n",
        "\n",
        "        self.shortcut = nn.Sequential()\n",
        "        if stride != 1 or in_channels != out_channels:\n",
        "            self.shortcut = nn.Sequential(\n",
        "                nn.Conv2d(in_channels, out_channels, kernel_size=1, stride=stride, bias=False),\n",
        "                nn.BatchNorm2d(out_channels)\n",
        "            )\n",
        "\n",
        "    def forward(self, x):\n",
        "        out = self.relu(self.bn1(self.conv1(x)))\n",
        "        out = self.bn2(self.conv2(out))\n",
        "        out += self.shortcut(x)\n",
        "        out = self.relu(out)\n",
        "        return out\n",
        "\n",
        "class ResNet(nn.Module):\n",
        "    def __init__(self, block, num_blocks, num_classes=1000):\n",
        "        super(ResNet, self).__init__()\n",
        "        self.in_channels = 64\n",
        "        self.conv1 = nn.Conv2d(3, 64, kernel_size=7, stride=2, padding=3, bias=False)\n",
        "        self.bn1 = nn.BatchNorm2d(64)\n",
        "        self.relu = nn.ReLU(inplace=True)\n",
        "        self.layer1 = self._make_layer(block, 64, num_blocks[0], stride=1)\n",
        "        self.layer2 = self._make_layer(block, 128, num_blocks[1], stride=2)\n",
        "        self.layer3 = self._make_layer(block, 256, num_blocks[2], stride=2)\n",
        "        self.layer4 = self._make_layer(block, 512, num_blocks[3], stride=2)\n",
        "        self.avgpool = nn.AdaptiveAvgPool2d((1, 1))\n",
        "        self.fc = nn.Linear(512, num_classes)\n",
        "\n",
        "    def _make_layer(self, block, out_channels, num_blocks, stride):\n",
        "        strides = [stride] + [1]*(num_blocks-1)\n",
        "        layers = []\n",
        "        for stride in strides:\n",
        "            layers.append(block(self.in_channels, out_channels, stride))\n",
        "            self.in_channels = out_channels\n",
        "        return nn.Sequential(*layers)\n",
        "\n",
        "    def forward(self, x):\n",
        "        x = self.relu(self.bn1(self.conv1(x)))\n",
        "        x = self.layer1(x)\n",
        "        x = self.layer2(x)\n",
        "        x = self.layer3(x)\n",
        "        x = self.layer4(x)\n",
        "        x = self.avgpool(x)\n",
        "        x = torch.flatten(x, 1)\n",
        "        x = self.fc(x)\n",
        "        return x\n",
        "\n",
        "# Instantiate the ResNet variants\n",
        "def ResNet18():\n",
        "    return ResNet(BasicBlock, [2, 2, 2, 2])\n",
        "\n",
        "def ResNet34():\n",
        "    return ResNet(BasicBlock, [3, 4, 6, 3])\n"
      ],
      "metadata": {
        "id": "gHPFAXYIj0Fg"
      },
      "execution_count": 13,
      "outputs": []
    },
    {
      "cell_type": "markdown",
      "source": [
        "###3."
      ],
      "metadata": {
        "id": "97tfptEMcMsU"
      }
    },
    {
      "cell_type": "code",
      "source": [
        "class BottleneckBlock(nn.Module):\n",
        "    def __init__(self, in_channels, out_channels, stride=1):\n",
        "        super(BottleneckBlock, self).__init__()\n",
        "        self.conv1 = nn.Conv2d(in_channels, out_channels//4, kernel_size=1, bias=False)\n",
        "        self.bn1 = nn.BatchNorm2d(out_channels//4)\n",
        "        self.conv2 = nn.Conv2d(out_channels//4, out_channels//4, kernel_size=3, stride=stride, padding=1, bias=False)\n",
        "        self.bn2 = nn.BatchNorm2d(out_channels//4)\n",
        "        self.conv3 = nn.Conv2d(out_channels//4, out_channels, kernel_size=1, bias=False)\n",
        "        self.bn3 = nn.BatchNorm2d(out_channels)\n",
        "\n",
        "        self.shortcut = nn.Sequential()\n",
        "        if stride != 1 or in_channels != out_channels:\n",
        "            self.shortcut = nn.Sequential(\n",
        "                nn.Conv2d(in_channels, out_channels, kernel_size=1, stride=stride, bias=False),\n",
        "                nn.BatchNorm2d(out_channels)\n",
        "            )\n",
        "\n",
        "    def forward(self, x):\n",
        "        out = nn.ReLU(inplace=True)(self.bn1(self.conv1(x)))\n",
        "        out = nn.ReLU(inplace=True)(self.bn2(self.conv2(out)))\n",
        "        out = self.bn3(self.conv3(out))\n",
        "        out += self.shortcut(x)\n",
        "        out = nn.ReLU(inplace=True)(out)\n",
        "        return out\n"
      ],
      "metadata": {
        "id": "zt1ELrT0j2Hx"
      },
      "execution_count": 14,
      "outputs": []
    },
    {
      "cell_type": "markdown",
      "source": [
        "###4."
      ],
      "metadata": {
        "id": "FTMp1hX-cMsU"
      }
    },
    {
      "cell_type": "code",
      "source": [
        "# New block structure\n",
        "class NewBasicBlock(nn.Module):\n",
        "    def __init__(self, in_channels, out_channels, stride=1):\n",
        "        super(NewBasicBlock, self).__init__()\n",
        "        self.bn1 = nn.BatchNorm2d(in_channels)\n",
        "        self.relu = nn.ReLU(inplace=True)\n",
        "        self.conv1 = nn.Conv2d(in_channels, out_channels, kernel_size=3, stride=stride, padding=1, bias=False)\n",
        "        self.bn2 = nn.BatchNorm2d(out_channels)\n",
        "        self.conv2 = nn.Conv2d(out_channels, out_channels, kernel_size=3, stride=1, padding=1, bias=False)\n",
        "\n",
        "        self.shortcut = nn.Sequential()\n",
        "        if stride != 1 or in_channels != out_channels:\n",
        "            self.shortcut = nn.Sequential(\n",
        "                nn.Conv2d(in_channels, out_channels, kernel_size=1, stride=stride, bias=False),\n",
        "                nn.BatchNorm2d(out_channels)\n",
        "            )\n",
        "\n",
        "    def forward(self, x):\n",
        "        out = self.relu(self.bn1(x))\n",
        "        out = self.conv1(out)\n",
        "        out = self.relu(self.bn2(out))\n",
        "        out = self.conv2(out)\n",
        "        out += self.shortcut(x)\n",
        "        return out\n"
      ],
      "metadata": {
        "id": "vZiY9AYNj2ZX"
      },
      "execution_count": null,
      "outputs": []
    },
    {
      "cell_type": "markdown",
      "source": [
        "###5."
      ],
      "metadata": {
        "id": "b6soYEDxcMsU"
      }
    },
    {
      "cell_type": "markdown",
      "source": [
        "Meskipun kelas fungsi bersarang memungkinkan peningkatan kompleksitas, terdapat batasan:\n",
        "- Overfitting: Peningkatan kompleksitas fungsi tanpa batas dapat menyebabkan overfitting, di mana model menyesuaikan noise dalam data pelatihan dan gagal untuk menggeneralisasi.\n",
        "- Vanishing/Exploding Gradients: Jaringan yang lebih dalam dan lebih kompleks dapat mengalami masalah ini, membuat optimasi menjadi sulit.\n",
        "- Komputasi dan Memori: Fungsi yang lebih kompleks membutuhkan daya komputasi dan memori yang lebih besar, yang dapat menjadi pembatas dalam aplikasi praktis. Selain itu, peningkatan kompleksitas model meningkatkan waktu inferensi, yang mungkin tidak cocok untuk aplikasi real-time."
      ],
      "metadata": {
        "id": "E4y4wwYPj-Dv"
      }
    },
    {
      "cell_type": "markdown",
      "metadata": {
        "origin_pos": 1,
        "id": "f122fb8e"
      },
      "source": [
        "# 8.7. Densely Connected Networks (DenseNet)"
      ]
    },
    {
      "cell_type": "code",
      "execution_count": null,
      "metadata": {
        "execution": {
          "iopub.execute_input": "2023-08-18T19:47:28.849074Z",
          "iopub.status.busy": "2023-08-18T19:47:28.848270Z",
          "iopub.status.idle": "2023-08-18T19:47:28.853093Z",
          "shell.execute_reply": "2023-08-18T19:47:28.852284Z"
        },
        "origin_pos": 8,
        "tab": [
          "pytorch"
        ],
        "id": "7d95675e"
      },
      "outputs": [],
      "source": [
        "def conv_block(num_channels):\n",
        "    return nn.Sequential(\n",
        "        nn.LazyBatchNorm2d(), nn.ReLU(),\n",
        "        nn.LazyConv2d(num_channels, kernel_size=3, padding=1))"
      ]
    },
    {
      "cell_type": "code",
      "execution_count": null,
      "metadata": {
        "execution": {
          "iopub.execute_input": "2023-08-18T19:47:28.856547Z",
          "iopub.status.busy": "2023-08-18T19:47:28.855981Z",
          "iopub.status.idle": "2023-08-18T19:47:28.862956Z",
          "shell.execute_reply": "2023-08-18T19:47:28.861783Z"
        },
        "origin_pos": 13,
        "tab": [
          "pytorch"
        ],
        "id": "805394e3"
      },
      "outputs": [],
      "source": [
        "class DenseBlock(nn.Module):\n",
        "    def __init__(self, num_convs, num_channels):\n",
        "        super(DenseBlock, self).__init__()\n",
        "        layer = []\n",
        "        for i in range(num_convs):\n",
        "            layer.append(conv_block(num_channels))\n",
        "        self.net = nn.Sequential(*layer)\n",
        "\n",
        "    def forward(self, X):\n",
        "        for blk in self.net:\n",
        "            Y = blk(X)\n",
        "            # Concatenate input and output of each block along the channels\n",
        "            X = torch.cat((X, Y), dim=1)\n",
        "        return X"
      ]
    },
    {
      "cell_type": "code",
      "execution_count": null,
      "metadata": {
        "execution": {
          "iopub.execute_input": "2023-08-18T19:47:28.867108Z",
          "iopub.status.busy": "2023-08-18T19:47:28.866407Z",
          "iopub.status.idle": "2023-08-18T19:47:28.909936Z",
          "shell.execute_reply": "2023-08-18T19:47:28.908954Z"
        },
        "origin_pos": 17,
        "tab": [
          "pytorch"
        ],
        "id": "e369c1ad",
        "outputId": "8377d6ba-436e-460f-a49d-8e260a8f8cae",
        "colab": {
          "base_uri": "https://localhost:8080/"
        }
      },
      "outputs": [
        {
          "output_type": "execute_result",
          "data": {
            "text/plain": [
              "torch.Size([4, 23, 8, 8])"
            ]
          },
          "metadata": {},
          "execution_count": 56
        }
      ],
      "source": [
        "blk = DenseBlock(2, 10)\n",
        "X = torch.randn(4, 3, 8, 8)\n",
        "Y = blk(X)\n",
        "Y.shape"
      ]
    },
    {
      "cell_type": "code",
      "execution_count": null,
      "metadata": {
        "execution": {
          "iopub.execute_input": "2023-08-18T19:47:28.915937Z",
          "iopub.status.busy": "2023-08-18T19:47:28.914796Z",
          "iopub.status.idle": "2023-08-18T19:47:28.920281Z",
          "shell.execute_reply": "2023-08-18T19:47:28.919184Z"
        },
        "origin_pos": 21,
        "tab": [
          "pytorch"
        ],
        "id": "6160cc48"
      },
      "outputs": [],
      "source": [
        "def transition_block(num_channels):\n",
        "    return nn.Sequential(\n",
        "        nn.LazyBatchNorm2d(), nn.ReLU(),\n",
        "        nn.LazyConv2d(num_channels, kernel_size=1),\n",
        "        nn.AvgPool2d(kernel_size=2, stride=2))"
      ]
    },
    {
      "cell_type": "code",
      "execution_count": null,
      "metadata": {
        "execution": {
          "iopub.execute_input": "2023-08-18T19:47:28.924597Z",
          "iopub.status.busy": "2023-08-18T19:47:28.924323Z",
          "iopub.status.idle": "2023-08-18T19:47:28.938373Z",
          "shell.execute_reply": "2023-08-18T19:47:28.937285Z"
        },
        "origin_pos": 26,
        "tab": [
          "pytorch"
        ],
        "id": "fc0cacfc",
        "outputId": "40a8419d-3aa4-4d75-e571-b3417ed90d0c",
        "colab": {
          "base_uri": "https://localhost:8080/"
        }
      },
      "outputs": [
        {
          "output_type": "execute_result",
          "data": {
            "text/plain": [
              "torch.Size([4, 10, 4, 4])"
            ]
          },
          "metadata": {},
          "execution_count": 58
        }
      ],
      "source": [
        "blk = transition_block(10)\n",
        "blk(Y).shape"
      ]
    },
    {
      "cell_type": "code",
      "execution_count": null,
      "metadata": {
        "execution": {
          "iopub.execute_input": "2023-08-18T19:47:28.942331Z",
          "iopub.status.busy": "2023-08-18T19:47:28.941755Z",
          "iopub.status.idle": "2023-08-18T19:47:28.946845Z",
          "shell.execute_reply": "2023-08-18T19:47:28.946015Z"
        },
        "origin_pos": 30,
        "tab": [
          "pytorch"
        ],
        "id": "79e0aaa1"
      },
      "outputs": [],
      "source": [
        "class DenseNet(d2l.Classifier):\n",
        "    def b1(self):\n",
        "        return nn.Sequential(\n",
        "            nn.LazyConv2d(64, kernel_size=7, stride=2, padding=3),\n",
        "            nn.LazyBatchNorm2d(), nn.ReLU(),\n",
        "            nn.MaxPool2d(kernel_size=3, stride=2, padding=1))"
      ]
    },
    {
      "cell_type": "code",
      "execution_count": null,
      "metadata": {
        "execution": {
          "iopub.execute_input": "2023-08-18T19:47:28.950027Z",
          "iopub.status.busy": "2023-08-18T19:47:28.949746Z",
          "iopub.status.idle": "2023-08-18T19:47:28.958660Z",
          "shell.execute_reply": "2023-08-18T19:47:28.957444Z"
        },
        "origin_pos": 33,
        "tab": [
          "pytorch"
        ],
        "id": "58137883"
      },
      "outputs": [],
      "source": [
        "@d2l.add_to_class(DenseNet)\n",
        "def __init__(self, num_channels=64, growth_rate=32, arch=(4, 4, 4, 4),\n",
        "             lr=0.1, num_classes=10):\n",
        "    super(DenseNet, self).__init__()\n",
        "    self.save_hyperparameters()\n",
        "    self.net = nn.Sequential(self.b1())\n",
        "    for i, num_convs in enumerate(arch):\n",
        "        self.net.add_module(f'dense_blk{i+1}', DenseBlock(num_convs,\n",
        "                                                          growth_rate))\n",
        "        # The number of output channels in the previous dense block\n",
        "        num_channels += num_convs * growth_rate\n",
        "        # A transition layer that halves the number of channels is added\n",
        "        # between the dense blocks\n",
        "        if i != len(arch) - 1:\n",
        "            num_channels //= 2\n",
        "            self.net.add_module(f'tran_blk{i+1}', transition_block(\n",
        "                num_channels))\n",
        "    self.net.add_module('last', nn.Sequential(\n",
        "        nn.LazyBatchNorm2d(), nn.ReLU(),\n",
        "        nn.AdaptiveAvgPool2d((1, 1)), nn.Flatten(),\n",
        "        nn.LazyLinear(num_classes)))\n",
        "    self.net.apply(d2l.init_cnn)"
      ]
    },
    {
      "cell_type": "code",
      "execution_count": null,
      "metadata": {
        "execution": {
          "iopub.execute_input": "2023-08-18T19:47:28.963624Z",
          "iopub.status.busy": "2023-08-18T19:47:28.962964Z",
          "iopub.status.idle": "2023-08-18T19:50:01.060105Z",
          "shell.execute_reply": "2023-08-18T19:50:01.059052Z"
        },
        "origin_pos": 36,
        "tab": [
          "pytorch"
        ],
        "id": "ef87c44e",
        "outputId": "fde6f10d-8c78-41af-b675-a1da2aa74593",
        "colab": {
          "base_uri": "https://localhost:8080/",
          "height": 266
        }
      },
      "outputs": [
        {
          "output_type": "display_data",
          "data": {
            "text/plain": [
              "<Figure size 350x250 with 1 Axes>"
            ],
            "image/svg+xml": "<?xml version=\"1.0\" encoding=\"utf-8\" standalone=\"no\"?>\n<!DOCTYPE svg PUBLIC \"-//W3C//DTD SVG 1.1//EN\"\n  \"http://www.w3.org/Graphics/SVG/1.1/DTD/svg11.dtd\">\n<svg xmlns:xlink=\"http://www.w3.org/1999/xlink\" width=\"238.965625pt\" height=\"183.35625pt\" viewBox=\"0 0 238.965625 183.35625\" xmlns=\"http://www.w3.org/2000/svg\" version=\"1.1\">\n <metadata>\n  <rdf:RDF xmlns:dc=\"http://purl.org/dc/elements/1.1/\" xmlns:cc=\"http://creativecommons.org/ns#\" xmlns:rdf=\"http://www.w3.org/1999/02/22-rdf-syntax-ns#\">\n   <cc:Work>\n    <dc:type rdf:resource=\"http://purl.org/dc/dcmitype/StillImage\"/>\n    <dc:date>2024-10-04T15:01:10.244437</dc:date>\n    <dc:format>image/svg+xml</dc:format>\n    <dc:creator>\n     <cc:Agent>\n      <dc:title>Matplotlib v3.7.2, https://matplotlib.org/</dc:title>\n     </cc:Agent>\n    </dc:creator>\n   </cc:Work>\n  </rdf:RDF>\n </metadata>\n <defs>\n  <style type=\"text/css\">*{stroke-linejoin: round; stroke-linecap: butt}</style>\n </defs>\n <g id=\"figure_1\">\n  <g id=\"patch_1\">\n   <path d=\"M 0 183.35625 \nL 238.965625 183.35625 \nL 238.965625 0 \nL 0 0 \nz\n\" style=\"fill: #ffffff\"/>\n  </g>\n  <g id=\"axes_1\">\n   <g id=\"patch_2\">\n    <path d=\"M 30.103125 145.8 \nL 225.403125 145.8 \nL 225.403125 7.2 \nL 30.103125 7.2 \nz\n\" style=\"fill: #ffffff\"/>\n   </g>\n   <g id=\"matplotlib.axis_1\">\n    <g id=\"xtick_1\">\n     <g id=\"line2d_1\">\n      <defs>\n       <path id=\"m57b8f71f3c\" d=\"M 0 0 \nL 0 3.5 \n\" style=\"stroke: #000000; stroke-width: 0.8\"/>\n      </defs>\n      <g>\n       <use xlink:href=\"#m57b8f71f3c\" x=\"30.103125\" y=\"145.8\" style=\"stroke: #000000; stroke-width: 0.8\"/>\n      </g>\n     </g>\n     <g id=\"text_1\">\n      <!-- 0 -->\n      <g transform=\"translate(26.921875 160.398438) scale(0.1 -0.1)\">\n       <defs>\n        <path id=\"DejaVuSans-30\" d=\"M 2034 4250 \nQ 1547 4250 1301 3770 \nQ 1056 3291 1056 2328 \nQ 1056 1369 1301 889 \nQ 1547 409 2034 409 \nQ 2525 409 2770 889 \nQ 3016 1369 3016 2328 \nQ 3016 3291 2770 3770 \nQ 2525 4250 2034 4250 \nz\nM 2034 4750 \nQ 2819 4750 3233 4129 \nQ 3647 3509 3647 2328 \nQ 3647 1150 3233 529 \nQ 2819 -91 2034 -91 \nQ 1250 -91 836 529 \nQ 422 1150 422 2328 \nQ 422 3509 836 4129 \nQ 1250 4750 2034 4750 \nz\n\" transform=\"scale(0.015625)\"/>\n       </defs>\n       <use xlink:href=\"#DejaVuSans-30\"/>\n      </g>\n     </g>\n    </g>\n    <g id=\"xtick_2\">\n     <g id=\"line2d_2\">\n      <g>\n       <use xlink:href=\"#m57b8f71f3c\" x=\"69.163125\" y=\"145.8\" style=\"stroke: #000000; stroke-width: 0.8\"/>\n      </g>\n     </g>\n     <g id=\"text_2\">\n      <!-- 2 -->\n      <g transform=\"translate(65.981875 160.398438) scale(0.1 -0.1)\">\n       <defs>\n        <path id=\"DejaVuSans-32\" d=\"M 1228 531 \nL 3431 531 \nL 3431 0 \nL 469 0 \nL 469 531 \nQ 828 903 1448 1529 \nQ 2069 2156 2228 2338 \nQ 2531 2678 2651 2914 \nQ 2772 3150 2772 3378 \nQ 2772 3750 2511 3984 \nQ 2250 4219 1831 4219 \nQ 1534 4219 1204 4116 \nQ 875 4013 500 3803 \nL 500 4441 \nQ 881 4594 1212 4672 \nQ 1544 4750 1819 4750 \nQ 2544 4750 2975 4387 \nQ 3406 4025 3406 3419 \nQ 3406 3131 3298 2873 \nQ 3191 2616 2906 2266 \nQ 2828 2175 2409 1742 \nQ 1991 1309 1228 531 \nz\n\" transform=\"scale(0.015625)\"/>\n       </defs>\n       <use xlink:href=\"#DejaVuSans-32\"/>\n      </g>\n     </g>\n    </g>\n    <g id=\"xtick_3\">\n     <g id=\"line2d_3\">\n      <g>\n       <use xlink:href=\"#m57b8f71f3c\" x=\"108.223125\" y=\"145.8\" style=\"stroke: #000000; stroke-width: 0.8\"/>\n      </g>\n     </g>\n     <g id=\"text_3\">\n      <!-- 4 -->\n      <g transform=\"translate(105.041875 160.398438) scale(0.1 -0.1)\">\n       <defs>\n        <path id=\"DejaVuSans-34\" d=\"M 2419 4116 \nL 825 1625 \nL 2419 1625 \nL 2419 4116 \nz\nM 2253 4666 \nL 3047 4666 \nL 3047 1625 \nL 3713 1625 \nL 3713 1100 \nL 3047 1100 \nL 3047 0 \nL 2419 0 \nL 2419 1100 \nL 313 1100 \nL 313 1709 \nL 2253 4666 \nz\n\" transform=\"scale(0.015625)\"/>\n       </defs>\n       <use xlink:href=\"#DejaVuSans-34\"/>\n      </g>\n     </g>\n    </g>\n    <g id=\"xtick_4\">\n     <g id=\"line2d_4\">\n      <g>\n       <use xlink:href=\"#m57b8f71f3c\" x=\"147.283125\" y=\"145.8\" style=\"stroke: #000000; stroke-width: 0.8\"/>\n      </g>\n     </g>\n     <g id=\"text_4\">\n      <!-- 6 -->\n      <g transform=\"translate(144.101875 160.398438) scale(0.1 -0.1)\">\n       <defs>\n        <path id=\"DejaVuSans-36\" d=\"M 2113 2584 \nQ 1688 2584 1439 2293 \nQ 1191 2003 1191 1497 \nQ 1191 994 1439 701 \nQ 1688 409 2113 409 \nQ 2538 409 2786 701 \nQ 3034 994 3034 1497 \nQ 3034 2003 2786 2293 \nQ 2538 2584 2113 2584 \nz\nM 3366 4563 \nL 3366 3988 \nQ 3128 4100 2886 4159 \nQ 2644 4219 2406 4219 \nQ 1781 4219 1451 3797 \nQ 1122 3375 1075 2522 \nQ 1259 2794 1537 2939 \nQ 1816 3084 2150 3084 \nQ 2853 3084 3261 2657 \nQ 3669 2231 3669 1497 \nQ 3669 778 3244 343 \nQ 2819 -91 2113 -91 \nQ 1303 -91 875 529 \nQ 447 1150 447 2328 \nQ 447 3434 972 4092 \nQ 1497 4750 2381 4750 \nQ 2619 4750 2861 4703 \nQ 3103 4656 3366 4563 \nz\n\" transform=\"scale(0.015625)\"/>\n       </defs>\n       <use xlink:href=\"#DejaVuSans-36\"/>\n      </g>\n     </g>\n    </g>\n    <g id=\"xtick_5\">\n     <g id=\"line2d_5\">\n      <g>\n       <use xlink:href=\"#m57b8f71f3c\" x=\"186.343125\" y=\"145.8\" style=\"stroke: #000000; stroke-width: 0.8\"/>\n      </g>\n     </g>\n     <g id=\"text_5\">\n      <!-- 8 -->\n      <g transform=\"translate(183.161875 160.398438) scale(0.1 -0.1)\">\n       <defs>\n        <path id=\"DejaVuSans-38\" d=\"M 2034 2216 \nQ 1584 2216 1326 1975 \nQ 1069 1734 1069 1313 \nQ 1069 891 1326 650 \nQ 1584 409 2034 409 \nQ 2484 409 2743 651 \nQ 3003 894 3003 1313 \nQ 3003 1734 2745 1975 \nQ 2488 2216 2034 2216 \nz\nM 1403 2484 \nQ 997 2584 770 2862 \nQ 544 3141 544 3541 \nQ 544 4100 942 4425 \nQ 1341 4750 2034 4750 \nQ 2731 4750 3128 4425 \nQ 3525 4100 3525 3541 \nQ 3525 3141 3298 2862 \nQ 3072 2584 2669 2484 \nQ 3125 2378 3379 2068 \nQ 3634 1759 3634 1313 \nQ 3634 634 3220 271 \nQ 2806 -91 2034 -91 \nQ 1263 -91 848 271 \nQ 434 634 434 1313 \nQ 434 1759 690 2068 \nQ 947 2378 1403 2484 \nz\nM 1172 3481 \nQ 1172 3119 1398 2916 \nQ 1625 2713 2034 2713 \nQ 2441 2713 2670 2916 \nQ 2900 3119 2900 3481 \nQ 2900 3844 2670 4047 \nQ 2441 4250 2034 4250 \nQ 1625 4250 1398 4047 \nQ 1172 3844 1172 3481 \nz\n\" transform=\"scale(0.015625)\"/>\n       </defs>\n       <use xlink:href=\"#DejaVuSans-38\"/>\n      </g>\n     </g>\n    </g>\n    <g id=\"xtick_6\">\n     <g id=\"line2d_6\">\n      <g>\n       <use xlink:href=\"#m57b8f71f3c\" x=\"225.403125\" y=\"145.8\" style=\"stroke: #000000; stroke-width: 0.8\"/>\n      </g>\n     </g>\n     <g id=\"text_6\">\n      <!-- 10 -->\n      <g transform=\"translate(219.040625 160.398438) scale(0.1 -0.1)\">\n       <defs>\n        <path id=\"DejaVuSans-31\" d=\"M 794 531 \nL 1825 531 \nL 1825 4091 \nL 703 3866 \nL 703 4441 \nL 1819 4666 \nL 2450 4666 \nL 2450 531 \nL 3481 531 \nL 3481 0 \nL 794 0 \nL 794 531 \nz\n\" transform=\"scale(0.015625)\"/>\n       </defs>\n       <use xlink:href=\"#DejaVuSans-31\"/>\n       <use xlink:href=\"#DejaVuSans-30\" x=\"63.623047\"/>\n      </g>\n     </g>\n    </g>\n    <g id=\"text_7\">\n     <!-- epoch -->\n     <g transform=\"translate(112.525 174.076563) scale(0.1 -0.1)\">\n      <defs>\n       <path id=\"DejaVuSans-65\" d=\"M 3597 1894 \nL 3597 1613 \nL 953 1613 \nQ 991 1019 1311 708 \nQ 1631 397 2203 397 \nQ 2534 397 2845 478 \nQ 3156 559 3463 722 \nL 3463 178 \nQ 3153 47 2828 -22 \nQ 2503 -91 2169 -91 \nQ 1331 -91 842 396 \nQ 353 884 353 1716 \nQ 353 2575 817 3079 \nQ 1281 3584 2069 3584 \nQ 2775 3584 3186 3129 \nQ 3597 2675 3597 1894 \nz\nM 3022 2063 \nQ 3016 2534 2758 2815 \nQ 2500 3097 2075 3097 \nQ 1594 3097 1305 2825 \nQ 1016 2553 972 2059 \nL 3022 2063 \nz\n\" transform=\"scale(0.015625)\"/>\n       <path id=\"DejaVuSans-70\" d=\"M 1159 525 \nL 1159 -1331 \nL 581 -1331 \nL 581 3500 \nL 1159 3500 \nL 1159 2969 \nQ 1341 3281 1617 3432 \nQ 1894 3584 2278 3584 \nQ 2916 3584 3314 3078 \nQ 3713 2572 3713 1747 \nQ 3713 922 3314 415 \nQ 2916 -91 2278 -91 \nQ 1894 -91 1617 61 \nQ 1341 213 1159 525 \nz\nM 3116 1747 \nQ 3116 2381 2855 2742 \nQ 2594 3103 2138 3103 \nQ 1681 3103 1420 2742 \nQ 1159 2381 1159 1747 \nQ 1159 1113 1420 752 \nQ 1681 391 2138 391 \nQ 2594 391 2855 752 \nQ 3116 1113 3116 1747 \nz\n\" transform=\"scale(0.015625)\"/>\n       <path id=\"DejaVuSans-6f\" d=\"M 1959 3097 \nQ 1497 3097 1228 2736 \nQ 959 2375 959 1747 \nQ 959 1119 1226 758 \nQ 1494 397 1959 397 \nQ 2419 397 2687 759 \nQ 2956 1122 2956 1747 \nQ 2956 2369 2687 2733 \nQ 2419 3097 1959 3097 \nz\nM 1959 3584 \nQ 2709 3584 3137 3096 \nQ 3566 2609 3566 1747 \nQ 3566 888 3137 398 \nQ 2709 -91 1959 -91 \nQ 1206 -91 779 398 \nQ 353 888 353 1747 \nQ 353 2609 779 3096 \nQ 1206 3584 1959 3584 \nz\n\" transform=\"scale(0.015625)\"/>\n       <path id=\"DejaVuSans-63\" d=\"M 3122 3366 \nL 3122 2828 \nQ 2878 2963 2633 3030 \nQ 2388 3097 2138 3097 \nQ 1578 3097 1268 2742 \nQ 959 2388 959 1747 \nQ 959 1106 1268 751 \nQ 1578 397 2138 397 \nQ 2388 397 2633 464 \nQ 2878 531 3122 666 \nL 3122 134 \nQ 2881 22 2623 -34 \nQ 2366 -91 2075 -91 \nQ 1284 -91 818 406 \nQ 353 903 353 1747 \nQ 353 2603 823 3093 \nQ 1294 3584 2113 3584 \nQ 2378 3584 2631 3529 \nQ 2884 3475 3122 3366 \nz\n\" transform=\"scale(0.015625)\"/>\n       <path id=\"DejaVuSans-68\" d=\"M 3513 2113 \nL 3513 0 \nL 2938 0 \nL 2938 2094 \nQ 2938 2591 2744 2837 \nQ 2550 3084 2163 3084 \nQ 1697 3084 1428 2787 \nQ 1159 2491 1159 1978 \nL 1159 0 \nL 581 0 \nL 581 4863 \nL 1159 4863 \nL 1159 2956 \nQ 1366 3272 1645 3428 \nQ 1925 3584 2291 3584 \nQ 2894 3584 3203 3211 \nQ 3513 2838 3513 2113 \nz\n\" transform=\"scale(0.015625)\"/>\n      </defs>\n      <use xlink:href=\"#DejaVuSans-65\"/>\n      <use xlink:href=\"#DejaVuSans-70\" x=\"61.523438\"/>\n      <use xlink:href=\"#DejaVuSans-6f\" x=\"125\"/>\n      <use xlink:href=\"#DejaVuSans-63\" x=\"186.181641\"/>\n      <use xlink:href=\"#DejaVuSans-68\" x=\"241.162109\"/>\n     </g>\n    </g>\n   </g>\n   <g id=\"matplotlib.axis_2\">\n    <g id=\"ytick_1\">\n     <g id=\"line2d_7\">\n      <defs>\n       <path id=\"mf6c14c4b8e\" d=\"M 0 0 \nL -3.5 0 \n\" style=\"stroke: #000000; stroke-width: 0.8\"/>\n      </defs>\n      <g>\n       <use xlink:href=\"#mf6c14c4b8e\" x=\"30.103125\" y=\"130.857\" style=\"stroke: #000000; stroke-width: 0.8\"/>\n      </g>\n     </g>\n     <g id=\"text_8\">\n      <!-- 0.2 -->\n      <g transform=\"translate(7.2 134.656218) scale(0.1 -0.1)\">\n       <defs>\n        <path id=\"DejaVuSans-2e\" d=\"M 684 794 \nL 1344 794 \nL 1344 0 \nL 684 0 \nL 684 794 \nz\n\" transform=\"scale(0.015625)\"/>\n       </defs>\n       <use xlink:href=\"#DejaVuSans-30\"/>\n       <use xlink:href=\"#DejaVuSans-2e\" x=\"63.623047\"/>\n       <use xlink:href=\"#DejaVuSans-32\" x=\"95.410156\"/>\n      </g>\n     </g>\n    </g>\n    <g id=\"ytick_2\">\n     <g id=\"line2d_8\">\n      <g>\n       <use xlink:href=\"#mf6c14c4b8e\" x=\"30.103125\" y=\"98.407331\" style=\"stroke: #000000; stroke-width: 0.8\"/>\n      </g>\n     </g>\n     <g id=\"text_9\">\n      <!-- 0.4 -->\n      <g transform=\"translate(7.2 102.20655) scale(0.1 -0.1)\">\n       <use xlink:href=\"#DejaVuSans-30\"/>\n       <use xlink:href=\"#DejaVuSans-2e\" x=\"63.623047\"/>\n       <use xlink:href=\"#DejaVuSans-34\" x=\"95.410156\"/>\n      </g>\n     </g>\n    </g>\n    <g id=\"ytick_3\">\n     <g id=\"line2d_9\">\n      <g>\n       <use xlink:href=\"#mf6c14c4b8e\" x=\"30.103125\" y=\"65.957663\" style=\"stroke: #000000; stroke-width: 0.8\"/>\n      </g>\n     </g>\n     <g id=\"text_10\">\n      <!-- 0.6 -->\n      <g transform=\"translate(7.2 69.756882) scale(0.1 -0.1)\">\n       <use xlink:href=\"#DejaVuSans-30\"/>\n       <use xlink:href=\"#DejaVuSans-2e\" x=\"63.623047\"/>\n       <use xlink:href=\"#DejaVuSans-36\" x=\"95.410156\"/>\n      </g>\n     </g>\n    </g>\n    <g id=\"ytick_4\">\n     <g id=\"line2d_10\">\n      <g>\n       <use xlink:href=\"#mf6c14c4b8e\" x=\"30.103125\" y=\"33.507995\" style=\"stroke: #000000; stroke-width: 0.8\"/>\n      </g>\n     </g>\n     <g id=\"text_11\">\n      <!-- 0.8 -->\n      <g transform=\"translate(7.2 37.307214) scale(0.1 -0.1)\">\n       <use xlink:href=\"#DejaVuSans-30\"/>\n       <use xlink:href=\"#DejaVuSans-2e\" x=\"63.623047\"/>\n       <use xlink:href=\"#DejaVuSans-38\" x=\"95.410156\"/>\n      </g>\n     </g>\n    </g>\n   </g>\n   <g id=\"line2d_11\">\n    <path d=\"M 34.954394 13.5 \n\" clip-path=\"url(#p6ae9c8244a)\" style=\"fill: none; stroke: #1f77b4; stroke-width: 1.5; stroke-linecap: square\"/>\n   </g>\n   <g id=\"line2d_12\">\n    <path d=\"M 34.954394 13.5 \nL 44.698573 88.3101 \n\" clip-path=\"url(#p6ae9c8244a)\" style=\"fill: none; stroke: #1f77b4; stroke-width: 1.5; stroke-linecap: square\"/>\n   </g>\n   <g id=\"line2d_13\">\n    <path d=\"M 34.954394 13.5 \nL 44.698573 88.3101 \n\" clip-path=\"url(#p6ae9c8244a)\" style=\"fill: none; stroke: #1f77b4; stroke-width: 1.5; stroke-linecap: square\"/>\n   </g>\n   <g id=\"line2d_14\">\n    <path d=\"M 49.633125 88.2573 \n\" clip-path=\"url(#p6ae9c8244a)\" style=\"fill: none; stroke-dasharray: 5.55,2.4; stroke-dashoffset: 0; stroke: #ff7f0e; stroke-width: 1.5\"/>\n   </g>\n   <g id=\"line2d_15\"/>\n   <g id=\"line2d_16\">\n    <path d=\"M 34.954394 13.5 \nL 44.698573 88.3101 \n\" clip-path=\"url(#p6ae9c8244a)\" style=\"fill: none; stroke: #1f77b4; stroke-width: 1.5; stroke-linecap: square\"/>\n   </g>\n   <g id=\"line2d_17\">\n    <path d=\"M 49.633125 88.2573 \n\" clip-path=\"url(#p6ae9c8244a)\" style=\"fill: none; stroke-dasharray: 5.55,2.4; stroke-dashoffset: 0; stroke: #ff7f0e; stroke-width: 1.5\"/>\n   </g>\n   <g id=\"line2d_18\">\n    <path d=\"M 49.633125 26.746578 \n\" clip-path=\"url(#p6ae9c8244a)\" style=\"fill: none; stroke-dasharray: 9.6,2.4,1.5,2.4; stroke-dashoffset: 0; stroke: #2ca02c; stroke-width: 1.5\"/>\n   </g>\n   <g id=\"line2d_19\">\n    <path d=\"M 34.954394 13.5 \nL 44.698573 88.3101 \nL 54.442752 104.110506 \n\" clip-path=\"url(#p6ae9c8244a)\" style=\"fill: none; stroke: #1f77b4; stroke-width: 1.5; stroke-linecap: square\"/>\n   </g>\n   <g id=\"line2d_20\">\n    <path d=\"M 49.633125 88.2573 \n\" clip-path=\"url(#p6ae9c8244a)\" style=\"fill: none; stroke-dasharray: 5.55,2.4; stroke-dashoffset: 0; stroke: #ff7f0e; stroke-width: 1.5\"/>\n   </g>\n   <g id=\"line2d_21\">\n    <path d=\"M 49.633125 26.746578 \n\" clip-path=\"url(#p6ae9c8244a)\" style=\"fill: none; stroke-dasharray: 9.6,2.4,1.5,2.4; stroke-dashoffset: 0; stroke: #2ca02c; stroke-width: 1.5\"/>\n   </g>\n   <g id=\"line2d_22\">\n    <path d=\"M 34.954394 13.5 \nL 44.698573 88.3101 \nL 54.442752 104.110506 \nL 64.186931 112.337979 \n\" clip-path=\"url(#p6ae9c8244a)\" style=\"fill: none; stroke: #1f77b4; stroke-width: 1.5; stroke-linecap: square\"/>\n   </g>\n   <g id=\"line2d_23\">\n    <path d=\"M 49.633125 88.2573 \n\" clip-path=\"url(#p6ae9c8244a)\" style=\"fill: none; stroke-dasharray: 5.55,2.4; stroke-dashoffset: 0; stroke: #ff7f0e; stroke-width: 1.5\"/>\n   </g>\n   <g id=\"line2d_24\">\n    <path d=\"M 49.633125 26.746578 \n\" clip-path=\"url(#p6ae9c8244a)\" style=\"fill: none; stroke-dasharray: 9.6,2.4,1.5,2.4; stroke-dashoffset: 0; stroke: #2ca02c; stroke-width: 1.5\"/>\n   </g>\n   <g id=\"line2d_25\">\n    <path d=\"M 34.954394 13.5 \nL 44.698573 88.3101 \nL 54.442752 104.110506 \nL 64.186931 112.337979 \n\" clip-path=\"url(#p6ae9c8244a)\" style=\"fill: none; stroke: #1f77b4; stroke-width: 1.5; stroke-linecap: square\"/>\n   </g>\n   <g id=\"line2d_26\">\n    <path d=\"M 49.633125 88.2573 \nL 69.163125 105.271698 \n\" clip-path=\"url(#p6ae9c8244a)\" style=\"fill: none; stroke-dasharray: 5.55,2.4; stroke-dashoffset: 0; stroke: #ff7f0e; stroke-width: 1.5\"/>\n   </g>\n   <g id=\"line2d_27\">\n    <path d=\"M 49.633125 26.746578 \n\" clip-path=\"url(#p6ae9c8244a)\" style=\"fill: none; stroke-dasharray: 9.6,2.4,1.5,2.4; stroke-dashoffset: 0; stroke: #2ca02c; stroke-width: 1.5\"/>\n   </g>\n   <g id=\"line2d_28\">\n    <path d=\"M 34.954394 13.5 \nL 44.698573 88.3101 \nL 54.442752 104.110506 \nL 64.186931 112.337979 \n\" clip-path=\"url(#p6ae9c8244a)\" style=\"fill: none; stroke: #1f77b4; stroke-width: 1.5; stroke-linecap: square\"/>\n   </g>\n   <g id=\"line2d_29\">\n    <path d=\"M 49.633125 88.2573 \nL 69.163125 105.271698 \n\" clip-path=\"url(#p6ae9c8244a)\" style=\"fill: none; stroke-dasharray: 5.55,2.4; stroke-dashoffset: 0; stroke: #ff7f0e; stroke-width: 1.5\"/>\n   </g>\n   <g id=\"line2d_30\">\n    <path d=\"M 49.633125 26.746578 \nL 69.163125 21.050557 \n\" clip-path=\"url(#p6ae9c8244a)\" style=\"fill: none; stroke-dasharray: 9.6,2.4,1.5,2.4; stroke-dashoffset: 0; stroke: #2ca02c; stroke-width: 1.5\"/>\n   </g>\n   <g id=\"line2d_31\">\n    <path d=\"M 34.954394 13.5 \nL 44.698573 88.3101 \nL 54.442752 104.110506 \nL 64.186931 112.337979 \nL 73.93111 118.378528 \n\" clip-path=\"url(#p6ae9c8244a)\" style=\"fill: none; stroke: #1f77b4; stroke-width: 1.5; stroke-linecap: square\"/>\n   </g>\n   <g id=\"line2d_32\">\n    <path d=\"M 49.633125 88.2573 \nL 69.163125 105.271698 \n\" clip-path=\"url(#p6ae9c8244a)\" style=\"fill: none; stroke-dasharray: 5.55,2.4; stroke-dashoffset: 0; stroke: #ff7f0e; stroke-width: 1.5\"/>\n   </g>\n   <g id=\"line2d_33\">\n    <path d=\"M 49.633125 26.746578 \nL 69.163125 21.050557 \n\" clip-path=\"url(#p6ae9c8244a)\" style=\"fill: none; stroke-dasharray: 9.6,2.4,1.5,2.4; stroke-dashoffset: 0; stroke: #2ca02c; stroke-width: 1.5\"/>\n   </g>\n   <g id=\"line2d_34\">\n    <path d=\"M 34.954394 13.5 \nL 44.698573 88.3101 \nL 54.442752 104.110506 \nL 64.186931 112.337979 \nL 73.93111 118.378528 \nL 83.675289 118.567383 \n\" clip-path=\"url(#p6ae9c8244a)\" style=\"fill: none; stroke: #1f77b4; stroke-width: 1.5; stroke-linecap: square\"/>\n   </g>\n   <g id=\"line2d_35\">\n    <path d=\"M 49.633125 88.2573 \nL 69.163125 105.271698 \n\" clip-path=\"url(#p6ae9c8244a)\" style=\"fill: none; stroke-dasharray: 5.55,2.4; stroke-dashoffset: 0; stroke: #ff7f0e; stroke-width: 1.5\"/>\n   </g>\n   <g id=\"line2d_36\">\n    <path d=\"M 49.633125 26.746578 \nL 69.163125 21.050557 \n\" clip-path=\"url(#p6ae9c8244a)\" style=\"fill: none; stroke-dasharray: 9.6,2.4,1.5,2.4; stroke-dashoffset: 0; stroke: #2ca02c; stroke-width: 1.5\"/>\n   </g>\n   <g id=\"line2d_37\">\n    <path d=\"M 34.954394 13.5 \nL 44.698573 88.3101 \nL 54.442752 104.110506 \nL 64.186931 112.337979 \nL 73.93111 118.378528 \nL 83.675289 118.567383 \n\" clip-path=\"url(#p6ae9c8244a)\" style=\"fill: none; stroke: #1f77b4; stroke-width: 1.5; stroke-linecap: square\"/>\n   </g>\n   <g id=\"line2d_38\">\n    <path d=\"M 49.633125 88.2573 \nL 69.163125 105.271698 \nL 88.693125 91.981448 \n\" clip-path=\"url(#p6ae9c8244a)\" style=\"fill: none; stroke-dasharray: 5.55,2.4; stroke-dashoffset: 0; stroke: #ff7f0e; stroke-width: 1.5\"/>\n   </g>\n   <g id=\"line2d_39\">\n    <path d=\"M 49.633125 26.746578 \nL 69.163125 21.050557 \n\" clip-path=\"url(#p6ae9c8244a)\" style=\"fill: none; stroke-dasharray: 9.6,2.4,1.5,2.4; stroke-dashoffset: 0; stroke: #2ca02c; stroke-width: 1.5\"/>\n   </g>\n   <g id=\"line2d_40\">\n    <path d=\"M 34.954394 13.5 \nL 44.698573 88.3101 \nL 54.442752 104.110506 \nL 64.186931 112.337979 \nL 73.93111 118.378528 \nL 83.675289 118.567383 \n\" clip-path=\"url(#p6ae9c8244a)\" style=\"fill: none; stroke: #1f77b4; stroke-width: 1.5; stroke-linecap: square\"/>\n   </g>\n   <g id=\"line2d_41\">\n    <path d=\"M 49.633125 88.2573 \nL 69.163125 105.271698 \nL 88.693125 91.981448 \n\" clip-path=\"url(#p6ae9c8244a)\" style=\"fill: none; stroke-dasharray: 5.55,2.4; stroke-dashoffset: 0; stroke: #ff7f0e; stroke-width: 1.5\"/>\n   </g>\n   <g id=\"line2d_42\">\n    <path d=\"M 49.633125 26.746578 \nL 69.163125 21.050557 \nL 88.693125 27.195842 \n\" clip-path=\"url(#p6ae9c8244a)\" style=\"fill: none; stroke-dasharray: 9.6,2.4,1.5,2.4; stroke-dashoffset: 0; stroke: #2ca02c; stroke-width: 1.5\"/>\n   </g>\n   <g id=\"line2d_43\">\n    <path d=\"M 34.954394 13.5 \nL 44.698573 88.3101 \nL 54.442752 104.110506 \nL 64.186931 112.337979 \nL 73.93111 118.378528 \nL 83.675289 118.567383 \nL 93.419468 122.620304 \n\" clip-path=\"url(#p6ae9c8244a)\" style=\"fill: none; stroke: #1f77b4; stroke-width: 1.5; stroke-linecap: square\"/>\n   </g>\n   <g id=\"line2d_44\">\n    <path d=\"M 49.633125 88.2573 \nL 69.163125 105.271698 \nL 88.693125 91.981448 \n\" clip-path=\"url(#p6ae9c8244a)\" style=\"fill: none; stroke-dasharray: 5.55,2.4; stroke-dashoffset: 0; stroke: #ff7f0e; stroke-width: 1.5\"/>\n   </g>\n   <g id=\"line2d_45\">\n    <path d=\"M 49.633125 26.746578 \nL 69.163125 21.050557 \nL 88.693125 27.195842 \n\" clip-path=\"url(#p6ae9c8244a)\" style=\"fill: none; stroke-dasharray: 9.6,2.4,1.5,2.4; stroke-dashoffset: 0; stroke: #2ca02c; stroke-width: 1.5\"/>\n   </g>\n   <g id=\"line2d_46\">\n    <path d=\"M 34.954394 13.5 \nL 44.698573 88.3101 \nL 54.442752 104.110506 \nL 64.186931 112.337979 \nL 73.93111 118.378528 \nL 83.675289 118.567383 \nL 93.419468 122.620304 \nL 103.163647 124.553076 \n\" clip-path=\"url(#p6ae9c8244a)\" style=\"fill: none; stroke: #1f77b4; stroke-width: 1.5; stroke-linecap: square\"/>\n   </g>\n   <g id=\"line2d_47\">\n    <path d=\"M 49.633125 88.2573 \nL 69.163125 105.271698 \nL 88.693125 91.981448 \n\" clip-path=\"url(#p6ae9c8244a)\" style=\"fill: none; stroke-dasharray: 5.55,2.4; stroke-dashoffset: 0; stroke: #ff7f0e; stroke-width: 1.5\"/>\n   </g>\n   <g id=\"line2d_48\">\n    <path d=\"M 49.633125 26.746578 \nL 69.163125 21.050557 \nL 88.693125 27.195842 \n\" clip-path=\"url(#p6ae9c8244a)\" style=\"fill: none; stroke-dasharray: 9.6,2.4,1.5,2.4; stroke-dashoffset: 0; stroke: #2ca02c; stroke-width: 1.5\"/>\n   </g>\n   <g id=\"line2d_49\">\n    <path d=\"M 34.954394 13.5 \nL 44.698573 88.3101 \nL 54.442752 104.110506 \nL 64.186931 112.337979 \nL 73.93111 118.378528 \nL 83.675289 118.567383 \nL 93.419468 122.620304 \nL 103.163647 124.553076 \n\" clip-path=\"url(#p6ae9c8244a)\" style=\"fill: none; stroke: #1f77b4; stroke-width: 1.5; stroke-linecap: square\"/>\n   </g>\n   <g id=\"line2d_50\">\n    <path d=\"M 49.633125 88.2573 \nL 69.163125 105.271698 \nL 88.693125 91.981448 \nL 108.223125 89.994411 \n\" clip-path=\"url(#p6ae9c8244a)\" style=\"fill: none; stroke-dasharray: 5.55,2.4; stroke-dashoffset: 0; stroke: #ff7f0e; stroke-width: 1.5\"/>\n   </g>\n   <g id=\"line2d_51\">\n    <path d=\"M 49.633125 26.746578 \nL 69.163125 21.050557 \nL 88.693125 27.195842 \n\" clip-path=\"url(#p6ae9c8244a)\" style=\"fill: none; stroke-dasharray: 9.6,2.4,1.5,2.4; stroke-dashoffset: 0; stroke: #2ca02c; stroke-width: 1.5\"/>\n   </g>\n   <g id=\"line2d_52\">\n    <path d=\"M 34.954394 13.5 \nL 44.698573 88.3101 \nL 54.442752 104.110506 \nL 64.186931 112.337979 \nL 73.93111 118.378528 \nL 83.675289 118.567383 \nL 93.419468 122.620304 \nL 103.163647 124.553076 \n\" clip-path=\"url(#p6ae9c8244a)\" style=\"fill: none; stroke: #1f77b4; stroke-width: 1.5; stroke-linecap: square\"/>\n   </g>\n   <g id=\"line2d_53\">\n    <path d=\"M 49.633125 88.2573 \nL 69.163125 105.271698 \nL 88.693125 91.981448 \nL 108.223125 89.994411 \n\" clip-path=\"url(#p6ae9c8244a)\" style=\"fill: none; stroke-dasharray: 5.55,2.4; stroke-dashoffset: 0; stroke: #ff7f0e; stroke-width: 1.5\"/>\n   </g>\n   <g id=\"line2d_54\">\n    <path d=\"M 49.633125 26.746578 \nL 69.163125 21.050557 \nL 88.693125 27.195842 \nL 108.223125 26.618217 \n\" clip-path=\"url(#p6ae9c8244a)\" style=\"fill: none; stroke-dasharray: 9.6,2.4,1.5,2.4; stroke-dashoffset: 0; stroke: #2ca02c; stroke-width: 1.5\"/>\n   </g>\n   <g id=\"line2d_55\">\n    <path d=\"M 34.954394 13.5 \nL 44.698573 88.3101 \nL 54.442752 104.110506 \nL 64.186931 112.337979 \nL 73.93111 118.378528 \nL 83.675289 118.567383 \nL 93.419468 122.620304 \nL 103.163647 124.553076 \nL 112.907826 127.17698 \n\" clip-path=\"url(#p6ae9c8244a)\" style=\"fill: none; stroke: #1f77b4; stroke-width: 1.5; stroke-linecap: square\"/>\n   </g>\n   <g id=\"line2d_56\">\n    <path d=\"M 49.633125 88.2573 \nL 69.163125 105.271698 \nL 88.693125 91.981448 \nL 108.223125 89.994411 \n\" clip-path=\"url(#p6ae9c8244a)\" style=\"fill: none; stroke-dasharray: 5.55,2.4; stroke-dashoffset: 0; stroke: #ff7f0e; stroke-width: 1.5\"/>\n   </g>\n   <g id=\"line2d_57\">\n    <path d=\"M 49.633125 26.746578 \nL 69.163125 21.050557 \nL 88.693125 27.195842 \nL 108.223125 26.618217 \n\" clip-path=\"url(#p6ae9c8244a)\" style=\"fill: none; stroke-dasharray: 9.6,2.4,1.5,2.4; stroke-dashoffset: 0; stroke: #2ca02c; stroke-width: 1.5\"/>\n   </g>\n   <g id=\"line2d_58\">\n    <path d=\"M 34.954394 13.5 \nL 44.698573 88.3101 \nL 54.442752 104.110506 \nL 64.186931 112.337979 \nL 73.93111 118.378528 \nL 83.675289 118.567383 \nL 93.419468 122.620304 \nL 103.163647 124.553076 \nL 112.907826 127.17698 \nL 122.652006 127.279126 \n\" clip-path=\"url(#p6ae9c8244a)\" style=\"fill: none; stroke: #1f77b4; stroke-width: 1.5; stroke-linecap: square\"/>\n   </g>\n   <g id=\"line2d_59\">\n    <path d=\"M 49.633125 88.2573 \nL 69.163125 105.271698 \nL 88.693125 91.981448 \nL 108.223125 89.994411 \n\" clip-path=\"url(#p6ae9c8244a)\" style=\"fill: none; stroke-dasharray: 5.55,2.4; stroke-dashoffset: 0; stroke: #ff7f0e; stroke-width: 1.5\"/>\n   </g>\n   <g id=\"line2d_60\">\n    <path d=\"M 49.633125 26.746578 \nL 69.163125 21.050557 \nL 88.693125 27.195842 \nL 108.223125 26.618217 \n\" clip-path=\"url(#p6ae9c8244a)\" style=\"fill: none; stroke-dasharray: 9.6,2.4,1.5,2.4; stroke-dashoffset: 0; stroke: #2ca02c; stroke-width: 1.5\"/>\n   </g>\n   <g id=\"line2d_61\">\n    <path d=\"M 34.954394 13.5 \nL 44.698573 88.3101 \nL 54.442752 104.110506 \nL 64.186931 112.337979 \nL 73.93111 118.378528 \nL 83.675289 118.567383 \nL 93.419468 122.620304 \nL 103.163647 124.553076 \nL 112.907826 127.17698 \nL 122.652006 127.279126 \n\" clip-path=\"url(#p6ae9c8244a)\" style=\"fill: none; stroke: #1f77b4; stroke-width: 1.5; stroke-linecap: square\"/>\n   </g>\n   <g id=\"line2d_62\">\n    <path d=\"M 49.633125 88.2573 \nL 69.163125 105.271698 \nL 88.693125 91.981448 \nL 108.223125 89.994411 \nL 127.753125 115.001105 \n\" clip-path=\"url(#p6ae9c8244a)\" style=\"fill: none; stroke-dasharray: 5.55,2.4; stroke-dashoffset: 0; stroke: #ff7f0e; stroke-width: 1.5\"/>\n   </g>\n   <g id=\"line2d_63\">\n    <path d=\"M 49.633125 26.746578 \nL 69.163125 21.050557 \nL 88.693125 27.195842 \nL 108.223125 26.618217 \n\" clip-path=\"url(#p6ae9c8244a)\" style=\"fill: none; stroke-dasharray: 9.6,2.4,1.5,2.4; stroke-dashoffset: 0; stroke: #2ca02c; stroke-width: 1.5\"/>\n   </g>\n   <g id=\"line2d_64\">\n    <path d=\"M 34.954394 13.5 \nL 44.698573 88.3101 \nL 54.442752 104.110506 \nL 64.186931 112.337979 \nL 73.93111 118.378528 \nL 83.675289 118.567383 \nL 93.419468 122.620304 \nL 103.163647 124.553076 \nL 112.907826 127.17698 \nL 122.652006 127.279126 \n\" clip-path=\"url(#p6ae9c8244a)\" style=\"fill: none; stroke: #1f77b4; stroke-width: 1.5; stroke-linecap: square\"/>\n   </g>\n   <g id=\"line2d_65\">\n    <path d=\"M 49.633125 88.2573 \nL 69.163125 105.271698 \nL 88.693125 91.981448 \nL 108.223125 89.994411 \nL 127.753125 115.001105 \n\" clip-path=\"url(#p6ae9c8244a)\" style=\"fill: none; stroke-dasharray: 5.55,2.4; stroke-dashoffset: 0; stroke: #ff7f0e; stroke-width: 1.5\"/>\n   </g>\n   <g id=\"line2d_66\">\n    <path d=\"M 49.633125 26.746578 \nL 69.163125 21.050557 \nL 88.693125 27.195842 \nL 108.223125 26.618217 \nL 127.753125 18.130344 \n\" clip-path=\"url(#p6ae9c8244a)\" style=\"fill: none; stroke-dasharray: 9.6,2.4,1.5,2.4; stroke-dashoffset: 0; stroke: #2ca02c; stroke-width: 1.5\"/>\n   </g>\n   <g id=\"line2d_67\">\n    <path d=\"M 34.954394 13.5 \nL 44.698573 88.3101 \nL 54.442752 104.110506 \nL 64.186931 112.337979 \nL 73.93111 118.378528 \nL 83.675289 118.567383 \nL 93.419468 122.620304 \nL 103.163647 124.553076 \nL 112.907826 127.17698 \nL 122.652006 127.279126 \nL 132.396185 130.811162 \n\" clip-path=\"url(#p6ae9c8244a)\" style=\"fill: none; stroke: #1f77b4; stroke-width: 1.5; stroke-linecap: square\"/>\n   </g>\n   <g id=\"line2d_68\">\n    <path d=\"M 49.633125 88.2573 \nL 69.163125 105.271698 \nL 88.693125 91.981448 \nL 108.223125 89.994411 \nL 127.753125 115.001105 \n\" clip-path=\"url(#p6ae9c8244a)\" style=\"fill: none; stroke-dasharray: 5.55,2.4; stroke-dashoffset: 0; stroke: #ff7f0e; stroke-width: 1.5\"/>\n   </g>\n   <g id=\"line2d_69\">\n    <path d=\"M 49.633125 26.746578 \nL 69.163125 21.050557 \nL 88.693125 27.195842 \nL 108.223125 26.618217 \nL 127.753125 18.130344 \n\" clip-path=\"url(#p6ae9c8244a)\" style=\"fill: none; stroke-dasharray: 9.6,2.4,1.5,2.4; stroke-dashoffset: 0; stroke: #2ca02c; stroke-width: 1.5\"/>\n   </g>\n   <g id=\"line2d_70\">\n    <path d=\"M 34.954394 13.5 \nL 44.698573 88.3101 \nL 54.442752 104.110506 \nL 64.186931 112.337979 \nL 73.93111 118.378528 \nL 83.675289 118.567383 \nL 93.419468 122.620304 \nL 103.163647 124.553076 \nL 112.907826 127.17698 \nL 122.652006 127.279126 \nL 132.396185 130.811162 \nL 142.140364 130.440982 \n\" clip-path=\"url(#p6ae9c8244a)\" style=\"fill: none; stroke: #1f77b4; stroke-width: 1.5; stroke-linecap: square\"/>\n   </g>\n   <g id=\"line2d_71\">\n    <path d=\"M 49.633125 88.2573 \nL 69.163125 105.271698 \nL 88.693125 91.981448 \nL 108.223125 89.994411 \nL 127.753125 115.001105 \n\" clip-path=\"url(#p6ae9c8244a)\" style=\"fill: none; stroke-dasharray: 5.55,2.4; stroke-dashoffset: 0; stroke: #ff7f0e; stroke-width: 1.5\"/>\n   </g>\n   <g id=\"line2d_72\">\n    <path d=\"M 49.633125 26.746578 \nL 69.163125 21.050557 \nL 88.693125 27.195842 \nL 108.223125 26.618217 \nL 127.753125 18.130344 \n\" clip-path=\"url(#p6ae9c8244a)\" style=\"fill: none; stroke-dasharray: 9.6,2.4,1.5,2.4; stroke-dashoffset: 0; stroke: #2ca02c; stroke-width: 1.5\"/>\n   </g>\n   <g id=\"line2d_73\">\n    <path d=\"M 34.954394 13.5 \nL 44.698573 88.3101 \nL 54.442752 104.110506 \nL 64.186931 112.337979 \nL 73.93111 118.378528 \nL 83.675289 118.567383 \nL 93.419468 122.620304 \nL 103.163647 124.553076 \nL 112.907826 127.17698 \nL 122.652006 127.279126 \nL 132.396185 130.811162 \nL 142.140364 130.440982 \n\" clip-path=\"url(#p6ae9c8244a)\" style=\"fill: none; stroke: #1f77b4; stroke-width: 1.5; stroke-linecap: square\"/>\n   </g>\n   <g id=\"line2d_74\">\n    <path d=\"M 49.633125 88.2573 \nL 69.163125 105.271698 \nL 88.693125 91.981448 \nL 108.223125 89.994411 \nL 127.753125 115.001105 \nL 147.283125 118.369971 \n\" clip-path=\"url(#p6ae9c8244a)\" style=\"fill: none; stroke-dasharray: 5.55,2.4; stroke-dashoffset: 0; stroke: #ff7f0e; stroke-width: 1.5\"/>\n   </g>\n   <g id=\"line2d_75\">\n    <path d=\"M 49.633125 26.746578 \nL 69.163125 21.050557 \nL 88.693125 27.195842 \nL 108.223125 26.618217 \nL 127.753125 18.130344 \n\" clip-path=\"url(#p6ae9c8244a)\" style=\"fill: none; stroke-dasharray: 9.6,2.4,1.5,2.4; stroke-dashoffset: 0; stroke: #2ca02c; stroke-width: 1.5\"/>\n   </g>\n   <g id=\"line2d_76\">\n    <path d=\"M 34.954394 13.5 \nL 44.698573 88.3101 \nL 54.442752 104.110506 \nL 64.186931 112.337979 \nL 73.93111 118.378528 \nL 83.675289 118.567383 \nL 93.419468 122.620304 \nL 103.163647 124.553076 \nL 112.907826 127.17698 \nL 122.652006 127.279126 \nL 132.396185 130.811162 \nL 142.140364 130.440982 \n\" clip-path=\"url(#p6ae9c8244a)\" style=\"fill: none; stroke: #1f77b4; stroke-width: 1.5; stroke-linecap: square\"/>\n   </g>\n   <g id=\"line2d_77\">\n    <path d=\"M 49.633125 88.2573 \nL 69.163125 105.271698 \nL 88.693125 91.981448 \nL 108.223125 89.994411 \nL 127.753125 115.001105 \nL 147.283125 118.369971 \n\" clip-path=\"url(#p6ae9c8244a)\" style=\"fill: none; stroke-dasharray: 5.55,2.4; stroke-dashoffset: 0; stroke: #ff7f0e; stroke-width: 1.5\"/>\n   </g>\n   <g id=\"line2d_78\">\n    <path d=\"M 49.633125 26.746578 \nL 69.163125 21.050557 \nL 88.693125 27.195842 \nL 108.223125 26.618217 \nL 127.753125 18.130344 \nL 147.283125 16.943004 \n\" clip-path=\"url(#p6ae9c8244a)\" style=\"fill: none; stroke-dasharray: 9.6,2.4,1.5,2.4; stroke-dashoffset: 0; stroke: #2ca02c; stroke-width: 1.5\"/>\n   </g>\n   <g id=\"line2d_79\">\n    <path d=\"M 34.954394 13.5 \nL 44.698573 88.3101 \nL 54.442752 104.110506 \nL 64.186931 112.337979 \nL 73.93111 118.378528 \nL 83.675289 118.567383 \nL 93.419468 122.620304 \nL 103.163647 124.553076 \nL 112.907826 127.17698 \nL 122.652006 127.279126 \nL 132.396185 130.811162 \nL 142.140364 130.440982 \nL 151.884543 133.061004 \n\" clip-path=\"url(#p6ae9c8244a)\" style=\"fill: none; stroke: #1f77b4; stroke-width: 1.5; stroke-linecap: square\"/>\n   </g>\n   <g id=\"line2d_80\">\n    <path d=\"M 49.633125 88.2573 \nL 69.163125 105.271698 \nL 88.693125 91.981448 \nL 108.223125 89.994411 \nL 127.753125 115.001105 \nL 147.283125 118.369971 \n\" clip-path=\"url(#p6ae9c8244a)\" style=\"fill: none; stroke-dasharray: 5.55,2.4; stroke-dashoffset: 0; stroke: #ff7f0e; stroke-width: 1.5\"/>\n   </g>\n   <g id=\"line2d_81\">\n    <path d=\"M 49.633125 26.746578 \nL 69.163125 21.050557 \nL 88.693125 27.195842 \nL 108.223125 26.618217 \nL 127.753125 18.130344 \nL 147.283125 16.943004 \n\" clip-path=\"url(#p6ae9c8244a)\" style=\"fill: none; stroke-dasharray: 9.6,2.4,1.5,2.4; stroke-dashoffset: 0; stroke: #2ca02c; stroke-width: 1.5\"/>\n   </g>\n   <g id=\"line2d_82\">\n    <path d=\"M 34.954394 13.5 \nL 44.698573 88.3101 \nL 54.442752 104.110506 \nL 64.186931 112.337979 \nL 73.93111 118.378528 \nL 83.675289 118.567383 \nL 93.419468 122.620304 \nL 103.163647 124.553076 \nL 112.907826 127.17698 \nL 122.652006 127.279126 \nL 132.396185 130.811162 \nL 142.140364 130.440982 \nL 151.884543 133.061004 \nL 161.628722 131.840658 \n\" clip-path=\"url(#p6ae9c8244a)\" style=\"fill: none; stroke: #1f77b4; stroke-width: 1.5; stroke-linecap: square\"/>\n   </g>\n   <g id=\"line2d_83\">\n    <path d=\"M 49.633125 88.2573 \nL 69.163125 105.271698 \nL 88.693125 91.981448 \nL 108.223125 89.994411 \nL 127.753125 115.001105 \nL 147.283125 118.369971 \n\" clip-path=\"url(#p6ae9c8244a)\" style=\"fill: none; stroke-dasharray: 5.55,2.4; stroke-dashoffset: 0; stroke: #ff7f0e; stroke-width: 1.5\"/>\n   </g>\n   <g id=\"line2d_84\">\n    <path d=\"M 49.633125 26.746578 \nL 69.163125 21.050557 \nL 88.693125 27.195842 \nL 108.223125 26.618217 \nL 127.753125 18.130344 \nL 147.283125 16.943004 \n\" clip-path=\"url(#p6ae9c8244a)\" style=\"fill: none; stroke-dasharray: 9.6,2.4,1.5,2.4; stroke-dashoffset: 0; stroke: #2ca02c; stroke-width: 1.5\"/>\n   </g>\n   <g id=\"line2d_85\">\n    <path d=\"M 34.954394 13.5 \nL 44.698573 88.3101 \nL 54.442752 104.110506 \nL 64.186931 112.337979 \nL 73.93111 118.378528 \nL 83.675289 118.567383 \nL 93.419468 122.620304 \nL 103.163647 124.553076 \nL 112.907826 127.17698 \nL 122.652006 127.279126 \nL 132.396185 130.811162 \nL 142.140364 130.440982 \nL 151.884543 133.061004 \nL 161.628722 131.840658 \n\" clip-path=\"url(#p6ae9c8244a)\" style=\"fill: none; stroke: #1f77b4; stroke-width: 1.5; stroke-linecap: square\"/>\n   </g>\n   <g id=\"line2d_86\">\n    <path d=\"M 49.633125 88.2573 \nL 69.163125 105.271698 \nL 88.693125 91.981448 \nL 108.223125 89.994411 \nL 127.753125 115.001105 \nL 147.283125 118.369971 \nL 166.813125 121.793424 \n\" clip-path=\"url(#p6ae9c8244a)\" style=\"fill: none; stroke-dasharray: 5.55,2.4; stroke-dashoffset: 0; stroke: #ff7f0e; stroke-width: 1.5\"/>\n   </g>\n   <g id=\"line2d_87\">\n    <path d=\"M 49.633125 26.746578 \nL 69.163125 21.050557 \nL 88.693125 27.195842 \nL 108.223125 26.618217 \nL 127.753125 18.130344 \nL 147.283125 16.943004 \n\" clip-path=\"url(#p6ae9c8244a)\" style=\"fill: none; stroke-dasharray: 9.6,2.4,1.5,2.4; stroke-dashoffset: 0; stroke: #2ca02c; stroke-width: 1.5\"/>\n   </g>\n   <g id=\"line2d_88\">\n    <path d=\"M 34.954394 13.5 \nL 44.698573 88.3101 \nL 54.442752 104.110506 \nL 64.186931 112.337979 \nL 73.93111 118.378528 \nL 83.675289 118.567383 \nL 93.419468 122.620304 \nL 103.163647 124.553076 \nL 112.907826 127.17698 \nL 122.652006 127.279126 \nL 132.396185 130.811162 \nL 142.140364 130.440982 \nL 151.884543 133.061004 \nL 161.628722 131.840658 \n\" clip-path=\"url(#p6ae9c8244a)\" style=\"fill: none; stroke: #1f77b4; stroke-width: 1.5; stroke-linecap: square\"/>\n   </g>\n   <g id=\"line2d_89\">\n    <path d=\"M 49.633125 88.2573 \nL 69.163125 105.271698 \nL 88.693125 91.981448 \nL 108.223125 89.994411 \nL 127.753125 115.001105 \nL 147.283125 118.369971 \nL 166.813125 121.793424 \n\" clip-path=\"url(#p6ae9c8244a)\" style=\"fill: none; stroke-dasharray: 5.55,2.4; stroke-dashoffset: 0; stroke: #ff7f0e; stroke-width: 1.5\"/>\n   </g>\n   <g id=\"line2d_90\">\n    <path d=\"M 49.633125 26.746578 \nL 69.163125 21.050557 \nL 88.693125 27.195842 \nL 108.223125 26.618217 \nL 127.753125 18.130344 \nL 147.283125 16.943004 \nL 166.813125 15.659394 \n\" clip-path=\"url(#p6ae9c8244a)\" style=\"fill: none; stroke-dasharray: 9.6,2.4,1.5,2.4; stroke-dashoffset: 0; stroke: #2ca02c; stroke-width: 1.5\"/>\n   </g>\n   <g id=\"line2d_91\">\n    <path d=\"M 34.954394 13.5 \nL 44.698573 88.3101 \nL 54.442752 104.110506 \nL 64.186931 112.337979 \nL 73.93111 118.378528 \nL 83.675289 118.567383 \nL 93.419468 122.620304 \nL 103.163647 124.553076 \nL 112.907826 127.17698 \nL 122.652006 127.279126 \nL 132.396185 130.811162 \nL 142.140364 130.440982 \nL 151.884543 133.061004 \nL 161.628722 131.840658 \nL 171.372901 135.131596 \n\" clip-path=\"url(#p6ae9c8244a)\" style=\"fill: none; stroke: #1f77b4; stroke-width: 1.5; stroke-linecap: square\"/>\n   </g>\n   <g id=\"line2d_92\">\n    <path d=\"M 49.633125 88.2573 \nL 69.163125 105.271698 \nL 88.693125 91.981448 \nL 108.223125 89.994411 \nL 127.753125 115.001105 \nL 147.283125 118.369971 \nL 166.813125 121.793424 \n\" clip-path=\"url(#p6ae9c8244a)\" style=\"fill: none; stroke-dasharray: 5.55,2.4; stroke-dashoffset: 0; stroke: #ff7f0e; stroke-width: 1.5\"/>\n   </g>\n   <g id=\"line2d_93\">\n    <path d=\"M 49.633125 26.746578 \nL 69.163125 21.050557 \nL 88.693125 27.195842 \nL 108.223125 26.618217 \nL 127.753125 18.130344 \nL 147.283125 16.943004 \nL 166.813125 15.659394 \n\" clip-path=\"url(#p6ae9c8244a)\" style=\"fill: none; stroke-dasharray: 9.6,2.4,1.5,2.4; stroke-dashoffset: 0; stroke: #2ca02c; stroke-width: 1.5\"/>\n   </g>\n   <g id=\"line2d_94\">\n    <path d=\"M 34.954394 13.5 \nL 44.698573 88.3101 \nL 54.442752 104.110506 \nL 64.186931 112.337979 \nL 73.93111 118.378528 \nL 83.675289 118.567383 \nL 93.419468 122.620304 \nL 103.163647 124.553076 \nL 112.907826 127.17698 \nL 122.652006 127.279126 \nL 132.396185 130.811162 \nL 142.140364 130.440982 \nL 151.884543 133.061004 \nL 161.628722 131.840658 \nL 171.372901 135.131596 \nL 181.11708 134.005181 \n\" clip-path=\"url(#p6ae9c8244a)\" style=\"fill: none; stroke: #1f77b4; stroke-width: 1.5; stroke-linecap: square\"/>\n   </g>\n   <g id=\"line2d_95\">\n    <path d=\"M 49.633125 88.2573 \nL 69.163125 105.271698 \nL 88.693125 91.981448 \nL 108.223125 89.994411 \nL 127.753125 115.001105 \nL 147.283125 118.369971 \nL 166.813125 121.793424 \n\" clip-path=\"url(#p6ae9c8244a)\" style=\"fill: none; stroke-dasharray: 5.55,2.4; stroke-dashoffset: 0; stroke: #ff7f0e; stroke-width: 1.5\"/>\n   </g>\n   <g id=\"line2d_96\">\n    <path d=\"M 49.633125 26.746578 \nL 69.163125 21.050557 \nL 88.693125 27.195842 \nL 108.223125 26.618217 \nL 127.753125 18.130344 \nL 147.283125 16.943004 \nL 166.813125 15.659394 \n\" clip-path=\"url(#p6ae9c8244a)\" style=\"fill: none; stroke-dasharray: 9.6,2.4,1.5,2.4; stroke-dashoffset: 0; stroke: #2ca02c; stroke-width: 1.5\"/>\n   </g>\n   <g id=\"line2d_97\">\n    <path d=\"M 34.954394 13.5 \nL 44.698573 88.3101 \nL 54.442752 104.110506 \nL 64.186931 112.337979 \nL 73.93111 118.378528 \nL 83.675289 118.567383 \nL 93.419468 122.620304 \nL 103.163647 124.553076 \nL 112.907826 127.17698 \nL 122.652006 127.279126 \nL 132.396185 130.811162 \nL 142.140364 130.440982 \nL 151.884543 133.061004 \nL 161.628722 131.840658 \nL 171.372901 135.131596 \nL 181.11708 134.005181 \n\" clip-path=\"url(#p6ae9c8244a)\" style=\"fill: none; stroke: #1f77b4; stroke-width: 1.5; stroke-linecap: square\"/>\n   </g>\n   <g id=\"line2d_98\">\n    <path d=\"M 49.633125 88.2573 \nL 69.163125 105.271698 \nL 88.693125 91.981448 \nL 108.223125 89.994411 \nL 127.753125 115.001105 \nL 147.283125 118.369971 \nL 166.813125 121.793424 \nL 186.343125 122.075823 \n\" clip-path=\"url(#p6ae9c8244a)\" style=\"fill: none; stroke-dasharray: 5.55,2.4; stroke-dashoffset: 0; stroke: #ff7f0e; stroke-width: 1.5\"/>\n   </g>\n   <g id=\"line2d_99\">\n    <path d=\"M 49.633125 26.746578 \nL 69.163125 21.050557 \nL 88.693125 27.195842 \nL 108.223125 26.618217 \nL 127.753125 18.130344 \nL 147.283125 16.943004 \nL 166.813125 15.659394 \n\" clip-path=\"url(#p6ae9c8244a)\" style=\"fill: none; stroke-dasharray: 9.6,2.4,1.5,2.4; stroke-dashoffset: 0; stroke: #2ca02c; stroke-width: 1.5\"/>\n   </g>\n   <g id=\"line2d_100\">\n    <path d=\"M 34.954394 13.5 \nL 44.698573 88.3101 \nL 54.442752 104.110506 \nL 64.186931 112.337979 \nL 73.93111 118.378528 \nL 83.675289 118.567383 \nL 93.419468 122.620304 \nL 103.163647 124.553076 \nL 112.907826 127.17698 \nL 122.652006 127.279126 \nL 132.396185 130.811162 \nL 142.140364 130.440982 \nL 151.884543 133.061004 \nL 161.628722 131.840658 \nL 171.372901 135.131596 \nL 181.11708 134.005181 \n\" clip-path=\"url(#p6ae9c8244a)\" style=\"fill: none; stroke: #1f77b4; stroke-width: 1.5; stroke-linecap: square\"/>\n   </g>\n   <g id=\"line2d_101\">\n    <path d=\"M 49.633125 88.2573 \nL 69.163125 105.271698 \nL 88.693125 91.981448 \nL 108.223125 89.994411 \nL 127.753125 115.001105 \nL 147.283125 118.369971 \nL 166.813125 121.793424 \nL 186.343125 122.075823 \n\" clip-path=\"url(#p6ae9c8244a)\" style=\"fill: none; stroke-dasharray: 5.55,2.4; stroke-dashoffset: 0; stroke: #ff7f0e; stroke-width: 1.5\"/>\n   </g>\n   <g id=\"line2d_102\">\n    <path d=\"M 49.633125 26.746578 \nL 69.163125 21.050557 \nL 88.693125 27.195842 \nL 108.223125 26.618217 \nL 127.753125 18.130344 \nL 147.283125 16.943004 \nL 166.813125 15.659394 \nL 186.343125 15.819845 \n\" clip-path=\"url(#p6ae9c8244a)\" style=\"fill: none; stroke-dasharray: 9.6,2.4,1.5,2.4; stroke-dashoffset: 0; stroke: #2ca02c; stroke-width: 1.5\"/>\n   </g>\n   <g id=\"line2d_103\">\n    <path d=\"M 34.954394 13.5 \nL 44.698573 88.3101 \nL 54.442752 104.110506 \nL 64.186931 112.337979 \nL 73.93111 118.378528 \nL 83.675289 118.567383 \nL 93.419468 122.620304 \nL 103.163647 124.553076 \nL 112.907826 127.17698 \nL 122.652006 127.279126 \nL 132.396185 130.811162 \nL 142.140364 130.440982 \nL 151.884543 133.061004 \nL 161.628722 131.840658 \nL 171.372901 135.131596 \nL 181.11708 134.005181 \nL 190.861259 137.075245 \n\" clip-path=\"url(#p6ae9c8244a)\" style=\"fill: none; stroke: #1f77b4; stroke-width: 1.5; stroke-linecap: square\"/>\n   </g>\n   <g id=\"line2d_104\">\n    <path d=\"M 49.633125 88.2573 \nL 69.163125 105.271698 \nL 88.693125 91.981448 \nL 108.223125 89.994411 \nL 127.753125 115.001105 \nL 147.283125 118.369971 \nL 166.813125 121.793424 \nL 186.343125 122.075823 \n\" clip-path=\"url(#p6ae9c8244a)\" style=\"fill: none; stroke-dasharray: 5.55,2.4; stroke-dashoffset: 0; stroke: #ff7f0e; stroke-width: 1.5\"/>\n   </g>\n   <g id=\"line2d_105\">\n    <path d=\"M 49.633125 26.746578 \nL 69.163125 21.050557 \nL 88.693125 27.195842 \nL 108.223125 26.618217 \nL 127.753125 18.130344 \nL 147.283125 16.943004 \nL 166.813125 15.659394 \nL 186.343125 15.819845 \n\" clip-path=\"url(#p6ae9c8244a)\" style=\"fill: none; stroke-dasharray: 9.6,2.4,1.5,2.4; stroke-dashoffset: 0; stroke: #2ca02c; stroke-width: 1.5\"/>\n   </g>\n   <g id=\"line2d_106\">\n    <path d=\"M 34.954394 13.5 \nL 44.698573 88.3101 \nL 54.442752 104.110506 \nL 64.186931 112.337979 \nL 73.93111 118.378528 \nL 83.675289 118.567383 \nL 93.419468 122.620304 \nL 103.163647 124.553076 \nL 112.907826 127.17698 \nL 122.652006 127.279126 \nL 132.396185 130.811162 \nL 142.140364 130.440982 \nL 151.884543 133.061004 \nL 161.628722 131.840658 \nL 171.372901 135.131596 \nL 181.11708 134.005181 \nL 190.861259 137.075245 \nL 200.605438 136.530652 \n\" clip-path=\"url(#p6ae9c8244a)\" style=\"fill: none; stroke: #1f77b4; stroke-width: 1.5; stroke-linecap: square\"/>\n   </g>\n   <g id=\"line2d_107\">\n    <path d=\"M 49.633125 88.2573 \nL 69.163125 105.271698 \nL 88.693125 91.981448 \nL 108.223125 89.994411 \nL 127.753125 115.001105 \nL 147.283125 118.369971 \nL 166.813125 121.793424 \nL 186.343125 122.075823 \n\" clip-path=\"url(#p6ae9c8244a)\" style=\"fill: none; stroke-dasharray: 5.55,2.4; stroke-dashoffset: 0; stroke: #ff7f0e; stroke-width: 1.5\"/>\n   </g>\n   <g id=\"line2d_108\">\n    <path d=\"M 49.633125 26.746578 \nL 69.163125 21.050557 \nL 88.693125 27.195842 \nL 108.223125 26.618217 \nL 127.753125 18.130344 \nL 147.283125 16.943004 \nL 166.813125 15.659394 \nL 186.343125 15.819845 \n\" clip-path=\"url(#p6ae9c8244a)\" style=\"fill: none; stroke-dasharray: 9.6,2.4,1.5,2.4; stroke-dashoffset: 0; stroke: #2ca02c; stroke-width: 1.5\"/>\n   </g>\n   <g id=\"line2d_109\">\n    <path d=\"M 34.954394 13.5 \nL 44.698573 88.3101 \nL 54.442752 104.110506 \nL 64.186931 112.337979 \nL 73.93111 118.378528 \nL 83.675289 118.567383 \nL 93.419468 122.620304 \nL 103.163647 124.553076 \nL 112.907826 127.17698 \nL 122.652006 127.279126 \nL 132.396185 130.811162 \nL 142.140364 130.440982 \nL 151.884543 133.061004 \nL 161.628722 131.840658 \nL 171.372901 135.131596 \nL 181.11708 134.005181 \nL 190.861259 137.075245 \nL 200.605438 136.530652 \n\" clip-path=\"url(#p6ae9c8244a)\" style=\"fill: none; stroke: #1f77b4; stroke-width: 1.5; stroke-linecap: square\"/>\n   </g>\n   <g id=\"line2d_110\">\n    <path d=\"M 49.633125 88.2573 \nL 69.163125 105.271698 \nL 88.693125 91.981448 \nL 108.223125 89.994411 \nL 127.753125 115.001105 \nL 147.283125 118.369971 \nL 166.813125 121.793424 \nL 186.343125 122.075823 \nL 205.873125 115.833837 \n\" clip-path=\"url(#p6ae9c8244a)\" style=\"fill: none; stroke-dasharray: 5.55,2.4; stroke-dashoffset: 0; stroke: #ff7f0e; stroke-width: 1.5\"/>\n   </g>\n   <g id=\"line2d_111\">\n    <path d=\"M 49.633125 26.746578 \nL 69.163125 21.050557 \nL 88.693125 27.195842 \nL 108.223125 26.618217 \nL 127.753125 18.130344 \nL 147.283125 16.943004 \nL 166.813125 15.659394 \nL 186.343125 15.819845 \n\" clip-path=\"url(#p6ae9c8244a)\" style=\"fill: none; stroke-dasharray: 9.6,2.4,1.5,2.4; stroke-dashoffset: 0; stroke: #2ca02c; stroke-width: 1.5\"/>\n   </g>\n   <g id=\"line2d_112\">\n    <path d=\"M 34.954394 13.5 \nL 44.698573 88.3101 \nL 54.442752 104.110506 \nL 64.186931 112.337979 \nL 73.93111 118.378528 \nL 83.675289 118.567383 \nL 93.419468 122.620304 \nL 103.163647 124.553076 \nL 112.907826 127.17698 \nL 122.652006 127.279126 \nL 132.396185 130.811162 \nL 142.140364 130.440982 \nL 151.884543 133.061004 \nL 161.628722 131.840658 \nL 171.372901 135.131596 \nL 181.11708 134.005181 \nL 190.861259 137.075245 \nL 200.605438 136.530652 \n\" clip-path=\"url(#p6ae9c8244a)\" style=\"fill: none; stroke: #1f77b4; stroke-width: 1.5; stroke-linecap: square\"/>\n   </g>\n   <g id=\"line2d_113\">\n    <path d=\"M 49.633125 88.2573 \nL 69.163125 105.271698 \nL 88.693125 91.981448 \nL 108.223125 89.994411 \nL 127.753125 115.001105 \nL 147.283125 118.369971 \nL 166.813125 121.793424 \nL 186.343125 122.075823 \nL 205.873125 115.833837 \n\" clip-path=\"url(#p6ae9c8244a)\" style=\"fill: none; stroke-dasharray: 5.55,2.4; stroke-dashoffset: 0; stroke: #ff7f0e; stroke-width: 1.5\"/>\n   </g>\n   <g id=\"line2d_114\">\n    <path d=\"M 49.633125 26.746578 \nL 69.163125 21.050557 \nL 88.693125 27.195842 \nL 108.223125 26.618217 \nL 127.753125 18.130344 \nL 147.283125 16.943004 \nL 166.813125 15.659394 \nL 186.343125 15.819845 \nL 205.873125 18.419156 \n\" clip-path=\"url(#p6ae9c8244a)\" style=\"fill: none; stroke-dasharray: 9.6,2.4,1.5,2.4; stroke-dashoffset: 0; stroke: #2ca02c; stroke-width: 1.5\"/>\n   </g>\n   <g id=\"line2d_115\">\n    <path d=\"M 34.954394 13.5 \nL 44.698573 88.3101 \nL 54.442752 104.110506 \nL 64.186931 112.337979 \nL 73.93111 118.378528 \nL 83.675289 118.567383 \nL 93.419468 122.620304 \nL 103.163647 124.553076 \nL 112.907826 127.17698 \nL 122.652006 127.279126 \nL 132.396185 130.811162 \nL 142.140364 130.440982 \nL 151.884543 133.061004 \nL 161.628722 131.840658 \nL 171.372901 135.131596 \nL 181.11708 134.005181 \nL 190.861259 137.075245 \nL 200.605438 136.530652 \nL 210.349618 139.5 \n\" clip-path=\"url(#p6ae9c8244a)\" style=\"fill: none; stroke: #1f77b4; stroke-width: 1.5; stroke-linecap: square\"/>\n   </g>\n   <g id=\"line2d_116\">\n    <path d=\"M 49.633125 88.2573 \nL 69.163125 105.271698 \nL 88.693125 91.981448 \nL 108.223125 89.994411 \nL 127.753125 115.001105 \nL 147.283125 118.369971 \nL 166.813125 121.793424 \nL 186.343125 122.075823 \nL 205.873125 115.833837 \n\" clip-path=\"url(#p6ae9c8244a)\" style=\"fill: none; stroke-dasharray: 5.55,2.4; stroke-dashoffset: 0; stroke: #ff7f0e; stroke-width: 1.5\"/>\n   </g>\n   <g id=\"line2d_117\">\n    <path d=\"M 49.633125 26.746578 \nL 69.163125 21.050557 \nL 88.693125 27.195842 \nL 108.223125 26.618217 \nL 127.753125 18.130344 \nL 147.283125 16.943004 \nL 166.813125 15.659394 \nL 186.343125 15.819845 \nL 205.873125 18.419156 \n\" clip-path=\"url(#p6ae9c8244a)\" style=\"fill: none; stroke-dasharray: 9.6,2.4,1.5,2.4; stroke-dashoffset: 0; stroke: #2ca02c; stroke-width: 1.5\"/>\n   </g>\n   <g id=\"line2d_118\">\n    <path d=\"M 34.954394 13.5 \nL 44.698573 88.3101 \nL 54.442752 104.110506 \nL 64.186931 112.337979 \nL 73.93111 118.378528 \nL 83.675289 118.567383 \nL 93.419468 122.620304 \nL 103.163647 124.553076 \nL 112.907826 127.17698 \nL 122.652006 127.279126 \nL 132.396185 130.811162 \nL 142.140364 130.440982 \nL 151.884543 133.061004 \nL 161.628722 131.840658 \nL 171.372901 135.131596 \nL 181.11708 134.005181 \nL 190.861259 137.075245 \nL 200.605438 136.530652 \nL 210.349618 139.5 \nL 220.093797 138.613355 \n\" clip-path=\"url(#p6ae9c8244a)\" style=\"fill: none; stroke: #1f77b4; stroke-width: 1.5; stroke-linecap: square\"/>\n   </g>\n   <g id=\"line2d_119\">\n    <path d=\"M 49.633125 88.2573 \nL 69.163125 105.271698 \nL 88.693125 91.981448 \nL 108.223125 89.994411 \nL 127.753125 115.001105 \nL 147.283125 118.369971 \nL 166.813125 121.793424 \nL 186.343125 122.075823 \nL 205.873125 115.833837 \n\" clip-path=\"url(#p6ae9c8244a)\" style=\"fill: none; stroke-dasharray: 5.55,2.4; stroke-dashoffset: 0; stroke: #ff7f0e; stroke-width: 1.5\"/>\n   </g>\n   <g id=\"line2d_120\">\n    <path d=\"M 49.633125 26.746578 \nL 69.163125 21.050557 \nL 88.693125 27.195842 \nL 108.223125 26.618217 \nL 127.753125 18.130344 \nL 147.283125 16.943004 \nL 166.813125 15.659394 \nL 186.343125 15.819845 \nL 205.873125 18.419156 \n\" clip-path=\"url(#p6ae9c8244a)\" style=\"fill: none; stroke-dasharray: 9.6,2.4,1.5,2.4; stroke-dashoffset: 0; stroke: #2ca02c; stroke-width: 1.5\"/>\n   </g>\n   <g id=\"line2d_121\">\n    <path d=\"M 34.954394 13.5 \nL 44.698573 88.3101 \nL 54.442752 104.110506 \nL 64.186931 112.337979 \nL 73.93111 118.378528 \nL 83.675289 118.567383 \nL 93.419468 122.620304 \nL 103.163647 124.553076 \nL 112.907826 127.17698 \nL 122.652006 127.279126 \nL 132.396185 130.811162 \nL 142.140364 130.440982 \nL 151.884543 133.061004 \nL 161.628722 131.840658 \nL 171.372901 135.131596 \nL 181.11708 134.005181 \nL 190.861259 137.075245 \nL 200.605438 136.530652 \nL 210.349618 139.5 \nL 220.093797 138.613355 \n\" clip-path=\"url(#p6ae9c8244a)\" style=\"fill: none; stroke: #1f77b4; stroke-width: 1.5; stroke-linecap: square\"/>\n   </g>\n   <g id=\"line2d_122\">\n    <path d=\"M 49.633125 88.2573 \nL 69.163125 105.271698 \nL 88.693125 91.981448 \nL 108.223125 89.994411 \nL 127.753125 115.001105 \nL 147.283125 118.369971 \nL 166.813125 121.793424 \nL 186.343125 122.075823 \nL 205.873125 115.833837 \nL 225.403125 84.94847 \n\" clip-path=\"url(#p6ae9c8244a)\" style=\"fill: none; stroke-dasharray: 5.55,2.4; stroke-dashoffset: 0; stroke: #ff7f0e; stroke-width: 1.5\"/>\n   </g>\n   <g id=\"line2d_123\">\n    <path d=\"M 49.633125 26.746578 \nL 69.163125 21.050557 \nL 88.693125 27.195842 \nL 108.223125 26.618217 \nL 127.753125 18.130344 \nL 147.283125 16.943004 \nL 166.813125 15.659394 \nL 186.343125 15.819845 \nL 205.873125 18.419156 \n\" clip-path=\"url(#p6ae9c8244a)\" style=\"fill: none; stroke-dasharray: 9.6,2.4,1.5,2.4; stroke-dashoffset: 0; stroke: #2ca02c; stroke-width: 1.5\"/>\n   </g>\n   <g id=\"line2d_124\">\n    <path d=\"M 34.954394 13.5 \nL 44.698573 88.3101 \nL 54.442752 104.110506 \nL 64.186931 112.337979 \nL 73.93111 118.378528 \nL 83.675289 118.567383 \nL 93.419468 122.620304 \nL 103.163647 124.553076 \nL 112.907826 127.17698 \nL 122.652006 127.279126 \nL 132.396185 130.811162 \nL 142.140364 130.440982 \nL 151.884543 133.061004 \nL 161.628722 131.840658 \nL 171.372901 135.131596 \nL 181.11708 134.005181 \nL 190.861259 137.075245 \nL 200.605438 136.530652 \nL 210.349618 139.5 \nL 220.093797 138.613355 \n\" clip-path=\"url(#p6ae9c8244a)\" style=\"fill: none; stroke: #1f77b4; stroke-width: 1.5; stroke-linecap: square\"/>\n   </g>\n   <g id=\"line2d_125\">\n    <path d=\"M 49.633125 88.2573 \nL 69.163125 105.271698 \nL 88.693125 91.981448 \nL 108.223125 89.994411 \nL 127.753125 115.001105 \nL 147.283125 118.369971 \nL 166.813125 121.793424 \nL 186.343125 122.075823 \nL 205.873125 115.833837 \nL 225.403125 84.94847 \n\" clip-path=\"url(#p6ae9c8244a)\" style=\"fill: none; stroke-dasharray: 5.55,2.4; stroke-dashoffset: 0; stroke: #ff7f0e; stroke-width: 1.5\"/>\n   </g>\n   <g id=\"line2d_126\">\n    <path d=\"M 49.633125 26.746578 \nL 69.163125 21.050557 \nL 88.693125 27.195842 \nL 108.223125 26.618217 \nL 127.753125 18.130344 \nL 147.283125 16.943004 \nL 166.813125 15.659394 \nL 186.343125 15.819845 \nL 205.873125 18.419156 \nL 225.403125 27.436519 \n\" clip-path=\"url(#p6ae9c8244a)\" style=\"fill: none; stroke-dasharray: 9.6,2.4,1.5,2.4; stroke-dashoffset: 0; stroke: #2ca02c; stroke-width: 1.5\"/>\n   </g>\n   <g id=\"patch_3\">\n    <path d=\"M 30.103125 145.8 \nL 30.103125 7.2 \n\" style=\"fill: none; stroke: #000000; stroke-width: 0.8; stroke-linejoin: miter; stroke-linecap: square\"/>\n   </g>\n   <g id=\"patch_4\">\n    <path d=\"M 225.403125 145.8 \nL 225.403125 7.2 \n\" style=\"fill: none; stroke: #000000; stroke-width: 0.8; stroke-linejoin: miter; stroke-linecap: square\"/>\n   </g>\n   <g id=\"patch_5\">\n    <path d=\"M 30.103125 145.8 \nL 225.403125 145.8 \n\" style=\"fill: none; stroke: #000000; stroke-width: 0.8; stroke-linejoin: miter; stroke-linecap: square\"/>\n   </g>\n   <g id=\"patch_6\">\n    <path d=\"M 30.103125 7.2 \nL 225.403125 7.2 \n\" style=\"fill: none; stroke: #000000; stroke-width: 0.8; stroke-linejoin: miter; stroke-linecap: square\"/>\n   </g>\n   <g id=\"legend_1\">\n    <g id=\"patch_7\">\n     <path d=\"M 138.8125 100.434375 \nL 218.403125 100.434375 \nQ 220.403125 100.434375 220.403125 98.434375 \nL 220.403125 54.565625 \nQ 220.403125 52.565625 218.403125 52.565625 \nL 138.8125 52.565625 \nQ 136.8125 52.565625 136.8125 54.565625 \nL 136.8125 98.434375 \nQ 136.8125 100.434375 138.8125 100.434375 \nz\n\" style=\"fill: #ffffff; opacity: 0.8; stroke: #cccccc; stroke-linejoin: miter\"/>\n    </g>\n    <g id=\"line2d_127\">\n     <path d=\"M 140.8125 60.664063 \nL 150.8125 60.664063 \nL 160.8125 60.664063 \n\" style=\"fill: none; stroke: #1f77b4; stroke-width: 1.5; stroke-linecap: square\"/>\n    </g>\n    <g id=\"text_12\">\n     <!-- train_loss -->\n     <g transform=\"translate(168.8125 64.164063) scale(0.1 -0.1)\">\n      <defs>\n       <path id=\"DejaVuSans-74\" d=\"M 1172 4494 \nL 1172 3500 \nL 2356 3500 \nL 2356 3053 \nL 1172 3053 \nL 1172 1153 \nQ 1172 725 1289 603 \nQ 1406 481 1766 481 \nL 2356 481 \nL 2356 0 \nL 1766 0 \nQ 1100 0 847 248 \nQ 594 497 594 1153 \nL 594 3053 \nL 172 3053 \nL 172 3500 \nL 594 3500 \nL 594 4494 \nL 1172 4494 \nz\n\" transform=\"scale(0.015625)\"/>\n       <path id=\"DejaVuSans-72\" d=\"M 2631 2963 \nQ 2534 3019 2420 3045 \nQ 2306 3072 2169 3072 \nQ 1681 3072 1420 2755 \nQ 1159 2438 1159 1844 \nL 1159 0 \nL 581 0 \nL 581 3500 \nL 1159 3500 \nL 1159 2956 \nQ 1341 3275 1631 3429 \nQ 1922 3584 2338 3584 \nQ 2397 3584 2469 3576 \nQ 2541 3569 2628 3553 \nL 2631 2963 \nz\n\" transform=\"scale(0.015625)\"/>\n       <path id=\"DejaVuSans-61\" d=\"M 2194 1759 \nQ 1497 1759 1228 1600 \nQ 959 1441 959 1056 \nQ 959 750 1161 570 \nQ 1363 391 1709 391 \nQ 2188 391 2477 730 \nQ 2766 1069 2766 1631 \nL 2766 1759 \nL 2194 1759 \nz\nM 3341 1997 \nL 3341 0 \nL 2766 0 \nL 2766 531 \nQ 2569 213 2275 61 \nQ 1981 -91 1556 -91 \nQ 1019 -91 701 211 \nQ 384 513 384 1019 \nQ 384 1609 779 1909 \nQ 1175 2209 1959 2209 \nL 2766 2209 \nL 2766 2266 \nQ 2766 2663 2505 2880 \nQ 2244 3097 1772 3097 \nQ 1472 3097 1187 3025 \nQ 903 2953 641 2809 \nL 641 3341 \nQ 956 3463 1253 3523 \nQ 1550 3584 1831 3584 \nQ 2591 3584 2966 3190 \nQ 3341 2797 3341 1997 \nz\n\" transform=\"scale(0.015625)\"/>\n       <path id=\"DejaVuSans-69\" d=\"M 603 3500 \nL 1178 3500 \nL 1178 0 \nL 603 0 \nL 603 3500 \nz\nM 603 4863 \nL 1178 4863 \nL 1178 4134 \nL 603 4134 \nL 603 4863 \nz\n\" transform=\"scale(0.015625)\"/>\n       <path id=\"DejaVuSans-6e\" d=\"M 3513 2113 \nL 3513 0 \nL 2938 0 \nL 2938 2094 \nQ 2938 2591 2744 2837 \nQ 2550 3084 2163 3084 \nQ 1697 3084 1428 2787 \nQ 1159 2491 1159 1978 \nL 1159 0 \nL 581 0 \nL 581 3500 \nL 1159 3500 \nL 1159 2956 \nQ 1366 3272 1645 3428 \nQ 1925 3584 2291 3584 \nQ 2894 3584 3203 3211 \nQ 3513 2838 3513 2113 \nz\n\" transform=\"scale(0.015625)\"/>\n       <path id=\"DejaVuSans-5f\" d=\"M 3263 -1063 \nL 3263 -1509 \nL -63 -1509 \nL -63 -1063 \nL 3263 -1063 \nz\n\" transform=\"scale(0.015625)\"/>\n       <path id=\"DejaVuSans-6c\" d=\"M 603 4863 \nL 1178 4863 \nL 1178 0 \nL 603 0 \nL 603 4863 \nz\n\" transform=\"scale(0.015625)\"/>\n       <path id=\"DejaVuSans-73\" d=\"M 2834 3397 \nL 2834 2853 \nQ 2591 2978 2328 3040 \nQ 2066 3103 1784 3103 \nQ 1356 3103 1142 2972 \nQ 928 2841 928 2578 \nQ 928 2378 1081 2264 \nQ 1234 2150 1697 2047 \nL 1894 2003 \nQ 2506 1872 2764 1633 \nQ 3022 1394 3022 966 \nQ 3022 478 2636 193 \nQ 2250 -91 1575 -91 \nQ 1294 -91 989 -36 \nQ 684 19 347 128 \nL 347 722 \nQ 666 556 975 473 \nQ 1284 391 1588 391 \nQ 1994 391 2212 530 \nQ 2431 669 2431 922 \nQ 2431 1156 2273 1281 \nQ 2116 1406 1581 1522 \nL 1381 1569 \nQ 847 1681 609 1914 \nQ 372 2147 372 2553 \nQ 372 3047 722 3315 \nQ 1072 3584 1716 3584 \nQ 2034 3584 2315 3537 \nQ 2597 3491 2834 3397 \nz\n\" transform=\"scale(0.015625)\"/>\n      </defs>\n      <use xlink:href=\"#DejaVuSans-74\"/>\n      <use xlink:href=\"#DejaVuSans-72\" x=\"39.208984\"/>\n      <use xlink:href=\"#DejaVuSans-61\" x=\"80.322266\"/>\n      <use xlink:href=\"#DejaVuSans-69\" x=\"141.601562\"/>\n      <use xlink:href=\"#DejaVuSans-6e\" x=\"169.384766\"/>\n      <use xlink:href=\"#DejaVuSans-5f\" x=\"232.763672\"/>\n      <use xlink:href=\"#DejaVuSans-6c\" x=\"282.763672\"/>\n      <use xlink:href=\"#DejaVuSans-6f\" x=\"310.546875\"/>\n      <use xlink:href=\"#DejaVuSans-73\" x=\"371.728516\"/>\n      <use xlink:href=\"#DejaVuSans-73\" x=\"423.828125\"/>\n     </g>\n    </g>\n    <g id=\"line2d_128\">\n     <path d=\"M 140.8125 75.620313 \nL 150.8125 75.620313 \nL 160.8125 75.620313 \n\" style=\"fill: none; stroke-dasharray: 5.55,2.4; stroke-dashoffset: 0; stroke: #ff7f0e; stroke-width: 1.5\"/>\n    </g>\n    <g id=\"text_13\">\n     <!-- val_loss -->\n     <g transform=\"translate(168.8125 79.120313) scale(0.1 -0.1)\">\n      <defs>\n       <path id=\"DejaVuSans-76\" d=\"M 191 3500 \nL 800 3500 \nL 1894 563 \nL 2988 3500 \nL 3597 3500 \nL 2284 0 \nL 1503 0 \nL 191 3500 \nz\n\" transform=\"scale(0.015625)\"/>\n      </defs>\n      <use xlink:href=\"#DejaVuSans-76\"/>\n      <use xlink:href=\"#DejaVuSans-61\" x=\"59.179688\"/>\n      <use xlink:href=\"#DejaVuSans-6c\" x=\"120.458984\"/>\n      <use xlink:href=\"#DejaVuSans-5f\" x=\"148.242188\"/>\n      <use xlink:href=\"#DejaVuSans-6c\" x=\"198.242188\"/>\n      <use xlink:href=\"#DejaVuSans-6f\" x=\"226.025391\"/>\n      <use xlink:href=\"#DejaVuSans-73\" x=\"287.207031\"/>\n      <use xlink:href=\"#DejaVuSans-73\" x=\"339.306641\"/>\n     </g>\n    </g>\n    <g id=\"line2d_129\">\n     <path d=\"M 140.8125 90.576563 \nL 150.8125 90.576563 \nL 160.8125 90.576563 \n\" style=\"fill: none; stroke-dasharray: 9.6,2.4,1.5,2.4; stroke-dashoffset: 0; stroke: #2ca02c; stroke-width: 1.5\"/>\n    </g>\n    <g id=\"text_14\">\n     <!-- val_acc -->\n     <g transform=\"translate(168.8125 94.076563) scale(0.1 -0.1)\">\n      <use xlink:href=\"#DejaVuSans-76\"/>\n      <use xlink:href=\"#DejaVuSans-61\" x=\"59.179688\"/>\n      <use xlink:href=\"#DejaVuSans-6c\" x=\"120.458984\"/>\n      <use xlink:href=\"#DejaVuSans-5f\" x=\"148.242188\"/>\n      <use xlink:href=\"#DejaVuSans-61\" x=\"198.242188\"/>\n      <use xlink:href=\"#DejaVuSans-63\" x=\"259.521484\"/>\n      <use xlink:href=\"#DejaVuSans-63\" x=\"314.501953\"/>\n     </g>\n    </g>\n   </g>\n  </g>\n </g>\n <defs>\n  <clipPath id=\"p6ae9c8244a\">\n   <rect x=\"30.103125\" y=\"7.2\" width=\"195.3\" height=\"138.6\"/>\n  </clipPath>\n </defs>\n</svg>\n"
          },
          "metadata": {}
        }
      ],
      "source": [
        "model = DenseNet(lr=0.01)\n",
        "trainer = d2l.Trainer(max_epochs=10, num_gpus=1)\n",
        "data = d2l.FashionMNIST(batch_size=128, resize=(96, 96))\n",
        "trainer.fit(model, data)"
      ]
    },
    {
      "cell_type": "markdown",
      "metadata": {
        "origin_pos": 38,
        "id": "bacabdce"
      },
      "source": [
        "## Summary and Discussion\n",
        "\n",
        "The main components that comprise DenseNet are dense blocks and transition layers. For the latter, we need to keep the dimensionality under control when composing the network by adding transition layers that shrink the number of channels again.\n",
        "In terms of cross-layer connections, in contrast to ResNet, where inputs and outputs are added together, DenseNet concatenates inputs and outputs on the channel dimension.\n",
        "Although these concatenation operations\n",
        "reuse features to achieve computational efficiency,\n",
        "unfortunately they lead to heavy GPU memory consumption.\n",
        "As a result,\n",
        "applying DenseNet may require more memory-efficient implementations that may increase training time :cite:`pleiss2017memory`.\n",
        "\n",
        "\n",
        "## Exercises\n",
        "\n",
        "1. Why do we use average pooling rather than max-pooling in the transition layer?\n",
        "1. One of the advantages mentioned in the DenseNet paper is that its model parameters are smaller than those of ResNet. Why is this the case?\n",
        "1. One problem for which DenseNet has been criticized is its high memory consumption.\n",
        "    1. Is this really the case? Try to change the input shape to $224\\times 224$ to compare the actual GPU memory consumption empirically.\n",
        "    1. Can you think of an alternative means of reducing the memory consumption? How would you need to change the framework?\n",
        "1. Implement the various DenseNet versions presented in Table 1 of the DenseNet paper :cite:`Huang.Liu.Van-Der-Maaten.ea.2017`.\n",
        "1. Design an MLP-based model by applying the DenseNet idea. Apply it to the housing price prediction task in :numref:`sec_kaggle_house`.\n"
      ]
    },
    {
      "cell_type": "markdown",
      "source": [
        "##Jawaban"
      ],
      "metadata": {
        "id": "YkpbEZpNgd0L"
      }
    },
    {
      "cell_type": "markdown",
      "source": [
        "###1."
      ],
      "metadata": {
        "id": "FojnUAZlcSff"
      }
    },
    {
      "cell_type": "markdown",
      "source": [
        "- Downsampling yang lebih halus: Average pooling merata-ratakan nilai-nilai, menghasilkan transisi yang lebih halus dan representasi yang lebih stabil ketika mengurangi dimensi spasial. Sebaliknya, max-pooling dapat menghasilkan perubahan yang lebih tiba-tiba dengan hanya memilih nilai maksimum, yang dapat kehilangan informasi berbutir halus.\n",
        "- Pelestarian fitur: Karena DenseNet bergantung pada penggunaan fitur ulang (konkatenasi peta fitur dari lapisan sebelumnya), average pooling membantu mempertahankan informasi yang lebih halus dari beberapa channel, yang bermanfaat untuk arsitektur yang terhubung rapat.\n",
        "- Efisiensi memori: Meskipun DenseNet memiliki masalah memori, average pooling membantu dalam mempertahankan informasi yang lebih kaya sambil mengurangi resolusi spasial, memastikan bahwa fitur penting tidak dibuang, sehingga membenarkan perannya dalam konektivitas padat."
      ],
      "metadata": {
        "id": "TTmamRz_kTIu"
      }
    },
    {
      "cell_type": "markdown",
      "source": [
        "###2."
      ],
      "metadata": {
        "id": "1hntQIEzcSff"
      }
    },
    {
      "cell_type": "markdown",
      "source": [
        "- Penggunaan ulang fitur: Dalam DenseNet, setiap lapisan menerima peta fitur dari semua lapisan sebelumnya melalui konkatenasi, yang mengurangi kebutuhan untuk parameter sebanyak itu. Alih-alih mempelajari fitur yang benar-benar baru pada setiap lapisan, DenseNet menggunakan kembali fitur yang ada, membutuhkan parameter yang lebih sedikit untuk mengekstrak yang baru.\n",
        "- Tidak Perlu Lapisan Redundan yang Besar: Dalam ResNet, setiap blok menghasilkan satu set peta fitur yang benar-benar baru, yang menyebabkan kebutuhan untuk bobot yang lebih besar untuk lapisan yang lebih dalam. Dalam DenseNet, penggunaan kembali fitur sebelumnya mengurangi redundansi dalam pembelajaran fitur, memungkinkannya mencapai kinerja yang serupa atau lebih baik dengan parameter yang lebih sedikit."
      ],
      "metadata": {
        "id": "C72KopSlkkBU"
      }
    },
    {
      "cell_type": "markdown",
      "source": [
        "###3.1."
      ],
      "metadata": {
        "id": "v2BWyKVecSff"
      }
    },
    {
      "cell_type": "markdown",
      "source": [
        "Ya, DenseNet telah dikritik karena konsumsi memorinya yang tinggi, terutama karena konkatenasi peta fitur dalam setiap blok padat. Konkatenasi menyebabkan peningkatan jumlah peta fitur yang disimpan dalam memori saat jaringan menjadi lebih dalam, mengkonsumsi lebih banyak memori GPU, terutama saat menggunakan ukuran input yang besar."
      ],
      "metadata": {
        "id": "nRxLng3lk2-r"
      }
    },
    {
      "cell_type": "markdown",
      "source": [
        "###3.2."
      ],
      "metadata": {
        "id": "GNSKRjjijLIQ"
      }
    },
    {
      "cell_type": "markdown",
      "source": [
        "Salah satu metode potensial untuk mengurangi konsumsi memori DenseNet adalah menggunakan checkpointing atau gradient checkpointing. Teknik ini mengorbankan memori untuk komputasi dengan menghitung ulang aktivasi intermediet selama backward pass alih-alih menyimpannya. Meskipun hal ini meningkatkan waktu pelatihan, teknik ini secara signifikan mengurangi penggunaan memori."
      ],
      "metadata": {
        "id": "YLeabE1Tk-ZL"
      }
    },
    {
      "cell_type": "markdown",
      "source": [
        "###4."
      ],
      "metadata": {
        "id": "vuhelPdAcSff"
      }
    },
    {
      "cell_type": "code",
      "source": [
        "class DenseNet121(nn.Module):\n",
        "    def __init__(self, num_classes=1000):\n",
        "        super(DenseNet121, self).__init__()\n",
        "        self.growth_rate = 32\n",
        "        self.num_init_features = 64\n",
        "\n",
        "        self.features = nn.Sequential(\n",
        "            nn.Conv2d(3, self.num_init_features, kernel_size=7, stride=2, padding=3, bias=False),\n",
        "            nn.BatchNorm2d(self.num_init_features),\n",
        "            nn.ReLU(inplace=True),\n",
        "            nn.MaxPool2d(kernel_size=3, stride=2, padding=1),\n",
        "            self._make_dense_block(6),\n",
        "            self._make_transition(),\n",
        "            self._make_dense_block(12),\n",
        "            self._make_transition(),\n",
        "            self._make_dense_block(24),\n",
        "            self._make_transition(),\n",
        "            self._make_dense_block(16),\n",
        "            nn.BatchNorm2d(self.num_init_features),\n",
        "        )\n",
        "        self.classifier = nn.Linear(self.num_init_features, num_classes)\n",
        "\n",
        "    def _make_dense_block(self, layers):\n",
        "        return DenseBlock(layers, self.growth_rate)\n",
        "\n",
        "    def _make_transition(self):\n",
        "        return nn.Sequential(\n",
        "            nn.Conv2d(self.num_init_features, self.num_init_features // 2, kernel_size=1, bias=False),\n",
        "            nn.AvgPool2d(kernel_size=2, stride=2)\n",
        "        )\n",
        "\n",
        "    def forward(self, x):\n",
        "        x = self.features(x)\n",
        "        x = torch.flatten(x, 1)\n",
        "        x = self.classifier(x)\n",
        "        return x\n"
      ],
      "metadata": {
        "id": "px8g7VqdlCxc"
      },
      "execution_count": 15,
      "outputs": []
    },
    {
      "cell_type": "markdown",
      "source": [
        "###5."
      ],
      "metadata": {
        "id": "tYW6sXn5cSfg"
      }
    },
    {
      "cell_type": "code",
      "source": [
        "class DenseMLP(nn.Module):\n",
        "    def __init__(self, input_size, hidden_size, num_layers, output_size):\n",
        "        super(DenseMLP, self).__init__()\n",
        "        self.input_size = input_size\n",
        "        self.hidden_size = hidden_size\n",
        "        self.num_layers = num_layers\n",
        "\n",
        "        self.fc_layers = nn.ModuleList([nn.Linear(input_size + i * hidden_size, hidden_size) for i in range(num_layers)])\n",
        "        self.final_layer = nn.Linear(input_size + num_layers * hidden_size, output_size)\n",
        "\n",
        "    def forward(self, x):\n",
        "        outputs = [x]\n",
        "        for layer in self.fc_layers:\n",
        "            x = torch.cat(outputs, dim=1)  # Concatenate input and outputs of all previous layers\n",
        "            x = torch.relu(layer(x))\n",
        "            outputs.append(x)\n",
        "        x = torch.cat(outputs, dim=1)\n",
        "        return self.final_layer(x)\n"
      ],
      "metadata": {
        "id": "EloWpPf1lHKB"
      },
      "execution_count": null,
      "outputs": []
    },
    {
      "cell_type": "markdown",
      "metadata": {
        "origin_pos": 1,
        "id": "7ea1dde2"
      },
      "source": [
        "# 8.8. Designing Convolution Network Architectures"
      ]
    },
    {
      "cell_type": "code",
      "execution_count": null,
      "metadata": {
        "execution": {
          "iopub.execute_input": "2023-08-18T19:46:44.217808Z",
          "iopub.status.busy": "2023-08-18T19:46:44.216883Z",
          "iopub.status.idle": "2023-08-18T19:46:44.224255Z",
          "shell.execute_reply": "2023-08-18T19:46:44.223047Z"
        },
        "origin_pos": 8,
        "tab": [
          "pytorch"
        ],
        "id": "0bcf1d35"
      },
      "outputs": [],
      "source": [
        "class AnyNet(d2l.Classifier):\n",
        "    def stem(self, num_channels):\n",
        "        return nn.Sequential(\n",
        "            nn.LazyConv2d(num_channels, kernel_size=3, stride=2, padding=1),\n",
        "            nn.LazyBatchNorm2d(), nn.ReLU())"
      ]
    },
    {
      "cell_type": "code",
      "execution_count": null,
      "metadata": {
        "execution": {
          "iopub.execute_input": "2023-08-18T19:46:44.228508Z",
          "iopub.status.busy": "2023-08-18T19:46:44.227739Z",
          "iopub.status.idle": "2023-08-18T19:46:44.236181Z",
          "shell.execute_reply": "2023-08-18T19:46:44.234611Z"
        },
        "origin_pos": 13,
        "tab": [
          "pytorch"
        ],
        "id": "c6faf93f"
      },
      "outputs": [],
      "source": [
        "@d2l.add_to_class(AnyNet)\n",
        "def stage(self, depth, num_channels, groups, bot_mul):\n",
        "    blk = []\n",
        "    for i in range(depth):\n",
        "        if i == 0:\n",
        "            blk.append(d2l.ResNeXtBlock(num_channels, groups, bot_mul,\n",
        "                use_1x1conv=True, strides=2))\n",
        "        else:\n",
        "            blk.append(d2l.ResNeXtBlock(num_channels, groups, bot_mul))\n",
        "    return nn.Sequential(*blk)"
      ]
    },
    {
      "cell_type": "code",
      "execution_count": null,
      "metadata": {
        "execution": {
          "iopub.execute_input": "2023-08-18T19:46:44.241780Z",
          "iopub.status.busy": "2023-08-18T19:46:44.240678Z",
          "iopub.status.idle": "2023-08-18T19:46:44.250216Z",
          "shell.execute_reply": "2023-08-18T19:46:44.248805Z"
        },
        "origin_pos": 17,
        "tab": [
          "pytorch"
        ],
        "id": "18a44834"
      },
      "outputs": [],
      "source": [
        "@d2l.add_to_class(AnyNet)\n",
        "def __init__(self, arch, stem_channels, lr=0.1, num_classes=10):\n",
        "    super(AnyNet, self).__init__()\n",
        "    self.save_hyperparameters()\n",
        "    self.net = nn.Sequential(self.stem(stem_channels))\n",
        "    for i, s in enumerate(arch):\n",
        "        self.net.add_module(f'stage{i+1}', self.stage(*s))\n",
        "    self.net.add_module('head', nn.Sequential(\n",
        "        nn.AdaptiveAvgPool2d((1, 1)), nn.Flatten(),\n",
        "        nn.LazyLinear(num_classes)))\n",
        "    self.net.apply(d2l.init_cnn)"
      ]
    },
    {
      "cell_type": "code",
      "execution_count": null,
      "metadata": {
        "execution": {
          "iopub.execute_input": "2023-08-18T19:46:44.255171Z",
          "iopub.status.busy": "2023-08-18T19:46:44.254345Z",
          "iopub.status.idle": "2023-08-18T19:46:44.262677Z",
          "shell.execute_reply": "2023-08-18T19:46:44.261273Z"
        },
        "origin_pos": 20,
        "tab": [
          "pytorch"
        ],
        "id": "dab5f41a"
      },
      "outputs": [],
      "source": [
        "class RegNetX32(AnyNet):\n",
        "    def __init__(self, lr=0.1, num_classes=10):\n",
        "        stem_channels, groups, bot_mul = 32, 16, 1\n",
        "        depths, channels = (4, 6), (32, 80)\n",
        "        super().__init__(\n",
        "            ((depths[0], channels[0], groups, bot_mul),\n",
        "             (depths[1], channels[1], groups, bot_mul)),\n",
        "            stem_channels, lr, num_classes)"
      ]
    },
    {
      "cell_type": "code",
      "execution_count": null,
      "metadata": {
        "execution": {
          "iopub.execute_input": "2023-08-18T19:46:44.267142Z",
          "iopub.status.busy": "2023-08-18T19:46:44.266080Z",
          "iopub.status.idle": "2023-08-18T19:46:44.365256Z",
          "shell.execute_reply": "2023-08-18T19:46:44.364396Z"
        },
        "origin_pos": 23,
        "tab": [
          "pytorch"
        ],
        "id": "75a56c8e",
        "outputId": "ca47047f-b171-4fb7-8b11-0f8d5e3cb9a4",
        "colab": {
          "base_uri": "https://localhost:8080/"
        }
      },
      "outputs": [
        {
          "output_type": "stream",
          "name": "stdout",
          "text": [
            "Sequential output shape:\t torch.Size([1, 32, 48, 48])\n",
            "Sequential output shape:\t torch.Size([1, 32, 24, 24])\n",
            "Sequential output shape:\t torch.Size([1, 80, 12, 12])\n",
            "Sequential output shape:\t torch.Size([1, 10])\n"
          ]
        }
      ],
      "source": [
        "RegNetX32().layer_summary((1, 1, 96, 96))"
      ]
    },
    {
      "cell_type": "code",
      "execution_count": null,
      "metadata": {
        "execution": {
          "iopub.execute_input": "2023-08-18T19:46:44.368862Z",
          "iopub.status.busy": "2023-08-18T19:46:44.368269Z",
          "iopub.status.idle": "2023-08-18T19:50:01.782279Z",
          "shell.execute_reply": "2023-08-18T19:50:01.781241Z"
        },
        "origin_pos": 27,
        "tab": [
          "pytorch"
        ],
        "id": "91cbec9a",
        "outputId": "8527dffe-66ca-4d21-988e-20e6c15b5450",
        "colab": {
          "base_uri": "https://localhost:8080/",
          "height": 266
        }
      },
      "outputs": [
        {
          "output_type": "display_data",
          "data": {
            "text/plain": [
              "<Figure size 350x250 with 1 Axes>"
            ],
            "image/svg+xml": "<?xml version=\"1.0\" encoding=\"utf-8\" standalone=\"no\"?>\n<!DOCTYPE svg PUBLIC \"-//W3C//DTD SVG 1.1//EN\"\n  \"http://www.w3.org/Graphics/SVG/1.1/DTD/svg11.dtd\">\n<svg xmlns:xlink=\"http://www.w3.org/1999/xlink\" width=\"238.965625pt\" height=\"183.35625pt\" viewBox=\"0 0 238.965625 183.35625\" xmlns=\"http://www.w3.org/2000/svg\" version=\"1.1\">\n <metadata>\n  <rdf:RDF xmlns:dc=\"http://purl.org/dc/elements/1.1/\" xmlns:cc=\"http://creativecommons.org/ns#\" xmlns:rdf=\"http://www.w3.org/1999/02/22-rdf-syntax-ns#\">\n   <cc:Work>\n    <dc:type rdf:resource=\"http://purl.org/dc/dcmitype/StillImage\"/>\n    <dc:date>2024-10-04T15:06:57.983198</dc:date>\n    <dc:format>image/svg+xml</dc:format>\n    <dc:creator>\n     <cc:Agent>\n      <dc:title>Matplotlib v3.7.2, https://matplotlib.org/</dc:title>\n     </cc:Agent>\n    </dc:creator>\n   </cc:Work>\n  </rdf:RDF>\n </metadata>\n <defs>\n  <style type=\"text/css\">*{stroke-linejoin: round; stroke-linecap: butt}</style>\n </defs>\n <g id=\"figure_1\">\n  <g id=\"patch_1\">\n   <path d=\"M 0 183.35625 \nL 238.965625 183.35625 \nL 238.965625 0 \nL 0 0 \nz\n\" style=\"fill: #ffffff\"/>\n  </g>\n  <g id=\"axes_1\">\n   <g id=\"patch_2\">\n    <path d=\"M 30.103125 145.8 \nL 225.403125 145.8 \nL 225.403125 7.2 \nL 30.103125 7.2 \nz\n\" style=\"fill: #ffffff\"/>\n   </g>\n   <g id=\"matplotlib.axis_1\">\n    <g id=\"xtick_1\">\n     <g id=\"line2d_1\">\n      <defs>\n       <path id=\"m6055e97641\" d=\"M 0 0 \nL 0 3.5 \n\" style=\"stroke: #000000; stroke-width: 0.8\"/>\n      </defs>\n      <g>\n       <use xlink:href=\"#m6055e97641\" x=\"30.103125\" y=\"145.8\" style=\"stroke: #000000; stroke-width: 0.8\"/>\n      </g>\n     </g>\n     <g id=\"text_1\">\n      <!-- 0 -->\n      <g transform=\"translate(26.921875 160.398438) scale(0.1 -0.1)\">\n       <defs>\n        <path id=\"DejaVuSans-30\" d=\"M 2034 4250 \nQ 1547 4250 1301 3770 \nQ 1056 3291 1056 2328 \nQ 1056 1369 1301 889 \nQ 1547 409 2034 409 \nQ 2525 409 2770 889 \nQ 3016 1369 3016 2328 \nQ 3016 3291 2770 3770 \nQ 2525 4250 2034 4250 \nz\nM 2034 4750 \nQ 2819 4750 3233 4129 \nQ 3647 3509 3647 2328 \nQ 3647 1150 3233 529 \nQ 2819 -91 2034 -91 \nQ 1250 -91 836 529 \nQ 422 1150 422 2328 \nQ 422 3509 836 4129 \nQ 1250 4750 2034 4750 \nz\n\" transform=\"scale(0.015625)\"/>\n       </defs>\n       <use xlink:href=\"#DejaVuSans-30\"/>\n      </g>\n     </g>\n    </g>\n    <g id=\"xtick_2\">\n     <g id=\"line2d_2\">\n      <g>\n       <use xlink:href=\"#m6055e97641\" x=\"69.163125\" y=\"145.8\" style=\"stroke: #000000; stroke-width: 0.8\"/>\n      </g>\n     </g>\n     <g id=\"text_2\">\n      <!-- 2 -->\n      <g transform=\"translate(65.981875 160.398438) scale(0.1 -0.1)\">\n       <defs>\n        <path id=\"DejaVuSans-32\" d=\"M 1228 531 \nL 3431 531 \nL 3431 0 \nL 469 0 \nL 469 531 \nQ 828 903 1448 1529 \nQ 2069 2156 2228 2338 \nQ 2531 2678 2651 2914 \nQ 2772 3150 2772 3378 \nQ 2772 3750 2511 3984 \nQ 2250 4219 1831 4219 \nQ 1534 4219 1204 4116 \nQ 875 4013 500 3803 \nL 500 4441 \nQ 881 4594 1212 4672 \nQ 1544 4750 1819 4750 \nQ 2544 4750 2975 4387 \nQ 3406 4025 3406 3419 \nQ 3406 3131 3298 2873 \nQ 3191 2616 2906 2266 \nQ 2828 2175 2409 1742 \nQ 1991 1309 1228 531 \nz\n\" transform=\"scale(0.015625)\"/>\n       </defs>\n       <use xlink:href=\"#DejaVuSans-32\"/>\n      </g>\n     </g>\n    </g>\n    <g id=\"xtick_3\">\n     <g id=\"line2d_3\">\n      <g>\n       <use xlink:href=\"#m6055e97641\" x=\"108.223125\" y=\"145.8\" style=\"stroke: #000000; stroke-width: 0.8\"/>\n      </g>\n     </g>\n     <g id=\"text_3\">\n      <!-- 4 -->\n      <g transform=\"translate(105.041875 160.398438) scale(0.1 -0.1)\">\n       <defs>\n        <path id=\"DejaVuSans-34\" d=\"M 2419 4116 \nL 825 1625 \nL 2419 1625 \nL 2419 4116 \nz\nM 2253 4666 \nL 3047 4666 \nL 3047 1625 \nL 3713 1625 \nL 3713 1100 \nL 3047 1100 \nL 3047 0 \nL 2419 0 \nL 2419 1100 \nL 313 1100 \nL 313 1709 \nL 2253 4666 \nz\n\" transform=\"scale(0.015625)\"/>\n       </defs>\n       <use xlink:href=\"#DejaVuSans-34\"/>\n      </g>\n     </g>\n    </g>\n    <g id=\"xtick_4\">\n     <g id=\"line2d_4\">\n      <g>\n       <use xlink:href=\"#m6055e97641\" x=\"147.283125\" y=\"145.8\" style=\"stroke: #000000; stroke-width: 0.8\"/>\n      </g>\n     </g>\n     <g id=\"text_4\">\n      <!-- 6 -->\n      <g transform=\"translate(144.101875 160.398438) scale(0.1 -0.1)\">\n       <defs>\n        <path id=\"DejaVuSans-36\" d=\"M 2113 2584 \nQ 1688 2584 1439 2293 \nQ 1191 2003 1191 1497 \nQ 1191 994 1439 701 \nQ 1688 409 2113 409 \nQ 2538 409 2786 701 \nQ 3034 994 3034 1497 \nQ 3034 2003 2786 2293 \nQ 2538 2584 2113 2584 \nz\nM 3366 4563 \nL 3366 3988 \nQ 3128 4100 2886 4159 \nQ 2644 4219 2406 4219 \nQ 1781 4219 1451 3797 \nQ 1122 3375 1075 2522 \nQ 1259 2794 1537 2939 \nQ 1816 3084 2150 3084 \nQ 2853 3084 3261 2657 \nQ 3669 2231 3669 1497 \nQ 3669 778 3244 343 \nQ 2819 -91 2113 -91 \nQ 1303 -91 875 529 \nQ 447 1150 447 2328 \nQ 447 3434 972 4092 \nQ 1497 4750 2381 4750 \nQ 2619 4750 2861 4703 \nQ 3103 4656 3366 4563 \nz\n\" transform=\"scale(0.015625)\"/>\n       </defs>\n       <use xlink:href=\"#DejaVuSans-36\"/>\n      </g>\n     </g>\n    </g>\n    <g id=\"xtick_5\">\n     <g id=\"line2d_5\">\n      <g>\n       <use xlink:href=\"#m6055e97641\" x=\"186.343125\" y=\"145.8\" style=\"stroke: #000000; stroke-width: 0.8\"/>\n      </g>\n     </g>\n     <g id=\"text_5\">\n      <!-- 8 -->\n      <g transform=\"translate(183.161875 160.398438) scale(0.1 -0.1)\">\n       <defs>\n        <path id=\"DejaVuSans-38\" d=\"M 2034 2216 \nQ 1584 2216 1326 1975 \nQ 1069 1734 1069 1313 \nQ 1069 891 1326 650 \nQ 1584 409 2034 409 \nQ 2484 409 2743 651 \nQ 3003 894 3003 1313 \nQ 3003 1734 2745 1975 \nQ 2488 2216 2034 2216 \nz\nM 1403 2484 \nQ 997 2584 770 2862 \nQ 544 3141 544 3541 \nQ 544 4100 942 4425 \nQ 1341 4750 2034 4750 \nQ 2731 4750 3128 4425 \nQ 3525 4100 3525 3541 \nQ 3525 3141 3298 2862 \nQ 3072 2584 2669 2484 \nQ 3125 2378 3379 2068 \nQ 3634 1759 3634 1313 \nQ 3634 634 3220 271 \nQ 2806 -91 2034 -91 \nQ 1263 -91 848 271 \nQ 434 634 434 1313 \nQ 434 1759 690 2068 \nQ 947 2378 1403 2484 \nz\nM 1172 3481 \nQ 1172 3119 1398 2916 \nQ 1625 2713 2034 2713 \nQ 2441 2713 2670 2916 \nQ 2900 3119 2900 3481 \nQ 2900 3844 2670 4047 \nQ 2441 4250 2034 4250 \nQ 1625 4250 1398 4047 \nQ 1172 3844 1172 3481 \nz\n\" transform=\"scale(0.015625)\"/>\n       </defs>\n       <use xlink:href=\"#DejaVuSans-38\"/>\n      </g>\n     </g>\n    </g>\n    <g id=\"xtick_6\">\n     <g id=\"line2d_6\">\n      <g>\n       <use xlink:href=\"#m6055e97641\" x=\"225.403125\" y=\"145.8\" style=\"stroke: #000000; stroke-width: 0.8\"/>\n      </g>\n     </g>\n     <g id=\"text_6\">\n      <!-- 10 -->\n      <g transform=\"translate(219.040625 160.398438) scale(0.1 -0.1)\">\n       <defs>\n        <path id=\"DejaVuSans-31\" d=\"M 794 531 \nL 1825 531 \nL 1825 4091 \nL 703 3866 \nL 703 4441 \nL 1819 4666 \nL 2450 4666 \nL 2450 531 \nL 3481 531 \nL 3481 0 \nL 794 0 \nL 794 531 \nz\n\" transform=\"scale(0.015625)\"/>\n       </defs>\n       <use xlink:href=\"#DejaVuSans-31\"/>\n       <use xlink:href=\"#DejaVuSans-30\" x=\"63.623047\"/>\n      </g>\n     </g>\n    </g>\n    <g id=\"text_7\">\n     <!-- epoch -->\n     <g transform=\"translate(112.525 174.076563) scale(0.1 -0.1)\">\n      <defs>\n       <path id=\"DejaVuSans-65\" d=\"M 3597 1894 \nL 3597 1613 \nL 953 1613 \nQ 991 1019 1311 708 \nQ 1631 397 2203 397 \nQ 2534 397 2845 478 \nQ 3156 559 3463 722 \nL 3463 178 \nQ 3153 47 2828 -22 \nQ 2503 -91 2169 -91 \nQ 1331 -91 842 396 \nQ 353 884 353 1716 \nQ 353 2575 817 3079 \nQ 1281 3584 2069 3584 \nQ 2775 3584 3186 3129 \nQ 3597 2675 3597 1894 \nz\nM 3022 2063 \nQ 3016 2534 2758 2815 \nQ 2500 3097 2075 3097 \nQ 1594 3097 1305 2825 \nQ 1016 2553 972 2059 \nL 3022 2063 \nz\n\" transform=\"scale(0.015625)\"/>\n       <path id=\"DejaVuSans-70\" d=\"M 1159 525 \nL 1159 -1331 \nL 581 -1331 \nL 581 3500 \nL 1159 3500 \nL 1159 2969 \nQ 1341 3281 1617 3432 \nQ 1894 3584 2278 3584 \nQ 2916 3584 3314 3078 \nQ 3713 2572 3713 1747 \nQ 3713 922 3314 415 \nQ 2916 -91 2278 -91 \nQ 1894 -91 1617 61 \nQ 1341 213 1159 525 \nz\nM 3116 1747 \nQ 3116 2381 2855 2742 \nQ 2594 3103 2138 3103 \nQ 1681 3103 1420 2742 \nQ 1159 2381 1159 1747 \nQ 1159 1113 1420 752 \nQ 1681 391 2138 391 \nQ 2594 391 2855 752 \nQ 3116 1113 3116 1747 \nz\n\" transform=\"scale(0.015625)\"/>\n       <path id=\"DejaVuSans-6f\" d=\"M 1959 3097 \nQ 1497 3097 1228 2736 \nQ 959 2375 959 1747 \nQ 959 1119 1226 758 \nQ 1494 397 1959 397 \nQ 2419 397 2687 759 \nQ 2956 1122 2956 1747 \nQ 2956 2369 2687 2733 \nQ 2419 3097 1959 3097 \nz\nM 1959 3584 \nQ 2709 3584 3137 3096 \nQ 3566 2609 3566 1747 \nQ 3566 888 3137 398 \nQ 2709 -91 1959 -91 \nQ 1206 -91 779 398 \nQ 353 888 353 1747 \nQ 353 2609 779 3096 \nQ 1206 3584 1959 3584 \nz\n\" transform=\"scale(0.015625)\"/>\n       <path id=\"DejaVuSans-63\" d=\"M 3122 3366 \nL 3122 2828 \nQ 2878 2963 2633 3030 \nQ 2388 3097 2138 3097 \nQ 1578 3097 1268 2742 \nQ 959 2388 959 1747 \nQ 959 1106 1268 751 \nQ 1578 397 2138 397 \nQ 2388 397 2633 464 \nQ 2878 531 3122 666 \nL 3122 134 \nQ 2881 22 2623 -34 \nQ 2366 -91 2075 -91 \nQ 1284 -91 818 406 \nQ 353 903 353 1747 \nQ 353 2603 823 3093 \nQ 1294 3584 2113 3584 \nQ 2378 3584 2631 3529 \nQ 2884 3475 3122 3366 \nz\n\" transform=\"scale(0.015625)\"/>\n       <path id=\"DejaVuSans-68\" d=\"M 3513 2113 \nL 3513 0 \nL 2938 0 \nL 2938 2094 \nQ 2938 2591 2744 2837 \nQ 2550 3084 2163 3084 \nQ 1697 3084 1428 2787 \nQ 1159 2491 1159 1978 \nL 1159 0 \nL 581 0 \nL 581 4863 \nL 1159 4863 \nL 1159 2956 \nQ 1366 3272 1645 3428 \nQ 1925 3584 2291 3584 \nQ 2894 3584 3203 3211 \nQ 3513 2838 3513 2113 \nz\n\" transform=\"scale(0.015625)\"/>\n      </defs>\n      <use xlink:href=\"#DejaVuSans-65\"/>\n      <use xlink:href=\"#DejaVuSans-70\" x=\"61.523438\"/>\n      <use xlink:href=\"#DejaVuSans-6f\" x=\"125\"/>\n      <use xlink:href=\"#DejaVuSans-63\" x=\"186.181641\"/>\n      <use xlink:href=\"#DejaVuSans-68\" x=\"241.162109\"/>\n     </g>\n    </g>\n   </g>\n   <g id=\"matplotlib.axis_2\">\n    <g id=\"ytick_1\">\n     <g id=\"line2d_7\">\n      <defs>\n       <path id=\"md9db4f73bd\" d=\"M 0 0 \nL -3.5 0 \n\" style=\"stroke: #000000; stroke-width: 0.8\"/>\n      </defs>\n      <g>\n       <use xlink:href=\"#md9db4f73bd\" x=\"30.103125\" y=\"134.12934\" style=\"stroke: #000000; stroke-width: 0.8\"/>\n      </g>\n     </g>\n     <g id=\"text_8\">\n      <!-- 0.2 -->\n      <g transform=\"translate(7.2 137.928559) scale(0.1 -0.1)\">\n       <defs>\n        <path id=\"DejaVuSans-2e\" d=\"M 684 794 \nL 1344 794 \nL 1344 0 \nL 684 0 \nL 684 794 \nz\n\" transform=\"scale(0.015625)\"/>\n       </defs>\n       <use xlink:href=\"#DejaVuSans-30\"/>\n       <use xlink:href=\"#DejaVuSans-2e\" x=\"63.623047\"/>\n       <use xlink:href=\"#DejaVuSans-32\" x=\"95.410156\"/>\n      </g>\n     </g>\n    </g>\n    <g id=\"ytick_2\">\n     <g id=\"line2d_8\">\n      <g>\n       <use xlink:href=\"#md9db4f73bd\" x=\"30.103125\" y=\"101.102546\" style=\"stroke: #000000; stroke-width: 0.8\"/>\n      </g>\n     </g>\n     <g id=\"text_9\">\n      <!-- 0.4 -->\n      <g transform=\"translate(7.2 104.901764) scale(0.1 -0.1)\">\n       <use xlink:href=\"#DejaVuSans-30\"/>\n       <use xlink:href=\"#DejaVuSans-2e\" x=\"63.623047\"/>\n       <use xlink:href=\"#DejaVuSans-34\" x=\"95.410156\"/>\n      </g>\n     </g>\n    </g>\n    <g id=\"ytick_3\">\n     <g id=\"line2d_9\">\n      <g>\n       <use xlink:href=\"#md9db4f73bd\" x=\"30.103125\" y=\"68.075751\" style=\"stroke: #000000; stroke-width: 0.8\"/>\n      </g>\n     </g>\n     <g id=\"text_10\">\n      <!-- 0.6 -->\n      <g transform=\"translate(7.2 71.87497) scale(0.1 -0.1)\">\n       <use xlink:href=\"#DejaVuSans-30\"/>\n       <use xlink:href=\"#DejaVuSans-2e\" x=\"63.623047\"/>\n       <use xlink:href=\"#DejaVuSans-36\" x=\"95.410156\"/>\n      </g>\n     </g>\n    </g>\n    <g id=\"ytick_4\">\n     <g id=\"line2d_10\">\n      <g>\n       <use xlink:href=\"#md9db4f73bd\" x=\"30.103125\" y=\"35.048957\" style=\"stroke: #000000; stroke-width: 0.8\"/>\n      </g>\n     </g>\n     <g id=\"text_11\">\n      <!-- 0.8 -->\n      <g transform=\"translate(7.2 38.848176) scale(0.1 -0.1)\">\n       <use xlink:href=\"#DejaVuSans-30\"/>\n       <use xlink:href=\"#DejaVuSans-2e\" x=\"63.623047\"/>\n       <use xlink:href=\"#DejaVuSans-38\" x=\"95.410156\"/>\n      </g>\n     </g>\n    </g>\n   </g>\n   <g id=\"line2d_11\">\n    <path d=\"M 34.954394 13.5 \n\" clip-path=\"url(#p9518cf8a77)\" style=\"fill: none; stroke: #1f77b4; stroke-width: 1.5; stroke-linecap: square\"/>\n   </g>\n   <g id=\"line2d_12\">\n    <path d=\"M 34.954394 13.5 \nL 44.698573 85.777883 \n\" clip-path=\"url(#p9518cf8a77)\" style=\"fill: none; stroke: #1f77b4; stroke-width: 1.5; stroke-linecap: square\"/>\n   </g>\n   <g id=\"line2d_13\">\n    <path d=\"M 34.954394 13.5 \nL 44.698573 85.777883 \n\" clip-path=\"url(#p9518cf8a77)\" style=\"fill: none; stroke: #1f77b4; stroke-width: 1.5; stroke-linecap: square\"/>\n   </g>\n   <g id=\"line2d_14\">\n    <path d=\"M 49.633125 50.323682 \n\" clip-path=\"url(#p9518cf8a77)\" style=\"fill: none; stroke-dasharray: 5.55,2.4; stroke-dashoffset: 0; stroke: #ff7f0e; stroke-width: 1.5\"/>\n   </g>\n   <g id=\"line2d_15\"/>\n   <g id=\"line2d_16\">\n    <path d=\"M 34.954394 13.5 \nL 44.698573 85.777883 \n\" clip-path=\"url(#p9518cf8a77)\" style=\"fill: none; stroke: #1f77b4; stroke-width: 1.5; stroke-linecap: square\"/>\n   </g>\n   <g id=\"line2d_17\">\n    <path d=\"M 49.633125 50.323682 \n\" clip-path=\"url(#p9518cf8a77)\" style=\"fill: none; stroke-dasharray: 5.55,2.4; stroke-dashoffset: 0; stroke: #ff7f0e; stroke-width: 1.5\"/>\n   </g>\n   <g id=\"line2d_18\">\n    <path d=\"M 49.633125 40.431488 \n\" clip-path=\"url(#p9518cf8a77)\" style=\"fill: none; stroke-dasharray: 9.6,2.4,1.5,2.4; stroke-dashoffset: 0; stroke: #2ca02c; stroke-width: 1.5\"/>\n   </g>\n   <g id=\"line2d_19\">\n    <path d=\"M 34.954394 13.5 \nL 44.698573 85.777883 \nL 54.442752 102.331565 \n\" clip-path=\"url(#p9518cf8a77)\" style=\"fill: none; stroke: #1f77b4; stroke-width: 1.5; stroke-linecap: square\"/>\n   </g>\n   <g id=\"line2d_20\">\n    <path d=\"M 49.633125 50.323682 \n\" clip-path=\"url(#p9518cf8a77)\" style=\"fill: none; stroke-dasharray: 5.55,2.4; stroke-dashoffset: 0; stroke: #ff7f0e; stroke-width: 1.5\"/>\n   </g>\n   <g id=\"line2d_21\">\n    <path d=\"M 49.633125 40.431488 \n\" clip-path=\"url(#p9518cf8a77)\" style=\"fill: none; stroke-dasharray: 9.6,2.4,1.5,2.4; stroke-dashoffset: 0; stroke: #2ca02c; stroke-width: 1.5\"/>\n   </g>\n   <g id=\"line2d_22\">\n    <path d=\"M 34.954394 13.5 \nL 44.698573 85.777883 \nL 54.442752 102.331565 \nL 64.186931 111.207285 \n\" clip-path=\"url(#p9518cf8a77)\" style=\"fill: none; stroke: #1f77b4; stroke-width: 1.5; stroke-linecap: square\"/>\n   </g>\n   <g id=\"line2d_23\">\n    <path d=\"M 49.633125 50.323682 \n\" clip-path=\"url(#p9518cf8a77)\" style=\"fill: none; stroke-dasharray: 5.55,2.4; stroke-dashoffset: 0; stroke: #ff7f0e; stroke-width: 1.5\"/>\n   </g>\n   <g id=\"line2d_24\">\n    <path d=\"M 49.633125 40.431488 \n\" clip-path=\"url(#p9518cf8a77)\" style=\"fill: none; stroke-dasharray: 9.6,2.4,1.5,2.4; stroke-dashoffset: 0; stroke: #2ca02c; stroke-width: 1.5\"/>\n   </g>\n   <g id=\"line2d_25\">\n    <path d=\"M 34.954394 13.5 \nL 44.698573 85.777883 \nL 54.442752 102.331565 \nL 64.186931 111.207285 \n\" clip-path=\"url(#p9518cf8a77)\" style=\"fill: none; stroke: #1f77b4; stroke-width: 1.5; stroke-linecap: square\"/>\n   </g>\n   <g id=\"line2d_26\">\n    <path d=\"M 49.633125 50.323682 \nL 69.163125 84.519956 \n\" clip-path=\"url(#p9518cf8a77)\" style=\"fill: none; stroke-dasharray: 5.55,2.4; stroke-dashoffset: 0; stroke: #ff7f0e; stroke-width: 1.5\"/>\n   </g>\n   <g id=\"line2d_27\">\n    <path d=\"M 49.633125 40.431488 \n\" clip-path=\"url(#p9518cf8a77)\" style=\"fill: none; stroke-dasharray: 9.6,2.4,1.5,2.4; stroke-dashoffset: 0; stroke: #2ca02c; stroke-width: 1.5\"/>\n   </g>\n   <g id=\"line2d_28\">\n    <path d=\"M 34.954394 13.5 \nL 44.698573 85.777883 \nL 54.442752 102.331565 \nL 64.186931 111.207285 \n\" clip-path=\"url(#p9518cf8a77)\" style=\"fill: none; stroke: #1f77b4; stroke-width: 1.5; stroke-linecap: square\"/>\n   </g>\n   <g id=\"line2d_29\">\n    <path d=\"M 49.633125 50.323682 \nL 69.163125 84.519956 \n\" clip-path=\"url(#p9518cf8a77)\" style=\"fill: none; stroke-dasharray: 5.55,2.4; stroke-dashoffset: 0; stroke: #ff7f0e; stroke-width: 1.5\"/>\n   </g>\n   <g id=\"line2d_30\">\n    <path d=\"M 49.633125 40.431488 \nL 69.163125 30.29025 \n\" clip-path=\"url(#p9518cf8a77)\" style=\"fill: none; stroke-dasharray: 9.6,2.4,1.5,2.4; stroke-dashoffset: 0; stroke: #2ca02c; stroke-width: 1.5\"/>\n   </g>\n   <g id=\"line2d_31\">\n    <path d=\"M 34.954394 13.5 \nL 44.698573 85.777883 \nL 54.442752 102.331565 \nL 64.186931 111.207285 \nL 73.93111 116.145504 \n\" clip-path=\"url(#p9518cf8a77)\" style=\"fill: none; stroke: #1f77b4; stroke-width: 1.5; stroke-linecap: square\"/>\n   </g>\n   <g id=\"line2d_32\">\n    <path d=\"M 49.633125 50.323682 \nL 69.163125 84.519956 \n\" clip-path=\"url(#p9518cf8a77)\" style=\"fill: none; stroke-dasharray: 5.55,2.4; stroke-dashoffset: 0; stroke: #ff7f0e; stroke-width: 1.5\"/>\n   </g>\n   <g id=\"line2d_33\">\n    <path d=\"M 49.633125 40.431488 \nL 69.163125 30.29025 \n\" clip-path=\"url(#p9518cf8a77)\" style=\"fill: none; stroke-dasharray: 9.6,2.4,1.5,2.4; stroke-dashoffset: 0; stroke: #2ca02c; stroke-width: 1.5\"/>\n   </g>\n   <g id=\"line2d_34\">\n    <path d=\"M 34.954394 13.5 \nL 44.698573 85.777883 \nL 54.442752 102.331565 \nL 64.186931 111.207285 \nL 73.93111 116.145504 \nL 83.675289 118.932309 \n\" clip-path=\"url(#p9518cf8a77)\" style=\"fill: none; stroke: #1f77b4; stroke-width: 1.5; stroke-linecap: square\"/>\n   </g>\n   <g id=\"line2d_35\">\n    <path d=\"M 49.633125 50.323682 \nL 69.163125 84.519956 \n\" clip-path=\"url(#p9518cf8a77)\" style=\"fill: none; stroke-dasharray: 5.55,2.4; stroke-dashoffset: 0; stroke: #ff7f0e; stroke-width: 1.5\"/>\n   </g>\n   <g id=\"line2d_36\">\n    <path d=\"M 49.633125 40.431488 \nL 69.163125 30.29025 \n\" clip-path=\"url(#p9518cf8a77)\" style=\"fill: none; stroke-dasharray: 9.6,2.4,1.5,2.4; stroke-dashoffset: 0; stroke: #2ca02c; stroke-width: 1.5\"/>\n   </g>\n   <g id=\"line2d_37\">\n    <path d=\"M 34.954394 13.5 \nL 44.698573 85.777883 \nL 54.442752 102.331565 \nL 64.186931 111.207285 \nL 73.93111 116.145504 \nL 83.675289 118.932309 \n\" clip-path=\"url(#p9518cf8a77)\" style=\"fill: none; stroke: #1f77b4; stroke-width: 1.5; stroke-linecap: square\"/>\n   </g>\n   <g id=\"line2d_38\">\n    <path d=\"M 49.633125 50.323682 \nL 69.163125 84.519956 \nL 88.693125 106.769911 \n\" clip-path=\"url(#p9518cf8a77)\" style=\"fill: none; stroke-dasharray: 5.55,2.4; stroke-dashoffset: 0; stroke: #ff7f0e; stroke-width: 1.5\"/>\n   </g>\n   <g id=\"line2d_39\">\n    <path d=\"M 49.633125 40.431488 \nL 69.163125 30.29025 \n\" clip-path=\"url(#p9518cf8a77)\" style=\"fill: none; stroke-dasharray: 9.6,2.4,1.5,2.4; stroke-dashoffset: 0; stroke: #2ca02c; stroke-width: 1.5\"/>\n   </g>\n   <g id=\"line2d_40\">\n    <path d=\"M 34.954394 13.5 \nL 44.698573 85.777883 \nL 54.442752 102.331565 \nL 64.186931 111.207285 \nL 73.93111 116.145504 \nL 83.675289 118.932309 \n\" clip-path=\"url(#p9518cf8a77)\" style=\"fill: none; stroke: #1f77b4; stroke-width: 1.5; stroke-linecap: square\"/>\n   </g>\n   <g id=\"line2d_41\">\n    <path d=\"M 49.633125 50.323682 \nL 69.163125 84.519956 \nL 88.693125 106.769911 \n\" clip-path=\"url(#p9518cf8a77)\" style=\"fill: none; stroke-dasharray: 5.55,2.4; stroke-dashoffset: 0; stroke: #ff7f0e; stroke-width: 1.5\"/>\n   </g>\n   <g id=\"line2d_42\">\n    <path d=\"M 49.633125 40.431488 \nL 69.163125 30.29025 \nL 88.693125 24.035671 \n\" clip-path=\"url(#p9518cf8a77)\" style=\"fill: none; stroke-dasharray: 9.6,2.4,1.5,2.4; stroke-dashoffset: 0; stroke: #2ca02c; stroke-width: 1.5\"/>\n   </g>\n   <g id=\"line2d_43\">\n    <path d=\"M 34.954394 13.5 \nL 44.698573 85.777883 \nL 54.442752 102.331565 \nL 64.186931 111.207285 \nL 73.93111 116.145504 \nL 83.675289 118.932309 \nL 93.419468 122.785111 \n\" clip-path=\"url(#p9518cf8a77)\" style=\"fill: none; stroke: #1f77b4; stroke-width: 1.5; stroke-linecap: square\"/>\n   </g>\n   <g id=\"line2d_44\">\n    <path d=\"M 49.633125 50.323682 \nL 69.163125 84.519956 \nL 88.693125 106.769911 \n\" clip-path=\"url(#p9518cf8a77)\" style=\"fill: none; stroke-dasharray: 5.55,2.4; stroke-dashoffset: 0; stroke: #ff7f0e; stroke-width: 1.5\"/>\n   </g>\n   <g id=\"line2d_45\">\n    <path d=\"M 49.633125 40.431488 \nL 69.163125 30.29025 \nL 88.693125 24.035671 \n\" clip-path=\"url(#p9518cf8a77)\" style=\"fill: none; stroke-dasharray: 9.6,2.4,1.5,2.4; stroke-dashoffset: 0; stroke: #2ca02c; stroke-width: 1.5\"/>\n   </g>\n   <g id=\"line2d_46\">\n    <path d=\"M 34.954394 13.5 \nL 44.698573 85.777883 \nL 54.442752 102.331565 \nL 64.186931 111.207285 \nL 73.93111 116.145504 \nL 83.675289 118.932309 \nL 93.419468 122.785111 \nL 103.163647 123.936366 \n\" clip-path=\"url(#p9518cf8a77)\" style=\"fill: none; stroke: #1f77b4; stroke-width: 1.5; stroke-linecap: square\"/>\n   </g>\n   <g id=\"line2d_47\">\n    <path d=\"M 49.633125 50.323682 \nL 69.163125 84.519956 \nL 88.693125 106.769911 \n\" clip-path=\"url(#p9518cf8a77)\" style=\"fill: none; stroke-dasharray: 5.55,2.4; stroke-dashoffset: 0; stroke: #ff7f0e; stroke-width: 1.5\"/>\n   </g>\n   <g id=\"line2d_48\">\n    <path d=\"M 49.633125 40.431488 \nL 69.163125 30.29025 \nL 88.693125 24.035671 \n\" clip-path=\"url(#p9518cf8a77)\" style=\"fill: none; stroke-dasharray: 9.6,2.4,1.5,2.4; stroke-dashoffset: 0; stroke: #2ca02c; stroke-width: 1.5\"/>\n   </g>\n   <g id=\"line2d_49\">\n    <path d=\"M 34.954394 13.5 \nL 44.698573 85.777883 \nL 54.442752 102.331565 \nL 64.186931 111.207285 \nL 73.93111 116.145504 \nL 83.675289 118.932309 \nL 93.419468 122.785111 \nL 103.163647 123.936366 \n\" clip-path=\"url(#p9518cf8a77)\" style=\"fill: none; stroke: #1f77b4; stroke-width: 1.5; stroke-linecap: square\"/>\n   </g>\n   <g id=\"line2d_50\">\n    <path d=\"M 49.633125 50.323682 \nL 69.163125 84.519956 \nL 88.693125 106.769911 \nL 108.223125 113.665007 \n\" clip-path=\"url(#p9518cf8a77)\" style=\"fill: none; stroke-dasharray: 5.55,2.4; stroke-dashoffset: 0; stroke: #ff7f0e; stroke-width: 1.5\"/>\n   </g>\n   <g id=\"line2d_51\">\n    <path d=\"M 49.633125 40.431488 \nL 69.163125 30.29025 \nL 88.693125 24.035671 \n\" clip-path=\"url(#p9518cf8a77)\" style=\"fill: none; stroke-dasharray: 9.6,2.4,1.5,2.4; stroke-dashoffset: 0; stroke: #2ca02c; stroke-width: 1.5\"/>\n   </g>\n   <g id=\"line2d_52\">\n    <path d=\"M 34.954394 13.5 \nL 44.698573 85.777883 \nL 54.442752 102.331565 \nL 64.186931 111.207285 \nL 73.93111 116.145504 \nL 83.675289 118.932309 \nL 93.419468 122.785111 \nL 103.163647 123.936366 \n\" clip-path=\"url(#p9518cf8a77)\" style=\"fill: none; stroke: #1f77b4; stroke-width: 1.5; stroke-linecap: square\"/>\n   </g>\n   <g id=\"line2d_53\">\n    <path d=\"M 49.633125 50.323682 \nL 69.163125 84.519956 \nL 88.693125 106.769911 \nL 108.223125 113.665007 \n\" clip-path=\"url(#p9518cf8a77)\" style=\"fill: none; stroke-dasharray: 5.55,2.4; stroke-dashoffset: 0; stroke: #ff7f0e; stroke-width: 1.5\"/>\n   </g>\n   <g id=\"line2d_54\">\n    <path d=\"M 49.633125 40.431488 \nL 69.163125 30.29025 \nL 88.693125 24.035671 \nL 108.223125 20.949207 \n\" clip-path=\"url(#p9518cf8a77)\" style=\"fill: none; stroke-dasharray: 9.6,2.4,1.5,2.4; stroke-dashoffset: 0; stroke: #2ca02c; stroke-width: 1.5\"/>\n   </g>\n   <g id=\"line2d_55\">\n    <path d=\"M 34.954394 13.5 \nL 44.698573 85.777883 \nL 54.442752 102.331565 \nL 64.186931 111.207285 \nL 73.93111 116.145504 \nL 83.675289 118.932309 \nL 93.419468 122.785111 \nL 103.163647 123.936366 \nL 112.907826 126.132271 \n\" clip-path=\"url(#p9518cf8a77)\" style=\"fill: none; stroke: #1f77b4; stroke-width: 1.5; stroke-linecap: square\"/>\n   </g>\n   <g id=\"line2d_56\">\n    <path d=\"M 49.633125 50.323682 \nL 69.163125 84.519956 \nL 88.693125 106.769911 \nL 108.223125 113.665007 \n\" clip-path=\"url(#p9518cf8a77)\" style=\"fill: none; stroke-dasharray: 5.55,2.4; stroke-dashoffset: 0; stroke: #ff7f0e; stroke-width: 1.5\"/>\n   </g>\n   <g id=\"line2d_57\">\n    <path d=\"M 49.633125 40.431488 \nL 69.163125 30.29025 \nL 88.693125 24.035671 \nL 108.223125 20.949207 \n\" clip-path=\"url(#p9518cf8a77)\" style=\"fill: none; stroke-dasharray: 9.6,2.4,1.5,2.4; stroke-dashoffset: 0; stroke: #2ca02c; stroke-width: 1.5\"/>\n   </g>\n   <g id=\"line2d_58\">\n    <path d=\"M 34.954394 13.5 \nL 44.698573 85.777883 \nL 54.442752 102.331565 \nL 64.186931 111.207285 \nL 73.93111 116.145504 \nL 83.675289 118.932309 \nL 93.419468 122.785111 \nL 103.163647 123.936366 \nL 112.907826 126.132271 \nL 122.652006 128.325522 \n\" clip-path=\"url(#p9518cf8a77)\" style=\"fill: none; stroke: #1f77b4; stroke-width: 1.5; stroke-linecap: square\"/>\n   </g>\n   <g id=\"line2d_59\">\n    <path d=\"M 49.633125 50.323682 \nL 69.163125 84.519956 \nL 88.693125 106.769911 \nL 108.223125 113.665007 \n\" clip-path=\"url(#p9518cf8a77)\" style=\"fill: none; stroke-dasharray: 5.55,2.4; stroke-dashoffset: 0; stroke: #ff7f0e; stroke-width: 1.5\"/>\n   </g>\n   <g id=\"line2d_60\">\n    <path d=\"M 49.633125 40.431488 \nL 69.163125 30.29025 \nL 88.693125 24.035671 \nL 108.223125 20.949207 \n\" clip-path=\"url(#p9518cf8a77)\" style=\"fill: none; stroke-dasharray: 9.6,2.4,1.5,2.4; stroke-dashoffset: 0; stroke: #2ca02c; stroke-width: 1.5\"/>\n   </g>\n   <g id=\"line2d_61\">\n    <path d=\"M 34.954394 13.5 \nL 44.698573 85.777883 \nL 54.442752 102.331565 \nL 64.186931 111.207285 \nL 73.93111 116.145504 \nL 83.675289 118.932309 \nL 93.419468 122.785111 \nL 103.163647 123.936366 \nL 112.907826 126.132271 \nL 122.652006 128.325522 \n\" clip-path=\"url(#p9518cf8a77)\" style=\"fill: none; stroke: #1f77b4; stroke-width: 1.5; stroke-linecap: square\"/>\n   </g>\n   <g id=\"line2d_62\">\n    <path d=\"M 49.633125 50.323682 \nL 69.163125 84.519956 \nL 88.693125 106.769911 \nL 108.223125 113.665007 \nL 127.753125 121.617459 \n\" clip-path=\"url(#p9518cf8a77)\" style=\"fill: none; stroke-dasharray: 5.55,2.4; stroke-dashoffset: 0; stroke: #ff7f0e; stroke-width: 1.5\"/>\n   </g>\n   <g id=\"line2d_63\">\n    <path d=\"M 49.633125 40.431488 \nL 69.163125 30.29025 \nL 88.693125 24.035671 \nL 108.223125 20.949207 \n\" clip-path=\"url(#p9518cf8a77)\" style=\"fill: none; stroke-dasharray: 9.6,2.4,1.5,2.4; stroke-dashoffset: 0; stroke: #2ca02c; stroke-width: 1.5\"/>\n   </g>\n   <g id=\"line2d_64\">\n    <path d=\"M 34.954394 13.5 \nL 44.698573 85.777883 \nL 54.442752 102.331565 \nL 64.186931 111.207285 \nL 73.93111 116.145504 \nL 83.675289 118.932309 \nL 93.419468 122.785111 \nL 103.163647 123.936366 \nL 112.907826 126.132271 \nL 122.652006 128.325522 \n\" clip-path=\"url(#p9518cf8a77)\" style=\"fill: none; stroke: #1f77b4; stroke-width: 1.5; stroke-linecap: square\"/>\n   </g>\n   <g id=\"line2d_65\">\n    <path d=\"M 49.633125 50.323682 \nL 69.163125 84.519956 \nL 88.693125 106.769911 \nL 108.223125 113.665007 \nL 127.753125 121.617459 \n\" clip-path=\"url(#p9518cf8a77)\" style=\"fill: none; stroke-dasharray: 5.55,2.4; stroke-dashoffset: 0; stroke: #ff7f0e; stroke-width: 1.5\"/>\n   </g>\n   <g id=\"line2d_66\">\n    <path d=\"M 49.633125 40.431488 \nL 69.163125 30.29025 \nL 88.693125 24.035671 \nL 108.223125 20.949207 \nL 127.753125 18.09137 \n\" clip-path=\"url(#p9518cf8a77)\" style=\"fill: none; stroke-dasharray: 9.6,2.4,1.5,2.4; stroke-dashoffset: 0; stroke: #2ca02c; stroke-width: 1.5\"/>\n   </g>\n   <g id=\"line2d_67\">\n    <path d=\"M 34.954394 13.5 \nL 44.698573 85.777883 \nL 54.442752 102.331565 \nL 64.186931 111.207285 \nL 73.93111 116.145504 \nL 83.675289 118.932309 \nL 93.419468 122.785111 \nL 103.163647 123.936366 \nL 112.907826 126.132271 \nL 122.652006 128.325522 \nL 132.396185 131.041671 \n\" clip-path=\"url(#p9518cf8a77)\" style=\"fill: none; stroke: #1f77b4; stroke-width: 1.5; stroke-linecap: square\"/>\n   </g>\n   <g id=\"line2d_68\">\n    <path d=\"M 49.633125 50.323682 \nL 69.163125 84.519956 \nL 88.693125 106.769911 \nL 108.223125 113.665007 \nL 127.753125 121.617459 \n\" clip-path=\"url(#p9518cf8a77)\" style=\"fill: none; stroke-dasharray: 5.55,2.4; stroke-dashoffset: 0; stroke: #ff7f0e; stroke-width: 1.5\"/>\n   </g>\n   <g id=\"line2d_69\">\n    <path d=\"M 49.633125 40.431488 \nL 69.163125 30.29025 \nL 88.693125 24.035671 \nL 108.223125 20.949207 \nL 127.753125 18.09137 \n\" clip-path=\"url(#p9518cf8a77)\" style=\"fill: none; stroke-dasharray: 9.6,2.4,1.5,2.4; stroke-dashoffset: 0; stroke: #2ca02c; stroke-width: 1.5\"/>\n   </g>\n   <g id=\"line2d_70\">\n    <path d=\"M 34.954394 13.5 \nL 44.698573 85.777883 \nL 54.442752 102.331565 \nL 64.186931 111.207285 \nL 73.93111 116.145504 \nL 83.675289 118.932309 \nL 93.419468 122.785111 \nL 103.163647 123.936366 \nL 112.907826 126.132271 \nL 122.652006 128.325522 \nL 132.396185 131.041671 \nL 142.140364 129.986566 \n\" clip-path=\"url(#p9518cf8a77)\" style=\"fill: none; stroke: #1f77b4; stroke-width: 1.5; stroke-linecap: square\"/>\n   </g>\n   <g id=\"line2d_71\">\n    <path d=\"M 49.633125 50.323682 \nL 69.163125 84.519956 \nL 88.693125 106.769911 \nL 108.223125 113.665007 \nL 127.753125 121.617459 \n\" clip-path=\"url(#p9518cf8a77)\" style=\"fill: none; stroke-dasharray: 5.55,2.4; stroke-dashoffset: 0; stroke: #ff7f0e; stroke-width: 1.5\"/>\n   </g>\n   <g id=\"line2d_72\">\n    <path d=\"M 49.633125 40.431488 \nL 69.163125 30.29025 \nL 88.693125 24.035671 \nL 108.223125 20.949207 \nL 127.753125 18.09137 \n\" clip-path=\"url(#p9518cf8a77)\" style=\"fill: none; stroke-dasharray: 9.6,2.4,1.5,2.4; stroke-dashoffset: 0; stroke: #2ca02c; stroke-width: 1.5\"/>\n   </g>\n   <g id=\"line2d_73\">\n    <path d=\"M 34.954394 13.5 \nL 44.698573 85.777883 \nL 54.442752 102.331565 \nL 64.186931 111.207285 \nL 73.93111 116.145504 \nL 83.675289 118.932309 \nL 93.419468 122.785111 \nL 103.163647 123.936366 \nL 112.907826 126.132271 \nL 122.652006 128.325522 \nL 132.396185 131.041671 \nL 142.140364 129.986566 \n\" clip-path=\"url(#p9518cf8a77)\" style=\"fill: none; stroke: #1f77b4; stroke-width: 1.5; stroke-linecap: square\"/>\n   </g>\n   <g id=\"line2d_74\">\n    <path d=\"M 49.633125 50.323682 \nL 69.163125 84.519956 \nL 88.693125 106.769911 \nL 108.223125 113.665007 \nL 127.753125 121.617459 \nL 147.283125 98.426156 \n\" clip-path=\"url(#p9518cf8a77)\" style=\"fill: none; stroke-dasharray: 5.55,2.4; stroke-dashoffset: 0; stroke: #ff7f0e; stroke-width: 1.5\"/>\n   </g>\n   <g id=\"line2d_75\">\n    <path d=\"M 49.633125 40.431488 \nL 69.163125 30.29025 \nL 88.693125 24.035671 \nL 108.223125 20.949207 \nL 127.753125 18.09137 \n\" clip-path=\"url(#p9518cf8a77)\" style=\"fill: none; stroke-dasharray: 9.6,2.4,1.5,2.4; stroke-dashoffset: 0; stroke: #2ca02c; stroke-width: 1.5\"/>\n   </g>\n   <g id=\"line2d_76\">\n    <path d=\"M 34.954394 13.5 \nL 44.698573 85.777883 \nL 54.442752 102.331565 \nL 64.186931 111.207285 \nL 73.93111 116.145504 \nL 83.675289 118.932309 \nL 93.419468 122.785111 \nL 103.163647 123.936366 \nL 112.907826 126.132271 \nL 122.652006 128.325522 \nL 132.396185 131.041671 \nL 142.140364 129.986566 \n\" clip-path=\"url(#p9518cf8a77)\" style=\"fill: none; stroke: #1f77b4; stroke-width: 1.5; stroke-linecap: square\"/>\n   </g>\n   <g id=\"line2d_77\">\n    <path d=\"M 49.633125 50.323682 \nL 69.163125 84.519956 \nL 88.693125 106.769911 \nL 108.223125 113.665007 \nL 127.753125 121.617459 \nL 147.283125 98.426156 \n\" clip-path=\"url(#p9518cf8a77)\" style=\"fill: none; stroke-dasharray: 5.55,2.4; stroke-dashoffset: 0; stroke: #ff7f0e; stroke-width: 1.5\"/>\n   </g>\n   <g id=\"line2d_78\">\n    <path d=\"M 49.633125 40.431488 \nL 69.163125 30.29025 \nL 88.693125 24.035671 \nL 108.223125 20.949207 \nL 127.753125 18.09137 \nL 147.283125 24.052001 \n\" clip-path=\"url(#p9518cf8a77)\" style=\"fill: none; stroke-dasharray: 9.6,2.4,1.5,2.4; stroke-dashoffset: 0; stroke: #2ca02c; stroke-width: 1.5\"/>\n   </g>\n   <g id=\"line2d_79\">\n    <path d=\"M 34.954394 13.5 \nL 44.698573 85.777883 \nL 54.442752 102.331565 \nL 64.186931 111.207285 \nL 73.93111 116.145504 \nL 83.675289 118.932309 \nL 93.419468 122.785111 \nL 103.163647 123.936366 \nL 112.907826 126.132271 \nL 122.652006 128.325522 \nL 132.396185 131.041671 \nL 142.140364 129.986566 \nL 151.884543 133.696231 \n\" clip-path=\"url(#p9518cf8a77)\" style=\"fill: none; stroke: #1f77b4; stroke-width: 1.5; stroke-linecap: square\"/>\n   </g>\n   <g id=\"line2d_80\">\n    <path d=\"M 49.633125 50.323682 \nL 69.163125 84.519956 \nL 88.693125 106.769911 \nL 108.223125 113.665007 \nL 127.753125 121.617459 \nL 147.283125 98.426156 \n\" clip-path=\"url(#p9518cf8a77)\" style=\"fill: none; stroke-dasharray: 5.55,2.4; stroke-dashoffset: 0; stroke: #ff7f0e; stroke-width: 1.5\"/>\n   </g>\n   <g id=\"line2d_81\">\n    <path d=\"M 49.633125 40.431488 \nL 69.163125 30.29025 \nL 88.693125 24.035671 \nL 108.223125 20.949207 \nL 127.753125 18.09137 \nL 147.283125 24.052001 \n\" clip-path=\"url(#p9518cf8a77)\" style=\"fill: none; stroke-dasharray: 9.6,2.4,1.5,2.4; stroke-dashoffset: 0; stroke: #2ca02c; stroke-width: 1.5\"/>\n   </g>\n   <g id=\"line2d_82\">\n    <path d=\"M 34.954394 13.5 \nL 44.698573 85.777883 \nL 54.442752 102.331565 \nL 64.186931 111.207285 \nL 73.93111 116.145504 \nL 83.675289 118.932309 \nL 93.419468 122.785111 \nL 103.163647 123.936366 \nL 112.907826 126.132271 \nL 122.652006 128.325522 \nL 132.396185 131.041671 \nL 142.140364 129.986566 \nL 151.884543 133.696231 \nL 161.628722 132.892349 \n\" clip-path=\"url(#p9518cf8a77)\" style=\"fill: none; stroke: #1f77b4; stroke-width: 1.5; stroke-linecap: square\"/>\n   </g>\n   <g id=\"line2d_83\">\n    <path d=\"M 49.633125 50.323682 \nL 69.163125 84.519956 \nL 88.693125 106.769911 \nL 108.223125 113.665007 \nL 127.753125 121.617459 \nL 147.283125 98.426156 \n\" clip-path=\"url(#p9518cf8a77)\" style=\"fill: none; stroke-dasharray: 5.55,2.4; stroke-dashoffset: 0; stroke: #ff7f0e; stroke-width: 1.5\"/>\n   </g>\n   <g id=\"line2d_84\">\n    <path d=\"M 49.633125 40.431488 \nL 69.163125 30.29025 \nL 88.693125 24.035671 \nL 108.223125 20.949207 \nL 127.753125 18.09137 \nL 147.283125 24.052001 \n\" clip-path=\"url(#p9518cf8a77)\" style=\"fill: none; stroke-dasharray: 9.6,2.4,1.5,2.4; stroke-dashoffset: 0; stroke: #2ca02c; stroke-width: 1.5\"/>\n   </g>\n   <g id=\"line2d_85\">\n    <path d=\"M 34.954394 13.5 \nL 44.698573 85.777883 \nL 54.442752 102.331565 \nL 64.186931 111.207285 \nL 73.93111 116.145504 \nL 83.675289 118.932309 \nL 93.419468 122.785111 \nL 103.163647 123.936366 \nL 112.907826 126.132271 \nL 122.652006 128.325522 \nL 132.396185 131.041671 \nL 142.140364 129.986566 \nL 151.884543 133.696231 \nL 161.628722 132.892349 \n\" clip-path=\"url(#p9518cf8a77)\" style=\"fill: none; stroke: #1f77b4; stroke-width: 1.5; stroke-linecap: square\"/>\n   </g>\n   <g id=\"line2d_86\">\n    <path d=\"M 49.633125 50.323682 \nL 69.163125 84.519956 \nL 88.693125 106.769911 \nL 108.223125 113.665007 \nL 127.753125 121.617459 \nL 147.283125 98.426156 \nL 166.813125 124.686436 \n\" clip-path=\"url(#p9518cf8a77)\" style=\"fill: none; stroke-dasharray: 5.55,2.4; stroke-dashoffset: 0; stroke: #ff7f0e; stroke-width: 1.5\"/>\n   </g>\n   <g id=\"line2d_87\">\n    <path d=\"M 49.633125 40.431488 \nL 69.163125 30.29025 \nL 88.693125 24.035671 \nL 108.223125 20.949207 \nL 127.753125 18.09137 \nL 147.283125 24.052001 \n\" clip-path=\"url(#p9518cf8a77)\" style=\"fill: none; stroke-dasharray: 9.6,2.4,1.5,2.4; stroke-dashoffset: 0; stroke: #2ca02c; stroke-width: 1.5\"/>\n   </g>\n   <g id=\"line2d_88\">\n    <path d=\"M 34.954394 13.5 \nL 44.698573 85.777883 \nL 54.442752 102.331565 \nL 64.186931 111.207285 \nL 73.93111 116.145504 \nL 83.675289 118.932309 \nL 93.419468 122.785111 \nL 103.163647 123.936366 \nL 112.907826 126.132271 \nL 122.652006 128.325522 \nL 132.396185 131.041671 \nL 142.140364 129.986566 \nL 151.884543 133.696231 \nL 161.628722 132.892349 \n\" clip-path=\"url(#p9518cf8a77)\" style=\"fill: none; stroke: #1f77b4; stroke-width: 1.5; stroke-linecap: square\"/>\n   </g>\n   <g id=\"line2d_89\">\n    <path d=\"M 49.633125 50.323682 \nL 69.163125 84.519956 \nL 88.693125 106.769911 \nL 108.223125 113.665007 \nL 127.753125 121.617459 \nL 147.283125 98.426156 \nL 166.813125 124.686436 \n\" clip-path=\"url(#p9518cf8a77)\" style=\"fill: none; stroke-dasharray: 5.55,2.4; stroke-dashoffset: 0; stroke: #ff7f0e; stroke-width: 1.5\"/>\n   </g>\n   <g id=\"line2d_90\">\n    <path d=\"M 49.633125 40.431488 \nL 69.163125 30.29025 \nL 88.693125 24.035671 \nL 108.223125 20.949207 \nL 127.753125 18.09137 \nL 147.283125 24.052001 \nL 166.813125 16.866583 \n\" clip-path=\"url(#p9518cf8a77)\" style=\"fill: none; stroke-dasharray: 9.6,2.4,1.5,2.4; stroke-dashoffset: 0; stroke: #2ca02c; stroke-width: 1.5\"/>\n   </g>\n   <g id=\"line2d_91\">\n    <path d=\"M 34.954394 13.5 \nL 44.698573 85.777883 \nL 54.442752 102.331565 \nL 64.186931 111.207285 \nL 73.93111 116.145504 \nL 83.675289 118.932309 \nL 93.419468 122.785111 \nL 103.163647 123.936366 \nL 112.907826 126.132271 \nL 122.652006 128.325522 \nL 132.396185 131.041671 \nL 142.140364 129.986566 \nL 151.884543 133.696231 \nL 161.628722 132.892349 \nL 171.372901 136.322054 \n\" clip-path=\"url(#p9518cf8a77)\" style=\"fill: none; stroke: #1f77b4; stroke-width: 1.5; stroke-linecap: square\"/>\n   </g>\n   <g id=\"line2d_92\">\n    <path d=\"M 49.633125 50.323682 \nL 69.163125 84.519956 \nL 88.693125 106.769911 \nL 108.223125 113.665007 \nL 127.753125 121.617459 \nL 147.283125 98.426156 \nL 166.813125 124.686436 \n\" clip-path=\"url(#p9518cf8a77)\" style=\"fill: none; stroke-dasharray: 5.55,2.4; stroke-dashoffset: 0; stroke: #ff7f0e; stroke-width: 1.5\"/>\n   </g>\n   <g id=\"line2d_93\">\n    <path d=\"M 49.633125 40.431488 \nL 69.163125 30.29025 \nL 88.693125 24.035671 \nL 108.223125 20.949207 \nL 127.753125 18.09137 \nL 147.283125 24.052001 \nL 166.813125 16.866583 \n\" clip-path=\"url(#p9518cf8a77)\" style=\"fill: none; stroke-dasharray: 9.6,2.4,1.5,2.4; stroke-dashoffset: 0; stroke: #2ca02c; stroke-width: 1.5\"/>\n   </g>\n   <g id=\"line2d_94\">\n    <path d=\"M 34.954394 13.5 \nL 44.698573 85.777883 \nL 54.442752 102.331565 \nL 64.186931 111.207285 \nL 73.93111 116.145504 \nL 83.675289 118.932309 \nL 93.419468 122.785111 \nL 103.163647 123.936366 \nL 112.907826 126.132271 \nL 122.652006 128.325522 \nL 132.396185 131.041671 \nL 142.140364 129.986566 \nL 151.884543 133.696231 \nL 161.628722 132.892349 \nL 171.372901 136.322054 \nL 181.11708 134.986683 \n\" clip-path=\"url(#p9518cf8a77)\" style=\"fill: none; stroke: #1f77b4; stroke-width: 1.5; stroke-linecap: square\"/>\n   </g>\n   <g id=\"line2d_95\">\n    <path d=\"M 49.633125 50.323682 \nL 69.163125 84.519956 \nL 88.693125 106.769911 \nL 108.223125 113.665007 \nL 127.753125 121.617459 \nL 147.283125 98.426156 \nL 166.813125 124.686436 \n\" clip-path=\"url(#p9518cf8a77)\" style=\"fill: none; stroke-dasharray: 5.55,2.4; stroke-dashoffset: 0; stroke: #ff7f0e; stroke-width: 1.5\"/>\n   </g>\n   <g id=\"line2d_96\">\n    <path d=\"M 49.633125 40.431488 \nL 69.163125 30.29025 \nL 88.693125 24.035671 \nL 108.223125 20.949207 \nL 127.753125 18.09137 \nL 147.283125 24.052001 \nL 166.813125 16.866583 \n\" clip-path=\"url(#p9518cf8a77)\" style=\"fill: none; stroke-dasharray: 9.6,2.4,1.5,2.4; stroke-dashoffset: 0; stroke: #2ca02c; stroke-width: 1.5\"/>\n   </g>\n   <g id=\"line2d_97\">\n    <path d=\"M 34.954394 13.5 \nL 44.698573 85.777883 \nL 54.442752 102.331565 \nL 64.186931 111.207285 \nL 73.93111 116.145504 \nL 83.675289 118.932309 \nL 93.419468 122.785111 \nL 103.163647 123.936366 \nL 112.907826 126.132271 \nL 122.652006 128.325522 \nL 132.396185 131.041671 \nL 142.140364 129.986566 \nL 151.884543 133.696231 \nL 161.628722 132.892349 \nL 171.372901 136.322054 \nL 181.11708 134.986683 \n\" clip-path=\"url(#p9518cf8a77)\" style=\"fill: none; stroke: #1f77b4; stroke-width: 1.5; stroke-linecap: square\"/>\n   </g>\n   <g id=\"line2d_98\">\n    <path d=\"M 49.633125 50.323682 \nL 69.163125 84.519956 \nL 88.693125 106.769911 \nL 108.223125 113.665007 \nL 127.753125 121.617459 \nL 147.283125 98.426156 \nL 166.813125 124.686436 \nL 186.343125 122.934744 \n\" clip-path=\"url(#p9518cf8a77)\" style=\"fill: none; stroke-dasharray: 5.55,2.4; stroke-dashoffset: 0; stroke: #ff7f0e; stroke-width: 1.5\"/>\n   </g>\n   <g id=\"line2d_99\">\n    <path d=\"M 49.633125 40.431488 \nL 69.163125 30.29025 \nL 88.693125 24.035671 \nL 108.223125 20.949207 \nL 127.753125 18.09137 \nL 147.283125 24.052001 \nL 166.813125 16.866583 \n\" clip-path=\"url(#p9518cf8a77)\" style=\"fill: none; stroke-dasharray: 9.6,2.4,1.5,2.4; stroke-dashoffset: 0; stroke: #2ca02c; stroke-width: 1.5\"/>\n   </g>\n   <g id=\"line2d_100\">\n    <path d=\"M 34.954394 13.5 \nL 44.698573 85.777883 \nL 54.442752 102.331565 \nL 64.186931 111.207285 \nL 73.93111 116.145504 \nL 83.675289 118.932309 \nL 93.419468 122.785111 \nL 103.163647 123.936366 \nL 112.907826 126.132271 \nL 122.652006 128.325522 \nL 132.396185 131.041671 \nL 142.140364 129.986566 \nL 151.884543 133.696231 \nL 161.628722 132.892349 \nL 171.372901 136.322054 \nL 181.11708 134.986683 \n\" clip-path=\"url(#p9518cf8a77)\" style=\"fill: none; stroke: #1f77b4; stroke-width: 1.5; stroke-linecap: square\"/>\n   </g>\n   <g id=\"line2d_101\">\n    <path d=\"M 49.633125 50.323682 \nL 69.163125 84.519956 \nL 88.693125 106.769911 \nL 108.223125 113.665007 \nL 127.753125 121.617459 \nL 147.283125 98.426156 \nL 166.813125 124.686436 \nL 186.343125 122.934744 \n\" clip-path=\"url(#p9518cf8a77)\" style=\"fill: none; stroke-dasharray: 5.55,2.4; stroke-dashoffset: 0; stroke: #ff7f0e; stroke-width: 1.5\"/>\n   </g>\n   <g id=\"line2d_102\">\n    <path d=\"M 49.633125 40.431488 \nL 69.163125 30.29025 \nL 88.693125 24.035671 \nL 108.223125 20.949207 \nL 127.753125 18.09137 \nL 147.283125 24.052001 \nL 166.813125 16.866583 \nL 186.343125 16.882913 \n\" clip-path=\"url(#p9518cf8a77)\" style=\"fill: none; stroke-dasharray: 9.6,2.4,1.5,2.4; stroke-dashoffset: 0; stroke: #2ca02c; stroke-width: 1.5\"/>\n   </g>\n   <g id=\"line2d_103\">\n    <path d=\"M 34.954394 13.5 \nL 44.698573 85.777883 \nL 54.442752 102.331565 \nL 64.186931 111.207285 \nL 73.93111 116.145504 \nL 83.675289 118.932309 \nL 93.419468 122.785111 \nL 103.163647 123.936366 \nL 112.907826 126.132271 \nL 122.652006 128.325522 \nL 132.396185 131.041671 \nL 142.140364 129.986566 \nL 151.884543 133.696231 \nL 161.628722 132.892349 \nL 171.372901 136.322054 \nL 181.11708 134.986683 \nL 190.861259 138.214043 \n\" clip-path=\"url(#p9518cf8a77)\" style=\"fill: none; stroke: #1f77b4; stroke-width: 1.5; stroke-linecap: square\"/>\n   </g>\n   <g id=\"line2d_104\">\n    <path d=\"M 49.633125 50.323682 \nL 69.163125 84.519956 \nL 88.693125 106.769911 \nL 108.223125 113.665007 \nL 127.753125 121.617459 \nL 147.283125 98.426156 \nL 166.813125 124.686436 \nL 186.343125 122.934744 \n\" clip-path=\"url(#p9518cf8a77)\" style=\"fill: none; stroke-dasharray: 5.55,2.4; stroke-dashoffset: 0; stroke: #ff7f0e; stroke-width: 1.5\"/>\n   </g>\n   <g id=\"line2d_105\">\n    <path d=\"M 49.633125 40.431488 \nL 69.163125 30.29025 \nL 88.693125 24.035671 \nL 108.223125 20.949207 \nL 127.753125 18.09137 \nL 147.283125 24.052001 \nL 166.813125 16.866583 \nL 186.343125 16.882913 \n\" clip-path=\"url(#p9518cf8a77)\" style=\"fill: none; stroke-dasharray: 9.6,2.4,1.5,2.4; stroke-dashoffset: 0; stroke: #2ca02c; stroke-width: 1.5\"/>\n   </g>\n   <g id=\"line2d_106\">\n    <path d=\"M 34.954394 13.5 \nL 44.698573 85.777883 \nL 54.442752 102.331565 \nL 64.186931 111.207285 \nL 73.93111 116.145504 \nL 83.675289 118.932309 \nL 93.419468 122.785111 \nL 103.163647 123.936366 \nL 112.907826 126.132271 \nL 122.652006 128.325522 \nL 132.396185 131.041671 \nL 142.140364 129.986566 \nL 151.884543 133.696231 \nL 161.628722 132.892349 \nL 171.372901 136.322054 \nL 181.11708 134.986683 \nL 190.861259 138.214043 \nL 200.605438 136.268572 \n\" clip-path=\"url(#p9518cf8a77)\" style=\"fill: none; stroke: #1f77b4; stroke-width: 1.5; stroke-linecap: square\"/>\n   </g>\n   <g id=\"line2d_107\">\n    <path d=\"M 49.633125 50.323682 \nL 69.163125 84.519956 \nL 88.693125 106.769911 \nL 108.223125 113.665007 \nL 127.753125 121.617459 \nL 147.283125 98.426156 \nL 166.813125 124.686436 \nL 186.343125 122.934744 \n\" clip-path=\"url(#p9518cf8a77)\" style=\"fill: none; stroke-dasharray: 5.55,2.4; stroke-dashoffset: 0; stroke: #ff7f0e; stroke-width: 1.5\"/>\n   </g>\n   <g id=\"line2d_108\">\n    <path d=\"M 49.633125 40.431488 \nL 69.163125 30.29025 \nL 88.693125 24.035671 \nL 108.223125 20.949207 \nL 127.753125 18.09137 \nL 147.283125 24.052001 \nL 166.813125 16.866583 \nL 186.343125 16.882913 \n\" clip-path=\"url(#p9518cf8a77)\" style=\"fill: none; stroke-dasharray: 9.6,2.4,1.5,2.4; stroke-dashoffset: 0; stroke: #2ca02c; stroke-width: 1.5\"/>\n   </g>\n   <g id=\"line2d_109\">\n    <path d=\"M 34.954394 13.5 \nL 44.698573 85.777883 \nL 54.442752 102.331565 \nL 64.186931 111.207285 \nL 73.93111 116.145504 \nL 83.675289 118.932309 \nL 93.419468 122.785111 \nL 103.163647 123.936366 \nL 112.907826 126.132271 \nL 122.652006 128.325522 \nL 132.396185 131.041671 \nL 142.140364 129.986566 \nL 151.884543 133.696231 \nL 161.628722 132.892349 \nL 171.372901 136.322054 \nL 181.11708 134.986683 \nL 190.861259 138.214043 \nL 200.605438 136.268572 \n\" clip-path=\"url(#p9518cf8a77)\" style=\"fill: none; stroke: #1f77b4; stroke-width: 1.5; stroke-linecap: square\"/>\n   </g>\n   <g id=\"line2d_110\">\n    <path d=\"M 49.633125 50.323682 \nL 69.163125 84.519956 \nL 88.693125 106.769911 \nL 108.223125 113.665007 \nL 127.753125 121.617459 \nL 147.283125 98.426156 \nL 166.813125 124.686436 \nL 186.343125 122.934744 \nL 205.873125 122.193913 \n\" clip-path=\"url(#p9518cf8a77)\" style=\"fill: none; stroke-dasharray: 5.55,2.4; stroke-dashoffset: 0; stroke: #ff7f0e; stroke-width: 1.5\"/>\n   </g>\n   <g id=\"line2d_111\">\n    <path d=\"M 49.633125 40.431488 \nL 69.163125 30.29025 \nL 88.693125 24.035671 \nL 108.223125 20.949207 \nL 127.753125 18.09137 \nL 147.283125 24.052001 \nL 166.813125 16.866583 \nL 186.343125 16.882913 \n\" clip-path=\"url(#p9518cf8a77)\" style=\"fill: none; stroke-dasharray: 9.6,2.4,1.5,2.4; stroke-dashoffset: 0; stroke: #2ca02c; stroke-width: 1.5\"/>\n   </g>\n   <g id=\"line2d_112\">\n    <path d=\"M 34.954394 13.5 \nL 44.698573 85.777883 \nL 54.442752 102.331565 \nL 64.186931 111.207285 \nL 73.93111 116.145504 \nL 83.675289 118.932309 \nL 93.419468 122.785111 \nL 103.163647 123.936366 \nL 112.907826 126.132271 \nL 122.652006 128.325522 \nL 132.396185 131.041671 \nL 142.140364 129.986566 \nL 151.884543 133.696231 \nL 161.628722 132.892349 \nL 171.372901 136.322054 \nL 181.11708 134.986683 \nL 190.861259 138.214043 \nL 200.605438 136.268572 \n\" clip-path=\"url(#p9518cf8a77)\" style=\"fill: none; stroke: #1f77b4; stroke-width: 1.5; stroke-linecap: square\"/>\n   </g>\n   <g id=\"line2d_113\">\n    <path d=\"M 49.633125 50.323682 \nL 69.163125 84.519956 \nL 88.693125 106.769911 \nL 108.223125 113.665007 \nL 127.753125 121.617459 \nL 147.283125 98.426156 \nL 166.813125 124.686436 \nL 186.343125 122.934744 \nL 205.873125 122.193913 \n\" clip-path=\"url(#p9518cf8a77)\" style=\"fill: none; stroke-dasharray: 5.55,2.4; stroke-dashoffset: 0; stroke: #ff7f0e; stroke-width: 1.5\"/>\n   </g>\n   <g id=\"line2d_114\">\n    <path d=\"M 49.633125 40.431488 \nL 69.163125 30.29025 \nL 88.693125 24.035671 \nL 108.223125 20.949207 \nL 127.753125 18.09137 \nL 147.283125 24.052001 \nL 166.813125 16.866583 \nL 186.343125 16.882913 \nL 205.873125 18.385319 \n\" clip-path=\"url(#p9518cf8a77)\" style=\"fill: none; stroke-dasharray: 9.6,2.4,1.5,2.4; stroke-dashoffset: 0; stroke: #2ca02c; stroke-width: 1.5\"/>\n   </g>\n   <g id=\"line2d_115\">\n    <path d=\"M 34.954394 13.5 \nL 44.698573 85.777883 \nL 54.442752 102.331565 \nL 64.186931 111.207285 \nL 73.93111 116.145504 \nL 83.675289 118.932309 \nL 93.419468 122.785111 \nL 103.163647 123.936366 \nL 112.907826 126.132271 \nL 122.652006 128.325522 \nL 132.396185 131.041671 \nL 142.140364 129.986566 \nL 151.884543 133.696231 \nL 161.628722 132.892349 \nL 171.372901 136.322054 \nL 181.11708 134.986683 \nL 190.861259 138.214043 \nL 200.605438 136.268572 \nL 210.349618 139.5 \n\" clip-path=\"url(#p9518cf8a77)\" style=\"fill: none; stroke: #1f77b4; stroke-width: 1.5; stroke-linecap: square\"/>\n   </g>\n   <g id=\"line2d_116\">\n    <path d=\"M 49.633125 50.323682 \nL 69.163125 84.519956 \nL 88.693125 106.769911 \nL 108.223125 113.665007 \nL 127.753125 121.617459 \nL 147.283125 98.426156 \nL 166.813125 124.686436 \nL 186.343125 122.934744 \nL 205.873125 122.193913 \n\" clip-path=\"url(#p9518cf8a77)\" style=\"fill: none; stroke-dasharray: 5.55,2.4; stroke-dashoffset: 0; stroke: #ff7f0e; stroke-width: 1.5\"/>\n   </g>\n   <g id=\"line2d_117\">\n    <path d=\"M 49.633125 40.431488 \nL 69.163125 30.29025 \nL 88.693125 24.035671 \nL 108.223125 20.949207 \nL 127.753125 18.09137 \nL 147.283125 24.052001 \nL 166.813125 16.866583 \nL 186.343125 16.882913 \nL 205.873125 18.385319 \n\" clip-path=\"url(#p9518cf8a77)\" style=\"fill: none; stroke-dasharray: 9.6,2.4,1.5,2.4; stroke-dashoffset: 0; stroke: #2ca02c; stroke-width: 1.5\"/>\n   </g>\n   <g id=\"line2d_118\">\n    <path d=\"M 34.954394 13.5 \nL 44.698573 85.777883 \nL 54.442752 102.331565 \nL 64.186931 111.207285 \nL 73.93111 116.145504 \nL 83.675289 118.932309 \nL 93.419468 122.785111 \nL 103.163647 123.936366 \nL 112.907826 126.132271 \nL 122.652006 128.325522 \nL 132.396185 131.041671 \nL 142.140364 129.986566 \nL 151.884543 133.696231 \nL 161.628722 132.892349 \nL 171.372901 136.322054 \nL 181.11708 134.986683 \nL 190.861259 138.214043 \nL 200.605438 136.268572 \nL 210.349618 139.5 \nL 220.093797 138.826815 \n\" clip-path=\"url(#p9518cf8a77)\" style=\"fill: none; stroke: #1f77b4; stroke-width: 1.5; stroke-linecap: square\"/>\n   </g>\n   <g id=\"line2d_119\">\n    <path d=\"M 49.633125 50.323682 \nL 69.163125 84.519956 \nL 88.693125 106.769911 \nL 108.223125 113.665007 \nL 127.753125 121.617459 \nL 147.283125 98.426156 \nL 166.813125 124.686436 \nL 186.343125 122.934744 \nL 205.873125 122.193913 \n\" clip-path=\"url(#p9518cf8a77)\" style=\"fill: none; stroke-dasharray: 5.55,2.4; stroke-dashoffset: 0; stroke: #ff7f0e; stroke-width: 1.5\"/>\n   </g>\n   <g id=\"line2d_120\">\n    <path d=\"M 49.633125 40.431488 \nL 69.163125 30.29025 \nL 88.693125 24.035671 \nL 108.223125 20.949207 \nL 127.753125 18.09137 \nL 147.283125 24.052001 \nL 166.813125 16.866583 \nL 186.343125 16.882913 \nL 205.873125 18.385319 \n\" clip-path=\"url(#p9518cf8a77)\" style=\"fill: none; stroke-dasharray: 9.6,2.4,1.5,2.4; stroke-dashoffset: 0; stroke: #2ca02c; stroke-width: 1.5\"/>\n   </g>\n   <g id=\"line2d_121\">\n    <path d=\"M 34.954394 13.5 \nL 44.698573 85.777883 \nL 54.442752 102.331565 \nL 64.186931 111.207285 \nL 73.93111 116.145504 \nL 83.675289 118.932309 \nL 93.419468 122.785111 \nL 103.163647 123.936366 \nL 112.907826 126.132271 \nL 122.652006 128.325522 \nL 132.396185 131.041671 \nL 142.140364 129.986566 \nL 151.884543 133.696231 \nL 161.628722 132.892349 \nL 171.372901 136.322054 \nL 181.11708 134.986683 \nL 190.861259 138.214043 \nL 200.605438 136.268572 \nL 210.349618 139.5 \nL 220.093797 138.826815 \n\" clip-path=\"url(#p9518cf8a77)\" style=\"fill: none; stroke: #1f77b4; stroke-width: 1.5; stroke-linecap: square\"/>\n   </g>\n   <g id=\"line2d_122\">\n    <path d=\"M 49.633125 50.323682 \nL 69.163125 84.519956 \nL 88.693125 106.769911 \nL 108.223125 113.665007 \nL 127.753125 121.617459 \nL 147.283125 98.426156 \nL 166.813125 124.686436 \nL 186.343125 122.934744 \nL 205.873125 122.193913 \nL 225.403125 115.204914 \n\" clip-path=\"url(#p9518cf8a77)\" style=\"fill: none; stroke-dasharray: 5.55,2.4; stroke-dashoffset: 0; stroke: #ff7f0e; stroke-width: 1.5\"/>\n   </g>\n   <g id=\"line2d_123\">\n    <path d=\"M 49.633125 40.431488 \nL 69.163125 30.29025 \nL 88.693125 24.035671 \nL 108.223125 20.949207 \nL 127.753125 18.09137 \nL 147.283125 24.052001 \nL 166.813125 16.866583 \nL 186.343125 16.882913 \nL 205.873125 18.385319 \n\" clip-path=\"url(#p9518cf8a77)\" style=\"fill: none; stroke-dasharray: 9.6,2.4,1.5,2.4; stroke-dashoffset: 0; stroke: #2ca02c; stroke-width: 1.5\"/>\n   </g>\n   <g id=\"line2d_124\">\n    <path d=\"M 34.954394 13.5 \nL 44.698573 85.777883 \nL 54.442752 102.331565 \nL 64.186931 111.207285 \nL 73.93111 116.145504 \nL 83.675289 118.932309 \nL 93.419468 122.785111 \nL 103.163647 123.936366 \nL 112.907826 126.132271 \nL 122.652006 128.325522 \nL 132.396185 131.041671 \nL 142.140364 129.986566 \nL 151.884543 133.696231 \nL 161.628722 132.892349 \nL 171.372901 136.322054 \nL 181.11708 134.986683 \nL 190.861259 138.214043 \nL 200.605438 136.268572 \nL 210.349618 139.5 \nL 220.093797 138.826815 \n\" clip-path=\"url(#p9518cf8a77)\" style=\"fill: none; stroke: #1f77b4; stroke-width: 1.5; stroke-linecap: square\"/>\n   </g>\n   <g id=\"line2d_125\">\n    <path d=\"M 49.633125 50.323682 \nL 69.163125 84.519956 \nL 88.693125 106.769911 \nL 108.223125 113.665007 \nL 127.753125 121.617459 \nL 147.283125 98.426156 \nL 166.813125 124.686436 \nL 186.343125 122.934744 \nL 205.873125 122.193913 \nL 225.403125 115.204914 \n\" clip-path=\"url(#p9518cf8a77)\" style=\"fill: none; stroke-dasharray: 5.55,2.4; stroke-dashoffset: 0; stroke: #ff7f0e; stroke-width: 1.5\"/>\n   </g>\n   <g id=\"line2d_126\">\n    <path d=\"M 49.633125 40.431488 \nL 69.163125 30.29025 \nL 88.693125 24.035671 \nL 108.223125 20.949207 \nL 127.753125 18.09137 \nL 147.283125 24.052001 \nL 166.813125 16.866583 \nL 186.343125 16.882913 \nL 205.873125 18.385319 \nL 225.403125 20.165343 \n\" clip-path=\"url(#p9518cf8a77)\" style=\"fill: none; stroke-dasharray: 9.6,2.4,1.5,2.4; stroke-dashoffset: 0; stroke: #2ca02c; stroke-width: 1.5\"/>\n   </g>\n   <g id=\"patch_3\">\n    <path d=\"M 30.103125 145.8 \nL 30.103125 7.2 \n\" style=\"fill: none; stroke: #000000; stroke-width: 0.8; stroke-linejoin: miter; stroke-linecap: square\"/>\n   </g>\n   <g id=\"patch_4\">\n    <path d=\"M 225.403125 145.8 \nL 225.403125 7.2 \n\" style=\"fill: none; stroke: #000000; stroke-width: 0.8; stroke-linejoin: miter; stroke-linecap: square\"/>\n   </g>\n   <g id=\"patch_5\">\n    <path d=\"M 30.103125 145.8 \nL 225.403125 145.8 \n\" style=\"fill: none; stroke: #000000; stroke-width: 0.8; stroke-linejoin: miter; stroke-linecap: square\"/>\n   </g>\n   <g id=\"patch_6\">\n    <path d=\"M 30.103125 7.2 \nL 225.403125 7.2 \n\" style=\"fill: none; stroke: #000000; stroke-width: 0.8; stroke-linejoin: miter; stroke-linecap: square\"/>\n   </g>\n   <g id=\"legend_1\">\n    <g id=\"patch_7\">\n     <path d=\"M 138.8125 100.434375 \nL 218.403125 100.434375 \nQ 220.403125 100.434375 220.403125 98.434375 \nL 220.403125 54.565625 \nQ 220.403125 52.565625 218.403125 52.565625 \nL 138.8125 52.565625 \nQ 136.8125 52.565625 136.8125 54.565625 \nL 136.8125 98.434375 \nQ 136.8125 100.434375 138.8125 100.434375 \nz\n\" style=\"fill: #ffffff; opacity: 0.8; stroke: #cccccc; stroke-linejoin: miter\"/>\n    </g>\n    <g id=\"line2d_127\">\n     <path d=\"M 140.8125 60.664063 \nL 150.8125 60.664063 \nL 160.8125 60.664063 \n\" style=\"fill: none; stroke: #1f77b4; stroke-width: 1.5; stroke-linecap: square\"/>\n    </g>\n    <g id=\"text_12\">\n     <!-- train_loss -->\n     <g transform=\"translate(168.8125 64.164063) scale(0.1 -0.1)\">\n      <defs>\n       <path id=\"DejaVuSans-74\" d=\"M 1172 4494 \nL 1172 3500 \nL 2356 3500 \nL 2356 3053 \nL 1172 3053 \nL 1172 1153 \nQ 1172 725 1289 603 \nQ 1406 481 1766 481 \nL 2356 481 \nL 2356 0 \nL 1766 0 \nQ 1100 0 847 248 \nQ 594 497 594 1153 \nL 594 3053 \nL 172 3053 \nL 172 3500 \nL 594 3500 \nL 594 4494 \nL 1172 4494 \nz\n\" transform=\"scale(0.015625)\"/>\n       <path id=\"DejaVuSans-72\" d=\"M 2631 2963 \nQ 2534 3019 2420 3045 \nQ 2306 3072 2169 3072 \nQ 1681 3072 1420 2755 \nQ 1159 2438 1159 1844 \nL 1159 0 \nL 581 0 \nL 581 3500 \nL 1159 3500 \nL 1159 2956 \nQ 1341 3275 1631 3429 \nQ 1922 3584 2338 3584 \nQ 2397 3584 2469 3576 \nQ 2541 3569 2628 3553 \nL 2631 2963 \nz\n\" transform=\"scale(0.015625)\"/>\n       <path id=\"DejaVuSans-61\" d=\"M 2194 1759 \nQ 1497 1759 1228 1600 \nQ 959 1441 959 1056 \nQ 959 750 1161 570 \nQ 1363 391 1709 391 \nQ 2188 391 2477 730 \nQ 2766 1069 2766 1631 \nL 2766 1759 \nL 2194 1759 \nz\nM 3341 1997 \nL 3341 0 \nL 2766 0 \nL 2766 531 \nQ 2569 213 2275 61 \nQ 1981 -91 1556 -91 \nQ 1019 -91 701 211 \nQ 384 513 384 1019 \nQ 384 1609 779 1909 \nQ 1175 2209 1959 2209 \nL 2766 2209 \nL 2766 2266 \nQ 2766 2663 2505 2880 \nQ 2244 3097 1772 3097 \nQ 1472 3097 1187 3025 \nQ 903 2953 641 2809 \nL 641 3341 \nQ 956 3463 1253 3523 \nQ 1550 3584 1831 3584 \nQ 2591 3584 2966 3190 \nQ 3341 2797 3341 1997 \nz\n\" transform=\"scale(0.015625)\"/>\n       <path id=\"DejaVuSans-69\" d=\"M 603 3500 \nL 1178 3500 \nL 1178 0 \nL 603 0 \nL 603 3500 \nz\nM 603 4863 \nL 1178 4863 \nL 1178 4134 \nL 603 4134 \nL 603 4863 \nz\n\" transform=\"scale(0.015625)\"/>\n       <path id=\"DejaVuSans-6e\" d=\"M 3513 2113 \nL 3513 0 \nL 2938 0 \nL 2938 2094 \nQ 2938 2591 2744 2837 \nQ 2550 3084 2163 3084 \nQ 1697 3084 1428 2787 \nQ 1159 2491 1159 1978 \nL 1159 0 \nL 581 0 \nL 581 3500 \nL 1159 3500 \nL 1159 2956 \nQ 1366 3272 1645 3428 \nQ 1925 3584 2291 3584 \nQ 2894 3584 3203 3211 \nQ 3513 2838 3513 2113 \nz\n\" transform=\"scale(0.015625)\"/>\n       <path id=\"DejaVuSans-5f\" d=\"M 3263 -1063 \nL 3263 -1509 \nL -63 -1509 \nL -63 -1063 \nL 3263 -1063 \nz\n\" transform=\"scale(0.015625)\"/>\n       <path id=\"DejaVuSans-6c\" d=\"M 603 4863 \nL 1178 4863 \nL 1178 0 \nL 603 0 \nL 603 4863 \nz\n\" transform=\"scale(0.015625)\"/>\n       <path id=\"DejaVuSans-73\" d=\"M 2834 3397 \nL 2834 2853 \nQ 2591 2978 2328 3040 \nQ 2066 3103 1784 3103 \nQ 1356 3103 1142 2972 \nQ 928 2841 928 2578 \nQ 928 2378 1081 2264 \nQ 1234 2150 1697 2047 \nL 1894 2003 \nQ 2506 1872 2764 1633 \nQ 3022 1394 3022 966 \nQ 3022 478 2636 193 \nQ 2250 -91 1575 -91 \nQ 1294 -91 989 -36 \nQ 684 19 347 128 \nL 347 722 \nQ 666 556 975 473 \nQ 1284 391 1588 391 \nQ 1994 391 2212 530 \nQ 2431 669 2431 922 \nQ 2431 1156 2273 1281 \nQ 2116 1406 1581 1522 \nL 1381 1569 \nQ 847 1681 609 1914 \nQ 372 2147 372 2553 \nQ 372 3047 722 3315 \nQ 1072 3584 1716 3584 \nQ 2034 3584 2315 3537 \nQ 2597 3491 2834 3397 \nz\n\" transform=\"scale(0.015625)\"/>\n      </defs>\n      <use xlink:href=\"#DejaVuSans-74\"/>\n      <use xlink:href=\"#DejaVuSans-72\" x=\"39.208984\"/>\n      <use xlink:href=\"#DejaVuSans-61\" x=\"80.322266\"/>\n      <use xlink:href=\"#DejaVuSans-69\" x=\"141.601562\"/>\n      <use xlink:href=\"#DejaVuSans-6e\" x=\"169.384766\"/>\n      <use xlink:href=\"#DejaVuSans-5f\" x=\"232.763672\"/>\n      <use xlink:href=\"#DejaVuSans-6c\" x=\"282.763672\"/>\n      <use xlink:href=\"#DejaVuSans-6f\" x=\"310.546875\"/>\n      <use xlink:href=\"#DejaVuSans-73\" x=\"371.728516\"/>\n      <use xlink:href=\"#DejaVuSans-73\" x=\"423.828125\"/>\n     </g>\n    </g>\n    <g id=\"line2d_128\">\n     <path d=\"M 140.8125 75.620313 \nL 150.8125 75.620313 \nL 160.8125 75.620313 \n\" style=\"fill: none; stroke-dasharray: 5.55,2.4; stroke-dashoffset: 0; stroke: #ff7f0e; stroke-width: 1.5\"/>\n    </g>\n    <g id=\"text_13\">\n     <!-- val_loss -->\n     <g transform=\"translate(168.8125 79.120313) scale(0.1 -0.1)\">\n      <defs>\n       <path id=\"DejaVuSans-76\" d=\"M 191 3500 \nL 800 3500 \nL 1894 563 \nL 2988 3500 \nL 3597 3500 \nL 2284 0 \nL 1503 0 \nL 191 3500 \nz\n\" transform=\"scale(0.015625)\"/>\n      </defs>\n      <use xlink:href=\"#DejaVuSans-76\"/>\n      <use xlink:href=\"#DejaVuSans-61\" x=\"59.179688\"/>\n      <use xlink:href=\"#DejaVuSans-6c\" x=\"120.458984\"/>\n      <use xlink:href=\"#DejaVuSans-5f\" x=\"148.242188\"/>\n      <use xlink:href=\"#DejaVuSans-6c\" x=\"198.242188\"/>\n      <use xlink:href=\"#DejaVuSans-6f\" x=\"226.025391\"/>\n      <use xlink:href=\"#DejaVuSans-73\" x=\"287.207031\"/>\n      <use xlink:href=\"#DejaVuSans-73\" x=\"339.306641\"/>\n     </g>\n    </g>\n    <g id=\"line2d_129\">\n     <path d=\"M 140.8125 90.576563 \nL 150.8125 90.576563 \nL 160.8125 90.576563 \n\" style=\"fill: none; stroke-dasharray: 9.6,2.4,1.5,2.4; stroke-dashoffset: 0; stroke: #2ca02c; stroke-width: 1.5\"/>\n    </g>\n    <g id=\"text_14\">\n     <!-- val_acc -->\n     <g transform=\"translate(168.8125 94.076563) scale(0.1 -0.1)\">\n      <use xlink:href=\"#DejaVuSans-76\"/>\n      <use xlink:href=\"#DejaVuSans-61\" x=\"59.179688\"/>\n      <use xlink:href=\"#DejaVuSans-6c\" x=\"120.458984\"/>\n      <use xlink:href=\"#DejaVuSans-5f\" x=\"148.242188\"/>\n      <use xlink:href=\"#DejaVuSans-61\" x=\"198.242188\"/>\n      <use xlink:href=\"#DejaVuSans-63\" x=\"259.521484\"/>\n      <use xlink:href=\"#DejaVuSans-63\" x=\"314.501953\"/>\n     </g>\n    </g>\n   </g>\n  </g>\n </g>\n <defs>\n  <clipPath id=\"p9518cf8a77\">\n   <rect x=\"30.103125\" y=\"7.2\" width=\"195.3\" height=\"138.6\"/>\n  </clipPath>\n </defs>\n</svg>\n"
          },
          "metadata": {}
        }
      ],
      "source": [
        "model = RegNetX32(lr=0.05)\n",
        "trainer = d2l.Trainer(max_epochs=10, num_gpus=1)\n",
        "data = d2l.FashionMNIST(batch_size=128, resize=(96, 96))\n",
        "trainer.fit(model, data)"
      ]
    },
    {
      "cell_type": "markdown",
      "metadata": {
        "origin_pos": 29,
        "id": "f60c0281"
      },
      "source": [
        "## Discussion\n",
        "\n",
        "With desirable inductive biases (assumptions or preferences) like locality and translation invariance (:numref:`sec_why-conv`)\n",
        "for vision, CNNs have been the dominant architectures in this area. This remained the case from LeNet up until Transformers (:numref:`sec_transformer`) :cite:`Dosovitskiy.Beyer.Kolesnikov.ea.2021,touvron2021training` started surpassing CNNs in terms of accuracy. While much of the recent progress in terms of vision Transformers *can* be backported into CNNs :cite:`liu2022convnet`, it is only possible at a higher computational cost. Just as importantly, recent hardware optimizations (NVIDIA Ampere and Hopper) have only widened the gap in favor of Transformers.\n",
        "\n",
        "It is worth noting that Transformers have a significantly lower degree of inductive bias towards locality and translation invariance than CNNs. That learned structures prevailed is due, not least, to the availability of large image collections, such as LAION-400m and LAION-5B :cite:`schuhmann2022laion` with up to 5 billion images. Quite surprisingly, some of the more relevant work in this context even includes MLPs :cite:`tolstikhin2021mlp`.\n",
        "\n",
        "In sum, vision Transformers (:numref:`sec_vision-transformer`) by now lead in terms of\n",
        "state-of-the-art performance in large-scale image classification,\n",
        "showing that *scalability trumps inductive biases* :cite:`Dosovitskiy.Beyer.Kolesnikov.ea.2021`.\n",
        "This includes pretraining large-scale Transformers (:numref:`sec_large-pretraining-transformers`) with multi-head self-attention (:numref:`sec_multihead-attention`). We invite the readers to dive into these chapters for a much more detailed discussion.\n",
        "\n",
        "## Exercises\n",
        "\n",
        "1. Increase the number of stages to four. Can you design a deeper RegNetX that performs better?\n",
        "1. De-ResNeXt-ify RegNets by replacing the ResNeXt block with the ResNet block. How does your new model perform?\n",
        "1. Implement multiple instances of a \"VioNet\" family by *violating* the design principles of RegNetX. How do they perform? Which of ($d_i$, $c_i$, $g_i$, $b_i$) is the most important factor?\n",
        "1. Your goal is to design the \"perfect\" MLP. Can you use the design principles introduced above to find good architectures? Is it possible to extrapolate from small to large networks?\n"
      ]
    },
    {
      "cell_type": "markdown",
      "source": [
        "##Jawaban"
      ],
      "metadata": {
        "id": "B_SI5GCfgenE"
      }
    },
    {
      "cell_type": "markdown",
      "source": [
        "###1."
      ],
      "metadata": {
        "id": "9FztbwCAcV-H"
      }
    },
    {
      "cell_type": "code",
      "source": [
        "import torch\n",
        "import torch.nn as nn\n",
        "import torch.nn.functional as F\n",
        "\n",
        "class RegNetX(nn.Module):\n",
        "    def __init__(self, stages, widths, depths, num_classes=1000):\n",
        "        super(RegNetX, self).__init__()\n",
        "        self.stages = nn.ModuleList()\n",
        "        self.conv_layers = []\n",
        "\n",
        "        for i in range(len(stages)):\n",
        "            stage = nn.Sequential(\n",
        "                nn.Conv2d(in_channels=3 if i == 0 else widths[i-1],\n",
        "                          out_channels=widths[i],\n",
        "                          kernel_size=3,\n",
        "                          stride=1,\n",
        "                          padding=1),\n",
        "                nn.BatchNorm2d(widths[i]),\n",
        "                nn.ReLU(inplace=True)\n",
        "            )\n",
        "            self.stages.append(stage)\n",
        "\n",
        "            for _ in range(depths[i]):\n",
        "                self.stages.append(\n",
        "                    nn.Conv2d(widths[i], widths[i], kernel_size=3, stride=1, padding=1)\n",
        "                )\n",
        "                self.stages.append(nn.BatchNorm2d(widths[i]))\n",
        "                self.stages.append(nn.ReLU(inplace=True))\n",
        "\n",
        "        self.classifier = nn.Linear(widths[-1], num_classes)\n",
        "\n",
        "    def forward(self, x):\n",
        "        for stage in self.stages:\n",
        "            x = stage(x)\n",
        "        x = F.adaptive_avg_pool2d(x, 1).view(x.size(0), -1)\n",
        "        return self.classifier(x)\n",
        "\n",
        "# Example of usage\n",
        "num_classes = 1000\n",
        "stages = 4\n",
        "widths = [64, 128, 256, 512]\n",
        "depths = [2, 2, 2, 2]  # Adding more layers\n",
        "\n",
        "model = RegNetX(stages, widths, depths, num_classes)\n"
      ],
      "metadata": {
        "id": "YAFTXEjrlXTl"
      },
      "execution_count": null,
      "outputs": []
    },
    {
      "cell_type": "markdown",
      "source": [
        "###2."
      ],
      "metadata": {
        "id": "P4I8waHRcV-I"
      }
    },
    {
      "cell_type": "code",
      "source": [
        "class ResNetBlock(nn.Module):\n",
        "    def __init__(self, in_channels, out_channels):\n",
        "        super(ResNetBlock, self).__init__()\n",
        "        self.conv1 = nn.Conv2d(in_channels, out_channels, kernel_size=3, padding=1)\n",
        "        self.bn1 = nn.BatchNorm2d(out_channels)\n",
        "        self.relu = nn.ReLU(inplace=True)\n",
        "        self.conv2 = nn.Conv2d(out_channels, out_channels, kernel_size=3, padding=1)\n",
        "        self.bn2 = nn.BatchNorm2d(out_channels)\n",
        "\n",
        "        # Shortcut connection\n",
        "        self.shortcut = nn.Sequential()\n",
        "        if in_channels != out_channels:\n",
        "            self.shortcut = nn.Conv2d(in_channels, out_channels, kernel_size=1, stride=1)\n",
        "\n",
        "    def forward(self, x):\n",
        "        out = self.conv1(x)\n",
        "        out = self.bn1(out)\n",
        "        out = self.relu(out)\n",
        "        out = self.conv2(out)\n",
        "        out = self.bn2(out)\n",
        "        out += self.shortcut(x)  # Adding the shortcut\n",
        "        out = self.relu(out)\n",
        "        return out\n",
        "\n",
        "class DeResNetRegNet(nn.Module):\n",
        "    def __init__(self, depths, num_classes=1000):\n",
        "        super(DeResNetRegNet, self).__init__()\n",
        "        self.conv1 = nn.Conv2d(3, 64, kernel_size=7, stride=2, padding=3)\n",
        "        self.bn1 = nn.BatchNorm2d(64)\n",
        "        self.relu = nn.ReLU(inplace=True)\n",
        "        self.maxpool = nn.MaxPool2d(kernel_size=3, stride=2, padding=1)\n",
        "\n",
        "        self.layers = []\n",
        "        for depth in depths:\n",
        "            self.layers.append(ResNetBlock(64, 64))\n",
        "            for _ in range(depth - 1):\n",
        "                self.layers.append(ResNetBlock(64, 64))\n",
        "\n",
        "        self.layers = nn.Sequential(*self.layers)\n",
        "        self.classifier = nn.Linear(64, num_classes)\n",
        "\n",
        "    def forward(self, x):\n",
        "        x = self.conv1(x)\n",
        "        x = self.bn1(x)\n",
        "        x = self.relu(x)\n",
        "        x = self.maxpool(x)\n",
        "        x = self.layers(x)\n",
        "        x = F.adaptive_avg_pool2d(x, 1).view(x.size(0), -1)\n",
        "        return self.classifier(x)\n",
        "\n",
        "# Example usage\n",
        "depths = [2, 2, 2, 2]  # ResNet depth for each stage\n",
        "de_resnet_model = DeResNetRegNet(depths, num_classes)\n"
      ],
      "metadata": {
        "id": "h1200mnDlYWN"
      },
      "execution_count": 17,
      "outputs": []
    },
    {
      "cell_type": "markdown",
      "source": [
        "###3."
      ],
      "metadata": {
        "id": "vTYo2RC2cV-I"
      }
    },
    {
      "cell_type": "code",
      "source": [
        "class VioNet(nn.Module):\n",
        "    def __init__(self, num_classes=1000):\n",
        "        super(VioNet, self).__init__()\n",
        "        self.conv1 = nn.Conv2d(3, 128, kernel_size=3, padding=1)  # Increased width\n",
        "        self.layers = nn.Sequential(\n",
        "            ResNetBlock(128, 256),  # Randomized block dimensions\n",
        "            ResNetBlock(256, 256),\n",
        "            ResNetBlock(256, 256),\n",
        "        )\n",
        "        self.classifier = nn.Linear(256, num_classes)\n",
        "\n",
        "    def forward(self, x):\n",
        "        x = self.conv1(x)\n",
        "        x = self.layers(x)\n",
        "        x = F.adaptive_avg_pool2d(x, 1).view(x.size(0), -1)\n",
        "        return self.classifier(x)\n",
        "\n",
        "# Example usage\n",
        "vionet_model = VioNet(num_classes)\n",
        "vionet_model"
      ],
      "metadata": {
        "colab": {
          "base_uri": "https://localhost:8080/"
        },
        "id": "TWPHFqVLlrod",
        "outputId": "5110322b-d019-402d-ee85-3c39eb82c685"
      },
      "execution_count": 19,
      "outputs": [
        {
          "output_type": "execute_result",
          "data": {
            "text/plain": [
              "VioNet(\n",
              "  (conv1): Conv2d(3, 128, kernel_size=(3, 3), stride=(1, 1), padding=(1, 1))\n",
              "  (layers): Sequential(\n",
              "    (0): ResNetBlock(\n",
              "      (conv1): Conv2d(128, 256, kernel_size=(3, 3), stride=(1, 1), padding=(1, 1))\n",
              "      (bn1): BatchNorm2d(256, eps=1e-05, momentum=0.1, affine=True, track_running_stats=True)\n",
              "      (relu): ReLU(inplace=True)\n",
              "      (conv2): Conv2d(256, 256, kernel_size=(3, 3), stride=(1, 1), padding=(1, 1))\n",
              "      (bn2): BatchNorm2d(256, eps=1e-05, momentum=0.1, affine=True, track_running_stats=True)\n",
              "      (shortcut): Conv2d(128, 256, kernel_size=(1, 1), stride=(1, 1))\n",
              "    )\n",
              "    (1): ResNetBlock(\n",
              "      (conv1): Conv2d(256, 256, kernel_size=(3, 3), stride=(1, 1), padding=(1, 1))\n",
              "      (bn1): BatchNorm2d(256, eps=1e-05, momentum=0.1, affine=True, track_running_stats=True)\n",
              "      (relu): ReLU(inplace=True)\n",
              "      (conv2): Conv2d(256, 256, kernel_size=(3, 3), stride=(1, 1), padding=(1, 1))\n",
              "      (bn2): BatchNorm2d(256, eps=1e-05, momentum=0.1, affine=True, track_running_stats=True)\n",
              "      (shortcut): Sequential()\n",
              "    )\n",
              "    (2): ResNetBlock(\n",
              "      (conv1): Conv2d(256, 256, kernel_size=(3, 3), stride=(1, 1), padding=(1, 1))\n",
              "      (bn1): BatchNorm2d(256, eps=1e-05, momentum=0.1, affine=True, track_running_stats=True)\n",
              "      (relu): ReLU(inplace=True)\n",
              "      (conv2): Conv2d(256, 256, kernel_size=(3, 3), stride=(1, 1), padding=(1, 1))\n",
              "      (bn2): BatchNorm2d(256, eps=1e-05, momentum=0.1, affine=True, track_running_stats=True)\n",
              "      (shortcut): Sequential()\n",
              "    )\n",
              "  )\n",
              "  (classifier): Linear(in_features=256, out_features=1000, bias=True)\n",
              ")"
            ]
          },
          "metadata": {},
          "execution_count": 19
        }
      ]
    },
    {
      "cell_type": "markdown",
      "source": [
        "###4."
      ],
      "metadata": {
        "id": "3ew2MIuWcV-I"
      }
    },
    {
      "cell_type": "code",
      "source": [
        "class PerfectMLP(nn.Module):\n",
        "    def __init__(self, input_size, hidden_sizes, num_classes):\n",
        "        super(PerfectMLP, self).__init__()\n",
        "        layers = []\n",
        "\n",
        "        for hidden_size in hidden_sizes:\n",
        "            layers.append(nn.Linear(input_size, hidden_size))\n",
        "            layers.append(nn.ReLU(inplace=True))\n",
        "            input_size = hidden_size  # Update input size for the next layer\n",
        "\n",
        "        layers.append(nn.Linear(input_size, num_classes))\n",
        "        self.network = nn.Sequential(*layers)\n",
        "\n",
        "    def forward(self, x):\n",
        "        return self.network(x)\n",
        "\n",
        "# Example usage\n",
        "input_size = 784  # e.g., for MNIST\n",
        "hidden_sizes = [256, 128, 64]  # Decreasing sizes\n",
        "num_classes = 10  # e.g., for MNIST classification\n",
        "\n",
        "perfect_mlp_model = PerfectMLP(input_size, hidden_sizes, num_classes)\n",
        "perfect_mlp_model"
      ],
      "metadata": {
        "colab": {
          "base_uri": "https://localhost:8080/"
        },
        "id": "MIWwxMABlzsr",
        "outputId": "bfe249ad-1bff-4f64-8e4c-0a4c3c19d3f7"
      },
      "execution_count": 20,
      "outputs": [
        {
          "output_type": "execute_result",
          "data": {
            "text/plain": [
              "PerfectMLP(\n",
              "  (network): Sequential(\n",
              "    (0): Linear(in_features=784, out_features=256, bias=True)\n",
              "    (1): ReLU(inplace=True)\n",
              "    (2): Linear(in_features=256, out_features=128, bias=True)\n",
              "    (3): ReLU(inplace=True)\n",
              "    (4): Linear(in_features=128, out_features=64, bias=True)\n",
              "    (5): ReLU(inplace=True)\n",
              "    (6): Linear(in_features=64, out_features=10, bias=True)\n",
              "  )\n",
              ")"
            ]
          },
          "metadata": {},
          "execution_count": 20
        }
      ]
    }
  ],
  "metadata": {
    "colab": {
      "provenance": [],
      "gpuType": "T4",
      "authorship_tag": "ABX9TyNdwaYnmeAwU5hGxUSkvUil",
      "include_colab_link": true
    },
    "kernelspec": {
      "display_name": "Python 3",
      "name": "python3"
    },
    "language_info": {
      "name": "python"
    },
    "accelerator": "GPU"
  },
  "nbformat": 4,
  "nbformat_minor": 0
}